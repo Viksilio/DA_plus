{
  "cells": [
    {
      "cell_type": "markdown",
      "metadata": {
        "id": "view-in-github",
        "colab_type": "text"
      },
      "source": [
        "<a href=\"https://colab.research.google.com/github/Viksilio/DA_plus/blob/master/Tariffs_analyse_of_mobile_operator.ipynb\" target=\"_parent\"><img src=\"https://colab.research.google.com/assets/colab-badge.svg\" alt=\"Open In Colab\"/></a>"
      ]
    },
    {
      "cell_type": "markdown",
      "source": [
        "## Анализ тарифов мобильного оператора\n",
        "\n",
        "### Описание проекта\n",
        "\n",
        "Вы аналитик компании «Мегалайн» — федерального оператора сотовой связи. Клиентам предлагают два тарифных плана: «Смарт» и «Ультра». Чтобы скорректировать рекламный бюджет, коммерческий департамент хочет понять, какой тариф приносит больше денег.\n",
        "Вам предстоит сделать предварительный анализ тарифов на небольшой выборке клиентов. В вашем распоряжении данные 500 пользователей «Мегалайна»: кто они, откуда, каким тарифом пользуются, сколько звонков и сообщений каждый отправил за 2018-й год. Нужно проанализировать поведение клиентов и сделать вывод — какой тариф лучше.\n",
        "\n",
        "### Описание тарифов\n",
        "**Тариф «Смарт»**  \n",
        "1. Ежемесячная плата: 550 рублей\n",
        "2. Включено 500 минут разговора, 50 сообщений и 15 Гб интернет-трафика\n",
        "3. Стоимость услуг сверх тарифного пакета:\n",
        "  * Минута разговора — 3 рубля. Количество использованных минут и мегабайтов «Мегалайн» всегда округляет вверх. Если пользователь проговорил всего 1 секунду, в тарифе засчитывается целая минута.\n",
        "  * Сообщение — 3 рубля.\n",
        "  * 1 Гб интернет-трафика — 200 рублей.  \n",
        "\n",
        "**Тариф «Ультра»**  \n",
        "1. Ежемесячная плата: 1950 рублей\n",
        "2. Включено 3000 минут разговора, 1000 сообщений и 30 Гб интернет-трафика\n",
        "3. Стоимость услуг сверх тарифного пакета:\n",
        "  * Минута разговора — 1 рубль;\n",
        "  * Сообщение — 1 рубль;\n",
        "  * 1 Гб интернет-трафика: 150 рублей."
      ],
      "metadata": {
        "id": "xspQb99RBT4H"
      }
    },
    {
      "cell_type": "markdown",
      "source": [
        "## Описание данных \n",
        "\n",
        "#### Таблица users — информация о пользователях:\n",
        "* user_id — уникальный идентификатор пользователя\n",
        "* first_name — имя пользователя\n",
        "* last_name — фамилия пользователя\n",
        "* age — возраст пользователя (годы)\n",
        "* reg_date — дата подключения тарифа (день, месяц, год)\n",
        "* churn_date — дата прекращения пользования тарифом (если значение пропущено, значит, тариф ещё действовал на момент выгрузки данных)\n",
        "* city — город проживания пользователя\n",
        "* tarif — название тарифного плана\n",
        "#### Таблица calls — информация о звонках:\n",
        "* id — уникальный номер звонка\n",
        "* call_date — дата звонка\n",
        "* duration — длительность звонка в минутах\n",
        "* user_id — идентификатор пользователя, сделавшего звонок\n",
        "#### Таблица messages — информация о сообщениях:\n",
        "* id — уникальный номер звонка\n",
        "* message_date — дата сообщения\n",
        "* user_id — идентификатор пользователя, отправившего сообщение\n",
        "#### Таблица internet — информация об интернет-сессиях:\n",
        "* id — уникальный номер сессии\n",
        "* mb_used — объём потраченного за сессию интернет-трафика (в мегабайтах)\n",
        "* session_date — дата интернет-сессии\n",
        "* user_id — идентификатор пользователя\n",
        "#### Таблица tariffs — информация о тарифах:\n",
        "* tariff_name — название тарифа\n",
        "* rub_monthly_fee — ежемесячная абонентская плата в рублях\n",
        "* minutes_included — количество минут разговора в месяц, включённых в абонентскую плату\n",
        "* messages_included — количество сообщений в месяц, включённых в абонентскую плату\n",
        "* mb_per_month_included — объём интернет-трафика, включённого в абонентскую плату (в мегабайтах)\n",
        "* rub_per_minute — стоимость минуты разговора сверх тарифного пакета (например, если в тарифе 100 минут разговора в месяц, то со 101 минуты будет взиматься плата)\n",
        "* rub_per_message — стоимость отправки сообщения сверх тарифного пакета\n",
        "* rub_per_gb — стоимость дополнительного гигабайта интернет-трафика сверх тарифного пакета (1 гигабайт = 1024 мегабайта)"
      ],
      "metadata": {
        "id": "xNVx6UWmDBRw"
      }
    },
    {
      "cell_type": "code",
      "execution_count": 1,
      "metadata": {
        "deletable": false,
        "id": "RrVHWePG_oCV"
      },
      "outputs": [],
      "source": [
        "import pandas as pd"
      ]
    },
    {
      "cell_type": "code",
      "execution_count": 2,
      "metadata": {
        "deletable": false,
        "id": "lPo8_mWg_oCZ"
      },
      "outputs": [],
      "source": [
        "calls = pd.read_csv('https://code.s3.yandex.net/datasets/calls.csv')"
      ]
    },
    {
      "cell_type": "code",
      "execution_count": null,
      "metadata": {
        "deletable": false,
        "id": "mdxHj-qz_oCZ",
        "outputId": "cd5dd791-782b-4614-f823-3b40d090a879"
      },
      "outputs": [
        {
          "data": {
            "text/html": [
              "<div>\n",
              "<style scoped>\n",
              "    .dataframe tbody tr th:only-of-type {\n",
              "        vertical-align: middle;\n",
              "    }\n",
              "\n",
              "    .dataframe tbody tr th {\n",
              "        vertical-align: top;\n",
              "    }\n",
              "\n",
              "    .dataframe thead th {\n",
              "        text-align: right;\n",
              "    }\n",
              "</style>\n",
              "<table border=\"1\" class=\"dataframe\">\n",
              "  <thead>\n",
              "    <tr style=\"text-align: right;\">\n",
              "      <th></th>\n",
              "      <th>id</th>\n",
              "      <th>call_date</th>\n",
              "      <th>duration</th>\n",
              "      <th>user_id</th>\n",
              "    </tr>\n",
              "  </thead>\n",
              "  <tbody>\n",
              "    <tr>\n",
              "      <th>0</th>\n",
              "      <td>1000_0</td>\n",
              "      <td>2018-07-25</td>\n",
              "      <td>0.00</td>\n",
              "      <td>1000</td>\n",
              "    </tr>\n",
              "    <tr>\n",
              "      <th>1</th>\n",
              "      <td>1000_1</td>\n",
              "      <td>2018-08-17</td>\n",
              "      <td>0.00</td>\n",
              "      <td>1000</td>\n",
              "    </tr>\n",
              "    <tr>\n",
              "      <th>2</th>\n",
              "      <td>1000_2</td>\n",
              "      <td>2018-06-11</td>\n",
              "      <td>2.85</td>\n",
              "      <td>1000</td>\n",
              "    </tr>\n",
              "    <tr>\n",
              "      <th>3</th>\n",
              "      <td>1000_3</td>\n",
              "      <td>2018-09-21</td>\n",
              "      <td>13.80</td>\n",
              "      <td>1000</td>\n",
              "    </tr>\n",
              "    <tr>\n",
              "      <th>4</th>\n",
              "      <td>1000_4</td>\n",
              "      <td>2018-12-15</td>\n",
              "      <td>5.18</td>\n",
              "      <td>1000</td>\n",
              "    </tr>\n",
              "  </tbody>\n",
              "</table>\n",
              "</div>"
            ],
            "text/plain": [
              "       id   call_date  duration  user_id\n",
              "0  1000_0  2018-07-25      0.00     1000\n",
              "1  1000_1  2018-08-17      0.00     1000\n",
              "2  1000_2  2018-06-11      2.85     1000\n",
              "3  1000_3  2018-09-21     13.80     1000\n",
              "4  1000_4  2018-12-15      5.18     1000"
            ]
          },
          "execution_count": 3,
          "metadata": {},
          "output_type": "execute_result"
        }
      ],
      "source": [
        "calls.head(5)"
      ]
    },
    {
      "cell_type": "code",
      "execution_count": null,
      "metadata": {
        "deletable": false,
        "id": "wiDgaGnA_oCa",
        "outputId": "c55d1d08-65bf-408a-f60b-641e3a633dfe"
      },
      "outputs": [
        {
          "name": "stdout",
          "output_type": "stream",
          "text": [
            "<class 'pandas.core.frame.DataFrame'>\n",
            "RangeIndex: 202607 entries, 0 to 202606\n",
            "Data columns (total 4 columns):\n",
            " #   Column     Non-Null Count   Dtype  \n",
            "---  ------     --------------   -----  \n",
            " 0   id         202607 non-null  object \n",
            " 1   call_date  202607 non-null  object \n",
            " 2   duration   202607 non-null  float64\n",
            " 3   user_id    202607 non-null  int64  \n",
            "dtypes: float64(1), int64(1), object(2)\n",
            "memory usage: 6.2+ MB\n"
          ]
        }
      ],
      "source": [
        "calls.info()"
      ]
    },
    {
      "cell_type": "code",
      "execution_count": null,
      "metadata": {
        "id": "9RHlu9SfAln-",
        "outputId": "a4997d6d-c808-4c8f-9b55-5a7b2e31cf9e"
      },
      "outputs": [
        {
          "data": {
            "text/plain": [
              "array([[<AxesSubplot:title={'center':'duration'}>]], dtype=object)"
            ]
          },
          "execution_count": 5,
          "metadata": {},
          "output_type": "execute_result"
        },
        {
          "data": {
            "image/png": "[encoded data removed]",
            "text/plain": [
              "<Figure size 432x288 with 1 Axes>"
            ]
          },
          "metadata": {
            "needs_background": "light"
          },
          "output_type": "display_data"
        }
      ],
      "source": [
        "calls.hist('duration')"
      ]
    },
    {
      "cell_type": "markdown",
      "metadata": {
        "deletable": false,
        "id": "sKOklkAe_oCa"
      },
      "source": [
        "Распределение имеет форму Пуассона со смещением влево"
      ]
    },
    {
      "cell_type": "code",
      "execution_count": 3,
      "metadata": {
        "deletable": false,
        "id": "Wf_f3Vkc_oCa"
      },
      "outputs": [],
      "source": [
        "sessions = pd.read_csv('https://code.s3.yandex.net/datasets/internet.csv')"
      ]
    },
    {
      "cell_type": "code",
      "execution_count": null,
      "metadata": {
        "deletable": false,
        "id": "LsRkGeG7_oCb",
        "outputId": "262dd0d7-6f02-4562-974b-87bd3cedf7a4"
      },
      "outputs": [
        {
          "data": {
            "text/html": [
              "<div>\n",
              "<style scoped>\n",
              "    .dataframe tbody tr th:only-of-type {\n",
              "        vertical-align: middle;\n",
              "    }\n",
              "\n",
              "    .dataframe tbody tr th {\n",
              "        vertical-align: top;\n",
              "    }\n",
              "\n",
              "    .dataframe thead th {\n",
              "        text-align: right;\n",
              "    }\n",
              "</style>\n",
              "<table border=\"1\" class=\"dataframe\">\n",
              "  <thead>\n",
              "    <tr style=\"text-align: right;\">\n",
              "      <th></th>\n",
              "      <th>Unnamed: 0</th>\n",
              "      <th>id</th>\n",
              "      <th>mb_used</th>\n",
              "      <th>session_date</th>\n",
              "      <th>user_id</th>\n",
              "    </tr>\n",
              "  </thead>\n",
              "  <tbody>\n",
              "    <tr>\n",
              "      <th>0</th>\n",
              "      <td>0</td>\n",
              "      <td>1000_0</td>\n",
              "      <td>112.95</td>\n",
              "      <td>2018-11-25</td>\n",
              "      <td>1000</td>\n",
              "    </tr>\n",
              "    <tr>\n",
              "      <th>1</th>\n",
              "      <td>1</td>\n",
              "      <td>1000_1</td>\n",
              "      <td>1052.81</td>\n",
              "      <td>2018-09-07</td>\n",
              "      <td>1000</td>\n",
              "    </tr>\n",
              "    <tr>\n",
              "      <th>2</th>\n",
              "      <td>2</td>\n",
              "      <td>1000_2</td>\n",
              "      <td>1197.26</td>\n",
              "      <td>2018-06-25</td>\n",
              "      <td>1000</td>\n",
              "    </tr>\n",
              "    <tr>\n",
              "      <th>3</th>\n",
              "      <td>3</td>\n",
              "      <td>1000_3</td>\n",
              "      <td>550.27</td>\n",
              "      <td>2018-08-22</td>\n",
              "      <td>1000</td>\n",
              "    </tr>\n",
              "    <tr>\n",
              "      <th>4</th>\n",
              "      <td>4</td>\n",
              "      <td>1000_4</td>\n",
              "      <td>302.56</td>\n",
              "      <td>2018-09-24</td>\n",
              "      <td>1000</td>\n",
              "    </tr>\n",
              "  </tbody>\n",
              "</table>\n",
              "</div>"
            ],
            "text/plain": [
              "   Unnamed: 0      id  mb_used session_date  user_id\n",
              "0           0  1000_0   112.95   2018-11-25     1000\n",
              "1           1  1000_1  1052.81   2018-09-07     1000\n",
              "2           2  1000_2  1197.26   2018-06-25     1000\n",
              "3           3  1000_3   550.27   2018-08-22     1000\n",
              "4           4  1000_4   302.56   2018-09-24     1000"
            ]
          },
          "execution_count": 7,
          "metadata": {},
          "output_type": "execute_result"
        }
      ],
      "source": [
        "sessions.head(5)"
      ]
    },
    {
      "cell_type": "code",
      "execution_count": null,
      "metadata": {
        "deletable": false,
        "id": "0fLAUTTQ_oCb",
        "outputId": "e8c57f90-3540-4537-f86c-4251915f2f8c"
      },
      "outputs": [
        {
          "name": "stdout",
          "output_type": "stream",
          "text": [
            "<class 'pandas.core.frame.DataFrame'>\n",
            "RangeIndex: 149396 entries, 0 to 149395\n",
            "Data columns (total 5 columns):\n",
            " #   Column        Non-Null Count   Dtype  \n",
            "---  ------        --------------   -----  \n",
            " 0   Unnamed: 0    149396 non-null  int64  \n",
            " 1   id            149396 non-null  object \n",
            " 2   mb_used       149396 non-null  float64\n",
            " 3   session_date  149396 non-null  object \n",
            " 4   user_id       149396 non-null  int64  \n",
            "dtypes: float64(1), int64(2), object(2)\n",
            "memory usage: 5.7+ MB\n"
          ]
        }
      ],
      "source": [
        "sessions.info()"
      ]
    },
    {
      "cell_type": "code",
      "execution_count": null,
      "metadata": {
        "deletable": false,
        "id": "_uke6m2-_oCb",
        "outputId": "80aee25a-4cd2-49de-ff4b-375452d19c0f"
      },
      "outputs": [
        {
          "data": {
            "text/plain": [
              "array([[<AxesSubplot:title={'center':'mb_used'}>]], dtype=object)"
            ]
          },
          "execution_count": 9,
          "metadata": {},
          "output_type": "execute_result"
        },
        {
          "data": {
            "image/png": "[encoded data removed]",
            "text/plain": [
              "<Figure size 432x288 with 1 Axes>"
            ]
          },
          "metadata": {
            "needs_background": "light"
          },
          "output_type": "display_data"
        }
      ],
      "source": [
        "sessions.hist('mb_used')"
      ]
    },
    {
      "cell_type": "code",
      "execution_count": null,
      "metadata": {
        "deletable": false,
        "id": "UKrQhgvV_oCc"
      },
      "outputs": [],
      "source": [
        "messages = pd.read_csv('https://code.s3.yandex.net/datasets/messages.csv')"
      ]
    },
    {
      "cell_type": "code",
      "execution_count": null,
      "metadata": {
        "deletable": false,
        "id": "1_zOkvJO_oCc",
        "outputId": "c6b8be36-15e1-442d-da4f-3a8df5605a28"
      },
      "outputs": [
        {
          "data": {
            "text/html": [
              "<div>\n",
              "<style scoped>\n",
              "    .dataframe tbody tr th:only-of-type {\n",
              "        vertical-align: middle;\n",
              "    }\n",
              "\n",
              "    .dataframe tbody tr th {\n",
              "        vertical-align: top;\n",
              "    }\n",
              "\n",
              "    .dataframe thead th {\n",
              "        text-align: right;\n",
              "    }\n",
              "</style>\n",
              "<table border=\"1\" class=\"dataframe\">\n",
              "  <thead>\n",
              "    <tr style=\"text-align: right;\">\n",
              "      <th></th>\n",
              "      <th>id</th>\n",
              "      <th>message_date</th>\n",
              "      <th>user_id</th>\n",
              "    </tr>\n",
              "  </thead>\n",
              "  <tbody>\n",
              "    <tr>\n",
              "      <th>0</th>\n",
              "      <td>1000_0</td>\n",
              "      <td>2018-06-27</td>\n",
              "      <td>1000</td>\n",
              "    </tr>\n",
              "    <tr>\n",
              "      <th>1</th>\n",
              "      <td>1000_1</td>\n",
              "      <td>2018-10-08</td>\n",
              "      <td>1000</td>\n",
              "    </tr>\n",
              "    <tr>\n",
              "      <th>2</th>\n",
              "      <td>1000_2</td>\n",
              "      <td>2018-08-04</td>\n",
              "      <td>1000</td>\n",
              "    </tr>\n",
              "    <tr>\n",
              "      <th>3</th>\n",
              "      <td>1000_3</td>\n",
              "      <td>2018-06-16</td>\n",
              "      <td>1000</td>\n",
              "    </tr>\n",
              "    <tr>\n",
              "      <th>4</th>\n",
              "      <td>1000_4</td>\n",
              "      <td>2018-12-05</td>\n",
              "      <td>1000</td>\n",
              "    </tr>\n",
              "  </tbody>\n",
              "</table>\n",
              "</div>"
            ],
            "text/plain": [
              "       id message_date  user_id\n",
              "0  1000_0   2018-06-27     1000\n",
              "1  1000_1   2018-10-08     1000\n",
              "2  1000_2   2018-08-04     1000\n",
              "3  1000_3   2018-06-16     1000\n",
              "4  1000_4   2018-12-05     1000"
            ]
          },
          "execution_count": 11,
          "metadata": {},
          "output_type": "execute_result"
        }
      ],
      "source": [
        "messages.head(5)"
      ]
    },
    {
      "cell_type": "code",
      "execution_count": null,
      "metadata": {
        "deletable": false,
        "id": "wrgl0LdX_oCc",
        "outputId": "52874b7f-8be1-4f9e-f167-795aa03604dc"
      },
      "outputs": [
        {
          "name": "stdout",
          "output_type": "stream",
          "text": [
            "<class 'pandas.core.frame.DataFrame'>\n",
            "RangeIndex: 123036 entries, 0 to 123035\n",
            "Data columns (total 3 columns):\n",
            " #   Column        Non-Null Count   Dtype \n",
            "---  ------        --------------   ----- \n",
            " 0   id            123036 non-null  object\n",
            " 1   message_date  123036 non-null  object\n",
            " 2   user_id       123036 non-null  int64 \n",
            "dtypes: int64(1), object(2)\n",
            "memory usage: 2.8+ MB\n"
          ]
        }
      ],
      "source": [
        "messages.info()"
      ]
    },
    {
      "cell_type": "code",
      "execution_count": null,
      "metadata": {
        "deletable": false,
        "id": "3V2mBbx5_oCc"
      },
      "outputs": [],
      "source": [
        "tariffs = pd.read_csv('/datasets/tariffs.csv')"
      ]
    },
    {
      "cell_type": "code",
      "execution_count": null,
      "metadata": {
        "deletable": false,
        "id": "aa6cdOI9_oCd",
        "outputId": "4236ccd4-1c80-478f-9e33-06ff95274e49"
      },
      "outputs": [
        {
          "data": {
            "text/html": [
              "<div>\n",
              "<style scoped>\n",
              "    .dataframe tbody tr th:only-of-type {\n",
              "        vertical-align: middle;\n",
              "    }\n",
              "\n",
              "    .dataframe tbody tr th {\n",
              "        vertical-align: top;\n",
              "    }\n",
              "\n",
              "    .dataframe thead th {\n",
              "        text-align: right;\n",
              "    }\n",
              "</style>\n",
              "<table border=\"1\" class=\"dataframe\">\n",
              "  <thead>\n",
              "    <tr style=\"text-align: right;\">\n",
              "      <th></th>\n",
              "      <th>messages_included</th>\n",
              "      <th>mb_per_month_included</th>\n",
              "      <th>minutes_included</th>\n",
              "      <th>rub_monthly_fee</th>\n",
              "      <th>rub_per_gb</th>\n",
              "      <th>rub_per_message</th>\n",
              "      <th>rub_per_minute</th>\n",
              "      <th>tariff_name</th>\n",
              "    </tr>\n",
              "  </thead>\n",
              "  <tbody>\n",
              "    <tr>\n",
              "      <th>0</th>\n",
              "      <td>50</td>\n",
              "      <td>15360</td>\n",
              "      <td>500</td>\n",
              "      <td>550</td>\n",
              "      <td>200</td>\n",
              "      <td>3</td>\n",
              "      <td>3</td>\n",
              "      <td>smart</td>\n",
              "    </tr>\n",
              "    <tr>\n",
              "      <th>1</th>\n",
              "      <td>1000</td>\n",
              "      <td>30720</td>\n",
              "      <td>3000</td>\n",
              "      <td>1950</td>\n",
              "      <td>150</td>\n",
              "      <td>1</td>\n",
              "      <td>1</td>\n",
              "      <td>ultra</td>\n",
              "    </tr>\n",
              "  </tbody>\n",
              "</table>\n",
              "</div>"
            ],
            "text/plain": [
              "   messages_included  mb_per_month_included  minutes_included  \\\n",
              "0                 50                  15360               500   \n",
              "1               1000                  30720              3000   \n",
              "\n",
              "   rub_monthly_fee  rub_per_gb  rub_per_message  rub_per_minute tariff_name  \n",
              "0              550         200                3               3       smart  \n",
              "1             1950         150                1               1       ultra  "
            ]
          },
          "execution_count": 14,
          "metadata": {},
          "output_type": "execute_result"
        }
      ],
      "source": [
        "tariffs"
      ]
    },
    {
      "cell_type": "code",
      "execution_count": null,
      "metadata": {
        "deletable": false,
        "id": "YgK7d8XT_oCd",
        "outputId": "b258fd18-1096-4901-d042-5dd8a063ef39"
      },
      "outputs": [
        {
          "name": "stdout",
          "output_type": "stream",
          "text": [
            "<class 'pandas.core.frame.DataFrame'>\n",
            "RangeIndex: 2 entries, 0 to 1\n",
            "Data columns (total 8 columns):\n",
            " #   Column                 Non-Null Count  Dtype \n",
            "---  ------                 --------------  ----- \n",
            " 0   messages_included      2 non-null      int64 \n",
            " 1   mb_per_month_included  2 non-null      int64 \n",
            " 2   minutes_included       2 non-null      int64 \n",
            " 3   rub_monthly_fee        2 non-null      int64 \n",
            " 4   rub_per_gb             2 non-null      int64 \n",
            " 5   rub_per_message        2 non-null      int64 \n",
            " 6   rub_per_minute         2 non-null      int64 \n",
            " 7   tariff_name            2 non-null      object\n",
            "dtypes: int64(7), object(1)\n",
            "memory usage: 256.0+ bytes\n"
          ]
        }
      ],
      "source": [
        "tariffs.info()"
      ]
    },
    {
      "cell_type": "code",
      "execution_count": null,
      "metadata": {
        "deletable": false,
        "id": "v5NwQmKo_oCd"
      },
      "outputs": [],
      "source": [
        "users = pd.read_csv('https://code.s3.yandex.net/datasets/users.csv')"
      ]
    },
    {
      "cell_type": "code",
      "execution_count": null,
      "metadata": {
        "deletable": false,
        "id": "TwMOUDXV_oCe",
        "outputId": "dacb7b89-b9d2-4c72-fe9f-3a7477b28b3c"
      },
      "outputs": [
        {
          "data": {
            "text/html": [
              "<div>\n",
              "<style scoped>\n",
              "    .dataframe tbody tr th:only-of-type {\n",
              "        vertical-align: middle;\n",
              "    }\n",
              "\n",
              "    .dataframe tbody tr th {\n",
              "        vertical-align: top;\n",
              "    }\n",
              "\n",
              "    .dataframe thead th {\n",
              "        text-align: right;\n",
              "    }\n",
              "</style>\n",
              "<table border=\"1\" class=\"dataframe\">\n",
              "  <thead>\n",
              "    <tr style=\"text-align: right;\">\n",
              "      <th></th>\n",
              "      <th>user_id</th>\n",
              "      <th>age</th>\n",
              "      <th>churn_date</th>\n",
              "      <th>city</th>\n",
              "      <th>first_name</th>\n",
              "      <th>last_name</th>\n",
              "      <th>reg_date</th>\n",
              "      <th>tariff</th>\n",
              "    </tr>\n",
              "  </thead>\n",
              "  <tbody>\n",
              "    <tr>\n",
              "      <th>0</th>\n",
              "      <td>1000</td>\n",
              "      <td>52</td>\n",
              "      <td>NaN</td>\n",
              "      <td>Краснодар</td>\n",
              "      <td>Рафаил</td>\n",
              "      <td>Верещагин</td>\n",
              "      <td>2018-05-25</td>\n",
              "      <td>ultra</td>\n",
              "    </tr>\n",
              "    <tr>\n",
              "      <th>1</th>\n",
              "      <td>1001</td>\n",
              "      <td>41</td>\n",
              "      <td>NaN</td>\n",
              "      <td>Москва</td>\n",
              "      <td>Иван</td>\n",
              "      <td>Ежов</td>\n",
              "      <td>2018-11-01</td>\n",
              "      <td>smart</td>\n",
              "    </tr>\n",
              "    <tr>\n",
              "      <th>2</th>\n",
              "      <td>1002</td>\n",
              "      <td>59</td>\n",
              "      <td>NaN</td>\n",
              "      <td>Стерлитамак</td>\n",
              "      <td>Евгений</td>\n",
              "      <td>Абрамович</td>\n",
              "      <td>2018-06-17</td>\n",
              "      <td>smart</td>\n",
              "    </tr>\n",
              "    <tr>\n",
              "      <th>3</th>\n",
              "      <td>1003</td>\n",
              "      <td>23</td>\n",
              "      <td>NaN</td>\n",
              "      <td>Москва</td>\n",
              "      <td>Белла</td>\n",
              "      <td>Белякова</td>\n",
              "      <td>2018-08-17</td>\n",
              "      <td>ultra</td>\n",
              "    </tr>\n",
              "    <tr>\n",
              "      <th>4</th>\n",
              "      <td>1004</td>\n",
              "      <td>68</td>\n",
              "      <td>NaN</td>\n",
              "      <td>Новокузнецк</td>\n",
              "      <td>Татьяна</td>\n",
              "      <td>Авдеенко</td>\n",
              "      <td>2018-05-14</td>\n",
              "      <td>ultra</td>\n",
              "    </tr>\n",
              "  </tbody>\n",
              "</table>\n",
              "</div>"
            ],
            "text/plain": [
              "   user_id  age churn_date         city first_name  last_name    reg_date  \\\n",
              "0     1000   52        NaN    Краснодар     Рафаил  Верещагин  2018-05-25   \n",
              "1     1001   41        NaN       Москва       Иван       Ежов  2018-11-01   \n",
              "2     1002   59        NaN  Стерлитамак    Евгений  Абрамович  2018-06-17   \n",
              "3     1003   23        NaN       Москва      Белла   Белякова  2018-08-17   \n",
              "4     1004   68        NaN  Новокузнецк    Татьяна   Авдеенко  2018-05-14   \n",
              "\n",
              "  tariff  \n",
              "0  ultra  \n",
              "1  smart  \n",
              "2  smart  \n",
              "3  ultra  \n",
              "4  ultra  "
            ]
          },
          "execution_count": 17,
          "metadata": {},
          "output_type": "execute_result"
        }
      ],
      "source": [
        "users.head(5)"
      ]
    },
    {
      "cell_type": "code",
      "execution_count": null,
      "metadata": {
        "deletable": false,
        "id": "WgiCfvjJ_oCe",
        "outputId": "a464ac16-fbf1-444e-d2db-27418a1320d6"
      },
      "outputs": [
        {
          "name": "stdout",
          "output_type": "stream",
          "text": [
            "<class 'pandas.core.frame.DataFrame'>\n",
            "RangeIndex: 500 entries, 0 to 499\n",
            "Data columns (total 8 columns):\n",
            " #   Column      Non-Null Count  Dtype \n",
            "---  ------      --------------  ----- \n",
            " 0   user_id     500 non-null    int64 \n",
            " 1   age         500 non-null    int64 \n",
            " 2   churn_date  38 non-null     object\n",
            " 3   city        500 non-null    object\n",
            " 4   first_name  500 non-null    object\n",
            " 5   last_name   500 non-null    object\n",
            " 6   reg_date    500 non-null    object\n",
            " 7   tariff      500 non-null    object\n",
            "dtypes: int64(2), object(6)\n",
            "memory usage: 31.4+ KB\n"
          ]
        }
      ],
      "source": [
        "users.info()"
      ]
    },
    {
      "cell_type": "markdown",
      "metadata": {
        "deletable": false,
        "editable": false,
        "id": "Y0kllEng_oCf"
      },
      "source": [
        "### Подготовка данных"
      ]
    },
    {
      "cell_type": "code",
      "execution_count": null,
      "metadata": {
        "deletable": false,
        "id": "Ig2hAtil_oCh"
      },
      "outputs": [],
      "source": [
        "users['reg_date'] = pd.to_datetime(users['reg_date'])# обработка столбца reg_date\n",
        "users['churn_date'] = pd.to_datetime(users['churn_date'])# обработка столбца churn_date\n",
        "\n",
        "calls['call_date'] = pd.to_datetime(calls['call_date'])# обработка столбца call_date\n",
        "\n",
        "messages['message_date'] = pd.to_datetime(messages['message_date'])# обработка столбца message_date\n",
        "\n",
        "sessions['session_date'] = pd.to_datetime(sessions['session_date'])# обработка столбца session_date"
      ]
    },
    {
      "cell_type": "code",
      "execution_count": null,
      "metadata": {
        "deletable": false,
        "id": "7Msb3UqS_oCj"
      },
      "outputs": [],
      "source": [
        "import numpy as np\n",
        "calls['duration'] = np.ceil(calls['duration'])\n",
        "calls['duration'] = calls['duration'].astype('int')# округление значений столбца duration с помощью np.ceil() и приведение типа к int"
      ]
    },
    {
      "cell_type": "code",
      "execution_count": null,
      "metadata": {
        "deletable": false,
        "id": "0qBUTIJK_oCj"
      },
      "outputs": [],
      "source": [
        "sessions = sessions.drop(['Unnamed: 0'], axis=1)"
      ]
    },
    {
      "cell_type": "code",
      "execution_count": null,
      "metadata": {
        "deletable": false,
        "id": "qepFbMhq_oCj"
      },
      "outputs": [],
      "source": [
        "calls['month'] = calls['call_date'].dt.month"
      ]
    },
    {
      "cell_type": "code",
      "execution_count": null,
      "metadata": {
        "deletable": false,
        "id": "2evOzw_K_oCk"
      },
      "outputs": [],
      "source": [
        "messages['month'] = messages['message_date'].dt.month"
      ]
    },
    {
      "cell_type": "code",
      "execution_count": null,
      "metadata": {
        "deletable": false,
        "id": "dKZPB_eo_oCk"
      },
      "outputs": [],
      "source": [
        "sessions['month'] = sessions['session_date'].dt.month"
      ]
    },
    {
      "cell_type": "code",
      "execution_count": null,
      "metadata": {
        "deletable": false,
        "id": "tMAmcPhC_oCl"
      },
      "outputs": [],
      "source": [
        "calls_per_month = calls.groupby(['user_id','month']).agg(calls=('duration', 'count'))# подсчёт количества звонков для каждого пользователя по месяцам"
      ]
    },
    {
      "cell_type": "code",
      "execution_count": null,
      "metadata": {
        "deletable": false,
        "id": "r8pvxWhj_oCl"
      },
      "outputs": [],
      "source": [
        "calls_per_month.head(30)# вывод 30 первых строк на экран"
      ]
    },
    {
      "cell_type": "code",
      "execution_count": null,
      "metadata": {
        "deletable": false,
        "id": "ehr5Lhq-_oCl"
      },
      "outputs": [],
      "source": [
        "minutes_per_month = calls.groupby(['user_id', 'month']).agg(minutes=('duration', 'sum'))# подсчёт израсходованных минут для каждого пользователя по месяцам"
      ]
    },
    {
      "cell_type": "code",
      "execution_count": null,
      "metadata": {
        "deletable": false,
        "id": "-vbsnfVq_oCl"
      },
      "outputs": [],
      "source": [
        "minutes_per_month.head(30)# вывод первых 30 строк на экран"
      ]
    },
    {
      "cell_type": "code",
      "execution_count": null,
      "metadata": {
        "deletable": false,
        "id": "YiS9waG7_oCl"
      },
      "outputs": [],
      "source": [
        "messages_per_month = messages.groupby(['user_id', 'month']).agg(messages=('message_date', 'count'))# подсчёт количества отправленных сообщений для каждого пользователя по месяцам"
      ]
    },
    {
      "cell_type": "code",
      "execution_count": null,
      "metadata": {
        "deletable": false,
        "id": "aaDNanZ0_oCm"
      },
      "outputs": [],
      "source": [
        "messages_per_month.head(30)# вывод первых 30 строк на экран"
      ]
    },
    {
      "cell_type": "code",
      "execution_count": null,
      "metadata": {
        "deletable": false,
        "id": "-ITlvcsU_oCm"
      },
      "outputs": [],
      "source": [
        "sessions_per_month = sessions.groupby(['user_id', 'month']).agg({'mb_used': 'sum'})# подсчёт потраченных мегабайт для каждого пользователя по месяцам"
      ]
    },
    {
      "cell_type": "code",
      "execution_count": null,
      "metadata": {
        "deletable": false,
        "id": "YF7FQfXf_oCm"
      },
      "outputs": [],
      "source": [
        "sessions_per_month.head(30)# вывод первых 30 строк на экран"
      ]
    },
    {
      "cell_type": "markdown",
      "metadata": {
        "deletable": false,
        "editable": false,
        "id": "GF37Inq-_oCn"
      },
      "source": [
        "### Анализ данных и подсчёт выручки"
      ]
    },
    {
      "cell_type": "markdown",
      "metadata": {
        "deletable": false,
        "editable": false,
        "id": "7U9eZ81t_oCn"
      },
      "source": [
        "Объединяем все посчитанные выше значения в один датафрейм `user_behavior`.\n",
        "Для каждой пары «пользователь — месяц» будут доступны информация о тарифе, количестве звонков, сообщений и потраченных мегабайтах."
      ]
    },
    {
      "cell_type": "code",
      "execution_count": null,
      "metadata": {
        "deletable": false,
        "id": "SDchqQI5_oCn",
        "outputId": "760b21d8-9344-46a3-9c6e-a3cbbc7dd542"
      },
      "outputs": [
        {
          "data": {
            "text/plain": [
              "7.6"
            ]
          },
          "execution_count": 38,
          "metadata": {},
          "output_type": "execute_result"
        }
      ],
      "source": [
        "users['churn_date'].count() / users['churn_date'].shape[0] * 100"
      ]
    },
    {
      "cell_type": "markdown",
      "metadata": {
        "deletable": false,
        "editable": false,
        "id": "7jb0qJhe_oCn"
      },
      "source": [
        "Расторгли договор 7.6% клиентов из датасета"
      ]
    },
    {
      "cell_type": "code",
      "execution_count": null,
      "metadata": {
        "deletable": false,
        "id": "QJuiD1cd_oCo",
        "outputId": "60af33ba-196b-464c-e15d-239dd446a4f4"
      },
      "outputs": [
        {
          "data": {
            "text/html": [
              "<div>\n",
              "<style scoped>\n",
              "    .dataframe tbody tr th:only-of-type {\n",
              "        vertical-align: middle;\n",
              "    }\n",
              "\n",
              "    .dataframe tbody tr th {\n",
              "        vertical-align: top;\n",
              "    }\n",
              "\n",
              "    .dataframe thead th {\n",
              "        text-align: right;\n",
              "    }\n",
              "</style>\n",
              "<table border=\"1\" class=\"dataframe\">\n",
              "  <thead>\n",
              "    <tr style=\"text-align: right;\">\n",
              "      <th></th>\n",
              "      <th>user_id</th>\n",
              "      <th>month</th>\n",
              "      <th>calls</th>\n",
              "      <th>messages</th>\n",
              "      <th>mb_used</th>\n",
              "      <th>minutes</th>\n",
              "      <th>age</th>\n",
              "      <th>churn_date</th>\n",
              "      <th>city</th>\n",
              "      <th>first_name</th>\n",
              "      <th>last_name</th>\n",
              "      <th>reg_date</th>\n",
              "      <th>tariff</th>\n",
              "    </tr>\n",
              "  </thead>\n",
              "  <tbody>\n",
              "    <tr>\n",
              "      <th>0</th>\n",
              "      <td>1000</td>\n",
              "      <td>5</td>\n",
              "      <td>22.0</td>\n",
              "      <td>22.0</td>\n",
              "      <td>2253.49</td>\n",
              "      <td>159.0</td>\n",
              "      <td>52</td>\n",
              "      <td>NaT</td>\n",
              "      <td>Краснодар</td>\n",
              "      <td>Рафаил</td>\n",
              "      <td>Верещагин</td>\n",
              "      <td>2018-05-25</td>\n",
              "      <td>ultra</td>\n",
              "    </tr>\n",
              "    <tr>\n",
              "      <th>1</th>\n",
              "      <td>1000</td>\n",
              "      <td>6</td>\n",
              "      <td>43.0</td>\n",
              "      <td>60.0</td>\n",
              "      <td>23233.77</td>\n",
              "      <td>172.0</td>\n",
              "      <td>52</td>\n",
              "      <td>NaT</td>\n",
              "      <td>Краснодар</td>\n",
              "      <td>Рафаил</td>\n",
              "      <td>Верещагин</td>\n",
              "      <td>2018-05-25</td>\n",
              "      <td>ultra</td>\n",
              "    </tr>\n",
              "    <tr>\n",
              "      <th>2</th>\n",
              "      <td>1000</td>\n",
              "      <td>7</td>\n",
              "      <td>47.0</td>\n",
              "      <td>75.0</td>\n",
              "      <td>14003.64</td>\n",
              "      <td>340.0</td>\n",
              "      <td>52</td>\n",
              "      <td>NaT</td>\n",
              "      <td>Краснодар</td>\n",
              "      <td>Рафаил</td>\n",
              "      <td>Верещагин</td>\n",
              "      <td>2018-05-25</td>\n",
              "      <td>ultra</td>\n",
              "    </tr>\n",
              "    <tr>\n",
              "      <th>3</th>\n",
              "      <td>1000</td>\n",
              "      <td>8</td>\n",
              "      <td>52.0</td>\n",
              "      <td>81.0</td>\n",
              "      <td>14055.93</td>\n",
              "      <td>408.0</td>\n",
              "      <td>52</td>\n",
              "      <td>NaT</td>\n",
              "      <td>Краснодар</td>\n",
              "      <td>Рафаил</td>\n",
              "      <td>Верещагин</td>\n",
              "      <td>2018-05-25</td>\n",
              "      <td>ultra</td>\n",
              "    </tr>\n",
              "    <tr>\n",
              "      <th>4</th>\n",
              "      <td>1000</td>\n",
              "      <td>9</td>\n",
              "      <td>58.0</td>\n",
              "      <td>57.0</td>\n",
              "      <td>14568.91</td>\n",
              "      <td>466.0</td>\n",
              "      <td>52</td>\n",
              "      <td>NaT</td>\n",
              "      <td>Краснодар</td>\n",
              "      <td>Рафаил</td>\n",
              "      <td>Верещагин</td>\n",
              "      <td>2018-05-25</td>\n",
              "      <td>ultra</td>\n",
              "    </tr>\n",
              "  </tbody>\n",
              "</table>\n",
              "</div>"
            ],
            "text/plain": [
              "   user_id  month  calls  messages   mb_used  minutes  age churn_date  \\\n",
              "0     1000      5   22.0      22.0   2253.49    159.0   52        NaT   \n",
              "1     1000      6   43.0      60.0  23233.77    172.0   52        NaT   \n",
              "2     1000      7   47.0      75.0  14003.64    340.0   52        NaT   \n",
              "3     1000      8   52.0      81.0  14055.93    408.0   52        NaT   \n",
              "4     1000      9   58.0      57.0  14568.91    466.0   52        NaT   \n",
              "\n",
              "        city first_name  last_name   reg_date tariff  \n",
              "0  Краснодар     Рафаил  Верещагин 2018-05-25  ultra  \n",
              "1  Краснодар     Рафаил  Верещагин 2018-05-25  ultra  \n",
              "2  Краснодар     Рафаил  Верещагин 2018-05-25  ultra  \n",
              "3  Краснодар     Рафаил  Верещагин 2018-05-25  ultra  \n",
              "4  Краснодар     Рафаил  Верещагин 2018-05-25  ultra  "
            ]
          },
          "execution_count": 39,
          "metadata": {},
          "output_type": "execute_result"
        }
      ],
      "source": [
        "user_behavior = calls_per_month\\\n",
        "    .merge(messages_per_month, left_index=True, right_index=True, how='outer')\\\n",
        "    .merge(sessions_per_month, left_index=True, right_index=True, how='outer')\\\n",
        "    .merge(minutes_per_month, left_index=True, right_index=True, how='outer')\\\n",
        "    .reset_index()\\\n",
        "    .merge(users, how='left', left_on='user_id', right_on='user_id')\\\n",
        "\n",
        "user_behavior.head()"
      ]
    },
    {
      "cell_type": "markdown",
      "metadata": {
        "deletable": false,
        "editable": false,
        "id": "9Kif7-vi_oCo"
      },
      "source": [
        "Проверим пропуски в таблице `user_behavior` после объединения:"
      ]
    },
    {
      "cell_type": "code",
      "execution_count": null,
      "metadata": {
        "deletable": false,
        "id": "MExwRr6x_oCo",
        "outputId": "1362c11d-ba78-47b6-8495-ba877c2cae38"
      },
      "outputs": [
        {
          "data": {
            "text/plain": [
              "user_id          0\n",
              "month            0\n",
              "calls            0\n",
              "messages         0\n",
              "mb_used          0\n",
              "minutes          0\n",
              "age              0\n",
              "churn_date    3027\n",
              "city             0\n",
              "first_name       0\n",
              "last_name        0\n",
              "reg_date         0\n",
              "tariff           0\n",
              "dtype: int64"
            ]
          },
          "execution_count": 41,
          "metadata": {},
          "output_type": "execute_result"
        }
      ],
      "source": [
        "user_behavior.isna().sum()"
      ]
    },
    {
      "cell_type": "markdown",
      "metadata": {
        "deletable": false,
        "editable": false,
        "id": "eNUHBFPI_oCo"
      },
      "source": [
        "Заполним образовавшиеся пропуски в данных:"
      ]
    },
    {
      "cell_type": "code",
      "execution_count": null,
      "metadata": {
        "deletable": false,
        "id": "2aCyfvNX_oCo"
      },
      "outputs": [],
      "source": [
        "user_behavior['calls'] = user_behavior['calls'].fillna(0)\n",
        "user_behavior['minutes'] = user_behavior['minutes'].fillna(0)\n",
        "user_behavior['messages'] = user_behavior['messages'].fillna(0)\n",
        "user_behavior['mb_used'] = user_behavior['mb_used'].fillna(0)"
      ]
    },
    {
      "cell_type": "markdown",
      "metadata": {
        "deletable": false,
        "editable": false,
        "id": "JTszP_Iy_oCo"
      },
      "source": [
        "Присоединяем информацию о тарифах"
      ]
    },
    {
      "cell_type": "code",
      "execution_count": null,
      "metadata": {
        "deletable": false,
        "id": "zmnnqTIq_oCo"
      },
      "outputs": [],
      "source": [
        "# переименование столбца tariff_name на более простое tariff\n",
        "\n",
        "tariffs = tariffs.rename(\n",
        "    columns={\n",
        "        'tariff_name': 'tariff'\n",
        "    }\n",
        ")"
      ]
    },
    {
      "cell_type": "code",
      "execution_count": null,
      "metadata": {
        "deletable": false,
        "id": "hop7kFhB_oCp"
      },
      "outputs": [],
      "source": [
        "user_behavior = user_behavior.merge(tariffs, on='tariff')"
      ]
    },
    {
      "cell_type": "markdown",
      "metadata": {
        "deletable": false,
        "editable": false,
        "id": "aJZeqJwL_oCp"
      },
      "source": [
        "Считаем количество минут разговора, сообщений и мегабайт, превышающих включённые в тариф\n"
      ]
    },
    {
      "cell_type": "code",
      "execution_count": null,
      "metadata": {
        "deletable": false,
        "id": "1Tcf3IxI_oCp"
      },
      "outputs": [],
      "source": [
        "user_behavior['paid_minutes'] = user_behavior['minutes'] - user_behavior['minutes_included']\n",
        "user_behavior['paid_messages'] = user_behavior['messages'] - user_behavior['messages_included']\n",
        "user_behavior['paid_mb'] = user_behavior['mb_used'] - user_behavior['mb_per_month_included']\n",
        "\n",
        "for col in ['paid_messages', 'paid_minutes', 'paid_mb']:\n",
        "    user_behavior.loc[user_behavior[col] < 0, col] = 0"
      ]
    },
    {
      "cell_type": "markdown",
      "metadata": {
        "deletable": false,
        "editable": false,
        "id": "9mf7Pko9_oCp"
      },
      "source": [
        "Переводим превышающие тариф мегабайты в гигабайты и сохраняем в столбец `paid_gb`"
      ]
    },
    {
      "cell_type": "code",
      "execution_count": null,
      "metadata": {
        "deletable": false,
        "id": "cct5ZB60_oCp"
      },
      "outputs": [],
      "source": [
        "user_behavior['paid_gb'] = np.ceil(user_behavior['paid_mb'] / 1024).astype(int)"
      ]
    },
    {
      "cell_type": "markdown",
      "metadata": {
        "deletable": false,
        "editable": false,
        "id": "KEZ1rO-r_oCp"
      },
      "source": [
        "Считаем выручку за минуты разговора, сообщения и интернет"
      ]
    },
    {
      "cell_type": "code",
      "execution_count": null,
      "metadata": {
        "deletable": false,
        "id": "U302RLm6_oCp"
      },
      "outputs": [],
      "source": [
        "user_behavior['cost_minutes'] = user_behavior['paid_minutes'] * user_behavior['rub_per_minute']\n",
        "user_behavior['cost_messages'] = user_behavior['paid_messages'] * user_behavior['rub_per_message']\n",
        "user_behavior['cost_gb'] = user_behavior['paid_gb'] * user_behavior['rub_per_gb']"
      ]
    },
    {
      "cell_type": "markdown",
      "metadata": {
        "deletable": false,
        "editable": false,
        "id": "18ruYfTJ_oCp"
      },
      "source": [
        "Считаем помесячную выручку с каждого пользователя, она будет храниться в столбце `total_cost`"
      ]
    },
    {
      "cell_type": "code",
      "execution_count": null,
      "metadata": {
        "deletable": false,
        "id": "Uf2YyazE_oCp"
      },
      "outputs": [],
      "source": [
        "user_behavior['total_cost'] = \\\n",
        "      user_behavior['rub_monthly_fee']\\\n",
        "    + user_behavior['cost_minutes']\\\n",
        "    + user_behavior['cost_messages']\\\n",
        "    + user_behavior['cost_gb']"
      ]
    },
    {
      "cell_type": "markdown",
      "metadata": {
        "deletable": false,
        "editable": false,
        "id": "49WKdXmA_oCp"
      },
      "source": [
        "Датафрейм `stats_df` для каждой пары «месяц — тариф» будет хранить основные характеристики"
      ]
    },
    {
      "cell_type": "code",
      "execution_count": null,
      "metadata": {
        "deletable": false,
        "id": "4V-Kl67S_oCp",
        "outputId": "ed8b1220-debd-42f0-9941-3acb27e94db1"
      },
      "outputs": [
        {
          "data": {
            "text/html": [
              "<div>\n",
              "<style scoped>\n",
              "    .dataframe tbody tr th:only-of-type {\n",
              "        vertical-align: middle;\n",
              "    }\n",
              "\n",
              "    .dataframe tbody tr th {\n",
              "        vertical-align: top;\n",
              "    }\n",
              "\n",
              "    .dataframe thead th {\n",
              "        text-align: right;\n",
              "    }\n",
              "</style>\n",
              "<table border=\"1\" class=\"dataframe\">\n",
              "  <thead>\n",
              "    <tr style=\"text-align: right;\">\n",
              "      <th></th>\n",
              "      <th>month</th>\n",
              "      <th>tariff</th>\n",
              "      <th>calls_mean</th>\n",
              "      <th>sessions_mean</th>\n",
              "      <th>messages_mean</th>\n",
              "      <th>minutes_mean</th>\n",
              "      <th>calls_std</th>\n",
              "      <th>sessions_std</th>\n",
              "      <th>messages_std</th>\n",
              "      <th>minutes_std</th>\n",
              "      <th>calls_median</th>\n",
              "      <th>sessions_median</th>\n",
              "      <th>messages_median</th>\n",
              "      <th>minutes_median</th>\n",
              "    </tr>\n",
              "  </thead>\n",
              "  <tbody>\n",
              "    <tr>\n",
              "      <th>0</th>\n",
              "      <td>1</td>\n",
              "      <td>smart</td>\n",
              "      <td>27.68</td>\n",
              "      <td>8513.72</td>\n",
              "      <td>18.24</td>\n",
              "      <td>203.85</td>\n",
              "      <td>20.81</td>\n",
              "      <td>6444.68</td>\n",
              "      <td>16.20</td>\n",
              "      <td>154.23</td>\n",
              "      <td>20.5</td>\n",
              "      <td>7096.18</td>\n",
              "      <td>15.0</td>\n",
              "      <td>162.5</td>\n",
              "    </tr>\n",
              "    <tr>\n",
              "      <th>1</th>\n",
              "      <td>1</td>\n",
              "      <td>ultra</td>\n",
              "      <td>59.44</td>\n",
              "      <td>13140.68</td>\n",
              "      <td>33.78</td>\n",
              "      <td>428.11</td>\n",
              "      <td>41.64</td>\n",
              "      <td>6865.35</td>\n",
              "      <td>30.67</td>\n",
              "      <td>269.76</td>\n",
              "      <td>51.0</td>\n",
              "      <td>14791.37</td>\n",
              "      <td>32.0</td>\n",
              "      <td>382.0</td>\n",
              "    </tr>\n",
              "    <tr>\n",
              "      <th>2</th>\n",
              "      <td>2</td>\n",
              "      <td>smart</td>\n",
              "      <td>40.19</td>\n",
              "      <td>11597.05</td>\n",
              "      <td>24.09</td>\n",
              "      <td>298.69</td>\n",
              "      <td>25.39</td>\n",
              "      <td>6247.35</td>\n",
              "      <td>21.75</td>\n",
              "      <td>190.82</td>\n",
              "      <td>38.5</td>\n",
              "      <td>12553.71</td>\n",
              "      <td>20.0</td>\n",
              "      <td>258.0</td>\n",
              "    </tr>\n",
              "    <tr>\n",
              "      <th>3</th>\n",
              "      <td>2</td>\n",
              "      <td>ultra</td>\n",
              "      <td>41.54</td>\n",
              "      <td>11775.94</td>\n",
              "      <td>21.96</td>\n",
              "      <td>297.12</td>\n",
              "      <td>40.97</td>\n",
              "      <td>10644.64</td>\n",
              "      <td>26.77</td>\n",
              "      <td>296.51</td>\n",
              "      <td>25.0</td>\n",
              "      <td>7327.12</td>\n",
              "      <td>5.5</td>\n",
              "      <td>168.0</td>\n",
              "    </tr>\n",
              "    <tr>\n",
              "      <th>4</th>\n",
              "      <td>3</td>\n",
              "      <td>smart</td>\n",
              "      <td>54.32</td>\n",
              "      <td>15104.16</td>\n",
              "      <td>31.86</td>\n",
              "      <td>390.05</td>\n",
              "      <td>25.54</td>\n",
              "      <td>5828.24</td>\n",
              "      <td>26.80</td>\n",
              "      <td>191.89</td>\n",
              "      <td>59.0</td>\n",
              "      <td>15670.25</td>\n",
              "      <td>23.0</td>\n",
              "      <td>409.0</td>\n",
              "    </tr>\n",
              "    <tr>\n",
              "      <th>5</th>\n",
              "      <td>3</td>\n",
              "      <td>ultra</td>\n",
              "      <td>67.68</td>\n",
              "      <td>17535.55</td>\n",
              "      <td>32.30</td>\n",
              "      <td>489.65</td>\n",
              "      <td>44.84</td>\n",
              "      <td>10951.79</td>\n",
              "      <td>41.62</td>\n",
              "      <td>333.74</td>\n",
              "      <td>57.0</td>\n",
              "      <td>17495.18</td>\n",
              "      <td>20.0</td>\n",
              "      <td>403.0</td>\n",
              "    </tr>\n",
              "    <tr>\n",
              "      <th>6</th>\n",
              "      <td>4</td>\n",
              "      <td>smart</td>\n",
              "      <td>51.31</td>\n",
              "      <td>13462.18</td>\n",
              "      <td>30.74</td>\n",
              "      <td>367.13</td>\n",
              "      <td>25.70</td>\n",
              "      <td>5698.25</td>\n",
              "      <td>24.54</td>\n",
              "      <td>186.49</td>\n",
              "      <td>52.0</td>\n",
              "      <td>14087.65</td>\n",
              "      <td>28.0</td>\n",
              "      <td>368.5</td>\n",
              "    </tr>\n",
              "    <tr>\n",
              "      <th>7</th>\n",
              "      <td>4</td>\n",
              "      <td>ultra</td>\n",
              "      <td>64.09</td>\n",
              "      <td>16828.13</td>\n",
              "      <td>31.56</td>\n",
              "      <td>458.02</td>\n",
              "      <td>36.27</td>\n",
              "      <td>9718.65</td>\n",
              "      <td>37.51</td>\n",
              "      <td>267.68</td>\n",
              "      <td>61.0</td>\n",
              "      <td>16645.78</td>\n",
              "      <td>17.0</td>\n",
              "      <td>453.0</td>\n",
              "    </tr>\n",
              "    <tr>\n",
              "      <th>8</th>\n",
              "      <td>5</td>\n",
              "      <td>smart</td>\n",
              "      <td>55.24</td>\n",
              "      <td>15805.18</td>\n",
              "      <td>33.77</td>\n",
              "      <td>387.36</td>\n",
              "      <td>25.38</td>\n",
              "      <td>5978.23</td>\n",
              "      <td>27.04</td>\n",
              "      <td>186.60</td>\n",
              "      <td>59.0</td>\n",
              "      <td>16323.94</td>\n",
              "      <td>30.0</td>\n",
              "      <td>433.0</td>\n",
              "    </tr>\n",
              "    <tr>\n",
              "      <th>9</th>\n",
              "      <td>5</td>\n",
              "      <td>ultra</td>\n",
              "      <td>72.51</td>\n",
              "      <td>19363.15</td>\n",
              "      <td>37.85</td>\n",
              "      <td>510.33</td>\n",
              "      <td>41.08</td>\n",
              "      <td>10046.11</td>\n",
              "      <td>40.31</td>\n",
              "      <td>289.60</td>\n",
              "      <td>75.0</td>\n",
              "      <td>18696.43</td>\n",
              "      <td>25.0</td>\n",
              "      <td>519.0</td>\n",
              "    </tr>\n",
              "  </tbody>\n",
              "</table>\n",
              "</div>"
            ],
            "text/plain": [
              "   month tariff  calls_mean  sessions_mean  messages_mean  minutes_mean  \\\n",
              "0      1  smart       27.68        8513.72          18.24        203.85   \n",
              "1      1  ultra       59.44       13140.68          33.78        428.11   \n",
              "2      2  smart       40.19       11597.05          24.09        298.69   \n",
              "3      2  ultra       41.54       11775.94          21.96        297.12   \n",
              "4      3  smart       54.32       15104.16          31.86        390.05   \n",
              "5      3  ultra       67.68       17535.55          32.30        489.65   \n",
              "6      4  smart       51.31       13462.18          30.74        367.13   \n",
              "7      4  ultra       64.09       16828.13          31.56        458.02   \n",
              "8      5  smart       55.24       15805.18          33.77        387.36   \n",
              "9      5  ultra       72.51       19363.15          37.85        510.33   \n",
              "\n",
              "   calls_std  sessions_std  messages_std  minutes_std  calls_median  \\\n",
              "0      20.81       6444.68         16.20       154.23          20.5   \n",
              "1      41.64       6865.35         30.67       269.76          51.0   \n",
              "2      25.39       6247.35         21.75       190.82          38.5   \n",
              "3      40.97      10644.64         26.77       296.51          25.0   \n",
              "4      25.54       5828.24         26.80       191.89          59.0   \n",
              "5      44.84      10951.79         41.62       333.74          57.0   \n",
              "6      25.70       5698.25         24.54       186.49          52.0   \n",
              "7      36.27       9718.65         37.51       267.68          61.0   \n",
              "8      25.38       5978.23         27.04       186.60          59.0   \n",
              "9      41.08      10046.11         40.31       289.60          75.0   \n",
              "\n",
              "   sessions_median  messages_median  minutes_median  \n",
              "0          7096.18             15.0           162.5  \n",
              "1         14791.37             32.0           382.0  \n",
              "2         12553.71             20.0           258.0  \n",
              "3          7327.12              5.5           168.0  \n",
              "4         15670.25             23.0           409.0  \n",
              "5         17495.18             20.0           403.0  \n",
              "6         14087.65             28.0           368.5  \n",
              "7         16645.78             17.0           453.0  \n",
              "8         16323.94             30.0           433.0  \n",
              "9         18696.43             25.0           519.0  "
            ]
          },
          "execution_count": 48,
          "metadata": {},
          "output_type": "execute_result"
        }
      ],
      "source": [
        "# сохранение статистических метрик для каждой пары месяц-тариф\n",
        "# в одной таблице stats_df (среднее значение, стандартное отклонение, медиана)\n",
        "\n",
        "stats_df = user_behavior.pivot_table(\n",
        "            index=['month', 'tariff'],\\\n",
        "            values=['calls', 'minutes', 'messages', 'mb_used'],\\\n",
        "            aggfunc=['mean', 'std', 'median']\\\n",
        ").round(2).reset_index()\n",
        "\n",
        "stats_df.columns=['month', 'tariff', 'calls_mean', 'sessions_mean', 'messages_mean', 'minutes_mean',\n",
        "                                     'calls_std',  'sessions_std', 'messages_std', 'minutes_std', \n",
        "                                     'calls_median', 'sessions_median', 'messages_median',  'minutes_median']\n",
        "\n",
        "stats_df.head(10)"
      ]
    },
    {
      "cell_type": "markdown",
      "metadata": {
        "deletable": false,
        "editable": false,
        "id": "HBjTHsiq_oCq"
      },
      "source": [
        "Распределение среднего количества звонков по видам тарифов и месяцам"
      ]
    },
    {
      "cell_type": "code",
      "execution_count": null,
      "metadata": {
        "deletable": false,
        "id": "HKlQp7la_oCq",
        "outputId": "18ba7a99-d460-44f5-9c08-a67e71e18aa2"
      },
      "outputs": [
        {
          "data": {
            "image/png": "[encoded data removed]",
            "text/plain": [
              "<Figure size 432x288 with 1 Axes>"
            ]
          },
          "metadata": {
            "needs_background": "light"
          },
          "output_type": "display_data"
        }
      ],
      "source": [
        "import seaborn as sns\n",
        "\n",
        "ax = sns.barplot(x='month',\n",
        "            y='calls_mean',\n",
        "            hue=\"tariff\",\n",
        "            data=stats_df,\n",
        "            palette=['lightblue', 'blue'])\n",
        "\n",
        "ax.set_title('Распределение количества звонков по видам тарифов и месяцам')\n",
        "ax.set(xlabel='Номер месяца', ylabel='Среднее количество звонков');"
      ]
    },
    {
      "cell_type": "code",
      "execution_count": null,
      "metadata": {
        "deletable": false,
        "id": "LBzNZDS1_oCq",
        "outputId": "12f9ceca-41e4-4ff9-ebf7-1a778751b299"
      },
      "outputs": [
        {
          "data": {
            "image/png": "[encoded data removed]",
            "text/plain": [
              "<Figure size 432x288 with 1 Axes>"
            ]
          },
          "metadata": {
            "needs_background": "light"
          },
          "output_type": "display_data"
        }
      ],
      "source": [
        "import matplotlib.pyplot as plt\n",
        "\n",
        "user_behavior.groupby('tariff')['calls'].plot(kind='hist', bins=35, alpha=0.5)\n",
        "plt.legend(['Smart', 'Ultra'])\n",
        "plt.xlabel('Количество звонков')\n",
        "plt.ylabel('Количество клиентов')\n",
        "plt.show()"
      ]
    },
    {
      "cell_type": "markdown",
      "metadata": {
        "deletable": false,
        "editable": false,
        "id": "6ApNiP3G_oCq"
      },
      "source": [
        "Распределение средней продолжительности звонков по видам тарифов и месяцам"
      ]
    },
    {
      "cell_type": "code",
      "execution_count": null,
      "metadata": {
        "deletable": false,
        "id": "NB9xuopA_oCq",
        "outputId": "f4f1696b-7a58-41b3-8085-f86e0c866bc9"
      },
      "outputs": [
        {
          "data": {
            "image/png": "[encoded data removed]",
            "text/plain": [
              "<Figure size 432x288 with 1 Axes>"
            ]
          },
          "metadata": {
            "needs_background": "light"
          },
          "output_type": "display_data"
        }
      ],
      "source": [
        "ax = sns.barplot(x='month',\n",
        "            y='minutes_mean',\n",
        "            hue=\"tariff\",\n",
        "            data=stats_df,\n",
        "            palette=['lightblue', 'blue'])\n",
        "\n",
        "ax.set_title('Распределение продолжительности звонков по видам тарифов и месяцам')\n",
        "ax.set(xlabel='Номер месяца', ylabel='Средняя продолжительность звонков');"
      ]
    },
    {
      "cell_type": "code",
      "execution_count": null,
      "metadata": {
        "deletable": false,
        "id": "eL5SHsdq_oCq",
        "outputId": "21d15fb2-0f41-46cb-b0ab-a31874d3d201"
      },
      "outputs": [
        {
          "data": {
            "image/png": "[encoded data removed]",
            "text/plain": [
              "<Figure size 432x288 with 1 Axes>"
            ]
          },
          "metadata": {
            "needs_background": "light"
          },
          "output_type": "display_data"
        }
      ],
      "source": [
        "user_behavior[user_behavior['tariff'] =='smart']['minutes'].hist(bins=35, alpha=0.5, color='green')\n",
        "user_behavior[user_behavior['tariff'] =='ultra']['minutes'].hist(bins=35, alpha=0.5, color='blue');"
      ]
    },
    {
      "cell_type": "markdown",
      "metadata": {
        "deletable": false,
        "editable": false,
        "id": "G3NDyWZy_oCq"
      },
      "source": [
        "Средняя длительность разговоров у абонентов тарифа Ultra больше, чем у абонентов тарифа Smart. В течение года пользователи обоих тарифов увеличивают среднюю продолжительность своих разговоров. Рост средней длительности разговоров у абонентов тарифа Smart равномерный в течение года. Пользователи тарифа Ultra не проявляют подобной линейной стабильности. Стоит отметить, что феврале у абонентов обоих тарифных планов наблюдались самые низкие показатели."
      ]
    },
    {
      "cell_type": "markdown",
      "metadata": {
        "deletable": false,
        "editable": false,
        "id": "ils1vnE7_oCq"
      },
      "source": [
        "Распределение среднего количества сообщений по видам тарифов и месяцам"
      ]
    },
    {
      "cell_type": "code",
      "execution_count": null,
      "metadata": {
        "deletable": false,
        "id": "zkSEsDH__oCq",
        "outputId": "34370df8-5375-4a80-b1f5-ad6d556f6a54"
      },
      "outputs": [
        {
          "data": {
            "image/png": "[encoded data removed]",
            "text/plain": [
              "<Figure size 432x288 with 1 Axes>"
            ]
          },
          "metadata": {
            "needs_background": "light"
          },
          "output_type": "display_data"
        }
      ],
      "source": [
        "ax = sns.barplot(x='month',\n",
        "            y='messages_mean',\n",
        "            hue=\"tariff\",\n",
        "            data=stats_df,\n",
        "            palette=['lightblue', 'blue']\n",
        ")\n",
        "\n",
        "ax.set_title('Распределение количества сообщений по видам тарифов и месяцам')\n",
        "ax.set(xlabel='Номер месяца', ylabel='Среднее количество сообщений');"
      ]
    },
    {
      "cell_type": "code",
      "execution_count": null,
      "metadata": {
        "deletable": false,
        "id": "I97vMndq_oCq",
        "outputId": "87f68d2f-ac58-4253-ccbb-70e81f073a41"
      },
      "outputs": [
        {
          "data": {
            "image/png": "[encoded data removed]",
            "text/plain": [
              "<Figure size 432x288 with 1 Axes>"
            ]
          },
          "metadata": {
            "needs_background": "light"
          },
          "output_type": "display_data"
        }
      ],
      "source": [
        "user_behavior[user_behavior['tariff'] =='smart']['messages'].hist(bins=35, alpha=0.5, color='green')\n",
        "user_behavior[user_behavior['tariff'] =='ultra']['messages'].hist(bins=35, alpha=0.5, color='blue');"
      ]
    },
    {
      "cell_type": "markdown",
      "metadata": {
        "id": "IKu7ZqEy_oCq"
      },
      "source": [
        "В среднем пользователи тарифа Ultra отправляют больше сообщений — почти на 20 сообщений больше, чем пользователи тарифа Smart. Количество сообщений в течение года на обоих тарифах растёт. Динамика по отправке сообщений схожа с тенденциями по длительности разговоров: в феврале отмечено наименьшее количество сообщений за год и пользователи тарифа Ultra также проявляют нелинейную положительную динамику."
      ]
    },
    {
      "cell_type": "code",
      "execution_count": null,
      "metadata": {
        "deletable": false,
        "id": "q866NzDW_oCr",
        "outputId": "18a00f1a-0227-4176-da41-47d448aecc0b"
      },
      "outputs": [
        {
          "data": {
            "image/png": "[encoded data removed]",
            "text/plain": [
              "<Figure size 432x288 with 1 Axes>"
            ]
          },
          "metadata": {
            "needs_background": "light"
          },
          "output_type": "display_data"
        }
      ],
      "source": [
        "ax = sns.barplot(x='month',\n",
        "            y='sessions_mean',\n",
        "            hue='tariff',\n",
        "            data=stats_df,\n",
        "            palette=['lightblue', 'blue']\n",
        ")\n",
        "\n",
        "ax.set_title('Распределение количества потраченного трафика (Мб) по видам тарифов и месяцам')\n",
        "ax.set(xlabel='Номер месяца', ylabel='Среднее количество мегабайт');"
      ]
    },
    {
      "cell_type": "markdown",
      "metadata": {
        "deletable": false,
        "editable": false,
        "id": "an1c3noO_oCr"
      },
      "source": [
        "Сравнение потраченных мегабайт среди пользователей тарифов Smart и Ultra"
      ]
    },
    {
      "cell_type": "code",
      "execution_count": null,
      "metadata": {
        "deletable": false,
        "id": "Czm2mIhd_oCr",
        "outputId": "af40db5d-21b7-4991-bcfb-cd57eec6bb3d"
      },
      "outputs": [
        {
          "data": {
            "image/png": "[encoded data removed]",
            "text/plain": [
              "<Figure size 432x288 with 1 Axes>"
            ]
          },
          "metadata": {
            "needs_background": "light"
          },
          "output_type": "display_data"
        }
      ],
      "source": [
        "user_behavior[user_behavior['tariff'] =='smart']['mb_used'].hist(bins=35, alpha=0.5, color='green')\n",
        "user_behavior[user_behavior['tariff'] =='ultra']['mb_used'].hist(bins=35, alpha=0.5, color='blue');"
      ]
    },
    {
      "cell_type": "markdown",
      "metadata": {
        "deletable": false,
        "editable": false,
        "id": "DQp_KGw1_oCr"
      },
      "source": [
        "Меньше всего пользователи использовали интернет в январе, феврале и апреле. Чаще всего абоненты тарифа Smart тратят 15–17 Гб, а абоненты тарифного плана Ultra — 19–21 ГБ."
      ]
    },
    {
      "cell_type": "markdown",
      "metadata": {
        "deletable": false,
        "editable": false,
        "id": "aKJz6DhN_oCr"
      },
      "source": [
        "### Проверка гипотез"
      ]
    },
    {
      "cell_type": "code",
      "execution_count": null,
      "metadata": {
        "deletable": false,
        "id": "02sfJAHr_oCr"
      },
      "outputs": [],
      "source": [
        "from scipy import stats as st"
      ]
    },
    {
      "cell_type": "code",
      "execution_count": null,
      "metadata": {
        "deletable": false,
        "id": "OxsrhJXE_oCr",
        "outputId": "a55a4fa4-f94e-4b92-c67b-cc0e42122b05"
      },
      "outputs": [
        {
          "name": "stdout",
          "output_type": "stream",
          "text": [
            "p-значение: 4.2606313931076085e-250\n",
            "Отвергаем нулевую гипотезу\n"
          ]
        }
      ],
      "source": [
        "# results = вызов метода для проверки гипотезы\n",
        "results = st.ttest_ind(user_behavior[user_behavior['tariff'] =='ultra']['total_cost'], user_behavior[user_behavior['tariff'] =='smart']['total_cost'],equal_var = False)\n",
        "# alpha = задайте значение уровня значимости\n",
        "alpha = 0.05 \n",
        "# вывод значения p-value на экран \n",
        "print('p-значение:', results.pvalue) \n",
        "# условный оператор с выводом строки с ответом\n",
        "if results.pvalue < alpha:\n",
        "    print('Отвергаем нулевую гипотезу')\n",
        "else:\n",
        "    print('Не получилось отвергнуть нулевую гипотезу')"
      ]
    },
    {
      "cell_type": "code",
      "execution_count": null,
      "metadata": {
        "deletable": false,
        "id": "RznkRUuu_oCr",
        "outputId": "a1ca8ce2-03e0-4957-cda8-65d482077902"
      },
      "outputs": [
        {
          "name": "stdout",
          "output_type": "stream",
          "text": [
            "p-значение: 0.5257376663729298\n",
            "Не получилось отвергнуть нулевую гипотезу\n"
          ]
        }
      ],
      "source": [
        "# results = вызов метода для проверки гипотезы\n",
        "results = st.ttest_ind(user_behavior[user_behavior['city'] =='Москва']['total_cost'], user_behavior[user_behavior['city'] != 'Москва']['total_cost'],equal_var = False)\n",
        "# alpha = задайте значение уровня значимости\n",
        "alpha = 0.05 \n",
        "# вывод значения p-value на экран\n",
        "print('p-значение:', results.pvalue) \n",
        "# условный оператор с выводом строки с ответом\n",
        "if results.pvalue < alpha:\n",
        "    print('Отвергаем нулевую гипотезу')\n",
        "else:\n",
        "    print('Не получилось отвергнуть нулевую гипотезу')"
      ]
    }
  ],
  "metadata": {
    "ExecuteTimeLog": [
      {
        "duration": 46,
        "start_time": "2023-04-30T06:50:20.476Z"
      },
      {
        "duration": 394,
        "start_time": "2023-04-30T06:50:24.522Z"
      },
      {
        "duration": 233,
        "start_time": "2023-04-30T06:50:26.090Z"
      },
      {
        "duration": 15,
        "start_time": "2023-04-30T06:50:58.209Z"
      },
      {
        "duration": 31,
        "start_time": "2023-04-30T06:51:15.257Z"
      },
      {
        "duration": 664,
        "start_time": "2023-04-30T06:51:25.627Z"
      },
      {
        "duration": 190,
        "start_time": "2023-04-30T06:51:49.749Z"
      },
      {
        "duration": 79,
        "start_time": "2023-04-30T06:56:32.618Z"
      },
      {
        "duration": 330,
        "start_time": "2023-04-30T06:56:58.298Z"
      },
      {
        "duration": 8,
        "start_time": "2023-04-30T06:57:06.150Z"
      },
      {
        "duration": 29,
        "start_time": "2023-04-30T06:57:13.971Z"
      },
      {
        "duration": 192,
        "start_time": "2023-04-30T06:58:01.772Z"
      },
      {
        "duration": 111,
        "start_time": "2023-04-30T07:03:16.945Z"
      },
      {
        "duration": 11,
        "start_time": "2023-04-30T07:03:34.352Z"
      },
      {
        "duration": 18,
        "start_time": "2023-04-30T07:03:46.136Z"
      },
      {
        "duration": 68,
        "start_time": "2023-04-30T07:04:12.821Z"
      },
      {
        "duration": 9,
        "start_time": "2023-04-30T07:04:24.813Z"
      },
      {
        "duration": 14,
        "start_time": "2023-04-30T07:04:42.963Z"
      },
      {
        "duration": 104,
        "start_time": "2023-04-30T07:05:02.533Z"
      },
      {
        "duration": 19,
        "start_time": "2023-04-30T07:05:12.413Z"
      },
      {
        "duration": 12,
        "start_time": "2023-04-30T07:05:19.869Z"
      },
      {
        "duration": 177,
        "start_time": "2023-04-30T07:09:13.821Z"
      },
      {
        "duration": 55,
        "start_time": "2023-04-30T07:10:05.144Z"
      },
      {
        "duration": 16,
        "start_time": "2023-04-30T07:10:10.914Z"
      },
      {
        "duration": 6,
        "start_time": "2023-04-30T07:10:25.137Z"
      },
      {
        "duration": 6,
        "start_time": "2023-04-30T07:11:23.225Z"
      },
      {
        "duration": 7,
        "start_time": "2023-04-30T07:11:41.811Z"
      },
      {
        "duration": 9,
        "start_time": "2023-04-30T07:12:11.078Z"
      },
      {
        "duration": 88,
        "start_time": "2023-04-30T18:14:00.490Z"
      },
      {
        "duration": 220,
        "start_time": "2023-04-30T18:14:04.949Z"
      },
      {
        "duration": 459,
        "start_time": "2023-04-30T18:14:15.561Z"
      },
      {
        "duration": 834,
        "start_time": "2023-04-30T18:14:16.024Z"
      },
      {
        "duration": 25,
        "start_time": "2023-04-30T18:14:16.861Z"
      },
      {
        "duration": 42,
        "start_time": "2023-04-30T18:14:16.889Z"
      },
      {
        "duration": 780,
        "start_time": "2023-04-30T18:14:16.933Z"
      },
      {
        "duration": 1134,
        "start_time": "2023-04-30T18:14:17.715Z"
      },
      {
        "duration": 13,
        "start_time": "2023-04-30T18:14:18.854Z"
      },
      {
        "duration": 22,
        "start_time": "2023-04-30T18:14:18.869Z"
      },
      {
        "duration": 225,
        "start_time": "2023-04-30T18:14:18.896Z"
      },
      {
        "duration": 429,
        "start_time": "2023-04-30T18:14:19.134Z"
      },
      {
        "duration": 9,
        "start_time": "2023-04-30T18:14:19.565Z"
      },
      {
        "duration": 42,
        "start_time": "2023-04-30T18:14:19.580Z"
      },
      {
        "duration": 104,
        "start_time": "2023-04-30T18:14:19.626Z"
      },
      {
        "duration": 17,
        "start_time": "2023-04-30T18:14:19.736Z"
      },
      {
        "duration": 15,
        "start_time": "2023-04-30T18:14:19.759Z"
      },
      {
        "duration": 106,
        "start_time": "2023-04-30T18:14:19.776Z"
      },
      {
        "duration": 21,
        "start_time": "2023-04-30T18:14:19.884Z"
      },
      {
        "duration": 38,
        "start_time": "2023-04-30T18:14:19.910Z"
      },
      {
        "duration": 111,
        "start_time": "2023-04-30T18:14:19.954Z"
      },
      {
        "duration": 11,
        "start_time": "2023-04-30T18:14:20.071Z"
      },
      {
        "duration": 20,
        "start_time": "2023-04-30T18:14:22.438Z"
      },
      {
        "duration": 36,
        "start_time": "2023-04-30T18:15:23.391Z"
      },
      {
        "duration": 27,
        "start_time": "2023-04-30T18:16:09.990Z"
      },
      {
        "duration": 26,
        "start_time": "2023-04-30T18:16:11.186Z"
      },
      {
        "duration": 129,
        "start_time": "2023-04-30T18:16:32.112Z"
      },
      {
        "duration": 419,
        "start_time": "2023-04-30T18:16:42.420Z"
      },
      {
        "duration": 186,
        "start_time": "2023-04-30T18:16:42.845Z"
      },
      {
        "duration": 17,
        "start_time": "2023-04-30T18:16:43.039Z"
      },
      {
        "duration": 61,
        "start_time": "2023-04-30T18:16:43.058Z"
      },
      {
        "duration": 478,
        "start_time": "2023-04-30T18:16:43.129Z"
      },
      {
        "duration": 159,
        "start_time": "2023-04-30T18:16:43.609Z"
      },
      {
        "duration": 9,
        "start_time": "2023-04-30T18:16:43.769Z"
      },
      {
        "duration": 71,
        "start_time": "2023-04-30T18:16:43.779Z"
      },
      {
        "duration": 180,
        "start_time": "2023-04-30T18:16:43.854Z"
      },
      {
        "duration": 120,
        "start_time": "2023-04-30T18:16:44.036Z"
      },
      {
        "duration": 8,
        "start_time": "2023-04-30T18:16:44.157Z"
      },
      {
        "duration": 40,
        "start_time": "2023-04-30T18:16:44.167Z"
      },
      {
        "duration": 33,
        "start_time": "2023-04-30T18:16:44.215Z"
      },
      {
        "duration": 7,
        "start_time": "2023-04-30T18:16:44.250Z"
      },
      {
        "duration": 25,
        "start_time": "2023-04-30T18:16:44.259Z"
      },
      {
        "duration": 60,
        "start_time": "2023-04-30T18:16:44.286Z"
      },
      {
        "duration": 10,
        "start_time": "2023-04-30T18:16:44.348Z"
      },
      {
        "duration": 34,
        "start_time": "2023-04-30T18:16:44.360Z"
      },
      {
        "duration": 92,
        "start_time": "2023-04-30T18:16:44.407Z"
      },
      {
        "duration": 8,
        "start_time": "2023-04-30T18:16:44.501Z"
      },
      {
        "duration": 19,
        "start_time": "2023-04-30T18:16:44.510Z"
      },
      {
        "duration": 26,
        "start_time": "2023-04-30T18:16:44.531Z"
      },
      {
        "duration": 16,
        "start_time": "2023-04-30T18:16:57.360Z"
      },
      {
        "duration": 21,
        "start_time": "2023-04-30T18:17:08.759Z"
      },
      {
        "duration": 110,
        "start_time": "2023-04-30T18:18:34.422Z"
      },
      {
        "duration": 24,
        "start_time": "2023-04-30T18:19:03.523Z"
      },
      {
        "duration": 51,
        "start_time": "2023-04-30T18:19:44.690Z"
      },
      {
        "duration": 18,
        "start_time": "2023-04-30T18:19:53.521Z"
      },
      {
        "duration": 31,
        "start_time": "2023-04-30T18:20:25.349Z"
      },
      {
        "duration": 12,
        "start_time": "2023-04-30T18:20:27.153Z"
      },
      {
        "duration": 24,
        "start_time": "2023-04-30T18:22:42.242Z"
      },
      {
        "duration": 38,
        "start_time": "2023-04-30T18:23:17.833Z"
      },
      {
        "duration": 17,
        "start_time": "2023-04-30T18:23:19.326Z"
      },
      {
        "duration": 31,
        "start_time": "2023-04-30T18:25:24.036Z"
      },
      {
        "duration": 22,
        "start_time": "2023-04-30T18:25:36.027Z"
      },
      {
        "duration": 37,
        "start_time": "2023-04-30T18:26:12.236Z"
      },
      {
        "duration": 29,
        "start_time": "2023-04-30T18:26:13.241Z"
      },
      {
        "duration": 9,
        "start_time": "2023-04-30T18:26:36.638Z"
      },
      {
        "duration": 75,
        "start_time": "2023-04-30T18:26:47.979Z"
      },
      {
        "duration": 8,
        "start_time": "2023-04-30T18:27:00.642Z"
      },
      {
        "duration": 13,
        "start_time": "2023-04-30T18:27:02.840Z"
      },
      {
        "duration": 6,
        "start_time": "2023-04-30T18:27:07.743Z"
      },
      {
        "duration": 15,
        "start_time": "2023-04-30T18:27:13.490Z"
      },
      {
        "duration": 23,
        "start_time": "2023-04-30T18:27:14.826Z"
      },
      {
        "duration": 7,
        "start_time": "2023-04-30T18:27:16.163Z"
      },
      {
        "duration": 7,
        "start_time": "2023-04-30T18:27:17.872Z"
      },
      {
        "duration": 6,
        "start_time": "2023-04-30T18:27:20.268Z"
      },
      {
        "duration": 92,
        "start_time": "2023-04-30T18:27:23.489Z"
      },
      {
        "duration": 1071,
        "start_time": "2023-04-30T18:27:34.539Z"
      },
      {
        "duration": 458,
        "start_time": "2023-04-30T18:27:40.162Z"
      },
      {
        "duration": 476,
        "start_time": "2023-04-30T18:27:48.528Z"
      },
      {
        "duration": 407,
        "start_time": "2023-04-30T18:27:50.233Z"
      },
      {
        "duration": 119,
        "start_time": "2023-04-30T18:32:43.853Z"
      },
      {
        "duration": 9,
        "start_time": "2023-04-30T18:32:48.933Z"
      },
      {
        "duration": 42,
        "start_time": "2023-04-30T18:32:50.099Z"
      },
      {
        "duration": 56,
        "start_time": "2023-04-30T18:33:08.602Z"
      },
      {
        "duration": 22,
        "start_time": "2023-04-30T18:33:41.433Z"
      },
      {
        "duration": 12,
        "start_time": "2023-04-30T18:34:06.951Z"
      },
      {
        "duration": 16,
        "start_time": "2023-04-30T18:35:00.929Z"
      },
      {
        "duration": 23,
        "start_time": "2023-04-30T18:35:23.226Z"
      },
      {
        "duration": 11,
        "start_time": "2023-04-30T18:38:12.681Z"
      },
      {
        "duration": 19,
        "start_time": "2023-04-30T18:38:27.431Z"
      },
      {
        "duration": 22,
        "start_time": "2023-04-30T18:38:44.013Z"
      },
      {
        "duration": 25,
        "start_time": "2023-04-30T18:39:01.919Z"
      },
      {
        "duration": 45,
        "start_time": "2023-04-30T18:39:08.158Z"
      },
      {
        "duration": 111,
        "start_time": "2023-04-30T18:39:13.269Z"
      },
      {
        "duration": 30,
        "start_time": "2023-04-30T18:39:17.037Z"
      },
      {
        "duration": 62,
        "start_time": "2023-04-30T18:39:20.616Z"
      },
      {
        "duration": 12,
        "start_time": "2023-04-30T18:39:28.451Z"
      }
    ],
    "colab": {
      "provenance": [],
      "include_colab_link": true
    },
    "kernelspec": {
      "display_name": "Python 3 (ipykernel)",
      "language": "python",
      "name": "python3"
    },
    "language_info": {
      "codemirror_mode": {
        "name": "ipython",
        "version": 3
      },
      "file_extension": ".py",
      "mimetype": "text/x-python",
      "name": "python",
      "nbconvert_exporter": "python",
      "pygments_lexer": "ipython3",
      "version": "3.9.5"
    },
    "toc": {
      "base_numbering": 1,
      "nav_menu": {},
      "number_sections": true,
      "sideBar": true,
      "skip_h1_title": true,
      "title_cell": "Table of Contents",
      "title_sidebar": "Contents",
      "toc_cell": false,
      "toc_position": {},
      "toc_section_display": true,
      "toc_window_display": false
    }
  },
  "nbformat": 4,
  "nbformat_minor": 0
}