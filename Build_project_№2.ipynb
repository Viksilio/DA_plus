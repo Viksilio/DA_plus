{
  "cells": [
    {
      "cell_type": "markdown",
      "metadata": {
        "id": "view-in-github",
        "colab_type": "text"
      },
      "source": [
        "<a href=\"https://colab.research.google.com/github/Viksilio/DA_plus/blob/master/Build_project_%E2%84%962.ipynb\" target=\"_parent\"><img src=\"https://colab.research.google.com/assets/colab-badge.svg\" alt=\"Open In Colab\"/></a>"
      ]
    },
    {
      "cell_type": "code",
      "execution_count": null,
      "id": "ffc7f1af",
      "metadata": {
        "tags": [
          "aa81075c-062f-4de0-b5fe-14c73dc7468e"
        ],
        "id": "ffc7f1af"
      },
      "outputs": [],
      "source": [
        "import pandas as pd\n",
        "import numpy as np\n",
        "\n",
        "from sqlalchemy import create_engine"
      ]
    },
    {
      "cell_type": "code",
      "execution_count": null,
      "id": "3b3d3cdf",
      "metadata": {
        "id": "3b3d3cdf"
      },
      "outputs": [],
      "source": [
        "path_to_db = '/datasets/telecomm_csi.db'\n",
        "engine = create_engine(f'sqlite:///{path_to_db}', echo = False)"
      ]
    },
    {
      "cell_type": "code",
      "execution_count": null,
      "id": "b846b4c6",
      "metadata": {
        "id": "b846b4c6"
      },
      "outputs": [],
      "source": [
        "query = \"\"\"\n",
        "SELECT u.user_id, \n",
        "       u.lt_day,\n",
        "       CASE\n",
        "           WHEN u.lt_day < 365 THEN 'new'\n",
        "           ELSE 'old'\n",
        "       END as is_new,\n",
        "       u.age,\n",
        "       CASE\n",
        "           WHEN u.gender_segment = 1 THEN 'woman'\n",
        "           WHEN u.gender_segment = 0 THEN 'man'\n",
        "           ELSE 'NaN'\n",
        "       END as gender_segment,\n",
        "       u.os_name,\n",
        "       u.cpe_type_name,\n",
        "       l.country,\n",
        "       l.city,\n",
        "       substr(a_s.title, 3) as age_segment,\n",
        "       substr(t_s.title, 3) as traffic_segment,\n",
        "       substr(l_s.title, 3) as lifetime_segment,\n",
        "       u.nps_score,\n",
        "       CASE\n",
        "           WHEN u.nps_score < 7 THEN 'detractors'\n",
        "           WHEN u.nps_score > 6 AND u.nps_score < 9 THEN 'passives'\n",
        "           ELSE 'promoters'\n",
        "       END as nps_group\n",
        "FROM user as u\n",
        "LEFT JOIN location as l \n",
        "ON u.location_id = l.location_id\n",
        "LEFT JOIN age_segment as a_s\n",
        "ON u.age_gr_id = a_s.age_gr_id\n",
        "LEFT JOIN traffic_segment as t_s\n",
        "ON u.tr_gr_id = t_s.tr_gr_id\n",
        "LEFT JOIN lifetime_segment as l_s\n",
        "ON u.lt_gr_id = l_s.lt_gr_id\n",
        "\"\"\""
      ]
    },
    {
      "cell_type": "code",
      "execution_count": null,
      "id": "67017d45",
      "metadata": {
        "id": "67017d45",
        "outputId": "a69e3be4-b4aa-4d6c-f914-d1d56fd31c74"
      },
      "outputs": [
        {
          "data": {
            "text/html": [
              "<div>\n",
              "<style scoped>\n",
              "    .dataframe tbody tr th:only-of-type {\n",
              "        vertical-align: middle;\n",
              "    }\n",
              "\n",
              "    .dataframe tbody tr th {\n",
              "        vertical-align: top;\n",
              "    }\n",
              "\n",
              "    .dataframe thead th {\n",
              "        text-align: right;\n",
              "    }\n",
              "</style>\n",
              "<table border=\"1\" class=\"dataframe\">\n",
              "  <thead>\n",
              "    <tr style=\"text-align: right;\">\n",
              "      <th></th>\n",
              "      <th>user_id</th>\n",
              "      <th>lt_day</th>\n",
              "      <th>is_new</th>\n",
              "      <th>age</th>\n",
              "      <th>gender_segment</th>\n",
              "      <th>os_name</th>\n",
              "      <th>cpe_type_name</th>\n",
              "      <th>country</th>\n",
              "      <th>city</th>\n",
              "      <th>age_segment</th>\n",
              "      <th>traffic_segment</th>\n",
              "      <th>lifetime_segment</th>\n",
              "      <th>nps_score</th>\n",
              "      <th>nps_group</th>\n",
              "    </tr>\n",
              "  </thead>\n",
              "  <tbody>\n",
              "    <tr>\n",
              "      <th>0</th>\n",
              "      <td>A001A2</td>\n",
              "      <td>2320</td>\n",
              "      <td>old</td>\n",
              "      <td>45.0</td>\n",
              "      <td>woman</td>\n",
              "      <td>ANDROID</td>\n",
              "      <td>SMARTPHONE</td>\n",
              "      <td>Россия</td>\n",
              "      <td>Уфа</td>\n",
              "      <td>45-54</td>\n",
              "      <td>1-5</td>\n",
              "      <td>36+</td>\n",
              "      <td>10</td>\n",
              "      <td>promoters</td>\n",
              "    </tr>\n",
              "    <tr>\n",
              "      <th>1</th>\n",
              "      <td>A001WF</td>\n",
              "      <td>2344</td>\n",
              "      <td>old</td>\n",
              "      <td>53.0</td>\n",
              "      <td>man</td>\n",
              "      <td>ANDROID</td>\n",
              "      <td>SMARTPHONE</td>\n",
              "      <td>Россия</td>\n",
              "      <td>Киров</td>\n",
              "      <td>45-54</td>\n",
              "      <td>1-5</td>\n",
              "      <td>36+</td>\n",
              "      <td>10</td>\n",
              "      <td>promoters</td>\n",
              "    </tr>\n",
              "    <tr>\n",
              "      <th>2</th>\n",
              "      <td>A003Q7</td>\n",
              "      <td>467</td>\n",
              "      <td>old</td>\n",
              "      <td>57.0</td>\n",
              "      <td>man</td>\n",
              "      <td>ANDROID</td>\n",
              "      <td>SMARTPHONE</td>\n",
              "      <td>Россия</td>\n",
              "      <td>Москва</td>\n",
              "      <td>55-64</td>\n",
              "      <td>20-25</td>\n",
              "      <td>13-24</td>\n",
              "      <td>10</td>\n",
              "      <td>promoters</td>\n",
              "    </tr>\n",
              "    <tr>\n",
              "      <th>3</th>\n",
              "      <td>A004TB</td>\n",
              "      <td>4190</td>\n",
              "      <td>old</td>\n",
              "      <td>44.0</td>\n",
              "      <td>woman</td>\n",
              "      <td>IOS</td>\n",
              "      <td>SMARTPHONE</td>\n",
              "      <td>Россия</td>\n",
              "      <td>РостовнаДону</td>\n",
              "      <td>35-44</td>\n",
              "      <td>0.1-1</td>\n",
              "      <td>36+</td>\n",
              "      <td>10</td>\n",
              "      <td>promoters</td>\n",
              "    </tr>\n",
              "    <tr>\n",
              "      <th>4</th>\n",
              "      <td>A004XT</td>\n",
              "      <td>1163</td>\n",
              "      <td>old</td>\n",
              "      <td>24.0</td>\n",
              "      <td>man</td>\n",
              "      <td>ANDROID</td>\n",
              "      <td>SMARTPHONE</td>\n",
              "      <td>Россия</td>\n",
              "      <td>Рязань</td>\n",
              "      <td>16-24</td>\n",
              "      <td>5-10</td>\n",
              "      <td>36+</td>\n",
              "      <td>10</td>\n",
              "      <td>promoters</td>\n",
              "    </tr>\n",
              "    <tr>\n",
              "      <th>5</th>\n",
              "      <td>A005O0</td>\n",
              "      <td>5501</td>\n",
              "      <td>old</td>\n",
              "      <td>42.0</td>\n",
              "      <td>woman</td>\n",
              "      <td>ANDROID</td>\n",
              "      <td>SMARTPHONE</td>\n",
              "      <td>Россия</td>\n",
              "      <td>Омск</td>\n",
              "      <td>35-44</td>\n",
              "      <td>5-10</td>\n",
              "      <td>36+</td>\n",
              "      <td>6</td>\n",
              "      <td>detractors</td>\n",
              "    </tr>\n",
              "    <tr>\n",
              "      <th>6</th>\n",
              "      <td>A0061R</td>\n",
              "      <td>1236</td>\n",
              "      <td>old</td>\n",
              "      <td>45.0</td>\n",
              "      <td>man</td>\n",
              "      <td>ANDROID</td>\n",
              "      <td>SMARTPHONE</td>\n",
              "      <td>Россия</td>\n",
              "      <td>Уфа</td>\n",
              "      <td>45-54</td>\n",
              "      <td>10-15</td>\n",
              "      <td>36+</td>\n",
              "      <td>10</td>\n",
              "      <td>promoters</td>\n",
              "    </tr>\n",
              "    <tr>\n",
              "      <th>7</th>\n",
              "      <td>A009KS</td>\n",
              "      <td>313</td>\n",
              "      <td>new</td>\n",
              "      <td>35.0</td>\n",
              "      <td>man</td>\n",
              "      <td>ANDROID</td>\n",
              "      <td>SMARTPHONE</td>\n",
              "      <td>Россия</td>\n",
              "      <td>Москва</td>\n",
              "      <td>35-44</td>\n",
              "      <td>45-50</td>\n",
              "      <td>7-12</td>\n",
              "      <td>10</td>\n",
              "      <td>promoters</td>\n",
              "    </tr>\n",
              "    <tr>\n",
              "      <th>8</th>\n",
              "      <td>A00AES</td>\n",
              "      <td>3238</td>\n",
              "      <td>old</td>\n",
              "      <td>36.0</td>\n",
              "      <td>woman</td>\n",
              "      <td>ANDROID</td>\n",
              "      <td>SMARTPHONE</td>\n",
              "      <td>Россия</td>\n",
              "      <td>СанктПетербург</td>\n",
              "      <td>35-44</td>\n",
              "      <td>1-5</td>\n",
              "      <td>36+</td>\n",
              "      <td>10</td>\n",
              "      <td>promoters</td>\n",
              "    </tr>\n",
              "    <tr>\n",
              "      <th>9</th>\n",
              "      <td>A00F70</td>\n",
              "      <td>4479</td>\n",
              "      <td>old</td>\n",
              "      <td>54.0</td>\n",
              "      <td>woman</td>\n",
              "      <td>ANDROID</td>\n",
              "      <td>SMARTPHONE</td>\n",
              "      <td>Россия</td>\n",
              "      <td>Волгоград</td>\n",
              "      <td>45-54</td>\n",
              "      <td>15-20</td>\n",
              "      <td>36+</td>\n",
              "      <td>9</td>\n",
              "      <td>promoters</td>\n",
              "    </tr>\n",
              "  </tbody>\n",
              "</table>\n",
              "</div>"
            ],
            "text/plain": [
              "  user_id  lt_day is_new   age gender_segment  os_name cpe_type_name country  \\\n",
              "0  A001A2    2320    old  45.0          woman  ANDROID    SMARTPHONE  Россия   \n",
              "1  A001WF    2344    old  53.0            man  ANDROID    SMARTPHONE  Россия   \n",
              "2  A003Q7     467    old  57.0            man  ANDROID    SMARTPHONE  Россия   \n",
              "3  A004TB    4190    old  44.0          woman      IOS    SMARTPHONE  Россия   \n",
              "4  A004XT    1163    old  24.0            man  ANDROID    SMARTPHONE  Россия   \n",
              "5  A005O0    5501    old  42.0          woman  ANDROID    SMARTPHONE  Россия   \n",
              "6  A0061R    1236    old  45.0            man  ANDROID    SMARTPHONE  Россия   \n",
              "7  A009KS     313    new  35.0            man  ANDROID    SMARTPHONE  Россия   \n",
              "8  A00AES    3238    old  36.0          woman  ANDROID    SMARTPHONE  Россия   \n",
              "9  A00F70    4479    old  54.0          woman  ANDROID    SMARTPHONE  Россия   \n",
              "\n",
              "             city age_segment traffic_segment lifetime_segment  nps_score  \\\n",
              "0             Уфа       45-54             1-5              36+         10   \n",
              "1           Киров       45-54             1-5              36+         10   \n",
              "2          Москва       55-64           20-25            13-24         10   \n",
              "3    РостовнаДону       35-44           0.1-1              36+         10   \n",
              "4          Рязань       16-24            5-10              36+         10   \n",
              "5            Омск       35-44            5-10              36+          6   \n",
              "6             Уфа       45-54           10-15              36+         10   \n",
              "7          Москва       35-44           45-50             7-12         10   \n",
              "8  СанктПетербург       35-44             1-5              36+         10   \n",
              "9       Волгоград       45-54           15-20              36+          9   \n",
              "\n",
              "    nps_group  \n",
              "0   promoters  \n",
              "1   promoters  \n",
              "2   promoters  \n",
              "3   promoters  \n",
              "4   promoters  \n",
              "5  detractors  \n",
              "6   promoters  \n",
              "7   promoters  \n",
              "8   promoters  \n",
              "9   promoters  "
            ]
          },
          "execution_count": 4,
          "metadata": {},
          "output_type": "execute_result"
        }
      ],
      "source": [
        "df = pd.read_sql(query, engine)\n",
        "df.head(10)"
      ]
    },
    {
      "cell_type": "code",
      "execution_count": null,
      "id": "0bcf6854",
      "metadata": {
        "id": "0bcf6854"
      },
      "outputs": [],
      "source": [
        "df.to_csv('telecomm_csi_tableau.csv', index=False)"
      ]
    },
    {
      "cell_type": "markdown",
      "id": "4c861f18",
      "metadata": {
        "id": "4c861f18"
      },
      "source": [
        "### Дашборд на сайте Tableau Public:"
      ]
    },
    {
      "cell_type": "markdown",
      "id": "3b4ff914",
      "metadata": {
        "id": "3b4ff914"
      },
      "source": [
        "Дашборд - <a href=\"https://public.tableau.com/app/profile/vladislav7931/viz/NPSanalyze/Analyze_NPS?publish=yes\">ТУТ</a>"
      ]
    },
    {
      "cell_type": "markdown",
      "id": "8c5a7bb2",
      "metadata": {
        "id": "8c5a7bb2"
      },
      "source": [
        "### pdf-файл с презентацией:"
      ]
    },
    {
      "cell_type": "markdown",
      "id": "a31f0541",
      "metadata": {
        "id": "a31f0541"
      },
      "source": [
        "Презентация - <a href=\"https://drive.google.com/file/d/1rudD5nHAptq4gEqrAhe1MYLfXMNOshHC/view?usp=sharing\">ТУТ</a>"
      ]
    }
  ],
  "metadata": {
    "ExecuteTimeLog": [
      {
        "duration": 752,
        "start_time": "2021-10-03T17:40:52.731Z"
      },
      {
        "duration": 20,
        "start_time": "2021-10-03T17:40:53.486Z"
      },
      {
        "duration": 4,
        "start_time": "2021-10-03T17:41:04.638Z"
      },
      {
        "duration": 461,
        "start_time": "2021-10-03T17:41:04.912Z"
      },
      {
        "duration": 284,
        "start_time": "2021-10-03T17:41:05.376Z"
      },
      {
        "duration": 574,
        "start_time": "2021-10-06T07:55:05.029Z"
      },
      {
        "duration": 6,
        "start_time": "2021-10-06T07:55:05.605Z"
      },
      {
        "duration": 3,
        "start_time": "2021-10-06T07:55:14.685Z"
      },
      {
        "duration": 406,
        "start_time": "2021-10-06T07:55:15.522Z"
      },
      {
        "duration": 67,
        "start_time": "2021-10-06T07:55:15.929Z"
      },
      {
        "duration": 840,
        "start_time": "2021-10-07T07:54:04.647Z"
      },
      {
        "duration": 10,
        "start_time": "2021-10-07T07:54:05.490Z"
      },
      {
        "duration": 4,
        "start_time": "2021-10-07T07:54:05.544Z"
      },
      {
        "duration": 391,
        "start_time": "2021-10-07T07:54:06.237Z"
      },
      {
        "duration": 293,
        "start_time": "2021-10-07T07:54:06.654Z"
      },
      {
        "duration": 517,
        "start_time": "2023-01-09T06:23:21.130Z"
      },
      {
        "duration": 10,
        "start_time": "2023-01-09T06:23:21.649Z"
      },
      {
        "duration": 4,
        "start_time": "2023-01-09T06:23:21.662Z"
      },
      {
        "duration": 739,
        "start_time": "2023-01-09T06:23:21.668Z"
      },
      {
        "duration": 0,
        "start_time": "2023-01-09T06:23:22.409Z"
      },
      {
        "duration": 3,
        "start_time": "2023-01-09T06:24:18.136Z"
      },
      {
        "duration": 13,
        "start_time": "2023-01-09T06:24:18.141Z"
      },
      {
        "duration": 12,
        "start_time": "2023-01-09T06:24:18.155Z"
      },
      {
        "duration": 4824,
        "start_time": "2023-01-09T06:24:18.169Z"
      },
      {
        "duration": 49,
        "start_time": "2023-01-11T16:18:56.630Z"
      },
      {
        "duration": 545,
        "start_time": "2023-01-11T16:19:01.276Z"
      },
      {
        "duration": 11,
        "start_time": "2023-01-11T16:19:01.823Z"
      },
      {
        "duration": 12,
        "start_time": "2023-01-11T16:19:01.836Z"
      },
      {
        "duration": 5161,
        "start_time": "2023-01-11T16:19:01.850Z"
      },
      {
        "duration": 4080,
        "start_time": "2023-01-11T16:19:07.014Z"
      },
      {
        "duration": 3,
        "start_time": "2023-01-11T16:21:05.158Z"
      },
      {
        "duration": 4960,
        "start_time": "2023-01-11T16:21:08.098Z"
      },
      {
        "duration": 3,
        "start_time": "2023-01-11T16:25:28.213Z"
      },
      {
        "duration": 4781,
        "start_time": "2023-01-11T16:25:30.424Z"
      },
      {
        "duration": 5,
        "start_time": "2023-01-11T16:27:46.695Z"
      },
      {
        "duration": 4949,
        "start_time": "2023-01-11T16:27:49.107Z"
      },
      {
        "duration": 4,
        "start_time": "2023-01-11T16:29:38.109Z"
      },
      {
        "duration": 5354,
        "start_time": "2023-01-11T16:29:40.641Z"
      },
      {
        "duration": 3,
        "start_time": "2023-01-11T16:31:06.347Z"
      },
      {
        "duration": 5126,
        "start_time": "2023-01-11T16:31:09.994Z"
      },
      {
        "duration": 6,
        "start_time": "2023-01-11T16:31:43.976Z"
      },
      {
        "duration": 121,
        "start_time": "2023-01-11T16:31:59.795Z"
      },
      {
        "duration": 3,
        "start_time": "2023-01-11T16:36:59.516Z"
      },
      {
        "duration": 5545,
        "start_time": "2023-01-11T16:37:10.383Z"
      },
      {
        "duration": 106,
        "start_time": "2023-01-11T16:37:25.327Z"
      },
      {
        "duration": 123,
        "start_time": "2023-01-11T16:38:39.638Z"
      },
      {
        "duration": 4,
        "start_time": "2023-01-11T16:45:10.697Z"
      },
      {
        "duration": 5141,
        "start_time": "2023-01-11T16:45:18.806Z"
      },
      {
        "duration": 5,
        "start_time": "2023-01-11T16:46:27.170Z"
      },
      {
        "duration": 505,
        "start_time": "2023-01-11T16:46:31.163Z"
      },
      {
        "duration": 4,
        "start_time": "2023-01-11T16:46:40.806Z"
      },
      {
        "duration": 565,
        "start_time": "2023-01-11T16:46:57.090Z"
      },
      {
        "duration": 25,
        "start_time": "2023-01-11T16:46:57.657Z"
      },
      {
        "duration": 4,
        "start_time": "2023-01-11T16:46:57.684Z"
      },
      {
        "duration": 6102,
        "start_time": "2023-01-11T16:46:57.690Z"
      },
      {
        "duration": 116,
        "start_time": "2023-01-11T16:47:03.794Z"
      },
      {
        "duration": 4430,
        "start_time": "2023-01-11T16:47:03.912Z"
      },
      {
        "duration": 123,
        "start_time": "2023-01-11T16:47:25.977Z"
      },
      {
        "duration": 5,
        "start_time": "2023-01-11T16:50:08.866Z"
      },
      {
        "duration": 5953,
        "start_time": "2023-01-11T16:50:10.699Z"
      },
      {
        "duration": 104,
        "start_time": "2023-01-11T16:50:33.958Z"
      },
      {
        "duration": 4300,
        "start_time": "2023-01-11T16:51:37.184Z"
      },
      {
        "duration": 511,
        "start_time": "2023-01-13T08:05:27.478Z"
      },
      {
        "duration": 12,
        "start_time": "2023-01-13T08:05:27.991Z"
      },
      {
        "duration": 6,
        "start_time": "2023-01-13T08:05:28.004Z"
      },
      {
        "duration": 5371,
        "start_time": "2023-01-13T08:05:28.011Z"
      },
      {
        "duration": 3824,
        "start_time": "2023-01-13T08:05:33.384Z"
      },
      {
        "duration": 2423,
        "start_time": "2023-01-13T08:26:05.215Z"
      },
      {
        "duration": 15,
        "start_time": "2023-01-15T08:22:59.135Z"
      },
      {
        "duration": 57,
        "start_time": "2023-01-15T08:23:04.374Z"
      },
      {
        "duration": 557,
        "start_time": "2023-01-15T08:23:12.606Z"
      },
      {
        "duration": 10,
        "start_time": "2023-01-15T08:23:13.165Z"
      },
      {
        "duration": 4,
        "start_time": "2023-01-15T08:23:13.177Z"
      },
      {
        "duration": 512,
        "start_time": "2023-01-15T08:23:13.183Z"
      },
      {
        "duration": 0,
        "start_time": "2023-01-15T08:23:13.697Z"
      },
      {
        "duration": 0,
        "start_time": "2023-01-15T08:23:13.698Z"
      },
      {
        "duration": 3,
        "start_time": "2023-01-15T08:23:55.682Z"
      },
      {
        "duration": 5954,
        "start_time": "2023-01-15T08:24:01.011Z"
      },
      {
        "duration": 3,
        "start_time": "2023-01-15T08:25:14.662Z"
      },
      {
        "duration": 5364,
        "start_time": "2023-01-15T08:25:17.640Z"
      },
      {
        "duration": 3,
        "start_time": "2023-01-15T08:31:09.961Z"
      },
      {
        "duration": 5500,
        "start_time": "2023-01-15T08:31:51.278Z"
      },
      {
        "duration": 3321,
        "start_time": "2023-01-15T08:56:37.285Z"
      },
      {
        "duration": 529,
        "start_time": "2023-01-15T11:29:28.274Z"
      },
      {
        "duration": 10,
        "start_time": "2023-01-15T11:29:28.805Z"
      },
      {
        "duration": 41,
        "start_time": "2023-01-15T11:29:28.817Z"
      },
      {
        "duration": 5454,
        "start_time": "2023-01-15T11:29:28.861Z"
      },
      {
        "duration": 3985,
        "start_time": "2023-01-15T11:29:34.318Z"
      },
      {
        "duration": 3649,
        "start_time": "2023-01-15T11:29:38.305Z"
      },
      {
        "duration": 526,
        "start_time": "2023-01-16T10:19:37.562Z"
      },
      {
        "duration": 10,
        "start_time": "2023-01-16T10:19:38.090Z"
      },
      {
        "duration": 49,
        "start_time": "2023-01-16T10:19:38.102Z"
      },
      {
        "duration": 5252,
        "start_time": "2023-01-16T10:19:38.153Z"
      },
      {
        "duration": 4490,
        "start_time": "2023-01-16T10:19:43.407Z"
      },
      {
        "duration": 4074,
        "start_time": "2023-01-16T10:19:47.899Z"
      },
      {
        "duration": 631,
        "start_time": "2023-01-16T10:20:09.979Z"
      },
      {
        "duration": 11,
        "start_time": "2023-01-16T10:20:10.614Z"
      },
      {
        "duration": 11,
        "start_time": "2023-01-16T10:20:10.626Z"
      },
      {
        "duration": 5264,
        "start_time": "2023-01-16T10:20:10.638Z"
      },
      {
        "duration": 5154,
        "start_time": "2023-01-16T10:20:15.905Z"
      },
      {
        "duration": 3747,
        "start_time": "2023-01-16T10:20:21.061Z"
      }
    ],
    "kernelspec": {
      "display_name": "Python 3 (ipykernel)",
      "language": "python",
      "name": "python3"
    },
    "language_info": {
      "codemirror_mode": {
        "name": "ipython",
        "version": 3
      },
      "file_extension": ".py",
      "mimetype": "text/x-python",
      "name": "python",
      "nbconvert_exporter": "python",
      "pygments_lexer": "ipython3",
      "version": "3.9.5"
    },
    "toc": {
      "base_numbering": 1,
      "nav_menu": {},
      "number_sections": true,
      "sideBar": true,
      "skip_h1_title": true,
      "title_cell": "Table of Contents",
      "title_sidebar": "Contents",
      "toc_cell": false,
      "toc_position": {},
      "toc_section_display": true,
      "toc_window_display": false
    },
    "colab": {
      "provenance": [],
      "include_colab_link": true
    }
  },
  "nbformat": 4,
  "nbformat_minor": 5
}