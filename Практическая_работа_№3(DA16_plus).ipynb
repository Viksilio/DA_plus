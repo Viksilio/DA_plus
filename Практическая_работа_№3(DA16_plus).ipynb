{
 "cells": [
  {
   "cell_type": "markdown",
   "metadata": {},
   "source": [
    "<div style=\"border:solid Chocolate 2px; padding: 40px\">\n",
    "\n",
    "<b>Владислав, привет!</b>\n",
    "\n",
    "Меня зовут Евгений Головин, я буду ревьюером твоего проекта. Если ты не против, то предлагаю посмотрить наше общение на \"ты\" ;) Если удобнее на \"вы\", то нет проблем, только скажи об этом. \n",
    "\n",
    "В ходе работы я оставил тебе комментарии <font color='green'>зеленого</font>, <font color='gold'>желтого</font> и <font color='red'>красного</font> цветов. Сейчас объясню, что они значат:\n",
    "\n",
    "<br/>\n",
    "\n",
    "<div class=\"alert alert-success\">\n",
    "<h2> Комментарий ревьюера <a class=\"tocSkip\"> </h2>\n",
    "\n",
    "<b>Все супер!👍:</b> Решение на этом шаге является полностью правильным.\n",
    "</div>\n",
    "\n",
    "<br/>\n",
    "\n",
    "<div class=\"alert alert-warning\">\n",
    "    <h2> Комментарий ревьюера <a class=\"tocSkip\"> </h2>\n",
    "    \n",
    "<b>Небольшие замечания и рекомендации💡:</b> Решение на этом шаге станет еще лучше, если внести небольшие коррективы.\n",
    "</div>\n",
    "\n",
    "\n",
    "<br/>\n",
    "<div class=\"alert alert-block alert-danger\">\n",
    "<h2> Комментарий ревьюера <a class=\"tocSkip\"></h2>\n",
    "\n",
    "    \n",
    "<b>На доработку🤔:</b>\n",
    " Решение на этом шаге требует существенной переработки и внесения правок. Напоминаю, что проект не может быть принят с первого раза, если ревью содержит комментарии, рекомендующие доработать шаги.\n",
    "</div>\n",
    "    \n",
    "Увидев мой комментарий, не удаляй его, он будет очень полезен в случае повторной проверки работы :)\n",
    "    \n",
    "<div class=\"alert alert-info\">\n",
    "<b>А свой помечай вот так, чтобы я его не потерял ;)</b> \n",
    "</div>\n",
    "    \n",
    "Увидев мой комментарий, не удаляй его, он будет очень полезен в случае повторной проверки работы :)\n",
    "    \n",
    "На мои комменатрии можно и нужно реагировать, только делать это стоит так, чтобы твои и мои комменты не смешались: выделяй свои цветами, сильно отличающимися от моих.\n",
    "    \n",
    "Увидев у тебя неточность, в первый раз я лишь укажу на ее наличие и дам тебе возможность самому найти и исправить ее. На реальной работе твой руководитель будет поступать также, и я пытаюсь подготовить тебя именно к работе аналитиком. Но если ты пока не справишься с такой задачей - при следующей проверке я дам более точную подсказку!"
   ]
  },
  {
   "cell_type": "markdown",
   "metadata": {
    "id": "YYpk3ohDdW5z"
   },
   "source": [
    "# Исследование объявлений о продаже квартир\n",
    "\n",
    "В вашем распоряжении данные сервиса Яндекс.Недвижимость — архив объявлений о продаже квартир в Санкт-Петербурге и соседних населённых пунктов за несколько лет. Нужно научиться определять рыночную стоимость объектов недвижимости. Ваша задача — установить параметры. Это позволит построить автоматизированную систему: она отследит аномалии и мошенническую деятельность. \n",
    "\n",
    "По каждой квартире на продажу доступны два вида данных. Первые вписаны пользователем, вторые — получены автоматически на основе картографических данных. Например, расстояние до центра, аэропорта, ближайшего парка и водоёма. "
   ]
  },
  {
   "cell_type": "markdown",
   "metadata": {},
   "source": [
    "<div class=\"alert alert-success\">\n",
    "<h2> Комментарий ревьюера <a class=\"tocSkip\"> </h2>\n",
    "\n",
    "<b>Все супер!👍:</b> Введение есть, отлично"
   ]
  },
  {
   "cell_type": "markdown",
   "metadata": {
    "id": "ATmQPmdEdvVC"
   },
   "source": [
    "### Импорт библиотек и чтение исходного файла"
   ]
  },
  {
   "cell_type": "code",
   "execution_count": 25,
   "metadata": {
    "id": "H8Set92KdYh2"
   },
   "outputs": [],
   "source": [
    "import pandas as pd\n",
    "import seaborn as sns\n",
    "import matplotlib.pyplot as plt\n",
    "import numpy as np\n",
    "import re\n",
    "import math\n",
    "\n",
    "try:\n",
    "    data = pd.read_csv('real_estate_data.csv', sep='\\t')\n",
    "except:\n",
    "    data = pd.read_csv('https://code.s3.yandex.net/datasets/real_estate_data.csv', sep='\\t')"
   ]
  },
  {
   "cell_type": "markdown",
   "metadata": {
    "id": "ents8RnveWwt"
   },
   "source": [
    "### Общая информация о датафрейме"
   ]
  },
  {
   "cell_type": "markdown",
   "metadata": {
    "id": "C48uyG-pnZ6h"
   },
   "source": [
    "Информация о столбца, типах данных и количествах строк"
   ]
  },
  {
   "cell_type": "code",
   "execution_count": 26,
   "metadata": {
    "colab": {
     "base_uri": "https://localhost:8080/"
    },
    "id": "M2BPPqrTeV9g",
    "outputId": "5462164d-bbfb-4d9f-af89-1ab0d65024f3"
   },
   "outputs": [
    {
     "name": "stdout",
     "output_type": "stream",
     "text": [
      "<class 'pandas.core.frame.DataFrame'>\n",
      "RangeIndex: 23699 entries, 0 to 23698\n",
      "Data columns (total 22 columns):\n",
      " #   Column                Non-Null Count  Dtype  \n",
      "---  ------                --------------  -----  \n",
      " 0   total_images          23699 non-null  int64  \n",
      " 1   last_price            23699 non-null  float64\n",
      " 2   total_area            23699 non-null  float64\n",
      " 3   first_day_exposition  23699 non-null  object \n",
      " 4   rooms                 23699 non-null  int64  \n",
      " 5   ceiling_height        14504 non-null  float64\n",
      " 6   floors_total          23613 non-null  float64\n",
      " 7   living_area           21796 non-null  float64\n",
      " 8   floor                 23699 non-null  int64  \n",
      " 9   is_apartment          2775 non-null   object \n",
      " 10  studio                23699 non-null  bool   \n",
      " 11  open_plan             23699 non-null  bool   \n",
      " 12  kitchen_area          21421 non-null  float64\n",
      " 13  balcony               12180 non-null  float64\n",
      " 14  locality_name         23650 non-null  object \n",
      " 15  airports_nearest      18157 non-null  float64\n",
      " 16  cityCenters_nearest   18180 non-null  float64\n",
      " 17  parks_around3000      18181 non-null  float64\n",
      " 18  parks_nearest         8079 non-null   float64\n",
      " 19  ponds_around3000      18181 non-null  float64\n",
      " 20  ponds_nearest         9110 non-null   float64\n",
      " 21  days_exposition       20518 non-null  float64\n",
      "dtypes: bool(2), float64(14), int64(3), object(3)\n",
      "memory usage: 3.7+ MB\n"
     ]
    }
   ],
   "source": [
    "data.info()"
   ]
  },
  {
   "cell_type": "markdown",
   "metadata": {
    "id": "Zkosr90ShsQC"
   },
   "source": []
  },
  {
   "cell_type": "markdown",
   "metadata": {
    "id": "cMiXKpS2nfal"
   },
   "source": [
    "Информация о количестве строк, среднем отклонении, квартилях, максимальном и минимальном значение в каждом столбце"
   ]
  },
  {
   "cell_type": "code",
   "execution_count": 27,
   "metadata": {
    "colab": {
     "base_uri": "https://localhost:8080/",
     "height": 364
    },
    "id": "qNvwwDsoek0u",
    "outputId": "b0a71731-9a8f-469e-97c2-94d26150a6bc"
   },
   "outputs": [
    {
     "data": {
      "text/html": [
       "<div>\n",
       "<style scoped>\n",
       "    .dataframe tbody tr th:only-of-type {\n",
       "        vertical-align: middle;\n",
       "    }\n",
       "\n",
       "    .dataframe tbody tr th {\n",
       "        vertical-align: top;\n",
       "    }\n",
       "\n",
       "    .dataframe thead th {\n",
       "        text-align: right;\n",
       "    }\n",
       "</style>\n",
       "<table border=\"1\" class=\"dataframe\">\n",
       "  <thead>\n",
       "    <tr style=\"text-align: right;\">\n",
       "      <th></th>\n",
       "      <th>total_images</th>\n",
       "      <th>last_price</th>\n",
       "      <th>total_area</th>\n",
       "      <th>first_day_exposition</th>\n",
       "      <th>rooms</th>\n",
       "      <th>ceiling_height</th>\n",
       "      <th>floors_total</th>\n",
       "      <th>living_area</th>\n",
       "      <th>floor</th>\n",
       "      <th>is_apartment</th>\n",
       "      <th>...</th>\n",
       "      <th>kitchen_area</th>\n",
       "      <th>balcony</th>\n",
       "      <th>locality_name</th>\n",
       "      <th>airports_nearest</th>\n",
       "      <th>cityCenters_nearest</th>\n",
       "      <th>parks_around3000</th>\n",
       "      <th>parks_nearest</th>\n",
       "      <th>ponds_around3000</th>\n",
       "      <th>ponds_nearest</th>\n",
       "      <th>days_exposition</th>\n",
       "    </tr>\n",
       "  </thead>\n",
       "  <tbody>\n",
       "    <tr>\n",
       "      <th>0</th>\n",
       "      <td>20</td>\n",
       "      <td>13000000.0</td>\n",
       "      <td>108.0</td>\n",
       "      <td>2019-03-07T00:00:00</td>\n",
       "      <td>3</td>\n",
       "      <td>2.70</td>\n",
       "      <td>16.0</td>\n",
       "      <td>51.0</td>\n",
       "      <td>8</td>\n",
       "      <td>NaN</td>\n",
       "      <td>...</td>\n",
       "      <td>25.0</td>\n",
       "      <td>NaN</td>\n",
       "      <td>Санкт-Петербург</td>\n",
       "      <td>18863.0</td>\n",
       "      <td>16028.0</td>\n",
       "      <td>1.0</td>\n",
       "      <td>482.0</td>\n",
       "      <td>2.0</td>\n",
       "      <td>755.0</td>\n",
       "      <td>NaN</td>\n",
       "    </tr>\n",
       "    <tr>\n",
       "      <th>1</th>\n",
       "      <td>7</td>\n",
       "      <td>3350000.0</td>\n",
       "      <td>40.4</td>\n",
       "      <td>2018-12-04T00:00:00</td>\n",
       "      <td>1</td>\n",
       "      <td>NaN</td>\n",
       "      <td>11.0</td>\n",
       "      <td>18.6</td>\n",
       "      <td>1</td>\n",
       "      <td>NaN</td>\n",
       "      <td>...</td>\n",
       "      <td>11.0</td>\n",
       "      <td>2.0</td>\n",
       "      <td>посёлок Шушары</td>\n",
       "      <td>12817.0</td>\n",
       "      <td>18603.0</td>\n",
       "      <td>0.0</td>\n",
       "      <td>NaN</td>\n",
       "      <td>0.0</td>\n",
       "      <td>NaN</td>\n",
       "      <td>81.0</td>\n",
       "    </tr>\n",
       "    <tr>\n",
       "      <th>2</th>\n",
       "      <td>10</td>\n",
       "      <td>5196000.0</td>\n",
       "      <td>56.0</td>\n",
       "      <td>2015-08-20T00:00:00</td>\n",
       "      <td>2</td>\n",
       "      <td>NaN</td>\n",
       "      <td>5.0</td>\n",
       "      <td>34.3</td>\n",
       "      <td>4</td>\n",
       "      <td>NaN</td>\n",
       "      <td>...</td>\n",
       "      <td>8.3</td>\n",
       "      <td>0.0</td>\n",
       "      <td>Санкт-Петербург</td>\n",
       "      <td>21741.0</td>\n",
       "      <td>13933.0</td>\n",
       "      <td>1.0</td>\n",
       "      <td>90.0</td>\n",
       "      <td>2.0</td>\n",
       "      <td>574.0</td>\n",
       "      <td>558.0</td>\n",
       "    </tr>\n",
       "    <tr>\n",
       "      <th>3</th>\n",
       "      <td>0</td>\n",
       "      <td>64900000.0</td>\n",
       "      <td>159.0</td>\n",
       "      <td>2015-07-24T00:00:00</td>\n",
       "      <td>3</td>\n",
       "      <td>NaN</td>\n",
       "      <td>14.0</td>\n",
       "      <td>NaN</td>\n",
       "      <td>9</td>\n",
       "      <td>NaN</td>\n",
       "      <td>...</td>\n",
       "      <td>NaN</td>\n",
       "      <td>0.0</td>\n",
       "      <td>Санкт-Петербург</td>\n",
       "      <td>28098.0</td>\n",
       "      <td>6800.0</td>\n",
       "      <td>2.0</td>\n",
       "      <td>84.0</td>\n",
       "      <td>3.0</td>\n",
       "      <td>234.0</td>\n",
       "      <td>424.0</td>\n",
       "    </tr>\n",
       "    <tr>\n",
       "      <th>4</th>\n",
       "      <td>2</td>\n",
       "      <td>10000000.0</td>\n",
       "      <td>100.0</td>\n",
       "      <td>2018-06-19T00:00:00</td>\n",
       "      <td>2</td>\n",
       "      <td>3.03</td>\n",
       "      <td>14.0</td>\n",
       "      <td>32.0</td>\n",
       "      <td>13</td>\n",
       "      <td>NaN</td>\n",
       "      <td>...</td>\n",
       "      <td>41.0</td>\n",
       "      <td>NaN</td>\n",
       "      <td>Санкт-Петербург</td>\n",
       "      <td>31856.0</td>\n",
       "      <td>8098.0</td>\n",
       "      <td>2.0</td>\n",
       "      <td>112.0</td>\n",
       "      <td>1.0</td>\n",
       "      <td>48.0</td>\n",
       "      <td>121.0</td>\n",
       "    </tr>\n",
       "  </tbody>\n",
       "</table>\n",
       "<p>5 rows × 22 columns</p>\n",
       "</div>"
      ],
      "text/plain": [
       "   total_images  last_price  total_area first_day_exposition  rooms  \\\n",
       "0            20  13000000.0       108.0  2019-03-07T00:00:00      3   \n",
       "1             7   3350000.0        40.4  2018-12-04T00:00:00      1   \n",
       "2            10   5196000.0        56.0  2015-08-20T00:00:00      2   \n",
       "3             0  64900000.0       159.0  2015-07-24T00:00:00      3   \n",
       "4             2  10000000.0       100.0  2018-06-19T00:00:00      2   \n",
       "\n",
       "   ceiling_height  floors_total  living_area  floor is_apartment  ...  \\\n",
       "0            2.70          16.0         51.0      8          NaN  ...   \n",
       "1             NaN          11.0         18.6      1          NaN  ...   \n",
       "2             NaN           5.0         34.3      4          NaN  ...   \n",
       "3             NaN          14.0          NaN      9          NaN  ...   \n",
       "4            3.03          14.0         32.0     13          NaN  ...   \n",
       "\n",
       "   kitchen_area  balcony    locality_name  airports_nearest  \\\n",
       "0          25.0      NaN  Санкт-Петербург           18863.0   \n",
       "1          11.0      2.0   посёлок Шушары           12817.0   \n",
       "2           8.3      0.0  Санкт-Петербург           21741.0   \n",
       "3           NaN      0.0  Санкт-Петербург           28098.0   \n",
       "4          41.0      NaN  Санкт-Петербург           31856.0   \n",
       "\n",
       "  cityCenters_nearest  parks_around3000  parks_nearest  ponds_around3000  \\\n",
       "0             16028.0               1.0          482.0               2.0   \n",
       "1             18603.0               0.0            NaN               0.0   \n",
       "2             13933.0               1.0           90.0               2.0   \n",
       "3              6800.0               2.0           84.0               3.0   \n",
       "4              8098.0               2.0          112.0               1.0   \n",
       "\n",
       "   ponds_nearest  days_exposition  \n",
       "0          755.0              NaN  \n",
       "1            NaN             81.0  \n",
       "2          574.0            558.0  \n",
       "3          234.0            424.0  \n",
       "4           48.0            121.0  \n",
       "\n",
       "[5 rows x 22 columns]"
      ]
     },
     "execution_count": 27,
     "metadata": {},
     "output_type": "execute_result"
    }
   ],
   "source": [
    "data.head()"
   ]
  },
  {
   "cell_type": "markdown",
   "metadata": {
    "id": "YyPQXIB8nscq"
   },
   "source": [
    "Первые пять строк датафрейма"
   ]
  },
  {
   "cell_type": "code",
   "execution_count": 28,
   "metadata": {
    "colab": {
     "base_uri": "https://localhost:8080/",
     "height": 386
    },
    "id": "KJ4NsBwphEjn",
    "outputId": "4fa253cb-96d0-4997-84e3-34ad22084d3d"
   },
   "outputs": [
    {
     "data": {
      "text/html": [
       "<div>\n",
       "<style scoped>\n",
       "    .dataframe tbody tr th:only-of-type {\n",
       "        vertical-align: middle;\n",
       "    }\n",
       "\n",
       "    .dataframe tbody tr th {\n",
       "        vertical-align: top;\n",
       "    }\n",
       "\n",
       "    .dataframe thead th {\n",
       "        text-align: right;\n",
       "    }\n",
       "</style>\n",
       "<table border=\"1\" class=\"dataframe\">\n",
       "  <thead>\n",
       "    <tr style=\"text-align: right;\">\n",
       "      <th></th>\n",
       "      <th>total_images</th>\n",
       "      <th>last_price</th>\n",
       "      <th>total_area</th>\n",
       "      <th>rooms</th>\n",
       "      <th>ceiling_height</th>\n",
       "      <th>floors_total</th>\n",
       "      <th>living_area</th>\n",
       "      <th>floor</th>\n",
       "      <th>kitchen_area</th>\n",
       "      <th>balcony</th>\n",
       "      <th>airports_nearest</th>\n",
       "      <th>cityCenters_nearest</th>\n",
       "      <th>parks_around3000</th>\n",
       "      <th>parks_nearest</th>\n",
       "      <th>ponds_around3000</th>\n",
       "      <th>ponds_nearest</th>\n",
       "      <th>days_exposition</th>\n",
       "    </tr>\n",
       "  </thead>\n",
       "  <tbody>\n",
       "    <tr>\n",
       "      <th>count</th>\n",
       "      <td>23699.000000</td>\n",
       "      <td>2.369900e+04</td>\n",
       "      <td>23699.000000</td>\n",
       "      <td>23699.000000</td>\n",
       "      <td>14504.000000</td>\n",
       "      <td>23613.000000</td>\n",
       "      <td>21796.000000</td>\n",
       "      <td>23699.000000</td>\n",
       "      <td>21421.000000</td>\n",
       "      <td>12180.000000</td>\n",
       "      <td>18157.000000</td>\n",
       "      <td>18180.000000</td>\n",
       "      <td>18181.000000</td>\n",
       "      <td>8079.000000</td>\n",
       "      <td>18181.000000</td>\n",
       "      <td>9110.000000</td>\n",
       "      <td>20518.000000</td>\n",
       "    </tr>\n",
       "    <tr>\n",
       "      <th>mean</th>\n",
       "      <td>9.858475</td>\n",
       "      <td>6.541549e+06</td>\n",
       "      <td>60.348651</td>\n",
       "      <td>2.070636</td>\n",
       "      <td>2.771499</td>\n",
       "      <td>10.673824</td>\n",
       "      <td>34.457852</td>\n",
       "      <td>5.892358</td>\n",
       "      <td>10.569807</td>\n",
       "      <td>1.150082</td>\n",
       "      <td>28793.672193</td>\n",
       "      <td>14191.277833</td>\n",
       "      <td>0.611408</td>\n",
       "      <td>490.804555</td>\n",
       "      <td>0.770255</td>\n",
       "      <td>517.980900</td>\n",
       "      <td>180.888634</td>\n",
       "    </tr>\n",
       "    <tr>\n",
       "      <th>std</th>\n",
       "      <td>5.682529</td>\n",
       "      <td>1.088701e+07</td>\n",
       "      <td>35.654083</td>\n",
       "      <td>1.078405</td>\n",
       "      <td>1.261056</td>\n",
       "      <td>6.597173</td>\n",
       "      <td>22.030445</td>\n",
       "      <td>4.885249</td>\n",
       "      <td>5.905438</td>\n",
       "      <td>1.071300</td>\n",
       "      <td>12630.880622</td>\n",
       "      <td>8608.386210</td>\n",
       "      <td>0.802074</td>\n",
       "      <td>342.317995</td>\n",
       "      <td>0.938346</td>\n",
       "      <td>277.720643</td>\n",
       "      <td>219.727988</td>\n",
       "    </tr>\n",
       "    <tr>\n",
       "      <th>min</th>\n",
       "      <td>0.000000</td>\n",
       "      <td>1.219000e+04</td>\n",
       "      <td>12.000000</td>\n",
       "      <td>0.000000</td>\n",
       "      <td>1.000000</td>\n",
       "      <td>1.000000</td>\n",
       "      <td>2.000000</td>\n",
       "      <td>1.000000</td>\n",
       "      <td>1.300000</td>\n",
       "      <td>0.000000</td>\n",
       "      <td>0.000000</td>\n",
       "      <td>181.000000</td>\n",
       "      <td>0.000000</td>\n",
       "      <td>1.000000</td>\n",
       "      <td>0.000000</td>\n",
       "      <td>13.000000</td>\n",
       "      <td>1.000000</td>\n",
       "    </tr>\n",
       "    <tr>\n",
       "      <th>25%</th>\n",
       "      <td>6.000000</td>\n",
       "      <td>3.400000e+06</td>\n",
       "      <td>40.000000</td>\n",
       "      <td>1.000000</td>\n",
       "      <td>2.520000</td>\n",
       "      <td>5.000000</td>\n",
       "      <td>18.600000</td>\n",
       "      <td>2.000000</td>\n",
       "      <td>7.000000</td>\n",
       "      <td>0.000000</td>\n",
       "      <td>18585.000000</td>\n",
       "      <td>9238.000000</td>\n",
       "      <td>0.000000</td>\n",
       "      <td>288.000000</td>\n",
       "      <td>0.000000</td>\n",
       "      <td>294.000000</td>\n",
       "      <td>45.000000</td>\n",
       "    </tr>\n",
       "    <tr>\n",
       "      <th>50%</th>\n",
       "      <td>9.000000</td>\n",
       "      <td>4.650000e+06</td>\n",
       "      <td>52.000000</td>\n",
       "      <td>2.000000</td>\n",
       "      <td>2.650000</td>\n",
       "      <td>9.000000</td>\n",
       "      <td>30.000000</td>\n",
       "      <td>4.000000</td>\n",
       "      <td>9.100000</td>\n",
       "      <td>1.000000</td>\n",
       "      <td>26726.000000</td>\n",
       "      <td>13098.500000</td>\n",
       "      <td>0.000000</td>\n",
       "      <td>455.000000</td>\n",
       "      <td>1.000000</td>\n",
       "      <td>502.000000</td>\n",
       "      <td>95.000000</td>\n",
       "    </tr>\n",
       "    <tr>\n",
       "      <th>75%</th>\n",
       "      <td>14.000000</td>\n",
       "      <td>6.800000e+06</td>\n",
       "      <td>69.900000</td>\n",
       "      <td>3.000000</td>\n",
       "      <td>2.800000</td>\n",
       "      <td>16.000000</td>\n",
       "      <td>42.300000</td>\n",
       "      <td>8.000000</td>\n",
       "      <td>12.000000</td>\n",
       "      <td>2.000000</td>\n",
       "      <td>37273.000000</td>\n",
       "      <td>16293.000000</td>\n",
       "      <td>1.000000</td>\n",
       "      <td>612.000000</td>\n",
       "      <td>1.000000</td>\n",
       "      <td>729.000000</td>\n",
       "      <td>232.000000</td>\n",
       "    </tr>\n",
       "    <tr>\n",
       "      <th>max</th>\n",
       "      <td>50.000000</td>\n",
       "      <td>7.630000e+08</td>\n",
       "      <td>900.000000</td>\n",
       "      <td>19.000000</td>\n",
       "      <td>100.000000</td>\n",
       "      <td>60.000000</td>\n",
       "      <td>409.700000</td>\n",
       "      <td>33.000000</td>\n",
       "      <td>112.000000</td>\n",
       "      <td>5.000000</td>\n",
       "      <td>84869.000000</td>\n",
       "      <td>65968.000000</td>\n",
       "      <td>3.000000</td>\n",
       "      <td>3190.000000</td>\n",
       "      <td>3.000000</td>\n",
       "      <td>1344.000000</td>\n",
       "      <td>1580.000000</td>\n",
       "    </tr>\n",
       "  </tbody>\n",
       "</table>\n",
       "</div>"
      ],
      "text/plain": [
       "       total_images    last_price    total_area         rooms  ceiling_height  \\\n",
       "count  23699.000000  2.369900e+04  23699.000000  23699.000000    14504.000000   \n",
       "mean       9.858475  6.541549e+06     60.348651      2.070636        2.771499   \n",
       "std        5.682529  1.088701e+07     35.654083      1.078405        1.261056   \n",
       "min        0.000000  1.219000e+04     12.000000      0.000000        1.000000   \n",
       "25%        6.000000  3.400000e+06     40.000000      1.000000        2.520000   \n",
       "50%        9.000000  4.650000e+06     52.000000      2.000000        2.650000   \n",
       "75%       14.000000  6.800000e+06     69.900000      3.000000        2.800000   \n",
       "max       50.000000  7.630000e+08    900.000000     19.000000      100.000000   \n",
       "\n",
       "       floors_total   living_area         floor  kitchen_area       balcony  \\\n",
       "count  23613.000000  21796.000000  23699.000000  21421.000000  12180.000000   \n",
       "mean      10.673824     34.457852      5.892358     10.569807      1.150082   \n",
       "std        6.597173     22.030445      4.885249      5.905438      1.071300   \n",
       "min        1.000000      2.000000      1.000000      1.300000      0.000000   \n",
       "25%        5.000000     18.600000      2.000000      7.000000      0.000000   \n",
       "50%        9.000000     30.000000      4.000000      9.100000      1.000000   \n",
       "75%       16.000000     42.300000      8.000000     12.000000      2.000000   \n",
       "max       60.000000    409.700000     33.000000    112.000000      5.000000   \n",
       "\n",
       "       airports_nearest  cityCenters_nearest  parks_around3000  parks_nearest  \\\n",
       "count      18157.000000         18180.000000      18181.000000    8079.000000   \n",
       "mean       28793.672193         14191.277833          0.611408     490.804555   \n",
       "std        12630.880622          8608.386210          0.802074     342.317995   \n",
       "min            0.000000           181.000000          0.000000       1.000000   \n",
       "25%        18585.000000          9238.000000          0.000000     288.000000   \n",
       "50%        26726.000000         13098.500000          0.000000     455.000000   \n",
       "75%        37273.000000         16293.000000          1.000000     612.000000   \n",
       "max        84869.000000         65968.000000          3.000000    3190.000000   \n",
       "\n",
       "       ponds_around3000  ponds_nearest  days_exposition  \n",
       "count      18181.000000    9110.000000     20518.000000  \n",
       "mean           0.770255     517.980900       180.888634  \n",
       "std            0.938346     277.720643       219.727988  \n",
       "min            0.000000      13.000000         1.000000  \n",
       "25%            0.000000     294.000000        45.000000  \n",
       "50%            1.000000     502.000000        95.000000  \n",
       "75%            1.000000     729.000000       232.000000  \n",
       "max            3.000000    1344.000000      1580.000000  "
      ]
     },
     "execution_count": 28,
     "metadata": {},
     "output_type": "execute_result"
    }
   ],
   "source": [
    "data.describe()"
   ]
  },
  {
   "cell_type": "markdown",
   "metadata": {
    "id": "ptcr-8Uan3Ec"
   },
   "source": [
    "Гистограммы для всех столбцов датафрейма"
   ]
  },
  {
   "cell_type": "code",
   "execution_count": 29,
   "metadata": {
    "colab": {
     "base_uri": "https://localhost:8080/",
     "height": 1000
    },
    "id": "Oceiy-5Vn6mt",
    "outputId": "c3031ab9-fa85-4e6d-8489-88104b2379ee"
   },
   "outputs": [
    {
     "data": {
      "text/plain": [
       "array([[<AxesSubplot:title={'center':'total_images'}>,\n",
       "        <AxesSubplot:title={'center':'last_price'}>,\n",
       "        <AxesSubplot:title={'center':'total_area'}>,\n",
       "        <AxesSubplot:title={'center':'rooms'}>],\n",
       "       [<AxesSubplot:title={'center':'ceiling_height'}>,\n",
       "        <AxesSubplot:title={'center':'floors_total'}>,\n",
       "        <AxesSubplot:title={'center':'living_area'}>,\n",
       "        <AxesSubplot:title={'center':'floor'}>],\n",
       "       [<AxesSubplot:title={'center':'kitchen_area'}>,\n",
       "        <AxesSubplot:title={'center':'balcony'}>,\n",
       "        <AxesSubplot:title={'center':'airports_nearest'}>,\n",
       "        <AxesSubplot:title={'center':'cityCenters_nearest'}>],\n",
       "       [<AxesSubplot:title={'center':'parks_around3000'}>,\n",
       "        <AxesSubplot:title={'center':'parks_nearest'}>,\n",
       "        <AxesSubplot:title={'center':'ponds_around3000'}>,\n",
       "        <AxesSubplot:title={'center':'ponds_nearest'}>],\n",
       "       [<AxesSubplot:title={'center':'days_exposition'}>, <AxesSubplot:>,\n",
       "        <AxesSubplot:>, <AxesSubplot:>]], dtype=object)"
      ]
     },
     "execution_count": 29,
     "metadata": {},
     "output_type": "execute_result"
    },
    {
     "data": {
      "image/png": "[encoded data removed]",
      "text/plain": [
       "<Figure size 1440x1440 with 20 Axes>"
      ]
     },
     "metadata": {
      "needs_background": "light"
     },
     "output_type": "display_data"
    }
   ],
   "source": [
    "data.hist(figsize=(20, 20))"
   ]
  },
  {
   "cell_type": "markdown",
   "metadata": {},
   "source": [
    "<b> Вывод:</b>\n",
    "\n",
    "- Благодарю методу info(), видем что, в данных есть значимое количество пропусков;\n",
    "- Также, методом head(), есть понимание, что в столбцах `is_apartment`, `first_day_exposition`, `last_price`, `floors_total`, `balcony` неверно указаны типы данных. Также можно изменить тип данных в столбцах с расстояниями до парков, аэропорта, центра с `float` на `int`;\n",
    "- Применив метод describe(), видно что, в следующих столбах есть выбросы:\n",
    "    - `total_image` - все, что больше 26\n",
    "    - `last_price` - все, что больше 11 900 000\n",
    "    - `total_area` - все, что больше 114,75\n",
    "    - `rooms` - все, что больше 6\n",
    "    - `floors_total` - все, что больше 33\n",
    "    - `living_area` - все, что больше 77,85\n",
    "    - `kitchen_area` - все, что больше 19,5\n",
    "    - `airport_neasrest` - все, что больше 65305\n",
    "    - `cityCenters_nearest` - все, что больше 26876\n",
    "    - `parks_nearest` - все, что больше 1098\n",
    "    - `days_exposition` - все, что больше 513\n",
    "- Выведя гистрограммы для каждого столбца есть следующее понимание о распределении данных в них:\n",
    "    - Столбцы с распределением Пуассона:\n",
    "        - `rooms`\n",
    "        - `total_images`\n",
    "        - `balcony`\n",
    "        - `cityCenters_nearest`\n",
    "        - `parks_neasrest`\n",
    "    - Столбцы с геометрическим распределением:\n",
    "        - `total_area`\n",
    "        - `floors_total`\n",
    "        - `living_area`\n",
    "        - `floor`\n",
    "        - `kitchen_area`\n",
    "        - `days_exposition`\n",
    "    - Столбцы с биномальным распределением:\n",
    "        - `ponds_nearest`\n",
    "        - `airport_nearest`"
   ]
  },
  {
   "cell_type": "markdown",
   "metadata": {},
   "source": [
    "<div class=\"alert alert-warning\">\n",
    "    <h2> Комментарий ревьюера <a class=\"tocSkip\"> </h2>\n",
    "    \n",
    "<b>Небольшие замечания и рекомендации💡:</b>  Так, вот открыли мы и гистограммы, и info(), и describe() а вывод не написали. Есть ли пропуски? Неправильные типы данных? Выбросы и аномалии? Нормальные ли распределения?"
   ]
  },
  {
   "cell_type": "markdown",
   "metadata": {},
   "source": [
    "<div class=\"alert alert-info\">\n",
    "<b>Благодарю за замечания, сделал отдельный вывод и описал все, что заметил :)</b> \n",
    "</div>"
   ]
  },
  {
   "cell_type": "markdown",
   "metadata": {},
   "source": [
    "<div class=\"alert alert-success\">\n",
    "<h2> Комментарий ревьюера v2 <a class=\"tocSkip\"> </h2>\n",
    "\n",
    "<b>Все супер!👍:</b> Вижу, молодец)"
   ]
  },
  {
   "cell_type": "markdown",
   "metadata": {
    "id": "qVzPNqQDrBiO"
   },
   "source": [
    "### Предобработка данных"
   ]
  },
  {
   "cell_type": "code",
   "execution_count": 30,
   "metadata": {
    "colab": {
     "base_uri": "https://localhost:8080/"
    },
    "id": "ZT0sVDnxrLnS",
    "outputId": "01a78b58-2b58-4177-f255-f5851b8dd35a"
   },
   "outputs": [
    {
     "data": {
      "text/plain": [
       "total_images                0\n",
       "last_price                  0\n",
       "total_area                  0\n",
       "first_day_exposition        0\n",
       "rooms                       0\n",
       "ceiling_height           9195\n",
       "floors_total               86\n",
       "living_area              1903\n",
       "floor                       0\n",
       "is_apartment            20924\n",
       "studio                      0\n",
       "open_plan                   0\n",
       "kitchen_area             2278\n",
       "balcony                 11519\n",
       "locality_name              49\n",
       "airports_nearest         5542\n",
       "cityCenters_nearest      5519\n",
       "parks_around3000         5518\n",
       "parks_nearest           15620\n",
       "ponds_around3000         5518\n",
       "ponds_nearest           14589\n",
       "days_exposition          3181\n",
       "dtype: int64"
      ]
     },
     "execution_count": 30,
     "metadata": {},
     "output_type": "execute_result"
    }
   ],
   "source": [
    "data.isnull().sum()"
   ]
  },
  {
   "cell_type": "markdown",
   "metadata": {
    "id": "RzQYnjzBujS0"
   },
   "source": [
    "Из информации выше, мы видим, что пропущенные значения есть в следующих столбцах:\n",
    "- высота потолков\n",
    "- всего этажей в доме\n",
    "- жилая площадь\n",
    "- апартаменты\n",
    "- площадь кухни\n",
    "- число балконов\n",
    "- название населённого пункта\n",
    "- расстояние до ближайшего аэропорта в метрах\n",
    "- расстояние до центра города\n",
    "- расстояние до ближайшего парка\n",
    "- число водоёмов в радиусе 3 км\n",
    "- расстояние до ближайшего водоёма\n",
    "- число парков в радиусе 3 км\n",
    "- сколько дней было размещено объявление\n",
    "\n",
    "Пропуски значений в следующих столбцах случайные и их можно заменить:\n",
    "- число балконов -> `0`\n",
    "- апартаменты -> `False`"
   ]
  },
  {
   "cell_type": "markdown",
   "metadata": {},
   "source": [
    "<div class=\"alert alert-success\">\n",
    "<h2> Комментарий ревьюера <a class=\"tocSkip\"> </h2>\n",
    "\n",
    "<b>Все супер!👍:</b> А вот и вывод для первого раздела!"
   ]
  },
  {
   "cell_type": "code",
   "execution_count": 31,
   "metadata": {
    "id": "m80c7pK_ENGk"
   },
   "outputs": [],
   "source": [
    "data['balcony'] = data['balcony'].fillna(0)\n",
    "data['is_apartment'] = data['is_apartment'].fillna(False)"
   ]
  },
  {
   "cell_type": "markdown",
   "metadata": {},
   "source": [
    "<div class=\"alert alert-success\">\n",
    "<h2> Комментарий ревьюера <a class=\"tocSkip\"> </h2>\n",
    "\n",
    "<b>Все супер!👍:</b> Поддерживаю)"
   ]
  },
  {
   "cell_type": "code",
   "execution_count": 32,
   "metadata": {
    "colab": {
     "base_uri": "https://localhost:8080/"
    },
    "id": "oYm4A-aTHBL3",
    "outputId": "1bdca1b7-e2a3-422f-91d4-fdff611a61ec"
   },
   "outputs": [
    {
     "data": {
      "text/plain": [
       "total_images                0\n",
       "last_price                  0\n",
       "total_area                  0\n",
       "first_day_exposition        0\n",
       "rooms                       0\n",
       "ceiling_height           9195\n",
       "floors_total               86\n",
       "living_area              1903\n",
       "floor                       0\n",
       "is_apartment                0\n",
       "studio                      0\n",
       "open_plan                   0\n",
       "kitchen_area             2278\n",
       "balcony                     0\n",
       "locality_name              49\n",
       "airports_nearest         5542\n",
       "cityCenters_nearest      5519\n",
       "parks_around3000         5518\n",
       "parks_nearest           15620\n",
       "ponds_around3000         5518\n",
       "ponds_nearest           14589\n",
       "days_exposition          3181\n",
       "dtype: int64"
      ]
     },
     "execution_count": 32,
     "metadata": {},
     "output_type": "execute_result"
    }
   ],
   "source": [
    "data.isna().sum()"
   ]
  },
  {
   "cell_type": "markdown",
   "metadata": {},
   "source": [
    "Заполним пропуски в остальных столбцах, где это возможно, медианным значениям, исходя из количества комнат."
   ]
  },
  {
   "cell_type": "code",
   "execution_count": 33,
   "metadata": {},
   "outputs": [],
   "source": [
    "data['living_area'] = data['living_area'].fillna(data.groupby('rooms')['living_area'].transform(\"median\"))\n",
    "data['kitchen_area'] = data['kitchen_area'].fillna(data.groupby('rooms')['kitchen_area'].transform(\"median\"))"
   ]
  },
  {
   "cell_type": "markdown",
   "metadata": {},
   "source": [
    "<div class=\"alert alert-success\">\n",
    "<h2> Комментарий ревьюера <a class=\"tocSkip\"> </h2>\n",
    "\n",
    "<b>Все супер!👍:</b> Отличная идея!"
   ]
  },
  {
   "cell_type": "code",
   "execution_count": 34,
   "metadata": {},
   "outputs": [],
   "source": [
    "#data['days_exposition'].median()\n",
    "#data['days_exposition'] = data['days_exposition'].fillna(95)"
   ]
  },
  {
   "cell_type": "markdown",
   "metadata": {},
   "source": [
    "<div class=\"alert alert-info\">\n",
    "<b>Согласен, закомментировал этот пункт, те объявления где указано `NaN` еще не сняты с публикации</b> \n",
    "</div>"
   ]
  },
  {
   "cell_type": "markdown",
   "metadata": {},
   "source": [
    "<div class=\"alert alert-block alert-danger\">\n",
    "<h2> Комментарий ревьюера <a class=\"tocSkip\"></h2>\n",
    "\n",
    "<b>На доработку🤔:</b>  Не согласен. Отражает ли такая замена действительность? В чем причина появления пропусков? Чтобы ответить на этот вопрос, нужно посмотреть распределение пропусков по годам\n",
    "    "
   ]
  },
  {
   "cell_type": "markdown",
   "metadata": {},
   "source": [
    "<div class=\"alert alert-success\">\n",
    "<h2> Комментарий ревьюера v2 <a class=\"tocSkip\"> </h2>\n",
    "\n",
    "<b>Все супер!👍:</b> Ты полностью прав!"
   ]
  },
  {
   "cell_type": "code",
   "execution_count": 35,
   "metadata": {},
   "outputs": [
    {
     "data": {
      "text/plain": [
       "total_images                0\n",
       "last_price                  0\n",
       "total_area                  0\n",
       "first_day_exposition        0\n",
       "rooms                       0\n",
       "ceiling_height           9195\n",
       "floors_total               86\n",
       "living_area                 0\n",
       "floor                       0\n",
       "is_apartment                0\n",
       "studio                      0\n",
       "open_plan                   0\n",
       "kitchen_area              197\n",
       "balcony                     0\n",
       "locality_name              49\n",
       "airports_nearest         5542\n",
       "cityCenters_nearest      5519\n",
       "parks_around3000         5518\n",
       "parks_nearest           15620\n",
       "ponds_around3000         5518\n",
       "ponds_nearest           14589\n",
       "days_exposition          3181\n",
       "dtype: int64"
      ]
     },
     "execution_count": 35,
     "metadata": {},
     "output_type": "execute_result"
    }
   ],
   "source": [
    "data.isna().sum()"
   ]
  },
  {
   "cell_type": "code",
   "execution_count": 36,
   "metadata": {
    "colab": {
     "base_uri": "https://localhost:8080/"
    },
    "id": "xQko4hsiHELF",
    "outputId": "27fcc2d1-a1f4-41ae-caab-d635541bf2d8"
   },
   "outputs": [
    {
     "data": {
      "text/plain": [
       "total_images              int64\n",
       "last_price              float64\n",
       "total_area              float64\n",
       "first_day_exposition     object\n",
       "rooms                     int64\n",
       "ceiling_height          float64\n",
       "floors_total            float64\n",
       "living_area             float64\n",
       "floor                     int64\n",
       "is_apartment               bool\n",
       "studio                     bool\n",
       "open_plan                  bool\n",
       "kitchen_area            float64\n",
       "balcony                 float64\n",
       "locality_name            object\n",
       "airports_nearest        float64\n",
       "cityCenters_nearest     float64\n",
       "parks_around3000        float64\n",
       "parks_nearest           float64\n",
       "ponds_around3000        float64\n",
       "ponds_nearest           float64\n",
       "days_exposition         float64\n",
       "dtype: object"
      ]
     },
     "execution_count": 36,
     "metadata": {},
     "output_type": "execute_result"
    }
   ],
   "source": [
    "data.dtypes"
   ]
  },
  {
   "cell_type": "markdown",
   "metadata": {
    "id": "WzrJFQt4I5ML"
   },
   "source": [
    "Из списка типов столбцов выше видно, что необходимо сменить типы данных у столбцов перечисленных в выводе первого раздела\n",
    "\n",
    "\n",
    "\n",
    "\n"
   ]
  },
  {
   "cell_type": "code",
   "execution_count": 37,
   "metadata": {
    "id": "-HGZ7O9OHGv7"
   },
   "outputs": [],
   "source": [
    "data['first_day_exposition'] = pd.to_datetime(data['first_day_exposition'], format='%Y-%m-%dT%H:%M:%S')\n",
    "data = data.astype({\"last_price\" : \"int64\", \"airports_nearest\" : \"Int64\", \"cityCenters_nearest\":\"Int64\", \"parks_around3000\":\"Int64\", \"parks_nearest\":\"Int64\", \"ponds_around3000\":\"Int64\", \"ponds_nearest\":\"Int64\"})"
   ]
  },
  {
   "cell_type": "markdown",
   "metadata": {},
   "source": [
    "<div class=\"alert alert-success\">\n",
    "<h2> Комментарий ревьюера <a class=\"tocSkip\"> </h2>\n",
    "\n",
    "<b>Все супер!👍:</b> Действительно, дату нужно привести к дате"
   ]
  },
  {
   "cell_type": "code",
   "execution_count": 38,
   "metadata": {
    "colab": {
     "base_uri": "https://localhost:8080/"
    },
    "id": "-gojRY0zLdC1",
    "outputId": "77371d09-504c-4b69-cad5-162fa1d69796"
   },
   "outputs": [
    {
     "data": {
      "text/plain": [
       "total_images                     int64\n",
       "last_price                       int64\n",
       "total_area                     float64\n",
       "first_day_exposition    datetime64[ns]\n",
       "rooms                            int64\n",
       "ceiling_height                 float64\n",
       "floors_total                   float64\n",
       "living_area                    float64\n",
       "floor                            int64\n",
       "is_apartment                      bool\n",
       "studio                            bool\n",
       "open_plan                         bool\n",
       "kitchen_area                   float64\n",
       "balcony                        float64\n",
       "locality_name                   object\n",
       "airports_nearest                 Int64\n",
       "cityCenters_nearest              Int64\n",
       "parks_around3000                 Int64\n",
       "parks_nearest                    Int64\n",
       "ponds_around3000                 Int64\n",
       "ponds_nearest                    Int64\n",
       "days_exposition                float64\n",
       "dtype: object"
      ]
     },
     "execution_count": 38,
     "metadata": {},
     "output_type": "execute_result"
    }
   ],
   "source": [
    "data.dtypes"
   ]
  },
  {
   "cell_type": "markdown",
   "metadata": {
    "id": "v8r2c4-12IOX"
   },
   "source": [
    "Выведя типы стоблцов мы видим, что типы данных успешно сменились на верные"
   ]
  },
  {
   "cell_type": "markdown",
   "metadata": {},
   "source": [
    "<div class=\"alert alert-warning\">\n",
    "    <h2> Комментарий ревьюера <a class=\"tocSkip\"> </h2>\n",
    "    \n",
    "<b>Небольшие замечания и рекомендации💡:</b> Пока у нас много столбцов с неправильными типами: цена, количество прудов и подобные. Надеюсь, что дальше мы типы поменяем"
   ]
  },
  {
   "cell_type": "markdown",
   "metadata": {},
   "source": [
    "<div class=\"alert alert-info\">\n",
    "<b>Учел этот момент и сменил типы данных в остальных столбцах, где это было необходимо</b> \n",
    "</div>"
   ]
  },
  {
   "cell_type": "markdown",
   "metadata": {},
   "source": [
    "<div class=\"alert alert-success\">\n",
    "<h2> Комментарий ревьюера v2 <a class=\"tocSkip\"> </h2>\n",
    "\n",
    "<b>Все супер!👍:</b> Увидел, хорошо)"
   ]
  },
  {
   "cell_type": "markdown",
   "metadata": {},
   "source": [
    "Сменим наименование столбца `cityCenters_nearest` на `snake_case`, то есть `city_center_nearest`"
   ]
  },
  {
   "cell_type": "code",
   "execution_count": 39,
   "metadata": {},
   "outputs": [
    {
     "data": {
      "text/plain": [
       "Index(['total_images', 'last_price', 'total_area', 'first_day_exposition',\n",
       "       'rooms', 'ceiling_height', 'floors_total', 'living_area', 'floor',\n",
       "       'is_apartment', 'studio', 'open_plan', 'kitchen_area', 'balcony',\n",
       "       'locality_name', 'airports_nearest', 'city_centers_nearest',\n",
       "       'parks_around3000', 'parks_nearest', 'ponds_around3000',\n",
       "       'ponds_nearest', 'days_exposition'],\n",
       "      dtype='object')"
      ]
     },
     "execution_count": 39,
     "metadata": {},
     "output_type": "execute_result"
    }
   ],
   "source": [
    "data = data.rename(columns={\"cityCenters_nearest\" : \"city_centers_nearest\"})\n",
    "data.columns"
   ]
  },
  {
   "cell_type": "markdown",
   "metadata": {},
   "source": [
    "<div class=\"alert alert-success\">\n",
    "<h2> Комментарий ревьюера <a class=\"tocSkip\"> </h2>\n",
    "\n",
    "<b>Все супер!👍:</b> Согласен, о правильном типе данных не нужно забывать"
   ]
  },
  {
   "cell_type": "code",
   "execution_count": 40,
   "metadata": {
    "id": "mx11lXoj2UHX"
   },
   "outputs": [
    {
     "data": {
      "text/plain": [
       "array(['Санкт-Петербург', 'посёлок Шушары', 'городской посёлок Янино-1',\n",
       "       'посёлок Парголово', 'посёлок Мурино', 'Ломоносов', 'Сертолово',\n",
       "       'Петергоф', 'Пушкин', 'деревня Кудрово', 'Коммунар', 'Колпино',\n",
       "       'поселок городского типа Красный Бор', 'Гатчина', 'поселок Мурино',\n",
       "       'деревня Фёдоровское', 'Выборг', 'Кронштадт', 'Кировск',\n",
       "       'деревня Новое Девяткино', 'посёлок Металлострой',\n",
       "       'посёлок городского типа Лебяжье',\n",
       "       'посёлок городского типа Сиверский', 'поселок Молодцово',\n",
       "       'поселок городского типа Кузьмоловский',\n",
       "       'садовое товарищество Новая Ропша', 'Павловск',\n",
       "       'деревня Пикколово', 'Всеволожск', 'Волхов', 'Кингисепп',\n",
       "       'Приозерск', 'Сестрорецк', 'деревня Куттузи', 'посёлок Аннино',\n",
       "       'поселок городского типа Ефимовский', 'посёлок Плодовое',\n",
       "       'деревня Заклинье', 'поселок Торковичи', 'поселок Первомайское',\n",
       "       'Красное Село', 'посёлок Понтонный', 'Сясьстрой', 'деревня Старая',\n",
       "       'деревня Лесколово', 'посёлок Новый Свет', 'Сланцы',\n",
       "       'село Путилово', 'Ивангород', 'Мурино', 'Шлиссельбург',\n",
       "       'Никольское', 'Зеленогорск', 'Сосновый Бор', 'поселок Новый Свет',\n",
       "       'деревня Оржицы', 'деревня Кальтино', 'Кудрово',\n",
       "       'поселок Романовка', 'посёлок Бугры', 'поселок Бугры',\n",
       "       'поселок городского типа Рощино', 'Кириши', 'Луга', 'Волосово',\n",
       "       'Отрадное', 'село Павлово', 'поселок Оредеж', 'село Копорье',\n",
       "       'посёлок городского типа Красный Бор', 'посёлок Молодёжное',\n",
       "       'Тихвин', 'посёлок Победа', 'деревня Нурма',\n",
       "       'поселок городского типа Синявино', 'Тосно',\n",
       "       'посёлок городского типа Кузьмоловский', 'посёлок Стрельна',\n",
       "       'Бокситогорск', 'посёлок Александровская', 'деревня Лопухинка',\n",
       "       'Пикалёво', 'поселок Терволово',\n",
       "       'поселок городского типа Советский', 'Подпорожье',\n",
       "       'посёлок Петровское', 'посёлок городского типа Токсово',\n",
       "       'поселок Сельцо', 'посёлок городского типа Вырица',\n",
       "       'деревня Кипень', 'деревня Келози', 'деревня Вартемяги',\n",
       "       'посёлок Тельмана', 'поселок Севастьяново',\n",
       "       'городской поселок Большая Ижора', nan,\n",
       "       'городской посёлок Павлово', 'деревня Агалатово',\n",
       "       'посёлок Новогорелово', 'городской посёлок Лесогорский',\n",
       "       'деревня Лаголово', 'поселок Цвелодубово',\n",
       "       'поселок городского типа Рахья', 'поселок городского типа Вырица',\n",
       "       'деревня Белогорка', 'поселок Заводской',\n",
       "       'городской посёлок Новоселье', 'деревня Большие Колпаны',\n",
       "       'деревня Горбунки', 'деревня Батово', 'деревня Заневка',\n",
       "       'деревня Иссад', 'Приморск', 'городской посёлок Фёдоровское',\n",
       "       'деревня Мистолово', 'Новая Ладога', 'поселок Зимитицы',\n",
       "       'поселок Барышево', 'деревня Разметелево',\n",
       "       'поселок городского типа имени Свердлова', 'деревня Пеники',\n",
       "       'поселок Рябово', 'деревня Пудомяги', 'поселок станции Корнево',\n",
       "       'деревня Низино', 'деревня Бегуницы', 'посёлок Поляны',\n",
       "       'городской посёлок Мга', 'поселок Елизаветино',\n",
       "       'посёлок городского типа Кузнечное', 'деревня Колтуши',\n",
       "       'поселок Запорожское', 'посёлок городского типа Рощино',\n",
       "       'деревня Гостилицы', 'деревня Малое Карлино',\n",
       "       'посёлок Мичуринское', 'посёлок городского типа имени Морозова',\n",
       "       'посёлок Песочный', 'посёлок Сосново', 'деревня Аро',\n",
       "       'поселок Ильичёво', 'посёлок городского типа Тайцы',\n",
       "       'деревня Малое Верево', 'деревня Извара', 'поселок станции Вещево',\n",
       "       'село Паша', 'деревня Калитино',\n",
       "       'посёлок городского типа Ульяновка', 'деревня Чудской Бор',\n",
       "       'поселок городского типа Дубровка', 'деревня Мины',\n",
       "       'поселок Войсковицы', 'посёлок городского типа имени Свердлова',\n",
       "       'деревня Коркино', 'посёлок Ропша',\n",
       "       'поселок городского типа Приладожский', 'посёлок Щеглово',\n",
       "       'посёлок Гаврилово', 'Лодейное Поле', 'деревня Рабитицы',\n",
       "       'поселок городского типа Никольский', 'деревня Кузьмолово',\n",
       "       'деревня Малые Колпаны', 'поселок Тельмана',\n",
       "       'посёлок Петро-Славянка', 'городской посёлок Назия',\n",
       "       'посёлок Репино', 'посёлок Ильичёво', 'поселок Углово',\n",
       "       'поселок Старая Малукса', 'садовое товарищество Рахья',\n",
       "       'поселок Аннино', 'поселок Победа', 'деревня Меньково',\n",
       "       'деревня Старые Бегуницы', 'посёлок Сапёрный', 'поселок Семрино',\n",
       "       'поселок Гаврилово', 'поселок Глажево', 'поселок Кобринское',\n",
       "       'деревня Гарболово', 'деревня Юкки',\n",
       "       'поселок станции Приветнинское', 'деревня Мануйлово',\n",
       "       'деревня Пчева', 'поселок Поляны', 'поселок Цвылёво',\n",
       "       'поселок Мельниково', 'посёлок Пудость', 'посёлок Усть-Луга',\n",
       "       'Светогорск', 'Любань', 'поселок Селезнёво',\n",
       "       'поселок городского типа Рябово', 'Каменногорск', 'деревня Кривко',\n",
       "       'поселок Глебычево', 'деревня Парицы', 'поселок Жилпосёлок',\n",
       "       'посёлок городского типа Мга', 'городской поселок Янино-1',\n",
       "       'посёлок Войскорово', 'село Никольское', 'посёлок Терволово',\n",
       "       'поселок Стеклянный', 'посёлок городского типа Важины',\n",
       "       'посёлок Мыза-Ивановка', 'село Русско-Высоцкое',\n",
       "       'поселок городского типа Лебяжье',\n",
       "       'поселок городского типа Форносово', 'село Старая Ладога',\n",
       "       'поселок Житково', 'городской посёлок Виллози', 'деревня Лампово',\n",
       "       'деревня Шпаньково', 'деревня Лаврики', 'посёлок Сумино',\n",
       "       'посёлок Возрождение', 'деревня Старосиверская',\n",
       "       'посёлок Кикерино', 'поселок Возрождение',\n",
       "       'деревня Старое Хинколово', 'посёлок Пригородный',\n",
       "       'посёлок Торфяное', 'городской посёлок Будогощь',\n",
       "       'поселок Суходолье', 'поселок Красная Долина', 'деревня Хапо-Ое',\n",
       "       'поселок городского типа Дружная Горка', 'поселок Лисий Нос',\n",
       "       'деревня Яльгелево', 'посёлок Стеклянный', 'село Рождествено',\n",
       "       'деревня Старополье', 'посёлок Левашово', 'деревня Сяськелево',\n",
       "       'деревня Камышовка',\n",
       "       'садоводческое некоммерческое товарищество Лесная Поляна',\n",
       "       'деревня Хязельки', 'поселок Жилгородок',\n",
       "       'посёлок городского типа Павлово', 'деревня Ялгино',\n",
       "       'поселок Новый Учхоз', 'городской посёлок Рощино',\n",
       "       'поселок Гончарово', 'поселок Почап', 'посёлок Сапёрное',\n",
       "       'посёлок Платформа 69-й километр', 'поселок Каложицы',\n",
       "       'деревня Фалилеево', 'деревня Пельгора',\n",
       "       'поселок городского типа Лесогорский', 'деревня Торошковичи',\n",
       "       'посёлок Белоостров', 'посёлок Алексеевка', 'поселок Серебрянский',\n",
       "       'поселок Лукаши', 'поселок Петровское', 'деревня Щеглово',\n",
       "       'поселок Мичуринское', 'деревня Тарасово', 'поселок Кингисеппский',\n",
       "       'посёлок при железнодорожной станции Вещево', 'поселок Ушаки',\n",
       "       'деревня Котлы', 'деревня Сижно', 'деревня Торосово',\n",
       "       'посёлок Форт Красная Горка', 'поселок городского типа Токсово',\n",
       "       'деревня Новолисино', 'посёлок станции Громово', 'деревня Глинка',\n",
       "       'посёлок Мельниково', 'поселок городского типа Назия',\n",
       "       'деревня Старая Пустошь', 'поселок Коммунары', 'поселок Починок',\n",
       "       'посёлок городского типа Вознесенье', 'деревня Разбегаево',\n",
       "       'посёлок городского типа Рябово', 'поселок Гладкое',\n",
       "       'посёлок при железнодорожной станции Приветнинское',\n",
       "       'поселок Тёсово-4', 'посёлок Жилгородок', 'деревня Бор',\n",
       "       'посёлок Коробицыно', 'деревня Большая Вруда', 'деревня Курковицы',\n",
       "       'посёлок Лисий Нос', 'городской посёлок Советский',\n",
       "       'посёлок Кобралово', 'деревня Суоранда', 'поселок Кобралово',\n",
       "       'поселок городского типа Кондратьево',\n",
       "       'коттеджный поселок Счастье', 'поселок Любань', 'деревня Реброво',\n",
       "       'деревня Зимитицы', 'деревня Тойворово', 'поселок Семиозерье',\n",
       "       'поселок Лесное', 'поселок Совхозный', 'поселок Усть-Луга',\n",
       "       'посёлок Ленинское', 'посёлок Суйда',\n",
       "       'посёлок городского типа Форносово', 'деревня Нижние Осельки',\n",
       "       'посёлок станции Свирь', 'поселок Перово', 'Высоцк',\n",
       "       'поселок Гарболово', 'село Шум', 'поселок Котельский',\n",
       "       'поселок станции Лужайка', 'деревня Большая Пустомержа',\n",
       "       'поселок Красносельское', 'деревня Вахнова Кара', 'деревня Пижма',\n",
       "       'коттеджный поселок Кивеннапа Север', 'поселок Коробицыно',\n",
       "       'поселок Ромашки', 'посёлок Перово', 'деревня Каськово',\n",
       "       'деревня Куровицы', 'посёлок Плоское', 'поселок Сумино',\n",
       "       'поселок городского типа Большая Ижора', 'поселок Кирпичное',\n",
       "       'деревня Ям-Тесово', 'деревня Раздолье', 'деревня Терпилицы',\n",
       "       'посёлок Шугозеро', 'деревня Ваганово', 'поселок Пушное',\n",
       "       'садовое товарищество Садко', 'посёлок Усть-Ижора',\n",
       "       'деревня Выскатка', 'городской посёлок Свирьстрой',\n",
       "       'поселок Громово', 'деревня Кисельня', 'посёлок Старая Малукса',\n",
       "       'деревня Трубников Бор', 'поселок Калитино',\n",
       "       'посёлок Высокоключевой', 'садовое товарищество Приладожский',\n",
       "       'посёлок Пансионат Зелёный Бор', 'деревня Ненимяки',\n",
       "       'поселок Пансионат Зелёный Бор', 'деревня Снегирёвка',\n",
       "       'деревня Рапполово', 'деревня Пустынка', 'поселок Рабитицы',\n",
       "       'деревня Большой Сабск', 'деревня Русско', 'деревня Лупполово',\n",
       "       'деревня Большое Рейзино', 'деревня Малая Романовка',\n",
       "       'поселок Дружноселье', 'поселок Пчевжа', 'поселок Володарское',\n",
       "       'деревня Нижняя', 'коттеджный посёлок Лесное', 'деревня Тихковицы',\n",
       "       'деревня Борисова Грива', 'посёлок Дзержинского'], dtype=object)"
      ]
     },
     "execution_count": 40,
     "metadata": {},
     "output_type": "execute_result"
    }
   ],
   "source": [
    "data['locality_name'].unique()"
   ]
  },
  {
   "cell_type": "markdown",
   "metadata": {},
   "source": [
    "Выведя уникальные значения из столбца \"Название населённого пункта\", мы видим, что есть дубликаты, записаные разным способом.\n",
    "Чтобы избавится от дубликатов, применим функцию, котороя перезапишет в столбец `locality_name` только имена собственные населенных пунктов, отбросив тип населенного пункта (поселок, деревная, поселок городского типа и т.д.)."
   ]
  },
  {
   "cell_type": "code",
   "execution_count": 41,
   "metadata": {},
   "outputs": [],
   "source": [
    "def  only_upper(row):\n",
    "    return re.sub(r'\\b[а-яё]+\\s*', \"\", str(row['locality_name'])).strip()\n",
    "data['locality_name'] = data.apply(only_upper, axis=1)"
   ]
  },
  {
   "cell_type": "markdown",
   "metadata": {},
   "source": [
    " <div class=\"alert alert-success\">\n",
    "<h2> Комментарий ревьюера <a class=\"tocSkip\"> </h2>\n",
    "\n",
    "<b>Все супер!👍:</b> Поддерживаю"
   ]
  },
  {
   "cell_type": "code",
   "execution_count": 42,
   "metadata": {},
   "outputs": [
    {
     "data": {
      "text/plain": [
       "array(['Санкт-Петербург', 'Шушары', 'Янино-1', 'Парголово', 'Мурино',\n",
       "       'Ломоносов', 'Сертолово', 'Петергоф', 'Пушкин', 'Кудрово',\n",
       "       'Коммунар', 'Колпино', 'Красный Бор', 'Гатчина', 'Фёдоровское',\n",
       "       'Выборг', 'Кронштадт', 'Кировск', 'Новое Девяткино',\n",
       "       'Металлострой', 'Лебяжье', 'Сиверский', 'Молодцово',\n",
       "       'Кузьмоловский', 'Новая Ропша', 'Павловск', 'Пикколово',\n",
       "       'Всеволожск', 'Волхов', 'Кингисепп', 'Приозерск', 'Сестрорецк',\n",
       "       'Куттузи', 'Аннино', 'Ефимовский', 'Плодовое', 'Заклинье',\n",
       "       'Торковичи', 'Первомайское', 'Красное Село', 'Понтонный',\n",
       "       'Сясьстрой', 'Старая', 'Лесколово', 'Новый Свет', 'Сланцы',\n",
       "       'Путилово', 'Ивангород', 'Шлиссельбург', 'Никольское',\n",
       "       'Зеленогорск', 'Сосновый Бор', 'Оржицы', 'Кальтино', 'Романовка',\n",
       "       'Бугры', 'Рощино', 'Кириши', 'Луга', 'Волосово', 'Отрадное',\n",
       "       'Павлово', 'Оредеж', 'Копорье', 'Молодёжное', 'Тихвин', 'Победа',\n",
       "       'Нурма', 'Синявино', 'Тосно', 'Стрельна', 'Бокситогорск',\n",
       "       'Александровская', 'Лопухинка', 'Пикалёво', 'Терволово',\n",
       "       'Советский', 'Подпорожье', 'Петровское', 'Токсово', 'Сельцо',\n",
       "       'Вырица', 'Кипень', 'Келози', 'Вартемяги', 'Тельмана',\n",
       "       'Севастьяново', 'Большая Ижора', 'nan', 'Агалатово',\n",
       "       'Новогорелово', 'Лесогорский', 'Лаголово', 'Цвелодубово', 'Рахья',\n",
       "       'Белогорка', 'Заводской', 'Новоселье', 'Большие Колпаны',\n",
       "       'Горбунки', 'Батово', 'Заневка', 'Иссад', 'Приморск', 'Мистолово',\n",
       "       'Новая Ладога', 'Зимитицы', 'Барышево', 'Разметелево', 'Свердлова',\n",
       "       'Пеники', 'Рябово', 'Пудомяги', 'Корнево', 'Низино', 'Бегуницы',\n",
       "       'Поляны', 'Мга', 'Елизаветино', 'Кузнечное', 'Колтуши',\n",
       "       'Запорожское', 'Гостилицы', 'Малое Карлино', 'Мичуринское',\n",
       "       'Морозова', 'Песочный', 'Сосново', 'Аро', 'Ильичёво', 'Тайцы',\n",
       "       'Малое Верево', 'Извара', 'Вещево', 'Паша', 'Калитино',\n",
       "       'Ульяновка', 'Чудской Бор', 'Дубровка', 'Мины', 'Войсковицы',\n",
       "       'Коркино', 'Ропша', 'Приладожский', 'Щеглово', 'Гаврилово',\n",
       "       'Лодейное Поле', 'Рабитицы', 'Никольский', 'Кузьмолово',\n",
       "       'Малые Колпаны', 'Петро-Славянка', 'Назия', 'Репино', 'Углово',\n",
       "       'Старая Малукса', 'Меньково', 'Старые Бегуницы', 'Сапёрный',\n",
       "       'Семрино', 'Глажево', 'Кобринское', 'Гарболово', 'Юкки',\n",
       "       'Приветнинское', 'Мануйлово', 'Пчева', 'Цвылёво', 'Мельниково',\n",
       "       'Пудость', 'Усть-Луга', 'Светогорск', 'Любань', 'Селезнёво',\n",
       "       'Каменногорск', 'Кривко', 'Глебычево', 'Парицы', 'Жилпосёлок',\n",
       "       'Войскорово', 'Стеклянный', 'Важины', 'Мыза-Ивановка',\n",
       "       'Русско-Высоцкое', 'Форносово', 'Старая Ладога', 'Житково',\n",
       "       'Виллози', 'Лампово', 'Шпаньково', 'Лаврики', 'Сумино',\n",
       "       'Возрождение', 'Старосиверская', 'Кикерино', 'Старое Хинколово',\n",
       "       'Пригородный', 'Торфяное', 'Будогощь', 'Суходолье',\n",
       "       'Красная Долина', 'Хапо-Ое', 'Дружная Горка', 'Лисий Нос',\n",
       "       'Яльгелево', 'Рождествено', 'Старополье', 'Левашово', 'Сяськелево',\n",
       "       'Камышовка', 'Лесная Поляна', 'Хязельки', 'Жилгородок', 'Ялгино',\n",
       "       'Новый Учхоз', 'Гончарово', 'Почап', 'Сапёрное', 'Платформа 69-',\n",
       "       'Каложицы', 'Фалилеево', 'Пельгора', 'Торошковичи', 'Белоостров',\n",
       "       'Алексеевка', 'Серебрянский', 'Лукаши', 'Тарасово',\n",
       "       'Кингисеппский', 'Ушаки', 'Котлы', 'Сижно', 'Торосово',\n",
       "       'Форт Красная Горка', 'Новолисино', 'Громово', 'Глинка',\n",
       "       'Старая Пустошь', 'Коммунары', 'Починок', 'Вознесенье',\n",
       "       'Разбегаево', 'Гладкое', 'Тёсово-4', 'Бор', 'Коробицыно',\n",
       "       'Большая Вруда', 'Курковицы', 'Кобралово', 'Суоранда',\n",
       "       'Кондратьево', 'Счастье', 'Реброво', 'Тойворово', 'Семиозерье',\n",
       "       'Лесное', 'Совхозный', 'Ленинское', 'Суйда', 'Нижние Осельки',\n",
       "       'Свирь', 'Перово', 'Высоцк', 'Шум', 'Котельский', 'Лужайка',\n",
       "       'Большая Пустомержа', 'Красносельское', 'Вахнова Кара', 'Пижма',\n",
       "       'Кивеннапа Север', 'Ромашки', 'Каськово', 'Куровицы', 'Плоское',\n",
       "       'Кирпичное', 'Ям-Тесово', 'Раздолье', 'Терпилицы', 'Шугозеро',\n",
       "       'Ваганово', 'Пушное', 'Садко', 'Усть-Ижора', 'Выскатка',\n",
       "       'Свирьстрой', 'Кисельня', 'Трубников Бор', 'Высокоключевой',\n",
       "       'Пансионат Зелёный Бор', 'Ненимяки', 'Снегирёвка', 'Рапполово',\n",
       "       'Пустынка', 'Большой Сабск', 'Русско', 'Лупполово',\n",
       "       'Большое Рейзино', 'Малая Романовка', 'Дружноселье', 'Пчевжа',\n",
       "       'Володарское', 'Нижняя', 'Тихковицы', 'Борисова Грива',\n",
       "       'Дзержинского'], dtype=object)"
      ]
     },
     "execution_count": 42,
     "metadata": {},
     "output_type": "execute_result"
    }
   ],
   "source": [
    "data['locality_name'].unique()"
   ]
  },
  {
   "cell_type": "markdown",
   "metadata": {},
   "source": [
    "Выведя список уникальных значений населенных пунктов, мы видим, что явных повторений более нет"
   ]
  },
  {
   "cell_type": "markdown",
   "metadata": {},
   "source": [
    "<div class=\"alert alert-warning\">\n",
    "    <h2> Комментарий ревьюера <a class=\"tocSkip\"> </h2>\n",
    "    \n",
    "<b>Небольшие замечания и рекомендации💡:</b> Можем сделать лучше, если уберем все буквы \"ё\", а также навзания типов поселений"
   ]
  },
  {
   "cell_type": "markdown",
   "metadata": {},
   "source": [
    "<div class=\"alert alert-info\">\n",
    "<b>Мое решение показалось мне более рациональным :)</b> \n",
    "</div>"
   ]
  },
  {
   "cell_type": "markdown",
   "metadata": {},
   "source": [
    "<div class=\"alert alert-success\">\n",
    "<h2> Комментарий ревьюера v2 <a class=\"tocSkip\"> </h2>\n",
    "\n",
    "<b>Все супер!👍:</b> Не спорю)"
   ]
  },
  {
   "cell_type": "code",
   "execution_count": 43,
   "metadata": {},
   "outputs": [
    {
     "data": {
      "text/plain": [
       "array([  2.7 ,    nan,   3.03,   2.5 ,   2.67,   2.56,   3.05,   2.75,\n",
       "         2.6 ,   2.9 ,   2.8 ,   2.55,   3.  ,   2.65,   3.2 ,   2.61,\n",
       "         3.25,   3.45,   2.77,   2.85,   2.64,   2.57,   4.15,   3.5 ,\n",
       "         3.3 ,   2.71,   4.  ,   2.47,   2.73,   2.84,   3.1 ,   2.34,\n",
       "         3.4 ,   3.06,   2.72,   2.54,   2.51,   2.78,   2.76,  25.  ,\n",
       "         2.58,   3.7 ,   2.52,   5.2 ,   2.87,   2.66,   2.59,   2.  ,\n",
       "         2.45,   3.6 ,   2.92,   3.11,   3.13,   3.8 ,   3.15,   3.55,\n",
       "         3.16,   3.62,   3.12,   2.53,   2.74,   2.96,   2.46,   5.3 ,\n",
       "         5.  ,   2.79,   2.95,   4.06,   2.94,   3.82,   3.54,   3.53,\n",
       "         2.83,   4.7 ,   2.4 ,   3.38,   3.01,   5.6 ,   3.65,   3.9 ,\n",
       "         3.18,   3.35,   2.3 ,   3.57,   2.48,   2.62,   2.82,   3.98,\n",
       "         2.63,   3.83,   3.52,   3.95,   3.75,   2.88,   3.67,   3.87,\n",
       "         3.66,   3.85,   3.86,   4.19,   3.24,   4.8 ,   4.5 ,   4.2 ,\n",
       "         3.36,  32.  ,   3.08,   3.68,   3.07,   3.37,   3.09,   8.  ,\n",
       "         3.26,   3.34,   2.81,   3.44,   2.97,   3.14,   4.37,   2.68,\n",
       "         3.22,   3.27,  27.  ,   4.1 ,   2.93,   3.46,  24.  ,   3.47,\n",
       "         3.33,   3.63,   3.32,  26.  ,   1.2 ,   8.3 ,   2.98,   2.86,\n",
       "         3.17,   4.4 ,   3.28,   3.04,   4.45,   5.5 ,   3.84,   3.23,\n",
       "         3.02,   3.21,   3.43,   3.78,   4.3 ,   3.39,   2.69,   3.31,\n",
       "         4.65,   3.56,   2.2 ,   3.51,   3.93,   3.42,   2.99,   3.49,\n",
       "        14.  ,   4.14,   2.91,   3.88,   1.75,   4.25,   3.29,  20.  ,\n",
       "         2.25,   3.76,   3.69,   6.  ,  22.6 ,   2.89,   3.58,   5.8 ,\n",
       "        27.5 ,   2.49,   4.9 ,   3.48,  10.3 ,   1.  , 100.  ,   3.59])"
      ]
     },
     "execution_count": 43,
     "metadata": {},
     "output_type": "execute_result"
    }
   ],
   "source": [
    "data['ceiling_height'].unique()"
   ]
  },
  {
   "cell_type": "markdown",
   "metadata": {},
   "source": [
    "Из списка выше видим, что некоторые значения сильно выбиваются, к примеру 26, 32, 24. Очевидно, что в таких значения, неверно указана разделительная запятая. Также, есть значения, которые явно выбиваются, к примеру, такие значения как 1, 100 и т.д., они являются выбросами."
   ]
  },
  {
   "cell_type": "code",
   "execution_count": 44,
   "metadata": {
    "id": "mx11lXoj2UHX"
   },
   "outputs": [
    {
     "data": {
      "text/plain": [
       "array([ 2.7 ,   nan,  3.03,  2.5 ,  2.67,  2.56,  3.05,  2.75,  2.6 ,\n",
       "        2.9 ,  2.8 ,  2.55,  3.  ,  2.65,  3.2 ,  2.61,  3.25,  3.45,\n",
       "        2.77,  2.85,  2.64,  2.57,  4.15,  3.5 ,  3.3 ,  2.71,  4.  ,\n",
       "        2.47,  2.73,  2.84,  3.1 ,  2.34,  3.4 ,  3.06,  2.72,  2.54,\n",
       "        2.51,  2.78,  2.76,  2.58,  3.7 ,  2.52,  5.2 ,  2.87,  2.66,\n",
       "        2.59,  2.  ,  2.45,  3.6 ,  2.92,  3.11,  3.13,  3.8 ,  3.15,\n",
       "        3.55,  3.16,  3.62,  3.12,  2.53,  2.74,  2.96,  2.46,  5.3 ,\n",
       "        5.  ,  2.79,  2.95,  4.06,  2.94,  3.82,  3.54,  3.53,  2.83,\n",
       "        4.7 ,  2.4 ,  3.38,  3.01,  5.6 ,  3.65,  3.9 ,  3.18,  3.35,\n",
       "        2.3 ,  3.57,  2.48,  2.62,  2.82,  3.98,  2.63,  3.83,  3.52,\n",
       "        3.95,  3.75,  2.88,  3.67,  3.87,  3.66,  3.85,  3.86,  4.19,\n",
       "        3.24,  4.8 ,  4.5 ,  4.2 ,  3.36,  3.08,  3.68,  3.07,  3.37,\n",
       "        3.09,  0.8 ,  3.26,  3.34,  2.81,  3.44,  2.97,  3.14,  4.37,\n",
       "        2.68,  3.22,  3.27,  4.1 ,  2.93,  3.46,  3.47,  3.33,  3.63,\n",
       "        3.32,  1.2 ,  0.83,  2.98,  2.86,  3.17,  4.4 ,  3.28,  3.04,\n",
       "        4.45,  5.5 ,  3.84,  3.23,  3.02,  3.21,  3.43,  3.78,  4.3 ,\n",
       "        3.39,  2.69,  3.31,  4.65,  3.56,  2.2 ,  3.51,  3.93,  3.42,\n",
       "        2.99,  3.49,  1.4 ,  4.14,  2.91,  3.88,  1.75,  4.25,  3.29,\n",
       "        2.25,  3.76,  3.69,  6.  ,  2.26,  2.89,  3.58,  5.8 ,  2.49,\n",
       "        4.9 ,  3.48,  1.03,  1.  , 10.  ,  3.59])"
      ]
     },
     "execution_count": 44,
     "metadata": {},
     "output_type": "execute_result"
    }
   ],
   "source": [
    "data['ceiling_height'] = np.where(data['ceiling_height'] > 6, data['ceiling_height']/10, data['ceiling_height'])\n",
    "data['ceiling_height'].unique()"
   ]
  },
  {
   "cell_type": "markdown",
   "metadata": {},
   "source": [
    "<div class=\"alert alert-success\">\n",
    "<h2> Комментарий ревьюера <a class=\"tocSkip\"> </h2>\n",
    "\n",
    "<b>Все супер!👍:</b> Поддерживаю"
   ]
  },
  {
   "cell_type": "markdown",
   "metadata": {},
   "source": [
    "Скорректировав значения, видим что, есть значения, которые явно выбиваются, к примеру, такие значения как 0.8, 10 и т.д., они являются выбросами."
   ]
  },
  {
   "cell_type": "code",
   "execution_count": 45,
   "metadata": {},
   "outputs": [
    {
     "data": {
      "text/plain": [
       "<AxesSubplot:>"
      ]
     },
     "execution_count": 45,
     "metadata": {},
     "output_type": "execute_result"
    },
    {
     "data": {
      "image/png": "[encoded data removed]",
      "text/plain": [
       "<Figure size 432x288 with 1 Axes>"
      ]
     },
     "metadata": {
      "needs_background": "light"
     },
     "output_type": "display_data"
    }
   ],
   "source": [
    "data['ceiling_height'].plot(kind='box')"
   ]
  },
  {
   "cell_type": "code",
   "execution_count": 46,
   "metadata": {},
   "outputs": [],
   "source": [
    "data['ceiling_height'] = data['ceiling_height'].fillna(data.groupby('floors_total')['ceiling_height'].transform(\"median\"))\n",
    "data = data[(data['ceiling_height'] <= 6.1) & (data['ceiling_height'] >= 1.5) & (data['ceiling_height'] != 0)]"
   ]
  },
  {
   "cell_type": "markdown",
   "metadata": {},
   "source": [
    "Заполним, также пропуски медианным значением в этом столбце"
   ]
  },
  {
   "cell_type": "code",
   "execution_count": 47,
   "metadata": {},
   "outputs": [
    {
     "data": {
      "text/plain": [
       "array([2.7 , 2.75, 2.55, 2.6 , 3.03, 2.65, 2.66, 2.5 , 2.67, 2.56, 3.  ,\n",
       "       3.05, 2.8 , 2.9 , 3.2 , 2.61, 3.25, 3.45, 2.77, 2.85, 2.64, 2.57,\n",
       "       4.15, 3.5 , 3.3 , 2.71, 4.  , 2.47, 2.73, 2.84, 3.1 , 2.34, 3.4 ,\n",
       "       3.06, 2.72, 2.54, 2.51, 2.78, 2.76, 2.58, 3.7 , 2.52, 5.2 , 2.87,\n",
       "       2.59, 2.  , 2.45, 3.6 , 2.92, 3.11, 3.13, 3.8 , 3.15, 3.55, 3.16,\n",
       "       3.62, 3.12, 2.53, 2.74, 2.96, 2.46, 5.3 , 5.  , 2.79, 2.95, 4.06,\n",
       "       2.94, 3.82, 3.54, 3.53, 2.83, 4.7 , 2.4 , 3.38, 3.01, 5.6 , 3.65,\n",
       "       3.9 , 3.18, 3.35, 2.3 , 3.57, 2.48, 2.62, 2.82, 3.98, 2.63, 3.83,\n",
       "       3.52, 3.95, 3.75, 2.88, 3.67, 3.87, 3.66, 3.85, 3.86, 4.19, 3.24,\n",
       "       4.8 , 4.5 , 4.2 , 3.36, 3.08, 3.68, 3.07, 3.37, 3.09, 3.26, 3.34,\n",
       "       2.81, 3.44, 2.97, 3.14, 4.37, 2.68, 3.22, 3.27, 4.1 , 2.93, 3.46,\n",
       "       3.47, 3.33, 3.63, 3.32, 2.98, 2.86, 3.17, 4.4 , 3.28, 3.04, 4.45,\n",
       "       5.5 , 3.84, 3.23, 3.02, 3.21, 3.43, 3.78, 4.3 , 3.39, 2.69, 3.31,\n",
       "       4.65, 3.56, 2.2 , 3.51, 3.93, 3.42, 2.99, 3.49, 4.14, 2.91, 3.88,\n",
       "       1.75, 4.25, 3.29, 2.25, 3.76, 3.69, 6.  , 2.26, 2.89, 3.58, 5.8 ,\n",
       "       2.49, 4.9 , 3.48, 3.59])"
      ]
     },
     "execution_count": 47,
     "metadata": {},
     "output_type": "execute_result"
    }
   ],
   "source": [
    "data['ceiling_height'].unique()"
   ]
  },
  {
   "cell_type": "markdown",
   "metadata": {},
   "source": [
    "<div class=\"alert alert-warning\">\n",
    "    <h2> Комментарий ревьюера <a class=\"tocSkip\"> </h2>\n",
    "    \n",
    "<b>Небольшие замечания и рекомендации💡:</b> Можно и медианой, но лучше группировку и медиану, ты так уже делал выше. Так ближе к реальности"
   ]
  },
  {
   "cell_type": "markdown",
   "metadata": {},
   "source": [
    "<div class=\"alert alert-info\">\n",
    "<b>Не учтел этот момент, что можно сгрупировать данные по общей площади и заполнить медианным значением! Благодарю за замечание!</b> \n",
    "</div>"
   ]
  },
  {
   "cell_type": "markdown",
   "metadata": {},
   "source": [
    "<div class=\"alert alert-warning\">\n",
    "    <h2> Комментарий ревьюера v2 <a class=\"tocSkip\"> </h2>\n",
    "    \n",
    "<b>Небольшие замечания и рекомендации💡:</b> А не лучше ли будет, если группирвока будет произведена по количеству этажей в доме? Например мы же знаем, что есть хрущевки"
   ]
  },
  {
   "cell_type": "code",
   "execution_count": 48,
   "metadata": {},
   "outputs": [],
   "source": [
    "#data['floors_total'].describe()"
   ]
  },
  {
   "cell_type": "code",
   "execution_count": 49,
   "metadata": {},
   "outputs": [],
   "source": [
    "data['floors_total'] = data['floors_total'].fillna(data.groupby('floor')['floors_total'].transform(\"median\"))"
   ]
  },
  {
   "cell_type": "markdown",
   "metadata": {},
   "source": [
    "<div class=\"alert alert-block alert-danger\">\n",
    "<h2> Комментарий ревьюера <a class=\"tocSkip\"></h2>\n",
    "\n",
    "<b>На доработку🤔:</b>  А так можно? Не появятся ли квартиры, которые располаагются на более высоком этаже, чем всего есть в квартире?"
   ]
  },
  {
   "cell_type": "markdown",
   "metadata": {},
   "source": [
    "<div class=\"alert alert-info\">\n",
    "<b>Согласен, было опрометчивым решением, заполнить пропуски просто медианным значением. Сгруппировал данные по этажам</b> \n",
    "</div>"
   ]
  },
  {
   "cell_type": "markdown",
   "metadata": {},
   "source": [
    "<div class=\"alert alert-warning\">\n",
    "    <h2> Комментарий ревьюера v2 <a class=\"tocSkip\"> </h2>\n",
    "    \n",
    "<b>Небольшие замечания и рекомендации💡:</b> Я бы вообще оставил эти пропуски, не вижу здесь методов заполнения пропусков"
   ]
  },
  {
   "cell_type": "code",
   "execution_count": 50,
   "metadata": {
    "scrolled": true
   },
   "outputs": [],
   "source": [
    "kitchen_area_coeff = (data['kitchen_area'] / data['total_area']).median()\n",
    "data['kitchen_area'] = data['kitchen_area'].fillna(data.groupby('total_area')['total_area'].transform(lambda x: x*kitchen_area_coeff))"
   ]
  },
  {
   "cell_type": "markdown",
   "metadata": {},
   "source": [
    "<div class=\"alert alert-warning\">\n",
    "    <h2> Комментарий ревьюера <a class=\"tocSkip\"> </h2>\n",
    "    \n",
    "<b>Небольшие замечания и рекомендации💡:</b> Идея для плоащи кухни - можнонайти отношение кухонной площади ко всей, а затем на полученный коэффициент умножить всю площадь"
   ]
  },
  {
   "cell_type": "markdown",
   "metadata": {},
   "source": [
    "<div class=\"alert alert-info\">\n",
    "<b>Большое спасибо за подсказку, надеюсь моя реализация верна -_0</b> \n",
    "</div>"
   ]
  },
  {
   "cell_type": "markdown",
   "metadata": {},
   "source": [
    "<div class=\"alert alert-success\">\n",
    "<h2> Комментарий ревьюера v2 <a class=\"tocSkip\"> </h2>\n",
    "\n",
    "<b>Все супер!👍:</b> Хорошо)"
   ]
  },
  {
   "cell_type": "code",
   "execution_count": 51,
   "metadata": {},
   "outputs": [
    {
     "data": {
      "text/plain": [
       "total_images                0\n",
       "last_price                  0\n",
       "total_area                  0\n",
       "first_day_exposition        0\n",
       "rooms                       0\n",
       "ceiling_height              0\n",
       "floors_total                0\n",
       "living_area                 0\n",
       "floor                       0\n",
       "is_apartment                0\n",
       "studio                      0\n",
       "open_plan                   0\n",
       "kitchen_area                0\n",
       "balcony                     0\n",
       "locality_name               0\n",
       "airports_nearest         5531\n",
       "city_centers_nearest     5508\n",
       "parks_around3000         5507\n",
       "parks_nearest           15569\n",
       "ponds_around3000         5507\n",
       "ponds_nearest           14550\n",
       "days_exposition          3175\n",
       "dtype: int64"
      ]
     },
     "execution_count": 51,
     "metadata": {},
     "output_type": "execute_result"
    }
   ],
   "source": [
    "data.isna().sum()"
   ]
  },
  {
   "cell_type": "markdown",
   "metadata": {},
   "source": [
    "Сделаем срезы, чтобы убрать выбросы в столбцах указанных в выводе первого пункта"
   ]
  },
  {
   "cell_type": "markdown",
   "metadata": {},
   "source": [
    "Срезу будем делать только в тех местах, где это необходимо"
   ]
  },
  {
   "cell_type": "code",
   "execution_count": 52,
   "metadata": {},
   "outputs": [],
   "source": [
    "data = data.query('total_area < 114.75')\n",
    "data = data.query('rooms < 6')\n",
    "data = data.query('living_area < 77.85')\n",
    "data = data.query('kitchen_area < 19.5')\n",
    "data = data.query('last_price < 11.9*10**6')"
   ]
  },
  {
   "cell_type": "code",
   "execution_count": 53,
   "metadata": {},
   "outputs": [
    {
     "name": "stdout",
     "output_type": "stream",
     "text": [
      "<class 'pandas.core.frame.DataFrame'>\n",
      "Int64Index: 20911 entries, 1 to 23698\n",
      "Data columns (total 22 columns):\n",
      " #   Column                Non-Null Count  Dtype         \n",
      "---  ------                --------------  -----         \n",
      " 0   total_images          20911 non-null  int64         \n",
      " 1   last_price            20911 non-null  int64         \n",
      " 2   total_area            20911 non-null  float64       \n",
      " 3   first_day_exposition  20911 non-null  datetime64[ns]\n",
      " 4   rooms                 20911 non-null  int64         \n",
      " 5   ceiling_height        20911 non-null  float64       \n",
      " 6   floors_total          20911 non-null  float64       \n",
      " 7   living_area           20911 non-null  float64       \n",
      " 8   floor                 20911 non-null  int64         \n",
      " 9   is_apartment          20911 non-null  bool          \n",
      " 10  studio                20911 non-null  bool          \n",
      " 11  open_plan             20911 non-null  bool          \n",
      " 12  kitchen_area          20911 non-null  float64       \n",
      " 13  balcony               20911 non-null  float64       \n",
      " 14  locality_name         20911 non-null  object        \n",
      " 15  airports_nearest      15542 non-null  Int64         \n",
      " 16  city_centers_nearest  15553 non-null  Int64         \n",
      " 17  parks_around3000      15554 non-null  Int64         \n",
      " 18  parks_nearest         6415 non-null   Int64         \n",
      " 19  ponds_around3000      15554 non-null  Int64         \n",
      " 20  ponds_nearest         7410 non-null   Int64         \n",
      " 21  days_exposition       18379 non-null  float64       \n",
      "dtypes: Int64(6), bool(3), datetime64[ns](1), float64(7), int64(4), object(1)\n",
      "memory usage: 3.4+ MB\n"
     ]
    }
   ],
   "source": [
    "data.info()"
   ]
  },
  {
   "cell_type": "markdown",
   "metadata": {},
   "source": [
    "Общий процент среза данных составил 13%"
   ]
  },
  {
   "cell_type": "markdown",
   "metadata": {},
   "source": [
    "Выведем все максимальные и минимальные значения в датафрейм, для граничных значений"
   ]
  },
  {
   "cell_type": "code",
   "execution_count": 54,
   "metadata": {},
   "outputs": [
    {
     "data": {
      "text/plain": [
       "total_images                             39\n",
       "last_price                         11894400\n",
       "total_area                            114.3\n",
       "first_day_exposition    2019-05-03 00:00:00\n",
       "rooms                                     5\n",
       "ceiling_height                          5.8\n",
       "floors_total                           60.0\n",
       "living_area                            77.8\n",
       "floor                                    33\n",
       "is_apartment                           True\n",
       "studio                                 True\n",
       "open_plan                              True\n",
       "kitchen_area                          19.42\n",
       "balcony                                 5.0\n",
       "locality_name                       Янино-1\n",
       "airports_nearest                      84869\n",
       "city_centers_nearest                  65968\n",
       "parks_around3000                          3\n",
       "parks_nearest                          3190\n",
       "ponds_around3000                          3\n",
       "ponds_nearest                          1344\n",
       "days_exposition                      1580.0\n",
       "dtype: object"
      ]
     },
     "execution_count": 54,
     "metadata": {},
     "output_type": "execute_result"
    }
   ],
   "source": [
    "data.max()"
   ]
  },
  {
   "cell_type": "code",
   "execution_count": 55,
   "metadata": {},
   "outputs": [
    {
     "data": {
      "text/plain": [
       "total_images                              0\n",
       "last_price                           430000\n",
       "total_area                             12.0\n",
       "first_day_exposition    2014-11-27 00:00:00\n",
       "rooms                                     0\n",
       "ceiling_height                         1.75\n",
       "floors_total                            1.0\n",
       "living_area                             2.0\n",
       "floor                                     1\n",
       "is_apartment                          False\n",
       "studio                                False\n",
       "open_plan                             False\n",
       "kitchen_area                            1.3\n",
       "balcony                                 0.0\n",
       "locality_name                           nan\n",
       "airports_nearest                          0\n",
       "city_centers_nearest                    208\n",
       "parks_around3000                          0\n",
       "parks_nearest                             1\n",
       "ponds_around3000                          0\n",
       "ponds_nearest                            16\n",
       "days_exposition                         1.0\n",
       "dtype: object"
      ]
     },
     "execution_count": 55,
     "metadata": {},
     "output_type": "execute_result"
    }
   ],
   "source": [
    "data.min()"
   ]
  },
  {
   "cell_type": "markdown",
   "metadata": {},
   "source": [
    "Из полученных данных, видно, в датафрейме более нет выбросов и аномалий."
   ]
  },
  {
   "cell_type": "markdown",
   "metadata": {},
   "source": [
    "<div class=\"alert alert-block alert-danger\">\n",
    "<h2> Комментарий ревьюера <a class=\"tocSkip\"></h2>\n",
    "\n",
    "<b>На доработку🤔:</b>  Подскажи, а сколько процентов данных мы удалили? Принято, что в качестве выбросов можно удалить не более 10%. Если чуть-чуть больше, то окей"
   ]
  },
  {
   "cell_type": "markdown",
   "metadata": {},
   "source": [
    "<div class=\"alert alert-info\">\n",
    "<b>Добавил после среза info() и посчитал процент среза даных</b> \n",
    "</div>"
   ]
  },
  {
   "cell_type": "markdown",
   "metadata": {},
   "source": [
    "<div class=\"alert alert-block alert-danger\">\n",
    "<h2> Комментарий ревьюера v2 <a class=\"tocSkip\"></h2>\n",
    "   \n",
    "<b>На доработку🤔:</b> Точно исправили? Было у нас 23699 столбцов, стало 12671. Думаю, что все-таки пока срезано слишкмо много"
   ]
  },
  {
   "cell_type": "markdown",
   "metadata": {},
   "source": [
    "<div class=\"alert alert-info\">\n",
    "<b>Нашел в чем таилась проблема</b>\n",
    "    \n",
    "Пришлось считать, сколько строк осталось после каждого действия с датафреймом.\\\n",
    "По итогу проблема была в срезе столбца `ceiling_height`, сначала делал срез потом заполнения, а надо было наоборот :facepalm:\n",
    "</div>"
   ]
  },
  {
   "cell_type": "markdown",
   "metadata": {},
   "source": [
    "<div class=\"alert alert-success\">\n",
    "<h2> Комментарий ревьюера v3 <a class=\"tocSkip\"> </h2>\n",
    "\n",
    "<b>Все супер!👍:</b> Молодец, что добрался до истины, я именно этого и хотел. Теперь идем дальше"
   ]
  },
  {
   "cell_type": "markdown",
   "metadata": {},
   "source": [
    "### Добавление новых столбцов в датафрейм"
   ]
  },
  {
   "cell_type": "markdown",
   "metadata": {},
   "source": [
    "Создадим новый столбец с ценой одного квадратного метра;"
   ]
  },
  {
   "cell_type": "code",
   "execution_count": 56,
   "metadata": {},
   "outputs": [
    {
     "data": {
      "text/plain": [
       "14911      7962.962963\n",
       "4405       9615.384615\n",
       "11351     10185.185185\n",
       "9581      10368.663594\n",
       "23484     10561.797753\n",
       "             ...      \n",
       "6475     248484.848485\n",
       "19780    262711.864407\n",
       "7355     276000.000000\n",
       "19807    292307.692308\n",
       "16212    312240.000000\n",
       "Name: one_metr_cost, Length: 20911, dtype: float64"
      ]
     },
     "execution_count": 56,
     "metadata": {},
     "output_type": "execute_result"
    }
   ],
   "source": [
    "data['one_metr_cost'] = data['last_price']/data['total_area']\n",
    "data['one_metr_cost'].sort_values(ascending=True)"
   ]
  },
  {
   "cell_type": "markdown",
   "metadata": {},
   "source": [
    "Создадим новый столбец с днями неделями публикации объявления (0 — понедельник, 1 — вторник и так далее);"
   ]
  },
  {
   "cell_type": "code",
   "execution_count": 57,
   "metadata": {},
   "outputs": [
    {
     "data": {
      "text/plain": [
       "3    3759\n",
       "1    3690\n",
       "4    3549\n",
       "2    3488\n",
       "0    3185\n",
       "5    1723\n",
       "6    1517\n",
       "Name: exposition_day_of_week, dtype: int64"
      ]
     },
     "execution_count": 57,
     "metadata": {},
     "output_type": "execute_result"
    }
   ],
   "source": [
    "data['exposition_day_of_week']=data['first_day_exposition'].dt.dayofweek\n",
    "data['exposition_day_of_week'].value_counts()"
   ]
  },
  {
   "cell_type": "markdown",
   "metadata": {},
   "source": [
    "Создадим новый столбец с месяцем публикации;"
   ]
  },
  {
   "cell_type": "code",
   "execution_count": 58,
   "metadata": {},
   "outputs": [
    {
     "data": {
      "text/plain": [
       "2     2337\n",
       "3     2295\n",
       "4     2108\n",
       "11    2081\n",
       "10    1896\n",
       "9     1728\n",
       "6     1568\n",
       "8     1545\n",
       "7     1474\n",
       "12    1446\n",
       "1     1313\n",
       "5     1120\n",
       "Name: exposition_month, dtype: int64"
      ]
     },
     "execution_count": 58,
     "metadata": {},
     "output_type": "execute_result"
    }
   ],
   "source": [
    "data['exposition_month']=data['first_day_exposition'].dt.month\n",
    "data['exposition_month'].value_counts()"
   ]
  },
  {
   "cell_type": "markdown",
   "metadata": {},
   "source": [
    "Создадим новый столбец с годом публикации;"
   ]
  },
  {
   "cell_type": "code",
   "execution_count": 59,
   "metadata": {},
   "outputs": [
    {
     "data": {
      "text/plain": [
       "2018    7670\n",
       "2017    7246\n",
       "2019    2535\n",
       "2016    2418\n",
       "2015     961\n",
       "2014      81\n",
       "Name: exposition_year, dtype: int64"
      ]
     },
     "execution_count": 59,
     "metadata": {},
     "output_type": "execute_result"
    }
   ],
   "source": [
    "data['exposition_year']=data['first_day_exposition'].dt.year\n",
    "data['exposition_year'].value_counts()"
   ]
  },
  {
   "cell_type": "markdown",
   "metadata": {},
   "source": [
    "Создадим новый столбец с типом этажа квартиры (значения — «первый», «последний», «другой»)"
   ]
  },
  {
   "cell_type": "code",
   "execution_count": 60,
   "metadata": {},
   "outputs": [
    {
     "data": {
      "text/plain": [
       "другой       15301\n",
       "последний     2878\n",
       "первый        2732\n",
       "Name: type_of_floor, dtype: int64"
      ]
     },
     "execution_count": 60,
     "metadata": {},
     "output_type": "execute_result"
    }
   ],
   "source": [
    "def type_of_floors (data):\n",
    "    if data['floor'] == 1:\n",
    "        return 'первый'\n",
    "    elif data['floor'] < data['floors_total']:\n",
    "        return 'другой'\n",
    "    elif data['floor'] == data['floors_total']:\n",
    "        return 'последний'\n",
    "    else:\n",
    "        return 'не найдено'\n",
    "data['type_of_floor'] = data.apply(type_of_floors, axis=1)\n",
    "data['type_of_floor'].value_counts()"
   ]
  },
  {
   "cell_type": "markdown",
   "metadata": {},
   "source": [
    "Создадим новый столбец с расстоянием до центра города в километрах"
   ]
  },
  {
   "cell_type": "code",
   "execution_count": 61,
   "metadata": {},
   "outputs": [
    {
     "data": {
      "text/plain": [
       "577      65.0\n",
       "20746    65.0\n",
       "9640     65.0\n",
       "5340     65.0\n",
       "5218     64.0\n",
       "         ... \n",
       "23683    <NA>\n",
       "23692    <NA>\n",
       "23695    <NA>\n",
       "23696    <NA>\n",
       "23698    <NA>\n",
       "Name: city_centers_nearest_in_km, Length: 20911, dtype: Float64"
      ]
     },
     "execution_count": 61,
     "metadata": {},
     "output_type": "execute_result"
    }
   ],
   "source": [
    "data['city_centers_nearest_in_km'] = (data['city_centers_nearest']/10**3).apply(np.floor)\n",
    "data['city_centers_nearest_in_km'].sort_values(ascending=False)"
   ]
  },
  {
   "cell_type": "markdown",
   "metadata": {},
   "source": [
    "<div class=\"alert alert-success\">\n",
    "<h2> Комментарий ревьюера <a class=\"tocSkip\"> </h2>\n",
    "\n",
    "<b>Все супер!👍:</b> Столбцы добавлены верно"
   ]
  },
  {
   "cell_type": "markdown",
   "metadata": {},
   "source": [
    "### Исследовательский анализ данных"
   ]
  },
  {
   "cell_type": "markdown",
   "metadata": {},
   "source": [
    "##### Общая площадь"
   ]
  },
  {
   "cell_type": "code",
   "execution_count": 62,
   "metadata": {},
   "outputs": [
    {
     "data": {
      "text/plain": [
       "<AxesSubplot:>"
      ]
     },
     "execution_count": 62,
     "metadata": {},
     "output_type": "execute_result"
    },
    {
     "data": {
      "image/png": "[encoded data removed]",
      "text/plain": [
       "<Figure size 432x288 with 1 Axes>"
      ]
     },
     "metadata": {
      "needs_background": "light"
     },
     "output_type": "display_data"
    }
   ],
   "source": [
    "data['total_area'].hist(range=(0,125), bins=20)"
   ]
  },
  {
   "cell_type": "code",
   "execution_count": 63,
   "metadata": {},
   "outputs": [
    {
     "data": {
      "text/plain": [
       "count    20911.000000\n",
       "mean        52.146917\n",
       "std         17.367539\n",
       "min         12.000000\n",
       "25%         38.725000\n",
       "50%         48.300000\n",
       "75%         62.400000\n",
       "max        114.300000\n",
       "Name: total_area, dtype: float64"
      ]
     },
     "execution_count": 63,
     "metadata": {},
     "output_type": "execute_result"
    }
   ],
   "source": [
    "data['total_area'].describe()"
   ]
  },
  {
   "cell_type": "markdown",
   "metadata": {},
   "source": [
    "Из гистрограммы видно, что данные распределенны согласно распределению Пуассона. \\\n",
    "При это большая часть объявлений общей площадью находится в диапозоне от 39 до 63 кв.м. \\\n",
    "Средняя и медаинная площадь близки к друг другу и соответственно равно 52.26 и 48.7 кв.м."
   ]
  },
  {
   "cell_type": "markdown",
   "metadata": {},
   "source": [
    "##### Жилая площадь"
   ]
  },
  {
   "cell_type": "code",
   "execution_count": 64,
   "metadata": {},
   "outputs": [
    {
     "data": {
      "text/plain": [
       "<AxesSubplot:>"
      ]
     },
     "execution_count": 64,
     "metadata": {},
     "output_type": "execute_result"
    },
    {
     "data": {
      "image/png": "[encoded data removed]",
      "text/plain": [
       "<Figure size 432x288 with 1 Axes>"
      ]
     },
     "metadata": {
      "needs_background": "light"
     },
     "output_type": "display_data"
    }
   ],
   "source": [
    "data['living_area'].hist(range=(0,80), bins=20)"
   ]
  },
  {
   "cell_type": "code",
   "execution_count": 65,
   "metadata": {},
   "outputs": [
    {
     "data": {
      "text/plain": [
       "count    20911.000000\n",
       "mean        30.021992\n",
       "std         12.543090\n",
       "min          2.000000\n",
       "25%         18.000000\n",
       "50%         29.300000\n",
       "75%         39.000000\n",
       "max         77.800000\n",
       "Name: living_area, dtype: float64"
      ]
     },
     "execution_count": 65,
     "metadata": {},
     "output_type": "execute_result"
    }
   ],
   "source": [
    "data['living_area'].describe()"
   ]
  },
  {
   "cell_type": "markdown",
   "metadata": {},
   "source": [
    "Гистрограмма также имеет вид Пуассонова распределения и имеет два выраженных пика на 18 кв.м. и 30 кв.м. \\\n",
    "При этом большая часть квартир расположенная в диапозоне площадью 18 кв.м. до 39 кв.м. \\\n",
    "Среднее и медианное значение практически равны и отличаются лишь на 0.63 кв.м."
   ]
  },
  {
   "cell_type": "markdown",
   "metadata": {},
   "source": [
    "##### Площадь кухни"
   ]
  },
  {
   "cell_type": "code",
   "execution_count": 66,
   "metadata": {},
   "outputs": [
    {
     "data": {
      "text/plain": [
       "<AxesSubplot:>"
      ]
     },
     "execution_count": 66,
     "metadata": {},
     "output_type": "execute_result"
    },
    {
     "data": {
      "image/png": "[encoded data removed]",
      "text/plain": [
       "<Figure size 432x288 with 1 Axes>"
      ]
     },
     "metadata": {
      "needs_background": "light"
     },
     "output_type": "display_data"
    }
   ],
   "source": [
    "data['kitchen_area'].hist(range=(0,25), bins=20)"
   ]
  },
  {
   "cell_type": "code",
   "execution_count": 67,
   "metadata": {},
   "outputs": [
    {
     "data": {
      "text/plain": [
       "count    20911.000000\n",
       "mean         9.156581\n",
       "std          2.800333\n",
       "min          1.300000\n",
       "25%          7.000000\n",
       "50%          9.000000\n",
       "75%         10.700000\n",
       "max         19.420000\n",
       "Name: kitchen_area, dtype: float64"
      ]
     },
     "execution_count": 67,
     "metadata": {},
     "output_type": "execute_result"
    }
   ],
   "source": [
    "data['kitchen_area'].describe()"
   ]
  },
  {
   "cell_type": "markdown",
   "metadata": {},
   "source": [
    "Гистограмма имеет выраженные пиковые значения практически на половине своей площади, с небольшой просадкой пика на значение в 6 кв.м. \\\n",
    "Гистрограмма также иметт Пуасоново распределение \\\n",
    "Основная часть квартир располодилась в диапозоне от 7 до 10.7 кв.м. \\\n",
    "При этом среднее значение незначительного отклонено от медианного значения, а конкретно на 0,14 кв.м."
   ]
  },
  {
   "cell_type": "markdown",
   "metadata": {},
   "source": [
    "##### Цена объекта"
   ]
  },
  {
   "cell_type": "code",
   "execution_count": 68,
   "metadata": {},
   "outputs": [
    {
     "data": {
      "text/plain": [
       "<AxesSubplot:>"
      ]
     },
     "execution_count": 68,
     "metadata": {},
     "output_type": "execute_result"
    },
    {
     "data": {
      "image/png": "[encoded data removed]",
      "text/plain": [
       "<Figure size 432x288 with 1 Axes>"
      ]
     },
     "metadata": {
      "needs_background": "light"
     },
     "output_type": "display_data"
    }
   ],
   "source": [
    "data['last_price'].hist(range=(0, 12000000), bins=20)"
   ]
  },
  {
   "cell_type": "code",
   "execution_count": 69,
   "metadata": {},
   "outputs": [
    {
     "data": {
      "text/plain": [
       "count    2.091100e+04\n",
       "mean     4.740128e+06\n",
       "std      2.136667e+06\n",
       "min      4.300000e+05\n",
       "25%      3.300000e+06\n",
       "50%      4.350000e+06\n",
       "75%      5.870000e+06\n",
       "max      1.189440e+07\n",
       "Name: last_price, dtype: float64"
      ]
     },
     "execution_count": 69,
     "metadata": {},
     "output_type": "execute_result"
    }
   ],
   "source": [
    "data['last_price'].describe()"
   ]
  },
  {
   "cell_type": "markdown",
   "metadata": {},
   "source": [
    "Гистрограммы имеет практические нормальное распределение с пиков в центре и небольшим отклонением данных в положительную сторону \\\n",
    "IQR в данном столбце относительно небольшой и составляет всего 2,6 * 10^6, то есть в 2 раза меньше медианного значения "
   ]
  },
  {
   "cell_type": "markdown",
   "metadata": {},
   "source": [
    "##### Количество комнат"
   ]
  },
  {
   "cell_type": "code",
   "execution_count": 70,
   "metadata": {},
   "outputs": [
    {
     "data": {
      "text/plain": [
       "<AxesSubplot:>"
      ]
     },
     "execution_count": 70,
     "metadata": {},
     "output_type": "execute_result"
    },
    {
     "data": {
      "image/png": "[encoded data removed]",
      "text/plain": [
       "<Figure size 432x288 with 1 Axes>"
      ]
     },
     "metadata": {
      "needs_background": "light"
     },
     "output_type": "display_data"
    }
   ],
   "source": [
    "data['rooms'].hist(range=(0,6), bins=6)"
   ]
  },
  {
   "cell_type": "code",
   "execution_count": 71,
   "metadata": {},
   "outputs": [
    {
     "data": {
      "text/plain": [
       "count    20911.000000\n",
       "mean         1.904787\n",
       "std          0.885492\n",
       "min          0.000000\n",
       "25%          1.000000\n",
       "50%          2.000000\n",
       "75%          3.000000\n",
       "max          5.000000\n",
       "Name: rooms, dtype: float64"
      ]
     },
     "execution_count": 71,
     "metadata": {},
     "output_type": "execute_result"
    }
   ],
   "source": [
    "data['rooms'].describe()"
   ]
  },
  {
   "cell_type": "markdown",
   "metadata": {},
   "source": [
    "Гистограмма имеет также Пуассоново распредление с двумя пиками в районе однокомнатных и двухкомнатных квартир\\\n",
    "Медианное и среднее в данном графике равны, если их округлить до целых чисел"
   ]
  },
  {
   "cell_type": "markdown",
   "metadata": {},
   "source": [
    "##### Высота потолков"
   ]
  },
  {
   "cell_type": "code",
   "execution_count": 72,
   "metadata": {},
   "outputs": [
    {
     "data": {
      "text/plain": [
       "<AxesSubplot:>"
      ]
     },
     "execution_count": 72,
     "metadata": {},
     "output_type": "execute_result"
    },
    {
     "data": {
      "image/png": "[encoded data removed]",
      "text/plain": [
       "<Figure size 432x288 with 1 Axes>"
      ]
     },
     "metadata": {
      "needs_background": "light"
     },
     "output_type": "display_data"
    }
   ],
   "source": [
    "data['ceiling_height'].hist(range=(1.75,6), bins=10)"
   ]
  },
  {
   "cell_type": "code",
   "execution_count": 73,
   "metadata": {},
   "outputs": [
    {
     "data": {
      "text/plain": [
       "count    20911.000000\n",
       "mean         2.676058\n",
       "std          0.193423\n",
       "min          1.750000\n",
       "25%          2.550000\n",
       "50%          2.640000\n",
       "75%          2.750000\n",
       "max          5.800000\n",
       "Name: ceiling_height, dtype: float64"
      ]
     },
     "execution_count": 73,
     "metadata": {},
     "output_type": "execute_result"
    }
   ],
   "source": [
    "data['ceiling_height'].describe()"
   ]
  },
  {
   "cell_type": "markdown",
   "metadata": {},
   "source": [
    "Гистрограмма близка к нормальному распределению \\\n",
    "Большая часть квартир имеет высоту потолков с 2.55 до 2.7 метров \\\n",
    "Среднее и медианное значение также, практически равны"
   ]
  },
  {
   "cell_type": "markdown",
   "metadata": {},
   "source": [
    "##### Этаж квартиры"
   ]
  },
  {
   "cell_type": "code",
   "execution_count": 74,
   "metadata": {},
   "outputs": [
    {
     "data": {
      "text/plain": [
       "<AxesSubplot:>"
      ]
     },
     "execution_count": 74,
     "metadata": {},
     "output_type": "execute_result"
    },
    {
     "data": {
      "image/png": "[encoded data removed]",
      "text/plain": [
       "<Figure size 432x288 with 1 Axes>"
      ]
     },
     "metadata": {
      "needs_background": "light"
     },
     "output_type": "display_data"
    }
   ],
   "source": [
    "data['floor'].hist()"
   ]
  },
  {
   "cell_type": "code",
   "execution_count": 75,
   "metadata": {},
   "outputs": [
    {
     "data": {
      "text/plain": [
       "count    20911.000000\n",
       "mean         5.874372\n",
       "std          4.885680\n",
       "min          1.000000\n",
       "25%          2.000000\n",
       "50%          4.000000\n",
       "75%          8.000000\n",
       "max         33.000000\n",
       "Name: floor, dtype: float64"
      ]
     },
     "execution_count": 75,
     "metadata": {},
     "output_type": "execute_result"
    }
   ],
   "source": [
    "data['floor'].describe()"
   ]
  },
  {
   "cell_type": "markdown",
   "metadata": {},
   "source": [
    "Гистрограмма имеет геометрическое распределение, то есть пик в самом начале с последующим уменьшением \\\n",
    "Квартир этажом выше 6 очень мало. Квартир чей этаж выше 27, практически нет"
   ]
  },
  {
   "cell_type": "markdown",
   "metadata": {},
   "source": [
    "##### Тип этажа квартиры"
   ]
  },
  {
   "cell_type": "code",
   "execution_count": 76,
   "metadata": {},
   "outputs": [
    {
     "data": {
      "text/plain": [
       "<AxesSubplot:>"
      ]
     },
     "execution_count": 76,
     "metadata": {},
     "output_type": "execute_result"
    },
    {
     "data": {
      "image/png": "[encoded data removed]",
      "text/plain": [
       "<Figure size 432x288 with 1 Axes>"
      ]
     },
     "metadata": {
      "needs_background": "light"
     },
     "output_type": "display_data"
    }
   ],
   "source": [
    "data['type_of_floor'].hist(bins=3)"
   ]
  },
  {
   "cell_type": "code",
   "execution_count": 77,
   "metadata": {},
   "outputs": [
    {
     "data": {
      "text/plain": [
       "count      20911\n",
       "unique         3\n",
       "top       другой\n",
       "freq       15301\n",
       "Name: type_of_floor, dtype: object"
      ]
     },
     "execution_count": 77,
     "metadata": {},
     "output_type": "execute_result"
    }
   ],
   "source": [
    "data['type_of_floor'].describe()"
   ]
  },
  {
   "cell_type": "markdown",
   "metadata": {},
   "source": [
    "Ярко выраженное количество квартир с типом этажа \"другой\" и практически одинаковое количество квартир расположенные на крайних этажах"
   ]
  },
  {
   "cell_type": "markdown",
   "metadata": {},
   "source": [
    "##### Общее количество этажей в доме"
   ]
  },
  {
   "cell_type": "code",
   "execution_count": 78,
   "metadata": {},
   "outputs": [
    {
     "data": {
      "text/plain": [
       "<AxesSubplot:>"
      ]
     },
     "execution_count": 78,
     "metadata": {},
     "output_type": "execute_result"
    },
    {
     "data": {
      "image/png": "[encoded data removed]",
      "text/plain": [
       "<Figure size 432x288 with 1 Axes>"
      ]
     },
     "metadata": {
      "needs_background": "light"
     },
     "output_type": "display_data"
    }
   ],
   "source": [
    "data['floors_total'].hist()"
   ]
  },
  {
   "cell_type": "code",
   "execution_count": 79,
   "metadata": {},
   "outputs": [
    {
     "data": {
      "text/plain": [
       "count    20911.000000\n",
       "mean        10.773277\n",
       "std          6.623827\n",
       "min          1.000000\n",
       "25%          5.000000\n",
       "50%          9.000000\n",
       "75%         16.000000\n",
       "max         60.000000\n",
       "Name: floors_total, dtype: float64"
      ]
     },
     "execution_count": 79,
     "metadata": {},
     "output_type": "execute_result"
    }
   ],
   "source": [
    "data['floors_total'].describe()"
   ]
  },
  {
   "cell_type": "markdown",
   "metadata": {},
   "source": [
    "Распределение Пуассона, имеет три пика \\\n",
    "Большая часть квартир имеет этажность дома с 5 по 16 этаж \\\n",
    "Квартир расположенных в домах высотой более 30 этажей практически нет"
   ]
  },
  {
   "cell_type": "markdown",
   "metadata": {},
   "source": [
    "##### Расстояние до центра города в метрах"
   ]
  },
  {
   "cell_type": "code",
   "execution_count": 80,
   "metadata": {},
   "outputs": [
    {
     "data": {
      "text/plain": [
       "<AxesSubplot:>"
      ]
     },
     "execution_count": 80,
     "metadata": {},
     "output_type": "execute_result"
    },
    {
     "data": {
      "image/png": "[encoded data removed]",
      "text/plain": [
       "<Figure size 432x288 with 1 Axes>"
      ]
     },
     "metadata": {
      "needs_background": "light"
     },
     "output_type": "display_data"
    }
   ],
   "source": [
    "data['city_centers_nearest'].hist(bins=10)"
   ]
  },
  {
   "cell_type": "code",
   "execution_count": 81,
   "metadata": {},
   "outputs": [
    {
     "data": {
      "text/plain": [
       "count    15553.000000\n",
       "mean     15079.394008\n",
       "std       8503.858312\n",
       "min        208.000000\n",
       "25%      10735.000000\n",
       "50%      13682.000000\n",
       "75%      16738.000000\n",
       "max      65968.000000\n",
       "Name: city_centers_nearest, dtype: float64"
      ]
     },
     "execution_count": 81,
     "metadata": {},
     "output_type": "execute_result"
    }
   ],
   "source": [
    "data['city_centers_nearest'].describe()"
   ]
  },
  {
   "cell_type": "markdown",
   "metadata": {},
   "source": [
    "Квартир расположеных в центре достаточно мало, основная концентрация на расстоянии 10-16 км \\\n",
    "При этом средняя отдаленность квартир от центра равно 15 км, а медианное расстояние 13.6 км"
   ]
  },
  {
   "cell_type": "markdown",
   "metadata": {},
   "source": [
    "##### Расстояние до ближайшего аэропорта"
   ]
  },
  {
   "cell_type": "code",
   "execution_count": 82,
   "metadata": {},
   "outputs": [
    {
     "data": {
      "text/plain": [
       "<AxesSubplot:>"
      ]
     },
     "execution_count": 82,
     "metadata": {},
     "output_type": "execute_result"
    },
    {
     "data": {
      "image/png": "[encoded data removed]",
      "text/plain": [
       "<Figure size 432x288 with 1 Axes>"
      ]
     },
     "metadata": {
      "needs_background": "light"
     },
     "output_type": "display_data"
    }
   ],
   "source": [
    "data['airports_nearest'].hist(bins=10)"
   ]
  },
  {
   "cell_type": "code",
   "execution_count": 83,
   "metadata": {},
   "outputs": [
    {
     "data": {
      "text/plain": [
       "count    15542.000000\n",
       "mean     28927.112598\n",
       "std      13040.346149\n",
       "min          0.000000\n",
       "25%      17950.000000\n",
       "50%      27143.000000\n",
       "75%      37717.000000\n",
       "max      84869.000000\n",
       "Name: airports_nearest, dtype: float64"
      ]
     },
     "execution_count": 83,
     "metadata": {},
     "output_type": "execute_result"
    }
   ],
   "source": [
    "data['airports_nearest'].describe()"
   ]
  },
  {
   "cell_type": "markdown",
   "metadata": {},
   "source": [
    "Распределение удаленности квартир от аэропортов близко к нормальному \\\n",
    "Медианное расстояние равно 27 км, а средняя удаленость равна 29 км \\\n",
    "Большая часть квартир находится на расстояние удаленности от 18 до 37 км"
   ]
  },
  {
   "cell_type": "markdown",
   "metadata": {},
   "source": [
    "###### Расстояние до ближайшего парка"
   ]
  },
  {
   "cell_type": "code",
   "execution_count": 84,
   "metadata": {},
   "outputs": [
    {
     "data": {
      "text/plain": [
       "<AxesSubplot:>"
      ]
     },
     "execution_count": 84,
     "metadata": {},
     "output_type": "execute_result"
    },
    {
     "data": {
      "image/png": "[encoded data removed]",
      "text/plain": [
       "<Figure size 432x288 with 1 Axes>"
      ]
     },
     "metadata": {
      "needs_background": "light"
     },
     "output_type": "display_data"
    }
   ],
   "source": [
    "data['parks_nearest'].hist(bins=10)"
   ]
  },
  {
   "cell_type": "code",
   "execution_count": 85,
   "metadata": {},
   "outputs": [
    {
     "data": {
      "text/plain": [
       "count    6415.000000\n",
       "mean      487.720499\n",
       "std       325.838418\n",
       "min         1.000000\n",
       "25%       289.000000\n",
       "50%       456.000000\n",
       "75%       613.500000\n",
       "max      3190.000000\n",
       "Name: parks_nearest, dtype: float64"
      ]
     },
     "execution_count": 85,
     "metadata": {},
     "output_type": "execute_result"
    }
   ],
   "source": [
    "data['parks_nearest'].describe()"
   ]
  },
  {
   "cell_type": "markdown",
   "metadata": {},
   "source": [
    "Распределение также близко к нормальному со смещение центра к нулю \\\n",
    "Среднее и медианное значения также близки и равны 472.5 и 455 соответственно\\\n",
    "Почти все квартиры имеет в расположении менее 1 км парк"
   ]
  },
  {
   "cell_type": "markdown",
   "metadata": {},
   "source": [
    "##### День и месяц публикации объявления"
   ]
  },
  {
   "cell_type": "code",
   "execution_count": 86,
   "metadata": {},
   "outputs": [
    {
     "data": {
      "text/plain": [
       "<AxesSubplot:>"
      ]
     },
     "execution_count": 86,
     "metadata": {},
     "output_type": "execute_result"
    },
    {
     "data": {
      "image/png": "[encoded data removed]",
      "text/plain": [
       "<Figure size 432x288 with 1 Axes>"
      ]
     },
     "metadata": {
      "needs_background": "light"
     },
     "output_type": "display_data"
    }
   ],
   "source": [
    "data['exposition_day_of_week'].hist(range=(0,6), bins=7)"
   ]
  },
  {
   "cell_type": "code",
   "execution_count": 87,
   "metadata": {},
   "outputs": [
    {
     "data": {
      "text/plain": [
       "count    20911.000000\n",
       "mean         2.575487\n",
       "std          1.793215\n",
       "min          0.000000\n",
       "25%          1.000000\n",
       "50%          3.000000\n",
       "75%          4.000000\n",
       "max          6.000000\n",
       "Name: exposition_day_of_week, dtype: float64"
      ]
     },
     "execution_count": 87,
     "metadata": {},
     "output_type": "execute_result"
    }
   ],
   "source": [
    "data['exposition_day_of_week'].describe()"
   ]
  },
  {
   "cell_type": "markdown",
   "metadata": {},
   "source": [
    "Осноная масса объявлений размещается в будни дни, на выходных количество размещенных объявлений падает вдвое\\\n",
    "При этом самые популярные дни для размещения объявлений являются вторник и четверг"
   ]
  },
  {
   "cell_type": "code",
   "execution_count": 88,
   "metadata": {},
   "outputs": [
    {
     "data": {
      "text/plain": [
       "<AxesSubplot:>"
      ]
     },
     "execution_count": 88,
     "metadata": {},
     "output_type": "execute_result"
    },
    {
     "data": {
      "image/png": "[encoded data removed]",
      "text/plain": [
       "<Figure size 432x288 with 1 Axes>"
      ]
     },
     "metadata": {
      "needs_background": "light"
     },
     "output_type": "display_data"
    }
   ],
   "source": [
    "data['exposition_month'].hist(range=(1,12), bins=12)"
   ]
  },
  {
   "cell_type": "code",
   "execution_count": 89,
   "metadata": {},
   "outputs": [
    {
     "data": {
      "text/plain": [
       "count    20911.000000\n",
       "mean         6.395916\n",
       "std          3.490571\n",
       "min          1.000000\n",
       "25%          3.000000\n",
       "50%          6.000000\n",
       "75%         10.000000\n",
       "max         12.000000\n",
       "Name: exposition_month, dtype: float64"
      ]
     },
     "execution_count": 89,
     "metadata": {},
     "output_type": "execute_result"
    }
   ],
   "source": [
    "data['exposition_month'].describe()"
   ]
  },
  {
   "cell_type": "markdown",
   "metadata": {},
   "source": [
    "Основной пик размещения объявлений приходится на весенний период с февраля по апрель.\\\n",
    "Наименьшее количество объявлений размещается в мае.\\\n",
    "После чего идет заметный прирост до ноября месяц, с сильным падением количество размещаемых объявлений в декабре с сохранением тендеции в январе."
   ]
  },
  {
   "cell_type": "markdown",
   "metadata": {},
   "source": [
    "<div class=\"alert alert-block alert-danger\">\n",
    "<h2> Комментарий ревьюера <a class=\"tocSkip\"></h2>\n",
    "\n",
    "<b>На доработку🤔:</b>  Исправим удаление выбросов и веренмся сюда. А еще было бы здорово ,если бы в выводах по разделам мы использовали важные численные показатели, такие как медиана и среднее. А еще попробуй определить типы распределний"
   ]
  },
  {
   "cell_type": "markdown",
   "metadata": {},
   "source": [
    "<div class=\"alert alert-success\">\n",
    "<h2> Комментарий ревьюера v3 <a class=\"tocSkip\"> </h2>\n",
    "\n",
    "<b>Все супер!👍:</b> Исправлено"
   ]
  },
  {
   "cell_type": "markdown",
   "metadata": {},
   "source": [
    "##### Время продажи квартир"
   ]
  },
  {
   "cell_type": "code",
   "execution_count": 90,
   "metadata": {},
   "outputs": [
    {
     "data": {
      "text/plain": [
       "<AxesSubplot:>"
      ]
     },
     "execution_count": 90,
     "metadata": {},
     "output_type": "execute_result"
    },
    {
     "data": {
      "image/png": "[encoded data removed]",
      "text/plain": [
       "<Figure size 432x288 with 1 Axes>"
      ]
     },
     "metadata": {
      "needs_background": "light"
     },
     "output_type": "display_data"
    }
   ],
   "source": [
    "data['days_exposition'].hist(range=(0, 1500), bins=10)"
   ]
  },
  {
   "cell_type": "code",
   "execution_count": 91,
   "metadata": {},
   "outputs": [
    {
     "data": {
      "text/plain": [
       "<AxesSubplot:>"
      ]
     },
     "execution_count": 91,
     "metadata": {},
     "output_type": "execute_result"
    },
    {
     "data": {
      "image/png": "[encoded data removed]",
      "text/plain": [
       "<Figure size 432x288 with 1 Axes>"
      ]
     },
     "metadata": {
      "needs_background": "light"
     },
     "output_type": "display_data"
    }
   ],
   "source": [
    "data['days_exposition'].plot(kind='box')"
   ]
  },
  {
   "cell_type": "code",
   "execution_count": 92,
   "metadata": {},
   "outputs": [
    {
     "data": {
      "text/plain": [
       "count    18379.000000\n",
       "mean       171.467272\n",
       "std        209.686848\n",
       "min          1.000000\n",
       "25%         43.000000\n",
       "50%         90.000000\n",
       "75%        217.000000\n",
       "max       1580.000000\n",
       "Name: days_exposition, dtype: float64"
      ]
     },
     "execution_count": 92,
     "metadata": {},
     "output_type": "execute_result"
    }
   ],
   "source": [
    "data['days_exposition'].describe()"
   ]
  },
  {
   "cell_type": "code",
   "execution_count": 93,
   "metadata": {},
   "outputs": [
    {
     "data": {
      "text/plain": [
       "171.46727243049133"
      ]
     },
     "execution_count": 93,
     "metadata": {},
     "output_type": "execute_result"
    }
   ],
   "source": [
    "data['days_exposition'].mean()"
   ]
  },
  {
   "cell_type": "markdown",
   "metadata": {},
   "source": [
    "Среднее время продажи квартиры равно 152 дня"
   ]
  },
  {
   "cell_type": "code",
   "execution_count": 94,
   "metadata": {},
   "outputs": [
    {
     "data": {
      "text/plain": [
       "90.00000000000001"
      ]
     },
     "execution_count": 94,
     "metadata": {},
     "output_type": "execute_result"
    }
   ],
   "source": [
    "data['days_exposition'].median()"
   ]
  },
  {
   "cell_type": "markdown",
   "metadata": {},
   "source": [
    "Медианное время продажи квартиры 95"
   ]
  },
  {
   "cell_type": "markdown",
   "metadata": {},
   "source": [
    "Продажу можно считать быстрой если она завершилась в первые 44 дня.\\\n",
    "Долгой является так продажа, которая не состоялась после 218 дня.\\\n",
    "Продажа квартиры после 500 дня, практически невозможна."
   ]
  },
  {
   "cell_type": "markdown",
   "metadata": {},
   "source": [
    "<div class=\"alert alert-block alert-danger\">\n",
    "<h2> Комментарий ревьюера <a class=\"tocSkip\"></h2>\n",
    "\n",
    "<b>На доработку🤔:</b>  Исправим удаление выбросов и вернемся. А быстрые и медленные продажи можно определять, опираясь на квантили, кстатаи"
   ]
  },
  {
   "cell_type": "markdown",
   "metadata": {},
   "source": [
    "<div class=\"alert alert-success\">\n",
    "<h2> Комментарий ревьюера v3 <a class=\"tocSkip\"> </h2>\n",
    "\n",
    "<b>Все супер!👍:</b> Быстыре и медленные продажи определены верно)"
   ]
  },
  {
   "cell_type": "markdown",
   "metadata": {},
   "source": [
    "##### Влияние факторов на общую стоимость объекта"
   ]
  },
  {
   "cell_type": "markdown",
   "metadata": {},
   "source": [
    "<b>Зависимость цены от общей площади</b>"
   ]
  },
  {
   "cell_type": "code",
   "execution_count": 95,
   "metadata": {},
   "outputs": [
    {
     "data": {
      "text/plain": [
       "<AxesSubplot:xlabel='total_area', ylabel='last_price'>"
      ]
     },
     "execution_count": 95,
     "metadata": {},
     "output_type": "execute_result"
    },
    {
     "data": {
      "image/png": "[encoded data removed]",
      "text/plain": [
       "<Figure size 432x288 with 1 Axes>"
      ]
     },
     "metadata": {
      "needs_background": "light"
     },
     "output_type": "display_data"
    }
   ],
   "source": [
    "total_area_corr_with_price = data.pivot_table(index='last_price', values='total_area', aggfunc='median').reset_index()\n",
    "total_area_corr_with_price.plot(x='total_area', y='last_price', kind='scatter', alpha=0.5) "
   ]
  },
  {
   "cell_type": "code",
   "execution_count": 96,
   "metadata": {},
   "outputs": [
    {
     "data": {
      "text/html": [
       "<div>\n",
       "<style scoped>\n",
       "    .dataframe tbody tr th:only-of-type {\n",
       "        vertical-align: middle;\n",
       "    }\n",
       "\n",
       "    .dataframe tbody tr th {\n",
       "        vertical-align: top;\n",
       "    }\n",
       "\n",
       "    .dataframe thead th {\n",
       "        text-align: right;\n",
       "    }\n",
       "</style>\n",
       "<table border=\"1\" class=\"dataframe\">\n",
       "  <thead>\n",
       "    <tr style=\"text-align: right;\">\n",
       "      <th></th>\n",
       "      <th>last_price</th>\n",
       "      <th>total_area</th>\n",
       "    </tr>\n",
       "  </thead>\n",
       "  <tbody>\n",
       "    <tr>\n",
       "      <th>last_price</th>\n",
       "      <td>1.000000</td>\n",
       "      <td>0.787942</td>\n",
       "    </tr>\n",
       "    <tr>\n",
       "      <th>total_area</th>\n",
       "      <td>0.787942</td>\n",
       "      <td>1.000000</td>\n",
       "    </tr>\n",
       "  </tbody>\n",
       "</table>\n",
       "</div>"
      ],
      "text/plain": [
       "            last_price  total_area\n",
       "last_price    1.000000    0.787942\n",
       "total_area    0.787942    1.000000"
      ]
     },
     "execution_count": 96,
     "metadata": {},
     "output_type": "execute_result"
    }
   ],
   "source": [
    "total_area_corr_with_price.corr()"
   ]
  },
  {
   "cell_type": "markdown",
   "metadata": {},
   "source": [
    "<b>Вывод:</b> Из корреляции видно, что общая площадь квартиры напрямую связана с ее стоимостью"
   ]
  },
  {
   "cell_type": "markdown",
   "metadata": {},
   "source": [
    "<b>Зависимость цены от жилой площади</b>"
   ]
  },
  {
   "cell_type": "code",
   "execution_count": 97,
   "metadata": {},
   "outputs": [
    {
     "data": {
      "text/plain": [
       "<AxesSubplot:xlabel='living_area', ylabel='last_price'>"
      ]
     },
     "execution_count": 97,
     "metadata": {},
     "output_type": "execute_result"
    },
    {
     "data": {
      "image/png": "[encoded data removed]",
      "text/plain": [
       "<Figure size 432x288 with 1 Axes>"
      ]
     },
     "metadata": {
      "needs_background": "light"
     },
     "output_type": "display_data"
    }
   ],
   "source": [
    "living_area_corr_with_price = data.pivot_table(index='last_price', values='living_area', aggfunc='median').reset_index()\n",
    "living_area_corr_with_price.plot(x='living_area', y='last_price', kind='scatter', alpha=0.5) "
   ]
  },
  {
   "cell_type": "code",
   "execution_count": 98,
   "metadata": {},
   "outputs": [
    {
     "data": {
      "text/html": [
       "<div>\n",
       "<style scoped>\n",
       "    .dataframe tbody tr th:only-of-type {\n",
       "        vertical-align: middle;\n",
       "    }\n",
       "\n",
       "    .dataframe tbody tr th {\n",
       "        vertical-align: top;\n",
       "    }\n",
       "\n",
       "    .dataframe thead th {\n",
       "        text-align: right;\n",
       "    }\n",
       "</style>\n",
       "<table border=\"1\" class=\"dataframe\">\n",
       "  <thead>\n",
       "    <tr style=\"text-align: right;\">\n",
       "      <th></th>\n",
       "      <th>last_price</th>\n",
       "      <th>living_area</th>\n",
       "    </tr>\n",
       "  </thead>\n",
       "  <tbody>\n",
       "    <tr>\n",
       "      <th>last_price</th>\n",
       "      <td>1.000000</td>\n",
       "      <td>0.647459</td>\n",
       "    </tr>\n",
       "    <tr>\n",
       "      <th>living_area</th>\n",
       "      <td>0.647459</td>\n",
       "      <td>1.000000</td>\n",
       "    </tr>\n",
       "  </tbody>\n",
       "</table>\n",
       "</div>"
      ],
      "text/plain": [
       "             last_price  living_area\n",
       "last_price     1.000000     0.647459\n",
       "living_area    0.647459     1.000000"
      ]
     },
     "execution_count": 98,
     "metadata": {},
     "output_type": "execute_result"
    }
   ],
   "source": [
    "living_area_corr_with_price.corr()"
   ]
  },
  {
   "cell_type": "markdown",
   "metadata": {},
   "source": [
    "<b>Вывод:</b> Зависимость цены от жилой площади также связана, но немного меньше, нежели \"общая площадь\" квартиры"
   ]
  },
  {
   "cell_type": "markdown",
   "metadata": {},
   "source": [
    "<b>Зависимость цены от площади кухни</b>"
   ]
  },
  {
   "cell_type": "code",
   "execution_count": 99,
   "metadata": {},
   "outputs": [
    {
     "data": {
      "text/plain": [
       "<AxesSubplot:xlabel='kitchen_area', ylabel='last_price'>"
      ]
     },
     "execution_count": 99,
     "metadata": {},
     "output_type": "execute_result"
    },
    {
     "data": {
      "image/png": "[encoded data removed]",
      "text/plain": [
       "<Figure size 432x288 with 1 Axes>"
      ]
     },
     "metadata": {
      "needs_background": "light"
     },
     "output_type": "display_data"
    }
   ],
   "source": [
    "kitchen_area_corr_with_price = data.pivot_table(index='last_price', values='kitchen_area').reset_index()\n",
    "kitchen_area_corr_with_price.plot(x='kitchen_area', y='last_price', kind='scatter', alpha=0.5) "
   ]
  },
  {
   "cell_type": "code",
   "execution_count": 100,
   "metadata": {},
   "outputs": [
    {
     "data": {
      "text/html": [
       "<div>\n",
       "<style scoped>\n",
       "    .dataframe tbody tr th:only-of-type {\n",
       "        vertical-align: middle;\n",
       "    }\n",
       "\n",
       "    .dataframe tbody tr th {\n",
       "        vertical-align: top;\n",
       "    }\n",
       "\n",
       "    .dataframe thead th {\n",
       "        text-align: right;\n",
       "    }\n",
       "</style>\n",
       "<table border=\"1\" class=\"dataframe\">\n",
       "  <thead>\n",
       "    <tr style=\"text-align: right;\">\n",
       "      <th></th>\n",
       "      <th>last_price</th>\n",
       "      <th>kitchen_area</th>\n",
       "    </tr>\n",
       "  </thead>\n",
       "  <tbody>\n",
       "    <tr>\n",
       "      <th>last_price</th>\n",
       "      <td>1.000000</td>\n",
       "      <td>0.556383</td>\n",
       "    </tr>\n",
       "    <tr>\n",
       "      <th>kitchen_area</th>\n",
       "      <td>0.556383</td>\n",
       "      <td>1.000000</td>\n",
       "    </tr>\n",
       "  </tbody>\n",
       "</table>\n",
       "</div>"
      ],
      "text/plain": [
       "              last_price  kitchen_area\n",
       "last_price      1.000000      0.556383\n",
       "kitchen_area    0.556383      1.000000"
      ]
     },
     "execution_count": 100,
     "metadata": {},
     "output_type": "execute_result"
    }
   ],
   "source": [
    "kitchen_area_corr_with_price.corr()"
   ]
  },
  {
   "cell_type": "markdown",
   "metadata": {},
   "source": [
    "<b>Вывод:</b> Площадь кухни оказывает не слабую зависимость на стоимость квартиры"
   ]
  },
  {
   "cell_type": "markdown",
   "metadata": {},
   "source": [
    "<b>Зависимость цены от количества комнат</b>"
   ]
  },
  {
   "cell_type": "markdown",
   "metadata": {},
   "source": [
    "Сгруппируем данные по количеству комнат и рассмотрим корреляию для медианного и среднего значений каждого типа квартир"
   ]
  },
  {
   "cell_type": "code",
   "execution_count": 101,
   "metadata": {},
   "outputs": [
    {
     "data": {
      "text/html": [
       "<div>\n",
       "<style scoped>\n",
       "    .dataframe tbody tr th:only-of-type {\n",
       "        vertical-align: middle;\n",
       "    }\n",
       "\n",
       "    .dataframe tbody tr th {\n",
       "        vertical-align: top;\n",
       "    }\n",
       "\n",
       "    .dataframe thead th {\n",
       "        text-align: right;\n",
       "    }\n",
       "</style>\n",
       "<table border=\"1\" class=\"dataframe\">\n",
       "  <thead>\n",
       "    <tr style=\"text-align: right;\">\n",
       "      <th></th>\n",
       "      <th>rooms</th>\n",
       "      <th>last_price</th>\n",
       "    </tr>\n",
       "  </thead>\n",
       "  <tbody>\n",
       "    <tr>\n",
       "      <th>rooms</th>\n",
       "      <td>1.000000</td>\n",
       "      <td>0.996675</td>\n",
       "    </tr>\n",
       "    <tr>\n",
       "      <th>last_price</th>\n",
       "      <td>0.996675</td>\n",
       "      <td>1.000000</td>\n",
       "    </tr>\n",
       "  </tbody>\n",
       "</table>\n",
       "</div>"
      ],
      "text/plain": [
       "               rooms  last_price\n",
       "rooms       1.000000    0.996675\n",
       "last_price  0.996675    1.000000"
      ]
     },
     "execution_count": 101,
     "metadata": {},
     "output_type": "execute_result"
    }
   ],
   "source": [
    "rooms_corr_with_price_mean = data.groupby('rooms')['last_price'].mean().reset_index()\n",
    "rooms_corr_with_price_mean.corr()"
   ]
  },
  {
   "cell_type": "code",
   "execution_count": 102,
   "metadata": {},
   "outputs": [
    {
     "data": {
      "text/plain": [
       "<AxesSubplot:xlabel='rooms', ylabel='last_price'>"
      ]
     },
     "execution_count": 102,
     "metadata": {},
     "output_type": "execute_result"
    },
    {
     "data": {
      "image/png": "[encoded data removed]",
      "text/plain": [
       "<Figure size 432x288 with 1 Axes>"
      ]
     },
     "metadata": {
      "needs_background": "light"
     },
     "output_type": "display_data"
    }
   ],
   "source": [
    "rooms_corr_with_price_mean.plot(x='rooms', y='last_price', kind='scatter', alpha=0.5) "
   ]
  },
  {
   "cell_type": "code",
   "execution_count": 103,
   "metadata": {},
   "outputs": [
    {
     "data": {
      "text/html": [
       "<div>\n",
       "<style scoped>\n",
       "    .dataframe tbody tr th:only-of-type {\n",
       "        vertical-align: middle;\n",
       "    }\n",
       "\n",
       "    .dataframe tbody tr th {\n",
       "        vertical-align: top;\n",
       "    }\n",
       "\n",
       "    .dataframe thead th {\n",
       "        text-align: right;\n",
       "    }\n",
       "</style>\n",
       "<table border=\"1\" class=\"dataframe\">\n",
       "  <thead>\n",
       "    <tr style=\"text-align: right;\">\n",
       "      <th></th>\n",
       "      <th>rooms</th>\n",
       "      <th>last_price</th>\n",
       "    </tr>\n",
       "  </thead>\n",
       "  <tbody>\n",
       "    <tr>\n",
       "      <th>rooms</th>\n",
       "      <td>1.000000</td>\n",
       "      <td>0.999796</td>\n",
       "    </tr>\n",
       "    <tr>\n",
       "      <th>last_price</th>\n",
       "      <td>0.999796</td>\n",
       "      <td>1.000000</td>\n",
       "    </tr>\n",
       "  </tbody>\n",
       "</table>\n",
       "</div>"
      ],
      "text/plain": [
       "               rooms  last_price\n",
       "rooms       1.000000    0.999796\n",
       "last_price  0.999796    1.000000"
      ]
     },
     "execution_count": 103,
     "metadata": {},
     "output_type": "execute_result"
    }
   ],
   "source": [
    "rooms_corr_with_price_median = data.groupby('rooms')['last_price'].median().reset_index()\n",
    "rooms_corr_with_price_median.corr()"
   ]
  },
  {
   "cell_type": "code",
   "execution_count": 104,
   "metadata": {},
   "outputs": [
    {
     "data": {
      "text/plain": [
       "<AxesSubplot:xlabel='rooms', ylabel='last_price'>"
      ]
     },
     "execution_count": 104,
     "metadata": {},
     "output_type": "execute_result"
    },
    {
     "data": {
      "image/png": "[encoded data removed]",
      "text/plain": [
       "<Figure size 432x288 with 1 Axes>"
      ]
     },
     "metadata": {
      "needs_background": "light"
     },
     "output_type": "display_data"
    }
   ],
   "source": [
    "rooms_corr_with_price_median.plot(x='rooms', y='last_price', kind='scatter', alpha=0.5) "
   ]
  },
  {
   "cell_type": "markdown",
   "metadata": {},
   "source": [
    "<b>Вывод:</b> Стоимость квартиры напрямую зависит от количества комнат"
   ]
  },
  {
   "cell_type": "markdown",
   "metadata": {},
   "source": [
    "<b>Зависимость цены от этажа, на котором расположена квартира</b>"
   ]
  },
  {
   "cell_type": "code",
   "execution_count": 105,
   "metadata": {},
   "outputs": [
    {
     "data": {
      "text/html": [
       "<div>\n",
       "<style scoped>\n",
       "    .dataframe tbody tr th:only-of-type {\n",
       "        vertical-align: middle;\n",
       "    }\n",
       "\n",
       "    .dataframe tbody tr th {\n",
       "        vertical-align: top;\n",
       "    }\n",
       "\n",
       "    .dataframe thead th {\n",
       "        text-align: right;\n",
       "    }\n",
       "</style>\n",
       "<table border=\"1\" class=\"dataframe\">\n",
       "  <thead>\n",
       "    <tr style=\"text-align: right;\">\n",
       "      <th></th>\n",
       "      <th>type_of_floor</th>\n",
       "      <th>last_price</th>\n",
       "    </tr>\n",
       "  </thead>\n",
       "  <tbody>\n",
       "    <tr>\n",
       "      <th>1</th>\n",
       "      <td>первый</td>\n",
       "      <td>4.042030e+06</td>\n",
       "    </tr>\n",
       "    <tr>\n",
       "      <th>2</th>\n",
       "      <td>последний</td>\n",
       "      <td>4.340442e+06</td>\n",
       "    </tr>\n",
       "    <tr>\n",
       "      <th>0</th>\n",
       "      <td>другой</td>\n",
       "      <td>4.939952e+06</td>\n",
       "    </tr>\n",
       "  </tbody>\n",
       "</table>\n",
       "</div>"
      ],
      "text/plain": [
       "  type_of_floor    last_price\n",
       "1        первый  4.042030e+06\n",
       "2     последний  4.340442e+06\n",
       "0        другой  4.939952e+06"
      ]
     },
     "execution_count": 105,
     "metadata": {},
     "output_type": "execute_result"
    }
   ],
   "source": [
    "type_of_floor_corr_with_price_mean = data.groupby('type_of_floor')['last_price'].mean().reset_index()\n",
    "type_of_floor_corr_with_price_mean.sort_values('last_price',ascending=True)"
   ]
  },
  {
   "cell_type": "code",
   "execution_count": 106,
   "metadata": {},
   "outputs": [
    {
     "data": {
      "text/html": [
       "<div>\n",
       "<style scoped>\n",
       "    .dataframe tbody tr th:only-of-type {\n",
       "        vertical-align: middle;\n",
       "    }\n",
       "\n",
       "    .dataframe tbody tr th {\n",
       "        vertical-align: top;\n",
       "    }\n",
       "\n",
       "    .dataframe thead th {\n",
       "        text-align: right;\n",
       "    }\n",
       "</style>\n",
       "<table border=\"1\" class=\"dataframe\">\n",
       "  <thead>\n",
       "    <tr style=\"text-align: right;\">\n",
       "      <th></th>\n",
       "      <th>type_of_floor</th>\n",
       "      <th>last_price</th>\n",
       "    </tr>\n",
       "  </thead>\n",
       "  <tbody>\n",
       "    <tr>\n",
       "      <th>1</th>\n",
       "      <td>первый</td>\n",
       "      <td>3790000</td>\n",
       "    </tr>\n",
       "    <tr>\n",
       "      <th>2</th>\n",
       "      <td>последний</td>\n",
       "      <td>3990000</td>\n",
       "    </tr>\n",
       "    <tr>\n",
       "      <th>0</th>\n",
       "      <td>другой</td>\n",
       "      <td>4500000</td>\n",
       "    </tr>\n",
       "  </tbody>\n",
       "</table>\n",
       "</div>"
      ],
      "text/plain": [
       "  type_of_floor  last_price\n",
       "1        первый     3790000\n",
       "2     последний     3990000\n",
       "0        другой     4500000"
      ]
     },
     "execution_count": 106,
     "metadata": {},
     "output_type": "execute_result"
    }
   ],
   "source": [
    "type_of_floor_corr_with_price_median = data.groupby('type_of_floor')['last_price'].median().reset_index()\n",
    "type_of_floor_corr_with_price_median.sort_values('last_price',ascending=True)"
   ]
  },
  {
   "cell_type": "markdown",
   "metadata": {},
   "source": [
    "<b>Вывод:</b> Этажность квартиры также напрямую связана со стоимостью, дешевле всего квартиры на первом, потом на последнем этаже. \\\n",
    "Квартиры расположенные не на крайних этажах стоят дороже."
   ]
  },
  {
   "cell_type": "markdown",
   "metadata": {},
   "source": [
    "<b>Зависимость цены от дня недели размещения объявления</b>"
   ]
  },
  {
   "cell_type": "code",
   "execution_count": 107,
   "metadata": {},
   "outputs": [
    {
     "data": {
      "text/html": [
       "<div>\n",
       "<style scoped>\n",
       "    .dataframe tbody tr th:only-of-type {\n",
       "        vertical-align: middle;\n",
       "    }\n",
       "\n",
       "    .dataframe tbody tr th {\n",
       "        vertical-align: top;\n",
       "    }\n",
       "\n",
       "    .dataframe thead th {\n",
       "        text-align: right;\n",
       "    }\n",
       "</style>\n",
       "<table border=\"1\" class=\"dataframe\">\n",
       "  <thead>\n",
       "    <tr style=\"text-align: right;\">\n",
       "      <th></th>\n",
       "      <th>exposition_day_of_week</th>\n",
       "      <th>last_price</th>\n",
       "    </tr>\n",
       "  </thead>\n",
       "  <tbody>\n",
       "    <tr>\n",
       "      <th>2</th>\n",
       "      <td>2</td>\n",
       "      <td>4400000</td>\n",
       "    </tr>\n",
       "    <tr>\n",
       "      <th>1</th>\n",
       "      <td>1</td>\n",
       "      <td>4399500</td>\n",
       "    </tr>\n",
       "    <tr>\n",
       "      <th>0</th>\n",
       "      <td>0</td>\n",
       "      <td>4350000</td>\n",
       "    </tr>\n",
       "    <tr>\n",
       "      <th>3</th>\n",
       "      <td>3</td>\n",
       "      <td>4320000</td>\n",
       "    </tr>\n",
       "    <tr>\n",
       "      <th>4</th>\n",
       "      <td>4</td>\n",
       "      <td>4300000</td>\n",
       "    </tr>\n",
       "    <tr>\n",
       "      <th>5</th>\n",
       "      <td>5</td>\n",
       "      <td>4300000</td>\n",
       "    </tr>\n",
       "    <tr>\n",
       "      <th>6</th>\n",
       "      <td>6</td>\n",
       "      <td>4300000</td>\n",
       "    </tr>\n",
       "  </tbody>\n",
       "</table>\n",
       "</div>"
      ],
      "text/plain": [
       "   exposition_day_of_week  last_price\n",
       "2                       2     4400000\n",
       "1                       1     4399500\n",
       "0                       0     4350000\n",
       "3                       3     4320000\n",
       "4                       4     4300000\n",
       "5                       5     4300000\n",
       "6                       6     4300000"
      ]
     },
     "execution_count": 107,
     "metadata": {},
     "output_type": "execute_result"
    }
   ],
   "source": [
    "exposition_day_of_week_corr_with_price_median = data.groupby('exposition_day_of_week')['last_price'].median().reset_index()\n",
    "exposition_day_of_week_corr_with_price_median.sort_values('last_price', ascending=False)"
   ]
  },
  {
   "cell_type": "code",
   "execution_count": 108,
   "metadata": {},
   "outputs": [
    {
     "data": {
      "text/html": [
       "<div>\n",
       "<style scoped>\n",
       "    .dataframe tbody tr th:only-of-type {\n",
       "        vertical-align: middle;\n",
       "    }\n",
       "\n",
       "    .dataframe tbody tr th {\n",
       "        vertical-align: top;\n",
       "    }\n",
       "\n",
       "    .dataframe thead th {\n",
       "        text-align: right;\n",
       "    }\n",
       "</style>\n",
       "<table border=\"1\" class=\"dataframe\">\n",
       "  <thead>\n",
       "    <tr style=\"text-align: right;\">\n",
       "      <th></th>\n",
       "      <th>exposition_day_of_week</th>\n",
       "      <th>last_price</th>\n",
       "    </tr>\n",
       "  </thead>\n",
       "  <tbody>\n",
       "    <tr>\n",
       "      <th>2</th>\n",
       "      <td>2</td>\n",
       "      <td>4.785001e+06</td>\n",
       "    </tr>\n",
       "    <tr>\n",
       "      <th>1</th>\n",
       "      <td>1</td>\n",
       "      <td>4.781033e+06</td>\n",
       "    </tr>\n",
       "    <tr>\n",
       "      <th>3</th>\n",
       "      <td>3</td>\n",
       "      <td>4.758380e+06</td>\n",
       "    </tr>\n",
       "    <tr>\n",
       "      <th>0</th>\n",
       "      <td>0</td>\n",
       "      <td>4.732906e+06</td>\n",
       "    </tr>\n",
       "    <tr>\n",
       "      <th>4</th>\n",
       "      <td>4</td>\n",
       "      <td>4.717684e+06</td>\n",
       "    </tr>\n",
       "    <tr>\n",
       "      <th>6</th>\n",
       "      <td>6</td>\n",
       "      <td>4.671807e+06</td>\n",
       "    </tr>\n",
       "    <tr>\n",
       "      <th>5</th>\n",
       "      <td>5</td>\n",
       "      <td>4.641598e+06</td>\n",
       "    </tr>\n",
       "  </tbody>\n",
       "</table>\n",
       "</div>"
      ],
      "text/plain": [
       "   exposition_day_of_week    last_price\n",
       "2                       2  4.785001e+06\n",
       "1                       1  4.781033e+06\n",
       "3                       3  4.758380e+06\n",
       "0                       0  4.732906e+06\n",
       "4                       4  4.717684e+06\n",
       "6                       6  4.671807e+06\n",
       "5                       5  4.641598e+06"
      ]
     },
     "execution_count": 108,
     "metadata": {},
     "output_type": "execute_result"
    }
   ],
   "source": [
    "exposition_day_of_week_corr_with_price_mean = data.groupby('exposition_day_of_week')['last_price'].mean().reset_index()\n",
    "exposition_day_of_week_corr_with_price_mean.sort_values('last_price', ascending=False)"
   ]
  },
  {
   "cell_type": "markdown",
   "metadata": {},
   "source": [
    "<b>Вывод:</b> Стоимость квартир также связана со днем недели, когда было размещено обявление. Дешевле всего размещают квартиры в выходные дни. Объявления с самой высокой стоимостью приходятся на середину недели."
   ]
  },
  {
   "cell_type": "markdown",
   "metadata": {},
   "source": [
    "<b>Зависимость цены от месяца размещения объявления</b>"
   ]
  },
  {
   "cell_type": "code",
   "execution_count": 109,
   "metadata": {},
   "outputs": [
    {
     "data": {
      "text/html": [
       "<div>\n",
       "<style scoped>\n",
       "    .dataframe tbody tr th:only-of-type {\n",
       "        vertical-align: middle;\n",
       "    }\n",
       "\n",
       "    .dataframe tbody tr th {\n",
       "        vertical-align: top;\n",
       "    }\n",
       "\n",
       "    .dataframe thead th {\n",
       "        text-align: right;\n",
       "    }\n",
       "</style>\n",
       "<table border=\"1\" class=\"dataframe\">\n",
       "  <thead>\n",
       "    <tr style=\"text-align: right;\">\n",
       "      <th></th>\n",
       "      <th>exposition_month</th>\n",
       "      <th>last_price</th>\n",
       "    </tr>\n",
       "  </thead>\n",
       "  <tbody>\n",
       "    <tr>\n",
       "      <th>exposition_month</th>\n",
       "      <td>1.000000</td>\n",
       "      <td>0.022731</td>\n",
       "    </tr>\n",
       "    <tr>\n",
       "      <th>last_price</th>\n",
       "      <td>0.022731</td>\n",
       "      <td>1.000000</td>\n",
       "    </tr>\n",
       "  </tbody>\n",
       "</table>\n",
       "</div>"
      ],
      "text/plain": [
       "                  exposition_month  last_price\n",
       "exposition_month          1.000000    0.022731\n",
       "last_price                0.022731    1.000000"
      ]
     },
     "execution_count": 109,
     "metadata": {},
     "output_type": "execute_result"
    }
   ],
   "source": [
    "exposition_month_corr_with_price_median = data.groupby('exposition_month')['last_price'].median().reset_index()\n",
    "exposition_month_corr_with_price_median.corr()"
   ]
  },
  {
   "cell_type": "code",
   "execution_count": 110,
   "metadata": {},
   "outputs": [
    {
     "data": {
      "text/plain": [
       "<AxesSubplot:xlabel='exposition_month', ylabel='last_price'>"
      ]
     },
     "execution_count": 110,
     "metadata": {},
     "output_type": "execute_result"
    },
    {
     "data": {
      "image/png": "[encoded data removed]",
      "text/plain": [
       "<Figure size 432x288 with 1 Axes>"
      ]
     },
     "metadata": {
      "needs_background": "light"
     },
     "output_type": "display_data"
    }
   ],
   "source": [
    "exposition_month_corr_with_price_median.plot(x='exposition_month', y='last_price', kind='scatter', alpha=0.5) "
   ]
  },
  {
   "cell_type": "code",
   "execution_count": 111,
   "metadata": {},
   "outputs": [
    {
     "data": {
      "text/html": [
       "<div>\n",
       "<style scoped>\n",
       "    .dataframe tbody tr th:only-of-type {\n",
       "        vertical-align: middle;\n",
       "    }\n",
       "\n",
       "    .dataframe tbody tr th {\n",
       "        vertical-align: top;\n",
       "    }\n",
       "\n",
       "    .dataframe thead th {\n",
       "        text-align: right;\n",
       "    }\n",
       "</style>\n",
       "<table border=\"1\" class=\"dataframe\">\n",
       "  <thead>\n",
       "    <tr style=\"text-align: right;\">\n",
       "      <th></th>\n",
       "      <th>exposition_month</th>\n",
       "      <th>last_price</th>\n",
       "    </tr>\n",
       "  </thead>\n",
       "  <tbody>\n",
       "    <tr>\n",
       "      <th>exposition_month</th>\n",
       "      <td>1.000000</td>\n",
       "      <td>0.182502</td>\n",
       "    </tr>\n",
       "    <tr>\n",
       "      <th>last_price</th>\n",
       "      <td>0.182502</td>\n",
       "      <td>1.000000</td>\n",
       "    </tr>\n",
       "  </tbody>\n",
       "</table>\n",
       "</div>"
      ],
      "text/plain": [
       "                  exposition_month  last_price\n",
       "exposition_month          1.000000    0.182502\n",
       "last_price                0.182502    1.000000"
      ]
     },
     "execution_count": 111,
     "metadata": {},
     "output_type": "execute_result"
    }
   ],
   "source": [
    "exposition_month_corr_with_price_mean = data.groupby('exposition_month')['last_price'].mean().reset_index()\n",
    "exposition_month_corr_with_price_mean.corr()"
   ]
  },
  {
   "cell_type": "code",
   "execution_count": 112,
   "metadata": {},
   "outputs": [
    {
     "data": {
      "text/plain": [
       "<AxesSubplot:xlabel='exposition_month', ylabel='last_price'>"
      ]
     },
     "execution_count": 112,
     "metadata": {},
     "output_type": "execute_result"
    },
    {
     "data": {
      "image/png": "[encoded data removed]",
      "text/plain": [
       "<Figure size 432x288 with 1 Axes>"
      ]
     },
     "metadata": {
      "needs_background": "light"
     },
     "output_type": "display_data"
    }
   ],
   "source": [
    "exposition_month_corr_with_price_mean.plot(x='exposition_month', y='last_price', kind='scatter', alpha=0.5) "
   ]
  },
  {
   "cell_type": "markdown",
   "metadata": {},
   "source": [
    "<b>Вывод:</b> Месяц, в котором было размещено объявление абсолютно не влияет на стоимость квартиры."
   ]
  },
  {
   "cell_type": "markdown",
   "metadata": {},
   "source": [
    "<b>Зависимость цены от года размещения объявления</b>"
   ]
  },
  {
   "cell_type": "code",
   "execution_count": 113,
   "metadata": {},
   "outputs": [
    {
     "data": {
      "text/html": [
       "<div>\n",
       "<style scoped>\n",
       "    .dataframe tbody tr th:only-of-type {\n",
       "        vertical-align: middle;\n",
       "    }\n",
       "\n",
       "    .dataframe tbody tr th {\n",
       "        vertical-align: top;\n",
       "    }\n",
       "\n",
       "    .dataframe thead th {\n",
       "        text-align: right;\n",
       "    }\n",
       "</style>\n",
       "<table border=\"1\" class=\"dataframe\">\n",
       "  <thead>\n",
       "    <tr style=\"text-align: right;\">\n",
       "      <th></th>\n",
       "      <th>exposition_year</th>\n",
       "      <th>last_price</th>\n",
       "    </tr>\n",
       "  </thead>\n",
       "  <tbody>\n",
       "    <tr>\n",
       "      <th>exposition_year</th>\n",
       "      <td>1.000000</td>\n",
       "      <td>-0.510596</td>\n",
       "    </tr>\n",
       "    <tr>\n",
       "      <th>last_price</th>\n",
       "      <td>-0.510596</td>\n",
       "      <td>1.000000</td>\n",
       "    </tr>\n",
       "  </tbody>\n",
       "</table>\n",
       "</div>"
      ],
      "text/plain": [
       "                 exposition_year  last_price\n",
       "exposition_year         1.000000   -0.510596\n",
       "last_price             -0.510596    1.000000"
      ]
     },
     "execution_count": 113,
     "metadata": {},
     "output_type": "execute_result"
    }
   ],
   "source": [
    "exposition_year_corr_with_price_median = data.groupby('exposition_year')['last_price'].median().reset_index()\n",
    "exposition_year_corr_with_price_median.corr()"
   ]
  },
  {
   "cell_type": "code",
   "execution_count": 114,
   "metadata": {},
   "outputs": [
    {
     "data": {
      "text/plain": [
       "<AxesSubplot:xlabel='exposition_year', ylabel='last_price'>"
      ]
     },
     "execution_count": 114,
     "metadata": {},
     "output_type": "execute_result"
    },
    {
     "data": {
      "image/png": "[encoded data removed]",
      "text/plain": [
       "<Figure size 432x288 with 1 Axes>"
      ]
     },
     "metadata": {
      "needs_background": "light"
     },
     "output_type": "display_data"
    }
   ],
   "source": [
    "exposition_year_corr_with_price_median.plot(x='exposition_year', y='last_price', kind='scatter', alpha=0.5) "
   ]
  },
  {
   "cell_type": "code",
   "execution_count": 115,
   "metadata": {},
   "outputs": [
    {
     "data": {
      "text/html": [
       "<div>\n",
       "<style scoped>\n",
       "    .dataframe tbody tr th:only-of-type {\n",
       "        vertical-align: middle;\n",
       "    }\n",
       "\n",
       "    .dataframe tbody tr th {\n",
       "        vertical-align: top;\n",
       "    }\n",
       "\n",
       "    .dataframe thead th {\n",
       "        text-align: right;\n",
       "    }\n",
       "</style>\n",
       "<table border=\"1\" class=\"dataframe\">\n",
       "  <thead>\n",
       "    <tr style=\"text-align: right;\">\n",
       "      <th></th>\n",
       "      <th>exposition_year</th>\n",
       "      <th>last_price</th>\n",
       "    </tr>\n",
       "  </thead>\n",
       "  <tbody>\n",
       "    <tr>\n",
       "      <th>exposition_year</th>\n",
       "      <td>1.000000</td>\n",
       "      <td>-0.598079</td>\n",
       "    </tr>\n",
       "    <tr>\n",
       "      <th>last_price</th>\n",
       "      <td>-0.598079</td>\n",
       "      <td>1.000000</td>\n",
       "    </tr>\n",
       "  </tbody>\n",
       "</table>\n",
       "</div>"
      ],
      "text/plain": [
       "                 exposition_year  last_price\n",
       "exposition_year         1.000000   -0.598079\n",
       "last_price             -0.598079    1.000000"
      ]
     },
     "execution_count": 115,
     "metadata": {},
     "output_type": "execute_result"
    }
   ],
   "source": [
    "exposition_year_corr_with_price_mean = data.groupby('exposition_year')['last_price'].mean().reset_index()\n",
    "exposition_year_corr_with_price_mean.corr()"
   ]
  },
  {
   "cell_type": "code",
   "execution_count": 116,
   "metadata": {},
   "outputs": [
    {
     "data": {
      "text/plain": [
       "<AxesSubplot:xlabel='exposition_year', ylabel='last_price'>"
      ]
     },
     "execution_count": 116,
     "metadata": {},
     "output_type": "execute_result"
    },
    {
     "data": {
      "image/png": "[encoded data removed]",
      "text/plain": [
       "<Figure size 432x288 with 1 Axes>"
      ]
     },
     "metadata": {
      "needs_background": "light"
     },
     "output_type": "display_data"
    }
   ],
   "source": [
    "exposition_year_corr_with_price_mean.plot(x='exposition_year', y='last_price', kind='scatter', alpha=0.5) "
   ]
  },
  {
   "cell_type": "markdown",
   "metadata": {},
   "source": [
    "<b>Вывод:</b> Стоимость квартир имеет слабую корреляцию с годом, когда было размещено объявление"
   ]
  },
  {
   "cell_type": "markdown",
   "metadata": {},
   "source": [
    "<div class=\"alert alert-block alert-danger\">\n",
    "<h2> Комментарий ревьюера <a class=\"tocSkip\"></h2>\n",
    "\n",
    "<b>На доработку🤔:</b> Опять же исправим удаление выбросов и веренмся сюда. Было бы здорово здесь посмотреть на графикик, кстати"
   ]
  },
  {
   "cell_type": "markdown",
   "metadata": {},
   "source": [
    "<div class=\"alert alert-success\">\n",
    "<h2> Комментарий ревьюера v3 <a class=\"tocSkip\"> </h2>\n",
    "\n",
    "<b>Все супер!👍:</b> Влияние параметров на цену определено верно"
   ]
  },
  {
   "cell_type": "markdown",
   "metadata": {},
   "source": [
    "#### Средняя цена одного квадратного метра в 10 населённых пунктах с наибольшим числом объявлений"
   ]
  },
  {
   "cell_type": "code",
   "execution_count": 117,
   "metadata": {},
   "outputs": [
    {
     "data": {
      "text/html": [
       "<div>\n",
       "<style scoped>\n",
       "    .dataframe tbody tr th:only-of-type {\n",
       "        vertical-align: middle;\n",
       "    }\n",
       "\n",
       "    .dataframe tbody tr th {\n",
       "        vertical-align: top;\n",
       "    }\n",
       "\n",
       "    .dataframe thead th {\n",
       "        text-align: right;\n",
       "    }\n",
       "</style>\n",
       "<table border=\"1\" class=\"dataframe\">\n",
       "  <thead>\n",
       "    <tr style=\"text-align: right;\">\n",
       "      <th></th>\n",
       "      <th>locality_name</th>\n",
       "      <th>count_composition</th>\n",
       "      <th>one_metr_median</th>\n",
       "    </tr>\n",
       "  </thead>\n",
       "  <tbody>\n",
       "    <tr>\n",
       "      <th>0</th>\n",
       "      <td>Санкт-Петербург</td>\n",
       "      <td>13206</td>\n",
       "      <td>101911.0</td>\n",
       "    </tr>\n",
       "    <tr>\n",
       "      <th>1</th>\n",
       "      <td>Мурино</td>\n",
       "      <td>576</td>\n",
       "      <td>86312.0</td>\n",
       "    </tr>\n",
       "    <tr>\n",
       "      <th>2</th>\n",
       "      <td>Кудрово</td>\n",
       "      <td>444</td>\n",
       "      <td>95831.0</td>\n",
       "    </tr>\n",
       "    <tr>\n",
       "      <th>3</th>\n",
       "      <td>Шушары</td>\n",
       "      <td>432</td>\n",
       "      <td>76876.0</td>\n",
       "    </tr>\n",
       "    <tr>\n",
       "      <th>4</th>\n",
       "      <td>Всеволожск</td>\n",
       "      <td>387</td>\n",
       "      <td>65649.0</td>\n",
       "    </tr>\n",
       "    <tr>\n",
       "      <th>5</th>\n",
       "      <td>Колпино</td>\n",
       "      <td>331</td>\n",
       "      <td>74722.0</td>\n",
       "    </tr>\n",
       "    <tr>\n",
       "      <th>6</th>\n",
       "      <td>Пушкин</td>\n",
       "      <td>326</td>\n",
       "      <td>98046.0</td>\n",
       "    </tr>\n",
       "    <tr>\n",
       "      <th>7</th>\n",
       "      <td>Парголово</td>\n",
       "      <td>322</td>\n",
       "      <td>91780.0</td>\n",
       "    </tr>\n",
       "    <tr>\n",
       "      <th>8</th>\n",
       "      <td>Гатчина</td>\n",
       "      <td>300</td>\n",
       "      <td>67672.0</td>\n",
       "    </tr>\n",
       "    <tr>\n",
       "      <th>9</th>\n",
       "      <td>Выборг</td>\n",
       "      <td>223</td>\n",
       "      <td>58108.0</td>\n",
       "    </tr>\n",
       "  </tbody>\n",
       "</table>\n",
       "</div>"
      ],
      "text/plain": [
       "     locality_name  count_composition  one_metr_median\n",
       "0  Санкт-Петербург              13206         101911.0\n",
       "1           Мурино                576          86312.0\n",
       "2          Кудрово                444          95831.0\n",
       "3           Шушары                432          76876.0\n",
       "4       Всеволожск                387          65649.0\n",
       "5          Колпино                331          74722.0\n",
       "6           Пушкин                326          98046.0\n",
       "7        Парголово                322          91780.0\n",
       "8          Гатчина                300          67672.0\n",
       "9           Выборг                223          58108.0"
      ]
     },
     "execution_count": 117,
     "metadata": {},
     "output_type": "execute_result"
    }
   ],
   "source": [
    "meter_cost = data.pivot_table(index='locality_name', values='one_metr_cost', aggfunc=('median', 'count'))\n",
    "meter_cost.columns=['count_composition', 'one_metr_median']\n",
    "top_10 = meter_cost.sort_values('count_composition', ascending=False).round().head(10).reset_index()\n",
    "top_10"
   ]
  },
  {
   "cell_type": "markdown",
   "metadata": {},
   "source": [
    "Населенный пункт с самой высокой стоимостью за квадратный метр \"Зеленогорск\""
   ]
  },
  {
   "cell_type": "code",
   "execution_count": 118,
   "metadata": {},
   "outputs": [
    {
     "data": {
      "text/html": [
       "<div>\n",
       "<style scoped>\n",
       "    .dataframe tbody tr th:only-of-type {\n",
       "        vertical-align: middle;\n",
       "    }\n",
       "\n",
       "    .dataframe tbody tr th {\n",
       "        vertical-align: top;\n",
       "    }\n",
       "\n",
       "    .dataframe thead th {\n",
       "        text-align: right;\n",
       "    }\n",
       "</style>\n",
       "<table border=\"1\" class=\"dataframe\">\n",
       "  <thead>\n",
       "    <tr style=\"text-align: right;\">\n",
       "      <th></th>\n",
       "      <th>locality_name</th>\n",
       "      <th>count_composition</th>\n",
       "      <th>one_metr_median</th>\n",
       "    </tr>\n",
       "  </thead>\n",
       "  <tbody>\n",
       "    <tr>\n",
       "      <th>0</th>\n",
       "      <td>Санкт-Петербург</td>\n",
       "      <td>13206</td>\n",
       "      <td>101911.0</td>\n",
       "    </tr>\n",
       "  </tbody>\n",
       "</table>\n",
       "</div>"
      ],
      "text/plain": [
       "     locality_name  count_composition  one_metr_median\n",
       "0  Санкт-Петербург              13206         101911.0"
      ]
     },
     "execution_count": 118,
     "metadata": {},
     "output_type": "execute_result"
    }
   ],
   "source": [
    "max_one_metr_cost = top_10['one_metr_median'].max()\n",
    "top_10.query('one_metr_median == @max_one_metr_cost')"
   ]
  },
  {
   "cell_type": "markdown",
   "metadata": {},
   "source": [
    "Населенный пункт с самой низкой стоимостью за квадратный метр \"Вахнова Кара\""
   ]
  },
  {
   "cell_type": "code",
   "execution_count": 119,
   "metadata": {},
   "outputs": [
    {
     "data": {
      "text/html": [
       "<div>\n",
       "<style scoped>\n",
       "    .dataframe tbody tr th:only-of-type {\n",
       "        vertical-align: middle;\n",
       "    }\n",
       "\n",
       "    .dataframe tbody tr th {\n",
       "        vertical-align: top;\n",
       "    }\n",
       "\n",
       "    .dataframe thead th {\n",
       "        text-align: right;\n",
       "    }\n",
       "</style>\n",
       "<table border=\"1\" class=\"dataframe\">\n",
       "  <thead>\n",
       "    <tr style=\"text-align: right;\">\n",
       "      <th></th>\n",
       "      <th>locality_name</th>\n",
       "      <th>count_composition</th>\n",
       "      <th>one_metr_median</th>\n",
       "    </tr>\n",
       "  </thead>\n",
       "  <tbody>\n",
       "    <tr>\n",
       "      <th>9</th>\n",
       "      <td>Выборг</td>\n",
       "      <td>223</td>\n",
       "      <td>58108.0</td>\n",
       "    </tr>\n",
       "  </tbody>\n",
       "</table>\n",
       "</div>"
      ],
      "text/plain": [
       "  locality_name  count_composition  one_metr_median\n",
       "9        Выборг                223          58108.0"
      ]
     },
     "execution_count": 119,
     "metadata": {},
     "output_type": "execute_result"
    }
   ],
   "source": [
    "min_one_metr_cost = top_10['one_metr_median'].min()\n",
    "top_10.query('one_metr_median == @min_one_metr_cost')"
   ]
  },
  {
   "cell_type": "markdown",
   "metadata": {},
   "source": [
    "<div class=\"alert alert-block alert-danger\">\n",
    "<h2> Комментарий ревьюера <a class=\"tocSkip\"></h2>\n",
    "\n",
    "<b>На доработку🤔:</b>  То же самое - исправим выбросы и веренмся"
   ]
  },
  {
   "cell_type": "markdown",
   "metadata": {},
   "source": [
    "<div class=\"alert alert-block alert-danger\">\n",
    "<h2> Комментарий ревьюера v2 <a class=\"tocSkip\"></h2>\n",
    "   \n",
    "<b>На доработку🤔:</b> А все-таки мы считаем самую дорогую и самую дешевую недвижимость по топ-10 или по всему датафрейму?"
   ]
  },
  {
   "cell_type": "markdown",
   "metadata": {},
   "source": [
    "<div class=\"alert alert-info\">\n",
    "<b>Прошу прощения, не полностью в ник в вопрос задачи, поправил ^_^</b> \n",
    "</div>"
   ]
  },
  {
   "cell_type": "markdown",
   "metadata": {},
   "source": [
    "<div class=\"alert alert-success\">\n",
    "<h2> Комментарий ревьюера v3 <a class=\"tocSkip\"> </h2>\n",
    "\n",
    "<b>Все супер!👍:</b> Исправлено!"
   ]
  },
  {
   "cell_type": "markdown",
   "metadata": {},
   "source": [
    "#### Средняя цена каждого километра от центра города в Санкт-Петербурге"
   ]
  },
  {
   "cell_type": "code",
   "execution_count": 120,
   "metadata": {},
   "outputs": [],
   "source": [
    "data['price_km'] = data['last_price'] / data['city_centers_nearest_in_km']\n",
    "in_center_mean = data[data['locality_name'] == 'Санкт-Петербург'].groupby('city_centers_nearest_in_km')\\\n",
    "                                                                  .mean()['one_metr_cost'].reset_index()\n",
    "in_center_median = data[data['locality_name'] == 'Санкт-Петербург'].groupby('city_centers_nearest_in_km')\\\n",
    "                                                                  .median()['one_metr_cost'].reset_index()"
   ]
  },
  {
   "cell_type": "code",
   "execution_count": 121,
   "metadata": {},
   "outputs": [
    {
     "data": {
      "text/plain": [
       "<AxesSubplot:xlabel='city_centers_nearest_in_km', ylabel='one_metr_cost'>"
      ]
     },
     "execution_count": 121,
     "metadata": {},
     "output_type": "execute_result"
    },
    {
     "data": {
      "image/png": "[encoded data removed]",
      "text/plain": [
       "<Figure size 432x288 with 2 Axes>"
      ]
     },
     "metadata": {
      "needs_background": "light"
     },
     "output_type": "display_data"
    }
   ],
   "source": [
    "in_center_mean.plot(x='city_centers_nearest_in_km', y='one_metr_cost', kind='hexbin', gridsize=20, figsize=(6, 4), sharex=False, grid=True) "
   ]
  },
  {
   "cell_type": "code",
   "execution_count": 122,
   "metadata": {},
   "outputs": [
    {
     "data": {
      "text/html": [
       "<div>\n",
       "<style scoped>\n",
       "    .dataframe tbody tr th:only-of-type {\n",
       "        vertical-align: middle;\n",
       "    }\n",
       "\n",
       "    .dataframe tbody tr th {\n",
       "        vertical-align: top;\n",
       "    }\n",
       "\n",
       "    .dataframe thead th {\n",
       "        text-align: right;\n",
       "    }\n",
       "</style>\n",
       "<table border=\"1\" class=\"dataframe\">\n",
       "  <thead>\n",
       "    <tr style=\"text-align: right;\">\n",
       "      <th></th>\n",
       "      <th>city_centers_nearest_in_km</th>\n",
       "      <th>one_metr_cost</th>\n",
       "    </tr>\n",
       "  </thead>\n",
       "  <tbody>\n",
       "    <tr>\n",
       "      <th>city_centers_nearest_in_km</th>\n",
       "      <td>1.000000</td>\n",
       "      <td>-0.935097</td>\n",
       "    </tr>\n",
       "    <tr>\n",
       "      <th>one_metr_cost</th>\n",
       "      <td>-0.935097</td>\n",
       "      <td>1.000000</td>\n",
       "    </tr>\n",
       "  </tbody>\n",
       "</table>\n",
       "</div>"
      ],
      "text/plain": [
       "                            city_centers_nearest_in_km  one_metr_cost\n",
       "city_centers_nearest_in_km                    1.000000      -0.935097\n",
       "one_metr_cost                                -0.935097       1.000000"
      ]
     },
     "execution_count": 122,
     "metadata": {},
     "output_type": "execute_result"
    }
   ],
   "source": [
    "in_center_mean.corr()"
   ]
  },
  {
   "cell_type": "code",
   "execution_count": 123,
   "metadata": {},
   "outputs": [
    {
     "data": {
      "text/plain": [
       "<AxesSubplot:xlabel='city_centers_nearest_in_km', ylabel='one_metr_cost'>"
      ]
     },
     "execution_count": 123,
     "metadata": {},
     "output_type": "execute_result"
    },
    {
     "data": {
      "image/png": "[encoded data removed]",
      "text/plain": [
       "<Figure size 432x288 with 2 Axes>"
      ]
     },
     "metadata": {
      "needs_background": "light"
     },
     "output_type": "display_data"
    }
   ],
   "source": [
    "in_center_median.plot(x='city_centers_nearest_in_km', y='one_metr_cost', kind='hexbin', gridsize=20, figsize=(6, 4), sharex=False, grid=True) "
   ]
  },
  {
   "cell_type": "code",
   "execution_count": 124,
   "metadata": {},
   "outputs": [
    {
     "data": {
      "text/html": [
       "<div>\n",
       "<style scoped>\n",
       "    .dataframe tbody tr th:only-of-type {\n",
       "        vertical-align: middle;\n",
       "    }\n",
       "\n",
       "    .dataframe tbody tr th {\n",
       "        vertical-align: top;\n",
       "    }\n",
       "\n",
       "    .dataframe thead th {\n",
       "        text-align: right;\n",
       "    }\n",
       "</style>\n",
       "<table border=\"1\" class=\"dataframe\">\n",
       "  <thead>\n",
       "    <tr style=\"text-align: right;\">\n",
       "      <th></th>\n",
       "      <th>city_centers_nearest_in_km</th>\n",
       "      <th>one_metr_cost</th>\n",
       "    </tr>\n",
       "  </thead>\n",
       "  <tbody>\n",
       "    <tr>\n",
       "      <th>city_centers_nearest_in_km</th>\n",
       "      <td>1.000000</td>\n",
       "      <td>-0.867598</td>\n",
       "    </tr>\n",
       "    <tr>\n",
       "      <th>one_metr_cost</th>\n",
       "      <td>-0.867598</td>\n",
       "      <td>1.000000</td>\n",
       "    </tr>\n",
       "  </tbody>\n",
       "</table>\n",
       "</div>"
      ],
      "text/plain": [
       "                            city_centers_nearest_in_km  one_metr_cost\n",
       "city_centers_nearest_in_km                    1.000000      -0.867598\n",
       "one_metr_cost                                -0.867598       1.000000"
      ]
     },
     "execution_count": 124,
     "metadata": {},
     "output_type": "execute_result"
    }
   ],
   "source": [
    "in_center_median.corr()"
   ]
  },
  {
   "cell_type": "markdown",
   "metadata": {},
   "source": [
    "<b>Вывод:</b> Из графиков и коэффициентов корелляции видно, что чем дальше квартира расположена от центра города, тем меньше ее стоимость за квадратный метр."
   ]
  },
  {
   "cell_type": "markdown",
   "metadata": {},
   "source": [
    "<div class=\"alert alert-block alert-danger\">\n",
    "<h2> Комментарий ревьюера <a class=\"tocSkip\"></h2>\n",
    "\n",
    "<b>На доработку🤔:</b>  И здесь"
   ]
  },
  {
   "cell_type": "markdown",
   "metadata": {},
   "source": [
    "<div class=\"alert alert-success\">\n",
    "<h2> Комментарий ревьюера v3 <a class=\"tocSkip\"> </h2>\n",
    "\n",
    "<b>Все супер!👍:</b> Все верно)"
   ]
  },
  {
   "cell_type": "markdown",
   "metadata": {},
   "source": [
    "### Общий вывод"
   ]
  },
  {
   "cell_type": "markdown",
   "metadata": {},
   "source": [
    "Основные факторы влиящие на цену квартиры:\n",
    "- Удаленность от центра города\n",
    "- Общая площадь\n",
    "- Жилая площадь\n",
    "- Количество комнат\n",
    "- Этаж, на котором расположена квартира\n",
    "\n",
    "Также, важным фактором для продажи является день недели, когда было размещено объявление. Больше всего объявлений размещается в будни дни, при этом объявления о \"дорогих\" квартирах в основном размещаются во вторник и четверг.\n",
    "\n",
    "Выявили, что успешная продажа квартиры в первые 40 дней с момента размещения объявления. Если объявление \"висит\" более 230 дней, то шанси на продажи близки к нулю.\n",
    "\n",
    "При этом месяц, когда размещается обявление практически никак не влияет на ее стоимость и результат продажи. Что не скажешь о годе, в котором размещено объявление, есть небольшая корреляция, говорящая о том, что стоимость квартир, в любом случае растет.\n",
    "\n",
    "Больше всего продается квартир с площадью от 39 до 60 кв.м., при этом это в основном однокомнатные или двухкомнатные квартиры. Основная этажность квартир с 2 по 8, что означает, что домов с большой этажность на рынке в разы меньше. При этом ярко выраженно разница в стоимости квартир расположенных на крайних этажах, они заметно дешевле остальных."
   ]
  },
  {
   "cell_type": "markdown",
   "metadata": {},
   "source": [
    "<div class=\"alert alert-block alert-danger\">\n",
    "<h2> Комментарий ревьюера <a class=\"tocSkip\"></h2>\n",
    "\n",
    "<b>На доработку🤔:</b>  Слишком усердно почистили даатфрейм от выбросов"
   ]
  },
  {
   "cell_type": "markdown",
   "metadata": {},
   "source": [
    "<div class=\"alert alert-success\">\n",
    "<h2> Комментарий ревьюера v3 <a class=\"tocSkip\"> </h2>\n",
    "\n",
    "<b>Все супер!👍:</b> Верно"
   ]
  },
  {
   "cell_type": "markdown",
   "metadata": {},
   "source": [
    "<div style=\"border:solid Chocolate 2px; padding: 40px\">\n",
    "    \n",
    "**Общий вывод по проекту ревьювера**:\n",
    " Владислав, спасибо за  проект! Ты приложил много усилий, чтобы довести его до конца, проделана огромная работа, и это видно невооруженным глазом, ты большой молодец!\n",
    "    \n",
    "**Отмечу положительные моменты**:\n",
    "    \n",
    "    1. Все разложено по полочкам, всегда понятен ход твоих мыслей, приятно смотреть\n",
    "    \n",
    "    2. Отличные визуализации\n",
    "    \n",
    "    2. На разных шагах проекта ты предлагал очень интересные решения и методы для их реализации. Хорошая работа!\n",
    "    \n",
    "    \n",
    "**На что стоит обратить внимание**:\n",
    "    \n",
    "    1. Не все пропуски заполнены верно\n",
    "\n",
    "    2. В качестве выбросов удалена почти половина датафрейма\n",
    "    \n",
    "    \n",
    "**Удачи и жду твой проект на повторное ревью!**"
   ]
  },
  {
   "cell_type": "markdown",
   "metadata": {},
   "source": [
    "<div style=\"border:solid Chocolate 2px; padding: 40px\">\n",
    "    \n",
    "**Общий вывод по проекту ревьювера v2**:\n",
    " Владислав, пока осталась та же проблема"
   ]
  },
  {
   "cell_type": "markdown",
   "metadata": {},
   "source": [
    "<div style=\"border:solid Chocolate 2px; padding: 40px\">\n",
    "    \n",
    "**Общий вывод по проекту ревьювера v3**:\n",
    " Владислав, ошибки исправлены, проект принят, поздравляю тебя! Успешной учебы и еще увидимся в Практикуме!"
   ]
  }
 ],
 "metadata": {
  "ExecuteTimeLog": [
   {
    "duration": 42,
    "start_time": "2022-10-14T11:41:53.679Z"
   },
   {
    "duration": 1646,
    "start_time": "2022-10-14T11:43:00.058Z"
   },
   {
    "duration": 14,
    "start_time": "2022-10-14T11:43:01.706Z"
   },
   {
    "duration": 77,
    "start_time": "2022-10-14T11:43:01.721Z"
   },
   {
    "duration": 25,
    "start_time": "2022-10-14T11:43:01.800Z"
   },
   {
    "duration": 1953,
    "start_time": "2022-10-14T11:43:01.827Z"
   },
   {
    "duration": 10,
    "start_time": "2022-10-14T11:43:03.783Z"
   },
   {
    "duration": 9,
    "start_time": "2022-10-14T11:43:03.794Z"
   },
   {
    "duration": 12,
    "start_time": "2022-10-14T11:43:03.804Z"
   },
   {
    "duration": 22,
    "start_time": "2022-10-14T11:43:03.818Z"
   },
   {
    "duration": 5,
    "start_time": "2022-10-14T11:43:03.843Z"
   },
   {
    "duration": 10,
    "start_time": "2022-10-14T11:43:03.849Z"
   },
   {
    "duration": 5,
    "start_time": "2022-10-14T11:43:03.861Z"
   },
   {
    "duration": 11,
    "start_time": "2022-10-14T11:43:03.868Z"
   },
   {
    "duration": 11,
    "start_time": "2022-10-14T11:43:03.881Z"
   },
   {
    "duration": 13,
    "start_time": "2022-10-14T11:43:03.893Z"
   },
   {
    "duration": 5,
    "start_time": "2022-10-14T11:43:03.908Z"
   },
   {
    "duration": 239,
    "start_time": "2022-10-14T11:43:03.915Z"
   },
   {
    "duration": 6,
    "start_time": "2022-10-14T11:43:04.155Z"
   },
   {
    "duration": 9,
    "start_time": "2022-10-14T11:43:04.162Z"
   },
   {
    "duration": 10,
    "start_time": "2022-10-14T11:43:04.172Z"
   },
   {
    "duration": 5,
    "start_time": "2022-10-14T11:43:04.184Z"
   },
   {
    "duration": 31,
    "start_time": "2022-10-14T11:43:04.191Z"
   },
   {
    "duration": 7,
    "start_time": "2022-10-14T11:43:04.224Z"
   },
   {
    "duration": 5,
    "start_time": "2022-10-14T11:43:04.232Z"
   },
   {
    "duration": 9,
    "start_time": "2022-10-14T11:43:04.239Z"
   },
   {
    "duration": 2212,
    "start_time": "2022-10-14T11:43:04.249Z"
   },
   {
    "duration": 30,
    "start_time": "2022-10-14T11:43:06.463Z"
   },
   {
    "duration": 32,
    "start_time": "2022-10-14T11:43:06.497Z"
   },
   {
    "duration": 9,
    "start_time": "2022-10-14T11:43:06.531Z"
   },
   {
    "duration": 11,
    "start_time": "2022-10-14T11:43:06.541Z"
   },
   {
    "duration": 4,
    "start_time": "2022-10-14T11:43:06.553Z"
   },
   {
    "duration": 11,
    "start_time": "2022-10-14T11:43:06.558Z"
   },
   {
    "duration": 7,
    "start_time": "2022-10-14T11:43:06.571Z"
   },
   {
    "duration": 6,
    "start_time": "2022-10-14T11:43:06.580Z"
   },
   {
    "duration": 35,
    "start_time": "2022-10-14T11:43:06.587Z"
   },
   {
    "duration": 145,
    "start_time": "2022-10-14T11:43:06.624Z"
   },
   {
    "duration": 9,
    "start_time": "2022-10-14T11:43:06.771Z"
   },
   {
    "duration": 147,
    "start_time": "2022-10-14T11:43:06.782Z"
   },
   {
    "duration": 157,
    "start_time": "2022-10-14T11:43:06.931Z"
   },
   {
    "duration": 142,
    "start_time": "2022-10-14T11:43:07.090Z"
   },
   {
    "duration": 181,
    "start_time": "2022-10-14T11:43:07.233Z"
   },
   {
    "duration": 137,
    "start_time": "2022-10-14T11:43:07.416Z"
   },
   {
    "duration": 160,
    "start_time": "2022-10-14T11:43:07.555Z"
   },
   {
    "duration": 277,
    "start_time": "2022-10-14T11:43:07.716Z"
   },
   {
    "duration": 129,
    "start_time": "2022-10-14T11:43:07.995Z"
   },
   {
    "duration": 161,
    "start_time": "2022-10-14T11:43:08.126Z"
   },
   {
    "duration": 179,
    "start_time": "2022-10-14T11:43:08.288Z"
   },
   {
    "duration": 157,
    "start_time": "2022-10-14T11:43:08.469Z"
   },
   {
    "duration": 142,
    "start_time": "2022-10-14T11:43:08.628Z"
   },
   {
    "duration": 169,
    "start_time": "2022-10-14T11:43:08.771Z"
   },
   {
    "duration": 143,
    "start_time": "2022-10-14T11:43:08.942Z"
   },
   {
    "duration": 141,
    "start_time": "2022-10-14T11:43:09.087Z"
   },
   {
    "duration": 4,
    "start_time": "2022-10-14T11:43:09.229Z"
   },
   {
    "duration": 7,
    "start_time": "2022-10-14T11:43:09.235Z"
   },
   {
    "duration": 167,
    "start_time": "2022-10-14T11:43:09.243Z"
   },
   {
    "duration": 16,
    "start_time": "2022-10-14T11:43:09.412Z"
   },
   {
    "duration": 169,
    "start_time": "2022-10-14T11:43:09.429Z"
   },
   {
    "duration": 9,
    "start_time": "2022-10-14T11:43:09.600Z"
   },
   {
    "duration": 155,
    "start_time": "2022-10-14T11:43:09.622Z"
   },
   {
    "duration": 9,
    "start_time": "2022-10-14T11:43:09.779Z"
   },
   {
    "duration": 18,
    "start_time": "2022-10-14T11:43:09.790Z"
   },
   {
    "duration": 24,
    "start_time": "2022-10-14T11:43:09.810Z"
   },
   {
    "duration": 15,
    "start_time": "2022-10-14T11:43:09.836Z"
   },
   {
    "duration": 11,
    "start_time": "2022-10-14T11:43:09.852Z"
   },
   {
    "duration": 12,
    "start_time": "2022-10-14T11:43:09.864Z"
   },
   {
    "duration": 9,
    "start_time": "2022-10-14T11:43:09.878Z"
   },
   {
    "duration": 42,
    "start_time": "2022-10-14T11:43:09.889Z"
   },
   {
    "duration": 9,
    "start_time": "2022-10-14T11:43:09.933Z"
   },
   {
    "duration": 17,
    "start_time": "2022-10-14T11:43:09.944Z"
   },
   {
    "duration": 11,
    "start_time": "2022-10-14T11:43:09.963Z"
   },
   {
    "duration": 53,
    "start_time": "2022-10-14T11:43:09.976Z"
   },
   {
    "duration": 9,
    "start_time": "2022-10-14T11:43:10.030Z"
   },
   {
    "duration": 12,
    "start_time": "2022-10-14T11:43:10.041Z"
   },
   {
    "duration": 36,
    "start_time": "2022-10-14T11:43:10.055Z"
   },
   {
    "duration": 250,
    "start_time": "2022-10-14T11:43:10.093Z"
   },
   {
    "duration": 7,
    "start_time": "2022-10-14T11:43:10.346Z"
   },
   {
    "duration": 221,
    "start_time": "2022-10-14T11:43:10.355Z"
   },
   {
    "duration": 10,
    "start_time": "2022-10-14T11:43:10.578Z"
   },
   {
    "duration": 1609,
    "start_time": "2022-10-16T16:02:15.031Z"
   },
   {
    "duration": 16,
    "start_time": "2022-10-16T16:02:16.642Z"
   },
   {
    "duration": 57,
    "start_time": "2022-10-16T16:02:16.661Z"
   },
   {
    "duration": 80,
    "start_time": "2022-10-16T16:02:16.720Z"
   },
   {
    "duration": 2106,
    "start_time": "2022-10-16T16:02:16.803Z"
   },
   {
    "duration": 9,
    "start_time": "2022-10-16T16:02:18.910Z"
   },
   {
    "duration": 7,
    "start_time": "2022-10-16T16:02:18.920Z"
   },
   {
    "duration": 12,
    "start_time": "2022-10-16T16:02:18.929Z"
   },
   {
    "duration": 11,
    "start_time": "2022-10-16T16:02:18.943Z"
   },
   {
    "duration": 3,
    "start_time": "2022-10-16T16:02:18.986Z"
   },
   {
    "duration": 13,
    "start_time": "2022-10-16T16:02:18.991Z"
   },
   {
    "duration": 7,
    "start_time": "2022-10-16T16:02:19.006Z"
   },
   {
    "duration": 27,
    "start_time": "2022-10-16T16:02:19.015Z"
   },
   {
    "duration": 6,
    "start_time": "2022-10-16T16:02:19.044Z"
   },
   {
    "duration": 13,
    "start_time": "2022-10-16T16:02:19.052Z"
   },
   {
    "duration": 24,
    "start_time": "2022-10-16T16:02:19.066Z"
   },
   {
    "duration": 252,
    "start_time": "2022-10-16T16:02:19.091Z"
   },
   {
    "duration": 6,
    "start_time": "2022-10-16T16:02:19.345Z"
   },
   {
    "duration": 11,
    "start_time": "2022-10-16T16:02:19.352Z"
   },
   {
    "duration": 15,
    "start_time": "2022-10-16T16:02:19.365Z"
   },
   {
    "duration": 87,
    "start_time": "2022-10-16T16:02:19.385Z"
   },
   {
    "duration": 7,
    "start_time": "2022-10-16T16:02:19.484Z"
   },
   {
    "duration": 10,
    "start_time": "2022-10-16T16:02:19.492Z"
   },
   {
    "duration": 4,
    "start_time": "2022-10-16T16:02:19.503Z"
   },
   {
    "duration": 12,
    "start_time": "2022-10-16T16:02:19.508Z"
   },
   {
    "duration": 363,
    "start_time": "2022-10-16T16:02:19.522Z"
   },
   {
    "duration": 8,
    "start_time": "2022-10-16T16:02:19.886Z"
   },
   {
    "duration": 5,
    "start_time": "2022-10-16T16:02:19.901Z"
   },
   {
    "duration": 41,
    "start_time": "2022-10-16T16:02:19.909Z"
   },
   {
    "duration": 14,
    "start_time": "2022-10-16T16:02:19.952Z"
   },
   {
    "duration": 18,
    "start_time": "2022-10-16T16:02:19.968Z"
   },
   {
    "duration": 29,
    "start_time": "2022-10-16T16:02:19.988Z"
   },
   {
    "duration": 5,
    "start_time": "2022-10-16T16:02:20.018Z"
   },
   {
    "duration": 11,
    "start_time": "2022-10-16T16:02:20.025Z"
   },
   {
    "duration": 12,
    "start_time": "2022-10-16T16:02:20.039Z"
   },
   {
    "duration": 10,
    "start_time": "2022-10-16T16:02:20.053Z"
   },
   {
    "duration": 32,
    "start_time": "2022-10-16T16:02:20.065Z"
   },
   {
    "duration": 248,
    "start_time": "2022-10-16T16:02:20.100Z"
   },
   {
    "duration": 8,
    "start_time": "2022-10-16T16:02:20.349Z"
   },
   {
    "duration": 172,
    "start_time": "2022-10-16T16:02:20.359Z"
   },
   {
    "duration": 11,
    "start_time": "2022-10-16T16:02:20.533Z"
   },
   {
    "duration": 261,
    "start_time": "2022-10-16T16:02:20.545Z"
   },
   {
    "duration": 9,
    "start_time": "2022-10-16T16:02:20.808Z"
   },
   {
    "duration": 168,
    "start_time": "2022-10-16T16:02:20.818Z"
   },
   {
    "duration": 10,
    "start_time": "2022-10-16T16:02:20.988Z"
   },
   {
    "duration": 216,
    "start_time": "2022-10-16T16:02:21.001Z"
   },
   {
    "duration": 10,
    "start_time": "2022-10-16T16:02:21.219Z"
   },
   {
    "duration": 237,
    "start_time": "2022-10-16T16:02:21.232Z"
   },
   {
    "duration": 21,
    "start_time": "2022-10-16T16:02:21.471Z"
   },
   {
    "duration": 155,
    "start_time": "2022-10-16T16:02:21.494Z"
   },
   {
    "duration": 9,
    "start_time": "2022-10-16T16:02:21.651Z"
   },
   {
    "duration": 154,
    "start_time": "2022-10-16T16:02:21.662Z"
   },
   {
    "duration": 11,
    "start_time": "2022-10-16T16:02:21.819Z"
   },
   {
    "duration": 112,
    "start_time": "2022-10-16T16:02:21.833Z"
   },
   {
    "duration": 8,
    "start_time": "2022-10-16T16:02:21.946Z"
   },
   {
    "duration": 173,
    "start_time": "2022-10-16T16:02:21.955Z"
   },
   {
    "duration": 12,
    "start_time": "2022-10-16T16:02:22.129Z"
   },
   {
    "duration": 179,
    "start_time": "2022-10-16T16:02:22.143Z"
   },
   {
    "duration": 14,
    "start_time": "2022-10-16T16:02:22.323Z"
   },
   {
    "duration": 126,
    "start_time": "2022-10-16T16:02:22.338Z"
   },
   {
    "duration": 21,
    "start_time": "2022-10-16T16:02:22.466Z"
   },
   {
    "duration": 158,
    "start_time": "2022-10-16T16:02:22.488Z"
   },
   {
    "duration": 12,
    "start_time": "2022-10-16T16:02:22.647Z"
   },
   {
    "duration": 134,
    "start_time": "2022-10-16T16:02:22.660Z"
   },
   {
    "duration": 9,
    "start_time": "2022-10-16T16:02:22.795Z"
   },
   {
    "duration": 146,
    "start_time": "2022-10-16T16:02:22.806Z"
   },
   {
    "duration": 8,
    "start_time": "2022-10-16T16:02:22.954Z"
   },
   {
    "duration": 152,
    "start_time": "2022-10-16T16:02:22.964Z"
   },
   {
    "duration": 229,
    "start_time": "2022-10-16T16:02:23.118Z"
   },
   {
    "duration": 9,
    "start_time": "2022-10-16T16:02:23.348Z"
   },
   {
    "duration": 6,
    "start_time": "2022-10-16T16:02:23.359Z"
   },
   {
    "duration": 20,
    "start_time": "2022-10-16T16:02:23.366Z"
   },
   {
    "duration": 152,
    "start_time": "2022-10-16T16:02:23.388Z"
   },
   {
    "duration": 8,
    "start_time": "2022-10-16T16:02:23.542Z"
   },
   {
    "duration": 188,
    "start_time": "2022-10-16T16:02:23.552Z"
   },
   {
    "duration": 8,
    "start_time": "2022-10-16T16:02:23.742Z"
   },
   {
    "duration": 190,
    "start_time": "2022-10-16T16:02:23.751Z"
   },
   {
    "duration": 8,
    "start_time": "2022-10-16T16:02:23.942Z"
   },
   {
    "duration": 17,
    "start_time": "2022-10-16T16:02:23.951Z"
   },
   {
    "duration": 143,
    "start_time": "2022-10-16T16:02:23.969Z"
   },
   {
    "duration": 10,
    "start_time": "2022-10-16T16:02:24.113Z"
   },
   {
    "duration": 146,
    "start_time": "2022-10-16T16:02:24.128Z"
   },
   {
    "duration": 19,
    "start_time": "2022-10-16T16:02:24.275Z"
   },
   {
    "duration": 17,
    "start_time": "2022-10-16T16:02:24.295Z"
   },
   {
    "duration": 9,
    "start_time": "2022-10-16T16:02:24.314Z"
   },
   {
    "duration": 13,
    "start_time": "2022-10-16T16:02:24.324Z"
   },
   {
    "duration": 10,
    "start_time": "2022-10-16T16:02:24.338Z"
   },
   {
    "duration": 179,
    "start_time": "2022-10-16T16:02:24.350Z"
   },
   {
    "duration": 10,
    "start_time": "2022-10-16T16:02:24.531Z"
   },
   {
    "duration": 149,
    "start_time": "2022-10-16T16:02:24.542Z"
   },
   {
    "duration": 10,
    "start_time": "2022-10-16T16:02:24.692Z"
   },
   {
    "duration": 150,
    "start_time": "2022-10-16T16:02:24.704Z"
   },
   {
    "duration": 9,
    "start_time": "2022-10-16T16:02:24.856Z"
   },
   {
    "duration": 127,
    "start_time": "2022-10-16T16:02:24.867Z"
   },
   {
    "duration": 23,
    "start_time": "2022-10-16T16:02:24.996Z"
   },
   {
    "duration": 8,
    "start_time": "2022-10-16T16:02:25.021Z"
   },
   {
    "duration": 26,
    "start_time": "2022-10-16T16:02:25.030Z"
   },
   {
    "duration": 45,
    "start_time": "2022-10-16T16:02:25.057Z"
   },
   {
    "duration": 223,
    "start_time": "2022-10-16T16:02:25.103Z"
   },
   {
    "duration": 8,
    "start_time": "2022-10-16T16:02:25.328Z"
   },
   {
    "duration": 222,
    "start_time": "2022-10-16T16:02:25.338Z"
   },
   {
    "duration": 9,
    "start_time": "2022-10-16T16:02:25.562Z"
   },
   {
    "duration": 1390,
    "start_time": "2022-10-16T16:03:58.019Z"
   },
   {
    "duration": 15,
    "start_time": "2022-10-16T16:03:59.410Z"
   },
   {
    "duration": 29,
    "start_time": "2022-10-16T16:03:59.426Z"
   },
   {
    "duration": 89,
    "start_time": "2022-10-16T16:03:59.456Z"
   },
   {
    "duration": 2021,
    "start_time": "2022-10-16T16:03:59.547Z"
   },
   {
    "duration": 17,
    "start_time": "2022-10-16T16:04:01.570Z"
   },
   {
    "duration": 7,
    "start_time": "2022-10-16T16:04:01.589Z"
   },
   {
    "duration": 15,
    "start_time": "2022-10-16T16:04:01.598Z"
   },
   {
    "duration": 17,
    "start_time": "2022-10-16T16:04:01.615Z"
   },
   {
    "duration": 2,
    "start_time": "2022-10-16T16:04:01.636Z"
   },
   {
    "duration": 12,
    "start_time": "2022-10-16T16:04:01.640Z"
   },
   {
    "duration": 5,
    "start_time": "2022-10-16T16:04:01.654Z"
   },
   {
    "duration": 37,
    "start_time": "2022-10-16T16:04:01.661Z"
   },
   {
    "duration": 12,
    "start_time": "2022-10-16T16:04:01.700Z"
   },
   {
    "duration": 24,
    "start_time": "2022-10-16T16:04:01.713Z"
   },
   {
    "duration": 17,
    "start_time": "2022-10-16T16:04:01.739Z"
   },
   {
    "duration": 263,
    "start_time": "2022-10-16T16:04:01.758Z"
   },
   {
    "duration": 5,
    "start_time": "2022-10-16T16:04:02.023Z"
   },
   {
    "duration": 49,
    "start_time": "2022-10-16T16:04:02.030Z"
   },
   {
    "duration": 36,
    "start_time": "2022-10-16T16:04:02.081Z"
   },
   {
    "duration": 113,
    "start_time": "2022-10-16T16:04:02.119Z"
   },
   {
    "duration": 4,
    "start_time": "2022-10-16T16:04:02.234Z"
   },
   {
    "duration": 22,
    "start_time": "2022-10-16T16:04:02.240Z"
   },
   {
    "duration": 19,
    "start_time": "2022-10-16T16:04:02.264Z"
   },
   {
    "duration": 27,
    "start_time": "2022-10-16T16:04:02.285Z"
   },
   {
    "duration": 37,
    "start_time": "2022-10-16T16:04:02.313Z"
   },
   {
    "duration": 35,
    "start_time": "2022-10-16T16:04:02.352Z"
   },
   {
    "duration": 310,
    "start_time": "2022-10-16T16:04:02.391Z"
   },
   {
    "duration": 8,
    "start_time": "2022-10-16T16:04:02.702Z"
   },
   {
    "duration": 5,
    "start_time": "2022-10-16T16:04:02.712Z"
   },
   {
    "duration": 30,
    "start_time": "2022-10-16T16:04:02.719Z"
   },
   {
    "duration": 34,
    "start_time": "2022-10-16T16:04:02.751Z"
   },
   {
    "duration": 8,
    "start_time": "2022-10-16T16:04:02.787Z"
   },
   {
    "duration": 8,
    "start_time": "2022-10-16T16:04:02.796Z"
   },
   {
    "duration": 9,
    "start_time": "2022-10-16T16:04:02.806Z"
   },
   {
    "duration": 14,
    "start_time": "2022-10-16T16:04:02.816Z"
   },
   {
    "duration": 6,
    "start_time": "2022-10-16T16:04:02.831Z"
   },
   {
    "duration": 8,
    "start_time": "2022-10-16T16:04:02.839Z"
   },
   {
    "duration": 40,
    "start_time": "2022-10-16T16:04:02.848Z"
   },
   {
    "duration": 179,
    "start_time": "2022-10-16T16:04:02.889Z"
   },
   {
    "duration": 17,
    "start_time": "2022-10-16T16:04:03.069Z"
   },
   {
    "duration": 158,
    "start_time": "2022-10-16T16:04:03.087Z"
   },
   {
    "duration": 9,
    "start_time": "2022-10-16T16:04:03.246Z"
   },
   {
    "duration": 238,
    "start_time": "2022-10-16T16:04:03.257Z"
   },
   {
    "duration": 8,
    "start_time": "2022-10-16T16:04:03.496Z"
   },
   {
    "duration": 163,
    "start_time": "2022-10-16T16:04:03.506Z"
   },
   {
    "duration": 16,
    "start_time": "2022-10-16T16:04:03.670Z"
   },
   {
    "duration": 158,
    "start_time": "2022-10-16T16:04:03.688Z"
   },
   {
    "duration": 9,
    "start_time": "2022-10-16T16:04:03.847Z"
   },
   {
    "duration": 130,
    "start_time": "2022-10-16T16:04:03.857Z"
   },
   {
    "duration": 9,
    "start_time": "2022-10-16T16:04:03.988Z"
   },
   {
    "duration": 139,
    "start_time": "2022-10-16T16:04:03.998Z"
   },
   {
    "duration": 8,
    "start_time": "2022-10-16T16:04:04.138Z"
   },
   {
    "duration": 144,
    "start_time": "2022-10-16T16:04:04.148Z"
   },
   {
    "duration": 8,
    "start_time": "2022-10-16T16:04:04.293Z"
   },
   {
    "duration": 120,
    "start_time": "2022-10-16T16:04:04.302Z"
   },
   {
    "duration": 9,
    "start_time": "2022-10-16T16:04:04.424Z"
   },
   {
    "duration": 134,
    "start_time": "2022-10-16T16:04:04.435Z"
   },
   {
    "duration": 19,
    "start_time": "2022-10-16T16:04:04.571Z"
   },
   {
    "duration": 173,
    "start_time": "2022-10-16T16:04:04.592Z"
   },
   {
    "duration": 26,
    "start_time": "2022-10-16T16:04:04.767Z"
   },
   {
    "duration": 133,
    "start_time": "2022-10-16T16:04:04.795Z"
   },
   {
    "duration": 13,
    "start_time": "2022-10-16T16:04:04.929Z"
   },
   {
    "duration": 156,
    "start_time": "2022-10-16T16:04:04.943Z"
   },
   {
    "duration": 10,
    "start_time": "2022-10-16T16:04:05.101Z"
   },
   {
    "duration": 137,
    "start_time": "2022-10-16T16:04:05.112Z"
   },
   {
    "duration": 9,
    "start_time": "2022-10-16T16:04:05.250Z"
   },
   {
    "duration": 151,
    "start_time": "2022-10-16T16:04:05.261Z"
   },
   {
    "duration": 8,
    "start_time": "2022-10-16T16:04:05.414Z"
   },
   {
    "duration": 174,
    "start_time": "2022-10-16T16:04:05.423Z"
   },
   {
    "duration": 226,
    "start_time": "2022-10-16T16:04:05.598Z"
   },
   {
    "duration": 9,
    "start_time": "2022-10-16T16:04:05.827Z"
   },
   {
    "duration": 7,
    "start_time": "2022-10-16T16:04:05.838Z"
   },
   {
    "duration": 7,
    "start_time": "2022-10-16T16:04:05.848Z"
   },
   {
    "duration": 191,
    "start_time": "2022-10-16T16:04:05.857Z"
   },
   {
    "duration": 7,
    "start_time": "2022-10-16T16:04:06.050Z"
   },
   {
    "duration": 167,
    "start_time": "2022-10-16T16:04:06.058Z"
   },
   {
    "duration": 9,
    "start_time": "2022-10-16T16:04:06.226Z"
   },
   {
    "duration": 174,
    "start_time": "2022-10-16T16:04:06.237Z"
   },
   {
    "duration": 11,
    "start_time": "2022-10-16T16:04:06.413Z"
   },
   {
    "duration": 11,
    "start_time": "2022-10-16T16:04:06.426Z"
   },
   {
    "duration": 153,
    "start_time": "2022-10-16T16:04:06.444Z"
   },
   {
    "duration": 10,
    "start_time": "2022-10-16T16:04:06.598Z"
   },
   {
    "duration": 136,
    "start_time": "2022-10-16T16:04:06.610Z"
   },
   {
    "duration": 13,
    "start_time": "2022-10-16T16:04:06.747Z"
   },
   {
    "duration": 30,
    "start_time": "2022-10-16T16:04:06.762Z"
   },
   {
    "duration": 10,
    "start_time": "2022-10-16T16:04:06.794Z"
   },
   {
    "duration": 11,
    "start_time": "2022-10-16T16:04:06.807Z"
   },
   {
    "duration": 14,
    "start_time": "2022-10-16T16:04:06.820Z"
   },
   {
    "duration": 181,
    "start_time": "2022-10-16T16:04:06.836Z"
   },
   {
    "duration": 14,
    "start_time": "2022-10-16T16:04:07.019Z"
   },
   {
    "duration": 191,
    "start_time": "2022-10-16T16:04:07.035Z"
   },
   {
    "duration": 12,
    "start_time": "2022-10-16T16:04:07.228Z"
   },
   {
    "duration": 152,
    "start_time": "2022-10-16T16:04:07.241Z"
   },
   {
    "duration": 10,
    "start_time": "2022-10-16T16:04:07.395Z"
   },
   {
    "duration": 143,
    "start_time": "2022-10-16T16:04:07.407Z"
   },
   {
    "duration": 23,
    "start_time": "2022-10-16T16:04:07.552Z"
   },
   {
    "duration": 8,
    "start_time": "2022-10-16T16:04:07.585Z"
   },
   {
    "duration": 11,
    "start_time": "2022-10-16T16:04:07.595Z"
   },
   {
    "duration": 31,
    "start_time": "2022-10-16T16:04:07.607Z"
   },
   {
    "duration": 237,
    "start_time": "2022-10-16T16:04:07.639Z"
   },
   {
    "duration": 8,
    "start_time": "2022-10-16T16:04:07.884Z"
   },
   {
    "duration": 213,
    "start_time": "2022-10-16T16:04:07.894Z"
   },
   {
    "duration": 8,
    "start_time": "2022-10-16T16:04:08.109Z"
   }
  ],
  "colab": {
   "collapsed_sections": [],
   "provenance": []
  },
  "kernelspec": {
   "display_name": "Python 3 (ipykernel)",
   "language": "python",
   "name": "python3"
  },
  "language_info": {
   "codemirror_mode": {
    "name": "ipython",
    "version": 3
   },
   "file_extension": ".py",
   "mimetype": "text/x-python",
   "name": "python",
   "nbconvert_exporter": "python",
   "pygments_lexer": "ipython3",
   "version": "3.9.5"
  },
  "toc": {
   "base_numbering": 1,
   "nav_menu": {},
   "number_sections": true,
   "sideBar": true,
   "skip_h1_title": true,
   "title_cell": "Table of Contents",
   "title_sidebar": "Contents",
   "toc_cell": false,
   "toc_position": {},
   "toc_section_display": true,
   "toc_window_display": false
  }
 },
 "nbformat": 4,
 "nbformat_minor": 1
}
