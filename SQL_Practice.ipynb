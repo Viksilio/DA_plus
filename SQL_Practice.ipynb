{
  "cells": [
    {
      "cell_type": "markdown",
      "metadata": {
        "id": "view-in-github",
        "colab_type": "text"
      },
      "source": [
        "<a href=\"https://colab.research.google.com/github/Viksilio/DA_plus/blob/master/SQL_Practice.ipynb\" target=\"_parent\"><img src=\"https://colab.research.google.com/assets/colab-badge.svg\" alt=\"Open In Colab\"/></a>"
      ]
    },
    {
      "cell_type": "code",
      "execution_count": null,
      "metadata": {
        "id": "nlZBlglMDWKe"
      },
      "outputs": [],
      "source": [
        "import pandas as pd\n",
        "import matplotlib.pyplot as plt\n",
        "from sqlalchemy import create_engine \n",
        "import seaborn as sns\n",
        "from matplotlib import pyplot as plt\n",
        "import plotly.graph_objects as go"
      ]
    },
    {
      "cell_type": "markdown",
      "metadata": {
        "id": "XnOE3n28DWKg"
      },
      "source": [
        "### Конфигурация для подключения к базе данных `data-analyst-advanced-sql`\n",
        "Эта база данных содержит схему `stackoverflow`, с которой вы будете работать в проекте"
      ]
    },
    {
      "cell_type": "code",
      "execution_count": null,
      "metadata": {
        "id": "6p-yGp7qDWKg"
      },
      "outputs": [],
      "source": [
        "db_config = {\n",
        "    'user': 'praktikum_student', # имя пользователя\n",
        "    'pwd': 'Sdf4$2;d-d30pp', # пароль\n",
        "    'host': 'rc1b-wcoijxj3yxfsf3fs.mdb.yandexcloud.net',\n",
        "    'port': 6432, # порт подключения\n",
        "    'db': 'data-analyst-advanced-sql' # название базы данных\n",
        "}  \n",
        "\n",
        "connection_string = 'postgresql://{}:{}@{}:{}/{}'.format(\n",
        "    db_config['user'],\n",
        "    db_config['pwd'],\n",
        "    db_config['host'],\n",
        "    db_config['port'],\n",
        "    db_config['db'],\n",
        ")"
      ]
    },
    {
      "cell_type": "markdown",
      "metadata": {
        "id": "2Rg8ZpS0DWKh"
      },
      "source": [
        "Создание подключения"
      ]
    },
    {
      "cell_type": "code",
      "execution_count": null,
      "metadata": {
        "id": "DamCUTR6DWKi"
      },
      "outputs": [],
      "source": [
        "engine = create_engine(connection_string) "
      ]
    },
    {
      "cell_type": "markdown",
      "metadata": {
        "id": "bel8XeSlDWKj"
      },
      "source": [
        "Пример запроса к базе данных\n",
        "\n",
        "`sample_df` является pandas-датафреймом."
      ]
    },
    {
      "cell_type": "code",
      "execution_count": null,
      "metadata": {
        "id": "6Z_fw0yLDWKk"
      },
      "outputs": [],
      "source": [
        "query = '''\n",
        "SELECT *\n",
        "FROM stackoverflow.users\n",
        "LIMIT 10;\n",
        "'''\n",
        "\n",
        "sample_df = pd.read_sql_query(query, con=engine) "
      ]
    },
    {
      "cell_type": "code",
      "execution_count": null,
      "metadata": {
        "id": "ZpuZ290oDWKk",
        "outputId": "e92cbd86-8deb-4a90-e136-33b14d49625c",
        "colab": {
          "base_uri": "https://localhost:8080/",
          "height": 363
        }
      },
      "outputs": [
        {
          "output_type": "execute_result",
          "data": {
            "text/plain": [
              "   id       creation_date        display_name    last_access_date  \\\n",
              "0   1 2008-07-31 14:22:31         Jeff Atwood 2018-08-29 02:34:23   \n",
              "1   2 2008-07-31 14:22:31        Geoff Dalgas 2018-08-23 17:31:56   \n",
              "2   3 2008-07-31 14:22:31        Jarrod Dixon 2018-08-30 20:56:24   \n",
              "3   4 2008-07-31 14:22:31        Joel Spolsky 2018-08-14 22:18:15   \n",
              "4   5 2008-07-31 14:22:31        Jon Galloway 2018-08-29 16:48:36   \n",
              "5   8 2008-07-31 21:33:24        Eggs McLaren 2018-04-09 02:04:56   \n",
              "6   9 2008-07-31 21:35:27         Kevin Dente 2018-08-30 18:18:03   \n",
              "7  11 2008-08-01 00:59:11      Anonymous User 2008-08-01 00:59:11   \n",
              "8  13 2008-08-01 04:18:05  Chris Jester-Young 2018-08-30 02:47:23   \n",
              "9  17 2008-08-01 12:02:22        Nick Berardi 2018-01-22 01:35:38   \n",
              "\n",
              "                     location  reputation   views  \n",
              "0              El Cerrito, CA       44300  408587  \n",
              "1               Corvallis, OR        3491   23966  \n",
              "2  Raleigh, NC, United States       13418   24396  \n",
              "3                New York, NY       28768   73755  \n",
              "4               San Diego, CA       39172   11700  \n",
              "5                        None         942    6372  \n",
              "6                 Oakland, CA       14337    4949  \n",
              "7                        None        1890    2123  \n",
              "8  Raleigh, NC, United States      177138   35414  \n",
              "9                Issaquah, WA       44443    4786  "
            ],
            "text/html": [
              "\n",
              "  <div id=\"df-b5fd7132-72f7-4a80-a28f-ed06ec1d537f\">\n",
              "    <div class=\"colab-df-container\">\n",
              "      <div>\n",
              "<style scoped>\n",
              "    .dataframe tbody tr th:only-of-type {\n",
              "        vertical-align: middle;\n",
              "    }\n",
              "\n",
              "    .dataframe tbody tr th {\n",
              "        vertical-align: top;\n",
              "    }\n",
              "\n",
              "    .dataframe thead th {\n",
              "        text-align: right;\n",
              "    }\n",
              "</style>\n",
              "<table border=\"1\" class=\"dataframe\">\n",
              "  <thead>\n",
              "    <tr style=\"text-align: right;\">\n",
              "      <th></th>\n",
              "      <th>id</th>\n",
              "      <th>creation_date</th>\n",
              "      <th>display_name</th>\n",
              "      <th>last_access_date</th>\n",
              "      <th>location</th>\n",
              "      <th>reputation</th>\n",
              "      <th>views</th>\n",
              "    </tr>\n",
              "  </thead>\n",
              "  <tbody>\n",
              "    <tr>\n",
              "      <th>0</th>\n",
              "      <td>1</td>\n",
              "      <td>2008-07-31 14:22:31</td>\n",
              "      <td>Jeff Atwood</td>\n",
              "      <td>2018-08-29 02:34:23</td>\n",
              "      <td>El Cerrito, CA</td>\n",
              "      <td>44300</td>\n",
              "      <td>408587</td>\n",
              "    </tr>\n",
              "    <tr>\n",
              "      <th>1</th>\n",
              "      <td>2</td>\n",
              "      <td>2008-07-31 14:22:31</td>\n",
              "      <td>Geoff Dalgas</td>\n",
              "      <td>2018-08-23 17:31:56</td>\n",
              "      <td>Corvallis, OR</td>\n",
              "      <td>3491</td>\n",
              "      <td>23966</td>\n",
              "    </tr>\n",
              "    <tr>\n",
              "      <th>2</th>\n",
              "      <td>3</td>\n",
              "      <td>2008-07-31 14:22:31</td>\n",
              "      <td>Jarrod Dixon</td>\n",
              "      <td>2018-08-30 20:56:24</td>\n",
              "      <td>Raleigh, NC, United States</td>\n",
              "      <td>13418</td>\n",
              "      <td>24396</td>\n",
              "    </tr>\n",
              "    <tr>\n",
              "      <th>3</th>\n",
              "      <td>4</td>\n",
              "      <td>2008-07-31 14:22:31</td>\n",
              "      <td>Joel Spolsky</td>\n",
              "      <td>2018-08-14 22:18:15</td>\n",
              "      <td>New York, NY</td>\n",
              "      <td>28768</td>\n",
              "      <td>73755</td>\n",
              "    </tr>\n",
              "    <tr>\n",
              "      <th>4</th>\n",
              "      <td>5</td>\n",
              "      <td>2008-07-31 14:22:31</td>\n",
              "      <td>Jon Galloway</td>\n",
              "      <td>2018-08-29 16:48:36</td>\n",
              "      <td>San Diego, CA</td>\n",
              "      <td>39172</td>\n",
              "      <td>11700</td>\n",
              "    </tr>\n",
              "    <tr>\n",
              "      <th>5</th>\n",
              "      <td>8</td>\n",
              "      <td>2008-07-31 21:33:24</td>\n",
              "      <td>Eggs McLaren</td>\n",
              "      <td>2018-04-09 02:04:56</td>\n",
              "      <td>None</td>\n",
              "      <td>942</td>\n",
              "      <td>6372</td>\n",
              "    </tr>\n",
              "    <tr>\n",
              "      <th>6</th>\n",
              "      <td>9</td>\n",
              "      <td>2008-07-31 21:35:27</td>\n",
              "      <td>Kevin Dente</td>\n",
              "      <td>2018-08-30 18:18:03</td>\n",
              "      <td>Oakland, CA</td>\n",
              "      <td>14337</td>\n",
              "      <td>4949</td>\n",
              "    </tr>\n",
              "    <tr>\n",
              "      <th>7</th>\n",
              "      <td>11</td>\n",
              "      <td>2008-08-01 00:59:11</td>\n",
              "      <td>Anonymous User</td>\n",
              "      <td>2008-08-01 00:59:11</td>\n",
              "      <td>None</td>\n",
              "      <td>1890</td>\n",
              "      <td>2123</td>\n",
              "    </tr>\n",
              "    <tr>\n",
              "      <th>8</th>\n",
              "      <td>13</td>\n",
              "      <td>2008-08-01 04:18:05</td>\n",
              "      <td>Chris Jester-Young</td>\n",
              "      <td>2018-08-30 02:47:23</td>\n",
              "      <td>Raleigh, NC, United States</td>\n",
              "      <td>177138</td>\n",
              "      <td>35414</td>\n",
              "    </tr>\n",
              "    <tr>\n",
              "      <th>9</th>\n",
              "      <td>17</td>\n",
              "      <td>2008-08-01 12:02:22</td>\n",
              "      <td>Nick Berardi</td>\n",
              "      <td>2018-01-22 01:35:38</td>\n",
              "      <td>Issaquah, WA</td>\n",
              "      <td>44443</td>\n",
              "      <td>4786</td>\n",
              "    </tr>\n",
              "  </tbody>\n",
              "</table>\n",
              "</div>\n",
              "      <button class=\"colab-df-convert\" onclick=\"convertToInteractive('df-b5fd7132-72f7-4a80-a28f-ed06ec1d537f')\"\n",
              "              title=\"Convert this dataframe to an interactive table.\"\n",
              "              style=\"display:none;\">\n",
              "        \n",
              "  <svg xmlns=\"http://www.w3.org/2000/svg\" height=\"24px\"viewBox=\"0 0 24 24\"\n",
              "       width=\"24px\">\n",
              "    <path d=\"M0 0h24v24H0V0z\" fill=\"none\"/>\n",
              "    <path d=\"M18.56 5.44l.94 2.06.94-2.06 2.06-.94-2.06-.94-.94-2.06-.94 2.06-2.06.94zm-11 1L8.5 8.5l.94-2.06 2.06-.94-2.06-.94L8.5 2.5l-.94 2.06-2.06.94zm10 10l.94 2.06.94-2.06 2.06-.94-2.06-.94-.94-2.06-.94 2.06-2.06.94z\"/><path d=\"M17.41 7.96l-1.37-1.37c-.4-.4-.92-.59-1.43-.59-.52 0-1.04.2-1.43.59L10.3 9.45l-7.72 7.72c-.78.78-.78 2.05 0 2.83L4 21.41c.39.39.9.59 1.41.59.51 0 1.02-.2 1.41-.59l7.78-7.78 2.81-2.81c.8-.78.8-2.07 0-2.86zM5.41 20L4 18.59l7.72-7.72 1.47 1.35L5.41 20z\"/>\n",
              "  </svg>\n",
              "      </button>\n",
              "      \n",
              "  <style>\n",
              "    .colab-df-container {\n",
              "      display:flex;\n",
              "      flex-wrap:wrap;\n",
              "      gap: 12px;\n",
              "    }\n",
              "\n",
              "    .colab-df-convert {\n",
              "      background-color: #E8F0FE;\n",
              "      border: none;\n",
              "      border-radius: 50%;\n",
              "      cursor: pointer;\n",
              "      display: none;\n",
              "      fill: #1967D2;\n",
              "      height: 32px;\n",
              "      padding: 0 0 0 0;\n",
              "      width: 32px;\n",
              "    }\n",
              "\n",
              "    .colab-df-convert:hover {\n",
              "      background-color: #E2EBFA;\n",
              "      box-shadow: 0px 1px 2px rgba(60, 64, 67, 0.3), 0px 1px 3px 1px rgba(60, 64, 67, 0.15);\n",
              "      fill: #174EA6;\n",
              "    }\n",
              "\n",
              "    [theme=dark] .colab-df-convert {\n",
              "      background-color: #3B4455;\n",
              "      fill: #D2E3FC;\n",
              "    }\n",
              "\n",
              "    [theme=dark] .colab-df-convert:hover {\n",
              "      background-color: #434B5C;\n",
              "      box-shadow: 0px 1px 3px 1px rgba(0, 0, 0, 0.15);\n",
              "      filter: drop-shadow(0px 1px 2px rgba(0, 0, 0, 0.3));\n",
              "      fill: #FFFFFF;\n",
              "    }\n",
              "  </style>\n",
              "\n",
              "      <script>\n",
              "        const buttonEl =\n",
              "          document.querySelector('#df-b5fd7132-72f7-4a80-a28f-ed06ec1d537f button.colab-df-convert');\n",
              "        buttonEl.style.display =\n",
              "          google.colab.kernel.accessAllowed ? 'block' : 'none';\n",
              "\n",
              "        async function convertToInteractive(key) {\n",
              "          const element = document.querySelector('#df-b5fd7132-72f7-4a80-a28f-ed06ec1d537f');\n",
              "          const dataTable =\n",
              "            await google.colab.kernel.invokeFunction('convertToInteractive',\n",
              "                                                     [key], {});\n",
              "          if (!dataTable) return;\n",
              "\n",
              "          const docLinkHtml = 'Like what you see? Visit the ' +\n",
              "            '<a target=\"_blank\" href=https://colab.research.google.com/notebooks/data_table.ipynb>data table notebook</a>'\n",
              "            + ' to learn more about interactive tables.';\n",
              "          element.innerHTML = '';\n",
              "          dataTable['output_type'] = 'display_data';\n",
              "          await google.colab.output.renderOutput(dataTable, element);\n",
              "          const docLink = document.createElement('div');\n",
              "          docLink.innerHTML = docLinkHtml;\n",
              "          element.appendChild(docLink);\n",
              "        }\n",
              "      </script>\n",
              "    </div>\n",
              "  </div>\n",
              "  "
            ]
          },
          "metadata": {},
          "execution_count": 5
        }
      ],
      "source": [
        "sample_df"
      ]
    },
    {
      "cell_type": "markdown",
      "metadata": {
        "id": "gnBMXkDBDWKm"
      },
      "source": [
        "# Задание 1"
      ]
    },
    {
      "cell_type": "markdown",
      "metadata": {
        "id": "vHsfOrrNDWKn"
      },
      "source": [
        "Выведите общую сумму просмотров постов за каждый месяц 2008 года. Если данных за какой-либо месяц в базе нет, такой месяц можно пропустить. Результат отсортируйте по убыванию общего количества просмотров."
      ]
    },
    {
      "cell_type": "markdown",
      "metadata": {
        "id": "N5rTgGNmDWKn"
      },
      "source": [
        "| month_date  | total_views |\n",
        "| ------------- | ------------- |\n",
        "| 2008-09-01  | 452928568  |\n",
        "| 2008-10-01  | 365400138  |\n",
        "| ...         | ... |"
      ]
    },
    {
      "cell_type": "code",
      "execution_count": null,
      "metadata": {
        "id": "eWvykcXTDWKo",
        "colab": {
          "base_uri": "https://localhost:8080/",
          "height": 238
        },
        "outputId": "faed0970-97d2-49ba-c9a6-8e35033f0e86"
      },
      "outputs": [
        {
          "output_type": "execute_result",
          "data": {
            "text/plain": [
              "   month_date  total_views\n",
              "0  2008-09-01    452928568\n",
              "1  2008-10-01    365400138\n",
              "2  2008-11-01    221759651\n",
              "3  2008-12-01    197792841\n",
              "4  2008-08-01    131367083\n",
              "5  2008-07-01       669895"
            ],
            "text/html": [
              "\n",
              "  <div id=\"df-22742581-7c63-4071-8014-98974dc4b5fd\">\n",
              "    <div class=\"colab-df-container\">\n",
              "      <div>\n",
              "<style scoped>\n",
              "    .dataframe tbody tr th:only-of-type {\n",
              "        vertical-align: middle;\n",
              "    }\n",
              "\n",
              "    .dataframe tbody tr th {\n",
              "        vertical-align: top;\n",
              "    }\n",
              "\n",
              "    .dataframe thead th {\n",
              "        text-align: right;\n",
              "    }\n",
              "</style>\n",
              "<table border=\"1\" class=\"dataframe\">\n",
              "  <thead>\n",
              "    <tr style=\"text-align: right;\">\n",
              "      <th></th>\n",
              "      <th>month_date</th>\n",
              "      <th>total_views</th>\n",
              "    </tr>\n",
              "  </thead>\n",
              "  <tbody>\n",
              "    <tr>\n",
              "      <th>0</th>\n",
              "      <td>2008-09-01</td>\n",
              "      <td>452928568</td>\n",
              "    </tr>\n",
              "    <tr>\n",
              "      <th>1</th>\n",
              "      <td>2008-10-01</td>\n",
              "      <td>365400138</td>\n",
              "    </tr>\n",
              "    <tr>\n",
              "      <th>2</th>\n",
              "      <td>2008-11-01</td>\n",
              "      <td>221759651</td>\n",
              "    </tr>\n",
              "    <tr>\n",
              "      <th>3</th>\n",
              "      <td>2008-12-01</td>\n",
              "      <td>197792841</td>\n",
              "    </tr>\n",
              "    <tr>\n",
              "      <th>4</th>\n",
              "      <td>2008-08-01</td>\n",
              "      <td>131367083</td>\n",
              "    </tr>\n",
              "    <tr>\n",
              "      <th>5</th>\n",
              "      <td>2008-07-01</td>\n",
              "      <td>669895</td>\n",
              "    </tr>\n",
              "  </tbody>\n",
              "</table>\n",
              "</div>\n",
              "      <button class=\"colab-df-convert\" onclick=\"convertToInteractive('df-22742581-7c63-4071-8014-98974dc4b5fd')\"\n",
              "              title=\"Convert this dataframe to an interactive table.\"\n",
              "              style=\"display:none;\">\n",
              "        \n",
              "  <svg xmlns=\"http://www.w3.org/2000/svg\" height=\"24px\"viewBox=\"0 0 24 24\"\n",
              "       width=\"24px\">\n",
              "    <path d=\"M0 0h24v24H0V0z\" fill=\"none\"/>\n",
              "    <path d=\"M18.56 5.44l.94 2.06.94-2.06 2.06-.94-2.06-.94-.94-2.06-.94 2.06-2.06.94zm-11 1L8.5 8.5l.94-2.06 2.06-.94-2.06-.94L8.5 2.5l-.94 2.06-2.06.94zm10 10l.94 2.06.94-2.06 2.06-.94-2.06-.94-.94-2.06-.94 2.06-2.06.94z\"/><path d=\"M17.41 7.96l-1.37-1.37c-.4-.4-.92-.59-1.43-.59-.52 0-1.04.2-1.43.59L10.3 9.45l-7.72 7.72c-.78.78-.78 2.05 0 2.83L4 21.41c.39.39.9.59 1.41.59.51 0 1.02-.2 1.41-.59l7.78-7.78 2.81-2.81c.8-.78.8-2.07 0-2.86zM5.41 20L4 18.59l7.72-7.72 1.47 1.35L5.41 20z\"/>\n",
              "  </svg>\n",
              "      </button>\n",
              "      \n",
              "  <style>\n",
              "    .colab-df-container {\n",
              "      display:flex;\n",
              "      flex-wrap:wrap;\n",
              "      gap: 12px;\n",
              "    }\n",
              "\n",
              "    .colab-df-convert {\n",
              "      background-color: #E8F0FE;\n",
              "      border: none;\n",
              "      border-radius: 50%;\n",
              "      cursor: pointer;\n",
              "      display: none;\n",
              "      fill: #1967D2;\n",
              "      height: 32px;\n",
              "      padding: 0 0 0 0;\n",
              "      width: 32px;\n",
              "    }\n",
              "\n",
              "    .colab-df-convert:hover {\n",
              "      background-color: #E2EBFA;\n",
              "      box-shadow: 0px 1px 2px rgba(60, 64, 67, 0.3), 0px 1px 3px 1px rgba(60, 64, 67, 0.15);\n",
              "      fill: #174EA6;\n",
              "    }\n",
              "\n",
              "    [theme=dark] .colab-df-convert {\n",
              "      background-color: #3B4455;\n",
              "      fill: #D2E3FC;\n",
              "    }\n",
              "\n",
              "    [theme=dark] .colab-df-convert:hover {\n",
              "      background-color: #434B5C;\n",
              "      box-shadow: 0px 1px 3px 1px rgba(0, 0, 0, 0.15);\n",
              "      filter: drop-shadow(0px 1px 2px rgba(0, 0, 0, 0.3));\n",
              "      fill: #FFFFFF;\n",
              "    }\n",
              "  </style>\n",
              "\n",
              "      <script>\n",
              "        const buttonEl =\n",
              "          document.querySelector('#df-22742581-7c63-4071-8014-98974dc4b5fd button.colab-df-convert');\n",
              "        buttonEl.style.display =\n",
              "          google.colab.kernel.accessAllowed ? 'block' : 'none';\n",
              "\n",
              "        async function convertToInteractive(key) {\n",
              "          const element = document.querySelector('#df-22742581-7c63-4071-8014-98974dc4b5fd');\n",
              "          const dataTable =\n",
              "            await google.colab.kernel.invokeFunction('convertToInteractive',\n",
              "                                                     [key], {});\n",
              "          if (!dataTable) return;\n",
              "\n",
              "          const docLinkHtml = 'Like what you see? Visit the ' +\n",
              "            '<a target=\"_blank\" href=https://colab.research.google.com/notebooks/data_table.ipynb>data table notebook</a>'\n",
              "            + ' to learn more about interactive tables.';\n",
              "          element.innerHTML = '';\n",
              "          dataTable['output_type'] = 'display_data';\n",
              "          await google.colab.output.renderOutput(dataTable, element);\n",
              "          const docLink = document.createElement('div');\n",
              "          docLink.innerHTML = docLinkHtml;\n",
              "          element.appendChild(docLink);\n",
              "        }\n",
              "      </script>\n",
              "    </div>\n",
              "  </div>\n",
              "  "
            ]
          },
          "metadata": {},
          "execution_count": 6
        }
      ],
      "source": [
        "# напишите запрос\n",
        "query = '''\n",
        "SELECT DATE_TRUNC('MONTH', creation_date::date) :: date AS month_date,\n",
        "       SUM(views_count) AS total_views\n",
        "       \n",
        "FROM stackoverflow.posts\n",
        "WHERE DATE_TRUNC('YEAR', creation_date::date) = '2008-01-01'\n",
        "GROUP BY DATE_TRUNC('MONTH', creation_date::date) :: date\n",
        "ORDER BY 2 DESC\n",
        "'''\n",
        "\n",
        "# выполните запрос\n",
        "sum_views_2008 = pd.read_sql_query(query, con=engine) \n",
        "sum_views_2008"
      ]
    },
    {
      "cell_type": "markdown",
      "metadata": {
        "id": "I_ZvhOxkDWKp"
      },
      "source": [
        "Проанализируйте итоговую таблицу. Отличаются ли данные за разные месяцы? С чем могут быть связаны отличия?"
      ]
    },
    {
      "cell_type": "markdown",
      "metadata": {
        "id": "luxSj17oDWKq"
      },
      "source": [
        "В сентябре месяца виден значимый рост просмотров постов, который постепенно снижается вплоть до декабря месяца.  \n",
        "Наименьшее количество просмотров постов было в июле месяце.  \n",
        "Можно предположить, что в сентябре месяце был написан очень популярный пост, который привел к росту просмотров"
      ]
    },
    {
      "cell_type": "markdown",
      "metadata": {
        "id": "FziIXkn5DWKr"
      },
      "source": [
        "# Задание 2"
      ]
    },
    {
      "cell_type": "markdown",
      "metadata": {
        "id": "fTGESZvYDWKr"
      },
      "source": [
        "Выведите имена самых активных пользователей, которые в первый месяц после регистрации (включая день регистрации) дали больше 100 ответов. Вопросы, которые задавали пользователи, не учитывайте. Для каждого имени пользователя выведите количество уникальных значений `user_id`. Отсортируйте результат по полю с именами в лексикографическом порядке."
      ]
    },
    {
      "cell_type": "markdown",
      "metadata": {
        "id": "W5-tv6Y3DWKs"
      },
      "source": [
        "| display_name | count |\n",
        "| ------------ | ----- |\n",
        "| 1800 INFORMATION | 1 |\n",
        "| Adam Bellaire | 1 |\n",
        "| Adam Davis | 1 |\n",
        "| ... | ... |"
      ]
    },
    {
      "cell_type": "code",
      "execution_count": null,
      "metadata": {
        "id": "fIO-y-YjDWKt",
        "colab": {
          "base_uri": "https://localhost:8080/",
          "height": 424
        },
        "outputId": "587dfb8a-bdf7-4d60-eb2f-027f05264111"
      },
      "outputs": [
        {
          "output_type": "execute_result",
          "data": {
            "text/plain": [
              "        display_name  active_users\n",
              "0   1800 INFORMATION             1\n",
              "1      Adam Bellaire             1\n",
              "2         Adam Davis             1\n",
              "3          Adam Liss             1\n",
              "4               Alan             8\n",
              "..               ...           ...\n",
              "74            lomaxx             1\n",
              "75          mattlant             1\n",
              "76         paxdiablo             1\n",
              "77        tvanfosson             1\n",
              "78              tzot             1\n",
              "\n",
              "[79 rows x 2 columns]"
            ],
            "text/html": [
              "\n",
              "  <div id=\"df-418b6407-bd07-48e6-b6d4-3bdbae418296\">\n",
              "    <div class=\"colab-df-container\">\n",
              "      <div>\n",
              "<style scoped>\n",
              "    .dataframe tbody tr th:only-of-type {\n",
              "        vertical-align: middle;\n",
              "    }\n",
              "\n",
              "    .dataframe tbody tr th {\n",
              "        vertical-align: top;\n",
              "    }\n",
              "\n",
              "    .dataframe thead th {\n",
              "        text-align: right;\n",
              "    }\n",
              "</style>\n",
              "<table border=\"1\" class=\"dataframe\">\n",
              "  <thead>\n",
              "    <tr style=\"text-align: right;\">\n",
              "      <th></th>\n",
              "      <th>display_name</th>\n",
              "      <th>active_users</th>\n",
              "    </tr>\n",
              "  </thead>\n",
              "  <tbody>\n",
              "    <tr>\n",
              "      <th>0</th>\n",
              "      <td>1800 INFORMATION</td>\n",
              "      <td>1</td>\n",
              "    </tr>\n",
              "    <tr>\n",
              "      <th>1</th>\n",
              "      <td>Adam Bellaire</td>\n",
              "      <td>1</td>\n",
              "    </tr>\n",
              "    <tr>\n",
              "      <th>2</th>\n",
              "      <td>Adam Davis</td>\n",
              "      <td>1</td>\n",
              "    </tr>\n",
              "    <tr>\n",
              "      <th>3</th>\n",
              "      <td>Adam Liss</td>\n",
              "      <td>1</td>\n",
              "    </tr>\n",
              "    <tr>\n",
              "      <th>4</th>\n",
              "      <td>Alan</td>\n",
              "      <td>8</td>\n",
              "    </tr>\n",
              "    <tr>\n",
              "      <th>...</th>\n",
              "      <td>...</td>\n",
              "      <td>...</td>\n",
              "    </tr>\n",
              "    <tr>\n",
              "      <th>74</th>\n",
              "      <td>lomaxx</td>\n",
              "      <td>1</td>\n",
              "    </tr>\n",
              "    <tr>\n",
              "      <th>75</th>\n",
              "      <td>mattlant</td>\n",
              "      <td>1</td>\n",
              "    </tr>\n",
              "    <tr>\n",
              "      <th>76</th>\n",
              "      <td>paxdiablo</td>\n",
              "      <td>1</td>\n",
              "    </tr>\n",
              "    <tr>\n",
              "      <th>77</th>\n",
              "      <td>tvanfosson</td>\n",
              "      <td>1</td>\n",
              "    </tr>\n",
              "    <tr>\n",
              "      <th>78</th>\n",
              "      <td>tzot</td>\n",
              "      <td>1</td>\n",
              "    </tr>\n",
              "  </tbody>\n",
              "</table>\n",
              "<p>79 rows × 2 columns</p>\n",
              "</div>\n",
              "      <button class=\"colab-df-convert\" onclick=\"convertToInteractive('df-418b6407-bd07-48e6-b6d4-3bdbae418296')\"\n",
              "              title=\"Convert this dataframe to an interactive table.\"\n",
              "              style=\"display:none;\">\n",
              "        \n",
              "  <svg xmlns=\"http://www.w3.org/2000/svg\" height=\"24px\"viewBox=\"0 0 24 24\"\n",
              "       width=\"24px\">\n",
              "    <path d=\"M0 0h24v24H0V0z\" fill=\"none\"/>\n",
              "    <path d=\"M18.56 5.44l.94 2.06.94-2.06 2.06-.94-2.06-.94-.94-2.06-.94 2.06-2.06.94zm-11 1L8.5 8.5l.94-2.06 2.06-.94-2.06-.94L8.5 2.5l-.94 2.06-2.06.94zm10 10l.94 2.06.94-2.06 2.06-.94-2.06-.94-.94-2.06-.94 2.06-2.06.94z\"/><path d=\"M17.41 7.96l-1.37-1.37c-.4-.4-.92-.59-1.43-.59-.52 0-1.04.2-1.43.59L10.3 9.45l-7.72 7.72c-.78.78-.78 2.05 0 2.83L4 21.41c.39.39.9.59 1.41.59.51 0 1.02-.2 1.41-.59l7.78-7.78 2.81-2.81c.8-.78.8-2.07 0-2.86zM5.41 20L4 18.59l7.72-7.72 1.47 1.35L5.41 20z\"/>\n",
              "  </svg>\n",
              "      </button>\n",
              "      \n",
              "  <style>\n",
              "    .colab-df-container {\n",
              "      display:flex;\n",
              "      flex-wrap:wrap;\n",
              "      gap: 12px;\n",
              "    }\n",
              "\n",
              "    .colab-df-convert {\n",
              "      background-color: #E8F0FE;\n",
              "      border: none;\n",
              "      border-radius: 50%;\n",
              "      cursor: pointer;\n",
              "      display: none;\n",
              "      fill: #1967D2;\n",
              "      height: 32px;\n",
              "      padding: 0 0 0 0;\n",
              "      width: 32px;\n",
              "    }\n",
              "\n",
              "    .colab-df-convert:hover {\n",
              "      background-color: #E2EBFA;\n",
              "      box-shadow: 0px 1px 2px rgba(60, 64, 67, 0.3), 0px 1px 3px 1px rgba(60, 64, 67, 0.15);\n",
              "      fill: #174EA6;\n",
              "    }\n",
              "\n",
              "    [theme=dark] .colab-df-convert {\n",
              "      background-color: #3B4455;\n",
              "      fill: #D2E3FC;\n",
              "    }\n",
              "\n",
              "    [theme=dark] .colab-df-convert:hover {\n",
              "      background-color: #434B5C;\n",
              "      box-shadow: 0px 1px 3px 1px rgba(0, 0, 0, 0.15);\n",
              "      filter: drop-shadow(0px 1px 2px rgba(0, 0, 0, 0.3));\n",
              "      fill: #FFFFFF;\n",
              "    }\n",
              "  </style>\n",
              "\n",
              "      <script>\n",
              "        const buttonEl =\n",
              "          document.querySelector('#df-418b6407-bd07-48e6-b6d4-3bdbae418296 button.colab-df-convert');\n",
              "        buttonEl.style.display =\n",
              "          google.colab.kernel.accessAllowed ? 'block' : 'none';\n",
              "\n",
              "        async function convertToInteractive(key) {\n",
              "          const element = document.querySelector('#df-418b6407-bd07-48e6-b6d4-3bdbae418296');\n",
              "          const dataTable =\n",
              "            await google.colab.kernel.invokeFunction('convertToInteractive',\n",
              "                                                     [key], {});\n",
              "          if (!dataTable) return;\n",
              "\n",
              "          const docLinkHtml = 'Like what you see? Visit the ' +\n",
              "            '<a target=\"_blank\" href=https://colab.research.google.com/notebooks/data_table.ipynb>data table notebook</a>'\n",
              "            + ' to learn more about interactive tables.';\n",
              "          element.innerHTML = '';\n",
              "          dataTable['output_type'] = 'display_data';\n",
              "          await google.colab.output.renderOutput(dataTable, element);\n",
              "          const docLink = document.createElement('div');\n",
              "          docLink.innerHTML = docLinkHtml;\n",
              "          element.appendChild(docLink);\n",
              "        }\n",
              "      </script>\n",
              "    </div>\n",
              "  </div>\n",
              "  "
            ]
          },
          "metadata": {},
          "execution_count": 7
        }
      ],
      "source": [
        "# напишите запрос\n",
        "query = '''\n",
        "SELECT  u.display_name,\n",
        "        COUNT(DISTINCT user_id) AS active_users\n",
        "FROM stackoverflow.users u\n",
        "JOIN stackoverflow.posts p ON u.id=p.user_id\n",
        "JOIN stackoverflow.post_types AS pt ON pt.id=p.post_type_id\n",
        "WHERE DATE_TRUNC('day', p.creation_date) >= DATE_TRUNC('day', u.creation_date)\n",
        "        AND DATE_TRUNC('day', p.creation_date) <= DATE_TRUNC('day', u.creation_date) + INTERVAL '1 month' \n",
        "        AND pt.type = 'Answer'\n",
        "GROUP BY 1\n",
        "HAVING COUNT(*) > 100\n",
        "ORDER BY 1;\n",
        "'''\n",
        "\n",
        "# выполните запрос\n",
        "\n",
        "pss = pd.read_sql_query(query, con=engine)\n",
        "pss"
      ]
    },
    {
      "cell_type": "markdown",
      "metadata": {
        "id": "I3Wr82TplKpI"
      },
      "source": [
        "Какие аномалии наблюдаются в данных? О чём они говорят?"
      ]
    },
    {
      "cell_type": "markdown",
      "metadata": {
        "id": "CEIGGQ6ODWKy"
      },
      "source": [
        "Имя пользователя не является уникальным. Осуществлять поиск пользователя по этому атрибуту будет некорректно."
      ]
    },
    {
      "cell_type": "markdown",
      "metadata": {
        "id": "JhM2xXj5DWKu"
      },
      "source": [
        "# Задание 3"
      ]
    },
    {
      "cell_type": "markdown",
      "metadata": {
        "id": "IS6xPqyyDWKu"
      },
      "source": [
        "Выведите количество постов за 2008 год по месяцам. Отберите посты от пользователей, которые зарегистрировались в сентябре 2008 года и сделали хотя бы один пост в декабре того же года. Отсортируйте таблицу по значению месяца по убыванию."
      ]
    },
    {
      "cell_type": "markdown",
      "metadata": {
        "id": "WmjhjV2xDWKv"
      },
      "source": [
        "| month | count |\n",
        "| ------|------ |\n",
        "| 2008-12-01 | 17641 |\n",
        "| 2008-11-01 | 18294 |\n",
        "| ... | ... |"
      ]
    },
    {
      "cell_type": "code",
      "execution_count": null,
      "metadata": {
        "id": "kVu0FB8WDWKv",
        "scrolled": true,
        "colab": {
          "base_uri": "https://localhost:8080/",
          "height": 206
        },
        "outputId": "5c1697e7-e52a-4935-b166-24b941e7ad4d"
      },
      "outputs": [
        {
          "output_type": "execute_result",
          "data": {
            "text/plain": [
              "        month  count\n",
              "0  2008-12-01  17641\n",
              "1  2008-11-01  18294\n",
              "2  2008-10-01  27171\n",
              "3  2008-09-01  24870\n",
              "4  2008-08-01     32"
            ],
            "text/html": [
              "\n",
              "  <div id=\"df-bbf00595-476a-4485-ac2a-cff2bbcb9324\">\n",
              "    <div class=\"colab-df-container\">\n",
              "      <div>\n",
              "<style scoped>\n",
              "    .dataframe tbody tr th:only-of-type {\n",
              "        vertical-align: middle;\n",
              "    }\n",
              "\n",
              "    .dataframe tbody tr th {\n",
              "        vertical-align: top;\n",
              "    }\n",
              "\n",
              "    .dataframe thead th {\n",
              "        text-align: right;\n",
              "    }\n",
              "</style>\n",
              "<table border=\"1\" class=\"dataframe\">\n",
              "  <thead>\n",
              "    <tr style=\"text-align: right;\">\n",
              "      <th></th>\n",
              "      <th>month</th>\n",
              "      <th>count</th>\n",
              "    </tr>\n",
              "  </thead>\n",
              "  <tbody>\n",
              "    <tr>\n",
              "      <th>0</th>\n",
              "      <td>2008-12-01</td>\n",
              "      <td>17641</td>\n",
              "    </tr>\n",
              "    <tr>\n",
              "      <th>1</th>\n",
              "      <td>2008-11-01</td>\n",
              "      <td>18294</td>\n",
              "    </tr>\n",
              "    <tr>\n",
              "      <th>2</th>\n",
              "      <td>2008-10-01</td>\n",
              "      <td>27171</td>\n",
              "    </tr>\n",
              "    <tr>\n",
              "      <th>3</th>\n",
              "      <td>2008-09-01</td>\n",
              "      <td>24870</td>\n",
              "    </tr>\n",
              "    <tr>\n",
              "      <th>4</th>\n",
              "      <td>2008-08-01</td>\n",
              "      <td>32</td>\n",
              "    </tr>\n",
              "  </tbody>\n",
              "</table>\n",
              "</div>\n",
              "      <button class=\"colab-df-convert\" onclick=\"convertToInteractive('df-bbf00595-476a-4485-ac2a-cff2bbcb9324')\"\n",
              "              title=\"Convert this dataframe to an interactive table.\"\n",
              "              style=\"display:none;\">\n",
              "        \n",
              "  <svg xmlns=\"http://www.w3.org/2000/svg\" height=\"24px\"viewBox=\"0 0 24 24\"\n",
              "       width=\"24px\">\n",
              "    <path d=\"M0 0h24v24H0V0z\" fill=\"none\"/>\n",
              "    <path d=\"M18.56 5.44l.94 2.06.94-2.06 2.06-.94-2.06-.94-.94-2.06-.94 2.06-2.06.94zm-11 1L8.5 8.5l.94-2.06 2.06-.94-2.06-.94L8.5 2.5l-.94 2.06-2.06.94zm10 10l.94 2.06.94-2.06 2.06-.94-2.06-.94-.94-2.06-.94 2.06-2.06.94z\"/><path d=\"M17.41 7.96l-1.37-1.37c-.4-.4-.92-.59-1.43-.59-.52 0-1.04.2-1.43.59L10.3 9.45l-7.72 7.72c-.78.78-.78 2.05 0 2.83L4 21.41c.39.39.9.59 1.41.59.51 0 1.02-.2 1.41-.59l7.78-7.78 2.81-2.81c.8-.78.8-2.07 0-2.86zM5.41 20L4 18.59l7.72-7.72 1.47 1.35L5.41 20z\"/>\n",
              "  </svg>\n",
              "      </button>\n",
              "      \n",
              "  <style>\n",
              "    .colab-df-container {\n",
              "      display:flex;\n",
              "      flex-wrap:wrap;\n",
              "      gap: 12px;\n",
              "    }\n",
              "\n",
              "    .colab-df-convert {\n",
              "      background-color: #E8F0FE;\n",
              "      border: none;\n",
              "      border-radius: 50%;\n",
              "      cursor: pointer;\n",
              "      display: none;\n",
              "      fill: #1967D2;\n",
              "      height: 32px;\n",
              "      padding: 0 0 0 0;\n",
              "      width: 32px;\n",
              "    }\n",
              "\n",
              "    .colab-df-convert:hover {\n",
              "      background-color: #E2EBFA;\n",
              "      box-shadow: 0px 1px 2px rgba(60, 64, 67, 0.3), 0px 1px 3px 1px rgba(60, 64, 67, 0.15);\n",
              "      fill: #174EA6;\n",
              "    }\n",
              "\n",
              "    [theme=dark] .colab-df-convert {\n",
              "      background-color: #3B4455;\n",
              "      fill: #D2E3FC;\n",
              "    }\n",
              "\n",
              "    [theme=dark] .colab-df-convert:hover {\n",
              "      background-color: #434B5C;\n",
              "      box-shadow: 0px 1px 3px 1px rgba(0, 0, 0, 0.15);\n",
              "      filter: drop-shadow(0px 1px 2px rgba(0, 0, 0, 0.3));\n",
              "      fill: #FFFFFF;\n",
              "    }\n",
              "  </style>\n",
              "\n",
              "      <script>\n",
              "        const buttonEl =\n",
              "          document.querySelector('#df-bbf00595-476a-4485-ac2a-cff2bbcb9324 button.colab-df-convert');\n",
              "        buttonEl.style.display =\n",
              "          google.colab.kernel.accessAllowed ? 'block' : 'none';\n",
              "\n",
              "        async function convertToInteractive(key) {\n",
              "          const element = document.querySelector('#df-bbf00595-476a-4485-ac2a-cff2bbcb9324');\n",
              "          const dataTable =\n",
              "            await google.colab.kernel.invokeFunction('convertToInteractive',\n",
              "                                                     [key], {});\n",
              "          if (!dataTable) return;\n",
              "\n",
              "          const docLinkHtml = 'Like what you see? Visit the ' +\n",
              "            '<a target=\"_blank\" href=https://colab.research.google.com/notebooks/data_table.ipynb>data table notebook</a>'\n",
              "            + ' to learn more about interactive tables.';\n",
              "          element.innerHTML = '';\n",
              "          dataTable['output_type'] = 'display_data';\n",
              "          await google.colab.output.renderOutput(dataTable, element);\n",
              "          const docLink = document.createElement('div');\n",
              "          docLink.innerHTML = docLinkHtml;\n",
              "          element.appendChild(docLink);\n",
              "        }\n",
              "      </script>\n",
              "    </div>\n",
              "  </div>\n",
              "  "
            ]
          },
          "metadata": {},
          "execution_count": 8
        }
      ],
      "source": [
        "# напишите запрос\n",
        "query = '''\n",
        "SELECT DATE_TRUNC('month', ps.creation_date)::date AS month,\n",
        "       COUNT(*)\n",
        "FROM stackoverflow.posts ps\n",
        "WHERE user_id IN (SELECT DISTINCT u.id\n",
        "     FROM stackoverflow.users u\n",
        "     JOIN stackoverflow.posts p ON u.id = p.user_id\n",
        "     WHERE DATE_TRUNC('month', u.creation_date) = '2008-09-01'\n",
        "       AND DATE_TRUNC('month', p.creation_date) = '2008-12-01')\n",
        "GROUP BY month\n",
        "ORDER BY 1 DESC\n",
        "'''\n",
        "\n",
        "# выполните запрос\n",
        "pss = pd.read_sql_query(query, con=engine)\n",
        "pss"
      ]
    },
    {
      "cell_type": "markdown",
      "metadata": {
        "id": "Vnxn9DVHDWKx"
      },
      "source": [
        "Изучите данные: есть ли в них аномалии? Предположите, почему могли появиться аномальные значения."
      ]
    },
    {
      "cell_type": "markdown",
      "metadata": {
        "id": "MMVIz4yMlKpN"
      },
      "source": [
        "Аномалиями являются посты за август месяц, таак как пользователи пришли в сервис в сентябре месяца.  \n",
        "Основную активность пользователи проявляют спустя месяц после регистрации, о чем и говорит количество постов за октябрь месяц"
      ]
    },
    {
      "cell_type": "markdown",
      "metadata": {
        "id": "5Pcizm0DDWKz"
      },
      "source": [
        "# Задание 4"
      ]
    },
    {
      "cell_type": "markdown",
      "metadata": {
        "id": "KUZPF6vHDWKz"
      },
      "source": [
        "Используя данные о постах, выведите несколько полей:\n",
        "\n",
        "- идентификатор пользователя, который написал пост;\n",
        "- дата создания поста;\n",
        "- количество просмотров у текущего поста;\n",
        "- сумму просмотров постов автора с накоплением.\n",
        "\n",
        "Данные в таблице должны быть отсортированы по возрастанию идентификаторов пользователей, а данные об одном и том же пользователе — по возрастанию даты создания поста."
      ]
    },
    {
      "cell_type": "markdown",
      "metadata": {
        "id": "ZpsTUVDYDWK0"
      },
      "source": [
        "| user_id | creation_date | views_count | cumulative_count |\n",
        "| ------ | -------------- | ----------- | ---------------- |\n",
        "| 1 | 2008-07-31 23:41:00  | 480476   | 480476  |\n",
        "| 1 | 2008-07-31 23:55:38  | 136033 | 616509  | \n",
        "| 1 | 2008-07-31 23:56:41  | 0 |  616509  |\n",
        "| ... | ... | ... | ... |\n",
        "| 2 | 2008-07-31 23:56:41 | 79087  | 79087 |\n",
        "| 2 | 2008-08-01 05:09:56 | 65443 | 144530 |\n",
        "| ... | ...  | ...  | ...  |"
      ]
    },
    {
      "cell_type": "code",
      "execution_count": null,
      "metadata": {
        "id": "hDoJhMzfDWK0",
        "colab": {
          "base_uri": "https://localhost:8080/",
          "height": 424
        },
        "outputId": "1807c80e-5238-4800-e1fd-1658684a87fe"
      },
      "outputs": [
        {
          "output_type": "execute_result",
          "data": {
            "text/plain": [
              "        user_id       creation_date  views_count  cumulative_count\n",
              "0             1 2008-07-31 23:41:00       480476            480476\n",
              "1             1 2008-07-31 23:55:38       136033            616509\n",
              "2             1 2008-07-31 23:56:41            0            616509\n",
              "3             1 2008-08-04 02:45:08            0            616509\n",
              "4             1 2008-08-04 04:31:03            0            616509\n",
              "...         ...                 ...          ...               ...\n",
              "243791  5696608 2008-12-23 16:00:37            0              2804\n",
              "243792  5696608 2008-12-23 17:35:09            0              2804\n",
              "243793  5696608 2008-12-24 01:02:48            0              2804\n",
              "243794  5696608 2008-12-30 14:34:45            0              2804\n",
              "243795  5696608 2008-12-30 16:32:12            0              2804\n",
              "\n",
              "[243796 rows x 4 columns]"
            ],
            "text/html": [
              "\n",
              "  <div id=\"df-33d31f4a-f879-464c-9d50-998cae2842b3\">\n",
              "    <div class=\"colab-df-container\">\n",
              "      <div>\n",
              "<style scoped>\n",
              "    .dataframe tbody tr th:only-of-type {\n",
              "        vertical-align: middle;\n",
              "    }\n",
              "\n",
              "    .dataframe tbody tr th {\n",
              "        vertical-align: top;\n",
              "    }\n",
              "\n",
              "    .dataframe thead th {\n",
              "        text-align: right;\n",
              "    }\n",
              "</style>\n",
              "<table border=\"1\" class=\"dataframe\">\n",
              "  <thead>\n",
              "    <tr style=\"text-align: right;\">\n",
              "      <th></th>\n",
              "      <th>user_id</th>\n",
              "      <th>creation_date</th>\n",
              "      <th>views_count</th>\n",
              "      <th>cumulative_count</th>\n",
              "    </tr>\n",
              "  </thead>\n",
              "  <tbody>\n",
              "    <tr>\n",
              "      <th>0</th>\n",
              "      <td>1</td>\n",
              "      <td>2008-07-31 23:41:00</td>\n",
              "      <td>480476</td>\n",
              "      <td>480476</td>\n",
              "    </tr>\n",
              "    <tr>\n",
              "      <th>1</th>\n",
              "      <td>1</td>\n",
              "      <td>2008-07-31 23:55:38</td>\n",
              "      <td>136033</td>\n",
              "      <td>616509</td>\n",
              "    </tr>\n",
              "    <tr>\n",
              "      <th>2</th>\n",
              "      <td>1</td>\n",
              "      <td>2008-07-31 23:56:41</td>\n",
              "      <td>0</td>\n",
              "      <td>616509</td>\n",
              "    </tr>\n",
              "    <tr>\n",
              "      <th>3</th>\n",
              "      <td>1</td>\n",
              "      <td>2008-08-04 02:45:08</td>\n",
              "      <td>0</td>\n",
              "      <td>616509</td>\n",
              "    </tr>\n",
              "    <tr>\n",
              "      <th>4</th>\n",
              "      <td>1</td>\n",
              "      <td>2008-08-04 04:31:03</td>\n",
              "      <td>0</td>\n",
              "      <td>616509</td>\n",
              "    </tr>\n",
              "    <tr>\n",
              "      <th>...</th>\n",
              "      <td>...</td>\n",
              "      <td>...</td>\n",
              "      <td>...</td>\n",
              "      <td>...</td>\n",
              "    </tr>\n",
              "    <tr>\n",
              "      <th>243791</th>\n",
              "      <td>5696608</td>\n",
              "      <td>2008-12-23 16:00:37</td>\n",
              "      <td>0</td>\n",
              "      <td>2804</td>\n",
              "    </tr>\n",
              "    <tr>\n",
              "      <th>243792</th>\n",
              "      <td>5696608</td>\n",
              "      <td>2008-12-23 17:35:09</td>\n",
              "      <td>0</td>\n",
              "      <td>2804</td>\n",
              "    </tr>\n",
              "    <tr>\n",
              "      <th>243793</th>\n",
              "      <td>5696608</td>\n",
              "      <td>2008-12-24 01:02:48</td>\n",
              "      <td>0</td>\n",
              "      <td>2804</td>\n",
              "    </tr>\n",
              "    <tr>\n",
              "      <th>243794</th>\n",
              "      <td>5696608</td>\n",
              "      <td>2008-12-30 14:34:45</td>\n",
              "      <td>0</td>\n",
              "      <td>2804</td>\n",
              "    </tr>\n",
              "    <tr>\n",
              "      <th>243795</th>\n",
              "      <td>5696608</td>\n",
              "      <td>2008-12-30 16:32:12</td>\n",
              "      <td>0</td>\n",
              "      <td>2804</td>\n",
              "    </tr>\n",
              "  </tbody>\n",
              "</table>\n",
              "<p>243796 rows × 4 columns</p>\n",
              "</div>\n",
              "      <button class=\"colab-df-convert\" onclick=\"convertToInteractive('df-33d31f4a-f879-464c-9d50-998cae2842b3')\"\n",
              "              title=\"Convert this dataframe to an interactive table.\"\n",
              "              style=\"display:none;\">\n",
              "        \n",
              "  <svg xmlns=\"http://www.w3.org/2000/svg\" height=\"24px\"viewBox=\"0 0 24 24\"\n",
              "       width=\"24px\">\n",
              "    <path d=\"M0 0h24v24H0V0z\" fill=\"none\"/>\n",
              "    <path d=\"M18.56 5.44l.94 2.06.94-2.06 2.06-.94-2.06-.94-.94-2.06-.94 2.06-2.06.94zm-11 1L8.5 8.5l.94-2.06 2.06-.94-2.06-.94L8.5 2.5l-.94 2.06-2.06.94zm10 10l.94 2.06.94-2.06 2.06-.94-2.06-.94-.94-2.06-.94 2.06-2.06.94z\"/><path d=\"M17.41 7.96l-1.37-1.37c-.4-.4-.92-.59-1.43-.59-.52 0-1.04.2-1.43.59L10.3 9.45l-7.72 7.72c-.78.78-.78 2.05 0 2.83L4 21.41c.39.39.9.59 1.41.59.51 0 1.02-.2 1.41-.59l7.78-7.78 2.81-2.81c.8-.78.8-2.07 0-2.86zM5.41 20L4 18.59l7.72-7.72 1.47 1.35L5.41 20z\"/>\n",
              "  </svg>\n",
              "      </button>\n",
              "      \n",
              "  <style>\n",
              "    .colab-df-container {\n",
              "      display:flex;\n",
              "      flex-wrap:wrap;\n",
              "      gap: 12px;\n",
              "    }\n",
              "\n",
              "    .colab-df-convert {\n",
              "      background-color: #E8F0FE;\n",
              "      border: none;\n",
              "      border-radius: 50%;\n",
              "      cursor: pointer;\n",
              "      display: none;\n",
              "      fill: #1967D2;\n",
              "      height: 32px;\n",
              "      padding: 0 0 0 0;\n",
              "      width: 32px;\n",
              "    }\n",
              "\n",
              "    .colab-df-convert:hover {\n",
              "      background-color: #E2EBFA;\n",
              "      box-shadow: 0px 1px 2px rgba(60, 64, 67, 0.3), 0px 1px 3px 1px rgba(60, 64, 67, 0.15);\n",
              "      fill: #174EA6;\n",
              "    }\n",
              "\n",
              "    [theme=dark] .colab-df-convert {\n",
              "      background-color: #3B4455;\n",
              "      fill: #D2E3FC;\n",
              "    }\n",
              "\n",
              "    [theme=dark] .colab-df-convert:hover {\n",
              "      background-color: #434B5C;\n",
              "      box-shadow: 0px 1px 3px 1px rgba(0, 0, 0, 0.15);\n",
              "      filter: drop-shadow(0px 1px 2px rgba(0, 0, 0, 0.3));\n",
              "      fill: #FFFFFF;\n",
              "    }\n",
              "  </style>\n",
              "\n",
              "      <script>\n",
              "        const buttonEl =\n",
              "          document.querySelector('#df-33d31f4a-f879-464c-9d50-998cae2842b3 button.colab-df-convert');\n",
              "        buttonEl.style.display =\n",
              "          google.colab.kernel.accessAllowed ? 'block' : 'none';\n",
              "\n",
              "        async function convertToInteractive(key) {\n",
              "          const element = document.querySelector('#df-33d31f4a-f879-464c-9d50-998cae2842b3');\n",
              "          const dataTable =\n",
              "            await google.colab.kernel.invokeFunction('convertToInteractive',\n",
              "                                                     [key], {});\n",
              "          if (!dataTable) return;\n",
              "\n",
              "          const docLinkHtml = 'Like what you see? Visit the ' +\n",
              "            '<a target=\"_blank\" href=https://colab.research.google.com/notebooks/data_table.ipynb>data table notebook</a>'\n",
              "            + ' to learn more about interactive tables.';\n",
              "          element.innerHTML = '';\n",
              "          dataTable['output_type'] = 'display_data';\n",
              "          await google.colab.output.renderOutput(dataTable, element);\n",
              "          const docLink = document.createElement('div');\n",
              "          docLink.innerHTML = docLinkHtml;\n",
              "          element.appendChild(docLink);\n",
              "        }\n",
              "      </script>\n",
              "    </div>\n",
              "  </div>\n",
              "  "
            ]
          },
          "metadata": {},
          "execution_count": 9
        }
      ],
      "source": [
        "# напишите запрос\n",
        "query = '''\n",
        "SELECT p.user_id, p.creation_date, p.views_count,\n",
        "       SUM(p.views_count) OVER (PARTITION BY p.user_id ORDER BY p.creation_date) as cumulative_count\n",
        "FROM stackoverflow.posts p\n",
        "ORDER BY p.user_id\n",
        "'''\n",
        "\n",
        "# выполните запрос\n",
        "axn = pd.read_sql_query(query, con=engine)\n",
        "axn"
      ]
    },
    {
      "cell_type": "markdown",
      "metadata": {
        "id": "N0kHRHvIDWK2"
      },
      "source": [
        "# Задание 5"
      ]
    },
    {
      "cell_type": "markdown",
      "metadata": {
        "id": "gBgvmPtODWK2"
      },
      "source": [
        "Найдите среднее количество постов пользователей в день за август 2008 года. Отберите данные о пользователях, которые опубликовали больше 120 постов за август. Дни без публикаций не учитывайте. \n",
        "\n",
        "Отсортируйте результат по возрастанию среднего количества постов. Значения можно не округлять."
      ]
    },
    {
      "cell_type": "markdown",
      "metadata": {
        "id": "nfzR08BODWK3"
      },
      "source": [
        "| user_id | avg_daily |\n",
        "| ------- | --------- |\n",
        "| 116     | 4.777778  |\n",
        "| 234     | 5.208333  |\n",
        "| ...     | ... |"
      ]
    },
    {
      "cell_type": "code",
      "execution_count": null,
      "metadata": {
        "id": "YFyPNz5GDWK3",
        "colab": {
          "base_uri": "https://localhost:8080/",
          "height": 206
        },
        "outputId": "dddc4ce8-436a-4dd5-f619-f1af535a3600"
      },
      "outputs": [
        {
          "output_type": "execute_result",
          "data": {
            "text/plain": [
              "   user_id  avg_daily\n",
              "0      116   4.777778\n",
              "1      234   5.208333\n",
              "2       91   5.681818\n",
              "3      905   7.000000\n",
              "4      383   7.277778"
            ],
            "text/html": [
              "\n",
              "  <div id=\"df-bf79962a-0157-4f21-9393-b47bc6cb5ac2\">\n",
              "    <div class=\"colab-df-container\">\n",
              "      <div>\n",
              "<style scoped>\n",
              "    .dataframe tbody tr th:only-of-type {\n",
              "        vertical-align: middle;\n",
              "    }\n",
              "\n",
              "    .dataframe tbody tr th {\n",
              "        vertical-align: top;\n",
              "    }\n",
              "\n",
              "    .dataframe thead th {\n",
              "        text-align: right;\n",
              "    }\n",
              "</style>\n",
              "<table border=\"1\" class=\"dataframe\">\n",
              "  <thead>\n",
              "    <tr style=\"text-align: right;\">\n",
              "      <th></th>\n",
              "      <th>user_id</th>\n",
              "      <th>avg_daily</th>\n",
              "    </tr>\n",
              "  </thead>\n",
              "  <tbody>\n",
              "    <tr>\n",
              "      <th>0</th>\n",
              "      <td>116</td>\n",
              "      <td>4.777778</td>\n",
              "    </tr>\n",
              "    <tr>\n",
              "      <th>1</th>\n",
              "      <td>234</td>\n",
              "      <td>5.208333</td>\n",
              "    </tr>\n",
              "    <tr>\n",
              "      <th>2</th>\n",
              "      <td>91</td>\n",
              "      <td>5.681818</td>\n",
              "    </tr>\n",
              "    <tr>\n",
              "      <th>3</th>\n",
              "      <td>905</td>\n",
              "      <td>7.000000</td>\n",
              "    </tr>\n",
              "    <tr>\n",
              "      <th>4</th>\n",
              "      <td>383</td>\n",
              "      <td>7.277778</td>\n",
              "    </tr>\n",
              "  </tbody>\n",
              "</table>\n",
              "</div>\n",
              "      <button class=\"colab-df-convert\" onclick=\"convertToInteractive('df-bf79962a-0157-4f21-9393-b47bc6cb5ac2')\"\n",
              "              title=\"Convert this dataframe to an interactive table.\"\n",
              "              style=\"display:none;\">\n",
              "        \n",
              "  <svg xmlns=\"http://www.w3.org/2000/svg\" height=\"24px\"viewBox=\"0 0 24 24\"\n",
              "       width=\"24px\">\n",
              "    <path d=\"M0 0h24v24H0V0z\" fill=\"none\"/>\n",
              "    <path d=\"M18.56 5.44l.94 2.06.94-2.06 2.06-.94-2.06-.94-.94-2.06-.94 2.06-2.06.94zm-11 1L8.5 8.5l.94-2.06 2.06-.94-2.06-.94L8.5 2.5l-.94 2.06-2.06.94zm10 10l.94 2.06.94-2.06 2.06-.94-2.06-.94-.94-2.06-.94 2.06-2.06.94z\"/><path d=\"M17.41 7.96l-1.37-1.37c-.4-.4-.92-.59-1.43-.59-.52 0-1.04.2-1.43.59L10.3 9.45l-7.72 7.72c-.78.78-.78 2.05 0 2.83L4 21.41c.39.39.9.59 1.41.59.51 0 1.02-.2 1.41-.59l7.78-7.78 2.81-2.81c.8-.78.8-2.07 0-2.86zM5.41 20L4 18.59l7.72-7.72 1.47 1.35L5.41 20z\"/>\n",
              "  </svg>\n",
              "      </button>\n",
              "      \n",
              "  <style>\n",
              "    .colab-df-container {\n",
              "      display:flex;\n",
              "      flex-wrap:wrap;\n",
              "      gap: 12px;\n",
              "    }\n",
              "\n",
              "    .colab-df-convert {\n",
              "      background-color: #E8F0FE;\n",
              "      border: none;\n",
              "      border-radius: 50%;\n",
              "      cursor: pointer;\n",
              "      display: none;\n",
              "      fill: #1967D2;\n",
              "      height: 32px;\n",
              "      padding: 0 0 0 0;\n",
              "      width: 32px;\n",
              "    }\n",
              "\n",
              "    .colab-df-convert:hover {\n",
              "      background-color: #E2EBFA;\n",
              "      box-shadow: 0px 1px 2px rgba(60, 64, 67, 0.3), 0px 1px 3px 1px rgba(60, 64, 67, 0.15);\n",
              "      fill: #174EA6;\n",
              "    }\n",
              "\n",
              "    [theme=dark] .colab-df-convert {\n",
              "      background-color: #3B4455;\n",
              "      fill: #D2E3FC;\n",
              "    }\n",
              "\n",
              "    [theme=dark] .colab-df-convert:hover {\n",
              "      background-color: #434B5C;\n",
              "      box-shadow: 0px 1px 3px 1px rgba(0, 0, 0, 0.15);\n",
              "      filter: drop-shadow(0px 1px 2px rgba(0, 0, 0, 0.3));\n",
              "      fill: #FFFFFF;\n",
              "    }\n",
              "  </style>\n",
              "\n",
              "      <script>\n",
              "        const buttonEl =\n",
              "          document.querySelector('#df-bf79962a-0157-4f21-9393-b47bc6cb5ac2 button.colab-df-convert');\n",
              "        buttonEl.style.display =\n",
              "          google.colab.kernel.accessAllowed ? 'block' : 'none';\n",
              "\n",
              "        async function convertToInteractive(key) {\n",
              "          const element = document.querySelector('#df-bf79962a-0157-4f21-9393-b47bc6cb5ac2');\n",
              "          const dataTable =\n",
              "            await google.colab.kernel.invokeFunction('convertToInteractive',\n",
              "                                                     [key], {});\n",
              "          if (!dataTable) return;\n",
              "\n",
              "          const docLinkHtml = 'Like what you see? Visit the ' +\n",
              "            '<a target=\"_blank\" href=https://colab.research.google.com/notebooks/data_table.ipynb>data table notebook</a>'\n",
              "            + ' to learn more about interactive tables.';\n",
              "          element.innerHTML = '';\n",
              "          dataTable['output_type'] = 'display_data';\n",
              "          await google.colab.output.renderOutput(dataTable, element);\n",
              "          const docLink = document.createElement('div');\n",
              "          docLink.innerHTML = docLinkHtml;\n",
              "          element.appendChild(docLink);\n",
              "        }\n",
              "      </script>\n",
              "    </div>\n",
              "  </div>\n",
              "  "
            ]
          },
          "metadata": {},
          "execution_count": 10
        }
      ],
      "source": [
        "# напишите запрос\n",
        "query = '''\n",
        "WITH tab1 AS\n",
        "            (SELECT user_id,\n",
        "              DATE_TRUNC('day', creation_date) AS day,\n",
        "              COUNT(DATE_TRUNC('day', creation_date)) AS posts_count\n",
        "               FROM stackoverflow.posts\n",
        "               WHERE DATE_TRUNC('day', creation_date) >= '2008-08-01'\n",
        "                    AND DATE_TRUNC('day', creation_date) <= '2008-08-31'\n",
        "                   AND user_id IN \n",
        "                                 (SELECT user_id\n",
        "                                    FROM stackoverflow.posts\n",
        "                                    WHERE DATE_TRUNC('day', creation_date) >= '2008-08-01'\n",
        "                                     AND DATE_TRUNC('day', creation_date) <= '2008-08-31'\n",
        "                                    GROUP BY user_id\n",
        "                                    HAVING COUNT(user_id) > 120)\n",
        "                GROUP BY user_id, day)\n",
        "SELECT user_id, AVG(posts_count) AS avg_daily\n",
        "FROM tab1\n",
        "GROUP BY user_id\n",
        "ORDER BY 2\n",
        "'''\n",
        "\n",
        "# выполните запрос\n",
        "posts_per_day = pd.read_sql_query(query, con=engine)\n",
        "posts_per_day"
      ]
    },
    {
      "cell_type": "markdown",
      "metadata": {
        "id": "EQ0dcFH4DWK5"
      },
      "source": [
        "# Задание 6"
      ]
    },
    {
      "cell_type": "markdown",
      "metadata": {
        "id": "c7flfg_hDWK5"
      },
      "source": [
        "Сколько в среднем дней в период с 1 по 7 декабря 2008 года пользователи взаимодействовали с платформой? Для каждого пользователя отберите дни, в которые он или она опубликовали хотя бы один пост. Нужно получить одно целое число — не забудьте округлить результат. "
      ]
    },
    {
      "cell_type": "markdown",
      "metadata": {
        "id": "RC1Ibzm9DWK6"
      },
      "source": [
        "| result |\n",
        "| -----  |\n",
        "| <целое число> |"
      ]
    },
    {
      "cell_type": "code",
      "execution_count": null,
      "metadata": {
        "id": "kZ7LXTr6DWK6",
        "colab": {
          "base_uri": "https://localhost:8080/",
          "height": 81
        },
        "outputId": "6b52e894-46cc-4bf6-ac5e-bff530d7bbd2"
      },
      "outputs": [
        {
          "output_type": "execute_result",
          "data": {
            "text/plain": [
              "   round\n",
              "0    2.0"
            ],
            "text/html": [
              "\n",
              "  <div id=\"df-05053a20-7e95-4cb5-95de-37e7eae09b51\">\n",
              "    <div class=\"colab-df-container\">\n",
              "      <div>\n",
              "<style scoped>\n",
              "    .dataframe tbody tr th:only-of-type {\n",
              "        vertical-align: middle;\n",
              "    }\n",
              "\n",
              "    .dataframe tbody tr th {\n",
              "        vertical-align: top;\n",
              "    }\n",
              "\n",
              "    .dataframe thead th {\n",
              "        text-align: right;\n",
              "    }\n",
              "</style>\n",
              "<table border=\"1\" class=\"dataframe\">\n",
              "  <thead>\n",
              "    <tr style=\"text-align: right;\">\n",
              "      <th></th>\n",
              "      <th>round</th>\n",
              "    </tr>\n",
              "  </thead>\n",
              "  <tbody>\n",
              "    <tr>\n",
              "      <th>0</th>\n",
              "      <td>2.0</td>\n",
              "    </tr>\n",
              "  </tbody>\n",
              "</table>\n",
              "</div>\n",
              "      <button class=\"colab-df-convert\" onclick=\"convertToInteractive('df-05053a20-7e95-4cb5-95de-37e7eae09b51')\"\n",
              "              title=\"Convert this dataframe to an interactive table.\"\n",
              "              style=\"display:none;\">\n",
              "        \n",
              "  <svg xmlns=\"http://www.w3.org/2000/svg\" height=\"24px\"viewBox=\"0 0 24 24\"\n",
              "       width=\"24px\">\n",
              "    <path d=\"M0 0h24v24H0V0z\" fill=\"none\"/>\n",
              "    <path d=\"M18.56 5.44l.94 2.06.94-2.06 2.06-.94-2.06-.94-.94-2.06-.94 2.06-2.06.94zm-11 1L8.5 8.5l.94-2.06 2.06-.94-2.06-.94L8.5 2.5l-.94 2.06-2.06.94zm10 10l.94 2.06.94-2.06 2.06-.94-2.06-.94-.94-2.06-.94 2.06-2.06.94z\"/><path d=\"M17.41 7.96l-1.37-1.37c-.4-.4-.92-.59-1.43-.59-.52 0-1.04.2-1.43.59L10.3 9.45l-7.72 7.72c-.78.78-.78 2.05 0 2.83L4 21.41c.39.39.9.59 1.41.59.51 0 1.02-.2 1.41-.59l7.78-7.78 2.81-2.81c.8-.78.8-2.07 0-2.86zM5.41 20L4 18.59l7.72-7.72 1.47 1.35L5.41 20z\"/>\n",
              "  </svg>\n",
              "      </button>\n",
              "      \n",
              "  <style>\n",
              "    .colab-df-container {\n",
              "      display:flex;\n",
              "      flex-wrap:wrap;\n",
              "      gap: 12px;\n",
              "    }\n",
              "\n",
              "    .colab-df-convert {\n",
              "      background-color: #E8F0FE;\n",
              "      border: none;\n",
              "      border-radius: 50%;\n",
              "      cursor: pointer;\n",
              "      display: none;\n",
              "      fill: #1967D2;\n",
              "      height: 32px;\n",
              "      padding: 0 0 0 0;\n",
              "      width: 32px;\n",
              "    }\n",
              "\n",
              "    .colab-df-convert:hover {\n",
              "      background-color: #E2EBFA;\n",
              "      box-shadow: 0px 1px 2px rgba(60, 64, 67, 0.3), 0px 1px 3px 1px rgba(60, 64, 67, 0.15);\n",
              "      fill: #174EA6;\n",
              "    }\n",
              "\n",
              "    [theme=dark] .colab-df-convert {\n",
              "      background-color: #3B4455;\n",
              "      fill: #D2E3FC;\n",
              "    }\n",
              "\n",
              "    [theme=dark] .colab-df-convert:hover {\n",
              "      background-color: #434B5C;\n",
              "      box-shadow: 0px 1px 3px 1px rgba(0, 0, 0, 0.15);\n",
              "      filter: drop-shadow(0px 1px 2px rgba(0, 0, 0, 0.3));\n",
              "      fill: #FFFFFF;\n",
              "    }\n",
              "  </style>\n",
              "\n",
              "      <script>\n",
              "        const buttonEl =\n",
              "          document.querySelector('#df-05053a20-7e95-4cb5-95de-37e7eae09b51 button.colab-df-convert');\n",
              "        buttonEl.style.display =\n",
              "          google.colab.kernel.accessAllowed ? 'block' : 'none';\n",
              "\n",
              "        async function convertToInteractive(key) {\n",
              "          const element = document.querySelector('#df-05053a20-7e95-4cb5-95de-37e7eae09b51');\n",
              "          const dataTable =\n",
              "            await google.colab.kernel.invokeFunction('convertToInteractive',\n",
              "                                                     [key], {});\n",
              "          if (!dataTable) return;\n",
              "\n",
              "          const docLinkHtml = 'Like what you see? Visit the ' +\n",
              "            '<a target=\"_blank\" href=https://colab.research.google.com/notebooks/data_table.ipynb>data table notebook</a>'\n",
              "            + ' to learn more about interactive tables.';\n",
              "          element.innerHTML = '';\n",
              "          dataTable['output_type'] = 'display_data';\n",
              "          await google.colab.output.renderOutput(dataTable, element);\n",
              "          const docLink = document.createElement('div');\n",
              "          docLink.innerHTML = docLinkHtml;\n",
              "          element.appendChild(docLink);\n",
              "        }\n",
              "      </script>\n",
              "    </div>\n",
              "  </div>\n",
              "  "
            ]
          },
          "metadata": {},
          "execution_count": 11
        }
      ],
      "source": [
        "# напишите запрос\n",
        "query = '''\n",
        "WITH cnss as (select p.user_id,\n",
        "       date_trunc('day', p.creation_date)\n",
        "FROM stackoverflow.posts p\n",
        "where p.creation_date between '2008-12-01' and '2008-12-07'\n",
        "GROUP BY p.user_id, date_trunc('day', p.creation_date)),\n",
        "nss as (select count(cnss.user_id) as pmt\n",
        "        FROM cnss\n",
        "        GROUP BY cnss.user_id)\n",
        "SELECT ROUND(AVG(pmt))\n",
        "FROM nss\n",
        "'''\n",
        "\n",
        "# выполните запрос\n",
        "lopk = pd.read_sql_query(query, con=engine)\n",
        "lopk"
      ]
    },
    {
      "cell_type": "markdown",
      "metadata": {
        "id": "UJFtNNggDWK7"
      },
      "source": [
        "Проанализируйте итоговую таблицу — какие выводы можно сделать?"
      ]
    },
    {
      "cell_type": "markdown",
      "metadata": {
        "id": "LfUuYz-1DWK8"
      },
      "source": [
        "В период с 1 по 7 декабря пользователи взаимодействовали с платформой в средней 2 дня. Можно предположить, что в выходные дни пользователи больше пользуются платформой."
      ]
    },
    {
      "cell_type": "markdown",
      "metadata": {
        "id": "wfOmqmfLDWK8"
      },
      "source": [
        "# Задание 7"
      ]
    },
    {
      "cell_type": "markdown",
      "metadata": {
        "id": "X4ARQimADWK9"
      },
      "source": [
        "Выведите историю активности каждого пользователя в таком виде: идентификатор пользователя, дата публикации поста. Отсортируйте вывод по возрастанию идентификаторов пользователей, а для каждого пользователя — по возрастанию даты публикации.\n",
        "\n",
        "Добавьте в таблицу новое поле: для каждого поста в нём будет указано название месяца предпоследней публикации пользователя относительно текущей. Если такой публикации нет, укажите `NULL`.  Python автоматически поменяет `NULL` на `None`, но дополнительно преобразовывать значения `None` вам не нужно.\n",
        "\n",
        "Посмотрите внимательно на образец таблицы: для первых двух постов предпоследней публикации нет, но, начиная с третьего поста, в новое поле входит нужный месяц. Для следующего пользователя в первые две записи поля `second_last_month` тоже войдёт `NULL`."
      ]
    },
    {
      "cell_type": "markdown",
      "metadata": {
        "id": "IGPjRP01DWK9"
      },
      "source": [
        "| user_id | creation_date | second_last_month |\n",
        "| ------- | ------------- | ----------------- |\n",
        "| 1       | 2008-07-31 23:41:00 | None |\n",
        "| 1       | 2008-07-31 23:55:38 | None |\n",
        "| 1       | 2008-07-31 23:56:41 | July |\n",
        "| 1       | 2008-08-04 02:45:08 | July |\n",
        "| 1       | 2008-08-04 04:31:03 | July |\n",
        "| 1       | 2008-08-04 08:04:42 | August |\n",
        "| ... | ... | ... |"
      ]
    },
    {
      "cell_type": "code",
      "execution_count": null,
      "metadata": {
        "id": "HzI1vhaMDWK-",
        "colab": {
          "base_uri": "https://localhost:8080/",
          "height": 424
        },
        "outputId": "b0fb288e-d73b-4c03-af49-c47911b2d5ca"
      },
      "outputs": [
        {
          "output_type": "execute_result",
          "data": {
            "text/plain": [
              "        user_id       creation_date second_last_month\n",
              "0             1 2008-07-31 23:41:00              None\n",
              "1             1 2008-07-31 23:55:38              None\n",
              "2             1 2008-07-31 23:56:41              July\n",
              "3             1 2008-08-04 02:45:08              July\n",
              "4             1 2008-08-04 04:31:03              July\n",
              "...         ...                 ...               ...\n",
              "243791  5696608 2008-12-23 16:00:37          December\n",
              "243792  5696608 2008-12-23 17:35:09          December\n",
              "243793  5696608 2008-12-24 01:02:48          December\n",
              "243794  5696608 2008-12-30 14:34:45          December\n",
              "243795  5696608 2008-12-30 16:32:12          December\n",
              "\n",
              "[243796 rows x 3 columns]"
            ],
            "text/html": [
              "\n",
              "  <div id=\"df-52e25df2-0606-494e-8026-65284acd6c54\">\n",
              "    <div class=\"colab-df-container\">\n",
              "      <div>\n",
              "<style scoped>\n",
              "    .dataframe tbody tr th:only-of-type {\n",
              "        vertical-align: middle;\n",
              "    }\n",
              "\n",
              "    .dataframe tbody tr th {\n",
              "        vertical-align: top;\n",
              "    }\n",
              "\n",
              "    .dataframe thead th {\n",
              "        text-align: right;\n",
              "    }\n",
              "</style>\n",
              "<table border=\"1\" class=\"dataframe\">\n",
              "  <thead>\n",
              "    <tr style=\"text-align: right;\">\n",
              "      <th></th>\n",
              "      <th>user_id</th>\n",
              "      <th>creation_date</th>\n",
              "      <th>second_last_month</th>\n",
              "    </tr>\n",
              "  </thead>\n",
              "  <tbody>\n",
              "    <tr>\n",
              "      <th>0</th>\n",
              "      <td>1</td>\n",
              "      <td>2008-07-31 23:41:00</td>\n",
              "      <td>None</td>\n",
              "    </tr>\n",
              "    <tr>\n",
              "      <th>1</th>\n",
              "      <td>1</td>\n",
              "      <td>2008-07-31 23:55:38</td>\n",
              "      <td>None</td>\n",
              "    </tr>\n",
              "    <tr>\n",
              "      <th>2</th>\n",
              "      <td>1</td>\n",
              "      <td>2008-07-31 23:56:41</td>\n",
              "      <td>July</td>\n",
              "    </tr>\n",
              "    <tr>\n",
              "      <th>3</th>\n",
              "      <td>1</td>\n",
              "      <td>2008-08-04 02:45:08</td>\n",
              "      <td>July</td>\n",
              "    </tr>\n",
              "    <tr>\n",
              "      <th>4</th>\n",
              "      <td>1</td>\n",
              "      <td>2008-08-04 04:31:03</td>\n",
              "      <td>July</td>\n",
              "    </tr>\n",
              "    <tr>\n",
              "      <th>...</th>\n",
              "      <td>...</td>\n",
              "      <td>...</td>\n",
              "      <td>...</td>\n",
              "    </tr>\n",
              "    <tr>\n",
              "      <th>243791</th>\n",
              "      <td>5696608</td>\n",
              "      <td>2008-12-23 16:00:37</td>\n",
              "      <td>December</td>\n",
              "    </tr>\n",
              "    <tr>\n",
              "      <th>243792</th>\n",
              "      <td>5696608</td>\n",
              "      <td>2008-12-23 17:35:09</td>\n",
              "      <td>December</td>\n",
              "    </tr>\n",
              "    <tr>\n",
              "      <th>243793</th>\n",
              "      <td>5696608</td>\n",
              "      <td>2008-12-24 01:02:48</td>\n",
              "      <td>December</td>\n",
              "    </tr>\n",
              "    <tr>\n",
              "      <th>243794</th>\n",
              "      <td>5696608</td>\n",
              "      <td>2008-12-30 14:34:45</td>\n",
              "      <td>December</td>\n",
              "    </tr>\n",
              "    <tr>\n",
              "      <th>243795</th>\n",
              "      <td>5696608</td>\n",
              "      <td>2008-12-30 16:32:12</td>\n",
              "      <td>December</td>\n",
              "    </tr>\n",
              "  </tbody>\n",
              "</table>\n",
              "<p>243796 rows × 3 columns</p>\n",
              "</div>\n",
              "      <button class=\"colab-df-convert\" onclick=\"convertToInteractive('df-52e25df2-0606-494e-8026-65284acd6c54')\"\n",
              "              title=\"Convert this dataframe to an interactive table.\"\n",
              "              style=\"display:none;\">\n",
              "        \n",
              "  <svg xmlns=\"http://www.w3.org/2000/svg\" height=\"24px\"viewBox=\"0 0 24 24\"\n",
              "       width=\"24px\">\n",
              "    <path d=\"M0 0h24v24H0V0z\" fill=\"none\"/>\n",
              "    <path d=\"M18.56 5.44l.94 2.06.94-2.06 2.06-.94-2.06-.94-.94-2.06-.94 2.06-2.06.94zm-11 1L8.5 8.5l.94-2.06 2.06-.94-2.06-.94L8.5 2.5l-.94 2.06-2.06.94zm10 10l.94 2.06.94-2.06 2.06-.94-2.06-.94-.94-2.06-.94 2.06-2.06.94z\"/><path d=\"M17.41 7.96l-1.37-1.37c-.4-.4-.92-.59-1.43-.59-.52 0-1.04.2-1.43.59L10.3 9.45l-7.72 7.72c-.78.78-.78 2.05 0 2.83L4 21.41c.39.39.9.59 1.41.59.51 0 1.02-.2 1.41-.59l7.78-7.78 2.81-2.81c.8-.78.8-2.07 0-2.86zM5.41 20L4 18.59l7.72-7.72 1.47 1.35L5.41 20z\"/>\n",
              "  </svg>\n",
              "      </button>\n",
              "      \n",
              "  <style>\n",
              "    .colab-df-container {\n",
              "      display:flex;\n",
              "      flex-wrap:wrap;\n",
              "      gap: 12px;\n",
              "    }\n",
              "\n",
              "    .colab-df-convert {\n",
              "      background-color: #E8F0FE;\n",
              "      border: none;\n",
              "      border-radius: 50%;\n",
              "      cursor: pointer;\n",
              "      display: none;\n",
              "      fill: #1967D2;\n",
              "      height: 32px;\n",
              "      padding: 0 0 0 0;\n",
              "      width: 32px;\n",
              "    }\n",
              "\n",
              "    .colab-df-convert:hover {\n",
              "      background-color: #E2EBFA;\n",
              "      box-shadow: 0px 1px 2px rgba(60, 64, 67, 0.3), 0px 1px 3px 1px rgba(60, 64, 67, 0.15);\n",
              "      fill: #174EA6;\n",
              "    }\n",
              "\n",
              "    [theme=dark] .colab-df-convert {\n",
              "      background-color: #3B4455;\n",
              "      fill: #D2E3FC;\n",
              "    }\n",
              "\n",
              "    [theme=dark] .colab-df-convert:hover {\n",
              "      background-color: #434B5C;\n",
              "      box-shadow: 0px 1px 3px 1px rgba(0, 0, 0, 0.15);\n",
              "      filter: drop-shadow(0px 1px 2px rgba(0, 0, 0, 0.3));\n",
              "      fill: #FFFFFF;\n",
              "    }\n",
              "  </style>\n",
              "\n",
              "      <script>\n",
              "        const buttonEl =\n",
              "          document.querySelector('#df-52e25df2-0606-494e-8026-65284acd6c54 button.colab-df-convert');\n",
              "        buttonEl.style.display =\n",
              "          google.colab.kernel.accessAllowed ? 'block' : 'none';\n",
              "\n",
              "        async function convertToInteractive(key) {\n",
              "          const element = document.querySelector('#df-52e25df2-0606-494e-8026-65284acd6c54');\n",
              "          const dataTable =\n",
              "            await google.colab.kernel.invokeFunction('convertToInteractive',\n",
              "                                                     [key], {});\n",
              "          if (!dataTable) return;\n",
              "\n",
              "          const docLinkHtml = 'Like what you see? Visit the ' +\n",
              "            '<a target=\"_blank\" href=https://colab.research.google.com/notebooks/data_table.ipynb>data table notebook</a>'\n",
              "            + ' to learn more about interactive tables.';\n",
              "          element.innerHTML = '';\n",
              "          dataTable['output_type'] = 'display_data';\n",
              "          await google.colab.output.renderOutput(dataTable, element);\n",
              "          const docLink = document.createElement('div');\n",
              "          docLink.innerHTML = docLinkHtml;\n",
              "          element.appendChild(docLink);\n",
              "        }\n",
              "      </script>\n",
              "    </div>\n",
              "  </div>\n",
              "  "
            ]
          },
          "metadata": {},
          "execution_count": 12
        }
      ],
      "source": [
        "# напишите запрос\n",
        "query = '''\n",
        "SELECT user_id,\n",
        "       creation_date,\n",
        "       CASE EXTRACT('month' FROM LAG(creation_date, 2) OVER (PARTITION BY user_id ORDER BY creation_date)) \n",
        "           WHEN 1 THEN 'January'\n",
        "           WHEN 2 THEN 'February'\n",
        "           WHEN 3 THEN 'March'\n",
        "           WHEN 4 THEN 'April'\n",
        "           WHEN 5 THEN 'May'\n",
        "           WHEN 6 THEN 'June'\n",
        "           WHEN 7 THEN 'July'\n",
        "           WHEN 8 THEN 'August'\n",
        "           WHEN 9 THEN 'September'\n",
        "           WHEN 10 THEN 'October'\n",
        "           WHEN 11 THEN 'November'\n",
        "           WHEN 12 THEN 'December'\n",
        "           ELSE NULL\n",
        "       END AS second_last_month\n",
        "FROM stackoverflow.posts\n",
        "ORDER BY 1,\n",
        "         2\n",
        "'''\n",
        "\n",
        "# выполните запрос\n",
        "activity_history = pd.read_sql_query(query, con=engine)\n",
        "activity_history"
      ]
    },
    {
      "cell_type": "markdown",
      "metadata": {
        "id": "tf9qq2yzDWK_"
      },
      "source": [
        "# Задание 8"
      ]
    },
    {
      "cell_type": "markdown",
      "metadata": {
        "id": "gfwLVXBYDWLA"
      },
      "source": [
        "Рассчитайте аналог Retention Rate по месяцам для пользователей StackOverflow. Объедините пользователей в когорты по месяцу их первого поста. Возвращение определяйте по наличию поста в текущем месяце. "
      ]
    },
    {
      "cell_type": "markdown",
      "metadata": {
        "id": "kN2ic39WlKpl"
      },
      "source": [
        "| cohort_dt | session_date | users_cnt | cohort_users_cnt | retention_rate |\n",
        "| --- | --- | --- | --- | --- |\n",
        "| 2008-07-01 00:00:00 | 2008-07-01 00:00:00 | 3 | 3 | 100 |\n",
        "| 2008-07-01 00:00:00 | 2008-08-01 00:00:00 | 2 | 3 | 66,67 |\n",
        "| 2008-07-01 00:00:00 | 2008-09-01 00:00:00 | 1 | 3 | 33,33 |\n",
        "| 2008-07-01 00:00:00 | 2008-10-01 00:00:00 | 2 | 3 | 66,67 |\n",
        "| 2008-07-01 00:00:00 | 2008-11-01 00:00:00 | 1 | 3 | 33,33 |\n",
        "| 2008-07-01 00:00:00 | 2008-12-01 00:00:00 | 2 | 3 | 66,67 |\n",
        "| 2008-08-01 00:00:00 | 2008-08-01 00:00:00 | 2151 | 2151 | 100 |\n",
        "| ... | ... | ... | ... | ... |"
      ]
    },
    {
      "cell_type": "code",
      "execution_count": null,
      "metadata": {
        "id": "LUgFmwmTDWLB",
        "colab": {
          "base_uri": "https://localhost:8080/",
          "height": 707
        },
        "outputId": "a3729ce0-0150-4c9b-9526-6bf52db45994"
      },
      "outputs": [
        {
          "output_type": "execute_result",
          "data": {
            "text/plain": [
              "    cohort_dt session_date  users_cnt  cohort_users_cnt  retention_rate\n",
              "0  2008-07-01   2008-07-01          3                 3          100.00\n",
              "1  2008-07-01   2008-08-01          2                 3           66.67\n",
              "2  2008-07-01   2008-09-01          1                 3           33.33\n",
              "3  2008-07-01   2008-10-01          2                 3           66.67\n",
              "4  2008-07-01   2008-11-01          1                 3           33.33\n",
              "5  2008-07-01   2008-12-01          2                 3           66.67\n",
              "6  2008-08-01   2008-08-01       2151              2151          100.00\n",
              "7  2008-08-01   2008-09-01       1571              2151           73.04\n",
              "8  2008-08-01   2008-10-01       1275              2151           59.27\n",
              "9  2008-08-01   2008-11-01       1050              2151           48.81\n",
              "10 2008-08-01   2008-12-01        894              2151           41.56\n",
              "11 2008-09-01   2008-09-01       7678              7678          100.00\n",
              "12 2008-09-01   2008-10-01       4132              7678           53.82\n",
              "13 2008-09-01   2008-11-01       2966              7678           38.63\n",
              "14 2008-09-01   2008-12-01       2500              7678           32.56\n",
              "15 2008-10-01   2008-10-01       3629              3629          100.00\n",
              "16 2008-10-01   2008-11-01       1640              3629           45.19\n",
              "17 2008-10-01   2008-12-01       1221              3629           33.65\n",
              "18 2008-11-01   2008-11-01       2852              2852          100.00\n",
              "19 2008-11-01   2008-12-01       1151              2852           40.36\n",
              "20 2008-12-01   2008-12-01       2536              2536          100.00"
            ],
            "text/html": [
              "\n",
              "  <div id=\"df-0a762c67-6a67-4733-8aaf-2ce3eac01b47\">\n",
              "    <div class=\"colab-df-container\">\n",
              "      <div>\n",
              "<style scoped>\n",
              "    .dataframe tbody tr th:only-of-type {\n",
              "        vertical-align: middle;\n",
              "    }\n",
              "\n",
              "    .dataframe tbody tr th {\n",
              "        vertical-align: top;\n",
              "    }\n",
              "\n",
              "    .dataframe thead th {\n",
              "        text-align: right;\n",
              "    }\n",
              "</style>\n",
              "<table border=\"1\" class=\"dataframe\">\n",
              "  <thead>\n",
              "    <tr style=\"text-align: right;\">\n",
              "      <th></th>\n",
              "      <th>cohort_dt</th>\n",
              "      <th>session_date</th>\n",
              "      <th>users_cnt</th>\n",
              "      <th>cohort_users_cnt</th>\n",
              "      <th>retention_rate</th>\n",
              "    </tr>\n",
              "  </thead>\n",
              "  <tbody>\n",
              "    <tr>\n",
              "      <th>0</th>\n",
              "      <td>2008-07-01</td>\n",
              "      <td>2008-07-01</td>\n",
              "      <td>3</td>\n",
              "      <td>3</td>\n",
              "      <td>100.00</td>\n",
              "    </tr>\n",
              "    <tr>\n",
              "      <th>1</th>\n",
              "      <td>2008-07-01</td>\n",
              "      <td>2008-08-01</td>\n",
              "      <td>2</td>\n",
              "      <td>3</td>\n",
              "      <td>66.67</td>\n",
              "    </tr>\n",
              "    <tr>\n",
              "      <th>2</th>\n",
              "      <td>2008-07-01</td>\n",
              "      <td>2008-09-01</td>\n",
              "      <td>1</td>\n",
              "      <td>3</td>\n",
              "      <td>33.33</td>\n",
              "    </tr>\n",
              "    <tr>\n",
              "      <th>3</th>\n",
              "      <td>2008-07-01</td>\n",
              "      <td>2008-10-01</td>\n",
              "      <td>2</td>\n",
              "      <td>3</td>\n",
              "      <td>66.67</td>\n",
              "    </tr>\n",
              "    <tr>\n",
              "      <th>4</th>\n",
              "      <td>2008-07-01</td>\n",
              "      <td>2008-11-01</td>\n",
              "      <td>1</td>\n",
              "      <td>3</td>\n",
              "      <td>33.33</td>\n",
              "    </tr>\n",
              "    <tr>\n",
              "      <th>5</th>\n",
              "      <td>2008-07-01</td>\n",
              "      <td>2008-12-01</td>\n",
              "      <td>2</td>\n",
              "      <td>3</td>\n",
              "      <td>66.67</td>\n",
              "    </tr>\n",
              "    <tr>\n",
              "      <th>6</th>\n",
              "      <td>2008-08-01</td>\n",
              "      <td>2008-08-01</td>\n",
              "      <td>2151</td>\n",
              "      <td>2151</td>\n",
              "      <td>100.00</td>\n",
              "    </tr>\n",
              "    <tr>\n",
              "      <th>7</th>\n",
              "      <td>2008-08-01</td>\n",
              "      <td>2008-09-01</td>\n",
              "      <td>1571</td>\n",
              "      <td>2151</td>\n",
              "      <td>73.04</td>\n",
              "    </tr>\n",
              "    <tr>\n",
              "      <th>8</th>\n",
              "      <td>2008-08-01</td>\n",
              "      <td>2008-10-01</td>\n",
              "      <td>1275</td>\n",
              "      <td>2151</td>\n",
              "      <td>59.27</td>\n",
              "    </tr>\n",
              "    <tr>\n",
              "      <th>9</th>\n",
              "      <td>2008-08-01</td>\n",
              "      <td>2008-11-01</td>\n",
              "      <td>1050</td>\n",
              "      <td>2151</td>\n",
              "      <td>48.81</td>\n",
              "    </tr>\n",
              "    <tr>\n",
              "      <th>10</th>\n",
              "      <td>2008-08-01</td>\n",
              "      <td>2008-12-01</td>\n",
              "      <td>894</td>\n",
              "      <td>2151</td>\n",
              "      <td>41.56</td>\n",
              "    </tr>\n",
              "    <tr>\n",
              "      <th>11</th>\n",
              "      <td>2008-09-01</td>\n",
              "      <td>2008-09-01</td>\n",
              "      <td>7678</td>\n",
              "      <td>7678</td>\n",
              "      <td>100.00</td>\n",
              "    </tr>\n",
              "    <tr>\n",
              "      <th>12</th>\n",
              "      <td>2008-09-01</td>\n",
              "      <td>2008-10-01</td>\n",
              "      <td>4132</td>\n",
              "      <td>7678</td>\n",
              "      <td>53.82</td>\n",
              "    </tr>\n",
              "    <tr>\n",
              "      <th>13</th>\n",
              "      <td>2008-09-01</td>\n",
              "      <td>2008-11-01</td>\n",
              "      <td>2966</td>\n",
              "      <td>7678</td>\n",
              "      <td>38.63</td>\n",
              "    </tr>\n",
              "    <tr>\n",
              "      <th>14</th>\n",
              "      <td>2008-09-01</td>\n",
              "      <td>2008-12-01</td>\n",
              "      <td>2500</td>\n",
              "      <td>7678</td>\n",
              "      <td>32.56</td>\n",
              "    </tr>\n",
              "    <tr>\n",
              "      <th>15</th>\n",
              "      <td>2008-10-01</td>\n",
              "      <td>2008-10-01</td>\n",
              "      <td>3629</td>\n",
              "      <td>3629</td>\n",
              "      <td>100.00</td>\n",
              "    </tr>\n",
              "    <tr>\n",
              "      <th>16</th>\n",
              "      <td>2008-10-01</td>\n",
              "      <td>2008-11-01</td>\n",
              "      <td>1640</td>\n",
              "      <td>3629</td>\n",
              "      <td>45.19</td>\n",
              "    </tr>\n",
              "    <tr>\n",
              "      <th>17</th>\n",
              "      <td>2008-10-01</td>\n",
              "      <td>2008-12-01</td>\n",
              "      <td>1221</td>\n",
              "      <td>3629</td>\n",
              "      <td>33.65</td>\n",
              "    </tr>\n",
              "    <tr>\n",
              "      <th>18</th>\n",
              "      <td>2008-11-01</td>\n",
              "      <td>2008-11-01</td>\n",
              "      <td>2852</td>\n",
              "      <td>2852</td>\n",
              "      <td>100.00</td>\n",
              "    </tr>\n",
              "    <tr>\n",
              "      <th>19</th>\n",
              "      <td>2008-11-01</td>\n",
              "      <td>2008-12-01</td>\n",
              "      <td>1151</td>\n",
              "      <td>2852</td>\n",
              "      <td>40.36</td>\n",
              "    </tr>\n",
              "    <tr>\n",
              "      <th>20</th>\n",
              "      <td>2008-12-01</td>\n",
              "      <td>2008-12-01</td>\n",
              "      <td>2536</td>\n",
              "      <td>2536</td>\n",
              "      <td>100.00</td>\n",
              "    </tr>\n",
              "  </tbody>\n",
              "</table>\n",
              "</div>\n",
              "      <button class=\"colab-df-convert\" onclick=\"convertToInteractive('df-0a762c67-6a67-4733-8aaf-2ce3eac01b47')\"\n",
              "              title=\"Convert this dataframe to an interactive table.\"\n",
              "              style=\"display:none;\">\n",
              "        \n",
              "  <svg xmlns=\"http://www.w3.org/2000/svg\" height=\"24px\"viewBox=\"0 0 24 24\"\n",
              "       width=\"24px\">\n",
              "    <path d=\"M0 0h24v24H0V0z\" fill=\"none\"/>\n",
              "    <path d=\"M18.56 5.44l.94 2.06.94-2.06 2.06-.94-2.06-.94-.94-2.06-.94 2.06-2.06.94zm-11 1L8.5 8.5l.94-2.06 2.06-.94-2.06-.94L8.5 2.5l-.94 2.06-2.06.94zm10 10l.94 2.06.94-2.06 2.06-.94-2.06-.94-.94-2.06-.94 2.06-2.06.94z\"/><path d=\"M17.41 7.96l-1.37-1.37c-.4-.4-.92-.59-1.43-.59-.52 0-1.04.2-1.43.59L10.3 9.45l-7.72 7.72c-.78.78-.78 2.05 0 2.83L4 21.41c.39.39.9.59 1.41.59.51 0 1.02-.2 1.41-.59l7.78-7.78 2.81-2.81c.8-.78.8-2.07 0-2.86zM5.41 20L4 18.59l7.72-7.72 1.47 1.35L5.41 20z\"/>\n",
              "  </svg>\n",
              "      </button>\n",
              "      \n",
              "  <style>\n",
              "    .colab-df-container {\n",
              "      display:flex;\n",
              "      flex-wrap:wrap;\n",
              "      gap: 12px;\n",
              "    }\n",
              "\n",
              "    .colab-df-convert {\n",
              "      background-color: #E8F0FE;\n",
              "      border: none;\n",
              "      border-radius: 50%;\n",
              "      cursor: pointer;\n",
              "      display: none;\n",
              "      fill: #1967D2;\n",
              "      height: 32px;\n",
              "      padding: 0 0 0 0;\n",
              "      width: 32px;\n",
              "    }\n",
              "\n",
              "    .colab-df-convert:hover {\n",
              "      background-color: #E2EBFA;\n",
              "      box-shadow: 0px 1px 2px rgba(60, 64, 67, 0.3), 0px 1px 3px 1px rgba(60, 64, 67, 0.15);\n",
              "      fill: #174EA6;\n",
              "    }\n",
              "\n",
              "    [theme=dark] .colab-df-convert {\n",
              "      background-color: #3B4455;\n",
              "      fill: #D2E3FC;\n",
              "    }\n",
              "\n",
              "    [theme=dark] .colab-df-convert:hover {\n",
              "      background-color: #434B5C;\n",
              "      box-shadow: 0px 1px 3px 1px rgba(0, 0, 0, 0.15);\n",
              "      filter: drop-shadow(0px 1px 2px rgba(0, 0, 0, 0.3));\n",
              "      fill: #FFFFFF;\n",
              "    }\n",
              "  </style>\n",
              "\n",
              "      <script>\n",
              "        const buttonEl =\n",
              "          document.querySelector('#df-0a762c67-6a67-4733-8aaf-2ce3eac01b47 button.colab-df-convert');\n",
              "        buttonEl.style.display =\n",
              "          google.colab.kernel.accessAllowed ? 'block' : 'none';\n",
              "\n",
              "        async function convertToInteractive(key) {\n",
              "          const element = document.querySelector('#df-0a762c67-6a67-4733-8aaf-2ce3eac01b47');\n",
              "          const dataTable =\n",
              "            await google.colab.kernel.invokeFunction('convertToInteractive',\n",
              "                                                     [key], {});\n",
              "          if (!dataTable) return;\n",
              "\n",
              "          const docLinkHtml = 'Like what you see? Visit the ' +\n",
              "            '<a target=\"_blank\" href=https://colab.research.google.com/notebooks/data_table.ipynb>data table notebook</a>'\n",
              "            + ' to learn more about interactive tables.';\n",
              "          element.innerHTML = '';\n",
              "          dataTable['output_type'] = 'display_data';\n",
              "          await google.colab.output.renderOutput(dataTable, element);\n",
              "          const docLink = document.createElement('div');\n",
              "          docLink.innerHTML = docLinkHtml;\n",
              "          element.appendChild(docLink);\n",
              "        }\n",
              "      </script>\n",
              "    </div>\n",
              "  </div>\n",
              "  "
            ]
          },
          "metadata": {},
          "execution_count": 13
        }
      ],
      "source": [
        "# напишите запрос\n",
        "query = '''\n",
        "WITH first_post AS\n",
        "(SELECT DISTINCT user_id,\n",
        "        FIRST_VALUE(DATE_TRUNC('MONTH', creation_date)) OVER(PARTITION BY user_id ORDER BY creation_date) AS cohort_dt\n",
        "FROM stackoverflow.posts),\n",
        " \n",
        "profile AS\n",
        "(SELECT user_id,\n",
        "        cohort_dt,\n",
        "        COUNT(*) OVER(PARTITION BY cohort_dt) AS cohort_users_cnt\n",
        " FROM first_post),\n",
        " \n",
        "sessions AS \n",
        "(SELECT user_id,\n",
        "        DATE_TRUNC('MONTH', creation_date) AS session_date\n",
        "FROM stackoverflow.posts\n",
        "GROUP BY 1, 2)\n",
        " \n",
        " \n",
        "SELECT p.cohort_dt,\n",
        "       session_date,\n",
        "       COUNT(p.user_id) AS users_cnt,\n",
        "       cohort_users_cnt,\n",
        "       ROUND(COUNT(p.user_id) * 100.0 / cohort_users_cnt, 2) AS retention_rate\n",
        "FROM profile p\n",
        "JOIN sessions s ON p.user_id = s.user_id\n",
        "GROUP BY 1,\n",
        "         2,\n",
        "         4\n",
        "ORDER BY 1, 2\n",
        "'''\n",
        "\n",
        "# выполните запрос\n",
        "\n",
        "r_rate = pd.read_sql_query(query, con=engine)\n",
        "r_rate"
      ]
    },
    {
      "cell_type": "markdown",
      "metadata": {
        "id": "_msBtnb2DWLC"
      },
      "source": [
        "Постройте тепловую карту Retention Rate. Какие аномалии или другие необычные явления удалось выявить? Сформулируйте гипотезы о возможных причинах."
      ]
    },
    {
      "cell_type": "code",
      "execution_count": null,
      "metadata": {
        "id": "qAEJc8H1DWLC",
        "scrolled": false,
        "colab": {
          "base_uri": "https://localhost:8080/",
          "height": 934
        },
        "outputId": "14ffa049-8499-4950-dfba-f7ad8eb8c0cd"
      },
      "outputs": [
        {
          "output_type": "display_data",
          "data": {
            "text/plain": [
              "<Figure size 1152x1152 with 2 Axes>"
            ],
            "image/png": "[encoded data removed]"
          },
          "metadata": {
            "needs_background": "light"
          }
        }
      ],
      "source": [
        "# создаём сводную таблицу с результатами\n",
        "retention = r_rate.pivot('cohort_dt', 'session_date', 'retention_rate')\n",
        "retention.index = [str(x)[0:10] for x in retention.index]\n",
        "retention.columns = [str(x)[0:10] for x in retention.columns]\n",
        "\n",
        "# строим хитмэп\n",
        "plt.figure(figsize=(16, 16)) # задаём размер графика\n",
        "sns.heatmap(retention, # датафрейм с данными\n",
        "            annot=True, # добавляем подписи\n",
        "            fmt='') # задаём исходный формат\n",
        "plt.title('Тепловая карта') # название графика\n",
        "plt.show()"
      ]
    },
    {
      "cell_type": "markdown",
      "metadata": {
        "id": "EgOfIsI4DWLC"
      },
      "source": [
        "Пользователи из когорты 2008-07-01 имеют малую выборку из-за чего данные Retention Rate некорректны.  \n",
        "Пользователи из когорты 2008-08-01 имеют наибольший уровень удержания.  \n",
        "В целом видно постепенное снижение retention rate с августа до декабря включительно."
      ]
    },
    {
      "cell_type": "markdown",
      "metadata": {
        "id": "1k7oPWt5DWLK"
      },
      "source": [
        "# Задание 9\n"
      ]
    },
    {
      "cell_type": "markdown",
      "metadata": {
        "id": "ALsYVSyRDWLM"
      },
      "source": [
        "На сколько процентов менялось количество постов ежемесячно с 1 сентября по 31 декабря 2008 года? Отобразите таблицу со следующими полями:\n",
        "\n",
        "- номер месяца;\n",
        "- количество постов за месяц;\n",
        "- процент, который показывает, насколько изменилось количество постов в текущем месяце по сравнению с предыдущим.\n",
        "\n",
        "Если постов стало меньше, значение процента должно быть отрицательным, если больше — положительным. Округлите значение процента до двух знаков после запятой.\n",
        "\n",
        "Напомним, что при делении одного целого числа на другое в PostgreSQL в результате получится целое число, округлённое до ближайшего целого вниз. Чтобы этого избежать, переведите делимое в тип `numeric`."
      ]
    },
    {
      "cell_type": "markdown",
      "metadata": {
        "id": "u4E2zF8DDWLM"
      },
      "source": [
        "| creation_month | posts_count | percentage |\n",
        "| -------------- | ----------- | ---------- |\n",
        "| 9 | 70731 | Nan |\n",
        "| 10 | 63102 | -10.33 |\n",
        "| ... | ... | ... |"
      ]
    },
    {
      "cell_type": "code",
      "execution_count": null,
      "metadata": {
        "id": "Mb5pShStDWLN",
        "colab": {
          "base_uri": "https://localhost:8080/",
          "height": 175
        },
        "outputId": "3d382a04-7edd-461f-fa76-210abcec1e40"
      },
      "outputs": [
        {
          "output_type": "execute_result",
          "data": {
            "text/plain": [
              "   creation_month  posts_count  percentage\n",
              "0             9.0        70371         NaN\n",
              "1            10.0        63102      -10.33\n",
              "2            11.0        46975      -25.56\n",
              "3            12.0        44592       -5.07"
            ],
            "text/html": [
              "\n",
              "  <div id=\"df-3fdabcba-c660-4cb2-bfe6-01c912d39b59\">\n",
              "    <div class=\"colab-df-container\">\n",
              "      <div>\n",
              "<style scoped>\n",
              "    .dataframe tbody tr th:only-of-type {\n",
              "        vertical-align: middle;\n",
              "    }\n",
              "\n",
              "    .dataframe tbody tr th {\n",
              "        vertical-align: top;\n",
              "    }\n",
              "\n",
              "    .dataframe thead th {\n",
              "        text-align: right;\n",
              "    }\n",
              "</style>\n",
              "<table border=\"1\" class=\"dataframe\">\n",
              "  <thead>\n",
              "    <tr style=\"text-align: right;\">\n",
              "      <th></th>\n",
              "      <th>creation_month</th>\n",
              "      <th>posts_count</th>\n",
              "      <th>percentage</th>\n",
              "    </tr>\n",
              "  </thead>\n",
              "  <tbody>\n",
              "    <tr>\n",
              "      <th>0</th>\n",
              "      <td>9.0</td>\n",
              "      <td>70371</td>\n",
              "      <td>NaN</td>\n",
              "    </tr>\n",
              "    <tr>\n",
              "      <th>1</th>\n",
              "      <td>10.0</td>\n",
              "      <td>63102</td>\n",
              "      <td>-10.33</td>\n",
              "    </tr>\n",
              "    <tr>\n",
              "      <th>2</th>\n",
              "      <td>11.0</td>\n",
              "      <td>46975</td>\n",
              "      <td>-25.56</td>\n",
              "    </tr>\n",
              "    <tr>\n",
              "      <th>3</th>\n",
              "      <td>12.0</td>\n",
              "      <td>44592</td>\n",
              "      <td>-5.07</td>\n",
              "    </tr>\n",
              "  </tbody>\n",
              "</table>\n",
              "</div>\n",
              "      <button class=\"colab-df-convert\" onclick=\"convertToInteractive('df-3fdabcba-c660-4cb2-bfe6-01c912d39b59')\"\n",
              "              title=\"Convert this dataframe to an interactive table.\"\n",
              "              style=\"display:none;\">\n",
              "        \n",
              "  <svg xmlns=\"http://www.w3.org/2000/svg\" height=\"24px\"viewBox=\"0 0 24 24\"\n",
              "       width=\"24px\">\n",
              "    <path d=\"M0 0h24v24H0V0z\" fill=\"none\"/>\n",
              "    <path d=\"M18.56 5.44l.94 2.06.94-2.06 2.06-.94-2.06-.94-.94-2.06-.94 2.06-2.06.94zm-11 1L8.5 8.5l.94-2.06 2.06-.94-2.06-.94L8.5 2.5l-.94 2.06-2.06.94zm10 10l.94 2.06.94-2.06 2.06-.94-2.06-.94-.94-2.06-.94 2.06-2.06.94z\"/><path d=\"M17.41 7.96l-1.37-1.37c-.4-.4-.92-.59-1.43-.59-.52 0-1.04.2-1.43.59L10.3 9.45l-7.72 7.72c-.78.78-.78 2.05 0 2.83L4 21.41c.39.39.9.59 1.41.59.51 0 1.02-.2 1.41-.59l7.78-7.78 2.81-2.81c.8-.78.8-2.07 0-2.86zM5.41 20L4 18.59l7.72-7.72 1.47 1.35L5.41 20z\"/>\n",
              "  </svg>\n",
              "      </button>\n",
              "      \n",
              "  <style>\n",
              "    .colab-df-container {\n",
              "      display:flex;\n",
              "      flex-wrap:wrap;\n",
              "      gap: 12px;\n",
              "    }\n",
              "\n",
              "    .colab-df-convert {\n",
              "      background-color: #E8F0FE;\n",
              "      border: none;\n",
              "      border-radius: 50%;\n",
              "      cursor: pointer;\n",
              "      display: none;\n",
              "      fill: #1967D2;\n",
              "      height: 32px;\n",
              "      padding: 0 0 0 0;\n",
              "      width: 32px;\n",
              "    }\n",
              "\n",
              "    .colab-df-convert:hover {\n",
              "      background-color: #E2EBFA;\n",
              "      box-shadow: 0px 1px 2px rgba(60, 64, 67, 0.3), 0px 1px 3px 1px rgba(60, 64, 67, 0.15);\n",
              "      fill: #174EA6;\n",
              "    }\n",
              "\n",
              "    [theme=dark] .colab-df-convert {\n",
              "      background-color: #3B4455;\n",
              "      fill: #D2E3FC;\n",
              "    }\n",
              "\n",
              "    [theme=dark] .colab-df-convert:hover {\n",
              "      background-color: #434B5C;\n",
              "      box-shadow: 0px 1px 3px 1px rgba(0, 0, 0, 0.15);\n",
              "      filter: drop-shadow(0px 1px 2px rgba(0, 0, 0, 0.3));\n",
              "      fill: #FFFFFF;\n",
              "    }\n",
              "  </style>\n",
              "\n",
              "      <script>\n",
              "        const buttonEl =\n",
              "          document.querySelector('#df-3fdabcba-c660-4cb2-bfe6-01c912d39b59 button.colab-df-convert');\n",
              "        buttonEl.style.display =\n",
              "          google.colab.kernel.accessAllowed ? 'block' : 'none';\n",
              "\n",
              "        async function convertToInteractive(key) {\n",
              "          const element = document.querySelector('#df-3fdabcba-c660-4cb2-bfe6-01c912d39b59');\n",
              "          const dataTable =\n",
              "            await google.colab.kernel.invokeFunction('convertToInteractive',\n",
              "                                                     [key], {});\n",
              "          if (!dataTable) return;\n",
              "\n",
              "          const docLinkHtml = 'Like what you see? Visit the ' +\n",
              "            '<a target=\"_blank\" href=https://colab.research.google.com/notebooks/data_table.ipynb>data table notebook</a>'\n",
              "            + ' to learn more about interactive tables.';\n",
              "          element.innerHTML = '';\n",
              "          dataTable['output_type'] = 'display_data';\n",
              "          await google.colab.output.renderOutput(dataTable, element);\n",
              "          const docLink = document.createElement('div');\n",
              "          docLink.innerHTML = docLinkHtml;\n",
              "          element.appendChild(docLink);\n",
              "        }\n",
              "      </script>\n",
              "    </div>\n",
              "  </div>\n",
              "  "
            ]
          },
          "metadata": {},
          "execution_count": 15
        }
      ],
      "source": [
        "# напишите запрос\n",
        "query = '''\n",
        "WITH lol as (SELECT DISTINCT EXTRACT(month from date_trunc('month', p.creation_date)::date) as creation_month,\n",
        "       COUNT(p.id) OVER (PARTITION BY DATE_TRUNC('month', p.creation_date)::date) as posts_count\n",
        "FROM stackoverflow.posts p\n",
        "WHERE p.creation_date::date between '2008-09-01' and '2008-12-31'),\n",
        "apk as (SELECT lol.creation_month,\n",
        "       lol.posts_count,\n",
        "       lag(lol.posts_count) OVER () AS prv\n",
        "FROM lol)\n",
        "\n",
        "SELECT apk.creation_month, apk.posts_count, ROUND(((apk.posts_count::numeric/apk.prv::numeric)-1)*100, 2) as percentage\n",
        "FROM apk\n",
        "'''\n",
        "\n",
        "# выполните запрос\n",
        "p_view = pd.read_sql_query(query, con=engine)\n",
        "p_view"
      ]
    },
    {
      "cell_type": "markdown",
      "metadata": {
        "id": "9NQE2y_MDWLP"
      },
      "source": [
        "Постройте круговую диаграмму с количеством постов по месяцам."
      ]
    },
    {
      "cell_type": "code",
      "execution_count": null,
      "metadata": {
        "id": "377ABjiVDWLP",
        "colab": {
          "base_uri": "https://localhost:8080/",
          "height": 517
        },
        "outputId": "c430620a-8e71-41cb-c0df-ba145bfcdc7e"
      },
      "outputs": [
        {
          "output_type": "display_data",
          "data": {
            "text/html": [
              "<html>\n",
              "<head><meta charset=\"utf-8\" /></head>\n",
              "<body>\n",
              "    <div>            <script src=\"https://cdnjs.cloudflare.com/ajax/libs/mathjax/2.7.5/MathJax.js?config=TeX-AMS-MML_SVG\"></script><script type=\"text/javascript\">if (window.MathJax && window.MathJax.Hub && window.MathJax.Hub.Config) {window.MathJax.Hub.Config({SVG: {font: \"STIX-Web\"}});}</script>                <script type=\"text/javascript\">window.PlotlyConfig = {MathJaxConfig: 'local'};</script>\n",
              "        <script src=\"https://cdn.plot.ly/plotly-2.18.2.min.js\"></script>                <div id=\"85bb9954-7b32-4775-a672-7bae2c508981\" class=\"plotly-graph-div\" style=\"height:500px; width:700px;\"></div>            <script type=\"text/javascript\">                                    window.PLOTLYENV=window.PLOTLYENV || {};                                    if (document.getElementById(\"85bb9954-7b32-4775-a672-7bae2c508981\")) {                    Plotly.newPlot(                        \"85bb9954-7b32-4775-a672-7bae2c508981\",                        [{\"hoverinfo\":\"label+percent\",\"labels\":[9.0,10.0,11.0,12.0],\"text\":[\"70371\",\"63102\",\"46975\",\"44592\"],\"textinfo\":\"label+text\",\"values\":[70371,63102,46975,44592],\"type\":\"pie\"}],                        {\"template\":{\"data\":{\"histogram2dcontour\":[{\"type\":\"histogram2dcontour\",\"colorbar\":{\"outlinewidth\":0,\"ticks\":\"\"},\"colorscale\":[[0.0,\"#0d0887\"],[0.1111111111111111,\"#46039f\"],[0.2222222222222222,\"#7201a8\"],[0.3333333333333333,\"#9c179e\"],[0.4444444444444444,\"#bd3786\"],[0.5555555555555556,\"#d8576b\"],[0.6666666666666666,\"#ed7953\"],[0.7777777777777778,\"#fb9f3a\"],[0.8888888888888888,\"#fdca26\"],[1.0,\"#f0f921\"]]}],\"choropleth\":[{\"type\":\"choropleth\",\"colorbar\":{\"outlinewidth\":0,\"ticks\":\"\"}}],\"histogram2d\":[{\"type\":\"histogram2d\",\"colorbar\":{\"outlinewidth\":0,\"ticks\":\"\"},\"colorscale\":[[0.0,\"#0d0887\"],[0.1111111111111111,\"#46039f\"],[0.2222222222222222,\"#7201a8\"],[0.3333333333333333,\"#9c179e\"],[0.4444444444444444,\"#bd3786\"],[0.5555555555555556,\"#d8576b\"],[0.6666666666666666,\"#ed7953\"],[0.7777777777777778,\"#fb9f3a\"],[0.8888888888888888,\"#fdca26\"],[1.0,\"#f0f921\"]]}],\"heatmap\":[{\"type\":\"heatmap\",\"colorbar\":{\"outlinewidth\":0,\"ticks\":\"\"},\"colorscale\":[[0.0,\"#0d0887\"],[0.1111111111111111,\"#46039f\"],[0.2222222222222222,\"#7201a8\"],[0.3333333333333333,\"#9c179e\"],[0.4444444444444444,\"#bd3786\"],[0.5555555555555556,\"#d8576b\"],[0.6666666666666666,\"#ed7953\"],[0.7777777777777778,\"#fb9f3a\"],[0.8888888888888888,\"#fdca26\"],[1.0,\"#f0f921\"]]}],\"heatmapgl\":[{\"type\":\"heatmapgl\",\"colorbar\":{\"outlinewidth\":0,\"ticks\":\"\"},\"colorscale\":[[0.0,\"#0d0887\"],[0.1111111111111111,\"#46039f\"],[0.2222222222222222,\"#7201a8\"],[0.3333333333333333,\"#9c179e\"],[0.4444444444444444,\"#bd3786\"],[0.5555555555555556,\"#d8576b\"],[0.6666666666666666,\"#ed7953\"],[0.7777777777777778,\"#fb9f3a\"],[0.8888888888888888,\"#fdca26\"],[1.0,\"#f0f921\"]]}],\"contourcarpet\":[{\"type\":\"contourcarpet\",\"colorbar\":{\"outlinewidth\":0,\"ticks\":\"\"}}],\"contour\":[{\"type\":\"contour\",\"colorbar\":{\"outlinewidth\":0,\"ticks\":\"\"},\"colorscale\":[[0.0,\"#0d0887\"],[0.1111111111111111,\"#46039f\"],[0.2222222222222222,\"#7201a8\"],[0.3333333333333333,\"#9c179e\"],[0.4444444444444444,\"#bd3786\"],[0.5555555555555556,\"#d8576b\"],[0.6666666666666666,\"#ed7953\"],[0.7777777777777778,\"#fb9f3a\"],[0.8888888888888888,\"#fdca26\"],[1.0,\"#f0f921\"]]}],\"surface\":[{\"type\":\"surface\",\"colorbar\":{\"outlinewidth\":0,\"ticks\":\"\"},\"colorscale\":[[0.0,\"#0d0887\"],[0.1111111111111111,\"#46039f\"],[0.2222222222222222,\"#7201a8\"],[0.3333333333333333,\"#9c179e\"],[0.4444444444444444,\"#bd3786\"],[0.5555555555555556,\"#d8576b\"],[0.6666666666666666,\"#ed7953\"],[0.7777777777777778,\"#fb9f3a\"],[0.8888888888888888,\"#fdca26\"],[1.0,\"#f0f921\"]]}],\"mesh3d\":[{\"type\":\"mesh3d\",\"colorbar\":{\"outlinewidth\":0,\"ticks\":\"\"}}],\"scatter\":[{\"fillpattern\":{\"fillmode\":\"overlay\",\"size\":10,\"solidity\":0.2},\"type\":\"scatter\"}],\"parcoords\":[{\"type\":\"parcoords\",\"line\":{\"colorbar\":{\"outlinewidth\":0,\"ticks\":\"\"}}}],\"scatterpolargl\":[{\"type\":\"scatterpolargl\",\"marker\":{\"colorbar\":{\"outlinewidth\":0,\"ticks\":\"\"}}}],\"bar\":[{\"error_x\":{\"color\":\"#2a3f5f\"},\"error_y\":{\"color\":\"#2a3f5f\"},\"marker\":{\"line\":{\"color\":\"#E5ECF6\",\"width\":0.5},\"pattern\":{\"fillmode\":\"overlay\",\"size\":10,\"solidity\":0.2}},\"type\":\"bar\"}],\"scattergeo\":[{\"type\":\"scattergeo\",\"marker\":{\"colorbar\":{\"outlinewidth\":0,\"ticks\":\"\"}}}],\"scatterpolar\":[{\"type\":\"scatterpolar\",\"marker\":{\"colorbar\":{\"outlinewidth\":0,\"ticks\":\"\"}}}],\"histogram\":[{\"marker\":{\"pattern\":{\"fillmode\":\"overlay\",\"size\":10,\"solidity\":0.2}},\"type\":\"histogram\"}],\"scattergl\":[{\"type\":\"scattergl\",\"marker\":{\"colorbar\":{\"outlinewidth\":0,\"ticks\":\"\"}}}],\"scatter3d\":[{\"type\":\"scatter3d\",\"line\":{\"colorbar\":{\"outlinewidth\":0,\"ticks\":\"\"}},\"marker\":{\"colorbar\":{\"outlinewidth\":0,\"ticks\":\"\"}}}],\"scattermapbox\":[{\"type\":\"scattermapbox\",\"marker\":{\"colorbar\":{\"outlinewidth\":0,\"ticks\":\"\"}}}],\"scatterternary\":[{\"type\":\"scatterternary\",\"marker\":{\"colorbar\":{\"outlinewidth\":0,\"ticks\":\"\"}}}],\"scattercarpet\":[{\"type\":\"scattercarpet\",\"marker\":{\"colorbar\":{\"outlinewidth\":0,\"ticks\":\"\"}}}],\"carpet\":[{\"aaxis\":{\"endlinecolor\":\"#2a3f5f\",\"gridcolor\":\"white\",\"linecolor\":\"white\",\"minorgridcolor\":\"white\",\"startlinecolor\":\"#2a3f5f\"},\"baxis\":{\"endlinecolor\":\"#2a3f5f\",\"gridcolor\":\"white\",\"linecolor\":\"white\",\"minorgridcolor\":\"white\",\"startlinecolor\":\"#2a3f5f\"},\"type\":\"carpet\"}],\"table\":[{\"cells\":{\"fill\":{\"color\":\"#EBF0F8\"},\"line\":{\"color\":\"white\"}},\"header\":{\"fill\":{\"color\":\"#C8D4E3\"},\"line\":{\"color\":\"white\"}},\"type\":\"table\"}],\"barpolar\":[{\"marker\":{\"line\":{\"color\":\"#E5ECF6\",\"width\":0.5},\"pattern\":{\"fillmode\":\"overlay\",\"size\":10,\"solidity\":0.2}},\"type\":\"barpolar\"}],\"pie\":[{\"automargin\":true,\"type\":\"pie\"}]},\"layout\":{\"autotypenumbers\":\"strict\",\"colorway\":[\"#636efa\",\"#EF553B\",\"#00cc96\",\"#ab63fa\",\"#FFA15A\",\"#19d3f3\",\"#FF6692\",\"#B6E880\",\"#FF97FF\",\"#FECB52\"],\"font\":{\"color\":\"#2a3f5f\"},\"hovermode\":\"closest\",\"hoverlabel\":{\"align\":\"left\"},\"paper_bgcolor\":\"white\",\"plot_bgcolor\":\"#E5ECF6\",\"polar\":{\"bgcolor\":\"#E5ECF6\",\"angularaxis\":{\"gridcolor\":\"white\",\"linecolor\":\"white\",\"ticks\":\"\"},\"radialaxis\":{\"gridcolor\":\"white\",\"linecolor\":\"white\",\"ticks\":\"\"}},\"ternary\":{\"bgcolor\":\"#E5ECF6\",\"aaxis\":{\"gridcolor\":\"white\",\"linecolor\":\"white\",\"ticks\":\"\"},\"baxis\":{\"gridcolor\":\"white\",\"linecolor\":\"white\",\"ticks\":\"\"},\"caxis\":{\"gridcolor\":\"white\",\"linecolor\":\"white\",\"ticks\":\"\"}},\"coloraxis\":{\"colorbar\":{\"outlinewidth\":0,\"ticks\":\"\"}},\"colorscale\":{\"sequential\":[[0.0,\"#0d0887\"],[0.1111111111111111,\"#46039f\"],[0.2222222222222222,\"#7201a8\"],[0.3333333333333333,\"#9c179e\"],[0.4444444444444444,\"#bd3786\"],[0.5555555555555556,\"#d8576b\"],[0.6666666666666666,\"#ed7953\"],[0.7777777777777778,\"#fb9f3a\"],[0.8888888888888888,\"#fdca26\"],[1.0,\"#f0f921\"]],\"sequentialminus\":[[0.0,\"#0d0887\"],[0.1111111111111111,\"#46039f\"],[0.2222222222222222,\"#7201a8\"],[0.3333333333333333,\"#9c179e\"],[0.4444444444444444,\"#bd3786\"],[0.5555555555555556,\"#d8576b\"],[0.6666666666666666,\"#ed7953\"],[0.7777777777777778,\"#fb9f3a\"],[0.8888888888888888,\"#fdca26\"],[1.0,\"#f0f921\"]],\"diverging\":[[0,\"#8e0152\"],[0.1,\"#c51b7d\"],[0.2,\"#de77ae\"],[0.3,\"#f1b6da\"],[0.4,\"#fde0ef\"],[0.5,\"#f7f7f7\"],[0.6,\"#e6f5d0\"],[0.7,\"#b8e186\"],[0.8,\"#7fbc41\"],[0.9,\"#4d9221\"],[1,\"#276419\"]]},\"xaxis\":{\"gridcolor\":\"white\",\"linecolor\":\"white\",\"ticks\":\"\",\"title\":{\"standoff\":15},\"zerolinecolor\":\"white\",\"automargin\":true,\"zerolinewidth\":2},\"yaxis\":{\"gridcolor\":\"white\",\"linecolor\":\"white\",\"ticks\":\"\",\"title\":{\"standoff\":15},\"zerolinecolor\":\"white\",\"automargin\":true,\"zerolinewidth\":2},\"scene\":{\"xaxis\":{\"backgroundcolor\":\"#E5ECF6\",\"gridcolor\":\"white\",\"linecolor\":\"white\",\"showbackground\":true,\"ticks\":\"\",\"zerolinecolor\":\"white\",\"gridwidth\":2},\"yaxis\":{\"backgroundcolor\":\"#E5ECF6\",\"gridcolor\":\"white\",\"linecolor\":\"white\",\"showbackground\":true,\"ticks\":\"\",\"zerolinecolor\":\"white\",\"gridwidth\":2},\"zaxis\":{\"backgroundcolor\":\"#E5ECF6\",\"gridcolor\":\"white\",\"linecolor\":\"white\",\"showbackground\":true,\"ticks\":\"\",\"zerolinecolor\":\"white\",\"gridwidth\":2}},\"shapedefaults\":{\"line\":{\"color\":\"#2a3f5f\"}},\"annotationdefaults\":{\"arrowcolor\":\"#2a3f5f\",\"arrowhead\":0,\"arrowwidth\":1},\"geo\":{\"bgcolor\":\"white\",\"landcolor\":\"#E5ECF6\",\"subunitcolor\":\"white\",\"showland\":true,\"showlakes\":true,\"lakecolor\":\"white\"},\"title\":{\"x\":0.05},\"mapbox\":{\"style\":\"light\"}}},\"title\":{\"text\":\"\\u041a\\u043e\\u043b\\u0438\\u0447\\u0435\\u0441\\u0442\\u0432\\u043e \\u043f\\u043e\\u0441\\u0442\\u043e\\u0432 \\u043f\\u043e \\u043c\\u0435\\u0441\\u044f\\u0446\\u0430\\u043c\",\"x\":0.5},\"width\":700,\"height\":500,\"showlegend\":true},                        {\"responsive\": true}                    ).then(function(){\n",
              "                            \n",
              "var gd = document.getElementById('85bb9954-7b32-4775-a672-7bae2c508981');\n",
              "var x = new MutationObserver(function (mutations, observer) {{\n",
              "        var display = window.getComputedStyle(gd).display;\n",
              "        if (!display || display === 'none') {{\n",
              "            console.log([gd, 'removed!']);\n",
              "            Plotly.purge(gd);\n",
              "            observer.disconnect();\n",
              "        }}\n",
              "}});\n",
              "\n",
              "// Listen for the removal of the full notebook cells\n",
              "var notebookContainer = gd.closest('#notebook-container');\n",
              "if (notebookContainer) {{\n",
              "    x.observe(notebookContainer, {childList: true});\n",
              "}}\n",
              "\n",
              "// Listen for the clearing of the current output cell\n",
              "var outputEl = gd.closest('.output');\n",
              "if (outputEl) {{\n",
              "    x.observe(outputEl, {childList: true});\n",
              "}}\n",
              "\n",
              "                        })                };                            </script>        </div>\n",
              "</body>\n",
              "</html>"
            ]
          },
          "metadata": {}
        }
      ],
      "source": [
        "# постройте круговую диаграмму с количеством постов по месяцам\n",
        "fig = go.Figure(data=[go.Pie(labels=p_view['creation_month'],\n",
        "                             values=p_view['posts_count'],\n",
        "                             text=p_view['posts_count'].map(\"{:}\".format),\n",
        "                             textinfo='label+text',\n",
        "                             hoverinfo='label+percent')])\n",
        "fig.update_layout(title='Количество постов по месяцам',\n",
        "                  width=700,\n",
        "                  height=500,\n",
        "                 showlegend=True,\n",
        "                 title_x=0.5)\n",
        "fig.show()"
      ]
    },
    {
      "cell_type": "markdown",
      "metadata": {
        "id": "uw7qMtafDWLP"
      },
      "source": [
        "# Задание 10"
      ]
    },
    {
      "cell_type": "markdown",
      "metadata": {
        "id": "oRBpWKx3DWLQ"
      },
      "source": [
        "Выгрузите данные активности пользователя, который опубликовал больше всего постов за всё время. Выведите данные за октябрь 2008 года в таком виде:\n",
        "\n",
        "- номер недели;\n",
        "- дата и время последнего поста, опубликованного на этой неделе."
      ]
    },
    {
      "cell_type": "markdown",
      "metadata": {
        "id": "XjAWSn_3DWLQ"
      },
      "source": [
        "| week_creation | creation_date |\n",
        "| ------------- | ------------- |\n",
        "| 40 | 2008-10-05 09:00:58 |\n",
        "| 41 | 2008-10-12 21:22:23 |\n",
        "| ... | ... |"
      ]
    },
    {
      "cell_type": "code",
      "execution_count": null,
      "metadata": {
        "id": "r5F5fSkwDWLQ",
        "colab": {
          "base_uri": "https://localhost:8080/",
          "height": 206
        },
        "outputId": "b4d507d5-6446-40d1-d966-8206dcb0650b"
      },
      "outputs": [
        {
          "output_type": "execute_result",
          "data": {
            "text/plain": [
              "   week_creation          last_value\n",
              "0           40.0 2008-10-05 09:00:58\n",
              "1           41.0 2008-10-12 21:22:23\n",
              "2           42.0 2008-10-19 06:49:30\n",
              "3           43.0 2008-10-26 21:44:36\n",
              "4           44.0 2008-10-31 22:16:01"
            ],
            "text/html": [
              "\n",
              "  <div id=\"df-29233b2d-faa5-47c4-8547-db704e76d63e\">\n",
              "    <div class=\"colab-df-container\">\n",
              "      <div>\n",
              "<style scoped>\n",
              "    .dataframe tbody tr th:only-of-type {\n",
              "        vertical-align: middle;\n",
              "    }\n",
              "\n",
              "    .dataframe tbody tr th {\n",
              "        vertical-align: top;\n",
              "    }\n",
              "\n",
              "    .dataframe thead th {\n",
              "        text-align: right;\n",
              "    }\n",
              "</style>\n",
              "<table border=\"1\" class=\"dataframe\">\n",
              "  <thead>\n",
              "    <tr style=\"text-align: right;\">\n",
              "      <th></th>\n",
              "      <th>week_creation</th>\n",
              "      <th>last_value</th>\n",
              "    </tr>\n",
              "  </thead>\n",
              "  <tbody>\n",
              "    <tr>\n",
              "      <th>0</th>\n",
              "      <td>40.0</td>\n",
              "      <td>2008-10-05 09:00:58</td>\n",
              "    </tr>\n",
              "    <tr>\n",
              "      <th>1</th>\n",
              "      <td>41.0</td>\n",
              "      <td>2008-10-12 21:22:23</td>\n",
              "    </tr>\n",
              "    <tr>\n",
              "      <th>2</th>\n",
              "      <td>42.0</td>\n",
              "      <td>2008-10-19 06:49:30</td>\n",
              "    </tr>\n",
              "    <tr>\n",
              "      <th>3</th>\n",
              "      <td>43.0</td>\n",
              "      <td>2008-10-26 21:44:36</td>\n",
              "    </tr>\n",
              "    <tr>\n",
              "      <th>4</th>\n",
              "      <td>44.0</td>\n",
              "      <td>2008-10-31 22:16:01</td>\n",
              "    </tr>\n",
              "  </tbody>\n",
              "</table>\n",
              "</div>\n",
              "      <button class=\"colab-df-convert\" onclick=\"convertToInteractive('df-29233b2d-faa5-47c4-8547-db704e76d63e')\"\n",
              "              title=\"Convert this dataframe to an interactive table.\"\n",
              "              style=\"display:none;\">\n",
              "        \n",
              "  <svg xmlns=\"http://www.w3.org/2000/svg\" height=\"24px\"viewBox=\"0 0 24 24\"\n",
              "       width=\"24px\">\n",
              "    <path d=\"M0 0h24v24H0V0z\" fill=\"none\"/>\n",
              "    <path d=\"M18.56 5.44l.94 2.06.94-2.06 2.06-.94-2.06-.94-.94-2.06-.94 2.06-2.06.94zm-11 1L8.5 8.5l.94-2.06 2.06-.94-2.06-.94L8.5 2.5l-.94 2.06-2.06.94zm10 10l.94 2.06.94-2.06 2.06-.94-2.06-.94-.94-2.06-.94 2.06-2.06.94z\"/><path d=\"M17.41 7.96l-1.37-1.37c-.4-.4-.92-.59-1.43-.59-.52 0-1.04.2-1.43.59L10.3 9.45l-7.72 7.72c-.78.78-.78 2.05 0 2.83L4 21.41c.39.39.9.59 1.41.59.51 0 1.02-.2 1.41-.59l7.78-7.78 2.81-2.81c.8-.78.8-2.07 0-2.86zM5.41 20L4 18.59l7.72-7.72 1.47 1.35L5.41 20z\"/>\n",
              "  </svg>\n",
              "      </button>\n",
              "      \n",
              "  <style>\n",
              "    .colab-df-container {\n",
              "      display:flex;\n",
              "      flex-wrap:wrap;\n",
              "      gap: 12px;\n",
              "    }\n",
              "\n",
              "    .colab-df-convert {\n",
              "      background-color: #E8F0FE;\n",
              "      border: none;\n",
              "      border-radius: 50%;\n",
              "      cursor: pointer;\n",
              "      display: none;\n",
              "      fill: #1967D2;\n",
              "      height: 32px;\n",
              "      padding: 0 0 0 0;\n",
              "      width: 32px;\n",
              "    }\n",
              "\n",
              "    .colab-df-convert:hover {\n",
              "      background-color: #E2EBFA;\n",
              "      box-shadow: 0px 1px 2px rgba(60, 64, 67, 0.3), 0px 1px 3px 1px rgba(60, 64, 67, 0.15);\n",
              "      fill: #174EA6;\n",
              "    }\n",
              "\n",
              "    [theme=dark] .colab-df-convert {\n",
              "      background-color: #3B4455;\n",
              "      fill: #D2E3FC;\n",
              "    }\n",
              "\n",
              "    [theme=dark] .colab-df-convert:hover {\n",
              "      background-color: #434B5C;\n",
              "      box-shadow: 0px 1px 3px 1px rgba(0, 0, 0, 0.15);\n",
              "      filter: drop-shadow(0px 1px 2px rgba(0, 0, 0, 0.3));\n",
              "      fill: #FFFFFF;\n",
              "    }\n",
              "  </style>\n",
              "\n",
              "      <script>\n",
              "        const buttonEl =\n",
              "          document.querySelector('#df-29233b2d-faa5-47c4-8547-db704e76d63e button.colab-df-convert');\n",
              "        buttonEl.style.display =\n",
              "          google.colab.kernel.accessAllowed ? 'block' : 'none';\n",
              "\n",
              "        async function convertToInteractive(key) {\n",
              "          const element = document.querySelector('#df-29233b2d-faa5-47c4-8547-db704e76d63e');\n",
              "          const dataTable =\n",
              "            await google.colab.kernel.invokeFunction('convertToInteractive',\n",
              "                                                     [key], {});\n",
              "          if (!dataTable) return;\n",
              "\n",
              "          const docLinkHtml = 'Like what you see? Visit the ' +\n",
              "            '<a target=\"_blank\" href=https://colab.research.google.com/notebooks/data_table.ipynb>data table notebook</a>'\n",
              "            + ' to learn more about interactive tables.';\n",
              "          element.innerHTML = '';\n",
              "          dataTable['output_type'] = 'display_data';\n",
              "          await google.colab.output.renderOutput(dataTable, element);\n",
              "          const docLink = document.createElement('div');\n",
              "          docLink.innerHTML = docLinkHtml;\n",
              "          element.appendChild(docLink);\n",
              "        }\n",
              "      </script>\n",
              "    </div>\n",
              "  </div>\n",
              "  "
            ]
          },
          "metadata": {},
          "execution_count": 17
        }
      ],
      "source": [
        "# напишите запрос\n",
        "query = '''\n",
        "WITH top_user as (SELECT p.user_id as user_id,\n",
        "        COUNT(p.id) as cnt\n",
        "FROM stackoverflow.posts p\n",
        "GROUP BY 1\n",
        "ORDER BY 2 dESC\n",
        "LIMIT 1),\n",
        "\n",
        "october_activ as (\n",
        "SELECT extract('week' from date_trunc('week', p.creation_date)) as week_creation,\n",
        "       p.creation_date\n",
        "FROM stackoverflow.posts p\n",
        "WHERE p.user_id in (select top_user.user_id from top_user)\n",
        "and p.creation_date between '2008-10-01 00:00:00' and '2008-10-31 23:59:59')\n",
        "\n",
        "select DISTINCT october_activ.week_creation, \n",
        "        LAST_value(october_activ.creation_date) OVER (PARTITION BY october_activ.week_creation)\n",
        "from october_activ\n",
        "ORDER BY october_activ.week_creation\n",
        "\n",
        "'''\n",
        "\n",
        "# выполните запрос\n",
        "week_actitvy = pd.read_sql_query(query, con=engine)\n",
        "week_actitvy"
      ]
    }
  ],
  "metadata": {
    "ExecuteTimeLog": [
      {
        "duration": 54,
        "start_time": "2023-03-14T19:26:09.392Z"
      },
      {
        "duration": 954,
        "start_time": "2023-03-14T19:26:18.438Z"
      },
      {
        "duration": 3,
        "start_time": "2023-03-14T19:26:19.395Z"
      },
      {
        "duration": 8527,
        "start_time": "2023-03-14T19:26:19.400Z"
      },
      {
        "duration": 195,
        "start_time": "2023-03-14T19:26:27.929Z"
      },
      {
        "duration": 18,
        "start_time": "2023-03-14T19:26:28.125Z"
      },
      {
        "duration": 133,
        "start_time": "2023-03-14T19:26:35.582Z"
      },
      {
        "duration": 121,
        "start_time": "2023-03-14T19:26:42.014Z"
      },
      {
        "duration": 171,
        "start_time": "2023-03-14T19:29:48.055Z"
      },
      {
        "duration": 97,
        "start_time": "2023-03-14T19:31:38.660Z"
      },
      {
        "duration": 93,
        "start_time": "2023-03-14T19:32:14.197Z"
      },
      {
        "duration": 111,
        "start_time": "2023-03-14T19:32:22.158Z"
      },
      {
        "duration": 1873,
        "start_time": "2023-03-14T19:36:47.518Z"
      },
      {
        "duration": 515,
        "start_time": "2023-03-14T19:38:15.524Z"
      },
      {
        "duration": 197,
        "start_time": "2023-03-14T19:39:00.677Z"
      },
      {
        "duration": 538,
        "start_time": "2023-03-14T19:39:19.236Z"
      },
      {
        "duration": 933,
        "start_time": "2023-03-19T04:33:36.471Z"
      },
      {
        "duration": 4,
        "start_time": "2023-03-19T04:33:37.406Z"
      },
      {
        "duration": 11740,
        "start_time": "2023-03-19T04:33:37.411Z"
      },
      {
        "duration": 317,
        "start_time": "2023-03-19T04:33:49.153Z"
      },
      {
        "duration": 27,
        "start_time": "2023-03-19T04:33:49.472Z"
      },
      {
        "duration": 179,
        "start_time": "2023-03-19T04:33:49.501Z"
      },
      {
        "duration": 4,
        "start_time": "2023-03-19T04:33:49.697Z"
      },
      {
        "duration": 228,
        "start_time": "2023-03-19T04:33:49.703Z"
      },
      {
        "duration": 3,
        "start_time": "2023-03-19T04:33:49.933Z"
      },
      {
        "duration": 8,
        "start_time": "2023-03-19T04:33:49.940Z"
      },
      {
        "duration": 9,
        "start_time": "2023-03-19T04:33:49.950Z"
      },
      {
        "duration": 7,
        "start_time": "2023-03-19T04:33:49.961Z"
      },
      {
        "duration": 150,
        "start_time": "2023-03-19T04:33:49.969Z"
      },
      {
        "duration": 4,
        "start_time": "2023-03-19T04:33:50.120Z"
      },
      {
        "duration": 20,
        "start_time": "2023-03-19T04:33:50.126Z"
      },
      {
        "duration": 1385,
        "start_time": "2023-03-19T04:33:50.148Z"
      },
      {
        "duration": 534,
        "start_time": "2023-03-19T04:33:51.534Z"
      },
      {
        "duration": 2,
        "start_time": "2023-03-19T04:33:52.071Z"
      },
      {
        "duration": 14,
        "start_time": "2023-03-19T04:33:52.075Z"
      },
      {
        "duration": 46,
        "start_time": "2023-03-19T04:33:52.090Z"
      },
      {
        "duration": 18,
        "start_time": "2023-03-19T04:33:52.138Z"
      },
      {
        "duration": 15,
        "start_time": "2023-03-19T04:33:52.158Z"
      },
      {
        "duration": 181,
        "start_time": "2023-03-19T04:35:54.369Z"
      },
      {
        "duration": 109,
        "start_time": "2023-03-19T04:53:23.836Z"
      },
      {
        "duration": 215,
        "start_time": "2023-03-19T04:59:03.929Z"
      },
      {
        "duration": 178,
        "start_time": "2023-03-19T05:00:29.979Z"
      },
      {
        "duration": 146,
        "start_time": "2023-03-19T05:01:05.106Z"
      },
      {
        "duration": 173,
        "start_time": "2023-03-19T05:02:28.761Z"
      },
      {
        "duration": 146,
        "start_time": "2023-03-19T05:02:53.911Z"
      },
      {
        "duration": 146,
        "start_time": "2023-03-19T05:03:53.304Z"
      },
      {
        "duration": 232,
        "start_time": "2023-03-19T05:04:07.210Z"
      },
      {
        "duration": 165,
        "start_time": "2023-03-19T05:04:25.655Z"
      },
      {
        "duration": 151,
        "start_time": "2023-03-19T05:04:27.972Z"
      },
      {
        "duration": 174,
        "start_time": "2023-03-19T05:06:19.140Z"
      },
      {
        "duration": 180,
        "start_time": "2023-03-19T05:06:42.468Z"
      },
      {
        "duration": 118,
        "start_time": "2023-03-19T05:07:13.206Z"
      },
      {
        "duration": 164,
        "start_time": "2023-03-19T05:07:40.485Z"
      },
      {
        "duration": 70,
        "start_time": "2023-03-19T05:07:48.144Z"
      },
      {
        "duration": 159,
        "start_time": "2023-03-19T05:10:23.374Z"
      },
      {
        "duration": 92,
        "start_time": "2023-03-19T05:10:30.366Z"
      },
      {
        "duration": 189,
        "start_time": "2023-03-19T05:10:50.627Z"
      },
      {
        "duration": 153,
        "start_time": "2023-03-19T05:10:59.060Z"
      },
      {
        "duration": 1573,
        "start_time": "2023-03-19T05:11:09.542Z"
      },
      {
        "duration": 1687,
        "start_time": "2023-03-19T05:11:23.749Z"
      },
      {
        "duration": 166,
        "start_time": "2023-03-19T05:11:30.233Z"
      },
      {
        "duration": 1562,
        "start_time": "2023-03-19T05:11:36.644Z"
      },
      {
        "duration": 145,
        "start_time": "2023-03-19T05:13:56.410Z"
      },
      {
        "duration": 176,
        "start_time": "2023-03-19T05:14:04.455Z"
      },
      {
        "duration": 98,
        "start_time": "2023-03-19T05:14:13.829Z"
      },
      {
        "duration": 149,
        "start_time": "2023-03-19T05:15:12.613Z"
      },
      {
        "duration": 92,
        "start_time": "2023-03-19T05:15:25.851Z"
      },
      {
        "duration": 96,
        "start_time": "2023-03-19T05:17:35.352Z"
      },
      {
        "duration": 95,
        "start_time": "2023-03-19T05:17:46.563Z"
      },
      {
        "duration": 132,
        "start_time": "2023-03-19T05:18:17.029Z"
      },
      {
        "duration": 147,
        "start_time": "2023-03-19T05:18:34.987Z"
      },
      {
        "duration": 137,
        "start_time": "2023-03-19T05:18:44.305Z"
      },
      {
        "duration": 102,
        "start_time": "2023-03-19T05:18:58.415Z"
      },
      {
        "duration": 175,
        "start_time": "2023-03-19T05:19:05.960Z"
      },
      {
        "duration": 148,
        "start_time": "2023-03-19T05:19:10.004Z"
      },
      {
        "duration": 148,
        "start_time": "2023-03-19T05:19:18.148Z"
      },
      {
        "duration": 116,
        "start_time": "2023-03-19T05:19:20.922Z"
      },
      {
        "duration": 175,
        "start_time": "2023-03-19T05:21:46.994Z"
      },
      {
        "duration": 187,
        "start_time": "2023-03-19T05:21:52.770Z"
      },
      {
        "duration": 156,
        "start_time": "2023-03-19T05:22:00.618Z"
      },
      {
        "duration": 1466,
        "start_time": "2023-03-19T05:22:08.804Z"
      },
      {
        "duration": 171,
        "start_time": "2023-03-19T05:22:14.904Z"
      },
      {
        "duration": 1641,
        "start_time": "2023-03-19T05:22:18.622Z"
      },
      {
        "duration": 1583,
        "start_time": "2023-03-19T05:22:23.766Z"
      },
      {
        "duration": 2298,
        "start_time": "2023-03-19T05:22:35.033Z"
      },
      {
        "duration": 1493,
        "start_time": "2023-03-19T05:22:46.941Z"
      },
      {
        "duration": 143,
        "start_time": "2023-03-19T05:22:53.713Z"
      },
      {
        "duration": 1511,
        "start_time": "2023-03-19T05:23:23.124Z"
      },
      {
        "duration": 7,
        "start_time": "2023-03-19T05:26:01.412Z"
      },
      {
        "duration": 164,
        "start_time": "2023-03-19T05:26:20.331Z"
      },
      {
        "duration": 1107,
        "start_time": "2023-03-19T05:26:28.114Z"
      },
      {
        "duration": 201,
        "start_time": "2023-03-19T05:26:45.651Z"
      },
      {
        "duration": 992,
        "start_time": "2023-03-19T05:26:52.127Z"
      },
      {
        "duration": 1269,
        "start_time": "2023-03-19T05:27:18.668Z"
      },
      {
        "duration": 1282,
        "start_time": "2023-03-19T05:27:44.573Z"
      },
      {
        "duration": 1282,
        "start_time": "2023-03-19T05:27:58.855Z"
      },
      {
        "duration": 1247,
        "start_time": "2023-03-19T05:28:19.331Z"
      },
      {
        "duration": 1335,
        "start_time": "2023-03-19T05:28:41.661Z"
      },
      {
        "duration": 1238,
        "start_time": "2023-03-19T05:28:49.007Z"
      },
      {
        "duration": 1299,
        "start_time": "2023-03-19T05:29:04.010Z"
      },
      {
        "duration": 1481,
        "start_time": "2023-03-19T05:29:10.639Z"
      },
      {
        "duration": 172,
        "start_time": "2023-03-19T05:29:18.146Z"
      },
      {
        "duration": 1200,
        "start_time": "2023-03-19T05:29:20.297Z"
      },
      {
        "duration": 3,
        "start_time": "2023-03-19T05:41:33.326Z"
      },
      {
        "duration": 300,
        "start_time": "2023-03-19T05:41:49.378Z"
      },
      {
        "duration": 274,
        "start_time": "2023-03-19T05:41:56.454Z"
      },
      {
        "duration": 248,
        "start_time": "2023-03-19T05:42:02.342Z"
      },
      {
        "duration": 232,
        "start_time": "2023-03-19T05:42:11.171Z"
      },
      {
        "duration": 90,
        "start_time": "2023-03-19T05:43:42.207Z"
      },
      {
        "duration": 83,
        "start_time": "2023-03-19T05:43:53.373Z"
      },
      {
        "duration": 84,
        "start_time": "2023-03-19T05:43:59.274Z"
      },
      {
        "duration": 204,
        "start_time": "2023-03-19T05:44:09.357Z"
      },
      {
        "duration": 99,
        "start_time": "2023-03-19T05:44:15.067Z"
      },
      {
        "duration": 92,
        "start_time": "2023-03-19T05:44:19.971Z"
      },
      {
        "duration": 270,
        "start_time": "2023-03-19T06:45:38.777Z"
      },
      {
        "duration": 282,
        "start_time": "2023-03-19T06:46:33.834Z"
      },
      {
        "duration": 170,
        "start_time": "2023-03-19T06:52:26.499Z"
      },
      {
        "duration": 163,
        "start_time": "2023-03-19T06:53:55.900Z"
      },
      {
        "duration": 136,
        "start_time": "2023-03-19T06:54:01.528Z"
      },
      {
        "duration": 129,
        "start_time": "2023-03-19T06:54:03.906Z"
      },
      {
        "duration": 151,
        "start_time": "2023-03-19T06:54:18.563Z"
      },
      {
        "duration": 199,
        "start_time": "2023-03-19T06:54:29.970Z"
      },
      {
        "duration": 207,
        "start_time": "2023-03-19T06:54:45.043Z"
      },
      {
        "duration": 259,
        "start_time": "2023-03-19T06:54:51.407Z"
      },
      {
        "duration": 256,
        "start_time": "2023-03-19T06:55:10.699Z"
      },
      {
        "duration": 259,
        "start_time": "2023-03-19T06:55:23.713Z"
      },
      {
        "duration": 256,
        "start_time": "2023-03-19T06:55:42.108Z"
      },
      {
        "duration": 270,
        "start_time": "2023-03-19T06:56:00.957Z"
      },
      {
        "duration": 255,
        "start_time": "2023-03-19T06:57:18.605Z"
      },
      {
        "duration": 294,
        "start_time": "2023-03-19T06:57:31.407Z"
      },
      {
        "duration": 277,
        "start_time": "2023-03-19T06:57:37.949Z"
      },
      {
        "duration": 277,
        "start_time": "2023-03-19T06:57:47.249Z"
      },
      {
        "duration": 260,
        "start_time": "2023-03-19T06:58:03.606Z"
      },
      {
        "duration": 272,
        "start_time": "2023-03-19T06:58:47.353Z"
      },
      {
        "duration": 257,
        "start_time": "2023-03-19T06:58:54.005Z"
      },
      {
        "duration": 224,
        "start_time": "2023-03-19T06:59:11.161Z"
      },
      {
        "duration": 192,
        "start_time": "2023-03-19T07:00:13.611Z"
      },
      {
        "duration": 166,
        "start_time": "2023-03-19T07:00:48.602Z"
      },
      {
        "duration": 223,
        "start_time": "2023-03-19T07:00:59.998Z"
      },
      {
        "duration": 185,
        "start_time": "2023-03-19T07:02:35.267Z"
      },
      {
        "duration": 3672,
        "start_time": "2023-03-19T07:02:42.492Z"
      },
      {
        "duration": 262,
        "start_time": "2023-03-19T07:05:38.241Z"
      },
      {
        "duration": 262,
        "start_time": "2023-03-19T07:06:25.831Z"
      },
      {
        "duration": 261,
        "start_time": "2023-03-19T07:07:32.909Z"
      },
      {
        "duration": 245,
        "start_time": "2023-03-19T07:08:32.407Z"
      },
      {
        "duration": 297,
        "start_time": "2023-03-19T07:08:38.081Z"
      },
      {
        "duration": 174,
        "start_time": "2023-03-19T07:09:00.435Z"
      },
      {
        "duration": 178,
        "start_time": "2023-03-19T07:09:07.514Z"
      },
      {
        "duration": 255,
        "start_time": "2023-03-19T07:09:23.907Z"
      },
      {
        "duration": 262,
        "start_time": "2023-03-19T07:09:54.313Z"
      },
      {
        "duration": 145,
        "start_time": "2023-03-19T07:10:36.333Z"
      },
      {
        "duration": 278,
        "start_time": "2023-03-19T07:11:10.349Z"
      },
      {
        "duration": 292,
        "start_time": "2023-03-19T07:11:30.033Z"
      },
      {
        "duration": 283,
        "start_time": "2023-03-19T07:12:01.682Z"
      },
      {
        "duration": 266,
        "start_time": "2023-03-19T07:24:04.169Z"
      },
      {
        "duration": 287,
        "start_time": "2023-03-19T07:24:15.861Z"
      },
      {
        "duration": 152,
        "start_time": "2023-03-19T07:26:27.218Z"
      },
      {
        "duration": 166,
        "start_time": "2023-03-19T07:26:30.706Z"
      },
      {
        "duration": 210,
        "start_time": "2023-03-19T07:26:34.522Z"
      },
      {
        "duration": 162,
        "start_time": "2023-03-19T07:26:58.203Z"
      },
      {
        "duration": 311,
        "start_time": "2023-03-19T07:27:07.633Z"
      },
      {
        "duration": 268,
        "start_time": "2023-03-19T07:27:10.375Z"
      },
      {
        "duration": 272,
        "start_time": "2023-03-19T07:27:23.674Z"
      },
      {
        "duration": 252,
        "start_time": "2023-03-19T07:27:42.221Z"
      },
      {
        "duration": 251,
        "start_time": "2023-03-19T07:27:57.412Z"
      },
      {
        "duration": 189,
        "start_time": "2023-03-19T07:28:14.770Z"
      },
      {
        "duration": 254,
        "start_time": "2023-03-19T07:28:21.602Z"
      },
      {
        "duration": 3,
        "start_time": "2023-03-19T07:34:07.318Z"
      },
      {
        "duration": 17,
        "start_time": "2023-03-19T07:34:10.926Z"
      },
      {
        "duration": 525,
        "start_time": "2023-03-19T08:19:11.122Z"
      },
      {
        "duration": 74,
        "start_time": "2023-03-19T08:19:18.562Z"
      },
      {
        "duration": 9,
        "start_time": "2023-03-19T08:20:33.410Z"
      },
      {
        "duration": 20,
        "start_time": "2023-03-19T08:20:43.501Z"
      },
      {
        "duration": 16,
        "start_time": "2023-03-19T08:20:54.535Z"
      },
      {
        "duration": 20,
        "start_time": "2023-03-19T08:21:12.422Z"
      },
      {
        "duration": 51,
        "start_time": "2023-03-19T08:21:15.958Z"
      },
      {
        "duration": 293,
        "start_time": "2023-03-19T08:21:53.940Z"
      },
      {
        "duration": 18,
        "start_time": "2023-03-19T08:21:57.341Z"
      },
      {
        "duration": 150,
        "start_time": "2023-03-19T08:22:15.156Z"
      },
      {
        "duration": 361,
        "start_time": "2023-03-19T08:22:21.534Z"
      },
      {
        "duration": 16,
        "start_time": "2023-03-19T08:23:21.354Z"
      },
      {
        "duration": 1695,
        "start_time": "2023-03-19T08:23:28.151Z"
      },
      {
        "duration": 14,
        "start_time": "2023-03-19T08:23:40.639Z"
      },
      {
        "duration": 29,
        "start_time": "2023-03-19T08:23:47.176Z"
      },
      {
        "duration": 11,
        "start_time": "2023-03-19T08:24:19.718Z"
      },
      {
        "duration": 14,
        "start_time": "2023-03-19T08:24:22.445Z"
      },
      {
        "duration": 14,
        "start_time": "2023-03-19T08:24:29.147Z"
      },
      {
        "duration": 432,
        "start_time": "2023-03-19T08:24:34.523Z"
      },
      {
        "duration": 418,
        "start_time": "2023-03-19T08:24:40.320Z"
      },
      {
        "duration": 12,
        "start_time": "2023-03-19T08:24:43.135Z"
      },
      {
        "duration": 20,
        "start_time": "2023-03-19T08:24:56.534Z"
      },
      {
        "duration": 31,
        "start_time": "2023-03-19T08:25:41.522Z"
      },
      {
        "duration": 14,
        "start_time": "2023-03-19T08:26:12.319Z"
      },
      {
        "duration": 2183,
        "start_time": "2023-03-19T08:26:39.456Z"
      },
      {
        "duration": 14,
        "start_time": "2023-03-19T08:31:31.539Z"
      },
      {
        "duration": 11,
        "start_time": "2023-03-19T08:32:11.910Z"
      },
      {
        "duration": 35,
        "start_time": "2023-03-19T08:32:20.468Z"
      },
      {
        "duration": 27,
        "start_time": "2023-03-19T08:33:11.971Z"
      },
      {
        "duration": 600,
        "start_time": "2023-03-19T08:33:26.455Z"
      },
      {
        "duration": 10,
        "start_time": "2023-03-19T08:34:00.144Z"
      },
      {
        "duration": 19,
        "start_time": "2023-03-19T08:34:02.549Z"
      },
      {
        "duration": 198,
        "start_time": "2023-03-19T08:35:20.239Z"
      },
      {
        "duration": 11,
        "start_time": "2023-03-19T08:35:53.098Z"
      },
      {
        "duration": 18,
        "start_time": "2023-03-19T08:36:00.722Z"
      },
      {
        "duration": 505,
        "start_time": "2023-03-19T08:37:54.240Z"
      },
      {
        "duration": 454,
        "start_time": "2023-03-19T08:38:35.847Z"
      },
      {
        "duration": 537,
        "start_time": "2023-03-19T08:38:50.615Z"
      },
      {
        "duration": 2,
        "start_time": "2023-03-19T08:50:28.851Z"
      },
      {
        "duration": 241,
        "start_time": "2023-03-19T08:51:11.210Z"
      },
      {
        "duration": 1202,
        "start_time": "2023-03-19T08:51:17.692Z"
      },
      {
        "duration": 210,
        "start_time": "2023-03-19T08:57:19.954Z"
      },
      {
        "duration": 256,
        "start_time": "2023-03-19T08:57:28.073Z"
      },
      {
        "duration": 280,
        "start_time": "2023-03-19T08:57:31.373Z"
      },
      {
        "duration": 340,
        "start_time": "2023-03-19T08:57:33.715Z"
      },
      {
        "duration": 158,
        "start_time": "2023-03-19T08:57:44.699Z"
      },
      {
        "duration": 232,
        "start_time": "2023-03-19T09:04:07.407Z"
      },
      {
        "duration": 215,
        "start_time": "2023-03-19T09:04:48.668Z"
      },
      {
        "duration": 153,
        "start_time": "2023-03-19T09:04:55.241Z"
      },
      {
        "duration": 197,
        "start_time": "2023-03-19T09:05:46.638Z"
      },
      {
        "duration": 147,
        "start_time": "2023-03-19T09:05:58.514Z"
      },
      {
        "duration": 243,
        "start_time": "2023-03-19T09:07:00.565Z"
      },
      {
        "duration": 276,
        "start_time": "2023-03-19T09:07:05.375Z"
      },
      {
        "duration": 203,
        "start_time": "2023-03-19T09:07:17.249Z"
      },
      {
        "duration": 154,
        "start_time": "2023-03-19T09:07:20.632Z"
      },
      {
        "duration": 148,
        "start_time": "2023-03-19T09:07:32.904Z"
      },
      {
        "duration": 175,
        "start_time": "2023-03-19T09:07:55.066Z"
      },
      {
        "duration": 146,
        "start_time": "2023-03-19T09:45:28.867Z"
      },
      {
        "duration": 161,
        "start_time": "2023-03-19T09:46:02.703Z"
      },
      {
        "duration": 3409,
        "start_time": "2023-03-19T09:46:25.102Z"
      },
      {
        "duration": 148,
        "start_time": "2023-03-19T09:47:07.806Z"
      },
      {
        "duration": 161,
        "start_time": "2023-03-19T09:47:17.499Z"
      },
      {
        "duration": 175,
        "start_time": "2023-03-19T09:47:29.978Z"
      },
      {
        "duration": 3281,
        "start_time": "2023-03-19T09:47:33.555Z"
      },
      {
        "duration": 164,
        "start_time": "2023-03-19T09:48:35.735Z"
      },
      {
        "duration": 5925,
        "start_time": "2023-03-19T09:48:38.220Z"
      },
      {
        "duration": 5872,
        "start_time": "2023-03-19T09:48:54.100Z"
      },
      {
        "duration": 3381,
        "start_time": "2023-03-19T09:51:20.240Z"
      },
      {
        "duration": 3466,
        "start_time": "2023-03-19T09:51:34.771Z"
      },
      {
        "duration": 164,
        "start_time": "2023-03-19T09:51:53.802Z"
      },
      {
        "duration": 157,
        "start_time": "2023-03-19T09:51:59.068Z"
      },
      {
        "duration": 3315,
        "start_time": "2023-03-19T09:52:11.202Z"
      },
      {
        "duration": 149,
        "start_time": "2023-03-19T09:54:00.201Z"
      },
      {
        "duration": 3295,
        "start_time": "2023-03-19T09:54:03.919Z"
      },
      {
        "duration": 144,
        "start_time": "2023-03-19T10:01:26.214Z"
      },
      {
        "duration": 194,
        "start_time": "2023-03-19T10:01:32.908Z"
      },
      {
        "duration": 3475,
        "start_time": "2023-03-19T10:02:21.239Z"
      },
      {
        "duration": 3417,
        "start_time": "2023-03-19T10:02:42.401Z"
      },
      {
        "duration": 3438,
        "start_time": "2023-03-19T10:02:46.284Z"
      },
      {
        "duration": 3436,
        "start_time": "2023-03-19T10:03:01.707Z"
      },
      {
        "duration": 3358,
        "start_time": "2023-03-19T10:03:46.911Z"
      },
      {
        "duration": 162,
        "start_time": "2023-03-19T10:04:14.014Z"
      },
      {
        "duration": 184,
        "start_time": "2023-03-19T10:04:17.445Z"
      },
      {
        "duration": 3502,
        "start_time": "2023-03-19T10:04:23.803Z"
      },
      {
        "duration": 3397,
        "start_time": "2023-03-19T10:05:01.033Z"
      },
      {
        "duration": 3581,
        "start_time": "2023-03-19T10:05:11.238Z"
      },
      {
        "duration": 149,
        "start_time": "2023-03-19T10:05:18.600Z"
      },
      {
        "duration": 3370,
        "start_time": "2023-03-19T10:05:22.100Z"
      },
      {
        "duration": 186,
        "start_time": "2023-03-19T10:05:40.703Z"
      },
      {
        "duration": 163,
        "start_time": "2023-03-19T10:07:47.915Z"
      },
      {
        "duration": 138,
        "start_time": "2023-03-19T10:07:56.651Z"
      },
      {
        "duration": 138,
        "start_time": "2023-03-19T10:08:51.302Z"
      },
      {
        "duration": 171,
        "start_time": "2023-03-19T10:09:04.344Z"
      },
      {
        "duration": 218,
        "start_time": "2023-03-19T10:09:16.108Z"
      },
      {
        "duration": 2012,
        "start_time": "2023-03-19T10:09:19.999Z"
      },
      {
        "duration": 173,
        "start_time": "2023-03-19T10:09:45.929Z"
      },
      {
        "duration": 4474,
        "start_time": "2023-03-19T10:09:49.051Z"
      },
      {
        "duration": 151,
        "start_time": "2023-03-19T10:10:21.862Z"
      },
      {
        "duration": 186,
        "start_time": "2023-03-19T10:10:45.448Z"
      },
      {
        "duration": 283,
        "start_time": "2023-03-19T10:10:47.771Z"
      },
      {
        "duration": 232,
        "start_time": "2023-03-19T10:11:01.997Z"
      },
      {
        "duration": 153,
        "start_time": "2023-03-19T10:11:07.807Z"
      },
      {
        "duration": 232,
        "start_time": "2023-03-19T10:11:18.371Z"
      },
      {
        "duration": 128,
        "start_time": "2023-03-19T10:11:51.197Z"
      },
      {
        "duration": 93,
        "start_time": "2023-03-19T10:11:57.953Z"
      },
      {
        "duration": 152,
        "start_time": "2023-03-19T10:12:46.437Z"
      },
      {
        "duration": 1977,
        "start_time": "2023-03-19T10:13:02.455Z"
      },
      {
        "duration": 179,
        "start_time": "2023-03-19T10:14:18.619Z"
      },
      {
        "duration": 190,
        "start_time": "2023-03-19T10:15:32.315Z"
      },
      {
        "duration": 7896,
        "start_time": "2023-03-19T10:15:49.000Z"
      },
      {
        "duration": 2893,
        "start_time": "2023-03-19T10:16:08.755Z"
      },
      {
        "duration": 6579,
        "start_time": "2023-03-19T10:16:39.588Z"
      },
      {
        "duration": 6422,
        "start_time": "2023-03-19T10:16:56.043Z"
      },
      {
        "duration": 5180,
        "start_time": "2023-03-19T10:17:14.701Z"
      },
      {
        "duration": 3376,
        "start_time": "2023-03-19T10:18:34.235Z"
      },
      {
        "duration": 2051,
        "start_time": "2023-03-19T10:19:17.962Z"
      },
      {
        "duration": 2535,
        "start_time": "2023-03-19T10:19:24.185Z"
      },
      {
        "duration": 2106,
        "start_time": "2023-03-19T10:19:30.510Z"
      },
      {
        "duration": 1226,
        "start_time": "2023-03-19T10:21:31.318Z"
      },
      {
        "duration": 4,
        "start_time": "2023-03-19T10:21:32.547Z"
      },
      {
        "duration": 8029,
        "start_time": "2023-03-19T10:21:32.552Z"
      },
      {
        "duration": 247,
        "start_time": "2023-03-19T10:21:40.583Z"
      },
      {
        "duration": 19,
        "start_time": "2023-03-19T10:21:40.832Z"
      },
      {
        "duration": 137,
        "start_time": "2023-03-19T10:21:40.853Z"
      },
      {
        "duration": 201,
        "start_time": "2023-03-19T10:21:40.992Z"
      },
      {
        "duration": 2121,
        "start_time": "2023-03-19T10:21:44.674Z"
      },
      {
        "duration": 266,
        "start_time": "2023-03-19T10:23:14.127Z"
      },
      {
        "duration": 181,
        "start_time": "2023-03-19T10:23:22.032Z"
      },
      {
        "duration": 176,
        "start_time": "2023-03-19T10:23:28.424Z"
      },
      {
        "duration": 136,
        "start_time": "2023-03-19T10:23:44.025Z"
      },
      {
        "duration": 179,
        "start_time": "2023-03-19T10:23:48.206Z"
      },
      {
        "duration": 384,
        "start_time": "2023-03-19T10:24:03.801Z"
      },
      {
        "duration": 118,
        "start_time": "2023-03-19T10:24:13.401Z"
      },
      {
        "duration": 395,
        "start_time": "2023-03-19T10:24:18.598Z"
      },
      {
        "duration": 135,
        "start_time": "2023-03-19T10:24:21.945Z"
      },
      {
        "duration": 283,
        "start_time": "2023-03-19T10:24:24.481Z"
      },
      {
        "duration": 199,
        "start_time": "2023-03-19T10:24:36.480Z"
      },
      {
        "duration": 177,
        "start_time": "2023-03-19T10:24:40.837Z"
      },
      {
        "duration": 266,
        "start_time": "2023-03-19T10:24:43.917Z"
      },
      {
        "duration": 414,
        "start_time": "2023-03-19T10:24:51.631Z"
      },
      {
        "duration": 285,
        "start_time": "2023-03-19T10:24:55.301Z"
      },
      {
        "duration": 399,
        "start_time": "2023-03-19T10:24:59.381Z"
      },
      {
        "duration": 283,
        "start_time": "2023-03-19T10:25:04.778Z"
      },
      {
        "duration": 182,
        "start_time": "2023-03-19T10:25:17.007Z"
      },
      {
        "duration": 202,
        "start_time": "2023-03-19T10:25:20.462Z"
      },
      {
        "duration": 148,
        "start_time": "2023-03-19T10:25:23.965Z"
      },
      {
        "duration": 180,
        "start_time": "2023-03-19T10:25:25.412Z"
      },
      {
        "duration": 126,
        "start_time": "2023-03-19T10:25:30.070Z"
      },
      {
        "duration": 202,
        "start_time": "2023-03-19T10:25:32.469Z"
      },
      {
        "duration": 196,
        "start_time": "2023-03-19T10:25:40.213Z"
      },
      {
        "duration": 181,
        "start_time": "2023-03-19T10:25:43.726Z"
      },
      {
        "duration": 278,
        "start_time": "2023-03-19T10:25:50.066Z"
      },
      {
        "duration": 291,
        "start_time": "2023-03-19T10:26:06.104Z"
      },
      {
        "duration": 92,
        "start_time": "2023-03-19T10:42:51.331Z"
      },
      {
        "duration": 79,
        "start_time": "2023-03-19T10:43:37.836Z"
      },
      {
        "duration": 90,
        "start_time": "2023-03-19T10:43:46.317Z"
      },
      {
        "duration": 154,
        "start_time": "2023-03-19T10:45:49.007Z"
      },
      {
        "duration": 63,
        "start_time": "2023-03-20T15:22:12.320Z"
      },
      {
        "duration": 1559,
        "start_time": "2023-03-20T15:22:23.404Z"
      },
      {
        "duration": 5,
        "start_time": "2023-03-20T15:22:24.965Z"
      },
      {
        "duration": 4690,
        "start_time": "2023-03-20T15:22:24.972Z"
      },
      {
        "duration": 40,
        "start_time": "2023-03-20T15:22:29.665Z"
      },
      {
        "duration": 17,
        "start_time": "2023-03-20T15:22:29.707Z"
      },
      {
        "duration": 101,
        "start_time": "2023-03-20T15:22:29.726Z"
      },
      {
        "duration": 151,
        "start_time": "2023-03-20T15:22:29.829Z"
      },
      {
        "duration": 167,
        "start_time": "2023-03-20T15:23:19.863Z"
      },
      {
        "duration": 66,
        "start_time": "2023-03-20T15:23:33.724Z"
      },
      {
        "duration": 114,
        "start_time": "2023-03-20T15:23:51.241Z"
      },
      {
        "duration": 1271,
        "start_time": "2023-03-20T15:24:18.858Z"
      },
      {
        "duration": 5,
        "start_time": "2023-03-20T15:24:20.131Z"
      },
      {
        "duration": 5398,
        "start_time": "2023-03-20T15:24:20.138Z"
      },
      {
        "duration": 52,
        "start_time": "2023-03-20T15:24:25.539Z"
      },
      {
        "duration": 30,
        "start_time": "2023-03-20T15:24:25.593Z"
      },
      {
        "duration": 105,
        "start_time": "2023-03-20T15:24:25.625Z"
      },
      {
        "duration": 156,
        "start_time": "2023-03-20T15:24:25.732Z"
      },
      {
        "duration": 128,
        "start_time": "2023-03-20T15:24:25.889Z"
      },
      {
        "duration": 1216,
        "start_time": "2023-03-20T15:24:26.019Z"
      },
      {
        "duration": 70,
        "start_time": "2023-03-20T15:24:27.237Z"
      },
      {
        "duration": 48,
        "start_time": "2023-03-20T15:24:27.308Z"
      },
      {
        "duration": 4,
        "start_time": "2023-03-20T15:24:27.358Z"
      },
      {
        "duration": 1801,
        "start_time": "2023-03-20T15:24:27.363Z"
      },
      {
        "duration": 527,
        "start_time": "2023-03-20T15:24:29.165Z"
      },
      {
        "duration": 507,
        "start_time": "2023-03-20T15:24:29.694Z"
      },
      {
        "duration": 234,
        "start_time": "2023-03-20T15:24:30.202Z"
      },
      {
        "duration": 184,
        "start_time": "2023-03-20T15:24:30.437Z"
      },
      {
        "duration": 104,
        "start_time": "2023-03-20T15:24:30.623Z"
      },
      {
        "duration": 199,
        "start_time": "2023-03-20T15:27:31.652Z"
      },
      {
        "duration": 90,
        "start_time": "2023-03-20T15:27:41.944Z"
      },
      {
        "duration": 1260,
        "start_time": "2023-03-20T15:27:56.093Z"
      },
      {
        "duration": 1534,
        "start_time": "2023-03-20T15:28:26.773Z"
      },
      {
        "duration": 82,
        "start_time": "2023-03-20T15:28:53.402Z"
      },
      {
        "duration": 67,
        "start_time": "2023-03-20T15:29:02.904Z"
      },
      {
        "duration": 66,
        "start_time": "2023-03-20T15:29:23.794Z"
      },
      {
        "duration": 78,
        "start_time": "2023-03-20T15:30:40.375Z"
      },
      {
        "duration": 70,
        "start_time": "2023-03-20T15:31:27.255Z"
      },
      {
        "duration": 40,
        "start_time": "2023-03-20T15:31:34.015Z"
      },
      {
        "duration": 42,
        "start_time": "2023-03-20T15:31:42.615Z"
      },
      {
        "duration": 1518,
        "start_time": "2023-03-21T00:10:54.726Z"
      },
      {
        "duration": 4,
        "start_time": "2023-03-21T00:10:56.246Z"
      },
      {
        "duration": 6748,
        "start_time": "2023-03-21T00:10:56.252Z"
      },
      {
        "duration": 230,
        "start_time": "2023-03-21T00:11:03.002Z"
      },
      {
        "duration": 16,
        "start_time": "2023-03-21T00:11:03.234Z"
      },
      {
        "duration": 135,
        "start_time": "2023-03-21T00:11:03.252Z"
      },
      {
        "duration": 183,
        "start_time": "2023-03-21T00:11:03.388Z"
      },
      {
        "duration": 146,
        "start_time": "2023-03-21T00:11:03.572Z"
      },
      {
        "duration": 1274,
        "start_time": "2023-03-21T00:11:03.720Z"
      },
      {
        "duration": 101,
        "start_time": "2023-03-21T00:11:05.001Z"
      },
      {
        "duration": 72,
        "start_time": "2023-03-21T00:11:05.104Z"
      },
      {
        "duration": 1395,
        "start_time": "2023-03-21T00:11:05.178Z"
      },
      {
        "duration": 553,
        "start_time": "2023-03-21T00:11:06.575Z"
      },
      {
        "duration": 546,
        "start_time": "2023-03-21T00:11:07.130Z"
      },
      {
        "duration": 267,
        "start_time": "2023-03-21T00:11:07.677Z"
      },
      {
        "duration": 356,
        "start_time": "2023-03-21T00:11:07.945Z"
      },
      {
        "duration": 130,
        "start_time": "2023-03-21T00:11:08.303Z"
      },
      {
        "duration": 47,
        "start_time": "2023-03-21T13:58:05.727Z"
      },
      {
        "duration": 1535,
        "start_time": "2023-03-21T13:58:10.457Z"
      },
      {
        "duration": 5,
        "start_time": "2023-03-21T13:58:11.998Z"
      },
      {
        "duration": 5569,
        "start_time": "2023-03-21T13:58:12.010Z"
      },
      {
        "duration": 44,
        "start_time": "2023-03-21T13:58:17.582Z"
      },
      {
        "duration": 22,
        "start_time": "2023-03-21T13:58:17.628Z"
      },
      {
        "duration": 109,
        "start_time": "2023-03-21T13:58:17.651Z"
      },
      {
        "duration": 156,
        "start_time": "2023-03-21T13:58:17.761Z"
      },
      {
        "duration": 113,
        "start_time": "2023-03-21T13:58:17.919Z"
      },
      {
        "duration": 1194,
        "start_time": "2023-03-21T13:58:18.034Z"
      },
      {
        "duration": 76,
        "start_time": "2023-03-21T13:58:19.231Z"
      },
      {
        "duration": 42,
        "start_time": "2023-03-21T13:58:19.310Z"
      },
      {
        "duration": 1274,
        "start_time": "2023-03-21T13:58:19.354Z"
      },
      {
        "duration": 491,
        "start_time": "2023-03-21T13:58:20.630Z"
      },
      {
        "duration": 484,
        "start_time": "2023-03-21T13:58:21.123Z"
      },
      {
        "duration": 223,
        "start_time": "2023-03-21T13:58:21.610Z"
      },
      {
        "duration": 176,
        "start_time": "2023-03-21T13:58:21.835Z"
      },
      {
        "duration": 100,
        "start_time": "2023-03-21T13:58:22.013Z"
      },
      {
        "duration": 32,
        "start_time": "2023-03-21T15:37:11.512Z"
      },
      {
        "duration": 1319,
        "start_time": "2023-03-21T15:40:05.202Z"
      },
      {
        "duration": 107,
        "start_time": "2023-03-21T15:41:19.317Z"
      },
      {
        "duration": 110,
        "start_time": "2023-03-21T15:42:16.913Z"
      },
      {
        "duration": 113,
        "start_time": "2023-03-21T15:42:21.110Z"
      },
      {
        "duration": 93,
        "start_time": "2023-03-21T15:42:25.478Z"
      },
      {
        "duration": 1330,
        "start_time": "2023-03-22T12:01:09.004Z"
      },
      {
        "duration": 10,
        "start_time": "2023-03-22T12:01:10.338Z"
      },
      {
        "duration": 10282,
        "start_time": "2023-03-22T12:01:10.350Z"
      },
      {
        "duration": 82,
        "start_time": "2023-03-22T12:01:20.634Z"
      },
      {
        "duration": 22,
        "start_time": "2023-03-22T12:01:20.719Z"
      },
      {
        "duration": 110,
        "start_time": "2023-03-22T12:01:20.745Z"
      },
      {
        "duration": 150,
        "start_time": "2023-03-22T12:01:20.857Z"
      },
      {
        "duration": 116,
        "start_time": "2023-03-22T12:01:21.008Z"
      },
      {
        "duration": 1206,
        "start_time": "2023-03-22T12:01:21.132Z"
      },
      {
        "duration": 67,
        "start_time": "2023-03-22T12:01:22.340Z"
      },
      {
        "duration": 39,
        "start_time": "2023-03-22T12:01:22.408Z"
      },
      {
        "duration": 1128,
        "start_time": "2023-03-22T12:01:22.449Z"
      },
      {
        "duration": 508,
        "start_time": "2023-03-22T12:01:23.578Z"
      },
      {
        "duration": 506,
        "start_time": "2023-03-22T12:01:24.088Z"
      },
      {
        "duration": 234,
        "start_time": "2023-03-22T12:01:24.596Z"
      },
      {
        "duration": 318,
        "start_time": "2023-03-22T12:01:24.841Z"
      },
      {
        "duration": 95,
        "start_time": "2023-03-22T12:01:25.160Z"
      },
      {
        "duration": 97,
        "start_time": "2023-03-22T12:02:07.163Z"
      },
      {
        "duration": 274,
        "start_time": "2023-03-22T12:06:05.195Z"
      },
      {
        "duration": 110,
        "start_time": "2023-03-22T12:08:47.690Z"
      },
      {
        "duration": 107,
        "start_time": "2023-03-22T12:09:05.157Z"
      },
      {
        "duration": 43,
        "start_time": "2023-03-22T12:16:43.660Z"
      },
      {
        "duration": 42,
        "start_time": "2023-03-22T12:16:57.460Z"
      },
      {
        "duration": 41,
        "start_time": "2023-03-22T12:17:15.948Z"
      },
      {
        "duration": 1510,
        "start_time": "2023-03-22T17:19:00.947Z"
      },
      {
        "duration": 4,
        "start_time": "2023-03-22T17:19:02.459Z"
      },
      {
        "duration": 4828,
        "start_time": "2023-03-22T17:19:02.465Z"
      },
      {
        "duration": 130,
        "start_time": "2023-03-22T17:19:07.295Z"
      },
      {
        "duration": 17,
        "start_time": "2023-03-22T17:19:07.427Z"
      },
      {
        "duration": 100,
        "start_time": "2023-03-22T17:19:07.446Z"
      },
      {
        "duration": 152,
        "start_time": "2023-03-22T17:19:07.548Z"
      },
      {
        "duration": 114,
        "start_time": "2023-03-22T17:19:07.702Z"
      },
      {
        "duration": 1205,
        "start_time": "2023-03-22T17:19:07.817Z"
      },
      {
        "duration": 66,
        "start_time": "2023-03-22T17:19:09.024Z"
      },
      {
        "duration": 42,
        "start_time": "2023-03-22T17:19:12.068Z"
      },
      {
        "duration": 160,
        "start_time": "2023-03-22T17:20:47.625Z"
      },
      {
        "duration": 74,
        "start_time": "2023-03-22T17:21:15.958Z"
      },
      {
        "duration": 31,
        "start_time": "2023-03-22T17:21:51.230Z"
      },
      {
        "duration": 1289,
        "start_time": "2023-03-22T17:25:05.737Z"
      },
      {
        "duration": 5,
        "start_time": "2023-03-22T17:25:07.029Z"
      },
      {
        "duration": 6090,
        "start_time": "2023-03-22T17:25:07.036Z"
      },
      {
        "duration": 40,
        "start_time": "2023-03-22T17:25:13.129Z"
      },
      {
        "duration": 18,
        "start_time": "2023-03-22T17:25:13.171Z"
      },
      {
        "duration": 100,
        "start_time": "2023-03-22T17:25:13.191Z"
      },
      {
        "duration": 149,
        "start_time": "2023-03-22T17:25:13.293Z"
      },
      {
        "duration": 114,
        "start_time": "2023-03-22T17:25:13.444Z"
      },
      {
        "duration": 1215,
        "start_time": "2023-03-22T17:25:13.560Z"
      },
      {
        "duration": 67,
        "start_time": "2023-03-22T17:25:14.777Z"
      },
      {
        "duration": 29,
        "start_time": "2023-03-22T17:25:14.846Z"
      },
      {
        "duration": 1183,
        "start_time": "2023-03-22T17:25:14.878Z"
      },
      {
        "duration": 502,
        "start_time": "2023-03-22T17:25:16.063Z"
      },
      {
        "duration": 497,
        "start_time": "2023-03-22T17:25:16.567Z"
      },
      {
        "duration": 221,
        "start_time": "2023-03-22T17:25:17.066Z"
      },
      {
        "duration": 165,
        "start_time": "2023-03-22T17:25:17.289Z"
      },
      {
        "duration": 100,
        "start_time": "2023-03-22T17:25:17.455Z"
      }
    ],
    "colab": {
      "provenance": [],
      "include_colab_link": true
    },
    "kernelspec": {
      "display_name": "Python 3 (ipykernel)",
      "language": "python",
      "name": "python3"
    },
    "language_info": {
      "codemirror_mode": {
        "name": "ipython",
        "version": 3
      },
      "file_extension": ".py",
      "mimetype": "text/x-python",
      "name": "python",
      "nbconvert_exporter": "python",
      "pygments_lexer": "ipython3",
      "version": "3.9.5"
    },
    "toc": {
      "base_numbering": 1,
      "nav_menu": {},
      "number_sections": true,
      "sideBar": true,
      "skip_h1_title": true,
      "title_cell": "Table of Contents",
      "title_sidebar": "Contents",
      "toc_cell": false,
      "toc_position": {},
      "toc_section_display": true,
      "toc_window_display": false
    }
  },
  "nbformat": 4,
  "nbformat_minor": 0
}