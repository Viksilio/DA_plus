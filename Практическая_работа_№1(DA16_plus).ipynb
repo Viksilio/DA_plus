{
  "cells": [
    {
      "cell_type": "markdown",
      "metadata": {
        "id": "view-in-github",
        "colab_type": "text"
      },
      "source": [
        "<a href=\"https://colab.research.google.com/github/Viksilio/DA_plus/blob/master/%D0%9F%D1%80%D0%B0%D0%BA%D1%82%D0%B8%D1%87%D0%B5%D1%81%D0%BA%D0%B0%D1%8F_%D1%80%D0%B0%D0%B1%D0%BE%D1%82%D0%B0_%E2%84%961(DA16_plus).ipynb\" target=\"_parent\"><img src=\"https://colab.research.google.com/assets/colab-badge.svg\" alt=\"Open In Colab\"/></a>"
      ]
    },
    {
      "cell_type": "markdown",
      "metadata": {
        "deletable": false,
        "editable": false,
        "id": "E0vqbgi9ay0H"
      },
      "source": [
        "# Яндекс Музыка"
      ]
    },
    {
      "cell_type": "markdown",
      "metadata": {
        "deletable": false,
        "editable": false,
        "id": "VUC88oWjTJw2"
      },
      "source": [
        "Сравнение Москвы и Петербурга окружено мифами. Например:\n",
        " * Москва — мегаполис, подчинённый жёсткому ритму рабочей недели;\n",
        " * Петербург — культурная столица, со своими вкусами.\n",
        "\n",
        "На данных Яндекс Музыки вы сравните поведение пользователей двух столиц.\n",
        "\n",
        "**Цель исследования** — проверьте три гипотезы:\n",
        "1. Активность пользователей зависит от дня недели. Причём в Москве и Петербурге это проявляется по-разному.\n",
        "2. В понедельник утром в Москве преобладают одни жанры, а в Петербурге — другие. Так же и вечером пятницы преобладают разные жанры — в зависимости от города. \n",
        "3. Москва и Петербург предпочитают разные жанры музыки. В Москве чаще слушают поп-музыку, в Петербурге — русский рэп.\n",
        "\n",
        "**Ход исследования**\n",
        "\n",
        "Данные о поведении пользователей вы получите из файла `yandex_music_project.csv`. О качестве данных ничего не известно. Поэтому перед проверкой гипотез понадобится обзор данных. \n",
        "\n",
        "Вы проверите данные на ошибки и оцените их влияние на исследование. Затем, на этапе предобработки вы поищете возможность исправить самые критичные ошибки данных.\n",
        " \n",
        "Таким образом, исследование пройдёт в три этапа:\n",
        " 1. Обзор данных.\n",
        " 2. Предобработка данных.\n",
        " 3. Проверка гипотез.\n",
        "\n"
      ]
    },
    {
      "cell_type": "markdown",
      "metadata": {
        "deletable": false,
        "editable": false,
        "id": "Ml1hmfXC_Zcs"
      },
      "source": [
        "## Обзор данных\n",
        "\n",
        "Составьте первое представление о данных Яндекс Музыки.\n",
        "\n",
        "\n"
      ]
    },
    {
      "cell_type": "markdown",
      "metadata": {
        "deletable": false,
        "editable": false,
        "id": "57eAOGIz_Zcs",
        "tags": [
          "start_task"
        ]
      },
      "source": [
        "**Задание 1**\n",
        "\n",
        "Основной инструмент аналитика — `pandas`. Импортируйте эту библиотеку."
      ]
    },
    {
      "cell_type": "code",
      "execution_count": null,
      "metadata": {
        "deletable": false,
        "id": "AXN7PHPN_Zcs"
      },
      "outputs": [],
      "source": [
        "import pandas as pd"
      ]
    },
    {
      "cell_type": "markdown",
      "metadata": {
        "deletable": false,
        "editable": false,
        "id": "SG23P8tt_Zcs",
        "tags": [
          "start_task"
        ]
      },
      "source": [
        "**Задание 2**\n",
        "\n",
        "Прочитайте файл `yandex_music_project.csv` из папки `/datasets` и сохраните его в переменной `df`:"
      ]
    },
    {
      "cell_type": "code",
      "execution_count": null,
      "metadata": {
        "deletable": false,
        "id": "fFVu7vqh_Zct"
      },
      "outputs": [],
      "source": [
        "df = pd.read_csv('/datasets/yandex_music_project.csv')"
      ]
    },
    {
      "cell_type": "markdown",
      "metadata": {
        "deletable": false,
        "editable": false,
        "id": "rDoOMd3uTqnZ",
        "tags": [
          "start_task"
        ]
      },
      "source": [
        "**Задание 3**\n",
        "\n",
        "\n",
        "Выведите на экран первые десять строк таблицы:"
      ]
    },
    {
      "cell_type": "code",
      "execution_count": null,
      "metadata": {
        "deletable": false,
        "id": "oWTVX3gW_Zct",
        "outputId": "ebe50c31-c5e6-4e08-d01f-e00172f1ac8c"
      },
      "outputs": [
        {
          "data": {
            "text/html": [
              "<div>\n",
              "<style scoped>\n",
              "    .dataframe tbody tr th:only-of-type {\n",
              "        vertical-align: middle;\n",
              "    }\n",
              "\n",
              "    .dataframe tbody tr th {\n",
              "        vertical-align: top;\n",
              "    }\n",
              "\n",
              "    .dataframe thead th {\n",
              "        text-align: right;\n",
              "    }\n",
              "</style>\n",
              "<table border=\"1\" class=\"dataframe\">\n",
              "  <thead>\n",
              "    <tr style=\"text-align: right;\">\n",
              "      <th></th>\n",
              "      <th>userID</th>\n",
              "      <th>Track</th>\n",
              "      <th>artist</th>\n",
              "      <th>genre</th>\n",
              "      <th>City</th>\n",
              "      <th>time</th>\n",
              "      <th>Day</th>\n",
              "    </tr>\n",
              "  </thead>\n",
              "  <tbody>\n",
              "    <tr>\n",
              "      <th>0</th>\n",
              "      <td>FFB692EC</td>\n",
              "      <td>Kamigata To Boots</td>\n",
              "      <td>The Mass Missile</td>\n",
              "      <td>rock</td>\n",
              "      <td>Saint-Petersburg</td>\n",
              "      <td>20:28:33</td>\n",
              "      <td>Wednesday</td>\n",
              "    </tr>\n",
              "    <tr>\n",
              "      <th>1</th>\n",
              "      <td>55204538</td>\n",
              "      <td>Delayed Because of Accident</td>\n",
              "      <td>Andreas Rönnberg</td>\n",
              "      <td>rock</td>\n",
              "      <td>Moscow</td>\n",
              "      <td>14:07:09</td>\n",
              "      <td>Friday</td>\n",
              "    </tr>\n",
              "    <tr>\n",
              "      <th>2</th>\n",
              "      <td>20EC38</td>\n",
              "      <td>Funiculì funiculà</td>\n",
              "      <td>Mario Lanza</td>\n",
              "      <td>pop</td>\n",
              "      <td>Saint-Petersburg</td>\n",
              "      <td>20:58:07</td>\n",
              "      <td>Wednesday</td>\n",
              "    </tr>\n",
              "    <tr>\n",
              "      <th>3</th>\n",
              "      <td>A3DD03C9</td>\n",
              "      <td>Dragons in the Sunset</td>\n",
              "      <td>Fire + Ice</td>\n",
              "      <td>folk</td>\n",
              "      <td>Saint-Petersburg</td>\n",
              "      <td>08:37:09</td>\n",
              "      <td>Monday</td>\n",
              "    </tr>\n",
              "    <tr>\n",
              "      <th>4</th>\n",
              "      <td>E2DC1FAE</td>\n",
              "      <td>Soul People</td>\n",
              "      <td>Space Echo</td>\n",
              "      <td>dance</td>\n",
              "      <td>Moscow</td>\n",
              "      <td>08:34:34</td>\n",
              "      <td>Monday</td>\n",
              "    </tr>\n",
              "    <tr>\n",
              "      <th>5</th>\n",
              "      <td>842029A1</td>\n",
              "      <td>Преданная</td>\n",
              "      <td>IMPERVTOR</td>\n",
              "      <td>rusrap</td>\n",
              "      <td>Saint-Petersburg</td>\n",
              "      <td>13:09:41</td>\n",
              "      <td>Friday</td>\n",
              "    </tr>\n",
              "    <tr>\n",
              "      <th>6</th>\n",
              "      <td>4CB90AA5</td>\n",
              "      <td>True</td>\n",
              "      <td>Roman Messer</td>\n",
              "      <td>dance</td>\n",
              "      <td>Moscow</td>\n",
              "      <td>13:00:07</td>\n",
              "      <td>Wednesday</td>\n",
              "    </tr>\n",
              "    <tr>\n",
              "      <th>7</th>\n",
              "      <td>F03E1C1F</td>\n",
              "      <td>Feeling This Way</td>\n",
              "      <td>Polina Griffith</td>\n",
              "      <td>dance</td>\n",
              "      <td>Moscow</td>\n",
              "      <td>20:47:49</td>\n",
              "      <td>Wednesday</td>\n",
              "    </tr>\n",
              "    <tr>\n",
              "      <th>8</th>\n",
              "      <td>8FA1D3BE</td>\n",
              "      <td>И вновь продолжается бой</td>\n",
              "      <td>NaN</td>\n",
              "      <td>ruspop</td>\n",
              "      <td>Moscow</td>\n",
              "      <td>09:17:40</td>\n",
              "      <td>Friday</td>\n",
              "    </tr>\n",
              "    <tr>\n",
              "      <th>9</th>\n",
              "      <td>E772D5C0</td>\n",
              "      <td>Pessimist</td>\n",
              "      <td>NaN</td>\n",
              "      <td>dance</td>\n",
              "      <td>Saint-Petersburg</td>\n",
              "      <td>21:20:49</td>\n",
              "      <td>Wednesday</td>\n",
              "    </tr>\n",
              "  </tbody>\n",
              "</table>\n",
              "</div>"
            ],
            "text/plain": [
              "     userID                        Track            artist   genre  \\\n",
              "0  FFB692EC            Kamigata To Boots  The Mass Missile    rock   \n",
              "1  55204538  Delayed Because of Accident  Andreas Rönnberg    rock   \n",
              "2    20EC38            Funiculì funiculà       Mario Lanza     pop   \n",
              "3  A3DD03C9        Dragons in the Sunset        Fire + Ice    folk   \n",
              "4  E2DC1FAE                  Soul People        Space Echo   dance   \n",
              "5  842029A1                    Преданная         IMPERVTOR  rusrap   \n",
              "6  4CB90AA5                         True      Roman Messer   dance   \n",
              "7  F03E1C1F             Feeling This Way   Polina Griffith   dance   \n",
              "8  8FA1D3BE     И вновь продолжается бой               NaN  ruspop   \n",
              "9  E772D5C0                    Pessimist               NaN   dance   \n",
              "\n",
              "             City        time        Day  \n",
              "0  Saint-Petersburg  20:28:33  Wednesday  \n",
              "1            Moscow  14:07:09     Friday  \n",
              "2  Saint-Petersburg  20:58:07  Wednesday  \n",
              "3  Saint-Petersburg  08:37:09     Monday  \n",
              "4            Moscow  08:34:34     Monday  \n",
              "5  Saint-Petersburg  13:09:41     Friday  \n",
              "6            Moscow  13:00:07  Wednesday  \n",
              "7            Moscow  20:47:49  Wednesday  \n",
              "8            Moscow  09:17:40     Friday  \n",
              "9  Saint-Petersburg  21:20:49  Wednesday  "
            ]
          },
          "execution_count": 3,
          "metadata": {},
          "output_type": "execute_result"
        }
      ],
      "source": [
        "df.head(10)"
      ]
    },
    {
      "cell_type": "markdown",
      "metadata": {
        "deletable": false,
        "editable": false,
        "id": "EO73Kwic_Zct",
        "tags": [
          "start_task"
        ]
      },
      "source": [
        "**Задание 4**\n",
        "\n",
        "\n",
        "Одной командой получить общую информацию о таблице c помощью метода `info()`:"
      ]
    },
    {
      "cell_type": "code",
      "execution_count": null,
      "metadata": {
        "deletable": false,
        "id": "DSf2kIb-_Zct",
        "outputId": "6a93872c-5952-4da2-ad3b-dada68798262"
      },
      "outputs": [
        {
          "name": "stdout",
          "output_type": "stream",
          "text": [
            "<class 'pandas.core.frame.DataFrame'>\n",
            "RangeIndex: 65079 entries, 0 to 65078\n",
            "Data columns (total 7 columns):\n",
            " #   Column    Non-Null Count  Dtype \n",
            "---  ------    --------------  ----- \n",
            " 0     userID  65079 non-null  object\n",
            " 1   Track     63848 non-null  object\n",
            " 2   artist    57876 non-null  object\n",
            " 3   genre     63881 non-null  object\n",
            " 4     City    65079 non-null  object\n",
            " 5   time      65079 non-null  object\n",
            " 6   Day       65079 non-null  object\n",
            "dtypes: object(7)\n",
            "memory usage: 3.5+ MB\n"
          ]
        }
      ],
      "source": [
        "df.info()"
      ]
    },
    {
      "cell_type": "markdown",
      "metadata": {
        "deletable": false,
        "editable": false,
        "id": "TaQ2Iwbr_Zct"
      },
      "source": [
        "Итак, в таблице семь столбцов. Тип данных во всех столбцах — `object`.\n",
        "\n",
        "Согласно документации к данным:\n",
        "* `userID` — идентификатор пользователя;\n",
        "* `Track` — название трека;  \n",
        "* `artist` — имя исполнителя;\n",
        "* `genre` — название жанра;\n",
        "* `City` — город пользователя;\n",
        "* `time` — время начала прослушивания;\n",
        "* `Day` — день недели.\n",
        "\n",
        "Количество значений в столбцах различается. Значит, в данных есть пропущенные значения."
      ]
    },
    {
      "cell_type": "markdown",
      "metadata": {
        "deletable": false,
        "editable": false,
        "id": "rAfziTBDmf2h",
        "tags": [
          "start_task"
        ]
      },
      "source": [
        "**Задание 5**\n",
        "\n",
        "**Вопрос со свободной формой ответа**\n",
        "\n",
        "В названиях колонок видны нарушения стиля:\n",
        "* Строчные буквы сочетаются с прописными.\n",
        "* Встречаются пробелы.\n",
        "\n",
        "Какое третье нарушение?"
      ]
    },
    {
      "cell_type": "code",
      "execution_count": null,
      "metadata": {
        "id": "jD8EXEIvmf2h"
      },
      "outputs": [],
      "source": [
        "# Не стилизованы под snake_case"
      ]
    },
    {
      "cell_type": "markdown",
      "metadata": {
        "deletable": false,
        "editable": false,
        "id": "MCB6-dXG_Zct"
      },
      "source": [
        "**Выводы**\n",
        "\n",
        "В каждой строке таблицы — данные о прослушанном треке. Часть колонок описывает саму композицию: название, исполнителя и жанр. Остальные данные рассказывают о пользователе: из какого он города, когда он слушал музыку. \n",
        "\n",
        "Предварительно можно утверждать, что данных достаточно для проверки гипотез. Но встречаются пропуски в данных, а в названиях колонок — расхождения с хорошим стилем.\n",
        "\n",
        "Чтобы двигаться дальше, нужно устранить проблемы в данных."
      ]
    },
    {
      "cell_type": "markdown",
      "metadata": {
        "deletable": false,
        "editable": false,
        "id": "SjYF6Ub9_Zct"
      },
      "source": [
        "## Предобработка данных\n",
        "Исправьте стиль в заголовках столбцов, исключите пропуски. Затем проверьте данные на дубликаты."
      ]
    },
    {
      "cell_type": "markdown",
      "metadata": {
        "deletable": false,
        "editable": false,
        "id": "dIaKXr29_Zct",
        "tags": [
          "start_task"
        ]
      },
      "source": [
        "### Стиль заголовков\n",
        "\n",
        "**Задание 6**\n",
        "\n",
        "Выведите на экран названия столбцов:"
      ]
    },
    {
      "cell_type": "code",
      "execution_count": null,
      "metadata": {
        "deletable": false,
        "id": "oKOTdF_Q_Zct",
        "outputId": "27983028-a2ef-4df5-d393-ebe7981dd8a2"
      },
      "outputs": [
        {
          "data": {
            "text/plain": [
              "Index(['  userID', 'Track', 'artist', 'genre', '  City  ', 'time', 'Day'], dtype='object')"
            ]
          },
          "execution_count": 6,
          "metadata": {},
          "output_type": "execute_result"
        }
      ],
      "source": [
        "df.columns"
      ]
    },
    {
      "cell_type": "markdown",
      "metadata": {
        "deletable": false,
        "editable": false,
        "id": "zj5534cv_Zct",
        "tags": [
          "start_task"
        ]
      },
      "source": [
        "**Задание 7**\n",
        "\n",
        "\n",
        "Приведите названия в соответствие с хорошим стилем:\n",
        "* несколько слов в названии запишите в «змеином_регистре»,\n",
        "* все символы сделайте строчными,\n",
        "* устраните пробелы.\n",
        "\n",
        "Для этого переименуйте колонки так:\n",
        "* `'  userID'` → `'user_id'`;\n",
        "* `'Track'` → `'track'`;\n",
        "* `'  City  '` → `'city'`;\n",
        "* `'Day'` → `'day'`."
      ]
    },
    {
      "cell_type": "code",
      "execution_count": null,
      "metadata": {
        "deletable": false,
        "id": "ISlFqs5y_Zct"
      },
      "outputs": [],
      "source": [
        "df = df.rename(columns={'  userID': 'user_id', 'Track': 'track', '  City  ': 'city', 'Day' : 'day'})"
      ]
    },
    {
      "cell_type": "markdown",
      "metadata": {
        "deletable": false,
        "editable": false,
        "id": "1dqbh00J_Zct",
        "tags": [
          "start_task"
        ]
      },
      "source": [
        "**Задание 8**\n",
        "\n",
        "\n",
        "Проверьте результат. Для этого ещё раз выведите на экран названия столбцов:"
      ]
    },
    {
      "cell_type": "code",
      "execution_count": null,
      "metadata": {
        "deletable": false,
        "id": "d4NOAmTW_Zct",
        "outputId": "2a90e962-415c-413e-b1fa-bdd6b6a3e6ae"
      },
      "outputs": [
        {
          "data": {
            "text/plain": [
              "Index(['user_id', 'track', 'artist', 'genre', 'city', 'time', 'day'], dtype='object')"
            ]
          },
          "execution_count": 8,
          "metadata": {},
          "output_type": "execute_result"
        }
      ],
      "source": [
        "df.columns"
      ]
    },
    {
      "cell_type": "markdown",
      "metadata": {
        "deletable": false,
        "editable": false,
        "id": "5ISfbcfY_Zct",
        "tags": [
          "start_task"
        ]
      },
      "source": [
        "### Пропуски значений\n",
        "\n",
        "**Задание 9**\n",
        "\n",
        "Сначала посчитайте, сколько в таблице пропущенных значений. Для этого достаточно двух методов `pandas`:"
      ]
    },
    {
      "cell_type": "code",
      "execution_count": null,
      "metadata": {
        "deletable": false,
        "id": "RskX29qr_Zct",
        "outputId": "363d0e54-078a-45a8-c6db-1cdf38732c7f"
      },
      "outputs": [
        {
          "data": {
            "text/plain": [
              "user_id       0\n",
              "track      1231\n",
              "artist     7203\n",
              "genre      1198\n",
              "city          0\n",
              "time          0\n",
              "day           0\n",
              "dtype: int64"
            ]
          },
          "execution_count": 9,
          "metadata": {},
          "output_type": "execute_result"
        }
      ],
      "source": [
        "df.isna().sum()"
      ]
    },
    {
      "cell_type": "markdown",
      "metadata": {
        "deletable": false,
        "editable": false,
        "id": "qubhgnlO_Zct"
      },
      "source": [
        "Не все пропущенные значения влияют на исследование. Так в `track` и `artist` пропуски не важны для вашей работы. Достаточно заменить их явными обозначениями.\n",
        "\n",
        "Но пропуски в `genre` могут помешать сравнению музыкальных вкусов в Москве и Санкт-Петербурге. На практике было бы правильно установить причину пропусков и восстановить данные. Такой возможности нет в учебном проекте. Придётся:\n",
        "* заполнить и эти пропуски явными обозначениями;\n",
        "* оценить, насколько они повредят расчётам. "
      ]
    },
    {
      "cell_type": "markdown",
      "metadata": {
        "deletable": false,
        "editable": false,
        "id": "fSv2laPA_Zct",
        "tags": [
          "start_task"
        ]
      },
      "source": [
        "**Задание 10**\n",
        "\n",
        "Замените пропущенные значения в столбцах `track`, `artist` и `genre` на строку `'unknown'`. Для этого создайте список `columns_to_replace`, переберите его элементы циклом `for` и для каждого столбца выполните замену пропущенных значений:"
      ]
    },
    {
      "cell_type": "code",
      "execution_count": null,
      "metadata": {
        "deletable": false,
        "id": "KplB5qWs_Zct"
      },
      "outputs": [],
      "source": [
        "columns_to_replace = ['track', 'artist', 'genre']\n",
        "\n",
        "for column in columns_to_replace:\n",
        "    df[column] = df[column].fillna('unknown')"
      ]
    },
    {
      "cell_type": "markdown",
      "metadata": {
        "deletable": false,
        "editable": false,
        "id": "Ilsm-MZo_Zct",
        "tags": [
          "start_task"
        ]
      },
      "source": [
        "**Задание 11**\n",
        "\n",
        "Убедитесь, что в таблице не осталось пропусков. Для этого ещё раз посчитайте пропущенные значения."
      ]
    },
    {
      "cell_type": "code",
      "execution_count": null,
      "metadata": {
        "deletable": false,
        "id": "Tq4nYRX4_Zct",
        "outputId": "93e2f980-b83b-4027-c8bb-18fde834c606"
      },
      "outputs": [
        {
          "data": {
            "text/plain": [
              "user_id    0\n",
              "track      0\n",
              "artist     0\n",
              "genre      0\n",
              "city       0\n",
              "time       0\n",
              "day        0\n",
              "dtype: int64"
            ]
          },
          "execution_count": 11,
          "metadata": {},
          "output_type": "execute_result"
        }
      ],
      "source": [
        "df.isna().sum()"
      ]
    },
    {
      "cell_type": "markdown",
      "metadata": {
        "deletable": false,
        "editable": false,
        "id": "BWKRtBJ3_Zct",
        "tags": [
          "start_task"
        ]
      },
      "source": [
        "### Дубликаты\n",
        "\n",
        "**Задание 12**\n",
        "\n",
        "Посчитайте явные дубликаты в таблице одной командой:"
      ]
    },
    {
      "cell_type": "code",
      "execution_count": null,
      "metadata": {
        "deletable": false,
        "id": "36eES_S0_Zct",
        "outputId": "85781df7-6fe4-4d44-ac71-c6fe7267ab34"
      },
      "outputs": [
        {
          "data": {
            "text/plain": [
              "3826"
            ]
          },
          "execution_count": 12,
          "metadata": {},
          "output_type": "execute_result"
        }
      ],
      "source": [
        "df.duplicated().sum()"
      ]
    },
    {
      "cell_type": "markdown",
      "metadata": {
        "deletable": false,
        "editable": false,
        "id": "Ot25h6XR_Zct",
        "tags": [
          "start_task"
        ]
      },
      "source": [
        "**Задание 13**\n",
        "\n",
        "Вызовите специальный метод `pandas`, чтобы удалить явные дубликаты:"
      ]
    },
    {
      "cell_type": "code",
      "execution_count": null,
      "metadata": {
        "deletable": false,
        "id": "exFHq6tt_Zct"
      },
      "outputs": [],
      "source": [
        "df = df.drop_duplicates()"
      ]
    },
    {
      "cell_type": "markdown",
      "metadata": {
        "deletable": false,
        "editable": false,
        "id": "Im2YwBEG_Zct",
        "tags": [
          "start_task"
        ]
      },
      "source": [
        "**Задание 14**\n",
        "\n",
        "Ещё раз посчитайте явные дубликаты в таблице — убедитесь, что полностью от них избавились:"
      ]
    },
    {
      "cell_type": "code",
      "execution_count": null,
      "metadata": {
        "deletable": false,
        "id": "-8PuNWQ0_Zct",
        "outputId": "66f0adfe-340c-4ac2-eeaa-e1d40868ee8a"
      },
      "outputs": [
        {
          "data": {
            "text/plain": [
              "0"
            ]
          },
          "execution_count": 14,
          "metadata": {},
          "output_type": "execute_result"
        }
      ],
      "source": [
        "df.duplicated().sum()"
      ]
    },
    {
      "cell_type": "markdown",
      "metadata": {
        "deletable": false,
        "editable": false,
        "id": "QlFBsxAr_Zct"
      },
      "source": [
        "Теперь избавьтесь от неявных дубликатов в колонке `genre`. Например, название одного и того же жанра может быть записано немного по-разному. Такие ошибки тоже повлияют на результат исследования."
      ]
    },
    {
      "cell_type": "markdown",
      "metadata": {
        "deletable": false,
        "editable": false,
        "id": "eSjWwsOh_Zct",
        "tags": [
          "start_task"
        ]
      },
      "source": [
        "**Задание 15**\n",
        "\n",
        "Выведите на экран список уникальных названий жанров, отсортированный в алфавитном порядке. Для этого:\n",
        "1. извлеките нужный столбец датафрейма; \n",
        "2. примените к нему метод сортировки;\n",
        "3. для отсортированного столбца вызовите метод, который вернёт уникальные значения из столбца."
      ]
    },
    {
      "cell_type": "code",
      "execution_count": 1,
      "metadata": {
        "deletable": false,
        "id": "JIUcqzZN_Zct",
        "colab": {
          "base_uri": "https://localhost:8080/",
          "height": 165
        },
        "outputId": "fe93e3e0-8a23-4724-ee74-8f58ef06067f"
      },
      "outputs": [
        {
          "output_type": "error",
          "ename": "NameError",
          "evalue": "ignored",
          "traceback": [
            "\u001b[0;31m---------------------------------------------------------------------------\u001b[0m",
            "\u001b[0;31mNameError\u001b[0m                                 Traceback (most recent call last)",
            "\u001b[0;32m<ipython-input-1-9190fbad9e09>\u001b[0m in \u001b[0;36m<module>\u001b[0;34m\u001b[0m\n\u001b[0;32m----> 1\u001b[0;31m \u001b[0mdf\u001b[0m\u001b[0;34m[\u001b[0m\u001b[0;34m'genre'\u001b[0m\u001b[0;34m]\u001b[0m\u001b[0;34m.\u001b[0m\u001b[0msort_values\u001b[0m\u001b[0;34m(\u001b[0m\u001b[0;34m)\u001b[0m\u001b[0;34m.\u001b[0m\u001b[0munique\u001b[0m\u001b[0;34m(\u001b[0m\u001b[0;34m)\u001b[0m\u001b[0;34m\u001b[0m\u001b[0;34m\u001b[0m\u001b[0m\n\u001b[0m",
            "\u001b[0;31mNameError\u001b[0m: name 'df' is not defined"
          ]
        }
      ],
      "source": [
        "df['genre'].sort_values().unique()"
      ]
    },
    {
      "cell_type": "markdown",
      "metadata": {
        "deletable": false,
        "editable": false,
        "id": "qej-Qmuo_Zct",
        "tags": [
          "start_task"
        ]
      },
      "source": [
        "**Задание 16**\n",
        "\n",
        "Просмотрите список и найдите неявные дубликаты названия `hiphop`. Это могут быть названия с ошибками или альтернативные названия того же жанра.\n",
        "\n",
        "Вы увидите следующие неявные дубликаты:\n",
        "* *hip*,\n",
        "* *hop*,\n",
        "* *hip-hop*.\n",
        "\n",
        "Чтобы очистить от них таблицу используйте метод `replace()` с двумя аргументами: списком строк-дубликатов (включащий *hip*, *hop* и *hip-hop*) и строкой с правильным значением. Вам нужно исправить колонку `genre` в таблице `df`: заменить каждое значение из списка дубликатов на верное. Вместо `hip`, `hop` и `hip-hop` в таблице должно быть значение `hiphop`:"
      ]
    },
    {
      "cell_type": "code",
      "execution_count": null,
      "metadata": {
        "deletable": false,
        "id": "ErNDkmns_Zct"
      },
      "outputs": [],
      "source": [
        "duplicates = ['hip', 'hop', 'hip-hop'] # список неправильных имён\n",
        "name = 'hiphop' # правильное имя\n",
        "df['genre'] = df['genre'].replace(duplicates, name)\n",
        "\n",
        "# Нельзя решить данное задание через функцию с циклом\n",
        "# Помимо неявных дубликатов описанных в задание, есть дубликат 'электроника' = 'electronic'"
      ]
    },
    {
      "cell_type": "markdown",
      "metadata": {
        "deletable": false,
        "editable": false,
        "id": "zQKF16_RG15m",
        "tags": [
          "start_task"
        ]
      },
      "source": [
        "**Задание 17**\n",
        "\n",
        "Проверьте, что заменили неправильные названия:\n",
        "\n",
        "*   hip,\n",
        "*   hop,\n",
        "*   hip-hop.\n",
        "\n",
        "Выведите отсортированный список уникальных значений столбца `genre`:"
      ]
    },
    {
      "cell_type": "code",
      "execution_count": null,
      "metadata": {
        "deletable": false,
        "id": "wvixALnFG15m",
        "outputId": "de0b3ab5-3494-4585-925f-b1d9e7bdc6f7"
      },
      "outputs": [
        {
          "data": {
            "text/plain": [
              "array(['acid', 'acoustic', 'action', 'adult', 'africa', 'afrikaans',\n",
              "       'alternative', 'alternativepunk', 'ambient', 'americana',\n",
              "       'animated', 'anime', 'arabesk', 'arabic', 'arena',\n",
              "       'argentinetango', 'art', 'audiobook', 'author', 'avantgarde',\n",
              "       'axé', 'baile', 'balkan', 'beats', 'bigroom', 'black', 'bluegrass',\n",
              "       'blues', 'bollywood', 'bossa', 'brazilian', 'breakbeat', 'breaks',\n",
              "       'broadway', 'cantautori', 'cantopop', 'canzone', 'caribbean',\n",
              "       'caucasian', 'celtic', 'chamber', 'chanson', 'children', 'chill',\n",
              "       'chinese', 'choral', 'christian', 'christmas', 'classical',\n",
              "       'classicmetal', 'club', 'colombian', 'comedy', 'conjazz',\n",
              "       'contemporary', 'country', 'cuban', 'dance', 'dancehall',\n",
              "       'dancepop', 'dark', 'death', 'deep', 'deutschrock', 'deutschspr',\n",
              "       'dirty', 'disco', 'dnb', 'documentary', 'downbeat', 'downtempo',\n",
              "       'drum', 'dub', 'dubstep', 'eastern', 'easy', 'electronic',\n",
              "       'electropop', 'emo', 'entehno', 'epicmetal', 'estrada', 'ethnic',\n",
              "       'eurofolk', 'european', 'experimental', 'extrememetal', 'fado',\n",
              "       'fairytail', 'film', 'fitness', 'flamenco', 'folk', 'folklore',\n",
              "       'folkmetal', 'folkrock', 'folktronica', 'forró', 'frankreich',\n",
              "       'französisch', 'french', 'funk', 'future', 'gangsta', 'garage',\n",
              "       'german', 'ghazal', 'gitarre', 'glitch', 'gospel', 'gothic',\n",
              "       'grime', 'grunge', 'gypsy', 'handsup', \"hard'n'heavy\", 'hardcore',\n",
              "       'hardstyle', 'hardtechno', 'hiphop', 'historisch', 'holiday',\n",
              "       'horror', 'house', 'hymn', 'idm', 'independent', 'indian', 'indie',\n",
              "       'indipop', 'industrial', 'inspirational', 'instrumental',\n",
              "       'international', 'irish', 'jam', 'japanese', 'jazz', 'jewish',\n",
              "       'jpop', 'jungle', 'k-pop', 'karadeniz', 'karaoke', 'kayokyoku',\n",
              "       'korean', 'laiko', 'latin', 'latino', 'leftfield', 'local',\n",
              "       'lounge', 'loungeelectronic', 'lovers', 'malaysian', 'mandopop',\n",
              "       'marschmusik', 'meditative', 'mediterranean', 'melodic', 'metal',\n",
              "       'metalcore', 'mexican', 'middle', 'minimal', 'miscellaneous',\n",
              "       'modern', 'mood', 'mpb', 'muslim', 'native', 'neoklassik', 'neue',\n",
              "       'new', 'newage', 'newwave', 'nu', 'nujazz', 'numetal', 'oceania',\n",
              "       'old', 'opera', 'orchestral', 'other', 'piano', 'podcasts', 'pop',\n",
              "       'popdance', 'popelectronic', 'popeurodance', 'poprussian', 'post',\n",
              "       'posthardcore', 'postrock', 'power', 'progmetal', 'progressive',\n",
              "       'psychedelic', 'punjabi', 'punk', 'quebecois', 'ragga', 'ram',\n",
              "       'rancheras', 'rap', 'rave', 'reggae', 'reggaeton', 'regional',\n",
              "       'relax', 'religious', 'retro', 'rhythm', 'rnb', 'rnr', 'rock',\n",
              "       'rockabilly', 'rockalternative', 'rockindie', 'rockother',\n",
              "       'romance', 'roots', 'ruspop', 'rusrap', 'rusrock', 'russian',\n",
              "       'salsa', 'samba', 'scenic', 'schlager', 'self', 'sertanejo',\n",
              "       'shanson', 'shoegazing', 'showtunes', 'singer', 'ska', 'skarock',\n",
              "       'slow', 'smooth', 'soft', 'soul', 'soulful', 'sound', 'soundtrack',\n",
              "       'southern', 'specialty', 'speech', 'spiritual', 'sport',\n",
              "       'stonerrock', 'surf', 'swing', 'synthpop', 'synthrock',\n",
              "       'sängerportrait', 'tango', 'tanzorchester', 'taraftar', 'tatar',\n",
              "       'tech', 'techno', 'teen', 'thrash', 'top', 'traditional',\n",
              "       'tradjazz', 'trance', 'tribal', 'trip', 'triphop', 'tropical',\n",
              "       'türk', 'türkçe', 'ukrrock', 'unknown', 'urban', 'uzbek',\n",
              "       'variété', 'vi', 'videogame', 'vocal', 'western', 'world',\n",
              "       'worldbeat', 'ïîï', 'электроника'], dtype=object)"
            ]
          },
          "execution_count": 17,
          "metadata": {},
          "output_type": "execute_result"
        }
      ],
      "source": [
        "df['genre'].sort_values().unique()# Проверка на неявные дубликаты"
      ]
    },
    {
      "cell_type": "markdown",
      "metadata": {
        "deletable": false,
        "editable": false,
        "id": "jz6a9-7HQUDd"
      },
      "source": [
        "**Выводы**\n",
        "\n",
        "Предобработка обнаружила три проблемы в данных:\n",
        "\n",
        "- нарушения в стиле заголовков,\n",
        "- пропущенные значения,\n",
        "- дубликаты — явные и неявные.\n",
        "\n",
        "Вы исправили заголовки, чтобы упростить работу с таблицей. Без дубликатов исследование станет более точным.\n",
        "\n",
        "Пропущенные значения вы заменили на `'unknown'`. Ещё предстоит увидеть, не повредят ли исследованию пропуски в колонке `genre`.\n",
        "\n",
        "Теперь можно перейти к проверке гипотез. "
      ]
    },
    {
      "cell_type": "markdown",
      "metadata": {
        "deletable": false,
        "editable": false,
        "id": "WttZHXH0SqKk"
      },
      "source": [
        "## Проверка гипотез"
      ]
    },
    {
      "cell_type": "markdown",
      "metadata": {
        "deletable": false,
        "editable": false,
        "id": "Im936VVi_Zcu"
      },
      "source": [
        "### Сравнение поведения пользователей двух столиц"
      ]
    },
    {
      "cell_type": "markdown",
      "metadata": {
        "deletable": false,
        "editable": false,
        "id": "nwt_MuaL_Zcu"
      },
      "source": [
        "Первая гипотеза утверждает, что пользователи по-разному слушают музыку в Москве и Санкт-Петербурге. Проверьте это предположение по данным о трёх днях недели — понедельнике, среде и пятнице. Для этого:\n",
        "\n",
        "* Разделите пользователей Москвы и Санкт-Петербурга.\n",
        "* Сравните, сколько треков послушала каждая группа пользователей в понедельник, среду и пятницу.\n"
      ]
    },
    {
      "cell_type": "markdown",
      "metadata": {
        "deletable": false,
        "editable": false,
        "id": "8Dw_YMmT_Zcu",
        "tags": [
          "start_task"
        ]
      },
      "source": [
        "**Задание 18**\n",
        "\n",
        "Для тренировки сначала выполните каждый из расчётов по отдельности. \n",
        "\n",
        "Оцените активность пользователей в каждом городе. Сгруппируйте данные по городу и посчитайте прослушивания в каждой группе.\n",
        "\n"
      ]
    },
    {
      "cell_type": "code",
      "execution_count": null,
      "metadata": {
        "deletable": false,
        "id": "0_Qs96oh_Zcu",
        "outputId": "6ecbe084-2895-47c4-cb44-2b4a0140bb46"
      },
      "outputs": [
        {
          "data": {
            "text/plain": [
              "city\n",
              "Moscow              42741\n",
              "Saint-Petersburg    18512\n",
              "Name: time, dtype: int64"
            ]
          },
          "execution_count": 18,
          "metadata": {},
          "output_type": "execute_result"
        }
      ],
      "source": [
        "df.groupby('city')['time'].count()"
      ]
    },
    {
      "cell_type": "markdown",
      "metadata": {
        "deletable": false,
        "editable": false,
        "id": "dzli3w8o_Zcu",
        "tags": [
          "start_task"
        ]
      },
      "source": [
        "В Москве прослушиваний больше, чем в Петербурге. Из этого не следует, что московские пользователи чаще слушают музыку. Просто самих пользователей в Москве больше.\n",
        "\n",
        "**Задание 19**\n",
        "\n",
        "Теперь сгруппируйте данные по дню недели и посчитайте прослушивания в понедельник, среду и пятницу. Учтите, что в данных есть информация о прослушиваниях только за эти дни.\n"
      ]
    },
    {
      "cell_type": "code",
      "execution_count": null,
      "metadata": {
        "deletable": false,
        "id": "uZMKjiJz_Zcu",
        "outputId": "1438c102-0fe4-4b07-b1c2-7698467ed1ce"
      },
      "outputs": [
        {
          "data": {
            "text/plain": [
              "day\n",
              "Friday       21840\n",
              "Monday       21354\n",
              "Wednesday    18059\n",
              "Name: time, dtype: int64"
            ]
          },
          "execution_count": 19,
          "metadata": {},
          "output_type": "execute_result"
        }
      ],
      "source": [
        "df.groupby('day')['time'].count()# Подсчёт прослушиваний в каждый из трёх дней"
      ]
    },
    {
      "cell_type": "markdown",
      "metadata": {
        "deletable": false,
        "editable": false,
        "id": "cC2tNrlL_Zcu"
      },
      "source": [
        "В среднем пользователи из двух городов менее активны по средам. Но картина может измениться, если рассмотреть каждый город в отдельности."
      ]
    },
    {
      "cell_type": "markdown",
      "metadata": {
        "deletable": false,
        "editable": false,
        "id": "POzs8bGa_Zcu",
        "tags": [
          "start_task"
        ]
      },
      "source": [
        "**Задание 20**\n",
        "\n",
        "\n",
        "Вы видели, как работает группировка по городу и по дням недели. Теперь напишите функцию, которая объединит два эти расчёта.\n",
        "\n",
        "Создайте функцию `number_tracks()`, которая посчитает прослушивания для заданного дня и города. Ей понадобятся два параметра:\n",
        "* день недели,\n",
        "* название города.\n",
        "\n",
        "В функции сохраните в переменную строки исходной таблицы, у которых значение:\n",
        "  * в колонке `day` равно параметру `day`,\n",
        "  * в колонке `city` равно параметру `city`.\n",
        "\n",
        "Для этого примените последовательную фильтрацию с логической индексацией (или сложные логические выражения в одну строку, если вы уже знакомы с ними).\n",
        "\n",
        "Затем посчитайте значения в столбце `user_id` получившейся таблицы. Результат сохраните в новую переменную. Верните эту переменную из функции."
      ]
    },
    {
      "cell_type": "code",
      "execution_count": null,
      "metadata": {
        "deletable": false,
        "id": "Nz3GdQB1_Zcu"
      },
      "outputs": [],
      "source": [
        "def number_tracks(day, city):\n",
        "    track_list = df[df['day'] == day]\n",
        "    track_list = track_list[track_list['city'] == city]  \n",
        "    track_list_count = track_list['user_id'].count()\n",
        "    return track_list_count\n",
        "# Функция для подсчёта прослушиваний для конкретного города и дня.\n",
        "# С помощью последовательной фильтрации с логической индексацией она \n",
        "# сначала получит из исходной таблицы строки с нужным днём,\n",
        "# затем из результата отфильтрует строки с нужным городом,\n",
        "# методом count() посчитает количество значений в колонке user_id. \n",
        "# Это количество функция вернёт в качестве результата"
      ]
    },
    {
      "cell_type": "markdown",
      "metadata": {
        "deletable": false,
        "editable": false,
        "id": "ytf7xFrFJQ2r",
        "tags": [
          "start_task"
        ]
      },
      "source": [
        "**Задание 21**\n",
        "\n",
        "Вызовите `number_tracks()` шесть раз, меняя значение параметров — так, чтобы получить данные для каждого города в каждый из трёх дней."
      ]
    },
    {
      "cell_type": "code",
      "execution_count": null,
      "metadata": {
        "deletable": false,
        "id": "rJcRATNQ_Zcu",
        "outputId": "2624503a-bb09-4589-88b1-20afee1ae16f"
      },
      "outputs": [
        {
          "data": {
            "text/plain": [
              "15740"
            ]
          },
          "execution_count": 21,
          "metadata": {},
          "output_type": "execute_result"
        }
      ],
      "source": [
        "number_tracks('Monday', 'Moscow') # количество прослушиваний в Москве по понедельникам"
      ]
    },
    {
      "cell_type": "code",
      "execution_count": null,
      "metadata": {
        "deletable": false,
        "id": "hq_ncZ5T_Zcu",
        "outputId": "68e11ab8-9c41-4b96-f8f7-e01cd927c9f2"
      },
      "outputs": [
        {
          "data": {
            "text/plain": [
              "5614"
            ]
          },
          "execution_count": 22,
          "metadata": {},
          "output_type": "execute_result"
        }
      ],
      "source": [
        "number_tracks('Monday', 'Saint-Petersburg') # количество прослушиваний в Санкт-Петербурге по понедельникам"
      ]
    },
    {
      "cell_type": "code",
      "execution_count": null,
      "metadata": {
        "deletable": false,
        "id": "_NTy2VPU_Zcu",
        "outputId": "b36cb2d6-59d3-4af4-cfb7-976a5a92d429"
      },
      "outputs": [
        {
          "data": {
            "text/plain": [
              "11056"
            ]
          },
          "execution_count": 23,
          "metadata": {},
          "output_type": "execute_result"
        }
      ],
      "source": [
        "number_tracks('Wednesday', 'Moscow') # количество прослушиваний в Москве по средам"
      ]
    },
    {
      "cell_type": "code",
      "execution_count": null,
      "metadata": {
        "deletable": false,
        "id": "j2y3TAwo_Zcu",
        "outputId": "b4d4595f-98fb-464f-c54f-a23420d2597d"
      },
      "outputs": [
        {
          "data": {
            "text/plain": [
              "7003"
            ]
          },
          "execution_count": 24,
          "metadata": {},
          "output_type": "execute_result"
        }
      ],
      "source": [
        "number_tracks('Wednesday', 'Saint-Petersburg') # количество прослушиваний в Санкт-Петербурге по средам"
      ]
    },
    {
      "cell_type": "code",
      "execution_count": null,
      "metadata": {
        "deletable": false,
        "id": "vYDw5u_K_Zcu",
        "outputId": "fc330d7f-8232-49fc-86cc-255447a8050c"
      },
      "outputs": [
        {
          "data": {
            "text/plain": [
              "15945"
            ]
          },
          "execution_count": 25,
          "metadata": {},
          "output_type": "execute_result"
        }
      ],
      "source": [
        "number_tracks('Friday', 'Moscow') # количество прослушиваний в Москве по пятницам"
      ]
    },
    {
      "cell_type": "code",
      "execution_count": null,
      "metadata": {
        "deletable": false,
        "id": "8_yzFtW3_Zcu",
        "outputId": "28456986-0858-4b79-da8e-b8f688afaf8a"
      },
      "outputs": [
        {
          "data": {
            "text/plain": [
              "5895"
            ]
          },
          "execution_count": 26,
          "metadata": {},
          "output_type": "execute_result"
        }
      ],
      "source": [
        "number_tracks('Friday', 'Saint-Petersburg') # количество прослушиваний в Санкт-Петербурге по пятницам"
      ]
    },
    {
      "cell_type": "markdown",
      "metadata": {
        "deletable": false,
        "editable": false,
        "id": "7QXffbO-_Zcu",
        "tags": [
          "start_task"
        ]
      },
      "source": [
        "**Задание 22**\n",
        "\n",
        "Создайте c помощью конструктора `pd.DataFrame` таблицу, где\n",
        "* названия колонок — `['city', 'monday', 'wednesday', 'friday']`;\n",
        "* данные — результаты, которые вы получили с помощью `number_tracks`."
      ]
    },
    {
      "cell_type": "code",
      "execution_count": null,
      "metadata": {
        "deletable": false,
        "id": "APAcLpOr_Zcu"
      },
      "outputs": [],
      "source": [
        "columns = ['city', 'monday', 'wednesday', 'friday'] \n",
        "data = [['Moscow', 15740, 11056, 15945], ['Saint-Petersburg', 5614, 7003, 5895]]\n",
        "users_activities_per_day_of_week = pd.DataFrame(data=data, columns=columns) # Таблица с результатами"
      ]
    },
    {
      "cell_type": "markdown",
      "metadata": {
        "deletable": false,
        "editable": false,
        "id": "-EgPIHYu_Zcu"
      },
      "source": [
        "**Выводы**\n",
        "\n",
        "Данные показывают разницу поведения пользователей:\n",
        "\n",
        "- В Москве пик прослушиваний приходится на понедельник и пятницу, а в среду заметен спад.\n",
        "- В Петербурге, наоборот, больше слушают музыку по средам. Активность в понедельник и пятницу здесь почти в равной мере уступает среде.\n",
        "\n",
        "Значит, данные говорят в пользу первой гипотезы."
      ]
    },
    {
      "cell_type": "markdown",
      "metadata": {
        "deletable": false,
        "editable": false,
        "id": "atZAxtq4_Zcu"
      },
      "source": [
        "### Музыка в начале и в конце недели"
      ]
    },
    {
      "cell_type": "markdown",
      "metadata": {
        "deletable": false,
        "editable": false,
        "id": "eXrQqXFH_Zcu"
      },
      "source": [
        "Согласно второй гипотезе, утром в понедельник в Москве преобладают одни жанры, а в Петербурге — другие. Так же и вечером пятницы преобладают разные жанры — в зависимости от города."
      ]
    },
    {
      "cell_type": "markdown",
      "metadata": {
        "deletable": false,
        "editable": false,
        "id": "S8UcW6Hw_Zcu",
        "tags": [
          "start_task"
        ]
      },
      "source": [
        "**Задание 23**\n",
        "\n",
        "Сохраните таблицы с данными в две переменные:\n",
        "* по Москве — в `moscow_general`;\n",
        "* по Санкт-Петербургу — в `spb_general`."
      ]
    },
    {
      "cell_type": "code",
      "execution_count": null,
      "metadata": {
        "deletable": false,
        "id": "qeaFfM_P_Zcu"
      },
      "outputs": [],
      "source": [
        "# получение таблицы moscow_general из тех строк таблицы df, \n",
        "# для которых значение в столбце 'city' равно 'Moscow'\n",
        "moscow_general = df[df['city'] == 'Moscow']"
      ]
    },
    {
      "cell_type": "code",
      "execution_count": null,
      "metadata": {
        "deletable": false,
        "id": "ORaVRKto_Zcu"
      },
      "outputs": [],
      "source": [
        "# получение таблицы spb_general из тех строк таблицы df,\n",
        "# для которых значение в столбце 'city' равно 'Saint-Petersburg'\n",
        "spb_general = df[df['city'] == 'Saint-Petersburg']"
      ]
    },
    {
      "cell_type": "markdown",
      "metadata": {
        "deletable": false,
        "editable": false,
        "id": "MEJV-CX2_Zcu",
        "tags": [
          "start_task"
        ]
      },
      "source": [
        "**Задание 24**\n",
        "\n",
        "Создайте функцию `genre_weekday()` с четырьмя параметрами:\n",
        "* таблица (датафрейм) с данными,\n",
        "* день недели,\n",
        "* начальная временная метка в формате 'hh:mm', \n",
        "* последняя временная метка в формате 'hh:mm'.\n",
        "\n",
        "Функция должна вернуть информацию о топ-10 жанров тех треков, которые прослушивали в указанный день, в промежутке между двумя отметками времени."
      ]
    },
    {
      "cell_type": "code",
      "execution_count": null,
      "metadata": {
        "deletable": false,
        "id": "laJT9BYl_Zcu"
      },
      "outputs": [],
      "source": [
        "# Объявление функции genre_weekday() с параметрами table, day, time1, time2,\n",
        "# которая возвращает информацию о самых популярных жанрах в указанный день в\n",
        "# заданное время:\n",
        "# 1) в переменную genre_df сохраняются те строки переданного датафрейма table, для\n",
        "#    которых одновременно:\n",
        "#    - значение в столбце day равно значению аргумента day\n",
        "#    - значение в столбце time больше значения аргумента time1\n",
        "#    - значение в столбце time меньше значения аргумента time2\n",
        "#    Используйте последовательную фильтрацию с помощью логической индексации.\n",
        "# 2) сгруппировать датафрейм genre_df по столбцу genre, взять один из его\n",
        "#    столбцов и посчитать методом count() количество записей для каждого из\n",
        "#    присутствующих жанров, получившийся Series записать в переменную\n",
        "#    genre_df_count\n",
        "# 3) отсортировать genre_df_count по убыванию встречаемости и сохранить\n",
        "#    в переменную genre_df_sorted\n",
        "# 4) вернуть Series из 10 первых значений genre_df_sorted, это будут топ-10\n",
        "#    популярных жанров (в указанный день, в заданное время)\n",
        "\n",
        "def genre_weekday(df, day, time1, time2):\n",
        "    genre_df = df[df['day'] == day]\n",
        "    genre_df = genre_df[genre_df['time'] > time1]\n",
        "    genre_df = genre_df[genre_df['time'] < time2]\n",
        "    genre_df_grouped = genre_df.groupby('genre')['genre'].count()\n",
        "    genre_df_sorted = genre_df_grouped.sort_values(ascending = False)\n",
        "    return genre_df_sorted[:10]"
      ]
    },
    {
      "cell_type": "markdown",
      "metadata": {
        "deletable": false,
        "editable": false,
        "id": "la2s2_PF_Zcu",
        "tags": [
          "start_task"
        ]
      },
      "source": [
        "**Задание 25**\n",
        "\n",
        "\n",
        "Cравните результаты функции `genre_weekday()` для Москвы и Санкт-Петербурга в понедельник утром (с 7:00 до 11:00) и в пятницу вечером (с 17:00 до 23:00):"
      ]
    },
    {
      "cell_type": "code",
      "execution_count": null,
      "metadata": {
        "deletable": false,
        "id": "yz7itPUQ_Zcu",
        "outputId": "5f96ba1b-d4d3-4b71-849a-1f8e92f0995e"
      },
      "outputs": [
        {
          "data": {
            "text/plain": [
              "genre\n",
              "pop            781\n",
              "dance          549\n",
              "electronic     480\n",
              "rock           474\n",
              "hiphop         286\n",
              "ruspop         186\n",
              "world          181\n",
              "rusrap         175\n",
              "alternative    164\n",
              "unknown        161\n",
              "Name: genre, dtype: int64"
            ]
          },
          "execution_count": 31,
          "metadata": {},
          "output_type": "execute_result"
        }
      ],
      "source": [
        "# вызов функции для утра понедельника в Москве (вместо df — таблица moscow_general)\n",
        "genre_weekday(moscow_general, 'Monday', '07:00', '11:00')"
      ]
    },
    {
      "cell_type": "code",
      "execution_count": null,
      "metadata": {
        "deletable": false,
        "id": "kwUcHPdy_Zcu",
        "outputId": "b606e88e-9804-4ec2-c356-e8b5a749cfa6"
      },
      "outputs": [
        {
          "data": {
            "text/plain": [
              "genre\n",
              "pop            218\n",
              "dance          182\n",
              "rock           162\n",
              "electronic     147\n",
              "hiphop          80\n",
              "ruspop          64\n",
              "alternative     58\n",
              "rusrap          55\n",
              "jazz            44\n",
              "classical       40\n",
              "Name: genre, dtype: int64"
            ]
          },
          "execution_count": 32,
          "metadata": {},
          "output_type": "execute_result"
        }
      ],
      "source": [
        "# вызов функции для утра понедельника в Петербурге (вместо df — таблица spb_general)\n",
        "genre_weekday(spb_general, 'Monday', '07:00', '11:00')"
      ]
    },
    {
      "cell_type": "markdown",
      "source": [
        ""
      ],
      "metadata": {
        "id": "NvGxuAZddnb2"
      }
    },
    {
      "cell_type": "code",
      "execution_count": null,
      "metadata": {
        "deletable": false,
        "id": "EzXVRE1o_Zcu",
        "outputId": "e8b39cd3-ed08-443f-e2e0-83d1ab9ded36"
      },
      "outputs": [
        {
          "data": {
            "text/plain": [
              "genre\n",
              "pop            713\n",
              "rock           517\n",
              "dance          495\n",
              "electronic     482\n",
              "hiphop         273\n",
              "world          208\n",
              "ruspop         170\n",
              "alternative    163\n",
              "classical      163\n",
              "rusrap         142\n",
              "Name: genre, dtype: int64"
            ]
          },
          "execution_count": 33,
          "metadata": {},
          "output_type": "execute_result"
        }
      ],
      "source": [
        "# вызов функции для вечера пятницы в Москве\n",
        "genre_weekday(moscow_general, 'Friday', '17:00', '23:00')"
      ]
    },
    {
      "cell_type": "code",
      "execution_count": null,
      "metadata": {
        "deletable": false,
        "id": "JZaEKu5v_Zcu",
        "outputId": "51f602fb-f041-4d35-b741-1a0830f41b0e"
      },
      "outputs": [
        {
          "data": {
            "text/plain": [
              "genre\n",
              "pop            256\n",
              "electronic     216\n",
              "rock           216\n",
              "dance          210\n",
              "hiphop          97\n",
              "alternative     63\n",
              "jazz            61\n",
              "classical       60\n",
              "rusrap          59\n",
              "world           54\n",
              "Name: genre, dtype: int64"
            ]
          },
          "execution_count": 34,
          "metadata": {},
          "output_type": "execute_result"
        }
      ],
      "source": [
        "# вызов функции для вечера пятницы в Петербурге\n",
        "genre_weekday(spb_general, 'Friday', '17:00', '23:00')"
      ]
    },
    {
      "cell_type": "markdown",
      "metadata": {
        "deletable": false,
        "editable": false,
        "id": "wrCe4MNX_Zcu"
      },
      "source": [
        "**Выводы**\n",
        "\n",
        "Если сравнить топ-10 жанров в понедельник утром, можно сделать такие выводы:\n",
        "\n",
        "1. В Москве и Петербурге слушают похожую музыку. Единственное отличие — в московский рейтинг вошёл жанр “world”, а в петербургский — джаз и классика.\n",
        "\n",
        "2. В Москве пропущенных значений оказалось так много, что значение `'unknown'` заняло десятое место среди самых популярных жанров. Значит, пропущенные значения занимают существенную долю в данных и угрожают достоверности исследования.\n",
        "\n",
        "Вечер пятницы не меняет эту картину. Некоторые жанры поднимаются немного выше, другие спускаются, но в целом топ-10 остаётся тем же самым.\n",
        "\n",
        "Таким образом, вторая гипотеза подтвердилась лишь частично:\n",
        "* Пользователи слушают похожую музыку в начале недели и в конце.\n",
        "* Разница между Москвой и Петербургом не слишком выражена. В Москве чаще слушают русскую популярную музыку, в Петербурге — джаз.\n",
        "\n",
        "Однако пропуски в данных ставят под сомнение этот результат. В Москве их так много, что рейтинг топ-10 мог бы выглядеть иначе, если бы не утерянные  данные о жанрах."
      ]
    },
    {
      "cell_type": "markdown",
      "metadata": {
        "deletable": false,
        "editable": false,
        "id": "JolODAqr_Zcu"
      },
      "source": [
        "### Жанровые предпочтения в Москве и Петербурге\n",
        "\n",
        "Гипотеза: Петербург — столица рэпа, музыку этого жанра там слушают чаще, чем в Москве.  А Москва — город контрастов, в котором, тем не менее, преобладает поп-музыка."
      ]
    },
    {
      "cell_type": "markdown",
      "metadata": {
        "deletable": false,
        "editable": false,
        "id": "DlegSvaT_Zcu",
        "tags": [
          "start_task"
        ]
      },
      "source": [
        "**Задание 26**\n",
        "\n",
        "Сгруппируйте таблицу `moscow_general` по жанру и посчитайте прослушивания треков каждого жанра методом `count()`. Затем отсортируйте результат в порядке убывания и сохраните его в таблице `moscow_genres`."
      ]
    },
    {
      "cell_type": "code",
      "execution_count": null,
      "metadata": {
        "deletable": false,
        "id": "r19lIPke_Zcu"
      },
      "outputs": [],
      "source": [
        "# одной строкой: группировка таблицы moscow_general по столбцу 'genre', \n",
        "# подсчёт числа значений 'genre' в этой группировке методом count(), \n",
        "# сортировка получившегося Series в порядке убывания и сохранение в moscow_genres\n",
        "\n",
        "moscow_genres = moscow_general.groupby('genre')['genre'].count()\n",
        "moscow_genres = moscow_genres.sort_values(ascending = False)"
      ]
    },
    {
      "cell_type": "markdown",
      "metadata": {
        "deletable": false,
        "editable": false,
        "id": "6kMuomxTiIr8",
        "tags": [
          "start_task"
        ]
      },
      "source": [
        "**Задание 27**\n",
        "\n",
        "Выведите на экран первые десять строк `moscow_genres`:"
      ]
    },
    {
      "cell_type": "code",
      "execution_count": null,
      "metadata": {
        "deletable": false,
        "id": "WhCSooF8_Zcv",
        "outputId": "88df8b14-5bb1-458f-e02a-e758cca2c17c"
      },
      "outputs": [
        {
          "data": {
            "text/plain": [
              "genre\n",
              "pop            5892\n",
              "dance          4435\n",
              "rock           3965\n",
              "electronic     3786\n",
              "hiphop         2096\n",
              "classical      1616\n",
              "world          1432\n",
              "alternative    1379\n",
              "ruspop         1372\n",
              "rusrap         1161\n",
              "Name: genre, dtype: int64"
            ]
          },
          "execution_count": 36,
          "metadata": {},
          "output_type": "execute_result"
        }
      ],
      "source": [
        "moscow_genres.head(10)# просмотр первых 10 строк moscow_genres"
      ]
    },
    {
      "cell_type": "markdown",
      "metadata": {
        "deletable": false,
        "editable": false,
        "id": "cnPG2vnN_Zcv",
        "tags": [
          "start_task"
        ]
      },
      "source": [
        "**Задание 28**\n",
        "\n",
        "\n",
        "Теперь повторите то же и для Петербурга.\n",
        "\n",
        "Сгруппируйте таблицу `spb_general` по жанру. Посчитайте прослушивания треков каждого жанра. Результат отсортируйте в порядке убывания и сохраните в таблице `spb_genres`:\n"
      ]
    },
    {
      "cell_type": "code",
      "execution_count": null,
      "metadata": {
        "deletable": false,
        "id": "gluLIpE7_Zcv"
      },
      "outputs": [],
      "source": [
        "# одной строкой: группировка таблицы spb_general по столбцу 'genre', \n",
        "# подсчёт числа значений 'genre' в этой группировке методом count(), \n",
        "# сортировка получившегося Series в порядке убывания и сохранение в spb_genres\n",
        "spb_genres = spb_general.groupby('genre')['genre'].count()\n",
        "spb_genres = spb_genres.sort_values(ascending = False)"
      ]
    },
    {
      "cell_type": "markdown",
      "metadata": {
        "deletable": false,
        "editable": false,
        "id": "5Doha_ODgyQ8",
        "tags": [
          "start_task"
        ]
      },
      "source": [
        "**Задание 29**\n",
        "\n",
        "Выведите на экран первые десять строк `spb_genres`:"
      ]
    },
    {
      "cell_type": "code",
      "execution_count": null,
      "metadata": {
        "deletable": false,
        "id": "uaGJHjVU_Zcv",
        "outputId": "5f9fd75a-1495-4f3a-823b-f7b5b626eac7"
      },
      "outputs": [
        {
          "data": {
            "text/plain": [
              "genre\n",
              "pop            2431\n",
              "dance          1932\n",
              "rock           1879\n",
              "electronic     1736\n",
              "hiphop          960\n",
              "alternative     649\n",
              "classical       646\n",
              "rusrap          564\n",
              "ruspop          538\n",
              "world           515\n",
              "Name: genre, dtype: int64"
            ]
          },
          "execution_count": 38,
          "metadata": {},
          "output_type": "execute_result"
        }
      ],
      "source": [
        "spb_genres.head(10)# просмотр первых 10 строк spb_genres"
      ]
    },
    {
      "cell_type": "markdown",
      "metadata": {
        "deletable": false,
        "editable": false,
        "id": "RY51YJYu_Zcv"
      },
      "source": [
        "**Выводы**"
      ]
    },
    {
      "cell_type": "markdown",
      "metadata": {
        "deletable": false,
        "editable": false,
        "id": "nVhnJEm__Zcv"
      },
      "source": [
        "Гипотеза частично подтвердилась:\n",
        "* Поп-музыка — самый популярный жанр в Москве, как и предполагала гипотеза. Более того, в топ-10 жанров встречается близкий жанр — русская популярная музыка.\n",
        "* Вопреки ожиданиям, рэп одинаково популярен в Москве и Петербурге. \n"
      ]
    },
    {
      "cell_type": "markdown",
      "metadata": {
        "deletable": false,
        "editable": false,
        "id": "ykKQ0N65_Zcv"
      },
      "source": [
        "## Итоги исследования"
      ]
    },
    {
      "cell_type": "markdown",
      "metadata": {
        "deletable": false,
        "editable": false,
        "id": "tjUwbHb3_Zcv"
      },
      "source": [
        "Вы проверили три гипотезы и установили:\n",
        "\n",
        "1. День недели по-разному влияет на активность пользователей в Москве и Петербурге. \n",
        "\n",
        "Первая гипотеза полностью подтвердилась.\n",
        "\n",
        "2. Музыкальные предпочтения не сильно меняются в течение недели — будь то Москва или Петербург. Небольшие различия заметны в начале недели, по понедельникам:\n",
        "* в Москве слушают музыку жанра “world”,\n",
        "* в Петербурге — джаз и классику.\n",
        "\n",
        "Таким образом, вторая гипотеза подтвердилась лишь отчасти. Этот результат мог оказаться иным, если бы не пропуски в данных.\n",
        "\n",
        "3. Во вкусах пользователей Москвы и Петербурга больше общего чем различий. Вопреки ожиданиям, предпочтения жанров в Петербурге напоминают московские.\n",
        "\n",
        "Третья гипотеза не подтвердилась. Если различия в предпочтениях и существуют, на основной массе пользователей они незаметны.\n",
        "\n",
        "**На практике исследования содержат проверки статистических гипотез.**\n",
        "Из данных одного сервиса не всегда можно сделать вывод о всех жителях города.\n",
        "Проверки статистических гипотез покажут, насколько они достоверны, исходя из имеющихся данных. \n",
        "С методами проверок гипотез вы ещё познакомитесь в следующих темах."
      ]
    }
  ],
  "metadata": {
    "ExecuteTimeLog": [
      {
        "duration": 404,
        "start_time": "2022-08-14T12:11:14.063Z"
      },
      {
        "duration": 449,
        "start_time": "2022-08-14T12:11:58.473Z"
      },
      {
        "duration": 176,
        "start_time": "2022-08-14T12:12:00.655Z"
      },
      {
        "duration": 158,
        "start_time": "2022-08-14T12:12:03.170Z"
      },
      {
        "duration": 389,
        "start_time": "2022-08-14T12:12:08.940Z"
      },
      {
        "duration": 156,
        "start_time": "2022-08-14T12:12:10.940Z"
      },
      {
        "duration": 17,
        "start_time": "2022-08-14T12:12:30.222Z"
      },
      {
        "duration": 35,
        "start_time": "2022-08-14T12:12:51.548Z"
      },
      {
        "duration": 4,
        "start_time": "2022-08-14T12:15:46.748Z"
      },
      {
        "duration": 12,
        "start_time": "2022-08-14T12:24:28.801Z"
      },
      {
        "duration": 4,
        "start_time": "2022-08-14T12:25:03.221Z"
      },
      {
        "duration": 27,
        "start_time": "2022-08-14T12:28:02.885Z"
      },
      {
        "duration": 21,
        "start_time": "2022-08-14T12:28:16.443Z"
      },
      {
        "duration": 20,
        "start_time": "2022-08-14T12:28:27.835Z"
      },
      {
        "duration": 8,
        "start_time": "2022-08-14T12:28:52.782Z"
      },
      {
        "duration": 1616,
        "start_time": "2022-08-14T12:32:26.853Z"
      },
      {
        "duration": 14,
        "start_time": "2022-08-14T12:34:50.602Z"
      },
      {
        "duration": 24,
        "start_time": "2022-08-14T12:36:10.802Z"
      },
      {
        "duration": 10,
        "start_time": "2022-08-14T12:36:35.811Z"
      },
      {
        "duration": 7,
        "start_time": "2022-08-14T12:36:39.248Z"
      },
      {
        "duration": 72,
        "start_time": "2022-08-14T12:37:06.723Z"
      },
      {
        "duration": 8,
        "start_time": "2022-08-14T13:00:55.457Z"
      },
      {
        "duration": 7,
        "start_time": "2022-08-14T13:01:04.227Z"
      },
      {
        "duration": 59,
        "start_time": "2022-08-14T13:01:16.193Z"
      },
      {
        "duration": 57,
        "start_time": "2022-08-14T13:01:30.362Z"
      },
      {
        "duration": 30,
        "start_time": "2022-08-14T13:04:32.204Z"
      },
      {
        "duration": 33,
        "start_time": "2022-08-14T13:04:57.654Z"
      },
      {
        "duration": 15,
        "start_time": "2022-08-14T13:10:28.800Z"
      },
      {
        "duration": 11,
        "start_time": "2022-08-14T13:10:52.011Z"
      },
      {
        "duration": 8,
        "start_time": "2022-08-14T13:10:56.169Z"
      },
      {
        "duration": 9,
        "start_time": "2022-08-14T13:10:58.952Z"
      },
      {
        "duration": 9,
        "start_time": "2022-08-14T13:12:27.156Z"
      },
      {
        "duration": 8,
        "start_time": "2022-08-14T13:12:28.097Z"
      },
      {
        "duration": 9,
        "start_time": "2022-08-14T13:12:28.354Z"
      },
      {
        "duration": 9,
        "start_time": "2022-08-14T13:13:10.523Z"
      },
      {
        "duration": 9,
        "start_time": "2022-08-14T13:14:00.773Z"
      },
      {
        "duration": 10,
        "start_time": "2022-08-14T13:14:51.690Z"
      },
      {
        "duration": 8,
        "start_time": "2022-08-14T13:14:52.541Z"
      },
      {
        "duration": 5,
        "start_time": "2022-08-14T13:15:42.194Z"
      },
      {
        "duration": 5,
        "start_time": "2022-08-14T13:15:45.613Z"
      },
      {
        "duration": 369,
        "start_time": "2022-08-14T13:18:01.877Z"
      },
      {
        "duration": 154,
        "start_time": "2022-08-14T13:18:03.681Z"
      },
      {
        "duration": 17,
        "start_time": "2022-08-14T13:18:16.149Z"
      },
      {
        "duration": 24,
        "start_time": "2022-08-14T13:18:18.451Z"
      },
      {
        "duration": 4,
        "start_time": "2022-08-14T13:18:24.047Z"
      },
      {
        "duration": 13,
        "start_time": "2022-08-14T13:18:26.727Z"
      },
      {
        "duration": 4,
        "start_time": "2022-08-14T13:18:28.100Z"
      },
      {
        "duration": 21,
        "start_time": "2022-08-14T13:18:29.716Z"
      },
      {
        "duration": 3,
        "start_time": "2022-08-14T13:18:38.048Z"
      },
      {
        "duration": 150,
        "start_time": "2022-08-14T13:18:38.052Z"
      },
      {
        "duration": 9,
        "start_time": "2022-08-14T13:18:38.204Z"
      },
      {
        "duration": 26,
        "start_time": "2022-08-14T13:18:38.214Z"
      },
      {
        "duration": 2,
        "start_time": "2022-08-14T13:18:38.242Z"
      },
      {
        "duration": 3,
        "start_time": "2022-08-14T13:18:38.254Z"
      },
      {
        "duration": 13,
        "start_time": "2022-08-14T13:18:38.259Z"
      },
      {
        "duration": 5,
        "start_time": "2022-08-14T13:18:38.273Z"
      },
      {
        "duration": 23,
        "start_time": "2022-08-14T13:18:38.280Z"
      },
      {
        "duration": 16,
        "start_time": "2022-08-14T13:18:38.305Z"
      },
      {
        "duration": 46,
        "start_time": "2022-08-14T13:18:38.323Z"
      },
      {
        "duration": 59,
        "start_time": "2022-08-14T13:18:38.370Z"
      },
      {
        "duration": 79,
        "start_time": "2022-08-14T13:18:38.430Z"
      },
      {
        "duration": 64,
        "start_time": "2022-08-14T13:18:38.511Z"
      },
      {
        "duration": 359,
        "start_time": "2022-08-14T13:18:45.862Z"
      },
      {
        "duration": 142,
        "start_time": "2022-08-14T13:18:46.223Z"
      },
      {
        "duration": 14,
        "start_time": "2022-08-14T13:18:46.367Z"
      },
      {
        "duration": 24,
        "start_time": "2022-08-14T13:18:46.383Z"
      },
      {
        "duration": 2,
        "start_time": "2022-08-14T13:18:46.409Z"
      },
      {
        "duration": 7,
        "start_time": "2022-08-14T13:18:46.412Z"
      },
      {
        "duration": 12,
        "start_time": "2022-08-14T13:18:46.420Z"
      },
      {
        "duration": 24,
        "start_time": "2022-08-14T13:18:46.433Z"
      },
      {
        "duration": 23,
        "start_time": "2022-08-14T13:18:46.458Z"
      },
      {
        "duration": 16,
        "start_time": "2022-08-14T13:18:46.483Z"
      },
      {
        "duration": 18,
        "start_time": "2022-08-14T13:18:46.501Z"
      },
      {
        "duration": 84,
        "start_time": "2022-08-14T13:18:46.521Z"
      },
      {
        "duration": 62,
        "start_time": "2022-08-14T13:18:46.607Z"
      },
      {
        "duration": 55,
        "start_time": "2022-08-14T13:18:46.671Z"
      },
      {
        "duration": 31,
        "start_time": "2022-08-14T13:18:49.490Z"
      },
      {
        "duration": 5,
        "start_time": "2022-08-14T13:19:14.716Z"
      },
      {
        "duration": 9,
        "start_time": "2022-08-14T13:20:27.083Z"
      },
      {
        "duration": 57,
        "start_time": "2022-08-14T13:21:03.884Z"
      },
      {
        "duration": 8,
        "start_time": "2022-08-14T13:21:24.164Z"
      },
      {
        "duration": 8,
        "start_time": "2022-08-14T13:23:37.152Z"
      },
      {
        "duration": 32,
        "start_time": "2022-08-14T13:27:13.378Z"
      },
      {
        "duration": 9,
        "start_time": "2022-08-14T16:12:14.464Z"
      },
      {
        "duration": 127,
        "start_time": "2022-08-14T16:12:47.626Z"
      },
      {
        "duration": 4040,
        "start_time": "2022-08-14T16:12:58.536Z"
      },
      {
        "duration": 29,
        "start_time": "2022-08-14T16:13:23.270Z"
      },
      {
        "duration": 12,
        "start_time": "2022-08-14T16:13:52.333Z"
      },
      {
        "duration": 11,
        "start_time": "2022-08-14T16:14:49.770Z"
      },
      {
        "duration": 8,
        "start_time": "2022-08-15T02:37:58.201Z"
      },
      {
        "duration": 3,
        "start_time": "2022-08-15T02:38:01.486Z"
      },
      {
        "duration": 51,
        "start_time": "2022-08-15T02:38:52.921Z"
      },
      {
        "duration": 0,
        "start_time": "2022-08-15T02:38:52.975Z"
      },
      {
        "duration": 0,
        "start_time": "2022-08-15T02:38:52.976Z"
      },
      {
        "duration": 0,
        "start_time": "2022-08-15T02:38:52.977Z"
      },
      {
        "duration": 0,
        "start_time": "2022-08-15T02:38:52.979Z"
      },
      {
        "duration": 0,
        "start_time": "2022-08-15T02:38:52.980Z"
      },
      {
        "duration": 0,
        "start_time": "2022-08-15T02:38:52.982Z"
      },
      {
        "duration": 0,
        "start_time": "2022-08-15T02:38:52.983Z"
      },
      {
        "duration": 0,
        "start_time": "2022-08-15T02:38:52.985Z"
      },
      {
        "duration": 0,
        "start_time": "2022-08-15T02:38:53.005Z"
      },
      {
        "duration": 0,
        "start_time": "2022-08-15T02:38:53.006Z"
      },
      {
        "duration": 0,
        "start_time": "2022-08-15T02:38:53.007Z"
      },
      {
        "duration": 0,
        "start_time": "2022-08-15T02:38:53.009Z"
      },
      {
        "duration": 0,
        "start_time": "2022-08-15T02:38:53.010Z"
      },
      {
        "duration": 0,
        "start_time": "2022-08-15T02:38:53.011Z"
      },
      {
        "duration": 0,
        "start_time": "2022-08-15T02:38:53.012Z"
      },
      {
        "duration": 0,
        "start_time": "2022-08-15T02:38:53.014Z"
      },
      {
        "duration": 0,
        "start_time": "2022-08-15T02:38:53.015Z"
      },
      {
        "duration": 411,
        "start_time": "2022-08-15T02:39:01.984Z"
      },
      {
        "duration": 888,
        "start_time": "2022-08-15T02:39:02.397Z"
      },
      {
        "duration": 16,
        "start_time": "2022-08-15T02:39:03.287Z"
      },
      {
        "duration": 30,
        "start_time": "2022-08-15T02:39:03.305Z"
      },
      {
        "duration": 2,
        "start_time": "2022-08-15T02:39:03.337Z"
      },
      {
        "duration": 10,
        "start_time": "2022-08-15T02:39:03.340Z"
      },
      {
        "duration": 16,
        "start_time": "2022-08-15T02:39:03.352Z"
      },
      {
        "duration": 8,
        "start_time": "2022-08-15T02:39:03.370Z"
      },
      {
        "duration": 48,
        "start_time": "2022-08-15T02:39:03.380Z"
      },
      {
        "duration": 21,
        "start_time": "2022-08-15T02:39:03.432Z"
      },
      {
        "duration": 22,
        "start_time": "2022-08-15T02:39:03.455Z"
      },
      {
        "duration": 72,
        "start_time": "2022-08-15T02:39:03.479Z"
      },
      {
        "duration": 68,
        "start_time": "2022-08-15T02:39:03.552Z"
      },
      {
        "duration": 59,
        "start_time": "2022-08-15T02:39:03.622Z"
      },
      {
        "duration": 53,
        "start_time": "2022-08-15T02:39:03.683Z"
      },
      {
        "duration": 11,
        "start_time": "2022-08-15T02:39:03.738Z"
      },
      {
        "duration": 36,
        "start_time": "2022-08-15T02:39:03.751Z"
      },
      {
        "duration": 29,
        "start_time": "2022-08-15T02:39:03.789Z"
      },
      {
        "duration": 11,
        "start_time": "2022-08-15T02:39:03.820Z"
      },
      {
        "duration": 4,
        "start_time": "2022-08-15T02:39:03.832Z"
      },
      {
        "duration": 9,
        "start_time": "2022-08-15T02:39:03.837Z"
      },
      {
        "duration": 79,
        "start_time": "2022-08-15T02:39:24.798Z"
      },
      {
        "duration": 4,
        "start_time": "2022-08-15T02:40:56.876Z"
      },
      {
        "duration": 16,
        "start_time": "2022-08-15T03:44:47.798Z"
      },
      {
        "duration": 4,
        "start_time": "2022-08-15T03:44:50.300Z"
      },
      {
        "duration": 23,
        "start_time": "2022-08-15T03:44:52.160Z"
      },
      {
        "duration": 18,
        "start_time": "2022-08-15T03:45:04.267Z"
      },
      {
        "duration": 3,
        "start_time": "2022-08-15T03:50:48.516Z"
      },
      {
        "duration": 17,
        "start_time": "2022-08-15T03:50:56.453Z"
      },
      {
        "duration": 13,
        "start_time": "2022-08-15T03:50:58.138Z"
      },
      {
        "duration": 14,
        "start_time": "2022-08-15T03:52:07.952Z"
      },
      {
        "duration": 13,
        "start_time": "2022-08-15T03:52:09.642Z"
      },
      {
        "duration": 14,
        "start_time": "2022-08-15T03:52:12.113Z"
      },
      {
        "duration": 15,
        "start_time": "2022-08-15T03:52:13.614Z"
      },
      {
        "duration": 8,
        "start_time": "2022-08-15T03:58:06.316Z"
      },
      {
        "duration": 17,
        "start_time": "2022-08-15T03:58:18.184Z"
      },
      {
        "duration": 3,
        "start_time": "2022-08-15T04:01:29.639Z"
      },
      {
        "duration": 10,
        "start_time": "2022-08-15T04:05:52.456Z"
      },
      {
        "duration": 9,
        "start_time": "2022-08-15T04:05:54.864Z"
      },
      {
        "duration": 13,
        "start_time": "2022-08-15T04:05:58.094Z"
      },
      {
        "duration": 4,
        "start_time": "2022-08-15T04:11:45.273Z"
      },
      {
        "duration": 4,
        "start_time": "2022-08-15T04:12:11.193Z"
      },
      {
        "duration": 4,
        "start_time": "2022-08-15T04:14:01.869Z"
      },
      {
        "duration": 16,
        "start_time": "2022-08-15T04:14:35.104Z"
      },
      {
        "duration": 11,
        "start_time": "2022-08-15T04:15:23.575Z"
      },
      {
        "duration": 15,
        "start_time": "2022-08-15T04:15:25.104Z"
      },
      {
        "duration": 11,
        "start_time": "2022-08-15T04:15:26.281Z"
      },
      {
        "duration": 27,
        "start_time": "2022-08-15T04:19:06.971Z"
      },
      {
        "duration": 8,
        "start_time": "2022-08-15T04:19:24.589Z"
      },
      {
        "duration": 8,
        "start_time": "2022-08-15T04:19:25.461Z"
      },
      {
        "duration": 8,
        "start_time": "2022-08-15T04:19:53.193Z"
      },
      {
        "duration": 9,
        "start_time": "2022-08-15T04:20:28.677Z"
      },
      {
        "duration": 5,
        "start_time": "2022-08-15T04:23:06.719Z"
      },
      {
        "duration": 5,
        "start_time": "2022-08-15T04:24:05.780Z"
      },
      {
        "duration": 9,
        "start_time": "2022-08-15T04:25:09.164Z"
      },
      {
        "duration": 8,
        "start_time": "2022-08-15T04:25:14.154Z"
      },
      {
        "duration": 7,
        "start_time": "2022-08-15T04:25:18.587Z"
      },
      {
        "duration": 8,
        "start_time": "2022-08-15T04:25:27.349Z"
      },
      {
        "duration": 385,
        "start_time": "2022-08-15T04:25:43.584Z"
      },
      {
        "duration": 147,
        "start_time": "2022-08-15T04:25:43.970Z"
      },
      {
        "duration": 15,
        "start_time": "2022-08-15T04:25:44.118Z"
      },
      {
        "duration": 24,
        "start_time": "2022-08-15T04:25:44.135Z"
      },
      {
        "duration": 2,
        "start_time": "2022-08-15T04:25:44.160Z"
      },
      {
        "duration": 7,
        "start_time": "2022-08-15T04:25:44.163Z"
      },
      {
        "duration": 13,
        "start_time": "2022-08-15T04:25:44.171Z"
      },
      {
        "duration": 23,
        "start_time": "2022-08-15T04:25:44.185Z"
      },
      {
        "duration": 23,
        "start_time": "2022-08-15T04:25:44.209Z"
      },
      {
        "duration": 17,
        "start_time": "2022-08-15T04:25:44.234Z"
      },
      {
        "duration": 20,
        "start_time": "2022-08-15T04:25:44.253Z"
      },
      {
        "duration": 79,
        "start_time": "2022-08-15T04:25:44.274Z"
      },
      {
        "duration": 77,
        "start_time": "2022-08-15T04:25:44.355Z"
      },
      {
        "duration": 56,
        "start_time": "2022-08-15T04:25:44.434Z"
      },
      {
        "duration": 34,
        "start_time": "2022-08-15T04:25:44.506Z"
      },
      {
        "duration": 11,
        "start_time": "2022-08-15T04:25:44.541Z"
      },
      {
        "duration": 33,
        "start_time": "2022-08-15T04:25:44.553Z"
      },
      {
        "duration": 27,
        "start_time": "2022-08-15T04:25:44.587Z"
      },
      {
        "duration": 11,
        "start_time": "2022-08-15T04:25:44.615Z"
      },
      {
        "duration": 4,
        "start_time": "2022-08-15T04:25:44.627Z"
      },
      {
        "duration": 23,
        "start_time": "2022-08-15T04:25:44.632Z"
      },
      {
        "duration": 12,
        "start_time": "2022-08-15T04:25:44.657Z"
      },
      {
        "duration": 41,
        "start_time": "2022-08-15T04:25:44.670Z"
      },
      {
        "duration": 12,
        "start_time": "2022-08-15T04:25:44.713Z"
      },
      {
        "duration": 14,
        "start_time": "2022-08-15T04:25:44.727Z"
      },
      {
        "duration": 14,
        "start_time": "2022-08-15T04:25:44.743Z"
      },
      {
        "duration": 4,
        "start_time": "2022-08-15T04:25:44.758Z"
      },
      {
        "duration": 45,
        "start_time": "2022-08-15T04:25:44.766Z"
      },
      {
        "duration": 10,
        "start_time": "2022-08-15T04:25:44.812Z"
      },
      {
        "duration": 5,
        "start_time": "2022-08-15T04:25:44.823Z"
      },
      {
        "duration": 19,
        "start_time": "2022-08-15T04:25:44.829Z"
      },
      {
        "duration": 12,
        "start_time": "2022-08-15T04:25:44.849Z"
      },
      {
        "duration": 45,
        "start_time": "2022-08-15T04:25:44.862Z"
      },
      {
        "duration": 12,
        "start_time": "2022-08-15T04:25:44.908Z"
      },
      {
        "duration": 10,
        "start_time": "2022-08-15T04:25:46.619Z"
      },
      {
        "duration": 5,
        "start_time": "2022-08-15T04:26:32.936Z"
      },
      {
        "duration": 4,
        "start_time": "2022-08-15T04:27:02.878Z"
      },
      {
        "duration": 346,
        "start_time": "2022-08-15T04:27:20.334Z"
      },
      {
        "duration": 152,
        "start_time": "2022-08-15T04:27:20.682Z"
      },
      {
        "duration": 15,
        "start_time": "2022-08-15T04:27:20.836Z"
      },
      {
        "duration": 27,
        "start_time": "2022-08-15T04:27:20.852Z"
      },
      {
        "duration": 2,
        "start_time": "2022-08-15T04:27:20.881Z"
      },
      {
        "duration": 22,
        "start_time": "2022-08-15T04:27:20.884Z"
      },
      {
        "duration": 12,
        "start_time": "2022-08-15T04:27:20.908Z"
      },
      {
        "duration": 7,
        "start_time": "2022-08-15T04:27:20.921Z"
      },
      {
        "duration": 21,
        "start_time": "2022-08-15T04:27:20.930Z"
      },
      {
        "duration": 17,
        "start_time": "2022-08-15T04:27:20.955Z"
      },
      {
        "duration": 40,
        "start_time": "2022-08-15T04:27:20.973Z"
      },
      {
        "duration": 58,
        "start_time": "2022-08-15T04:27:21.015Z"
      },
      {
        "duration": 77,
        "start_time": "2022-08-15T04:27:21.074Z"
      },
      {
        "duration": 65,
        "start_time": "2022-08-15T04:27:21.153Z"
      },
      {
        "duration": 33,
        "start_time": "2022-08-15T04:27:21.219Z"
      },
      {
        "duration": 9,
        "start_time": "2022-08-15T04:27:21.254Z"
      },
      {
        "duration": 52,
        "start_time": "2022-08-15T04:27:21.264Z"
      },
      {
        "duration": 10,
        "start_time": "2022-08-15T04:27:21.317Z"
      },
      {
        "duration": 9,
        "start_time": "2022-08-15T04:27:21.329Z"
      },
      {
        "duration": 5,
        "start_time": "2022-08-15T04:27:21.340Z"
      },
      {
        "duration": 22,
        "start_time": "2022-08-15T04:27:21.346Z"
      },
      {
        "duration": 13,
        "start_time": "2022-08-15T04:27:21.370Z"
      },
      {
        "duration": 33,
        "start_time": "2022-08-15T04:27:21.384Z"
      },
      {
        "duration": 12,
        "start_time": "2022-08-15T04:27:21.418Z"
      },
      {
        "duration": 14,
        "start_time": "2022-08-15T04:27:21.431Z"
      },
      {
        "duration": 13,
        "start_time": "2022-08-15T04:27:21.447Z"
      },
      {
        "duration": 4,
        "start_time": "2022-08-15T04:27:21.461Z"
      },
      {
        "duration": 39,
        "start_time": "2022-08-15T04:27:21.467Z"
      },
      {
        "duration": 10,
        "start_time": "2022-08-15T04:27:21.507Z"
      },
      {
        "duration": 3,
        "start_time": "2022-08-15T04:27:21.518Z"
      },
      {
        "duration": 23,
        "start_time": "2022-08-15T04:27:21.523Z"
      },
      {
        "duration": 11,
        "start_time": "2022-08-15T04:27:21.547Z"
      },
      {
        "duration": 21,
        "start_time": "2022-08-15T04:27:21.559Z"
      },
      {
        "duration": 32,
        "start_time": "2022-08-15T04:27:21.581Z"
      },
      {
        "duration": 81,
        "start_time": "2022-08-15T04:27:27.289Z"
      },
      {
        "duration": 5,
        "start_time": "2022-08-15T04:28:41.306Z"
      },
      {
        "duration": 9,
        "start_time": "2022-08-15T04:28:51.812Z"
      },
      {
        "duration": 8,
        "start_time": "2022-08-15T04:28:53.965Z"
      },
      {
        "duration": 9,
        "start_time": "2022-08-15T04:28:56.498Z"
      },
      {
        "duration": 8,
        "start_time": "2022-08-15T04:28:56.893Z"
      },
      {
        "duration": 8,
        "start_time": "2022-08-15T04:28:57.065Z"
      },
      {
        "duration": 10,
        "start_time": "2022-08-15T04:28:57.231Z"
      },
      {
        "duration": 8,
        "start_time": "2022-08-15T04:28:57.379Z"
      },
      {
        "duration": 7,
        "start_time": "2022-08-15T04:28:57.521Z"
      },
      {
        "duration": 8,
        "start_time": "2022-08-15T04:28:57.667Z"
      },
      {
        "duration": 8,
        "start_time": "2022-08-15T04:28:57.794Z"
      },
      {
        "duration": 8,
        "start_time": "2022-08-15T04:28:57.965Z"
      },
      {
        "duration": 8,
        "start_time": "2022-08-15T04:28:58.136Z"
      },
      {
        "duration": 8,
        "start_time": "2022-08-15T04:28:58.295Z"
      },
      {
        "duration": 9,
        "start_time": "2022-08-15T04:28:58.449Z"
      },
      {
        "duration": 8,
        "start_time": "2022-08-15T04:28:58.597Z"
      },
      {
        "duration": 7,
        "start_time": "2022-08-15T04:28:58.750Z"
      },
      {
        "duration": 8,
        "start_time": "2022-08-15T04:28:58.892Z"
      },
      {
        "duration": 8,
        "start_time": "2022-08-15T04:28:59.042Z"
      },
      {
        "duration": 8,
        "start_time": "2022-08-15T04:28:59.184Z"
      },
      {
        "duration": 11,
        "start_time": "2022-08-15T04:29:06.327Z"
      },
      {
        "duration": 10,
        "start_time": "2022-08-15T04:29:09.622Z"
      },
      {
        "duration": 8,
        "start_time": "2022-08-15T04:29:34.376Z"
      },
      {
        "duration": 340,
        "start_time": "2022-08-15T04:29:44.846Z"
      },
      {
        "duration": 144,
        "start_time": "2022-08-15T04:29:45.188Z"
      },
      {
        "duration": 15,
        "start_time": "2022-08-15T04:29:45.333Z"
      },
      {
        "duration": 25,
        "start_time": "2022-08-15T04:29:45.350Z"
      },
      {
        "duration": 3,
        "start_time": "2022-08-15T04:29:45.376Z"
      },
      {
        "duration": 9,
        "start_time": "2022-08-15T04:29:45.380Z"
      },
      {
        "duration": 23,
        "start_time": "2022-08-15T04:29:45.390Z"
      },
      {
        "duration": 6,
        "start_time": "2022-08-15T04:29:45.415Z"
      },
      {
        "duration": 23,
        "start_time": "2022-08-15T04:29:45.422Z"
      },
      {
        "duration": 18,
        "start_time": "2022-08-15T04:29:45.447Z"
      },
      {
        "duration": 42,
        "start_time": "2022-08-15T04:29:45.467Z"
      },
      {
        "duration": 63,
        "start_time": "2022-08-15T04:29:45.511Z"
      },
      {
        "duration": 81,
        "start_time": "2022-08-15T04:29:45.576Z"
      },
      {
        "duration": 65,
        "start_time": "2022-08-15T04:29:45.658Z"
      },
      {
        "duration": 38,
        "start_time": "2022-08-15T04:29:45.724Z"
      },
      {
        "duration": 9,
        "start_time": "2022-08-15T04:29:45.764Z"
      },
      {
        "duration": 51,
        "start_time": "2022-08-15T04:29:45.774Z"
      },
      {
        "duration": 11,
        "start_time": "2022-08-15T04:29:45.827Z"
      },
      {
        "duration": 11,
        "start_time": "2022-08-15T04:29:45.839Z"
      },
      {
        "duration": 3,
        "start_time": "2022-08-15T04:29:45.851Z"
      },
      {
        "duration": 19,
        "start_time": "2022-08-15T04:29:45.856Z"
      },
      {
        "duration": 39,
        "start_time": "2022-08-15T04:29:45.876Z"
      },
      {
        "duration": 13,
        "start_time": "2022-08-15T04:29:45.917Z"
      },
      {
        "duration": 12,
        "start_time": "2022-08-15T04:29:45.932Z"
      },
      {
        "duration": 16,
        "start_time": "2022-08-15T04:29:45.946Z"
      },
      {
        "duration": 44,
        "start_time": "2022-08-15T04:29:45.964Z"
      },
      {
        "duration": 4,
        "start_time": "2022-08-15T04:29:46.010Z"
      },
      {
        "duration": 27,
        "start_time": "2022-08-15T04:29:46.018Z"
      },
      {
        "duration": 26,
        "start_time": "2022-08-15T04:29:46.046Z"
      },
      {
        "duration": 36,
        "start_time": "2022-08-15T04:29:46.074Z"
      },
      {
        "duration": 34,
        "start_time": "2022-08-15T04:29:46.111Z"
      },
      {
        "duration": 19,
        "start_time": "2022-08-15T04:29:46.147Z"
      },
      {
        "duration": 24,
        "start_time": "2022-08-15T04:29:46.167Z"
      },
      {
        "duration": 18,
        "start_time": "2022-08-15T04:29:46.194Z"
      },
      {
        "duration": 8,
        "start_time": "2022-08-15T04:29:48.425Z"
      },
      {
        "duration": 4,
        "start_time": "2022-08-15T04:30:21.263Z"
      },
      {
        "duration": 8,
        "start_time": "2022-08-15T04:31:32.644Z"
      },
      {
        "duration": 5,
        "start_time": "2022-08-15T04:31:35.930Z"
      },
      {
        "duration": 64,
        "start_time": "2022-08-15T04:31:57.220Z"
      },
      {
        "duration": 9,
        "start_time": "2022-08-15T04:32:01.682Z"
      },
      {
        "duration": 5,
        "start_time": "2022-08-15T04:32:03.390Z"
      },
      {
        "duration": 7,
        "start_time": "2022-08-15T04:32:17.259Z"
      },
      {
        "duration": 5,
        "start_time": "2022-08-15T04:32:22.922Z"
      },
      {
        "duration": 8,
        "start_time": "2022-08-15T04:33:06.161Z"
      },
      {
        "duration": 4,
        "start_time": "2022-08-15T04:33:24.609Z"
      },
      {
        "duration": 349,
        "start_time": "2022-08-15T04:34:10.731Z"
      },
      {
        "duration": 142,
        "start_time": "2022-08-15T04:34:11.082Z"
      },
      {
        "duration": 15,
        "start_time": "2022-08-15T04:34:11.226Z"
      },
      {
        "duration": 25,
        "start_time": "2022-08-15T04:34:11.243Z"
      },
      {
        "duration": 2,
        "start_time": "2022-08-15T04:34:11.270Z"
      },
      {
        "duration": 6,
        "start_time": "2022-08-15T04:34:11.273Z"
      },
      {
        "duration": 31,
        "start_time": "2022-08-15T04:34:11.280Z"
      },
      {
        "duration": 6,
        "start_time": "2022-08-15T04:34:11.313Z"
      },
      {
        "duration": 21,
        "start_time": "2022-08-15T04:34:11.320Z"
      },
      {
        "duration": 16,
        "start_time": "2022-08-15T04:34:11.343Z"
      },
      {
        "duration": 19,
        "start_time": "2022-08-15T04:34:11.361Z"
      },
      {
        "duration": 77,
        "start_time": "2022-08-15T04:34:11.381Z"
      },
      {
        "duration": 68,
        "start_time": "2022-08-15T04:34:11.460Z"
      },
      {
        "duration": 56,
        "start_time": "2022-08-15T04:34:11.530Z"
      },
      {
        "duration": 43,
        "start_time": "2022-08-15T04:34:11.587Z"
      },
      {
        "duration": 8,
        "start_time": "2022-08-15T04:34:11.632Z"
      },
      {
        "duration": 31,
        "start_time": "2022-08-15T04:34:11.642Z"
      },
      {
        "duration": 31,
        "start_time": "2022-08-15T04:34:11.675Z"
      },
      {
        "duration": 10,
        "start_time": "2022-08-15T04:34:11.708Z"
      },
      {
        "duration": 3,
        "start_time": "2022-08-15T04:34:11.719Z"
      },
      {
        "duration": 19,
        "start_time": "2022-08-15T04:34:11.723Z"
      },
      {
        "duration": 12,
        "start_time": "2022-08-15T04:34:11.744Z"
      },
      {
        "duration": 12,
        "start_time": "2022-08-15T04:34:11.757Z"
      },
      {
        "duration": 39,
        "start_time": "2022-08-15T04:34:11.770Z"
      },
      {
        "duration": 14,
        "start_time": "2022-08-15T04:34:11.810Z"
      },
      {
        "duration": 11,
        "start_time": "2022-08-15T04:34:11.826Z"
      },
      {
        "duration": 4,
        "start_time": "2022-08-15T04:34:11.838Z"
      },
      {
        "duration": 9,
        "start_time": "2022-08-15T04:34:11.845Z"
      },
      {
        "duration": 8,
        "start_time": "2022-08-15T04:34:11.856Z"
      },
      {
        "duration": 4,
        "start_time": "2022-08-15T04:34:11.865Z"
      },
      {
        "duration": 48,
        "start_time": "2022-08-15T04:34:11.870Z"
      },
      {
        "duration": 11,
        "start_time": "2022-08-15T04:34:11.919Z"
      },
      {
        "duration": 14,
        "start_time": "2022-08-15T04:34:11.931Z"
      },
      {
        "duration": 9,
        "start_time": "2022-08-15T04:34:11.947Z"
      },
      {
        "duration": 6,
        "start_time": "2022-08-15T04:34:11.958Z"
      },
      {
        "duration": 3,
        "start_time": "2022-08-15T04:34:11.966Z"
      },
      {
        "duration": 38,
        "start_time": "2022-08-15T04:34:11.970Z"
      },
      {
        "duration": 4,
        "start_time": "2022-08-15T04:34:12.010Z"
      }
    ],
    "colab": {
      "collapsed_sections": [
        "E0vqbgi9ay0H",
        "VUC88oWjTJw2"
      ],
      "name": "Практическая работа №1(DA16_plus).ipynb",
      "provenance": [],
      "include_colab_link": true
    },
    "kernelspec": {
      "display_name": "Python 3 (ipykernel)",
      "language": "python",
      "name": "python3"
    },
    "language_info": {
      "codemirror_mode": {
        "name": "ipython",
        "version": 3
      },
      "file_extension": ".py",
      "mimetype": "text/x-python",
      "name": "python",
      "nbconvert_exporter": "python",
      "pygments_lexer": "ipython3",
      "version": "3.9.5"
    },
    "toc": {
      "base_numbering": 1,
      "nav_menu": {
        "height": "215px",
        "width": "403px"
      },
      "number_sections": true,
      "sideBar": true,
      "skip_h1_title": true,
      "title_cell": "Table of Contents",
      "title_sidebar": "Contents",
      "toc_cell": false,
      "toc_position": {
        "height": "calc(100% - 180px)",
        "left": "10px",
        "top": "150px",
        "width": "285.825px"
      },
      "toc_section_display": true,
      "toc_window_display": false
    }
  },
  "nbformat": 4,
  "nbformat_minor": 0
}