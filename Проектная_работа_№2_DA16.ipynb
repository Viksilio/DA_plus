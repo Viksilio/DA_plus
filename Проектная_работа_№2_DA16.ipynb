{
  "cells": [
    {
      "cell_type": "markdown",
      "metadata": {
        "id": "view-in-github",
        "colab_type": "text"
      },
      "source": [
        "<a href=\"https://colab.research.google.com/github/Viksilio/DA_plus/blob/master/%D0%9F%D1%80%D0%BE%D0%B5%D0%BA%D1%82%D0%BD%D0%B0%D1%8F_%D1%80%D0%B0%D0%B1%D0%BE%D1%82%D0%B0_%E2%84%962_DA16.ipynb\" target=\"_parent\"><img src=\"https://colab.research.google.com/assets/colab-badge.svg\" alt=\"Open In Colab\"/></a>"
      ]
    },
    {
      "cell_type": "markdown",
      "id": "57acc4db",
      "metadata": {
        "id": "57acc4db"
      },
      "source": [
        "<div class=\"alert alert-success\">\n",
        "<h1> Привет, Владислав!</h1>\n",
        "    \n",
        "    \n",
        "Меня зовут Даниил, я буду проверять твой проект. Предлагаю общаться на \"ты\" :). Если это не совсем комфортно, пожалуйста, дай знать.\n",
        "    \n",
        "Моя главная цель - не указывать на твои ошибки, а помочь тебе закрепить изученный материал и приблизиться к освоению профессии. \n",
        "    \n",
        "Здесь и далее я буду помечать свои комментарии в отдельных раскрашенных ячейках: \n",
        "    \n",
        "- В зеленых ячейках (как эта) я буду оставлять свои рекомендации и комментарии, которые помогут сделать твое решение лучше. Доработки, приведенные в таких ячейках, не обязательны к выполнению. \n",
        "\n",
        "<div class=\"alert alert-warning\">\n",
        "<h1> Комментарий ревьюера \t&#128276;</h1>\n",
        "\n",
        "В желтых ячейках я буду подсвечивать тебе некритичные ошибки и оставлять рекомендации на будущее, которые помогут тебе писать более эффективный код, защищать себя от ошибок, сделать проект более выразительным для заказчика. \n",
        "    \n",
        "Не обязательно вносить правки по желтым комментариям для того, чтобы проект был принят.\n",
        "\n",
        "</div>\n",
        "    \n",
        "<div class=\"alert alert-danger\">\n",
        "<h1> Комментарий ревьюера &#9940;</h1>\n",
        "\n",
        "В красных комментариях будут оставлены рекомендации, выполнение которых необходимо для успешной сдачи проекта. Причины простановки каждого такого комментария я подробно опишу. В случае, если что-то осталось непонятным, пожалуйста, спрашивай. Очень важно, чтобы проект принес тебе максимум пользы. \n",
        "\n",
        "</div>\n",
        "    \n",
        "Давай работать над проектом в диалоге: если ты вносишь какие-то изменения согласно моим рекомендациям, обязательно укажи на это. Выбери для своих комментариев заметный цвет, чтобы я мог легче отследить изменения. Важно не перемещать и не удалять наши комментарии: так мы сможем провести повторное ревью оперативнее. \n",
        "    \n",
        "<div class=\"alert alert-info\"> \n",
        "    \n",
        "<h1>Комментарий студента</h1> \n",
        "    \n",
        "В таких ячейках ты можешь оставлять свои комментарии)\n",
        "\n",
        "</div>\n",
        "\n",
        "</div>"
      ]
    },
    {
      "cell_type": "markdown",
      "id": "4bf5d866",
      "metadata": {
        "deletable": false,
        "editable": false,
        "id": "4bf5d866"
      },
      "source": [
        "# Исследование надежности заемщиков\n"
      ]
    },
    {
      "cell_type": "markdown",
      "id": "c176f217",
      "metadata": {
        "deletable": false,
        "editable": false,
        "id": "c176f217"
      },
      "source": [
        "Во второй части проекта вы выполните шаги 3 и 4. Их вручную проверит ревьюер.\n",
        "Чтобы вам не пришлось писать код заново для шагов 1 и 2, мы добавили авторские решения в ячейки с кодом. \n",
        "\n"
      ]
    },
    {
      "cell_type": "markdown",
      "id": "e71204f2",
      "metadata": {
        "deletable": false,
        "editable": false,
        "id": "e71204f2"
      },
      "source": [
        "## Откройте таблицу и изучите общую информацию о данных"
      ]
    },
    {
      "cell_type": "markdown",
      "id": "9ad16d0c",
      "metadata": {
        "deletable": false,
        "editable": false,
        "id": "9ad16d0c"
      },
      "source": [
        "**Задание 1. Импортируйте библиотеку pandas. Считайте данные из csv-файла в датафрейм и сохраните в переменную `data`. Путь к файлу:**\n",
        "\n",
        "`/datasets/data.csv`"
      ]
    },
    {
      "cell_type": "code",
      "execution_count": null,
      "id": "43401579",
      "metadata": {
        "deletable": false,
        "id": "43401579",
        "trusted": false
      },
      "outputs": [],
      "source": [
        "import pandas as pd\n",
        "import seaborn as sns\n",
        "\n",
        "try:\n",
        "    data = pd.read_csv('/datasets/data.csv')\n",
        "except:\n",
        "    data = pd.read_csv('https://code.s3.yandex.net/datasets/data.csv')"
      ]
    },
    {
      "cell_type": "markdown",
      "id": "95bdd571",
      "metadata": {
        "deletable": false,
        "editable": false,
        "id": "95bdd571"
      },
      "source": [
        "**Задание 2. Выведите первые 20 строчек датафрейма `data` на экран.**"
      ]
    },
    {
      "cell_type": "code",
      "execution_count": null,
      "id": "7c8a33a2",
      "metadata": {
        "deletable": false,
        "id": "7c8a33a2",
        "outputId": "1a8f3ef2-d323-4ec2-ddf7-89670b5944c4",
        "trusted": false
      },
      "outputs": [
        {
          "data": {
            "text/html": "<div>\n<style scoped>\n    .dataframe tbody tr th:only-of-type {\n        vertical-align: middle;\n    }\n\n    .dataframe tbody tr th {\n        vertical-align: top;\n    }\n\n    .dataframe thead th {\n        text-align: right;\n    }\n</style>\n<table border=\"1\" class=\"dataframe\">\n  <thead>\n    <tr style=\"text-align: right;\">\n      <th></th>\n      <th>children</th>\n      <th>days_employed</th>\n      <th>dob_years</th>\n      <th>education</th>\n      <th>education_id</th>\n      <th>family_status</th>\n      <th>family_status_id</th>\n      <th>gender</th>\n      <th>income_type</th>\n      <th>debt</th>\n      <th>total_income</th>\n      <th>purpose</th>\n    </tr>\n  </thead>\n  <tbody>\n    <tr>\n      <th>0</th>\n      <td>1</td>\n      <td>-8437.673028</td>\n      <td>42</td>\n      <td>высшее</td>\n      <td>0</td>\n      <td>женат / замужем</td>\n      <td>0</td>\n      <td>F</td>\n      <td>сотрудник</td>\n      <td>0</td>\n      <td>253875.639453</td>\n      <td>покупка жилья</td>\n    </tr>\n    <tr>\n      <th>1</th>\n      <td>1</td>\n      <td>-4024.803754</td>\n      <td>36</td>\n      <td>среднее</td>\n      <td>1</td>\n      <td>женат / замужем</td>\n      <td>0</td>\n      <td>F</td>\n      <td>сотрудник</td>\n      <td>0</td>\n      <td>112080.014102</td>\n      <td>приобретение автомобиля</td>\n    </tr>\n    <tr>\n      <th>2</th>\n      <td>0</td>\n      <td>-5623.422610</td>\n      <td>33</td>\n      <td>Среднее</td>\n      <td>1</td>\n      <td>женат / замужем</td>\n      <td>0</td>\n      <td>M</td>\n      <td>сотрудник</td>\n      <td>0</td>\n      <td>145885.952297</td>\n      <td>покупка жилья</td>\n    </tr>\n    <tr>\n      <th>3</th>\n      <td>3</td>\n      <td>-4124.747207</td>\n      <td>32</td>\n      <td>среднее</td>\n      <td>1</td>\n      <td>женат / замужем</td>\n      <td>0</td>\n      <td>M</td>\n      <td>сотрудник</td>\n      <td>0</td>\n      <td>267628.550329</td>\n      <td>дополнительное образование</td>\n    </tr>\n    <tr>\n      <th>4</th>\n      <td>0</td>\n      <td>340266.072047</td>\n      <td>53</td>\n      <td>среднее</td>\n      <td>1</td>\n      <td>гражданский брак</td>\n      <td>1</td>\n      <td>F</td>\n      <td>пенсионер</td>\n      <td>0</td>\n      <td>158616.077870</td>\n      <td>сыграть свадьбу</td>\n    </tr>\n    <tr>\n      <th>5</th>\n      <td>0</td>\n      <td>-926.185831</td>\n      <td>27</td>\n      <td>высшее</td>\n      <td>0</td>\n      <td>гражданский брак</td>\n      <td>1</td>\n      <td>M</td>\n      <td>компаньон</td>\n      <td>0</td>\n      <td>255763.565419</td>\n      <td>покупка жилья</td>\n    </tr>\n    <tr>\n      <th>6</th>\n      <td>0</td>\n      <td>-2879.202052</td>\n      <td>43</td>\n      <td>высшее</td>\n      <td>0</td>\n      <td>женат / замужем</td>\n      <td>0</td>\n      <td>F</td>\n      <td>компаньон</td>\n      <td>0</td>\n      <td>240525.971920</td>\n      <td>операции с жильем</td>\n    </tr>\n    <tr>\n      <th>7</th>\n      <td>0</td>\n      <td>-152.779569</td>\n      <td>50</td>\n      <td>СРЕДНЕЕ</td>\n      <td>1</td>\n      <td>женат / замужем</td>\n      <td>0</td>\n      <td>M</td>\n      <td>сотрудник</td>\n      <td>0</td>\n      <td>135823.934197</td>\n      <td>образование</td>\n    </tr>\n    <tr>\n      <th>8</th>\n      <td>2</td>\n      <td>-6929.865299</td>\n      <td>35</td>\n      <td>ВЫСШЕЕ</td>\n      <td>0</td>\n      <td>гражданский брак</td>\n      <td>1</td>\n      <td>F</td>\n      <td>сотрудник</td>\n      <td>0</td>\n      <td>95856.832424</td>\n      <td>на проведение свадьбы</td>\n    </tr>\n    <tr>\n      <th>9</th>\n      <td>0</td>\n      <td>-2188.756445</td>\n      <td>41</td>\n      <td>среднее</td>\n      <td>1</td>\n      <td>женат / замужем</td>\n      <td>0</td>\n      <td>M</td>\n      <td>сотрудник</td>\n      <td>0</td>\n      <td>144425.938277</td>\n      <td>покупка жилья для семьи</td>\n    </tr>\n    <tr>\n      <th>10</th>\n      <td>2</td>\n      <td>-4171.483647</td>\n      <td>36</td>\n      <td>высшее</td>\n      <td>0</td>\n      <td>женат / замужем</td>\n      <td>0</td>\n      <td>M</td>\n      <td>компаньон</td>\n      <td>0</td>\n      <td>113943.491460</td>\n      <td>покупка недвижимости</td>\n    </tr>\n    <tr>\n      <th>11</th>\n      <td>0</td>\n      <td>-792.701887</td>\n      <td>40</td>\n      <td>среднее</td>\n      <td>1</td>\n      <td>женат / замужем</td>\n      <td>0</td>\n      <td>F</td>\n      <td>сотрудник</td>\n      <td>0</td>\n      <td>77069.234271</td>\n      <td>покупка коммерческой недвижимости</td>\n    </tr>\n    <tr>\n      <th>12</th>\n      <td>0</td>\n      <td>NaN</td>\n      <td>65</td>\n      <td>среднее</td>\n      <td>1</td>\n      <td>гражданский брак</td>\n      <td>1</td>\n      <td>M</td>\n      <td>пенсионер</td>\n      <td>0</td>\n      <td>NaN</td>\n      <td>сыграть свадьбу</td>\n    </tr>\n    <tr>\n      <th>13</th>\n      <td>0</td>\n      <td>-1846.641941</td>\n      <td>54</td>\n      <td>неоконченное высшее</td>\n      <td>2</td>\n      <td>женат / замужем</td>\n      <td>0</td>\n      <td>F</td>\n      <td>сотрудник</td>\n      <td>0</td>\n      <td>130458.228857</td>\n      <td>приобретение автомобиля</td>\n    </tr>\n    <tr>\n      <th>14</th>\n      <td>0</td>\n      <td>-1844.956182</td>\n      <td>56</td>\n      <td>высшее</td>\n      <td>0</td>\n      <td>гражданский брак</td>\n      <td>1</td>\n      <td>F</td>\n      <td>компаньон</td>\n      <td>1</td>\n      <td>165127.911772</td>\n      <td>покупка жилой недвижимости</td>\n    </tr>\n    <tr>\n      <th>15</th>\n      <td>1</td>\n      <td>-972.364419</td>\n      <td>26</td>\n      <td>среднее</td>\n      <td>1</td>\n      <td>женат / замужем</td>\n      <td>0</td>\n      <td>F</td>\n      <td>сотрудник</td>\n      <td>0</td>\n      <td>116820.904450</td>\n      <td>строительство собственной недвижимости</td>\n    </tr>\n    <tr>\n      <th>16</th>\n      <td>0</td>\n      <td>-1719.934226</td>\n      <td>35</td>\n      <td>среднее</td>\n      <td>1</td>\n      <td>женат / замужем</td>\n      <td>0</td>\n      <td>F</td>\n      <td>сотрудник</td>\n      <td>0</td>\n      <td>289202.704229</td>\n      <td>недвижимость</td>\n    </tr>\n    <tr>\n      <th>17</th>\n      <td>0</td>\n      <td>-2369.999720</td>\n      <td>33</td>\n      <td>высшее</td>\n      <td>0</td>\n      <td>гражданский брак</td>\n      <td>1</td>\n      <td>M</td>\n      <td>сотрудник</td>\n      <td>0</td>\n      <td>90410.586745</td>\n      <td>строительство недвижимости</td>\n    </tr>\n    <tr>\n      <th>18</th>\n      <td>0</td>\n      <td>400281.136913</td>\n      <td>53</td>\n      <td>среднее</td>\n      <td>1</td>\n      <td>вдовец / вдова</td>\n      <td>2</td>\n      <td>F</td>\n      <td>пенсионер</td>\n      <td>0</td>\n      <td>56823.777243</td>\n      <td>на покупку подержанного автомобиля</td>\n    </tr>\n    <tr>\n      <th>19</th>\n      <td>0</td>\n      <td>-10038.818549</td>\n      <td>48</td>\n      <td>СРЕДНЕЕ</td>\n      <td>1</td>\n      <td>в разводе</td>\n      <td>3</td>\n      <td>F</td>\n      <td>сотрудник</td>\n      <td>0</td>\n      <td>242831.107982</td>\n      <td>на покупку своего автомобиля</td>\n    </tr>\n  </tbody>\n</table>\n</div>",
            "text/plain": "    children  days_employed  dob_years            education  education_id  \\\n0          1   -8437.673028         42               высшее             0   \n1          1   -4024.803754         36              среднее             1   \n2          0   -5623.422610         33              Среднее             1   \n3          3   -4124.747207         32              среднее             1   \n4          0  340266.072047         53              среднее             1   \n5          0    -926.185831         27               высшее             0   \n6          0   -2879.202052         43               высшее             0   \n7          0    -152.779569         50              СРЕДНЕЕ             1   \n8          2   -6929.865299         35               ВЫСШЕЕ             0   \n9          0   -2188.756445         41              среднее             1   \n10         2   -4171.483647         36               высшее             0   \n11         0    -792.701887         40              среднее             1   \n12         0            NaN         65              среднее             1   \n13         0   -1846.641941         54  неоконченное высшее             2   \n14         0   -1844.956182         56               высшее             0   \n15         1    -972.364419         26              среднее             1   \n16         0   -1719.934226         35              среднее             1   \n17         0   -2369.999720         33               высшее             0   \n18         0  400281.136913         53              среднее             1   \n19         0  -10038.818549         48              СРЕДНЕЕ             1   \n\n       family_status  family_status_id gender income_type  debt  \\\n0    женат / замужем                 0      F   сотрудник     0   \n1    женат / замужем                 0      F   сотрудник     0   \n2    женат / замужем                 0      M   сотрудник     0   \n3    женат / замужем                 0      M   сотрудник     0   \n4   гражданский брак                 1      F   пенсионер     0   \n5   гражданский брак                 1      M   компаньон     0   \n6    женат / замужем                 0      F   компаньон     0   \n7    женат / замужем                 0      M   сотрудник     0   \n8   гражданский брак                 1      F   сотрудник     0   \n9    женат / замужем                 0      M   сотрудник     0   \n10   женат / замужем                 0      M   компаньон     0   \n11   женат / замужем                 0      F   сотрудник     0   \n12  гражданский брак                 1      M   пенсионер     0   \n13   женат / замужем                 0      F   сотрудник     0   \n14  гражданский брак                 1      F   компаньон     1   \n15   женат / замужем                 0      F   сотрудник     0   \n16   женат / замужем                 0      F   сотрудник     0   \n17  гражданский брак                 1      M   сотрудник     0   \n18    вдовец / вдова                 2      F   пенсионер     0   \n19         в разводе                 3      F   сотрудник     0   \n\n     total_income                                 purpose  \n0   253875.639453                           покупка жилья  \n1   112080.014102                 приобретение автомобиля  \n2   145885.952297                           покупка жилья  \n3   267628.550329              дополнительное образование  \n4   158616.077870                         сыграть свадьбу  \n5   255763.565419                           покупка жилья  \n6   240525.971920                       операции с жильем  \n7   135823.934197                             образование  \n8    95856.832424                   на проведение свадьбы  \n9   144425.938277                 покупка жилья для семьи  \n10  113943.491460                    покупка недвижимости  \n11   77069.234271       покупка коммерческой недвижимости  \n12            NaN                         сыграть свадьбу  \n13  130458.228857                 приобретение автомобиля  \n14  165127.911772              покупка жилой недвижимости  \n15  116820.904450  строительство собственной недвижимости  \n16  289202.704229                            недвижимость  \n17   90410.586745              строительство недвижимости  \n18   56823.777243      на покупку подержанного автомобиля  \n19  242831.107982            на покупку своего автомобиля  "
          },
          "execution_count": 2,
          "metadata": {},
          "output_type": "execute_result"
        }
      ],
      "source": [
        "data.head(20)"
      ]
    },
    {
      "cell_type": "markdown",
      "id": "ad612d64",
      "metadata": {
        "deletable": false,
        "editable": false,
        "id": "ad612d64"
      },
      "source": [
        "**Задание 3. Выведите основную информацию о датафрейме с помощью метода `info()`.**"
      ]
    },
    {
      "cell_type": "code",
      "execution_count": null,
      "id": "eb53356c",
      "metadata": {
        "deletable": false,
        "id": "eb53356c",
        "outputId": "15376089-8dad-46c9-b520-c05248d43158",
        "trusted": false
      },
      "outputs": [
        {
          "name": "stdout",
          "output_type": "stream",
          "text": "<class 'pandas.core.frame.DataFrame'>\nRangeIndex: 21525 entries, 0 to 21524\nData columns (total 12 columns):\n #   Column            Non-Null Count  Dtype  \n---  ------            --------------  -----  \n 0   children          21525 non-null  int64  \n 1   days_employed     19351 non-null  float64\n 2   dob_years         21525 non-null  int64  \n 3   education         21525 non-null  object \n 4   education_id      21525 non-null  int64  \n 5   family_status     21525 non-null  object \n 6   family_status_id  21525 non-null  int64  \n 7   gender            21525 non-null  object \n 8   income_type       21525 non-null  object \n 9   debt              21525 non-null  int64  \n 10  total_income      19351 non-null  float64\n 11  purpose           21525 non-null  object \ndtypes: float64(2), int64(5), object(5)\nmemory usage: 2.0+ MB\n"
        }
      ],
      "source": [
        "data.info()"
      ]
    },
    {
      "cell_type": "markdown",
      "id": "d26cd3b9",
      "metadata": {
        "deletable": false,
        "editable": false,
        "id": "d26cd3b9"
      },
      "source": [
        "## Предобработка данных"
      ]
    },
    {
      "cell_type": "markdown",
      "id": "366ec09c",
      "metadata": {
        "deletable": false,
        "editable": false,
        "id": "366ec09c"
      },
      "source": [
        "### Удаление пропусков"
      ]
    },
    {
      "cell_type": "markdown",
      "id": "3196062b",
      "metadata": {
        "deletable": false,
        "editable": false,
        "id": "3196062b"
      },
      "source": [
        "**Задание 4. Выведите количество пропущенных значений для каждого столбца. Используйте комбинацию двух методов.**"
      ]
    },
    {
      "cell_type": "code",
      "execution_count": null,
      "id": "10e37414",
      "metadata": {
        "deletable": false,
        "id": "10e37414",
        "outputId": "81f4d817-781c-465c-ed15-91ce4446810d",
        "trusted": false
      },
      "outputs": [
        {
          "data": {
            "text/plain": "children               0\ndays_employed       2174\ndob_years              0\neducation              0\neducation_id           0\nfamily_status          0\nfamily_status_id       0\ngender                 0\nincome_type            0\ndebt                   0\ntotal_income        2174\npurpose                0\ndtype: int64"
          },
          "execution_count": 4,
          "metadata": {},
          "output_type": "execute_result"
        }
      ],
      "source": [
        "data.isna().sum()"
      ]
    },
    {
      "cell_type": "markdown",
      "id": "d965121a",
      "metadata": {
        "deletable": false,
        "editable": false,
        "id": "d965121a"
      },
      "source": [
        "**Задание 5. В двух столбцах есть пропущенные значения. Один из них — `days_employed`. Пропуски в этом столбце вы обработаете на следующем этапе. Другой столбец с пропущенными значениями — `total_income` — хранит данные о доходах. На сумму дохода сильнее всего влияет тип занятости, поэтому заполнить пропуски в этом столбце нужно медианным значением по каждому типу из столбца `income_type`. Например, у человека с типом занятости `сотрудник` пропуск в столбце `total_income` должен быть заполнен медианным доходом среди всех записей с тем же типом.**"
      ]
    },
    {
      "cell_type": "code",
      "execution_count": null,
      "id": "403dda63",
      "metadata": {
        "deletable": false,
        "id": "403dda63",
        "trusted": false
      },
      "outputs": [],
      "source": [
        "for t in data['income_type'].unique():\n",
        "    data.loc[(data['income_type'] == t) & (data['total_income'].isna()), 'total_income'] = \\\n",
        "    data.loc[(data['income_type'] == t), 'total_income'].median()"
      ]
    },
    {
      "cell_type": "markdown",
      "id": "5ebd7278",
      "metadata": {
        "deletable": false,
        "editable": false,
        "id": "5ebd7278"
      },
      "source": [
        "### Обработка аномальных значений"
      ]
    },
    {
      "cell_type": "markdown",
      "id": "03b1d6fb",
      "metadata": {
        "deletable": false,
        "editable": false,
        "id": "03b1d6fb"
      },
      "source": [
        "**Задание 6. В данных могут встречаться артефакты (аномалии) — значения, которые не отражают действительность и появились по какой-то ошибке. таким артефактом будет отрицательное количество дней трудового стажа в столбце `days_employed`. Для реальных данных это нормально. Обработайте значения в этом столбце: замените все отрицательные значения положительными с помощью метода `abs()`.**"
      ]
    },
    {
      "cell_type": "code",
      "execution_count": null,
      "id": "d6c2eb47",
      "metadata": {
        "deletable": false,
        "id": "d6c2eb47",
        "trusted": false
      },
      "outputs": [],
      "source": [
        "data['days_employed'] = data['days_employed'].abs()"
      ]
    },
    {
      "cell_type": "markdown",
      "id": "8dfacc64",
      "metadata": {
        "deletable": false,
        "editable": false,
        "id": "8dfacc64"
      },
      "source": [
        "**Задание 7. Для каждого типа занятости выведите медианное значение трудового стажа `days_employed` в днях.**"
      ]
    },
    {
      "cell_type": "code",
      "execution_count": null,
      "id": "015145db",
      "metadata": {
        "deletable": false,
        "id": "015145db",
        "outputId": "801ef80e-522b-4668-f34e-565af7432bcf",
        "trusted": false
      },
      "outputs": [
        {
          "data": {
            "text/plain": "income_type\nбезработный        366413.652744\nв декрете            3296.759962\nгосслужащий          2689.368353\nкомпаньон            1547.382223\nпенсионер          365213.306266\nпредприниматель       520.848083\nсотрудник            1574.202821\nстудент               578.751554\nName: days_employed, dtype: float64"
          },
          "execution_count": 7,
          "metadata": {},
          "output_type": "execute_result"
        }
      ],
      "source": [
        "data.groupby('income_type')['days_employed'].agg('median')"
      ]
    },
    {
      "cell_type": "markdown",
      "id": "e174aac6",
      "metadata": {
        "deletable": false,
        "editable": false,
        "id": "e174aac6"
      },
      "source": [
        "У двух типов (безработные и пенсионеры) получатся аномально большие значения. Исправить такие значения сложно, поэтому оставьте их как есть. Тем более этот столбец не понадобится вам для исследования."
      ]
    },
    {
      "cell_type": "markdown",
      "id": "c76a0745",
      "metadata": {
        "deletable": false,
        "editable": false,
        "id": "c76a0745"
      },
      "source": [
        "**Задание 8. Выведите перечень уникальных значений столбца `children`.**"
      ]
    },
    {
      "cell_type": "code",
      "execution_count": null,
      "id": "3806890d",
      "metadata": {
        "deletable": false,
        "id": "3806890d",
        "outputId": "6975b15c-7f95-4697-d16d-a0c79b657b03",
        "trusted": false
      },
      "outputs": [
        {
          "data": {
            "text/plain": "array([ 1,  0,  3,  2, -1,  4, 20,  5])"
          },
          "execution_count": 8,
          "metadata": {},
          "output_type": "execute_result"
        }
      ],
      "source": [
        "data['children'].unique()"
      ]
    },
    {
      "cell_type": "markdown",
      "id": "3efe5085",
      "metadata": {
        "deletable": false,
        "editable": false,
        "id": "3efe5085"
      },
      "source": [
        "**Задание 9. В столбце `children` есть два аномальных значения. Удалите строки, в которых встречаются такие аномальные значения из датафрейма `data`.**"
      ]
    },
    {
      "cell_type": "code",
      "execution_count": null,
      "id": "45e68d05",
      "metadata": {
        "deletable": false,
        "id": "45e68d05",
        "trusted": false
      },
      "outputs": [],
      "source": [
        "data = data[(data['children'] != -1) & (data['children'] != 20)]"
      ]
    },
    {
      "cell_type": "markdown",
      "id": "4153f5a4",
      "metadata": {
        "deletable": false,
        "editable": false,
        "id": "4153f5a4"
      },
      "source": [
        "**Задание 10. Ещё раз выведите перечень уникальных значений столбца `children`, чтобы убедиться, что артефакты удалены.**"
      ]
    },
    {
      "cell_type": "code",
      "execution_count": null,
      "id": "0d4a5481",
      "metadata": {
        "deletable": false,
        "id": "0d4a5481",
        "outputId": "b2097101-d49d-44d9-901b-32a65c9463d1",
        "trusted": false
      },
      "outputs": [
        {
          "data": {
            "text/plain": "array([1, 0, 3, 2, 4, 5])"
          },
          "execution_count": 10,
          "metadata": {},
          "output_type": "execute_result"
        }
      ],
      "source": [
        "data['children'].unique()"
      ]
    },
    {
      "cell_type": "markdown",
      "id": "6c15c439",
      "metadata": {
        "deletable": false,
        "editable": false,
        "id": "6c15c439"
      },
      "source": [
        "### Удаление пропусков (продолжение)"
      ]
    },
    {
      "cell_type": "markdown",
      "id": "8688ba74",
      "metadata": {
        "deletable": false,
        "editable": false,
        "id": "8688ba74"
      },
      "source": [
        "**Задание 11. Заполните пропуски в столбце `days_employed` медианными значениями по каждого типа занятости `income_type`.**"
      ]
    },
    {
      "cell_type": "code",
      "execution_count": null,
      "id": "0ed318c5",
      "metadata": {
        "deletable": false,
        "id": "0ed318c5",
        "trusted": false
      },
      "outputs": [],
      "source": [
        "for t in data['income_type'].unique():\n",
        "    data.loc[(data['income_type'] == t) & (data['days_employed'].isna()), 'days_employed'] = \\\n",
        "    data.loc[(data['income_type'] == t), 'days_employed'].median()"
      ]
    },
    {
      "cell_type": "markdown",
      "id": "430fade3",
      "metadata": {
        "deletable": false,
        "editable": false,
        "id": "430fade3"
      },
      "source": [
        "**Задание 12. Убедитесь, что все пропуски заполнены. Проверьте себя и ещё раз выведите количество пропущенных значений для каждого столбца с помощью двух методов.**"
      ]
    },
    {
      "cell_type": "code",
      "execution_count": null,
      "id": "f576911a",
      "metadata": {
        "deletable": false,
        "id": "f576911a",
        "outputId": "8da1e4e1-358e-4e87-98c9-f261bce0a7b2",
        "trusted": false
      },
      "outputs": [
        {
          "data": {
            "text/plain": "children            0\ndays_employed       0\ndob_years           0\neducation           0\neducation_id        0\nfamily_status       0\nfamily_status_id    0\ngender              0\nincome_type         0\ndebt                0\ntotal_income        0\npurpose             0\ndtype: int64"
          },
          "execution_count": 12,
          "metadata": {},
          "output_type": "execute_result"
        }
      ],
      "source": [
        "data.isna().sum()"
      ]
    },
    {
      "cell_type": "markdown",
      "id": "f77a2e16",
      "metadata": {
        "deletable": false,
        "editable": false,
        "id": "f77a2e16"
      },
      "source": [
        "### Изменение типов данных"
      ]
    },
    {
      "cell_type": "markdown",
      "id": "1b4190b2",
      "metadata": {
        "deletable": false,
        "editable": false,
        "id": "1b4190b2"
      },
      "source": [
        "**Задание 13. Замените вещественный тип данных в столбце `total_income` на целочисленный с помощью метода `astype()`.**"
      ]
    },
    {
      "cell_type": "code",
      "execution_count": null,
      "id": "5ae6186b",
      "metadata": {
        "deletable": false,
        "id": "5ae6186b",
        "trusted": false
      },
      "outputs": [],
      "source": [
        "data['total_income'] = data['total_income'].astype(int)"
      ]
    },
    {
      "cell_type": "markdown",
      "id": "5995881d",
      "metadata": {
        "deletable": false,
        "editable": false,
        "id": "5995881d"
      },
      "source": [
        "### Обработка дубликатов"
      ]
    },
    {
      "cell_type": "markdown",
      "id": "33550980",
      "metadata": {
        "deletable": false,
        "editable": false,
        "id": "33550980"
      },
      "source": [
        "**Задание 14. Обработайте неявные дубликаты в столбце `education`. В этом столбце есть одни и те же значения, но записанные по-разному: с использованием заглавных и строчных букв. Приведите их к нижнему регистру. Проверьте остальные столбцы.**"
      ]
    },
    {
      "cell_type": "code",
      "execution_count": null,
      "id": "6857fe78",
      "metadata": {
        "deletable": false,
        "trusted": false,
        "id": "6857fe78"
      },
      "outputs": [],
      "source": [
        "data['education'] = data['education'].str.lower()"
      ]
    },
    {
      "cell_type": "markdown",
      "id": "7585e2d6",
      "metadata": {
        "deletable": false,
        "editable": false,
        "id": "7585e2d6"
      },
      "source": [
        "**Задание 15. Выведите на экран количество строк-дубликатов в данных. Если такие строки присутствуют, удалите их.**"
      ]
    },
    {
      "cell_type": "code",
      "execution_count": null,
      "id": "8eb6b0d6",
      "metadata": {
        "deletable": false,
        "id": "8eb6b0d6",
        "outputId": "9684deba-1934-42d1-99e1-cda61740f822",
        "trusted": false
      },
      "outputs": [
        {
          "data": {
            "text/plain": "71"
          },
          "execution_count": 15,
          "metadata": {},
          "output_type": "execute_result"
        }
      ],
      "source": [
        "data.duplicated().sum()"
      ]
    },
    {
      "cell_type": "code",
      "execution_count": null,
      "id": "ab427571",
      "metadata": {
        "deletable": false,
        "id": "ab427571",
        "trusted": false
      },
      "outputs": [],
      "source": [
        "data = data.drop_duplicates()"
      ]
    },
    {
      "cell_type": "markdown",
      "id": "5e92dfa6",
      "metadata": {
        "deletable": false,
        "editable": false,
        "id": "5e92dfa6"
      },
      "source": [
        "### Категоризация данных"
      ]
    },
    {
      "cell_type": "markdown",
      "id": "48f0be38",
      "metadata": {
        "deletable": false,
        "editable": false,
        "id": "48f0be38"
      },
      "source": [
        "**Задание 16. На основании диапазонов, указанных ниже, создайте в датафрейме `data` столбец `total_income_category` с категориями:**\n",
        "\n",
        "- 0–30000 — `'E'`;\n",
        "- 30001–50000 — `'D'`;\n",
        "- 50001–200000 — `'C'`;\n",
        "- 200001–1000000 — `'B'`;\n",
        "- 1000001 и выше — `'A'`.\n",
        "\n",
        "\n",
        "**Например, кредитополучателю с доходом 25000 нужно назначить категорию `'E'`, а клиенту, получающему 235000, — `'B'`. Используйте собственную функцию с именем `categorize_income()` и метод `apply()`.**"
      ]
    },
    {
      "cell_type": "code",
      "execution_count": null,
      "id": "513cb793",
      "metadata": {
        "deletable": false,
        "id": "513cb793",
        "trusted": false
      },
      "outputs": [],
      "source": [
        "def categorize_income(income):\n",
        "    try:\n",
        "        if 0 <= income <= 30000:\n",
        "            return 'E'\n",
        "        elif 30001 <= income <= 50000:\n",
        "            return 'D'\n",
        "        elif 50001 <= income <= 200000:\n",
        "            return 'C'\n",
        "        elif 200001 <= income <= 1000000:\n",
        "            return 'B'\n",
        "        elif income >= 1000001:\n",
        "            return 'A'\n",
        "    except:\n",
        "        pass"
      ]
    },
    {
      "cell_type": "code",
      "execution_count": null,
      "id": "92295723",
      "metadata": {
        "deletable": false,
        "id": "92295723",
        "trusted": false
      },
      "outputs": [],
      "source": [
        "data['total_income_category'] = data['total_income'].apply(categorize_income)"
      ]
    },
    {
      "cell_type": "markdown",
      "id": "7c8a5c3c",
      "metadata": {
        "deletable": false,
        "editable": false,
        "id": "7c8a5c3c"
      },
      "source": [
        "**Задание 17. Выведите на экран перечень уникальных целей взятия кредита из столбца `purpose`.**"
      ]
    },
    {
      "cell_type": "code",
      "execution_count": null,
      "id": "a9f0f216",
      "metadata": {
        "deletable": false,
        "id": "a9f0f216",
        "outputId": "673c12d9-7d7e-4ae0-9812-c622c89dd244",
        "trusted": false
      },
      "outputs": [
        {
          "data": {
            "text/plain": "array(['покупка жилья', 'приобретение автомобиля',\n       'дополнительное образование', 'сыграть свадьбу',\n       'операции с жильем', 'образование', 'на проведение свадьбы',\n       'покупка жилья для семьи', 'покупка недвижимости',\n       'покупка коммерческой недвижимости', 'покупка жилой недвижимости',\n       'строительство собственной недвижимости', 'недвижимость',\n       'строительство недвижимости', 'на покупку подержанного автомобиля',\n       'на покупку своего автомобиля',\n       'операции с коммерческой недвижимостью',\n       'строительство жилой недвижимости', 'жилье',\n       'операции со своей недвижимостью', 'автомобили',\n       'заняться образованием', 'сделка с подержанным автомобилем',\n       'получение образования', 'автомобиль', 'свадьба',\n       'получение дополнительного образования', 'покупка своего жилья',\n       'операции с недвижимостью', 'получение высшего образования',\n       'свой автомобиль', 'сделка с автомобилем',\n       'профильное образование', 'высшее образование',\n       'покупка жилья для сдачи', 'на покупку автомобиля', 'ремонт жилью',\n       'заняться высшим образованием'], dtype=object)"
          },
          "execution_count": 19,
          "metadata": {},
          "output_type": "execute_result"
        }
      ],
      "source": [
        "data['purpose'].unique()"
      ]
    },
    {
      "cell_type": "markdown",
      "id": "ffabf19c",
      "metadata": {
        "deletable": false,
        "editable": false,
        "id": "ffabf19c"
      },
      "source": [
        "**Задание 18. Создайте функцию, которая на основании данных из столбца `purpose` сформирует новый столбец `purpose_category`, в который войдут следующие категории:**\n",
        "\n",
        "- `'операции с автомобилем'`,\n",
        "- `'операции с недвижимостью'`,\n",
        "- `'проведение свадьбы'`,\n",
        "- `'получение образования'`.\n",
        "\n",
        "**Например, если в столбце `purpose` находится подстрока `'на покупку автомобиля'`, то в столбце `purpose_category` должна появиться строка `'операции с автомобилем'`.**\n",
        "\n",
        "**Используйте собственную функцию с именем `categorize_purpose()` и метод `apply()`. Изучите данные в столбце `purpose` и определите, какие подстроки помогут вам правильно определить категорию.**"
      ]
    },
    {
      "cell_type": "code",
      "execution_count": null,
      "id": "6e1f5161",
      "metadata": {
        "deletable": false,
        "id": "6e1f5161",
        "trusted": false
      },
      "outputs": [],
      "source": [
        "def categorize_purpose(row):\n",
        "    try:\n",
        "        if 'автом' in row:\n",
        "            return 'операции с автомобилем'\n",
        "        elif 'жил' in row or 'недвиж' in row:\n",
        "            return 'операции с недвижимостью'\n",
        "        elif 'свад' in row:\n",
        "            return 'проведение свадьбы'\n",
        "        elif 'образов' in row:\n",
        "            return 'получение образования'\n",
        "    except:\n",
        "        return 'нет категории'"
      ]
    },
    {
      "cell_type": "code",
      "execution_count": null,
      "id": "94e39a50",
      "metadata": {
        "deletable": false,
        "id": "94e39a50",
        "trusted": false
      },
      "outputs": [],
      "source": [
        "data['purpose_category'] = data['purpose'].apply(categorize_purpose)"
      ]
    },
    {
      "cell_type": "markdown",
      "id": "2ab8c37a",
      "metadata": {
        "deletable": false,
        "editable": false,
        "id": "2ab8c37a"
      },
      "source": [
        "### Шаг 3. Исследуйте данные и ответьте на вопросы"
      ]
    },
    {
      "cell_type": "markdown",
      "id": "fa687eac",
      "metadata": {
        "deletable": false,
        "editable": false,
        "id": "fa687eac"
      },
      "source": [
        "#### 3.1 Есть ли зависимость между количеством детей и возвратом кредита в срок?"
      ]
    },
    {
      "cell_type": "code",
      "execution_count": null,
      "id": "43d07f59",
      "metadata": {
        "deletable": false,
        "id": "43d07f59",
        "trusted": false,
        "outputId": "3b7588a5-e2cc-4f37-8987-13d9bf654378"
      },
      "outputs": [
        {
          "data": {
            "text/html": "<div>\n<style scoped>\n    .dataframe tbody tr th:only-of-type {\n        vertical-align: middle;\n    }\n\n    .dataframe tbody tr th {\n        vertical-align: top;\n    }\n\n    .dataframe thead th {\n        text-align: right;\n    }\n</style>\n<table border=\"1\" class=\"dataframe\">\n  <thead>\n    <tr style=\"text-align: right;\">\n      <th></th>\n      <th>children</th>\n      <th>debt</th>\n    </tr>\n  </thead>\n  <tbody>\n    <tr>\n      <th>0</th>\n      <td>0</td>\n      <td>1063</td>\n    </tr>\n    <tr>\n      <th>1</th>\n      <td>1</td>\n      <td>444</td>\n    </tr>\n    <tr>\n      <th>2</th>\n      <td>2</td>\n      <td>194</td>\n    </tr>\n    <tr>\n      <th>3</th>\n      <td>3</td>\n      <td>27</td>\n    </tr>\n    <tr>\n      <th>4</th>\n      <td>4</td>\n      <td>4</td>\n    </tr>\n    <tr>\n      <th>5</th>\n      <td>5</td>\n      <td>0</td>\n    </tr>\n  </tbody>\n</table>\n</div>",
            "text/plain": "   children  debt\n0         0  1063\n1         1   444\n2         2   194\n3         3    27\n4         4     4\n5         5     0"
          },
          "execution_count": 22,
          "metadata": {},
          "output_type": "execute_result"
        }
      ],
      "source": [
        "# Создадим сводную таблицу между количеством детей и сумму заемщиков, которые имели задолженность по возврату кредита\n",
        "correlation_children_debt = data.pivot_table(index=['children'], values='debt', aggfunc='sum').reset_index()\n",
        "correlation_children_debt"
      ]
    },
    {
      "cell_type": "code",
      "execution_count": null,
      "id": "a2df3fbe",
      "metadata": {
        "trusted": false,
        "id": "a2df3fbe",
        "outputId": "212eed09-c347-4e5f-bf40-3ff5309411cf"
      },
      "outputs": [
        {
          "data": {
            "text/plain": "<AxesSubplot:xlabel='children', ylabel='debt'>"
          },
          "execution_count": 23,
          "metadata": {},
          "output_type": "execute_result"
        },
        {
          "data": {
            "image/png": "[encoded data removed]",
            "text/plain": "<Figure size 432x288 with 1 Axes>"
          },
          "metadata": {
            "needs_background": "light"
          },
          "output_type": "display_data"
        }
      ],
      "source": [
        "# Построим столбчатую диаграмму для наглядности полученных результатов\n",
        "sns.barplot(data=correlation_children_debt, x=\"children\", y=\"debt\")"
      ]
    },
    {
      "cell_type": "markdown",
      "id": "eda2551b",
      "metadata": {
        "deletable": false,
        "id": "eda2551b"
      },
      "source": [
        "**Вывод:** \n",
        "\n",
        "- В сводной таблице `correlation_children_debt` видно, что количество людей взявших кредит и имеющих (имевщих) задолженность по возврату напрямую зависит от количество детей в семье. Скорее всего это связано с осознаностью, что долги тоже передаются по наследству (:smile:)\n",
        "- На построенной столбчатой диаграмме видна экспоненциальная зависимость количества должников по возврату кредит от количества детей в семье"
      ]
    },
    {
      "cell_type": "markdown",
      "id": "f9484b1a",
      "metadata": {
        "id": "f9484b1a"
      },
      "source": [
        "<div class=\"alert alert-danger\">\n",
        "<h1> Комментарий ревьюера &#9940;</h1>\n",
        "\n",
        "Хороший вывод. \n",
        "    \n",
        "<hr>\n",
        "Однако у примененного здесь и далее подхода есть существенный недостаток - подход опирается на абсолютные значения.\n",
        "    \n",
        "На всякий случай поясню. Предположим, мы хотим понять, кто более надежный заемщик - человек со светлыми волосами или человек с темными волосами. Мы собираем статистику, проводим расчеты и получаем следующий результат: у нас\n",
        "    \n",
        "1. 100 недобросовестных заемщиков с белыми волосами\n",
        "    \n",
        "2. 1000 недобросовестных темноволосых заемщиков\n",
        "    \n",
        "Похоже, вывод очевиден: светловолосые в 10 раз надежнее темноволосых.\n",
        "    \n",
        "Однако выясняется, темноволосых заемщиков к нам пришло 10.000 человек, а светловолосых - всего 100.\n",
        "    \n",
        "Выясняется, что на 10 темноволосых приходится всего один должник, в то время как <b>каждый блондин так и не вернул деньги</b> и с ним пора поступать, как с Лебовски в свое время)\n",
        "    \n",
        "Иными словами: <b>Владислав, пора переходить на проценты)</b>\n",
        "    \n",
        "<hr>\n",
        "\n",
        "    \n",
        "Попробуй построить таблицу следующим образом: \n",
        "    \n",
        "1. Примени к `data` метод `pivot_table()` (документация - https://pandas.pydata.org/pandas-docs/stable/reference/api/pandas.pivot_table.html)\n",
        "2. Аргументу `index` передай колонку с количеством детей\n",
        "3. Аргументу `values` - колонку с фактом наличия задолженности\n",
        "4. Аргументу `aggfunc` - массив из названий агрегирующих функций - `['count', 'sum', 'mean']`\n",
        "5. Результат действий выше сохрани в переменную\n",
        "6. Колонки можно будет переименовать переназначив атрибут `columns` \n",
        "    \n",
        "Результирующая таблица будет аналогична твоей текущей реализации, однако код будет оптимальнее с точки зрения и производительности, и читаемости. \n",
        "    \n",
        "Скелет кода, чтобы разобраться было проще: \n",
        "    \n",
        "    res = data.pivot_table(index='Количество детей', \n",
        "                           values='Факт наличия задолженности', \n",
        "                           aggfunc=['count', 'sum', 'mean'])\n",
        "    res.columns = ['новое имя для количества значений', 'новое имя для суммы', 'новое имя для среднего']\n",
        "    res\n",
        "    \n",
        "Обрати внимание на то, какие значения дает агрегация при применении к булевой колонке. \n",
        "    \n",
        "Примени этот код здесь и далее, пожалуйста. \n",
        "    \n",
        "Рекомендую добавить также замечания относительно репрезентативности выборок внутри каждой из групп. Речь о том, что (спойлер) в нашем случае безукоризненно-надежны семьи с пятью детьми, но можем ли мы доверять этой статистике?\n",
        "    \n",
        "Соответственно столбчатую диаграмму тоже лучше строить не по абсолютным значениям, а по процентам.\n",
        "    \n",
        "Если возникнут какие-то вопросы, обязательно задавай - разберемся) \n",
        "    \n",
        "\n",
        "</div>"
      ]
    },
    {
      "cell_type": "markdown",
      "id": "76c2a2ec",
      "metadata": {
        "deletable": false,
        "editable": false,
        "id": "76c2a2ec"
      },
      "source": [
        "#### 3.2 Есть ли зависимость между семейным положением и возвратом кредита в срок?"
      ]
    },
    {
      "cell_type": "code",
      "execution_count": null,
      "id": "73003843",
      "metadata": {
        "deletable": false,
        "id": "73003843",
        "trusted": false,
        "outputId": "3c050875-9bfc-4981-98dd-15706866372c"
      },
      "outputs": [
        {
          "data": {
            "text/html": "<div>\n<style scoped>\n    .dataframe tbody tr th:only-of-type {\n        vertical-align: middle;\n    }\n\n    .dataframe tbody tr th {\n        vertical-align: top;\n    }\n\n    .dataframe thead th {\n        text-align: right;\n    }\n</style>\n<table border=\"1\" class=\"dataframe\">\n  <thead>\n    <tr style=\"text-align: right;\">\n      <th></th>\n      <th>family_status</th>\n      <th>debt</th>\n    </tr>\n  </thead>\n  <tbody>\n    <tr>\n      <th>0</th>\n      <td>Не женат / не замужем</td>\n      <td>273</td>\n    </tr>\n    <tr>\n      <th>1</th>\n      <td>в разводе</td>\n      <td>84</td>\n    </tr>\n    <tr>\n      <th>2</th>\n      <td>вдовец / вдова</td>\n      <td>63</td>\n    </tr>\n    <tr>\n      <th>3</th>\n      <td>гражданский брак</td>\n      <td>385</td>\n    </tr>\n    <tr>\n      <th>4</th>\n      <td>женат / замужем</td>\n      <td>927</td>\n    </tr>\n  </tbody>\n</table>\n</div>",
            "text/plain": "           family_status  debt\n0  Не женат / не замужем   273\n1              в разводе    84\n2         вдовец / вдова    63\n3       гражданский брак   385\n4        женат / замужем   927"
          },
          "execution_count": 24,
          "metadata": {},
          "output_type": "execute_result"
        }
      ],
      "source": [
        "# Создадим сводную таблицу между семейным статусом заемщиков и количеством заемщиков,которые имели задолженность по возврату кредита\n",
        "correlation_family_status_debt = data.pivot_table(index=['family_status'], values='debt', aggfunc='sum').reset_index()\n",
        "correlation_family_status_debt"
      ]
    },
    {
      "cell_type": "code",
      "execution_count": null,
      "id": "06681fbb",
      "metadata": {
        "trusted": false,
        "id": "06681fbb",
        "outputId": "284b527e-eece-4e26-ccfc-5932900b7575"
      },
      "outputs": [
        {
          "data": {
            "text/plain": "<AxesSubplot:xlabel='family_status', ylabel='debt'>"
          },
          "execution_count": 25,
          "metadata": {},
          "output_type": "execute_result"
        },
        {
          "data": {
            "image/png": "[encoded data removed]",
            "text/plain": "<Figure size 432x288 with 1 Axes>"
          },
          "metadata": {
            "needs_background": "light"
          },
          "output_type": "display_data"
        }
      ],
      "source": [
        "# Построим столбчатую диаграмму для наглядности полученных результатов\n",
        "sns.barplot(data=correlation_family_status_debt, x=\"family_status\", y=\"debt\")"
      ]
    },
    {
      "cell_type": "markdown",
      "id": "77697843",
      "metadata": {
        "deletable": false,
        "id": "77697843"
      },
      "source": [
        "**Вывод:** \n",
        "\n",
        "- Больше всего задолженников по возврату кредитов среди людей с семейным положением - \"женат/ замужем\". Люди из данной категории активно строят планы на будущее и потому, часто берут кредиты для приобритения \"на будущее\" но здесь и сейчас.\n",
        "- Меньше всего задолженников по возврату кредит среди \"вдовцов/\"вдов\" и тех кто \"в разводе\". Люди из данной категории в виду своего семейного положения покрывают только свои потребности и нет необходимо в \"дорогой покупке\"."
      ]
    },
    {
      "cell_type": "markdown",
      "id": "f7fb46ce",
      "metadata": {
        "deletable": false,
        "editable": false,
        "id": "f7fb46ce"
      },
      "source": [
        "#### 3.3 Есть ли зависимость между уровнем дохода и возвратом кредита в срок?"
      ]
    },
    {
      "cell_type": "code",
      "execution_count": null,
      "id": "0da982df",
      "metadata": {
        "deletable": false,
        "id": "0da982df",
        "trusted": false,
        "outputId": "fbaac3cf-a71e-496a-c03c-6a040633e4b4"
      },
      "outputs": [
        {
          "data": {
            "text/html": "<div>\n<style scoped>\n    .dataframe tbody tr th:only-of-type {\n        vertical-align: middle;\n    }\n\n    .dataframe tbody tr th {\n        vertical-align: top;\n    }\n\n    .dataframe thead th {\n        text-align: right;\n    }\n</style>\n<table border=\"1\" class=\"dataframe\">\n  <thead>\n    <tr style=\"text-align: right;\">\n      <th></th>\n      <th>total_income_category</th>\n      <th>debt</th>\n    </tr>\n  </thead>\n  <tbody>\n    <tr>\n      <th>0</th>\n      <td>A</td>\n      <td>2</td>\n    </tr>\n    <tr>\n      <th>1</th>\n      <td>B</td>\n      <td>354</td>\n    </tr>\n    <tr>\n      <th>2</th>\n      <td>C</td>\n      <td>1353</td>\n    </tr>\n    <tr>\n      <th>3</th>\n      <td>D</td>\n      <td>21</td>\n    </tr>\n    <tr>\n      <th>4</th>\n      <td>E</td>\n      <td>2</td>\n    </tr>\n  </tbody>\n</table>\n</div>",
            "text/plain": "  total_income_category  debt\n0                     A     2\n1                     B   354\n2                     C  1353\n3                     D    21\n4                     E     2"
          },
          "execution_count": 26,
          "metadata": {},
          "output_type": "execute_result"
        }
      ],
      "source": [
        "# Сводная таблица между уровнем дохода заемщиков и количеством заемщиков, которые имели задолженность по возврату кредита\n",
        "correlation_total_income_debt = data.pivot_table(index=['total_income_category'], values='debt', aggfunc='sum').reset_index()\n",
        "correlation_total_income_debt"
      ]
    },
    {
      "cell_type": "code",
      "execution_count": null,
      "id": "6bf63877",
      "metadata": {
        "trusted": false,
        "id": "6bf63877",
        "outputId": "e24f1135-7294-49bf-9d0f-8b97b9635c65"
      },
      "outputs": [
        {
          "data": {
            "text/plain": "<AxesSubplot:xlabel='total_income_category', ylabel='debt'>"
          },
          "execution_count": 27,
          "metadata": {},
          "output_type": "execute_result"
        },
        {
          "data": {
            "image/png": "[encoded data removed]",
            "text/plain": "<Figure size 432x288 with 1 Axes>"
          },
          "metadata": {
            "needs_background": "light"
          },
          "output_type": "display_data"
        }
      ],
      "source": [
        "# Построим столбчатую диаграмму для наглядности полученных результатов\n",
        "sns.barplot(data=correlation_total_income_debt, x=\"total_income_category\", y=\"debt\")"
      ]
    },
    {
      "cell_type": "markdown",
      "id": "15a42450",
      "metadata": {
        "deletable": false,
        "id": "15a42450"
      },
      "source": [
        "**Вывод:** \n",
        "\n",
        "- Больше всего должников с уровнем дохода 50001–200000. Это средний класс, который чаще все пользуется услугами кредитования.\n",
        "- Должников ппо возврату кредитов практически нет среди людей с доходами 0–30000 и 1000001 и выше. Скорее всего это связано с тем, что заемщиков среди тех, кто имеет подобные уровни дохода практически нет.\n",
        "- Минимальное число должников среди людей с уровнем дохода 200001–1000000. Есть предположение, что это связано с тем, что люди из данной категории берут кредит редко и без особых забот могут его выплачивать."
      ]
    },
    {
      "cell_type": "markdown",
      "id": "8a01f741",
      "metadata": {
        "deletable": false,
        "editable": false,
        "id": "8a01f741"
      },
      "source": [
        "#### 3.4 Как разные цели кредита влияют на его возврат в срок?"
      ]
    },
    {
      "cell_type": "code",
      "execution_count": null,
      "id": "b188bd23",
      "metadata": {
        "deletable": false,
        "id": "b188bd23",
        "trusted": false,
        "outputId": "6801b85c-12a5-4938-a250-b9b1079b02bd"
      },
      "outputs": [
        {
          "data": {
            "text/html": "<div>\n<style scoped>\n    .dataframe tbody tr th:only-of-type {\n        vertical-align: middle;\n    }\n\n    .dataframe tbody tr th {\n        vertical-align: top;\n    }\n\n    .dataframe thead th {\n        text-align: right;\n    }\n</style>\n<table border=\"1\" class=\"dataframe\">\n  <thead>\n    <tr style=\"text-align: right;\">\n      <th></th>\n      <th>purpose_category</th>\n      <th>debt</th>\n    </tr>\n  </thead>\n  <tbody>\n    <tr>\n      <th>0</th>\n      <td>операции с автомобилем</td>\n      <td>400</td>\n    </tr>\n    <tr>\n      <th>1</th>\n      <td>операции с недвижимостью</td>\n      <td>780</td>\n    </tr>\n    <tr>\n      <th>2</th>\n      <td>получение образования</td>\n      <td>369</td>\n    </tr>\n    <tr>\n      <th>3</th>\n      <td>проведение свадьбы</td>\n      <td>183</td>\n    </tr>\n  </tbody>\n</table>\n</div>",
            "text/plain": "           purpose_category  debt\n0    операции с автомобилем   400\n1  операции с недвижимостью   780\n2     получение образования   369\n3        проведение свадьбы   183"
          },
          "execution_count": 28,
          "metadata": {},
          "output_type": "execute_result"
        }
      ],
      "source": [
        "# Сводная таблица между целью кредита и количеством заемщиков, которые имели задолженность по возврату кредита\n",
        "correlation_purpose_debt = data.pivot_table(index=['purpose_category'], values='debt', aggfunc='sum').reset_index()\n",
        "correlation_purpose_debt"
      ]
    },
    {
      "cell_type": "code",
      "execution_count": null,
      "id": "3912dedf",
      "metadata": {
        "trusted": false,
        "id": "3912dedf",
        "outputId": "5352762c-f017-4b1e-99f3-4182cfd574ed"
      },
      "outputs": [
        {
          "data": {
            "text/plain": "<AxesSubplot:xlabel='purpose_category', ylabel='debt'>"
          },
          "execution_count": 29,
          "metadata": {},
          "output_type": "execute_result"
        },
        {
          "data": {
            "image/png": "[encoded data removed]",
            "text/plain": "<Figure size 432x288 with 1 Axes>"
          },
          "metadata": {
            "needs_background": "light"
          },
          "output_type": "display_data"
        }
      ],
      "source": [
        "# Построим столбчатую диаграмму для наглядности полученных результатов \n",
        "sns.barplot(data=correlation_purpose_debt, x=\"purpose_category\", y=\"debt\")"
      ]
    },
    {
      "cell_type": "markdown",
      "id": "cc5a2147",
      "metadata": {
        "deletable": false,
        "id": "cc5a2147"
      },
      "source": [
        "**Вывод:** \n",
        "\n",
        "- Больше всего задолженников по возврату кредита среди \"операций с недвижимостью\". Это связано с большей суммой кредитой, по сравнению с другими целями\n",
        "- Меньше всего задолженников по возврату кредита с целью \"проведения свадьбы\". Кредит для этой цели закрываются чааще без долга, так как сумма кредит зачастую небольшая"
      ]
    },
    {
      "cell_type": "markdown",
      "id": "04d2e014",
      "metadata": {
        "id": "04d2e014"
      },
      "source": [
        "<div class=\"alert alert-warning\">\n",
        "<h1> Комментарий ревьюера &#128276;</h1>\n",
        "\n",
        "Владислав, после внесения правок выше не забудь проверить выводы на актуальность. \n",
        "    \n",
        "</div>"
      ]
    },
    {
      "cell_type": "markdown",
      "id": "226a9e4b",
      "metadata": {
        "deletable": false,
        "editable": false,
        "id": "226a9e4b"
      },
      "source": [
        "#### 3.5 Приведите возможные причины появления пропусков в исходных данных."
      ]
    },
    {
      "cell_type": "markdown",
      "id": "552280d0",
      "metadata": {
        "deletable": false,
        "id": "552280d0"
      },
      "source": [
        "*Ответ:* Пропуски встречались, только в количественных данных.\n",
        "\n",
        "Пропуски в количественным данных были типа MAR, то есть пропущены не случайно. Заещмики не хотели указывать свой ежемесячный доход и/или общий трудовой стаж."
      ]
    },
    {
      "cell_type": "markdown",
      "id": "0f5801c2",
      "metadata": {
        "deletable": false,
        "editable": false,
        "id": "0f5801c2"
      },
      "source": [
        "#### 3.6 Объясните, почему заполнить пропуски медианным значением — лучшее решение для количественных переменных."
      ]
    },
    {
      "cell_type": "markdown",
      "id": "76b8d167",
      "metadata": {
        "deletable": false,
        "id": "76b8d167"
      },
      "source": [
        "*Ответ:* Среднее значение некорректно характеризует данные, когда некоторые значения сильно выделяются среди большинства.\n",
        "\n",
        "В нашем случае для таких данных как уровень дохода и трудовой стаж, вернее взять медианное значение, нежели среднее, так как разброс в текущих типах данных достаточно большой."
      ]
    },
    {
      "cell_type": "markdown",
      "id": "57573b15",
      "metadata": {
        "id": "57573b15"
      },
      "source": [
        "<div class=\"alert alert-success\">\n",
        "<h1> Комментарий ревьюера &#9989;</h1>\n",
        "\n",
        "Ответы корректны - отлично. \n",
        "    \n",
        "</div>"
      ]
    },
    {
      "cell_type": "markdown",
      "id": "8c346028",
      "metadata": {
        "deletable": false,
        "editable": false,
        "id": "8c346028"
      },
      "source": [
        "### Шаг 4: общий вывод."
      ]
    },
    {
      "cell_type": "markdown",
      "id": "2486c21a",
      "metadata": {
        "deletable": false,
        "id": "2486c21a"
      },
      "source": [
        "###### Идеальный заемщик:\n",
        "\n",
        "В ходе исследование, выяснилось, что заемщик, у которого меньше вероятность иметь задолженность по возрату кредита будет со следующими характеристиками:\n",
        "\n",
        "- Три и более детей\n",
        "- Вдовец/вдова или в разводе\n",
        "- Доход варируется в двух категориях 0–30000 в месяц, либо более 1000001\n",
        "\n",
        "Также, в ходе исследования выяснилось, что выгоднее всего выдавать кредит на \"проведение свадьбы\"\n",
        "\n",
        "###### Критический заемщик:\n",
        "\n",
        "Исследовав данные, также удалось составить \"портрет\" заемщика с высокой вероятность не выплаты задолженности по кредиту:\n",
        "\n",
        "- Нет детей\n",
        "- Женат/замужем\n",
        "- Средний уровень дохода 50001–200000\n",
        "\n",
        "Выдача кредиторв на \"операции с недвижимостью\" является заведомо опасной для банка, так как количество не возвратов по данной цели больше всего.\n",
        "\n",
        "###### Примечание:\n",
        "\n",
        "Для проведения более точного исследования, необходимо нормализовать данные, так как людей с высокой вероятность не выплаты задолженности по кредиту, участвовало в выборке гораздо, нежели людей из числа \"идеальных заемщиков\". \n",
        "Также в исследование не рассмотрена зависимость рода деятельности заемщиков, что является не мало важным фактором."
      ]
    },
    {
      "cell_type": "markdown",
      "id": "a87d8e8b",
      "metadata": {
        "id": "a87d8e8b"
      },
      "source": [
        "<div class=\"alert alert-success\">\n",
        "<h1> Комментарий ревьюера &#9989;</h1>\n",
        "\n",
        "Замечательный общий вывод. Большой плюс, что ты решил предоставить сборный портрет заемщиков. Мой опыт подсказывает, что так информация лучше утрамбовывается в голове заказчика. \n",
        "    \n",
        "Согласен с примечанием: действительно, данное исследование скорее хороший черновик для полноценного анализа. Однако образовательную пользу проект точно принес)\n",
        "    \n",
        "</div>"
      ]
    },
    {
      "cell_type": "markdown",
      "id": "d9dab56b",
      "metadata": {
        "id": "d9dab56b"
      },
      "source": [
        "<div class=\"alert alert-success\">\n",
        "<h1> Итерация 1. Заключение. </h1>\n",
        "    \n",
        "Владислав, тобой проделана большая работа, которую было увлекательно читать. Спасибо!)\n",
        "    \n",
        "Но расслабляться пока рано: нужно потрудиться над правками еще немного. \n",
        "    \n",
        "В своем ответе под этой ячейкой подскажи, пожалуйста, сильно ли тебя поджимает время. Если этот проект не единственный и ты выполняешь какие-то еще, дай знать: мы найдем способ ускорить работу над этим заданием. \n",
        "    \n",
        "Не забывай, что я буду рад ответить на любые твои вопросы относительно требуемых правок. \n",
        "    \n",
        "Очень жду работу на повторную проверку. Удачи!)\n",
        "\n",
        "</div>"
      ]
    },
    {
      "cell_type": "code",
      "execution_count": null,
      "id": "bd90bb1e",
      "metadata": {
        "trusted": false,
        "id": "bd90bb1e"
      },
      "outputs": [],
      "source": []
    }
  ],
  "metadata": {
    "ExecuteTimeLog": [
      {
        "duration": 84,
        "start_time": "2022-09-06T06:37:51.565Z"
      },
      {
        "duration": 41,
        "start_time": "2022-09-06T06:37:57.922Z"
      },
      {
        "duration": 469,
        "start_time": "2022-09-06T06:38:04.061Z"
      },
      {
        "duration": 26,
        "start_time": "2022-09-06T06:38:04.533Z"
      },
      {
        "duration": 35,
        "start_time": "2022-09-06T06:38:04.561Z"
      },
      {
        "duration": 13,
        "start_time": "2022-09-06T06:38:04.601Z"
      },
      {
        "duration": 47,
        "start_time": "2022-09-06T06:38:04.616Z"
      },
      {
        "duration": 4,
        "start_time": "2022-09-06T06:38:04.665Z"
      },
      {
        "duration": 24,
        "start_time": "2022-09-06T06:38:04.671Z"
      },
      {
        "duration": 18,
        "start_time": "2022-09-06T06:38:04.705Z"
      },
      {
        "duration": 19,
        "start_time": "2022-09-06T06:38:04.724Z"
      },
      {
        "duration": 5,
        "start_time": "2022-09-06T06:38:04.747Z"
      },
      {
        "duration": 42,
        "start_time": "2022-09-06T06:38:04.754Z"
      },
      {
        "duration": 10,
        "start_time": "2022-09-06T06:38:04.798Z"
      },
      {
        "duration": 5,
        "start_time": "2022-09-06T06:38:04.810Z"
      },
      {
        "duration": 18,
        "start_time": "2022-09-06T06:38:04.816Z"
      },
      {
        "duration": 33,
        "start_time": "2022-09-06T06:38:04.836Z"
      },
      {
        "duration": 31,
        "start_time": "2022-09-06T06:38:04.871Z"
      },
      {
        "duration": 4,
        "start_time": "2022-09-06T06:38:04.903Z"
      },
      {
        "duration": 11,
        "start_time": "2022-09-06T06:38:04.908Z"
      },
      {
        "duration": 8,
        "start_time": "2022-09-06T06:38:04.920Z"
      },
      {
        "duration": 4,
        "start_time": "2022-09-06T06:38:04.929Z"
      },
      {
        "duration": 16,
        "start_time": "2022-09-06T06:38:04.935Z"
      },
      {
        "duration": 8,
        "start_time": "2022-09-06T06:38:06.418Z"
      },
      {
        "duration": 10,
        "start_time": "2022-09-06T06:38:14.002Z"
      },
      {
        "duration": 6,
        "start_time": "2022-09-06T06:38:26.503Z"
      },
      {
        "duration": 7,
        "start_time": "2022-09-06T06:38:29.014Z"
      },
      {
        "duration": 7,
        "start_time": "2022-09-06T06:38:53.083Z"
      },
      {
        "duration": 26,
        "start_time": "2022-09-06T06:40:27.948Z"
      },
      {
        "duration": 9,
        "start_time": "2022-09-06T06:40:33.604Z"
      },
      {
        "duration": 10,
        "start_time": "2022-09-06T06:40:48.527Z"
      },
      {
        "duration": 15,
        "start_time": "2022-09-06T06:40:49.479Z"
      },
      {
        "duration": 15,
        "start_time": "2022-09-06T06:40:58.900Z"
      },
      {
        "duration": 13,
        "start_time": "2022-09-06T06:41:07.417Z"
      },
      {
        "duration": 24,
        "start_time": "2022-09-06T06:44:45.834Z"
      },
      {
        "duration": 38,
        "start_time": "2022-09-06T06:44:48.876Z"
      },
      {
        "duration": 15,
        "start_time": "2022-09-06T06:45:05.026Z"
      },
      {
        "duration": 10,
        "start_time": "2022-09-06T06:45:18.952Z"
      },
      {
        "duration": 12,
        "start_time": "2022-09-06T06:45:22.808Z"
      },
      {
        "duration": 24,
        "start_time": "2022-09-06T06:45:27.082Z"
      },
      {
        "duration": 24,
        "start_time": "2022-09-06T06:45:41.675Z"
      },
      {
        "duration": 16,
        "start_time": "2022-09-06T06:46:21.124Z"
      },
      {
        "duration": 17,
        "start_time": "2022-09-06T06:46:25.356Z"
      },
      {
        "duration": 12,
        "start_time": "2022-09-06T06:46:33.822Z"
      },
      {
        "duration": 13,
        "start_time": "2022-09-06T06:46:36.920Z"
      },
      {
        "duration": 12,
        "start_time": "2022-09-06T07:14:23.766Z"
      },
      {
        "duration": 12,
        "start_time": "2022-09-06T07:16:05.222Z"
      },
      {
        "duration": 21,
        "start_time": "2022-09-06T07:16:59.375Z"
      },
      {
        "duration": 15,
        "start_time": "2022-09-06T07:38:57.963Z"
      },
      {
        "duration": 944,
        "start_time": "2022-09-06T07:39:02.881Z"
      },
      {
        "duration": 70,
        "start_time": "2022-09-06T07:39:06.684Z"
      },
      {
        "duration": 89,
        "start_time": "2022-09-06T07:39:16.234Z"
      },
      {
        "duration": 165,
        "start_time": "2022-09-06T07:39:18.161Z"
      },
      {
        "duration": 26,
        "start_time": "2022-09-06T07:39:54.386Z"
      },
      {
        "duration": 19,
        "start_time": "2022-09-06T07:40:29.789Z"
      },
      {
        "duration": 123,
        "start_time": "2022-09-06T07:40:36.285Z"
      },
      {
        "duration": 25,
        "start_time": "2022-09-06T07:40:52.580Z"
      },
      {
        "duration": 27,
        "start_time": "2022-09-06T07:40:54.196Z"
      },
      {
        "duration": 18,
        "start_time": "2022-09-06T07:41:45.230Z"
      },
      {
        "duration": 12,
        "start_time": "2022-09-06T07:41:49.665Z"
      },
      {
        "duration": 13,
        "start_time": "2022-09-06T07:41:56.176Z"
      },
      {
        "duration": 16,
        "start_time": "2022-09-06T07:42:59.142Z"
      },
      {
        "duration": 127,
        "start_time": "2022-09-06T07:43:18.249Z"
      },
      {
        "duration": 21,
        "start_time": "2022-09-06T07:43:40.437Z"
      },
      {
        "duration": 19,
        "start_time": "2022-09-06T07:43:47.717Z"
      },
      {
        "duration": 18,
        "start_time": "2022-09-06T07:43:54.355Z"
      },
      {
        "duration": 14,
        "start_time": "2022-09-06T07:44:02.442Z"
      },
      {
        "duration": 22,
        "start_time": "2022-09-06T07:44:07.076Z"
      },
      {
        "duration": 122,
        "start_time": "2022-09-06T07:44:10.044Z"
      },
      {
        "duration": 14,
        "start_time": "2022-09-06T07:44:11.794Z"
      },
      {
        "duration": 1204,
        "start_time": "2022-09-06T07:44:22.386Z"
      },
      {
        "duration": 19,
        "start_time": "2022-09-06T07:44:23.600Z"
      },
      {
        "duration": 19,
        "start_time": "2022-09-06T07:44:23.621Z"
      },
      {
        "duration": 35,
        "start_time": "2022-09-06T07:44:23.643Z"
      },
      {
        "duration": 54,
        "start_time": "2022-09-06T07:44:23.679Z"
      },
      {
        "duration": 3,
        "start_time": "2022-09-06T07:44:23.735Z"
      },
      {
        "duration": 11,
        "start_time": "2022-09-06T07:44:23.739Z"
      },
      {
        "duration": 4,
        "start_time": "2022-09-06T07:44:23.751Z"
      },
      {
        "duration": 16,
        "start_time": "2022-09-06T07:44:23.756Z"
      },
      {
        "duration": 4,
        "start_time": "2022-09-06T07:44:23.774Z"
      },
      {
        "duration": 49,
        "start_time": "2022-09-06T07:44:23.779Z"
      },
      {
        "duration": 9,
        "start_time": "2022-09-06T07:44:23.830Z"
      },
      {
        "duration": 5,
        "start_time": "2022-09-06T07:44:23.840Z"
      },
      {
        "duration": 23,
        "start_time": "2022-09-06T07:44:23.847Z"
      },
      {
        "duration": 32,
        "start_time": "2022-09-06T07:44:23.872Z"
      },
      {
        "duration": 15,
        "start_time": "2022-09-06T07:44:23.905Z"
      },
      {
        "duration": 3,
        "start_time": "2022-09-06T07:44:23.921Z"
      },
      {
        "duration": 10,
        "start_time": "2022-09-06T07:44:23.926Z"
      },
      {
        "duration": 7,
        "start_time": "2022-09-06T07:44:23.938Z"
      },
      {
        "duration": 8,
        "start_time": "2022-09-06T07:44:23.946Z"
      },
      {
        "duration": 18,
        "start_time": "2022-09-06T07:44:23.955Z"
      },
      {
        "duration": 42,
        "start_time": "2022-09-06T07:44:23.975Z"
      },
      {
        "duration": 122,
        "start_time": "2022-09-06T07:44:24.019Z"
      },
      {
        "duration": 12,
        "start_time": "2022-09-06T07:44:26.759Z"
      },
      {
        "duration": 111,
        "start_time": "2022-09-06T07:44:36.298Z"
      },
      {
        "duration": 126,
        "start_time": "2022-09-06T07:44:48.970Z"
      },
      {
        "duration": 133,
        "start_time": "2022-09-06T07:45:05.275Z"
      },
      {
        "duration": 30,
        "start_time": "2022-09-06T07:45:21.881Z"
      },
      {
        "duration": 145,
        "start_time": "2022-09-06T07:45:27.958Z"
      },
      {
        "duration": 48,
        "start_time": "2022-09-06T14:27:49.069Z"
      },
      {
        "duration": 1730,
        "start_time": "2022-09-06T14:27:59.506Z"
      },
      {
        "duration": 18,
        "start_time": "2022-09-06T14:28:01.238Z"
      },
      {
        "duration": 23,
        "start_time": "2022-09-06T14:28:01.258Z"
      },
      {
        "duration": 11,
        "start_time": "2022-09-06T14:28:01.283Z"
      },
      {
        "duration": 43,
        "start_time": "2022-09-06T14:28:01.295Z"
      },
      {
        "duration": 3,
        "start_time": "2022-09-06T14:28:01.340Z"
      },
      {
        "duration": 20,
        "start_time": "2022-09-06T14:28:01.345Z"
      },
      {
        "duration": 21,
        "start_time": "2022-09-06T14:28:01.367Z"
      },
      {
        "duration": 15,
        "start_time": "2022-09-06T14:28:01.389Z"
      },
      {
        "duration": 19,
        "start_time": "2022-09-06T14:28:01.407Z"
      },
      {
        "duration": 45,
        "start_time": "2022-09-06T14:28:01.427Z"
      },
      {
        "duration": 10,
        "start_time": "2022-09-06T14:28:01.473Z"
      },
      {
        "duration": 25,
        "start_time": "2022-09-06T14:28:01.485Z"
      },
      {
        "duration": 30,
        "start_time": "2022-09-06T14:28:01.512Z"
      },
      {
        "duration": 26,
        "start_time": "2022-09-06T14:28:01.544Z"
      },
      {
        "duration": 17,
        "start_time": "2022-09-06T14:28:01.572Z"
      },
      {
        "duration": 5,
        "start_time": "2022-09-06T14:28:01.591Z"
      },
      {
        "duration": 20,
        "start_time": "2022-09-06T14:28:01.597Z"
      },
      {
        "duration": 13,
        "start_time": "2022-09-06T14:28:01.619Z"
      },
      {
        "duration": 16,
        "start_time": "2022-09-06T14:28:01.634Z"
      },
      {
        "duration": 16,
        "start_time": "2022-09-06T14:28:01.652Z"
      },
      {
        "duration": 27,
        "start_time": "2022-09-06T14:28:01.670Z"
      },
      {
        "duration": 128,
        "start_time": "2022-09-06T14:28:01.699Z"
      },
      {
        "duration": 135,
        "start_time": "2022-09-06T14:28:01.829Z"
      },
      {
        "duration": 135,
        "start_time": "2022-09-06T14:28:01.966Z"
      },
      {
        "duration": 128,
        "start_time": "2022-09-06T14:28:48.342Z"
      },
      {
        "duration": 19,
        "start_time": "2022-09-06T14:33:00.314Z"
      },
      {
        "duration": 108,
        "start_time": "2022-09-06T14:33:06.907Z"
      },
      {
        "duration": 101,
        "start_time": "2022-09-06T14:36:12.087Z"
      },
      {
        "duration": 15,
        "start_time": "2022-09-06T14:36:48.623Z"
      },
      {
        "duration": 120,
        "start_time": "2022-09-06T14:36:53.106Z"
      },
      {
        "duration": 15,
        "start_time": "2022-09-06T14:41:27.509Z"
      },
      {
        "duration": 187,
        "start_time": "2022-09-06T14:41:34.910Z"
      },
      {
        "duration": 14,
        "start_time": "2022-09-06T14:42:22.910Z"
      },
      {
        "duration": 15,
        "start_time": "2022-09-06T14:42:27.606Z"
      },
      {
        "duration": 14,
        "start_time": "2022-09-06T14:42:30.915Z"
      },
      {
        "duration": 124,
        "start_time": "2022-09-06T14:42:36.572Z"
      },
      {
        "duration": 15,
        "start_time": "2022-09-06T14:42:44.030Z"
      },
      {
        "duration": 128,
        "start_time": "2022-09-06T14:42:45.307Z"
      },
      {
        "duration": 12,
        "start_time": "2022-09-06T14:42:51.269Z"
      },
      {
        "duration": 118,
        "start_time": "2022-09-06T14:42:52.812Z"
      },
      {
        "duration": 12,
        "start_time": "2022-09-06T14:42:59.307Z"
      },
      {
        "duration": 115,
        "start_time": "2022-09-06T14:43:00.528Z"
      },
      {
        "duration": 14,
        "start_time": "2022-09-06T14:43:20.287Z"
      },
      {
        "duration": 112,
        "start_time": "2022-09-06T14:43:27.571Z"
      },
      {
        "duration": 122,
        "start_time": "2022-09-06T15:03:47.757Z"
      },
      {
        "duration": 121,
        "start_time": "2022-09-06T15:03:49.043Z"
      },
      {
        "duration": 15,
        "start_time": "2022-09-06T15:03:53.405Z"
      },
      {
        "duration": 117,
        "start_time": "2022-09-06T15:03:58.786Z"
      },
      {
        "duration": 136,
        "start_time": "2022-09-06T15:04:26.007Z"
      },
      {
        "duration": 119,
        "start_time": "2022-09-06T15:04:41.793Z"
      },
      {
        "duration": 1338,
        "start_time": "2022-09-06T15:49:04.255Z"
      },
      {
        "duration": 19,
        "start_time": "2022-09-06T15:49:05.595Z"
      },
      {
        "duration": 16,
        "start_time": "2022-09-06T15:49:05.615Z"
      },
      {
        "duration": 12,
        "start_time": "2022-09-06T15:49:05.634Z"
      },
      {
        "duration": 61,
        "start_time": "2022-09-06T15:49:05.648Z"
      },
      {
        "duration": 4,
        "start_time": "2022-09-06T15:49:05.711Z"
      },
      {
        "duration": 19,
        "start_time": "2022-09-06T15:49:05.717Z"
      },
      {
        "duration": 16,
        "start_time": "2022-09-06T15:49:05.737Z"
      },
      {
        "duration": 13,
        "start_time": "2022-09-06T15:49:05.755Z"
      },
      {
        "duration": 17,
        "start_time": "2022-09-06T15:49:05.771Z"
      },
      {
        "duration": 39,
        "start_time": "2022-09-06T15:49:05.790Z"
      },
      {
        "duration": 10,
        "start_time": "2022-09-06T15:49:05.831Z"
      },
      {
        "duration": 4,
        "start_time": "2022-09-06T15:49:05.842Z"
      },
      {
        "duration": 15,
        "start_time": "2022-09-06T15:49:05.848Z"
      },
      {
        "duration": 22,
        "start_time": "2022-09-06T15:49:05.864Z"
      },
      {
        "duration": 20,
        "start_time": "2022-09-06T15:49:05.909Z"
      },
      {
        "duration": 4,
        "start_time": "2022-09-06T15:49:05.931Z"
      },
      {
        "duration": 32,
        "start_time": "2022-09-06T15:49:05.937Z"
      },
      {
        "duration": 8,
        "start_time": "2022-09-06T15:49:05.970Z"
      },
      {
        "duration": 6,
        "start_time": "2022-09-06T15:49:05.980Z"
      },
      {
        "duration": 22,
        "start_time": "2022-09-06T15:49:05.988Z"
      },
      {
        "duration": 26,
        "start_time": "2022-09-06T15:49:06.012Z"
      },
      {
        "duration": 141,
        "start_time": "2022-09-06T15:49:06.039Z"
      },
      {
        "duration": 15,
        "start_time": "2022-09-06T15:49:06.181Z"
      },
      {
        "duration": 131,
        "start_time": "2022-09-06T15:49:06.197Z"
      },
      {
        "duration": 13,
        "start_time": "2022-09-06T15:49:06.330Z"
      },
      {
        "duration": 140,
        "start_time": "2022-09-06T15:49:06.344Z"
      },
      {
        "duration": 29,
        "start_time": "2022-09-06T15:49:06.488Z"
      },
      {
        "duration": 141,
        "start_time": "2022-09-06T15:49:06.519Z"
      }
    ],
    "colab": {
      "provenance": [],
      "include_colab_link": true
    },
    "kernelspec": {
      "display_name": "Python 3 (ipykernel)",
      "language": "python",
      "name": "python3"
    },
    "language_info": {
      "codemirror_mode": {
        "name": "ipython",
        "version": 3
      },
      "file_extension": ".py",
      "mimetype": "text/x-python",
      "name": "python",
      "nbconvert_exporter": "python",
      "pygments_lexer": "ipython3",
      "version": "3.9.5"
    },
    "toc": {
      "base_numbering": 1,
      "nav_menu": {},
      "number_sections": true,
      "sideBar": true,
      "skip_h1_title": true,
      "title_cell": "Table of Contents",
      "title_sidebar": "Contents",
      "toc_cell": false,
      "toc_position": {},
      "toc_section_display": true,
      "toc_window_display": false
    }
  },
  "nbformat": 4,
  "nbformat_minor": 5
}