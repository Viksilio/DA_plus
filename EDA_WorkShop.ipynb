{
  "cells": [
    {
      "cell_type": "markdown",
      "metadata": {
        "id": "view-in-github",
        "colab_type": "text"
      },
      "source": [
        "<a href=\"https://colab.research.google.com/github/Viksilio/DA_plus/blob/master/EDA_WorkShop.ipynb\" target=\"_parent\"><img src=\"https://colab.research.google.com/assets/colab-badge.svg\" alt=\"Open In Colab\"/></a>"
      ]
    },
    {
      "cell_type": "markdown",
      "id": "QFevh2evNoTo",
      "metadata": {
        "id": "QFevh2evNoTo"
      },
      "source": [
        "## Исследование поведения студентов в чате\n",
        "\n",
        "### Описание проекта\n",
        "\n",
        "Проанализируйте поведение студентов в чатах, выявите паттерны, динамику, цикличность, визуализируйте свои находки и помоги понять, когда активность студентов в чатах наибольшая и когда лучше публиковать анонсы, подобные данному, чтобы получить побольше откликов.\n",
        "\n",
        "Также проанализируйте различные типы каналов, в каких общения больше, в каких меньше и как они различаются от когорты к когорте. И для тех, кому этого всего мало и кто быстро справится, задание сегментировать или кластеризировать самих пользователей и постараться выявить различия между кластерами и сегментами.\n",
        "\n",
        "### Цель проекта\n",
        "Проанализировать активность в чатах Пачки и Слак\n",
        "\n",
        "### Проблема \n",
        "Низкая обратная связь на важные посты, публикуемые в чатах\n",
        "\n",
        "### Задачи:\n",
        " - проанализировать поведение студентов в чатах;\n",
        " - выявить паттерны, динамику, цикличность в течение дня, недели, месяца, года;\n",
        " - визуализировать свои находки;\n",
        " - помочь нам понять, когда активность студентов в чатах наибольшая, и когда лучше публиковать посты/анонсы, чтобы получить больше откликов;\n",
        " - проанализировать различные типы каналов, когорт, групп;\n",
        " - оценить в каких общения больше, в каких меньше, и как они различаются от когорты к когорте, от канала к каналу. "
      ]
    },
    {
      "cell_type": "markdown",
      "id": "7xOWLFT2PMG-",
      "metadata": {
        "id": "7xOWLFT2PMG-"
      },
      "source": [
        "## Описание данных \n",
        "\n",
        "- Unnamed: 0 - индекс (можно удалить)\n",
        "- client_msg_id - id сообщения \n",
        "- type - тип поста \n",
        "- user - id пользователя \n",
        "- ts - дата поста\n",
        "- thread_ts - дата треда\n",
        "- latest_reply - дата ответа\n",
        "- team - факт вхождения в неизвестную группу (?) \n",
        "- subtype - метка действий пользователя \n",
        "- channel - канал \n",
        "- file_date - дата файла \n",
        "- attachments - прикреплённые файлы  \n",
        "- reactions - реакции \n",
        "- text_len - длина текста сообщения  \n",
        "- text_words - количество слов в сообщении"
      ]
    },
    {
      "cell_type": "code",
      "execution_count": null,
      "id": "0O7Lu3odNWOG",
      "metadata": {
        "colab": {
          "base_uri": "https://localhost:8080/"
        },
        "id": "0O7Lu3odNWOG",
        "outputId": "2a5a3faf-1029-444f-d45a-33d3456012c5"
      },
      "outputs": [
        {
          "output_type": "stream",
          "name": "stdout",
          "text": [
            "Drive already mounted at /content/drive; to attempt to forcibly remount, call drive.mount(\"/content/drive\", force_remount=True).\n"
          ]
        }
      ],
      "source": [
        "import pandas as pd\n",
        "import seaborn as sns\n",
        "import matplotlib.pyplot as plt\n",
        "import numpy as np\n",
        "import re\n",
        "import math\n",
        "import ast\n",
        "import plotly.express as px\n",
        "from datetime import datetime, timedelta, date\n",
        "#from collections import Sequence, Mapping\n",
        "from google.colab import drive\n",
        "drive.mount('/content/drive')"
      ]
    },
    {
      "cell_type": "code",
      "execution_count": null,
      "id": "311e9b16",
      "metadata": {
        "id": "311e9b16"
      },
      "outputs": [],
      "source": [
        "pd.set_option('display.float_format', '{:.2f}'.format)\n",
        "sns.set_style('darkgrid') "
      ]
    },
    {
      "cell_type": "code",
      "execution_count": null,
      "id": "cWi408tJ4-4b",
      "metadata": {
        "id": "cWi408tJ4-4b"
      },
      "outputs": [],
      "source": [
        "try: \n",
        "  data = pd.read_csv('chat_data_clean.csv', index_col=0)\n",
        "except:\n",
        "  data = pd.read_csv('/content/drive/MyDrive/chat_data_clean.csv', index_col=0)"
      ]
    },
    {
      "cell_type": "code",
      "execution_count": null,
      "id": "d27095ce",
      "metadata": {
        "colab": {
          "base_uri": "https://localhost:8080/"
        },
        "id": "d27095ce",
        "outputId": "3992e075-a5d9-440d-95ad-c7522fafd9c0"
      },
      "outputs": [
        {
          "output_type": "stream",
          "name": "stdout",
          "text": [
            "<class 'pandas.core.frame.DataFrame'>\n",
            "Int64Index: 26533 entries, 0 to 26532\n",
            "Data columns (total 14 columns):\n",
            " #   Column         Non-Null Count  Dtype  \n",
            "---  ------         --------------  -----  \n",
            " 0   client_msg_id  18262 non-null  object \n",
            " 1   type           26533 non-null  object \n",
            " 2   user           23643 non-null  object \n",
            " 3   ts             26533 non-null  float64\n",
            " 4   latest_reply   2303 non-null   float64\n",
            " 5   team           15857 non-null  object \n",
            " 6   thread_ts      18222 non-null  float64\n",
            " 7   subtype        8317 non-null   object \n",
            " 8   channel        26533 non-null  object \n",
            " 9   file_date      26533 non-null  object \n",
            " 10  attachments    26533 non-null  int64  \n",
            " 11  reactions      4169 non-null   object \n",
            " 12  text_len       26533 non-null  int64  \n",
            " 13  text_words     26533 non-null  int64  \n",
            "dtypes: float64(3), int64(3), object(8)\n",
            "memory usage: 3.0+ MB\n"
          ]
        }
      ],
      "source": [
        "data.info()"
      ]
    },
    {
      "cell_type": "code",
      "execution_count": null,
      "id": "1SEjs_DLVBeo",
      "metadata": {
        "colab": {
          "base_uri": "https://localhost:8080/",
          "height": 206
        },
        "id": "1SEjs_DLVBeo",
        "outputId": "e55c68f0-6332-48a6-de0d-f7641df6bf38"
      },
      "outputs": [
        {
          "output_type": "execute_result",
          "data": {
            "text/plain": [
              "                          client_msg_id     type         user            ts  \\\n",
              "0  ae31e785-257b-4290-a4c6-9721337f67ea  message  U03JYMWQLP5 1669643363.45   \n",
              "1  7f644ae8-16d4-4c9e-9c4f-8b2d6df6a28d  message  U03V483FRKM 1669645448.32   \n",
              "2                                   NaN  message  U02KVQJHQ5S 1669646930.33   \n",
              "3  6c5bf2c1-8579-413c-8e8f-ec3a0e3698a8  message  U03JYMWQLP5 1669709292.16   \n",
              "4  b5e3413b-8f04-4192-948b-2423eb3192b2  message  U040E2D6CF2 1669710752.08   \n",
              "\n",
              "   latest_reply       team     thread_ts       subtype            channel  \\\n",
              "0 1669645448.32  TPV9DP0N4 1669643363.45           NaN  data-analysts-bus   \n",
              "1           NaN  TPV9DP0N4 1669643363.45           NaN  data-analysts-bus   \n",
              "2           NaN        NaN           NaN  channel_join  data-analysts-bus   \n",
              "3 1669719417.16        NaN 1669709292.16           NaN  data-analysts-bus   \n",
              "4           NaN  TPV9DP0N4 1669709292.16           NaN  data-analysts-bus   \n",
              "\n",
              "    file_date  attachments                                          reactions  \\\n",
              "0  2022-11-28            0                                                NaN   \n",
              "1  2022-11-28            0  [{'name': 'pray', 'users': ['U03JYMWQLP5'], 'c...   \n",
              "2  2022-11-28            0                                                NaN   \n",
              "3  2022-11-29            0  [{'name': 'cat-high-five', 'users': ['U040E2D6...   \n",
              "4  2022-11-29            0                                                NaN   \n",
              "\n",
              "   text_len  text_words  \n",
              "0       297          47  \n",
              "1       434          63  \n",
              "2        37           5  \n",
              "3        69          12  \n",
              "4        19           2  "
            ],
            "text/html": [
              "\n",
              "  <div id=\"df-843833bb-1a46-4e28-9d8b-62c5e6e08710\">\n",
              "    <div class=\"colab-df-container\">\n",
              "      <div>\n",
              "<style scoped>\n",
              "    .dataframe tbody tr th:only-of-type {\n",
              "        vertical-align: middle;\n",
              "    }\n",
              "\n",
              "    .dataframe tbody tr th {\n",
              "        vertical-align: top;\n",
              "    }\n",
              "\n",
              "    .dataframe thead th {\n",
              "        text-align: right;\n",
              "    }\n",
              "</style>\n",
              "<table border=\"1\" class=\"dataframe\">\n",
              "  <thead>\n",
              "    <tr style=\"text-align: right;\">\n",
              "      <th></th>\n",
              "      <th>client_msg_id</th>\n",
              "      <th>type</th>\n",
              "      <th>user</th>\n",
              "      <th>ts</th>\n",
              "      <th>latest_reply</th>\n",
              "      <th>team</th>\n",
              "      <th>thread_ts</th>\n",
              "      <th>subtype</th>\n",
              "      <th>channel</th>\n",
              "      <th>file_date</th>\n",
              "      <th>attachments</th>\n",
              "      <th>reactions</th>\n",
              "      <th>text_len</th>\n",
              "      <th>text_words</th>\n",
              "    </tr>\n",
              "  </thead>\n",
              "  <tbody>\n",
              "    <tr>\n",
              "      <th>0</th>\n",
              "      <td>ae31e785-257b-4290-a4c6-9721337f67ea</td>\n",
              "      <td>message</td>\n",
              "      <td>U03JYMWQLP5</td>\n",
              "      <td>1669643363.45</td>\n",
              "      <td>1669645448.32</td>\n",
              "      <td>TPV9DP0N4</td>\n",
              "      <td>1669643363.45</td>\n",
              "      <td>NaN</td>\n",
              "      <td>data-analysts-bus</td>\n",
              "      <td>2022-11-28</td>\n",
              "      <td>0</td>\n",
              "      <td>NaN</td>\n",
              "      <td>297</td>\n",
              "      <td>47</td>\n",
              "    </tr>\n",
              "    <tr>\n",
              "      <th>1</th>\n",
              "      <td>7f644ae8-16d4-4c9e-9c4f-8b2d6df6a28d</td>\n",
              "      <td>message</td>\n",
              "      <td>U03V483FRKM</td>\n",
              "      <td>1669645448.32</td>\n",
              "      <td>NaN</td>\n",
              "      <td>TPV9DP0N4</td>\n",
              "      <td>1669643363.45</td>\n",
              "      <td>NaN</td>\n",
              "      <td>data-analysts-bus</td>\n",
              "      <td>2022-11-28</td>\n",
              "      <td>0</td>\n",
              "      <td>[{'name': 'pray', 'users': ['U03JYMWQLP5'], 'c...</td>\n",
              "      <td>434</td>\n",
              "      <td>63</td>\n",
              "    </tr>\n",
              "    <tr>\n",
              "      <th>2</th>\n",
              "      <td>NaN</td>\n",
              "      <td>message</td>\n",
              "      <td>U02KVQJHQ5S</td>\n",
              "      <td>1669646930.33</td>\n",
              "      <td>NaN</td>\n",
              "      <td>NaN</td>\n",
              "      <td>NaN</td>\n",
              "      <td>channel_join</td>\n",
              "      <td>data-analysts-bus</td>\n",
              "      <td>2022-11-28</td>\n",
              "      <td>0</td>\n",
              "      <td>NaN</td>\n",
              "      <td>37</td>\n",
              "      <td>5</td>\n",
              "    </tr>\n",
              "    <tr>\n",
              "      <th>3</th>\n",
              "      <td>6c5bf2c1-8579-413c-8e8f-ec3a0e3698a8</td>\n",
              "      <td>message</td>\n",
              "      <td>U03JYMWQLP5</td>\n",
              "      <td>1669709292.16</td>\n",
              "      <td>1669719417.16</td>\n",
              "      <td>NaN</td>\n",
              "      <td>1669709292.16</td>\n",
              "      <td>NaN</td>\n",
              "      <td>data-analysts-bus</td>\n",
              "      <td>2022-11-29</td>\n",
              "      <td>0</td>\n",
              "      <td>[{'name': 'cat-high-five', 'users': ['U040E2D6...</td>\n",
              "      <td>69</td>\n",
              "      <td>12</td>\n",
              "    </tr>\n",
              "    <tr>\n",
              "      <th>4</th>\n",
              "      <td>b5e3413b-8f04-4192-948b-2423eb3192b2</td>\n",
              "      <td>message</td>\n",
              "      <td>U040E2D6CF2</td>\n",
              "      <td>1669710752.08</td>\n",
              "      <td>NaN</td>\n",
              "      <td>TPV9DP0N4</td>\n",
              "      <td>1669709292.16</td>\n",
              "      <td>NaN</td>\n",
              "      <td>data-analysts-bus</td>\n",
              "      <td>2022-11-29</td>\n",
              "      <td>0</td>\n",
              "      <td>NaN</td>\n",
              "      <td>19</td>\n",
              "      <td>2</td>\n",
              "    </tr>\n",
              "  </tbody>\n",
              "</table>\n",
              "</div>\n",
              "      <button class=\"colab-df-convert\" onclick=\"convertToInteractive('df-843833bb-1a46-4e28-9d8b-62c5e6e08710')\"\n",
              "              title=\"Convert this dataframe to an interactive table.\"\n",
              "              style=\"display:none;\">\n",
              "        \n",
              "  <svg xmlns=\"http://www.w3.org/2000/svg\" height=\"24px\"viewBox=\"0 0 24 24\"\n",
              "       width=\"24px\">\n",
              "    <path d=\"M0 0h24v24H0V0z\" fill=\"none\"/>\n",
              "    <path d=\"M18.56 5.44l.94 2.06.94-2.06 2.06-.94-2.06-.94-.94-2.06-.94 2.06-2.06.94zm-11 1L8.5 8.5l.94-2.06 2.06-.94-2.06-.94L8.5 2.5l-.94 2.06-2.06.94zm10 10l.94 2.06.94-2.06 2.06-.94-2.06-.94-.94-2.06-.94 2.06-2.06.94z\"/><path d=\"M17.41 7.96l-1.37-1.37c-.4-.4-.92-.59-1.43-.59-.52 0-1.04.2-1.43.59L10.3 9.45l-7.72 7.72c-.78.78-.78 2.05 0 2.83L4 21.41c.39.39.9.59 1.41.59.51 0 1.02-.2 1.41-.59l7.78-7.78 2.81-2.81c.8-.78.8-2.07 0-2.86zM5.41 20L4 18.59l7.72-7.72 1.47 1.35L5.41 20z\"/>\n",
              "  </svg>\n",
              "      </button>\n",
              "      \n",
              "  <style>\n",
              "    .colab-df-container {\n",
              "      display:flex;\n",
              "      flex-wrap:wrap;\n",
              "      gap: 12px;\n",
              "    }\n",
              "\n",
              "    .colab-df-convert {\n",
              "      background-color: #E8F0FE;\n",
              "      border: none;\n",
              "      border-radius: 50%;\n",
              "      cursor: pointer;\n",
              "      display: none;\n",
              "      fill: #1967D2;\n",
              "      height: 32px;\n",
              "      padding: 0 0 0 0;\n",
              "      width: 32px;\n",
              "    }\n",
              "\n",
              "    .colab-df-convert:hover {\n",
              "      background-color: #E2EBFA;\n",
              "      box-shadow: 0px 1px 2px rgba(60, 64, 67, 0.3), 0px 1px 3px 1px rgba(60, 64, 67, 0.15);\n",
              "      fill: #174EA6;\n",
              "    }\n",
              "\n",
              "    [theme=dark] .colab-df-convert {\n",
              "      background-color: #3B4455;\n",
              "      fill: #D2E3FC;\n",
              "    }\n",
              "\n",
              "    [theme=dark] .colab-df-convert:hover {\n",
              "      background-color: #434B5C;\n",
              "      box-shadow: 0px 1px 3px 1px rgba(0, 0, 0, 0.15);\n",
              "      filter: drop-shadow(0px 1px 2px rgba(0, 0, 0, 0.3));\n",
              "      fill: #FFFFFF;\n",
              "    }\n",
              "  </style>\n",
              "\n",
              "      <script>\n",
              "        const buttonEl =\n",
              "          document.querySelector('#df-843833bb-1a46-4e28-9d8b-62c5e6e08710 button.colab-df-convert');\n",
              "        buttonEl.style.display =\n",
              "          google.colab.kernel.accessAllowed ? 'block' : 'none';\n",
              "\n",
              "        async function convertToInteractive(key) {\n",
              "          const element = document.querySelector('#df-843833bb-1a46-4e28-9d8b-62c5e6e08710');\n",
              "          const dataTable =\n",
              "            await google.colab.kernel.invokeFunction('convertToInteractive',\n",
              "                                                     [key], {});\n",
              "          if (!dataTable) return;\n",
              "\n",
              "          const docLinkHtml = 'Like what you see? Visit the ' +\n",
              "            '<a target=\"_blank\" href=https://colab.research.google.com/notebooks/data_table.ipynb>data table notebook</a>'\n",
              "            + ' to learn more about interactive tables.';\n",
              "          element.innerHTML = '';\n",
              "          dataTable['output_type'] = 'display_data';\n",
              "          await google.colab.output.renderOutput(dataTable, element);\n",
              "          const docLink = document.createElement('div');\n",
              "          docLink.innerHTML = docLinkHtml;\n",
              "          element.appendChild(docLink);\n",
              "        }\n",
              "      </script>\n",
              "    </div>\n",
              "  </div>\n",
              "  "
            ]
          },
          "metadata": {},
          "execution_count": 5
        }
      ],
      "source": [
        "data.head()"
      ]
    },
    {
      "cell_type": "markdown",
      "id": "IEJkiDOLVDaf",
      "metadata": {
        "id": "IEJkiDOLVDaf"
      },
      "source": [
        "## Предобработка данных"
      ]
    },
    {
      "cell_type": "markdown",
      "id": "W-MSQxl3liVK",
      "metadata": {
        "id": "W-MSQxl3liVK"
      },
      "source": [
        "### Удаление столбцов не участвующих в анализе"
      ]
    },
    {
      "cell_type": "code",
      "execution_count": null,
      "id": "7288fda4",
      "metadata": {
        "id": "7288fda4"
      },
      "outputs": [],
      "source": [
        "data = data.drop(['type'], axis=1)"
      ]
    },
    {
      "cell_type": "markdown",
      "id": "CytO79ArloRB",
      "metadata": {
        "id": "CytO79ArloRB"
      },
      "source": [
        "### Просмотр уникальных значений столбцов"
      ]
    },
    {
      "cell_type": "code",
      "execution_count": null,
      "id": "2bfa6bbc",
      "metadata": {
        "colab": {
          "base_uri": "https://localhost:8080/"
        },
        "id": "2bfa6bbc",
        "outputId": "c88c14c6-150c-4b29-fb73-5e922d463103",
        "scrolled": true
      },
      "outputs": [
        {
          "output_type": "execute_result",
          "data": {
            "text/plain": [
              "array(['U03JYMWQLP5', 'U03V483FRKM', 'U02KVQJHQ5S', ..., 'U045ZBAM1JA',\n",
              "       'U044T2TLGH3', 'U04152HKDHN'], dtype=object)"
            ]
          },
          "metadata": {},
          "execution_count": 7
        }
      ],
      "source": [
        "data['user'].unique()"
      ]
    },
    {
      "cell_type": "code",
      "execution_count": null,
      "id": "1207fb5b",
      "metadata": {
        "colab": {
          "base_uri": "https://localhost:8080/"
        },
        "id": "1207fb5b",
        "outputId": "9b36544e-9c4e-41cc-ccff-b6642e073237"
      },
      "outputs": [
        {
          "output_type": "execute_result",
          "data": {
            "text/plain": [
              "array([nan, 'channel_join', 'bot_remove', 'thread_broadcast',\n",
              "       'channel_unarchive', 'channel_leave', 'bot_message',\n",
              "       'channel_purpose', 'tombstone', 'channel_name'], dtype=object)"
            ]
          },
          "metadata": {},
          "execution_count": 8
        }
      ],
      "source": [
        "data['subtype'].unique()"
      ]
    },
    {
      "cell_type": "code",
      "execution_count": null,
      "id": "9dc5914f",
      "metadata": {
        "id": "9dc5914f",
        "colab": {
          "base_uri": "https://localhost:8080/"
        },
        "outputId": "435b6056-1803-4576-d1ce-35f1689cd745"
      },
      "outputs": [
        {
          "output_type": "execute_result",
          "data": {
            "text/plain": [
              "array(['data-analysts-bus', 'datatracker_logs', 'data_complaints',\n",
              "       'data_edteam_info', 'da_42_exerciser_1', 'da_42_exerciser_2',\n",
              "       'da_42_projects_1', 'da_42_projects_2', 'da_50_info',\n",
              "       'da_50_library', 'da_50_teamwork', 'da_52_exerciser', 'da_52_info',\n",
              "       'da_52_library', 'da_52_projects', 'da_52_teamwork',\n",
              "       'da_53_exerciser_1', 'da_53_exerciser_2', 'da_53_info',\n",
              "       'da_53_library', 'da_53_projects_1', 'da_53_projects_2',\n",
              "       'da_53_teamwork', 'da_54_exerciser_01', 'da_54_exerciser_02',\n",
              "       'da_54_info', 'da_54_library', 'da_54_projects_01',\n",
              "       'da_54_projects_02', 'da_54_teamwork', 'da_55_exerciser',\n",
              "       'da_55_info', 'da_55_library', 'da_55_projects', 'da_55_teamwork',\n",
              "       'da_56b_exerciser', 'da_56b_info', 'da_56b_library',\n",
              "       'da_56b_projects', 'da_56b_teamwork', 'da_56_exerciser_1',\n",
              "       'da_56_exerciser_2', 'da_56_info', 'da_56_library',\n",
              "       'da_56_projects_1', 'da_56_projects_2', 'da_56_teamwork',\n",
              "       'da_58_digitalprof', 'da_58_exerciser_1', 'da_58_exerciser_2',\n",
              "       'da_58_exerciser_3', 'da_58_info', 'da_58_library',\n",
              "       'da_58_projects_1', 'da_58_projects_2', 'da_58_projects_3',\n",
              "       'da_58_teamwork', 'da_59b_exerciser', 'da_59b_info',\n",
              "       'da_59b_library', 'da_59b_projects', 'da_59b_teamwork',\n",
              "       'da_59_exerciser_01', 'da_59_exerciser_02', 'da_59_exerciser_03',\n",
              "       'da_59_info', 'da_59_library', 'da_59_projects_01',\n",
              "       'da_59_projects_02', 'da_59_projects_03', 'da_59_teamwork',\n",
              "       'da_60_exerciser_01', 'da_60_exerciser_02', 'da_60_exerciser_03',\n",
              "       'da_60_info', 'da_60_library', 'da_60_projects_01',\n",
              "       'da_60_projects_02', 'da_60_projects_03', 'da_60_teamwork',\n",
              "       'da_60_цифровые-профессии', 'da_61b_exerciser', 'da_61b_info',\n",
              "       'da_61b_projects', 'da_61b_teamwork', 'da_61_exerciser_01',\n",
              "       'da_61_exerciser_02', 'da_61_exerciser_03', 'da_61_info',\n",
              "       'da_61_library', 'da_61_project_01', 'da_61_project_02',\n",
              "       'da_61_project_03', 'da_61_teamwork', 'da_62_b2g',\n",
              "       'da_62_exerciser_1', 'da_62_exerciser_2', 'da_62_info',\n",
              "       'da_62_library', 'da_62_projects_1', 'da_62_projects_2',\n",
              "       'da_62_teamwork', 'da_63_exerciser_1', 'da_63_exerciser_2',\n",
              "       'da_63_info', 'da_63_library', 'da_63_mentors', 'da_63_projects_1',\n",
              "       'da_63_projects_2', 'da_63_teamwork', 'da_63_цифровые_профессии',\n",
              "       'da_bc_02_apps', 'da_bc_02_final_info', 'da_bc_02_telecom',\n",
              "       'da_bc_03_info', 'da_bc_03_library', 'da_bc_03_study',\n",
              "       'da_bc_03_teamwork', 'da_bc_04_info', 'da_bc_04_library',\n",
              "       'da_bc_04_study', 'da_bc_04_teamwork', 'da_plus_09_exerciser',\n",
              "       'da_plus_09_info', 'da_plus_09_kt', 'da_plus_09_library',\n",
              "       'da_plus_09_projects', 'da_plus_09_teamwork',\n",
              "       'da_plus_10_exerciser', 'da_plus_10_info', 'da_plus_10_kt',\n",
              "       'da_plus_10_library', 'da_plus_10_mentors', 'da_plus_10_projects',\n",
              "       'da_plus_10_teamwork', 'da_plus_11_exerciser', 'da_plus_11_info',\n",
              "       'da_plus_11_library', 'da_plus_11_project', 'da_plus_11_teamwork',\n",
              "       'da_plus_12_exerciser', 'da_plus_12_info', 'da_plus_12_kt',\n",
              "       'da_plus_12_library', 'da_plus_12_projects', 'da_plus_12_teamwork',\n",
              "       'da_plus_13_exerciser', 'da_plus_13_info', 'da_plus_13_library',\n",
              "       'da_plus_13_projects', 'da_plus_13_teamwork',\n",
              "       'da_plus_14_exerciser', 'da_plus_14_info', 'da_plus_14_library',\n",
              "       'da_plus_14_projects', 'da_plus_14_teamwork',\n",
              "       'da_plus_15_exerciser', 'da_plus_15_info', 'da_plus_15_library',\n",
              "       'da_plus_15_projects', 'da_plus_15_teamwork',\n",
              "       'da_plus_16_exerciser', 'da_plus_16_info', 'da_plus_16_library',\n",
              "       'da_plus_16_mentors', 'da_plus_16_projects', 'da_plus_16_teamwork',\n",
              "       'da_plus_17_exerciser', 'da_plus_17_info', 'da_plus_17_library',\n",
              "       'da_plus_17_projects', 'da_plus_17_teamwork',\n",
              "       'da_plus_18_exerciser_1', 'da_plus_18_exerciser_2',\n",
              "       'da_plus_18_info', 'da_plus_18_library', 'da_plus_18_projects_1',\n",
              "       'da_plus_18_projects_2', 'da_plus_18_teamwork',\n",
              "       'da_plus_19_exerciser', 'da_plus_19_info', 'da_plus_19_library',\n",
              "       'da_plus_19_mentors', 'da_plus_19_projects', 'da_plus_19_teamwork',\n",
              "       'da_plus_8_info', 'da_plus_8_kt', 'da_plus_8_library',\n",
              "       'da_plus_8_teamwork', 'de-pro1', 'de-pro2', 'de-pro3', 'de-pro4',\n",
              "       'de-project', 'design_web_plus', 'de_1_info', 'de_22_community',\n",
              "       'de_22_exerciser', 'de_22_group_orange', 'de_22_group_red',\n",
              "       'de_22_group_yellow', 'de_22_info', 'de_22_library',\n",
              "       'de_22_projects', 'de_22_tutorial', 'de_23_community',\n",
              "       'de_23_exerciser', 'de_23_group_blue', 'de_23_group_green',\n",
              "       'de_23_group_red', 'de_23_group_yellow', 'de_23_info',\n",
              "       'de_23_library', 'de_23_problem_1', 'de_23_projects',\n",
              "       'de_23_tutorial', 'de_24_community', 'de_24_exerciser',\n",
              "       'de_24_group_green', 'de_24_group_orange', 'de_24_group_red',\n",
              "       'de_24_group_yellow', 'de_24_info', 'de_24_library',\n",
              "       'de_24_projects', 'de_24_topic1', 'de_24_topic2', 'de_24_topic3',\n",
              "       'de_24_tutorial', 'de_25_community', 'de_25_exerciser',\n",
              "       'de_25_group_blue', 'de_25_group_orange', 'de_25_group_purple',\n",
              "       'de_25_group_red', 'de_25_info', 'de_25_library', 'de_25_projects',\n",
              "       'de_25_tutorial', 'de_26_community', 'de_26_exerciser',\n",
              "       'de_26_group_green', 'de_26_group_purple', 'de_26_group_red',\n",
              "       'de_26_group_yellow', 'de_26_info', 'de_26_library',\n",
              "       'de_26_projects', 'de_26_tutorial', 'de_27_2_community',\n",
              "       'de_27_2_digital_professions', 'de_27_2_exerciser',\n",
              "       'de_27_2_group_green', 'de_27_2_group_orange',\n",
              "       'de_27_2_group_yellow', 'de_27_2_info', 'de_27_2_library',\n",
              "       'de_27_2_projects', 'de_27_2_tutorial', 'de_27_community',\n",
              "       'de_27_exerciser', 'de_27_group_green', 'de_27_group_red',\n",
              "       'de_27_group_yellow', 'de_27_info', 'de_27_library',\n",
              "       'de_27_projects', 'de_27_tutorial', 'de_28_2_community',\n",
              "       'de_28_2_digital_professions', 'de_28_2_exerciser',\n",
              "       'de_28_2_group_green', 'de_28_2_group_red', 'de_28_2_group_yellow',\n",
              "       'de_28_2_info', 'de_28_2_library', 'de_28_2_projects',\n",
              "       'de_28_2_tutorial', 'de_28_community', 'de_28_digital_professions',\n",
              "       'de_28_exerciser', 'de_28_group_green', 'de_28_group_red',\n",
              "       'de_28_group_yellow', 'de_28_info', 'de_28_library',\n",
              "       'de_28_projects', 'de_28_tutorial', 'de_29_2_community',\n",
              "       'de_29_2_digital_professions', 'de_29_2_exerciser',\n",
              "       'de_29_2_group_green', 'de_29_2_group_red', 'de_29_2_group_yellow',\n",
              "       'de_29_2_info', 'de_29_2_library', 'de_29_2_mentors',\n",
              "       'de_29_2_projects', 'de_29_2_tutorial', 'de_29_community',\n",
              "       'de_29_digital_professions', 'de_29_exerciser', 'de_29_group_blue',\n",
              "       'de_29_group_purple', 'de_29_group_red', 'de_29_info',\n",
              "       'de_29_library', 'de_29_projects', 'de_29_tutorial', 'de_2_info',\n",
              "       'de_30_community', 'de_30_digital_professions', 'de_30_exerciser',\n",
              "       'de_30_group_green', 'de_30_group_red', 'de_30_group_yellow',\n",
              "       'de_30_info', 'de_30_library', 'de_30_mentors', 'de_30_projects',\n",
              "       'de_30_tutorial', 'de_3_exerciser', 'de_3_info', 'de_3_projects',\n",
              "       'de_4_exerciser', 'de_4_info', 'de_4_projects', 'de_5_exerciser',\n",
              "       'de_5_info', 'de_5_library', 'de_5_mentors', 'de_5_projects',\n",
              "       'de_5_teamwork', 'de_6_exerciser', 'de_6_info', 'de_6_library',\n",
              "       'de_6_mentors', 'de_6_projects', 'de_6_teamwork', 'de_7_exerciser',\n",
              "       'de_7_info', 'de_7_library', 'de_7_mentors', 'de_7_projects',\n",
              "       'de_7_teamwork', 'de_8_exerciser', 'de_8_info', 'de_8_library',\n",
              "       'de_8_mentors', 'de_8_projects', 'de_8_teamwork',\n",
              "       'de_8_workshop_project1', 'de_random_coffee', 'dl_04_community',\n",
              "       'dl_04_info', 'dl_04_students_feedback', 'dl_04_teach_me',\n",
              "       'dl_05_community', 'dl_05_info', 'dl_05_students_feedback',\n",
              "       'dl_05_teach_me', 'dl_06_community', 'dl_06_group_green',\n",
              "       'dl_06_group_yellow', 'dl_06_info', 'dl_06_student_feedback',\n",
              "       'dl_06_teach_me', 'dl_07_community', 'dl_07_info',\n",
              "       'dl_07_student_feedback', 'dl_07_teach_me', 'dl_academ',\n",
              "       'donorsearch', 'ds_35_exerciser_1', 'ds_35_exerciser_2',\n",
              "       'ds_35_exerciser_3', 'ds_35_projects_1', 'ds_35_projects_2',\n",
              "       'ds_35_projects_3', 'ds_38_info', 'ds_38_library',\n",
              "       'ds_38_teamwork', 'ds_40_info', 'ds_40_library', 'ds_40_teamwork',\n",
              "       'ds_42_exerciser', 'ds_42_info', 'ds_42_library', 'ds_42_project',\n",
              "       'ds_42_teamwork', 'ds_43_info', 'ds_43_library', 'ds_43_teamwork',\n",
              "       'ds_44_exerciser', 'ds_44_info', 'ds_44_library', 'ds_44_projects',\n",
              "       'ds_44_teamwork', 'ds_45_exerciser', 'ds_45_info', 'ds_45_library',\n",
              "       'ds_45_projects', 'ds_45_teamwork', 'ds_46_exerciser',\n",
              "       'ds_46_info', 'ds_46_library', 'ds_46_projects', 'ds_46_teamwork',\n",
              "       'ds_47_exerciser', 'ds_47_info', 'ds_47_library', 'ds_47_projects',\n",
              "       'ds_47_teamwork', 'ds_48_exerciser', 'ds_48_info', 'ds_48_library',\n",
              "       'ds_48_projects', 'ds_48_teamwork', 'ds_49_exerciser',\n",
              "       'ds_49_info', 'ds_49_library', 'ds_49_projects', 'ds_49_teamwork',\n",
              "       'ds_50_exerciser_1', 'ds_50_exerciser_2', 'ds_50_info',\n",
              "       'ds_50_library', 'ds_50_projects_1', 'ds_50_projects_2',\n",
              "       'ds_50_teamwork', 'ds_51b_info', 'ds_51b_library',\n",
              "       'ds_51b_projects', 'ds_51b_teamwork', 'ds_54b_exerciser',\n",
              "       'ds_54b_info', 'ds_54b_library', 'ds_54b_projects',\n",
              "       'ds_54b_teamwork', 'ds_55_exerciser_1', 'ds_55_exerciser_2',\n",
              "       'ds_55_exerciser_3', 'ds_55_info', 'ds_55_library',\n",
              "       'ds_55_projects_1', 'ds_55_projects_2', 'ds_55_teamwork',\n",
              "       'ds_57_exerciser_1', 'ds_57_exerciser_2', 'ds_57_info',\n",
              "       'ds_57_library', 'ds_57_projects_1', 'ds_57_projects_2',\n",
              "       'ds_57_teamwork', 'ds_58_exerciser_1', 'ds_58_exerciser_2',\n",
              "       'ds_58_info', 'ds_58_library', 'ds_58_projects_1',\n",
              "       'ds_58_projects_2', 'ds_58_teamwork', 'ds_bc_02_exerciser',\n",
              "       'ds_bc_02_info', 'ds_bc_02_library', 'ds_bc_02_projects',\n",
              "       'ds_bc_02_teamwork', 'ds_bc_03_exerciser', 'ds_bc_03_info',\n",
              "       'ds_bc_03_library', 'ds_bc_03_projects', 'ds_bc_03_teamwork',\n",
              "       'ds_bc_04_exerciser', 'ds_bc_04_info', 'ds_bc_04_library',\n",
              "       'ds_bc_04_projects', 'ds_bc_04_teamwork', 'ds_bc_05_info',\n",
              "       'ds_bc_05_library', 'ds_bc_05_study', 'ds_bc_05_teamwork',\n",
              "       'ds_plus_05_exerciser', 'ds_plus_05_info', 'ds_plus_05_projects',\n",
              "       'ds_plus_05_teamwork', 'ds_plus_06_exerciser', 'ds_plus_06_info',\n",
              "       'ds_plus_06_projects', 'ds_plus_06_teamwork',\n",
              "       'ds_plus_07_exerciser', 'ds_plus_07_info', 'ds_plus_07_projects',\n",
              "       'ds_plus_07_teamwork', 'ds_plus_08_exerciser', 'ds_plus_08_info',\n",
              "       'ds_plus_08_library', 'ds_plus_08_projects', 'ds_plus_08_teamwork',\n",
              "       'ds_plus_09_exerciser', 'ds_plus_09_info', 'ds_plus_09_kt',\n",
              "       'ds_plus_09_library', 'ds_plus_09_projects', 'ds_plus_09_teamwork',\n",
              "       'ds_plus_10_exerciser', 'ds_plus_10_info', 'ds_plus_10_library',\n",
              "       'ds_plus_10_projects', 'ds_plus_10_teamwork',\n",
              "       'ds_plus_11_exerciser', 'ds_plus_11_library',\n",
              "       'ds_plus_11_projects', 'ds_plus_11_teamwork',\n",
              "       'ds_plus_12_exerciser', 'ds_plus_12_info', 'ds_plus_12_library',\n",
              "       'ds_plus_12_projects', 'ds_plus_12_teamwork',\n",
              "       'ds_plus_13_exerciser', 'ds_plus_13_info', 'ds_plus_13_library',\n",
              "       'ds_plus_13_projects', 'ds_plus_13_teamwork',\n",
              "       'ds_plus_14_exerciser', 'ds_plus_14_info', 'ds_plus_14_library',\n",
              "       'ds_plus_14_projects', 'ds_plus_14_teamwork',\n",
              "       'ds_plus_15_exerciser', 'ds_plus_15_info', 'ds_plus_15_library',\n",
              "       'ds_plus_15_projects_1', 'ds_plus_15_projects_2',\n",
              "       'ds_plus_15_teamwork', 'ds_plus_17_exerciser', 'ds_plus_17_info',\n",
              "       'ds_plus_17_library', 'ds_plus_17_mentors', 'ds_plus_17_projects',\n",
              "       'ds_plus_17_teamwork', 'ds_plus_18_exerciser', 'ds_plus_18_info',\n",
              "       'ds_plus_18_library', 'ds_plus_18_projects', 'ds_plus_18_teamwork',\n",
              "       'ds_plus_19_exerciser', 'ds_plus_19_info', 'ds_plus_19_library',\n",
              "       'ds_plus_19_projects', 'ds_plus_19_teamwork',\n",
              "       'masterskaya_10ds_plus', 'masterskaya_10dа_plus',\n",
              "       'masterskaya_11ds_plus', 'masterskaya_11dа_plus',\n",
              "       'masterskaya_12ds_plus', 'masterskaya_7ds_plus',\n",
              "       'masterskaya_8ds_plus', 'masterskaya_8dа_plus',\n",
              "       'masterskaya_9ds_plus', 'masterskaya_9dа_plus', 'sql_04_exerciser',\n",
              "       'sql_04_info', 'sql_04_teamwork', 'sql_exerciser',\n",
              "       'sql_exerciser_03', 'sql_exerciser_new', 'sql_info', 'sql_info_03',\n",
              "       'sql_info_new', 'sql_teamwork', 'sql_teamwork_03',\n",
              "       'sql_teamwork_new'], dtype=object)"
            ]
          },
          "metadata": {},
          "execution_count": 9
        }
      ],
      "source": [
        "data['channel'].unique()"
      ]
    },
    {
      "cell_type": "code",
      "execution_count": null,
      "id": "8b6b8d41",
      "metadata": {
        "colab": {
          "base_uri": "https://localhost:8080/"
        },
        "id": "8b6b8d41",
        "outputId": "9037efef-0bfb-4881-b4be-e3a1ac57ebcd"
      },
      "outputs": [
        {
          "output_type": "execute_result",
          "data": {
            "text/plain": [
              "array([nan, \"[{'name': 'pray', 'users': ['U03JYMWQLP5'], 'count': 1}]\",\n",
              "       \"[{'name': 'cat-high-five', 'users': ['U040E2D6CF2'], 'count': 1}]\",\n",
              "       ..., \"[{'name': 'pray', 'users': ['U03RSC0RSBU'], 'count': 1}]\",\n",
              "       \"[{'name': 'cat-high-five', 'users': ['U02QK4VR38F'], 'count': 1}]\",\n",
              "       \"[{'name': 'cat-high-five', 'users': ['U044T2TLGH3'], 'count': 1}]\"],\n",
              "      dtype=object)"
            ]
          },
          "metadata": {},
          "execution_count": 10
        }
      ],
      "source": [
        "data['reactions'].unique()"
      ]
    },
    {
      "cell_type": "markdown",
      "id": "9qV3SjCRmX69",
      "metadata": {
        "id": "9qV3SjCRmX69"
      },
      "source": [
        "### Преобразование формата данных столбцов"
      ]
    },
    {
      "cell_type": "code",
      "execution_count": null,
      "id": "ca15ef1f",
      "metadata": {
        "id": "ca15ef1f"
      },
      "outputs": [],
      "source": [
        "data['ts'] = pd.to_datetime(data['ts'], unit='s').dt.round('1s')\n",
        "data['thread_ts'] = pd.to_datetime(data['thread_ts'], unit='s').dt.round('1s')\n",
        "data['latest_reply'] = pd.to_datetime(data['latest_reply'], unit='s').dt.round('1s')\n",
        "data['file_date'] = pd.to_datetime(data['file_date'])"
      ]
    },
    {
      "cell_type": "markdown",
      "id": "r8tVhlEpmd09",
      "metadata": {
        "id": "r8tVhlEpmd09"
      },
      "source": [
        "### Поиск и отсечение выбросов"
      ]
    },
    {
      "cell_type": "code",
      "execution_count": null,
      "id": "4iqM0N2-54jF",
      "metadata": {
        "id": "4iqM0N2-54jF",
        "colab": {
          "base_uri": "https://localhost:8080/",
          "height": 995
        },
        "outputId": "32182faa-3f86-4ba3-cbf4-07cf4610d9cd"
      },
      "outputs": [
        {
          "output_type": "display_data",
          "data": {
            "text/plain": [
              "<Figure size 500x500 with 1 Axes>"
            ],
            "image/png": "[encoded data removed]"
          },
          "metadata": {}
        },
        {
          "output_type": "display_data",
          "data": {
            "text/plain": [
              "<Figure size 500x500 with 1 Axes>"
            ],
            "image/png": "[encoded data removed]"
          },
          "metadata": {}
        }
      ],
      "source": [
        "for col in ['text_len', 'text_words']:\n",
        "    sns.displot(data[col], bins=30, kde=True)"
      ]
    },
    {
      "cell_type": "code",
      "execution_count": null,
      "id": "bccaa85c",
      "metadata": {
        "id": "bccaa85c"
      },
      "outputs": [],
      "source": [
        "data = data[(data['text_len'] <= 1000)]"
      ]
    },
    {
      "cell_type": "code",
      "execution_count": null,
      "id": "d8019e47",
      "metadata": {
        "id": "d8019e47"
      },
      "outputs": [],
      "source": [
        "data = data[(data['text_words'] <= 150)]"
      ]
    },
    {
      "cell_type": "code",
      "execution_count": null,
      "id": "_qbLLcCL6Gts",
      "metadata": {
        "colab": {
          "base_uri": "https://localhost:8080/",
          "height": 995
        },
        "id": "_qbLLcCL6Gts",
        "outputId": "86068e0e-bd7f-4eec-8370-970f1f5bb428"
      },
      "outputs": [
        {
          "output_type": "display_data",
          "data": {
            "text/plain": [
              "<Figure size 500x500 with 1 Axes>"
            ],
            "image/png": "[encoded data removed]"
          },
          "metadata": {}
        },
        {
          "output_type": "display_data",
          "data": {
            "text/plain": [
              "<Figure size 500x500 with 1 Axes>"
            ],
            "image/png": "[encoded data removed]"
          },
          "metadata": {}
        }
      ],
      "source": [
        "for col in ['text_len', 'text_words']:\n",
        "    sns.displot(data[col], bins=30, kde=True)"
      ]
    },
    {
      "cell_type": "markdown",
      "id": "FtVDAtikmi8C",
      "metadata": {
        "id": "FtVDAtikmi8C"
      },
      "source": [
        "### Очистка данных от системных сообщений"
      ]
    },
    {
      "cell_type": "code",
      "execution_count": null,
      "id": "f1eiC22PWkP-",
      "metadata": {
        "id": "f1eiC22PWkP-"
      },
      "outputs": [],
      "source": [
        "data['subtype'] = data['subtype'].fillna(0)"
      ]
    },
    {
      "cell_type": "code",
      "execution_count": null,
      "id": "ojzI8qgnWLhn",
      "metadata": {
        "id": "ojzI8qgnWLhn"
      },
      "outputs": [],
      "source": [
        "data = data[(data['subtype'] == 0)]"
      ]
    },
    {
      "cell_type": "code",
      "execution_count": null,
      "id": "CprfEKgk7A6R",
      "metadata": {
        "id": "CprfEKgk7A6R"
      },
      "outputs": [],
      "source": [
        "data = data.drop(['subtype'], axis=1)"
      ]
    },
    {
      "cell_type": "markdown",
      "id": "I47hTsezl-oJ",
      "metadata": {
        "id": "I47hTsezl-oJ"
      },
      "source": [
        "### Создание нового столбца с названием когорт"
      ]
    },
    {
      "cell_type": "code",
      "execution_count": null,
      "id": "CtNu5h8bXaua",
      "metadata": {
        "id": "CtNu5h8bXaua"
      },
      "outputs": [],
      "source": [
        "# Функция для определения названия когорты\n",
        "def cohort_name(row):\n",
        "    match = re.search(r'_(\\d+|\\d+b)_', str(row['channel']))\n",
        "    if match:\n",
        "        return match.group(1)"
      ]
    },
    {
      "cell_type": "code",
      "execution_count": null,
      "id": "Qvyte5Da7GfK",
      "metadata": {
        "id": "Qvyte5Da7GfK"
      },
      "outputs": [],
      "source": [
        "data['cohort_name'] = data.apply(cohort_name, axis=1)\n",
        "data['cohort_name'] = data['cohort_name'].fillna('Нет')"
      ]
    },
    {
      "cell_type": "markdown",
      "id": "K_M7TUGGmH74",
      "metadata": {
        "id": "K_M7TUGGmH74"
      },
      "source": [
        "### Создание нового столбца с тематикой канала"
      ]
    },
    {
      "cell_type": "code",
      "execution_count": null,
      "id": "7ngh0H59cXiB",
      "metadata": {
        "id": "7ngh0H59cXiB"
      },
      "outputs": [],
      "source": [
        "# Функция для определения тематики канала\n",
        "def find_and_add_keywords(column_name):\n",
        "    keywords = ['library', 'info', 'teamwork', 'projects', 'exerciser', 'community', 'students_feedback', \n",
        "                'mentors', 'digital_professions', 'group_red', 'group_green', 'group_purple', 'цифровые-профессии', \n",
        "                'apps', 'final_info', 'tutorial', 'group_orange', 'masterskaya']\n",
        "    for keyword in keywords:\n",
        "      if keyword in column_name:\n",
        "         return keyword"
      ]
    },
    {
      "cell_type": "code",
      "execution_count": null,
      "id": "4Dd07Qgp7gv5",
      "metadata": {
        "id": "4Dd07Qgp7gv5"
      },
      "outputs": [],
      "source": [
        "data['channel_theme'] = data['channel'].apply(find_and_add_keywords)"
      ]
    },
    {
      "cell_type": "markdown",
      "id": "boiUnzEumQxO",
      "metadata": {
        "id": "boiUnzEumQxO"
      },
      "source": [
        "### Создание нового столбца с количество реакций"
      ]
    },
    {
      "cell_type": "code",
      "execution_count": null,
      "id": "yMNbTmcKg2eX",
      "metadata": {
        "id": "yMNbTmcKg2eX"
      },
      "outputs": [],
      "source": [
        "# Функция для подсчета количество реакций на сообщении\n",
        "def extract_count(x):\n",
        "    if pd.isna(x):\n",
        "        return 0\n",
        "    try:\n",
        "        x = ast.literal_eval(x)\n",
        "    except (SyntaxError, ValueError):\n",
        "        return 0\n",
        "    count_sum = sum([d['count'] for d in x if isinstance(d, dict) and 'count' in d])\n",
        "    return count_sum"
      ]
    },
    {
      "cell_type": "code",
      "execution_count": null,
      "id": "Xgm9hBZP7sb2",
      "metadata": {
        "id": "Xgm9hBZP7sb2"
      },
      "outputs": [],
      "source": [
        "data['reactions_count'] = data['reactions'].apply(extract_count)"
      ]
    },
    {
      "cell_type": "markdown",
      "id": "YU1kZHYgnZMN",
      "metadata": {
        "id": "YU1kZHYgnZMN"
      },
      "source": [
        "### Проверка данных на явные дубликаты"
      ]
    },
    {
      "cell_type": "code",
      "execution_count": null,
      "id": "srMTa4_ZnblR",
      "metadata": {
        "colab": {
          "base_uri": "https://localhost:8080/"
        },
        "id": "srMTa4_ZnblR",
        "outputId": "d8b46247-ddaa-4563-8f22-500af027604d"
      },
      "outputs": [
        {
          "output_type": "execute_result",
          "data": {
            "text/plain": [
              "0"
            ]
          },
          "metadata": {},
          "execution_count": 25
        }
      ],
      "source": [
        "data.duplicated().sum()"
      ]
    },
    {
      "cell_type": "markdown",
      "id": "7OvgaFCPmzqs",
      "metadata": {
        "id": "7OvgaFCPmzqs"
      },
      "source": [
        "### Итоговый датафрейм для анализа после предобработки данных"
      ]
    },
    {
      "cell_type": "code",
      "execution_count": null,
      "id": "kKUBL1Z2m3se",
      "metadata": {
        "colab": {
          "base_uri": "https://localhost:8080/"
        },
        "id": "kKUBL1Z2m3se",
        "outputId": "7b171c64-75a3-4a0e-fa68-66b30dab65a9"
      },
      "outputs": [
        {
          "output_type": "stream",
          "name": "stdout",
          "text": [
            "<class 'pandas.core.frame.DataFrame'>\n",
            "Int64Index: 17870 entries, 0 to 26530\n",
            "Data columns (total 15 columns):\n",
            " #   Column           Non-Null Count  Dtype         \n",
            "---  ------           --------------  -----         \n",
            " 0   client_msg_id    17808 non-null  object        \n",
            " 1   user             17870 non-null  object        \n",
            " 2   ts               17870 non-null  datetime64[ns]\n",
            " 3   latest_reply     1277 non-null   datetime64[ns]\n",
            " 4   team             15462 non-null  object        \n",
            " 5   thread_ts        16901 non-null  datetime64[ns]\n",
            " 6   channel          17870 non-null  object        \n",
            " 7   file_date        17870 non-null  datetime64[ns]\n",
            " 8   attachments      17870 non-null  int64         \n",
            " 9   reactions        3929 non-null   object        \n",
            " 10  text_len         17870 non-null  int64         \n",
            " 11  text_words       17870 non-null  int64         \n",
            " 12  cohort_name      17870 non-null  object        \n",
            " 13  channel_theme    16476 non-null  object        \n",
            " 14  reactions_count  17870 non-null  int64         \n",
            "dtypes: datetime64[ns](4), int64(4), object(7)\n",
            "memory usage: 2.2+ MB\n"
          ]
        }
      ],
      "source": [
        "data.info()"
      ]
    },
    {
      "cell_type": "code",
      "execution_count": null,
      "id": "K1U5b0t6m7jl",
      "metadata": {
        "colab": {
          "base_uri": "https://localhost:8080/",
          "height": 363
        },
        "id": "K1U5b0t6m7jl",
        "outputId": "63069a6d-eaa2-47f3-8ce6-fdb6955ff94e"
      },
      "outputs": [
        {
          "output_type": "execute_result",
          "data": {
            "text/plain": [
              "                              client_msg_id         user                  ts  \\\n",
              "26518  bb4d5d49-aefd-484f-ad57-ecebaf3d701f  U040YGJ4VMK 2022-12-02 13:20:08   \n",
              "26519  eb82ff79-5381-493a-89d3-77abc4192d2c  U043THJENBZ 2022-12-03 12:15:05   \n",
              "26520  d96b63b3-f677-4cb5-acf8-be7a47356bd3  U042GJ00EB0 2022-12-03 12:25:21   \n",
              "26521  d3a1c647-f815-4d7e-bbee-c5ebbb6e3c4d  U045ZBAM1JA 2022-12-03 18:07:05   \n",
              "26522  e2d35d98-cacf-4620-a236-693734c84c06  U044T2TLGH3 2022-12-07 02:01:54   \n",
              "26523  c16d32c0-0f5e-48bf-9aec-1751f7c02674  U02JSUUMARF 2022-12-07 08:02:01   \n",
              "26524  9224f67b-ce71-4ea2-adcb-f47862895977  U04152HKDHN 2022-12-07 08:32:05   \n",
              "26525  ac150123-309f-40ae-a787-f647ab4a76d9  U045ZBAM1JA 2022-12-08 16:11:28   \n",
              "26529  d7cdfd29-40a3-4f22-b3ce-755975902652  U036P42C39Q 2022-12-08 13:23:11   \n",
              "26530  b403e184-0a77-42ff-96ee-8813a06c387e  U036P42C39Q 2022-12-09 16:57:37   \n",
              "\n",
              "             latest_reply       team           thread_ts           channel  \\\n",
              "26518                 NaT  TPV9DP0N4 2022-12-02 13:08:29   sql_teamwork_03   \n",
              "26519 2022-12-03 18:07:05        NaN 2022-12-03 12:15:05   sql_teamwork_03   \n",
              "26520                 NaT        NaN                 NaT   sql_teamwork_03   \n",
              "26521                 NaT  TPV9DP0N4 2022-12-03 12:15:05   sql_teamwork_03   \n",
              "26522 2022-12-07 08:32:05        NaN 2022-12-07 02:01:54   sql_teamwork_03   \n",
              "26523                 NaT  TPV9DP0N4 2022-12-07 02:01:54   sql_teamwork_03   \n",
              "26524                 NaT  TPV9DP0N4 2022-12-07 02:01:54   sql_teamwork_03   \n",
              "26525                 NaT        NaN                 NaT   sql_teamwork_03   \n",
              "26529                 NaT  TPV9DP0N4                 NaT  sql_teamwork_new   \n",
              "26530                 NaT  TPV9DP0N4                 NaT  sql_teamwork_new   \n",
              "\n",
              "       file_date  attachments  \\\n",
              "26518 2022-12-02            0   \n",
              "26519 2022-12-03            0   \n",
              "26520 2022-12-03            0   \n",
              "26521 2022-12-03            0   \n",
              "26522 2022-12-06            0   \n",
              "26523 2022-12-07            0   \n",
              "26524 2022-12-07            0   \n",
              "26525 2022-12-08            0   \n",
              "26529 2022-12-08            0   \n",
              "26530 2022-12-09            0   \n",
              "\n",
              "                                               reactions  text_len  \\\n",
              "26518  [{'name': 'cat-high-five', 'users': ['U02QK4VR...        77   \n",
              "26519                                                NaN        80   \n",
              "26520                                                NaN        35   \n",
              "26521                                                NaN        45   \n",
              "26522                                                NaN        72   \n",
              "26523                                                NaN        71   \n",
              "26524  [{'name': 'cat-high-five', 'users': ['U044T2TL...        41   \n",
              "26525                                                NaN        80   \n",
              "26529                                                NaN       340   \n",
              "26530                                                NaN       110   \n",
              "\n",
              "       text_words cohort_name channel_theme  reactions_count  \n",
              "26518          10         Нет      teamwork                1  \n",
              "26519          11         Нет      teamwork                0  \n",
              "26520           6         Нет      teamwork                0  \n",
              "26521           6         Нет      teamwork                0  \n",
              "26522          11         Нет      teamwork                0  \n",
              "26523          11         Нет      teamwork                0  \n",
              "26524           8         Нет      teamwork                1  \n",
              "26525          13         Нет      teamwork                0  \n",
              "26529          53         Нет      teamwork                0  \n",
              "26530           5         Нет      teamwork                0  "
            ],
            "text/html": [
              "\n",
              "  <div id=\"df-8daaac07-8ae7-425c-9b29-8c52cb720e58\">\n",
              "    <div class=\"colab-df-container\">\n",
              "      <div>\n",
              "<style scoped>\n",
              "    .dataframe tbody tr th:only-of-type {\n",
              "        vertical-align: middle;\n",
              "    }\n",
              "\n",
              "    .dataframe tbody tr th {\n",
              "        vertical-align: top;\n",
              "    }\n",
              "\n",
              "    .dataframe thead th {\n",
              "        text-align: right;\n",
              "    }\n",
              "</style>\n",
              "<table border=\"1\" class=\"dataframe\">\n",
              "  <thead>\n",
              "    <tr style=\"text-align: right;\">\n",
              "      <th></th>\n",
              "      <th>client_msg_id</th>\n",
              "      <th>user</th>\n",
              "      <th>ts</th>\n",
              "      <th>latest_reply</th>\n",
              "      <th>team</th>\n",
              "      <th>thread_ts</th>\n",
              "      <th>channel</th>\n",
              "      <th>file_date</th>\n",
              "      <th>attachments</th>\n",
              "      <th>reactions</th>\n",
              "      <th>text_len</th>\n",
              "      <th>text_words</th>\n",
              "      <th>cohort_name</th>\n",
              "      <th>channel_theme</th>\n",
              "      <th>reactions_count</th>\n",
              "    </tr>\n",
              "  </thead>\n",
              "  <tbody>\n",
              "    <tr>\n",
              "      <th>26518</th>\n",
              "      <td>bb4d5d49-aefd-484f-ad57-ecebaf3d701f</td>\n",
              "      <td>U040YGJ4VMK</td>\n",
              "      <td>2022-12-02 13:20:08</td>\n",
              "      <td>NaT</td>\n",
              "      <td>TPV9DP0N4</td>\n",
              "      <td>2022-12-02 13:08:29</td>\n",
              "      <td>sql_teamwork_03</td>\n",
              "      <td>2022-12-02</td>\n",
              "      <td>0</td>\n",
              "      <td>[{'name': 'cat-high-five', 'users': ['U02QK4VR...</td>\n",
              "      <td>77</td>\n",
              "      <td>10</td>\n",
              "      <td>Нет</td>\n",
              "      <td>teamwork</td>\n",
              "      <td>1</td>\n",
              "    </tr>\n",
              "    <tr>\n",
              "      <th>26519</th>\n",
              "      <td>eb82ff79-5381-493a-89d3-77abc4192d2c</td>\n",
              "      <td>U043THJENBZ</td>\n",
              "      <td>2022-12-03 12:15:05</td>\n",
              "      <td>2022-12-03 18:07:05</td>\n",
              "      <td>NaN</td>\n",
              "      <td>2022-12-03 12:15:05</td>\n",
              "      <td>sql_teamwork_03</td>\n",
              "      <td>2022-12-03</td>\n",
              "      <td>0</td>\n",
              "      <td>NaN</td>\n",
              "      <td>80</td>\n",
              "      <td>11</td>\n",
              "      <td>Нет</td>\n",
              "      <td>teamwork</td>\n",
              "      <td>0</td>\n",
              "    </tr>\n",
              "    <tr>\n",
              "      <th>26520</th>\n",
              "      <td>d96b63b3-f677-4cb5-acf8-be7a47356bd3</td>\n",
              "      <td>U042GJ00EB0</td>\n",
              "      <td>2022-12-03 12:25:21</td>\n",
              "      <td>NaT</td>\n",
              "      <td>NaN</td>\n",
              "      <td>NaT</td>\n",
              "      <td>sql_teamwork_03</td>\n",
              "      <td>2022-12-03</td>\n",
              "      <td>0</td>\n",
              "      <td>NaN</td>\n",
              "      <td>35</td>\n",
              "      <td>6</td>\n",
              "      <td>Нет</td>\n",
              "      <td>teamwork</td>\n",
              "      <td>0</td>\n",
              "    </tr>\n",
              "    <tr>\n",
              "      <th>26521</th>\n",
              "      <td>d3a1c647-f815-4d7e-bbee-c5ebbb6e3c4d</td>\n",
              "      <td>U045ZBAM1JA</td>\n",
              "      <td>2022-12-03 18:07:05</td>\n",
              "      <td>NaT</td>\n",
              "      <td>TPV9DP0N4</td>\n",
              "      <td>2022-12-03 12:15:05</td>\n",
              "      <td>sql_teamwork_03</td>\n",
              "      <td>2022-12-03</td>\n",
              "      <td>0</td>\n",
              "      <td>NaN</td>\n",
              "      <td>45</td>\n",
              "      <td>6</td>\n",
              "      <td>Нет</td>\n",
              "      <td>teamwork</td>\n",
              "      <td>0</td>\n",
              "    </tr>\n",
              "    <tr>\n",
              "      <th>26522</th>\n",
              "      <td>e2d35d98-cacf-4620-a236-693734c84c06</td>\n",
              "      <td>U044T2TLGH3</td>\n",
              "      <td>2022-12-07 02:01:54</td>\n",
              "      <td>2022-12-07 08:32:05</td>\n",
              "      <td>NaN</td>\n",
              "      <td>2022-12-07 02:01:54</td>\n",
              "      <td>sql_teamwork_03</td>\n",
              "      <td>2022-12-06</td>\n",
              "      <td>0</td>\n",
              "      <td>NaN</td>\n",
              "      <td>72</td>\n",
              "      <td>11</td>\n",
              "      <td>Нет</td>\n",
              "      <td>teamwork</td>\n",
              "      <td>0</td>\n",
              "    </tr>\n",
              "    <tr>\n",
              "      <th>26523</th>\n",
              "      <td>c16d32c0-0f5e-48bf-9aec-1751f7c02674</td>\n",
              "      <td>U02JSUUMARF</td>\n",
              "      <td>2022-12-07 08:02:01</td>\n",
              "      <td>NaT</td>\n",
              "      <td>TPV9DP0N4</td>\n",
              "      <td>2022-12-07 02:01:54</td>\n",
              "      <td>sql_teamwork_03</td>\n",
              "      <td>2022-12-07</td>\n",
              "      <td>0</td>\n",
              "      <td>NaN</td>\n",
              "      <td>71</td>\n",
              "      <td>11</td>\n",
              "      <td>Нет</td>\n",
              "      <td>teamwork</td>\n",
              "      <td>0</td>\n",
              "    </tr>\n",
              "    <tr>\n",
              "      <th>26524</th>\n",
              "      <td>9224f67b-ce71-4ea2-adcb-f47862895977</td>\n",
              "      <td>U04152HKDHN</td>\n",
              "      <td>2022-12-07 08:32:05</td>\n",
              "      <td>NaT</td>\n",
              "      <td>TPV9DP0N4</td>\n",
              "      <td>2022-12-07 02:01:54</td>\n",
              "      <td>sql_teamwork_03</td>\n",
              "      <td>2022-12-07</td>\n",
              "      <td>0</td>\n",
              "      <td>[{'name': 'cat-high-five', 'users': ['U044T2TL...</td>\n",
              "      <td>41</td>\n",
              "      <td>8</td>\n",
              "      <td>Нет</td>\n",
              "      <td>teamwork</td>\n",
              "      <td>1</td>\n",
              "    </tr>\n",
              "    <tr>\n",
              "      <th>26525</th>\n",
              "      <td>ac150123-309f-40ae-a787-f647ab4a76d9</td>\n",
              "      <td>U045ZBAM1JA</td>\n",
              "      <td>2022-12-08 16:11:28</td>\n",
              "      <td>NaT</td>\n",
              "      <td>NaN</td>\n",
              "      <td>NaT</td>\n",
              "      <td>sql_teamwork_03</td>\n",
              "      <td>2022-12-08</td>\n",
              "      <td>0</td>\n",
              "      <td>NaN</td>\n",
              "      <td>80</td>\n",
              "      <td>13</td>\n",
              "      <td>Нет</td>\n",
              "      <td>teamwork</td>\n",
              "      <td>0</td>\n",
              "    </tr>\n",
              "    <tr>\n",
              "      <th>26529</th>\n",
              "      <td>d7cdfd29-40a3-4f22-b3ce-755975902652</td>\n",
              "      <td>U036P42C39Q</td>\n",
              "      <td>2022-12-08 13:23:11</td>\n",
              "      <td>NaT</td>\n",
              "      <td>TPV9DP0N4</td>\n",
              "      <td>NaT</td>\n",
              "      <td>sql_teamwork_new</td>\n",
              "      <td>2022-12-08</td>\n",
              "      <td>0</td>\n",
              "      <td>NaN</td>\n",
              "      <td>340</td>\n",
              "      <td>53</td>\n",
              "      <td>Нет</td>\n",
              "      <td>teamwork</td>\n",
              "      <td>0</td>\n",
              "    </tr>\n",
              "    <tr>\n",
              "      <th>26530</th>\n",
              "      <td>b403e184-0a77-42ff-96ee-8813a06c387e</td>\n",
              "      <td>U036P42C39Q</td>\n",
              "      <td>2022-12-09 16:57:37</td>\n",
              "      <td>NaT</td>\n",
              "      <td>TPV9DP0N4</td>\n",
              "      <td>NaT</td>\n",
              "      <td>sql_teamwork_new</td>\n",
              "      <td>2022-12-09</td>\n",
              "      <td>0</td>\n",
              "      <td>NaN</td>\n",
              "      <td>110</td>\n",
              "      <td>5</td>\n",
              "      <td>Нет</td>\n",
              "      <td>teamwork</td>\n",
              "      <td>0</td>\n",
              "    </tr>\n",
              "  </tbody>\n",
              "</table>\n",
              "</div>\n",
              "      <button class=\"colab-df-convert\" onclick=\"convertToInteractive('df-8daaac07-8ae7-425c-9b29-8c52cb720e58')\"\n",
              "              title=\"Convert this dataframe to an interactive table.\"\n",
              "              style=\"display:none;\">\n",
              "        \n",
              "  <svg xmlns=\"http://www.w3.org/2000/svg\" height=\"24px\"viewBox=\"0 0 24 24\"\n",
              "       width=\"24px\">\n",
              "    <path d=\"M0 0h24v24H0V0z\" fill=\"none\"/>\n",
              "    <path d=\"M18.56 5.44l.94 2.06.94-2.06 2.06-.94-2.06-.94-.94-2.06-.94 2.06-2.06.94zm-11 1L8.5 8.5l.94-2.06 2.06-.94-2.06-.94L8.5 2.5l-.94 2.06-2.06.94zm10 10l.94 2.06.94-2.06 2.06-.94-2.06-.94-.94-2.06-.94 2.06-2.06.94z\"/><path d=\"M17.41 7.96l-1.37-1.37c-.4-.4-.92-.59-1.43-.59-.52 0-1.04.2-1.43.59L10.3 9.45l-7.72 7.72c-.78.78-.78 2.05 0 2.83L4 21.41c.39.39.9.59 1.41.59.51 0 1.02-.2 1.41-.59l7.78-7.78 2.81-2.81c.8-.78.8-2.07 0-2.86zM5.41 20L4 18.59l7.72-7.72 1.47 1.35L5.41 20z\"/>\n",
              "  </svg>\n",
              "      </button>\n",
              "      \n",
              "  <style>\n",
              "    .colab-df-container {\n",
              "      display:flex;\n",
              "      flex-wrap:wrap;\n",
              "      gap: 12px;\n",
              "    }\n",
              "\n",
              "    .colab-df-convert {\n",
              "      background-color: #E8F0FE;\n",
              "      border: none;\n",
              "      border-radius: 50%;\n",
              "      cursor: pointer;\n",
              "      display: none;\n",
              "      fill: #1967D2;\n",
              "      height: 32px;\n",
              "      padding: 0 0 0 0;\n",
              "      width: 32px;\n",
              "    }\n",
              "\n",
              "    .colab-df-convert:hover {\n",
              "      background-color: #E2EBFA;\n",
              "      box-shadow: 0px 1px 2px rgba(60, 64, 67, 0.3), 0px 1px 3px 1px rgba(60, 64, 67, 0.15);\n",
              "      fill: #174EA6;\n",
              "    }\n",
              "\n",
              "    [theme=dark] .colab-df-convert {\n",
              "      background-color: #3B4455;\n",
              "      fill: #D2E3FC;\n",
              "    }\n",
              "\n",
              "    [theme=dark] .colab-df-convert:hover {\n",
              "      background-color: #434B5C;\n",
              "      box-shadow: 0px 1px 3px 1px rgba(0, 0, 0, 0.15);\n",
              "      filter: drop-shadow(0px 1px 2px rgba(0, 0, 0, 0.3));\n",
              "      fill: #FFFFFF;\n",
              "    }\n",
              "  </style>\n",
              "\n",
              "      <script>\n",
              "        const buttonEl =\n",
              "          document.querySelector('#df-8daaac07-8ae7-425c-9b29-8c52cb720e58 button.colab-df-convert');\n",
              "        buttonEl.style.display =\n",
              "          google.colab.kernel.accessAllowed ? 'block' : 'none';\n",
              "\n",
              "        async function convertToInteractive(key) {\n",
              "          const element = document.querySelector('#df-8daaac07-8ae7-425c-9b29-8c52cb720e58');\n",
              "          const dataTable =\n",
              "            await google.colab.kernel.invokeFunction('convertToInteractive',\n",
              "                                                     [key], {});\n",
              "          if (!dataTable) return;\n",
              "\n",
              "          const docLinkHtml = 'Like what you see? Visit the ' +\n",
              "            '<a target=\"_blank\" href=https://colab.research.google.com/notebooks/data_table.ipynb>data table notebook</a>'\n",
              "            + ' to learn more about interactive tables.';\n",
              "          element.innerHTML = '';\n",
              "          dataTable['output_type'] = 'display_data';\n",
              "          await google.colab.output.renderOutput(dataTable, element);\n",
              "          const docLink = document.createElement('div');\n",
              "          docLink.innerHTML = docLinkHtml;\n",
              "          element.appendChild(docLink);\n",
              "        }\n",
              "      </script>\n",
              "    </div>\n",
              "  </div>\n",
              "  "
            ]
          },
          "metadata": {},
          "execution_count": 27
        }
      ],
      "source": [
        "data.tail(10)"
      ]
    },
    {
      "cell_type": "markdown",
      "id": "BaqPtSMjnnqJ",
      "metadata": {
        "id": "BaqPtSMjnnqJ"
      },
      "source": [
        "## Анализ данных"
      ]
    },
    {
      "cell_type": "markdown",
      "id": "ow7r60pinqz-",
      "metadata": {
        "id": "ow7r60pinqz-"
      },
      "source": [
        "### План анализа:\n",
        "\n",
        "- [x] В какой тематике больше/меньше всего сообщений?  \n",
        "- [x] В какой когорте больше/меньше всего сообщений?  \n",
        "- [x] В сообщениях какой тематики канала больше/меньше всего реакций?  \n",
        "- [x] В сообщениях какой когорты больше/меньше всего реакций? \n",
        "- [x] Корреляции длины текста, количества слов, количества реакций и добавленных файлов \n",
        "- [x] Где быстрее всего отвечают? В какой когорте, теме  \n",
        "- [x] В какой день недели пользователи отвечают чаще?\n",
        "- [x] Самый активный участник\n",
        "- [x] Медианное и среднее значения сообщений и реакций пользователей\n",
        "- [x] Сегментирование пользователей по их активности"
      ]
    },
    {
      "cell_type": "markdown",
      "id": "tooNCvO59hfO",
      "metadata": {
        "id": "tooNCvO59hfO"
      },
      "source": [
        "### Определение наиболее/наименее активной тематики групп"
      ]
    },
    {
      "cell_type": "code",
      "execution_count": null,
      "id": "J3lSCw6Q93If",
      "metadata": {
        "id": "J3lSCw6Q93If"
      },
      "outputs": [],
      "source": [
        "theme_msg = data.pivot_table(index='channel_theme', values='client_msg_id', aggfunc=('count')).reset_index()\n",
        "theme_msg.columns=['channel_theme', 'count_msg']\n",
        "theme_msg = theme_msg.sort_values('count_msg', ascending=False)"
      ]
    },
    {
      "cell_type": "code",
      "execution_count": null,
      "id": "6i6KTPt8CZaL",
      "metadata": {
        "colab": {
          "base_uri": "https://localhost:8080/",
          "height": 718
        },
        "id": "6i6KTPt8CZaL",
        "outputId": "cc272737-a2aa-4d90-c972-88e32477caf2",
        "scrolled": true
      },
      "outputs": [
        {
          "output_type": "display_data",
          "data": {
            "text/plain": [
              "<Figure size 1200x800 with 1 Axes>"
            ],
            "image/png": "[encoded data removed]"
          },
          "metadata": {}
        }
      ],
      "source": [
        "sns.set_style('darkgrid')\n",
        "plt.figure(figsize=(12, 8))\n",
        "sns.barplot(x='count_msg', y='channel_theme', data=theme_msg)\n",
        "plt.title('Количество сообщений по тематике групп')\n",
        "plt.xlabel('Количество сообщений')\n",
        "plt.ylabel('Тематика группы')\n",
        "plt.grid()\n",
        "plt.show()"
      ]
    },
    {
      "cell_type": "code",
      "execution_count": null,
      "id": "3koHsGIH__SK",
      "metadata": {
        "colab": {
          "base_uri": "https://localhost:8080/"
        },
        "id": "3koHsGIH__SK",
        "outputId": "998cb046-ecf5-4b05-eef5-d4bc8910337b"
      },
      "outputs": [
        {
          "output_type": "stream",
          "name": "stdout",
          "text": [
            "Тематика канала с наибольшим количеством сообщений: projects\n"
          ]
        }
      ],
      "source": [
        "print('Тематика канала с наибольшим количеством сообщений:', theme_msg['channel_theme'].head(1).values[0])"
      ]
    },
    {
      "cell_type": "code",
      "execution_count": null,
      "id": "r6RdT6OzAjCD",
      "metadata": {
        "colab": {
          "base_uri": "https://localhost:8080/"
        },
        "id": "r6RdT6OzAjCD",
        "outputId": "85b0a469-3719-4e39-d25f-a50e614bdbf7"
      },
      "outputs": [
        {
          "output_type": "stream",
          "name": "stdout",
          "text": [
            "Тематика канала с наименьшим количеством сообщений: students_feedback\n"
          ]
        }
      ],
      "source": [
        "print('Тематика канала с наименьшим количеством сообщений:', theme_msg['channel_theme'].tail(1).values[0])"
      ]
    },
    {
      "cell_type": "markdown",
      "id": "9AilJy2BAvJg",
      "metadata": {
        "id": "9AilJy2BAvJg"
      },
      "source": [
        "### Определение наибольшей/наименьшей активности среди когорт"
      ]
    },
    {
      "cell_type": "code",
      "execution_count": null,
      "id": "ruwLzUARA4Ud",
      "metadata": {
        "id": "ruwLzUARA4Ud"
      },
      "outputs": [],
      "source": [
        "cohort_msg = data.pivot_table(index='cohort_name', values='client_msg_id', aggfunc=('count')).reset_index()\n",
        "cohort_msg.columns=['cohort_name', 'count_msg']\n",
        "cohort_msg = cohort_msg.sort_values('count_msg', ascending=False)"
      ]
    },
    {
      "cell_type": "code",
      "execution_count": null,
      "id": "P53-YM1wDB23",
      "metadata": {
        "colab": {
          "base_uri": "https://localhost:8080/",
          "height": 718
        },
        "id": "P53-YM1wDB23",
        "outputId": "4baa5720-4f20-4210-ea3d-fb6637ae3dfa"
      },
      "outputs": [
        {
          "output_type": "display_data",
          "data": {
            "text/plain": [
              "<Figure size 1200x800 with 1 Axes>"
            ],
            "image/png": "[encoded data removed]"
          },
          "metadata": {}
        }
      ],
      "source": [
        "sns.set_style('darkgrid')\n",
        "plt.figure(figsize=(12, 8))\n",
        "sns.barplot(x='count_msg', y='cohort_name', data=cohort_msg)\n",
        "plt.title('Количество сообщений по названиям когорт')\n",
        "plt.xlabel('Количество сообщений')\n",
        "plt.ylabel('Название ккогорты')\n",
        "plt.grid()\n",
        "plt.show()"
      ]
    },
    {
      "cell_type": "code",
      "execution_count": null,
      "id": "ea6Pd2o5BHe4",
      "metadata": {
        "colab": {
          "base_uri": "https://localhost:8080/"
        },
        "id": "ea6Pd2o5BHe4",
        "outputId": "84610a10-f56d-44dd-d4c6-754ce201ebc0"
      },
      "outputs": [
        {
          "output_type": "stream",
          "name": "stdout",
          "text": [
            "Когорта канала с наибольшим количеством сообщений: 59\n"
          ]
        }
      ],
      "source": [
        "print('Когорта канала с наибольшим количеством сообщений:', cohort_msg['cohort_name'].head(1).values[0])"
      ]
    },
    {
      "cell_type": "code",
      "execution_count": null,
      "id": "5ahu-EYCBH_z",
      "metadata": {
        "colab": {
          "base_uri": "https://localhost:8080/"
        },
        "id": "5ahu-EYCBH_z",
        "outputId": "1577db25-11df-4477-fd17-80ef3189b76e"
      },
      "outputs": [
        {
          "output_type": "stream",
          "name": "stdout",
          "text": [
            "Когорта с наименьшим количеством сообщений: 1\n"
          ]
        }
      ],
      "source": [
        "print('Когорта с наименьшим количеством сообщений:', cohort_msg['cohort_name'].tail(1).values[0])"
      ]
    },
    {
      "cell_type": "markdown",
      "id": "Q7eLEoo_BgLw",
      "metadata": {
        "id": "Q7eLEoo_BgLw"
      },
      "source": [
        "### В сообщениях какой тематики больше/меньше всего реакций?"
      ]
    },
    {
      "cell_type": "code",
      "execution_count": null,
      "id": "3q9sNwO7Bzg4",
      "metadata": {
        "id": "3q9sNwO7Bzg4"
      },
      "outputs": [],
      "source": [
        "theme_reaction = data.pivot_table(index='channel_theme', values='reactions_count', aggfunc=('sum')).reset_index()\n",
        "theme_reaction.columns=['channel_theme', 'sum_reaction']\n",
        "theme_reaction = theme_reaction.sort_values('sum_reaction', ascending=False)"
      ]
    },
    {
      "cell_type": "code",
      "execution_count": null,
      "id": "lV46fxbzDV6X",
      "metadata": {
        "colab": {
          "base_uri": "https://localhost:8080/",
          "height": 718
        },
        "id": "lV46fxbzDV6X",
        "outputId": "3355bb61-6503-4871-dce1-549aa00afc2e"
      },
      "outputs": [
        {
          "output_type": "display_data",
          "data": {
            "text/plain": [
              "<Figure size 1200x800 with 1 Axes>"
            ],
            "image/png": "[encoded data removed]"
          },
          "metadata": {}
        }
      ],
      "source": [
        "sns.set_style('darkgrid')\n",
        "plt.figure(figsize=(12, 8))\n",
        "sns.barplot(x='sum_reaction', y='channel_theme', data=theme_reaction)\n",
        "plt.title('Количество реакций по тематике групп')\n",
        "plt.xlabel('Количество реакций')\n",
        "plt.ylabel('Тематика канала')\n",
        "plt.grid()\n",
        "plt.show()"
      ]
    },
    {
      "cell_type": "code",
      "execution_count": null,
      "id": "bN8K9DKWElvC",
      "metadata": {
        "colab": {
          "base_uri": "https://localhost:8080/"
        },
        "id": "bN8K9DKWElvC",
        "outputId": "c7c13b3f-63c9-4ba8-f554-652d0b1ec38f"
      },
      "outputs": [
        {
          "output_type": "stream",
          "name": "stdout",
          "text": [
            "Тематика канала с наибольшим количеством реакций: info\n"
          ]
        }
      ],
      "source": [
        "print('Тематика канала с наибольшим количеством реакций:', theme_reaction['channel_theme'].head(1).values[0])"
      ]
    },
    {
      "cell_type": "code",
      "execution_count": null,
      "id": "R1149w0dE84Q",
      "metadata": {
        "colab": {
          "base_uri": "https://localhost:8080/"
        },
        "id": "R1149w0dE84Q",
        "outputId": "d3e79ec4-4d8d-4ed5-8776-a66b811589f8"
      },
      "outputs": [
        {
          "output_type": "stream",
          "name": "stdout",
          "text": [
            "Тематика канала с наименьшим количеством реакций: students_feedback\n"
          ]
        }
      ],
      "source": [
        "print('Тематика канала с наименьшим количеством реакций:', theme_reaction['channel_theme'].tail(1).values[0])"
      ]
    },
    {
      "cell_type": "markdown",
      "id": "U8sJrVyTKUG4",
      "metadata": {
        "id": "U8sJrVyTKUG4"
      },
      "source": [
        "### В сообщениях каких когорт больше/меньше всего реакций?"
      ]
    },
    {
      "cell_type": "code",
      "execution_count": null,
      "id": "PlyqvXrUKay3",
      "metadata": {
        "id": "PlyqvXrUKay3"
      },
      "outputs": [],
      "source": [
        "cohort_reaction = data.pivot_table(index='cohort_name', values='reactions_count', aggfunc=('sum')).reset_index()\n",
        "cohort_reaction.columns=['cohort_name', 'sum_reaction']\n",
        "cohort_reaction = cohort_reaction.sort_values('sum_reaction', ascending=False)"
      ]
    },
    {
      "cell_type": "code",
      "execution_count": null,
      "id": "8iyIvXD7Km_J",
      "metadata": {
        "colab": {
          "base_uri": "https://localhost:8080/",
          "height": 718
        },
        "id": "8iyIvXD7Km_J",
        "outputId": "aebb5a49-e66e-43da-ad3d-034e1a00d9de"
      },
      "outputs": [
        {
          "output_type": "display_data",
          "data": {
            "text/plain": [
              "<Figure size 1200x800 with 1 Axes>"
            ],
            "image/png": "[encoded data removed]"
          },
          "metadata": {}
        }
      ],
      "source": [
        "sns.set_style('darkgrid')\n",
        "plt.figure(figsize=(12, 8))\n",
        "sns.barplot(x='sum_reaction', y='cohort_name', data=cohort_reaction)\n",
        "plt.title('Количество реакций по когортам')\n",
        "plt.xlabel('Количество реакций')\n",
        "plt.ylabel('Название когорты')\n",
        "plt.grid()\n",
        "plt.show()"
      ]
    },
    {
      "cell_type": "code",
      "execution_count": null,
      "id": "-BwsqABPLCMb",
      "metadata": {
        "colab": {
          "base_uri": "https://localhost:8080/"
        },
        "id": "-BwsqABPLCMb",
        "outputId": "7d4065cc-b92f-4975-fb1b-50934e110bc4"
      },
      "outputs": [
        {
          "output_type": "stream",
          "name": "stdout",
          "text": [
            "Название когорты с наибольшим количеством реакций: 59\n"
          ]
        }
      ],
      "source": [
        "print('Название когорты с наибольшим количеством реакций:', cohort_reaction['cohort_name'].head(1).values[0])"
      ]
    },
    {
      "cell_type": "code",
      "execution_count": null,
      "id": "ZryPaEFYLEQe",
      "metadata": {
        "colab": {
          "base_uri": "https://localhost:8080/"
        },
        "id": "ZryPaEFYLEQe",
        "outputId": "fb4e464b-4767-443a-df98-f8e666e6b58b"
      },
      "outputs": [
        {
          "output_type": "stream",
          "name": "stdout",
          "text": [
            "Название когорты с наименьшим количеством реакций: ['2' '1' '3' '38' '4']\n"
          ]
        }
      ],
      "source": [
        "print('Название когорты с наименьшим количеством реакций:', cohort_reaction['cohort_name'].tail(5).values)"
      ]
    },
    {
      "cell_type": "markdown",
      "id": "qfts_Ze5LpJU",
      "metadata": {
        "id": "qfts_Ze5LpJU"
      },
      "source": [
        "### Корреляции длины текста, количества слов, количества реакций и добавленных файлов"
      ]
    },
    {
      "cell_type": "code",
      "execution_count": null,
      "id": "VN_9PL0OL0BB",
      "metadata": {
        "colab": {
          "base_uri": "https://localhost:8080/",
          "height": 112
        },
        "id": "VN_9PL0OL0BB",
        "outputId": "0608efde-0ab7-4f36-ddba-16bb5fd997c3"
      },
      "outputs": [
        {
          "output_type": "execute_result",
          "data": {
            "text/plain": [
              "            text_len  text_words\n",
              "text_len        1.00        0.96\n",
              "text_words      0.96        1.00"
            ],
            "text/html": [
              "\n",
              "  <div id=\"df-5f1d0462-a57d-4f55-96fa-039ed9b463e5\">\n",
              "    <div class=\"colab-df-container\">\n",
              "      <div>\n",
              "<style scoped>\n",
              "    .dataframe tbody tr th:only-of-type {\n",
              "        vertical-align: middle;\n",
              "    }\n",
              "\n",
              "    .dataframe tbody tr th {\n",
              "        vertical-align: top;\n",
              "    }\n",
              "\n",
              "    .dataframe thead th {\n",
              "        text-align: right;\n",
              "    }\n",
              "</style>\n",
              "<table border=\"1\" class=\"dataframe\">\n",
              "  <thead>\n",
              "    <tr style=\"text-align: right;\">\n",
              "      <th></th>\n",
              "      <th>text_len</th>\n",
              "      <th>text_words</th>\n",
              "    </tr>\n",
              "  </thead>\n",
              "  <tbody>\n",
              "    <tr>\n",
              "      <th>text_len</th>\n",
              "      <td>1.00</td>\n",
              "      <td>0.96</td>\n",
              "    </tr>\n",
              "    <tr>\n",
              "      <th>text_words</th>\n",
              "      <td>0.96</td>\n",
              "      <td>1.00</td>\n",
              "    </tr>\n",
              "  </tbody>\n",
              "</table>\n",
              "</div>\n",
              "      <button class=\"colab-df-convert\" onclick=\"convertToInteractive('df-5f1d0462-a57d-4f55-96fa-039ed9b463e5')\"\n",
              "              title=\"Convert this dataframe to an interactive table.\"\n",
              "              style=\"display:none;\">\n",
              "        \n",
              "  <svg xmlns=\"http://www.w3.org/2000/svg\" height=\"24px\"viewBox=\"0 0 24 24\"\n",
              "       width=\"24px\">\n",
              "    <path d=\"M0 0h24v24H0V0z\" fill=\"none\"/>\n",
              "    <path d=\"M18.56 5.44l.94 2.06.94-2.06 2.06-.94-2.06-.94-.94-2.06-.94 2.06-2.06.94zm-11 1L8.5 8.5l.94-2.06 2.06-.94-2.06-.94L8.5 2.5l-.94 2.06-2.06.94zm10 10l.94 2.06.94-2.06 2.06-.94-2.06-.94-.94-2.06-.94 2.06-2.06.94z\"/><path d=\"M17.41 7.96l-1.37-1.37c-.4-.4-.92-.59-1.43-.59-.52 0-1.04.2-1.43.59L10.3 9.45l-7.72 7.72c-.78.78-.78 2.05 0 2.83L4 21.41c.39.39.9.59 1.41.59.51 0 1.02-.2 1.41-.59l7.78-7.78 2.81-2.81c.8-.78.8-2.07 0-2.86zM5.41 20L4 18.59l7.72-7.72 1.47 1.35L5.41 20z\"/>\n",
              "  </svg>\n",
              "      </button>\n",
              "      \n",
              "  <style>\n",
              "    .colab-df-container {\n",
              "      display:flex;\n",
              "      flex-wrap:wrap;\n",
              "      gap: 12px;\n",
              "    }\n",
              "\n",
              "    .colab-df-convert {\n",
              "      background-color: #E8F0FE;\n",
              "      border: none;\n",
              "      border-radius: 50%;\n",
              "      cursor: pointer;\n",
              "      display: none;\n",
              "      fill: #1967D2;\n",
              "      height: 32px;\n",
              "      padding: 0 0 0 0;\n",
              "      width: 32px;\n",
              "    }\n",
              "\n",
              "    .colab-df-convert:hover {\n",
              "      background-color: #E2EBFA;\n",
              "      box-shadow: 0px 1px 2px rgba(60, 64, 67, 0.3), 0px 1px 3px 1px rgba(60, 64, 67, 0.15);\n",
              "      fill: #174EA6;\n",
              "    }\n",
              "\n",
              "    [theme=dark] .colab-df-convert {\n",
              "      background-color: #3B4455;\n",
              "      fill: #D2E3FC;\n",
              "    }\n",
              "\n",
              "    [theme=dark] .colab-df-convert:hover {\n",
              "      background-color: #434B5C;\n",
              "      box-shadow: 0px 1px 3px 1px rgba(0, 0, 0, 0.15);\n",
              "      filter: drop-shadow(0px 1px 2px rgba(0, 0, 0, 0.3));\n",
              "      fill: #FFFFFF;\n",
              "    }\n",
              "  </style>\n",
              "\n",
              "      <script>\n",
              "        const buttonEl =\n",
              "          document.querySelector('#df-5f1d0462-a57d-4f55-96fa-039ed9b463e5 button.colab-df-convert');\n",
              "        buttonEl.style.display =\n",
              "          google.colab.kernel.accessAllowed ? 'block' : 'none';\n",
              "\n",
              "        async function convertToInteractive(key) {\n",
              "          const element = document.querySelector('#df-5f1d0462-a57d-4f55-96fa-039ed9b463e5');\n",
              "          const dataTable =\n",
              "            await google.colab.kernel.invokeFunction('convertToInteractive',\n",
              "                                                     [key], {});\n",
              "          if (!dataTable) return;\n",
              "\n",
              "          const docLinkHtml = 'Like what you see? Visit the ' +\n",
              "            '<a target=\"_blank\" href=https://colab.research.google.com/notebooks/data_table.ipynb>data table notebook</a>'\n",
              "            + ' to learn more about interactive tables.';\n",
              "          element.innerHTML = '';\n",
              "          dataTable['output_type'] = 'display_data';\n",
              "          await google.colab.output.renderOutput(dataTable, element);\n",
              "          const docLink = document.createElement('div');\n",
              "          docLink.innerHTML = docLinkHtml;\n",
              "          element.appendChild(docLink);\n",
              "        }\n",
              "      </script>\n",
              "    </div>\n",
              "  </div>\n",
              "  "
            ]
          },
          "metadata": {},
          "execution_count": 44
        }
      ],
      "source": [
        "text_words_len_corr = data.pivot_table(index='text_len', values='text_words').reset_index()\n",
        "text_words_len_corr.corr()"
      ]
    },
    {
      "cell_type": "code",
      "execution_count": null,
      "id": "ncl7U-8aM6UJ",
      "metadata": {
        "colab": {
          "base_uri": "https://localhost:8080/",
          "height": 112
        },
        "id": "ncl7U-8aM6UJ",
        "outputId": "80abeabf-2f93-463a-be31-076d7a3af6f6"
      },
      "outputs": [
        {
          "output_type": "execute_result",
          "data": {
            "text/plain": [
              "                 text_len  reactions_count\n",
              "text_len             1.00             0.20\n",
              "reactions_count      0.20             1.00"
            ],
            "text/html": [
              "\n",
              "  <div id=\"df-4d4397d5-33a0-49f9-b27f-4668dd42d0c7\">\n",
              "    <div class=\"colab-df-container\">\n",
              "      <div>\n",
              "<style scoped>\n",
              "    .dataframe tbody tr th:only-of-type {\n",
              "        vertical-align: middle;\n",
              "    }\n",
              "\n",
              "    .dataframe tbody tr th {\n",
              "        vertical-align: top;\n",
              "    }\n",
              "\n",
              "    .dataframe thead th {\n",
              "        text-align: right;\n",
              "    }\n",
              "</style>\n",
              "<table border=\"1\" class=\"dataframe\">\n",
              "  <thead>\n",
              "    <tr style=\"text-align: right;\">\n",
              "      <th></th>\n",
              "      <th>text_len</th>\n",
              "      <th>reactions_count</th>\n",
              "    </tr>\n",
              "  </thead>\n",
              "  <tbody>\n",
              "    <tr>\n",
              "      <th>text_len</th>\n",
              "      <td>1.00</td>\n",
              "      <td>0.20</td>\n",
              "    </tr>\n",
              "    <tr>\n",
              "      <th>reactions_count</th>\n",
              "      <td>0.20</td>\n",
              "      <td>1.00</td>\n",
              "    </tr>\n",
              "  </tbody>\n",
              "</table>\n",
              "</div>\n",
              "      <button class=\"colab-df-convert\" onclick=\"convertToInteractive('df-4d4397d5-33a0-49f9-b27f-4668dd42d0c7')\"\n",
              "              title=\"Convert this dataframe to an interactive table.\"\n",
              "              style=\"display:none;\">\n",
              "        \n",
              "  <svg xmlns=\"http://www.w3.org/2000/svg\" height=\"24px\"viewBox=\"0 0 24 24\"\n",
              "       width=\"24px\">\n",
              "    <path d=\"M0 0h24v24H0V0z\" fill=\"none\"/>\n",
              "    <path d=\"M18.56 5.44l.94 2.06.94-2.06 2.06-.94-2.06-.94-.94-2.06-.94 2.06-2.06.94zm-11 1L8.5 8.5l.94-2.06 2.06-.94-2.06-.94L8.5 2.5l-.94 2.06-2.06.94zm10 10l.94 2.06.94-2.06 2.06-.94-2.06-.94-.94-2.06-.94 2.06-2.06.94z\"/><path d=\"M17.41 7.96l-1.37-1.37c-.4-.4-.92-.59-1.43-.59-.52 0-1.04.2-1.43.59L10.3 9.45l-7.72 7.72c-.78.78-.78 2.05 0 2.83L4 21.41c.39.39.9.59 1.41.59.51 0 1.02-.2 1.41-.59l7.78-7.78 2.81-2.81c.8-.78.8-2.07 0-2.86zM5.41 20L4 18.59l7.72-7.72 1.47 1.35L5.41 20z\"/>\n",
              "  </svg>\n",
              "      </button>\n",
              "      \n",
              "  <style>\n",
              "    .colab-df-container {\n",
              "      display:flex;\n",
              "      flex-wrap:wrap;\n",
              "      gap: 12px;\n",
              "    }\n",
              "\n",
              "    .colab-df-convert {\n",
              "      background-color: #E8F0FE;\n",
              "      border: none;\n",
              "      border-radius: 50%;\n",
              "      cursor: pointer;\n",
              "      display: none;\n",
              "      fill: #1967D2;\n",
              "      height: 32px;\n",
              "      padding: 0 0 0 0;\n",
              "      width: 32px;\n",
              "    }\n",
              "\n",
              "    .colab-df-convert:hover {\n",
              "      background-color: #E2EBFA;\n",
              "      box-shadow: 0px 1px 2px rgba(60, 64, 67, 0.3), 0px 1px 3px 1px rgba(60, 64, 67, 0.15);\n",
              "      fill: #174EA6;\n",
              "    }\n",
              "\n",
              "    [theme=dark] .colab-df-convert {\n",
              "      background-color: #3B4455;\n",
              "      fill: #D2E3FC;\n",
              "    }\n",
              "\n",
              "    [theme=dark] .colab-df-convert:hover {\n",
              "      background-color: #434B5C;\n",
              "      box-shadow: 0px 1px 3px 1px rgba(0, 0, 0, 0.15);\n",
              "      filter: drop-shadow(0px 1px 2px rgba(0, 0, 0, 0.3));\n",
              "      fill: #FFFFFF;\n",
              "    }\n",
              "  </style>\n",
              "\n",
              "      <script>\n",
              "        const buttonEl =\n",
              "          document.querySelector('#df-4d4397d5-33a0-49f9-b27f-4668dd42d0c7 button.colab-df-convert');\n",
              "        buttonEl.style.display =\n",
              "          google.colab.kernel.accessAllowed ? 'block' : 'none';\n",
              "\n",
              "        async function convertToInteractive(key) {\n",
              "          const element = document.querySelector('#df-4d4397d5-33a0-49f9-b27f-4668dd42d0c7');\n",
              "          const dataTable =\n",
              "            await google.colab.kernel.invokeFunction('convertToInteractive',\n",
              "                                                     [key], {});\n",
              "          if (!dataTable) return;\n",
              "\n",
              "          const docLinkHtml = 'Like what you see? Visit the ' +\n",
              "            '<a target=\"_blank\" href=https://colab.research.google.com/notebooks/data_table.ipynb>data table notebook</a>'\n",
              "            + ' to learn more about interactive tables.';\n",
              "          element.innerHTML = '';\n",
              "          dataTable['output_type'] = 'display_data';\n",
              "          await google.colab.output.renderOutput(dataTable, element);\n",
              "          const docLink = document.createElement('div');\n",
              "          docLink.innerHTML = docLinkHtml;\n",
              "          element.appendChild(docLink);\n",
              "        }\n",
              "      </script>\n",
              "    </div>\n",
              "  </div>\n",
              "  "
            ]
          },
          "metadata": {},
          "execution_count": 45
        }
      ],
      "source": [
        "text_len_react_corr = data.pivot_table(index='text_len', values='reactions_count').reset_index()\n",
        "text_len_react_corr.corr()"
      ]
    },
    {
      "cell_type": "code",
      "execution_count": null,
      "id": "TOIgaXNiNTrU",
      "metadata": {
        "colab": {
          "base_uri": "https://localhost:8080/",
          "height": 112
        },
        "id": "TOIgaXNiNTrU",
        "outputId": "414b0c25-2873-411b-ea25-6d4fd965d8a4"
      },
      "outputs": [
        {
          "output_type": "execute_result",
          "data": {
            "text/plain": [
              "                 text_words  reactions_count\n",
              "text_words             1.00             0.47\n",
              "reactions_count        0.47             1.00"
            ],
            "text/html": [
              "\n",
              "  <div id=\"df-292c6699-a6a6-40a2-976f-ea610bcbc152\">\n",
              "    <div class=\"colab-df-container\">\n",
              "      <div>\n",
              "<style scoped>\n",
              "    .dataframe tbody tr th:only-of-type {\n",
              "        vertical-align: middle;\n",
              "    }\n",
              "\n",
              "    .dataframe tbody tr th {\n",
              "        vertical-align: top;\n",
              "    }\n",
              "\n",
              "    .dataframe thead th {\n",
              "        text-align: right;\n",
              "    }\n",
              "</style>\n",
              "<table border=\"1\" class=\"dataframe\">\n",
              "  <thead>\n",
              "    <tr style=\"text-align: right;\">\n",
              "      <th></th>\n",
              "      <th>text_words</th>\n",
              "      <th>reactions_count</th>\n",
              "    </tr>\n",
              "  </thead>\n",
              "  <tbody>\n",
              "    <tr>\n",
              "      <th>text_words</th>\n",
              "      <td>1.00</td>\n",
              "      <td>0.47</td>\n",
              "    </tr>\n",
              "    <tr>\n",
              "      <th>reactions_count</th>\n",
              "      <td>0.47</td>\n",
              "      <td>1.00</td>\n",
              "    </tr>\n",
              "  </tbody>\n",
              "</table>\n",
              "</div>\n",
              "      <button class=\"colab-df-convert\" onclick=\"convertToInteractive('df-292c6699-a6a6-40a2-976f-ea610bcbc152')\"\n",
              "              title=\"Convert this dataframe to an interactive table.\"\n",
              "              style=\"display:none;\">\n",
              "        \n",
              "  <svg xmlns=\"http://www.w3.org/2000/svg\" height=\"24px\"viewBox=\"0 0 24 24\"\n",
              "       width=\"24px\">\n",
              "    <path d=\"M0 0h24v24H0V0z\" fill=\"none\"/>\n",
              "    <path d=\"M18.56 5.44l.94 2.06.94-2.06 2.06-.94-2.06-.94-.94-2.06-.94 2.06-2.06.94zm-11 1L8.5 8.5l.94-2.06 2.06-.94-2.06-.94L8.5 2.5l-.94 2.06-2.06.94zm10 10l.94 2.06.94-2.06 2.06-.94-2.06-.94-.94-2.06-.94 2.06-2.06.94z\"/><path d=\"M17.41 7.96l-1.37-1.37c-.4-.4-.92-.59-1.43-.59-.52 0-1.04.2-1.43.59L10.3 9.45l-7.72 7.72c-.78.78-.78 2.05 0 2.83L4 21.41c.39.39.9.59 1.41.59.51 0 1.02-.2 1.41-.59l7.78-7.78 2.81-2.81c.8-.78.8-2.07 0-2.86zM5.41 20L4 18.59l7.72-7.72 1.47 1.35L5.41 20z\"/>\n",
              "  </svg>\n",
              "      </button>\n",
              "      \n",
              "  <style>\n",
              "    .colab-df-container {\n",
              "      display:flex;\n",
              "      flex-wrap:wrap;\n",
              "      gap: 12px;\n",
              "    }\n",
              "\n",
              "    .colab-df-convert {\n",
              "      background-color: #E8F0FE;\n",
              "      border: none;\n",
              "      border-radius: 50%;\n",
              "      cursor: pointer;\n",
              "      display: none;\n",
              "      fill: #1967D2;\n",
              "      height: 32px;\n",
              "      padding: 0 0 0 0;\n",
              "      width: 32px;\n",
              "    }\n",
              "\n",
              "    .colab-df-convert:hover {\n",
              "      background-color: #E2EBFA;\n",
              "      box-shadow: 0px 1px 2px rgba(60, 64, 67, 0.3), 0px 1px 3px 1px rgba(60, 64, 67, 0.15);\n",
              "      fill: #174EA6;\n",
              "    }\n",
              "\n",
              "    [theme=dark] .colab-df-convert {\n",
              "      background-color: #3B4455;\n",
              "      fill: #D2E3FC;\n",
              "    }\n",
              "\n",
              "    [theme=dark] .colab-df-convert:hover {\n",
              "      background-color: #434B5C;\n",
              "      box-shadow: 0px 1px 3px 1px rgba(0, 0, 0, 0.15);\n",
              "      filter: drop-shadow(0px 1px 2px rgba(0, 0, 0, 0.3));\n",
              "      fill: #FFFFFF;\n",
              "    }\n",
              "  </style>\n",
              "\n",
              "      <script>\n",
              "        const buttonEl =\n",
              "          document.querySelector('#df-292c6699-a6a6-40a2-976f-ea610bcbc152 button.colab-df-convert');\n",
              "        buttonEl.style.display =\n",
              "          google.colab.kernel.accessAllowed ? 'block' : 'none';\n",
              "\n",
              "        async function convertToInteractive(key) {\n",
              "          const element = document.querySelector('#df-292c6699-a6a6-40a2-976f-ea610bcbc152');\n",
              "          const dataTable =\n",
              "            await google.colab.kernel.invokeFunction('convertToInteractive',\n",
              "                                                     [key], {});\n",
              "          if (!dataTable) return;\n",
              "\n",
              "          const docLinkHtml = 'Like what you see? Visit the ' +\n",
              "            '<a target=\"_blank\" href=https://colab.research.google.com/notebooks/data_table.ipynb>data table notebook</a>'\n",
              "            + ' to learn more about interactive tables.';\n",
              "          element.innerHTML = '';\n",
              "          dataTable['output_type'] = 'display_data';\n",
              "          await google.colab.output.renderOutput(dataTable, element);\n",
              "          const docLink = document.createElement('div');\n",
              "          docLink.innerHTML = docLinkHtml;\n",
              "          element.appendChild(docLink);\n",
              "        }\n",
              "      </script>\n",
              "    </div>\n",
              "  </div>\n",
              "  "
            ]
          },
          "metadata": {},
          "execution_count": 46
        }
      ],
      "source": [
        "text_words_react_corr = data.pivot_table(index='text_words', values='reactions_count').reset_index()\n",
        "text_words_react_corr.corr()"
      ]
    },
    {
      "cell_type": "code",
      "execution_count": null,
      "id": "25yvQoGNPA__",
      "metadata": {
        "colab": {
          "base_uri": "https://localhost:8080/",
          "height": 112
        },
        "id": "25yvQoGNPA__",
        "outputId": "805e4b71-339b-4b03-9f05-bc5f818cf004",
        "scrolled": true
      },
      "outputs": [
        {
          "output_type": "execute_result",
          "data": {
            "text/plain": [
              "                 attachments  reactions_count\n",
              "attachments             1.00            -0.01\n",
              "reactions_count        -0.01             1.00"
            ],
            "text/html": [
              "\n",
              "  <div id=\"df-962b6bbe-3ed6-4ed6-89ca-4df736284cd1\">\n",
              "    <div class=\"colab-df-container\">\n",
              "      <div>\n",
              "<style scoped>\n",
              "    .dataframe tbody tr th:only-of-type {\n",
              "        vertical-align: middle;\n",
              "    }\n",
              "\n",
              "    .dataframe tbody tr th {\n",
              "        vertical-align: top;\n",
              "    }\n",
              "\n",
              "    .dataframe thead th {\n",
              "        text-align: right;\n",
              "    }\n",
              "</style>\n",
              "<table border=\"1\" class=\"dataframe\">\n",
              "  <thead>\n",
              "    <tr style=\"text-align: right;\">\n",
              "      <th></th>\n",
              "      <th>attachments</th>\n",
              "      <th>reactions_count</th>\n",
              "    </tr>\n",
              "  </thead>\n",
              "  <tbody>\n",
              "    <tr>\n",
              "      <th>attachments</th>\n",
              "      <td>1.00</td>\n",
              "      <td>-0.01</td>\n",
              "    </tr>\n",
              "    <tr>\n",
              "      <th>reactions_count</th>\n",
              "      <td>-0.01</td>\n",
              "      <td>1.00</td>\n",
              "    </tr>\n",
              "  </tbody>\n",
              "</table>\n",
              "</div>\n",
              "      <button class=\"colab-df-convert\" onclick=\"convertToInteractive('df-962b6bbe-3ed6-4ed6-89ca-4df736284cd1')\"\n",
              "              title=\"Convert this dataframe to an interactive table.\"\n",
              "              style=\"display:none;\">\n",
              "        \n",
              "  <svg xmlns=\"http://www.w3.org/2000/svg\" height=\"24px\"viewBox=\"0 0 24 24\"\n",
              "       width=\"24px\">\n",
              "    <path d=\"M0 0h24v24H0V0z\" fill=\"none\"/>\n",
              "    <path d=\"M18.56 5.44l.94 2.06.94-2.06 2.06-.94-2.06-.94-.94-2.06-.94 2.06-2.06.94zm-11 1L8.5 8.5l.94-2.06 2.06-.94-2.06-.94L8.5 2.5l-.94 2.06-2.06.94zm10 10l.94 2.06.94-2.06 2.06-.94-2.06-.94-.94-2.06-.94 2.06-2.06.94z\"/><path d=\"M17.41 7.96l-1.37-1.37c-.4-.4-.92-.59-1.43-.59-.52 0-1.04.2-1.43.59L10.3 9.45l-7.72 7.72c-.78.78-.78 2.05 0 2.83L4 21.41c.39.39.9.59 1.41.59.51 0 1.02-.2 1.41-.59l7.78-7.78 2.81-2.81c.8-.78.8-2.07 0-2.86zM5.41 20L4 18.59l7.72-7.72 1.47 1.35L5.41 20z\"/>\n",
              "  </svg>\n",
              "      </button>\n",
              "      \n",
              "  <style>\n",
              "    .colab-df-container {\n",
              "      display:flex;\n",
              "      flex-wrap:wrap;\n",
              "      gap: 12px;\n",
              "    }\n",
              "\n",
              "    .colab-df-convert {\n",
              "      background-color: #E8F0FE;\n",
              "      border: none;\n",
              "      border-radius: 50%;\n",
              "      cursor: pointer;\n",
              "      display: none;\n",
              "      fill: #1967D2;\n",
              "      height: 32px;\n",
              "      padding: 0 0 0 0;\n",
              "      width: 32px;\n",
              "    }\n",
              "\n",
              "    .colab-df-convert:hover {\n",
              "      background-color: #E2EBFA;\n",
              "      box-shadow: 0px 1px 2px rgba(60, 64, 67, 0.3), 0px 1px 3px 1px rgba(60, 64, 67, 0.15);\n",
              "      fill: #174EA6;\n",
              "    }\n",
              "\n",
              "    [theme=dark] .colab-df-convert {\n",
              "      background-color: #3B4455;\n",
              "      fill: #D2E3FC;\n",
              "    }\n",
              "\n",
              "    [theme=dark] .colab-df-convert:hover {\n",
              "      background-color: #434B5C;\n",
              "      box-shadow: 0px 1px 3px 1px rgba(0, 0, 0, 0.15);\n",
              "      filter: drop-shadow(0px 1px 2px rgba(0, 0, 0, 0.3));\n",
              "      fill: #FFFFFF;\n",
              "    }\n",
              "  </style>\n",
              "\n",
              "      <script>\n",
              "        const buttonEl =\n",
              "          document.querySelector('#df-962b6bbe-3ed6-4ed6-89ca-4df736284cd1 button.colab-df-convert');\n",
              "        buttonEl.style.display =\n",
              "          google.colab.kernel.accessAllowed ? 'block' : 'none';\n",
              "\n",
              "        async function convertToInteractive(key) {\n",
              "          const element = document.querySelector('#df-962b6bbe-3ed6-4ed6-89ca-4df736284cd1');\n",
              "          const dataTable =\n",
              "            await google.colab.kernel.invokeFunction('convertToInteractive',\n",
              "                                                     [key], {});\n",
              "          if (!dataTable) return;\n",
              "\n",
              "          const docLinkHtml = 'Like what you see? Visit the ' +\n",
              "            '<a target=\"_blank\" href=https://colab.research.google.com/notebooks/data_table.ipynb>data table notebook</a>'\n",
              "            + ' to learn more about interactive tables.';\n",
              "          element.innerHTML = '';\n",
              "          dataTable['output_type'] = 'display_data';\n",
              "          await google.colab.output.renderOutput(dataTable, element);\n",
              "          const docLink = document.createElement('div');\n",
              "          docLink.innerHTML = docLinkHtml;\n",
              "          element.appendChild(docLink);\n",
              "        }\n",
              "      </script>\n",
              "    </div>\n",
              "  </div>\n",
              "  "
            ]
          },
          "metadata": {},
          "execution_count": 47
        }
      ],
      "source": [
        "att_react_corr = data.pivot_table(index='attachments', values='reactions_count').reset_index()\n",
        "att_react_corr.corr()"
      ]
    },
    {
      "cell_type": "code",
      "execution_count": null,
      "id": "z3ebAhNMPBZu",
      "metadata": {
        "colab": {
          "base_uri": "https://localhost:8080/",
          "height": 112
        },
        "id": "z3ebAhNMPBZu",
        "outputId": "32d59955-0918-497b-d864-ba6a24de6cee"
      },
      "outputs": [
        {
          "output_type": "execute_result",
          "data": {
            "text/plain": [
              "             attachments  text_words\n",
              "attachments         1.00        0.25\n",
              "text_words          0.25        1.00"
            ],
            "text/html": [
              "\n",
              "  <div id=\"df-820f50fa-2fd5-440f-99df-0faecebd5b9b\">\n",
              "    <div class=\"colab-df-container\">\n",
              "      <div>\n",
              "<style scoped>\n",
              "    .dataframe tbody tr th:only-of-type {\n",
              "        vertical-align: middle;\n",
              "    }\n",
              "\n",
              "    .dataframe tbody tr th {\n",
              "        vertical-align: top;\n",
              "    }\n",
              "\n",
              "    .dataframe thead th {\n",
              "        text-align: right;\n",
              "    }\n",
              "</style>\n",
              "<table border=\"1\" class=\"dataframe\">\n",
              "  <thead>\n",
              "    <tr style=\"text-align: right;\">\n",
              "      <th></th>\n",
              "      <th>attachments</th>\n",
              "      <th>text_words</th>\n",
              "    </tr>\n",
              "  </thead>\n",
              "  <tbody>\n",
              "    <tr>\n",
              "      <th>attachments</th>\n",
              "      <td>1.00</td>\n",
              "      <td>0.25</td>\n",
              "    </tr>\n",
              "    <tr>\n",
              "      <th>text_words</th>\n",
              "      <td>0.25</td>\n",
              "      <td>1.00</td>\n",
              "    </tr>\n",
              "  </tbody>\n",
              "</table>\n",
              "</div>\n",
              "      <button class=\"colab-df-convert\" onclick=\"convertToInteractive('df-820f50fa-2fd5-440f-99df-0faecebd5b9b')\"\n",
              "              title=\"Convert this dataframe to an interactive table.\"\n",
              "              style=\"display:none;\">\n",
              "        \n",
              "  <svg xmlns=\"http://www.w3.org/2000/svg\" height=\"24px\"viewBox=\"0 0 24 24\"\n",
              "       width=\"24px\">\n",
              "    <path d=\"M0 0h24v24H0V0z\" fill=\"none\"/>\n",
              "    <path d=\"M18.56 5.44l.94 2.06.94-2.06 2.06-.94-2.06-.94-.94-2.06-.94 2.06-2.06.94zm-11 1L8.5 8.5l.94-2.06 2.06-.94-2.06-.94L8.5 2.5l-.94 2.06-2.06.94zm10 10l.94 2.06.94-2.06 2.06-.94-2.06-.94-.94-2.06-.94 2.06-2.06.94z\"/><path d=\"M17.41 7.96l-1.37-1.37c-.4-.4-.92-.59-1.43-.59-.52 0-1.04.2-1.43.59L10.3 9.45l-7.72 7.72c-.78.78-.78 2.05 0 2.83L4 21.41c.39.39.9.59 1.41.59.51 0 1.02-.2 1.41-.59l7.78-7.78 2.81-2.81c.8-.78.8-2.07 0-2.86zM5.41 20L4 18.59l7.72-7.72 1.47 1.35L5.41 20z\"/>\n",
              "  </svg>\n",
              "      </button>\n",
              "      \n",
              "  <style>\n",
              "    .colab-df-container {\n",
              "      display:flex;\n",
              "      flex-wrap:wrap;\n",
              "      gap: 12px;\n",
              "    }\n",
              "\n",
              "    .colab-df-convert {\n",
              "      background-color: #E8F0FE;\n",
              "      border: none;\n",
              "      border-radius: 50%;\n",
              "      cursor: pointer;\n",
              "      display: none;\n",
              "      fill: #1967D2;\n",
              "      height: 32px;\n",
              "      padding: 0 0 0 0;\n",
              "      width: 32px;\n",
              "    }\n",
              "\n",
              "    .colab-df-convert:hover {\n",
              "      background-color: #E2EBFA;\n",
              "      box-shadow: 0px 1px 2px rgba(60, 64, 67, 0.3), 0px 1px 3px 1px rgba(60, 64, 67, 0.15);\n",
              "      fill: #174EA6;\n",
              "    }\n",
              "\n",
              "    [theme=dark] .colab-df-convert {\n",
              "      background-color: #3B4455;\n",
              "      fill: #D2E3FC;\n",
              "    }\n",
              "\n",
              "    [theme=dark] .colab-df-convert:hover {\n",
              "      background-color: #434B5C;\n",
              "      box-shadow: 0px 1px 3px 1px rgba(0, 0, 0, 0.15);\n",
              "      filter: drop-shadow(0px 1px 2px rgba(0, 0, 0, 0.3));\n",
              "      fill: #FFFFFF;\n",
              "    }\n",
              "  </style>\n",
              "\n",
              "      <script>\n",
              "        const buttonEl =\n",
              "          document.querySelector('#df-820f50fa-2fd5-440f-99df-0faecebd5b9b button.colab-df-convert');\n",
              "        buttonEl.style.display =\n",
              "          google.colab.kernel.accessAllowed ? 'block' : 'none';\n",
              "\n",
              "        async function convertToInteractive(key) {\n",
              "          const element = document.querySelector('#df-820f50fa-2fd5-440f-99df-0faecebd5b9b');\n",
              "          const dataTable =\n",
              "            await google.colab.kernel.invokeFunction('convertToInteractive',\n",
              "                                                     [key], {});\n",
              "          if (!dataTable) return;\n",
              "\n",
              "          const docLinkHtml = 'Like what you see? Visit the ' +\n",
              "            '<a target=\"_blank\" href=https://colab.research.google.com/notebooks/data_table.ipynb>data table notebook</a>'\n",
              "            + ' to learn more about interactive tables.';\n",
              "          element.innerHTML = '';\n",
              "          dataTable['output_type'] = 'display_data';\n",
              "          await google.colab.output.renderOutput(dataTable, element);\n",
              "          const docLink = document.createElement('div');\n",
              "          docLink.innerHTML = docLinkHtml;\n",
              "          element.appendChild(docLink);\n",
              "        }\n",
              "      </script>\n",
              "    </div>\n",
              "  </div>\n",
              "  "
            ]
          },
          "metadata": {},
          "execution_count": 48
        }
      ],
      "source": [
        "att_react_corr = data.pivot_table(index='attachments', values='text_words').reset_index()\n",
        "att_react_corr.corr()"
      ]
    },
    {
      "cell_type": "code",
      "execution_count": null,
      "id": "cLxfqGGSPB3Y",
      "metadata": {
        "colab": {
          "base_uri": "https://localhost:8080/",
          "height": 112
        },
        "id": "cLxfqGGSPB3Y",
        "outputId": "8d9eb25b-56d2-4d15-c5eb-208b75f3a9e2"
      },
      "outputs": [
        {
          "output_type": "execute_result",
          "data": {
            "text/plain": [
              "             attachments  text_len\n",
              "attachments         1.00      0.68\n",
              "text_len            0.68      1.00"
            ],
            "text/html": [
              "\n",
              "  <div id=\"df-aec4b6aa-7469-4294-b1b4-d91459d0f57a\">\n",
              "    <div class=\"colab-df-container\">\n",
              "      <div>\n",
              "<style scoped>\n",
              "    .dataframe tbody tr th:only-of-type {\n",
              "        vertical-align: middle;\n",
              "    }\n",
              "\n",
              "    .dataframe tbody tr th {\n",
              "        vertical-align: top;\n",
              "    }\n",
              "\n",
              "    .dataframe thead th {\n",
              "        text-align: right;\n",
              "    }\n",
              "</style>\n",
              "<table border=\"1\" class=\"dataframe\">\n",
              "  <thead>\n",
              "    <tr style=\"text-align: right;\">\n",
              "      <th></th>\n",
              "      <th>attachments</th>\n",
              "      <th>text_len</th>\n",
              "    </tr>\n",
              "  </thead>\n",
              "  <tbody>\n",
              "    <tr>\n",
              "      <th>attachments</th>\n",
              "      <td>1.00</td>\n",
              "      <td>0.68</td>\n",
              "    </tr>\n",
              "    <tr>\n",
              "      <th>text_len</th>\n",
              "      <td>0.68</td>\n",
              "      <td>1.00</td>\n",
              "    </tr>\n",
              "  </tbody>\n",
              "</table>\n",
              "</div>\n",
              "      <button class=\"colab-df-convert\" onclick=\"convertToInteractive('df-aec4b6aa-7469-4294-b1b4-d91459d0f57a')\"\n",
              "              title=\"Convert this dataframe to an interactive table.\"\n",
              "              style=\"display:none;\">\n",
              "        \n",
              "  <svg xmlns=\"http://www.w3.org/2000/svg\" height=\"24px\"viewBox=\"0 0 24 24\"\n",
              "       width=\"24px\">\n",
              "    <path d=\"M0 0h24v24H0V0z\" fill=\"none\"/>\n",
              "    <path d=\"M18.56 5.44l.94 2.06.94-2.06 2.06-.94-2.06-.94-.94-2.06-.94 2.06-2.06.94zm-11 1L8.5 8.5l.94-2.06 2.06-.94-2.06-.94L8.5 2.5l-.94 2.06-2.06.94zm10 10l.94 2.06.94-2.06 2.06-.94-2.06-.94-.94-2.06-.94 2.06-2.06.94z\"/><path d=\"M17.41 7.96l-1.37-1.37c-.4-.4-.92-.59-1.43-.59-.52 0-1.04.2-1.43.59L10.3 9.45l-7.72 7.72c-.78.78-.78 2.05 0 2.83L4 21.41c.39.39.9.59 1.41.59.51 0 1.02-.2 1.41-.59l7.78-7.78 2.81-2.81c.8-.78.8-2.07 0-2.86zM5.41 20L4 18.59l7.72-7.72 1.47 1.35L5.41 20z\"/>\n",
              "  </svg>\n",
              "      </button>\n",
              "      \n",
              "  <style>\n",
              "    .colab-df-container {\n",
              "      display:flex;\n",
              "      flex-wrap:wrap;\n",
              "      gap: 12px;\n",
              "    }\n",
              "\n",
              "    .colab-df-convert {\n",
              "      background-color: #E8F0FE;\n",
              "      border: none;\n",
              "      border-radius: 50%;\n",
              "      cursor: pointer;\n",
              "      display: none;\n",
              "      fill: #1967D2;\n",
              "      height: 32px;\n",
              "      padding: 0 0 0 0;\n",
              "      width: 32px;\n",
              "    }\n",
              "\n",
              "    .colab-df-convert:hover {\n",
              "      background-color: #E2EBFA;\n",
              "      box-shadow: 0px 1px 2px rgba(60, 64, 67, 0.3), 0px 1px 3px 1px rgba(60, 64, 67, 0.15);\n",
              "      fill: #174EA6;\n",
              "    }\n",
              "\n",
              "    [theme=dark] .colab-df-convert {\n",
              "      background-color: #3B4455;\n",
              "      fill: #D2E3FC;\n",
              "    }\n",
              "\n",
              "    [theme=dark] .colab-df-convert:hover {\n",
              "      background-color: #434B5C;\n",
              "      box-shadow: 0px 1px 3px 1px rgba(0, 0, 0, 0.15);\n",
              "      filter: drop-shadow(0px 1px 2px rgba(0, 0, 0, 0.3));\n",
              "      fill: #FFFFFF;\n",
              "    }\n",
              "  </style>\n",
              "\n",
              "      <script>\n",
              "        const buttonEl =\n",
              "          document.querySelector('#df-aec4b6aa-7469-4294-b1b4-d91459d0f57a button.colab-df-convert');\n",
              "        buttonEl.style.display =\n",
              "          google.colab.kernel.accessAllowed ? 'block' : 'none';\n",
              "\n",
              "        async function convertToInteractive(key) {\n",
              "          const element = document.querySelector('#df-aec4b6aa-7469-4294-b1b4-d91459d0f57a');\n",
              "          const dataTable =\n",
              "            await google.colab.kernel.invokeFunction('convertToInteractive',\n",
              "                                                     [key], {});\n",
              "          if (!dataTable) return;\n",
              "\n",
              "          const docLinkHtml = 'Like what you see? Visit the ' +\n",
              "            '<a target=\"_blank\" href=https://colab.research.google.com/notebooks/data_table.ipynb>data table notebook</a>'\n",
              "            + ' to learn more about interactive tables.';\n",
              "          element.innerHTML = '';\n",
              "          dataTable['output_type'] = 'display_data';\n",
              "          await google.colab.output.renderOutput(dataTable, element);\n",
              "          const docLink = document.createElement('div');\n",
              "          docLink.innerHTML = docLinkHtml;\n",
              "          element.appendChild(docLink);\n",
              "        }\n",
              "      </script>\n",
              "    </div>\n",
              "  </div>\n",
              "  "
            ]
          },
          "metadata": {},
          "execution_count": 49
        }
      ],
      "source": [
        "att_react_corr = data.pivot_table(index='attachments', values='text_len').reset_index()\n",
        "att_react_corr.corr()"
      ]
    },
    {
      "cell_type": "markdown",
      "id": "92ayLAilNzqM",
      "metadata": {
        "id": "92ayLAilNzqM"
      },
      "source": [
        "### Где быстрее/дольше всего отвечают? В какой когорте, теме."
      ]
    },
    {
      "cell_type": "code",
      "execution_count": null,
      "id": "LWD7TkR-O0M4",
      "metadata": {
        "id": "LWD7TkR-O0M4"
      },
      "outputs": [],
      "source": [
        "data['reply_time'] = data['latest_reply'] - data['ts']"
      ]
    },
    {
      "cell_type": "code",
      "execution_count": null,
      "id": "EFpP8xhWQDLX",
      "metadata": {
        "id": "EFpP8xhWQDLX"
      },
      "outputs": [],
      "source": [
        "theme_reply_time = data.pivot_table(index='channel_theme', values='reply_time').reset_index()\n",
        "theme_reply_time.columns=['channel_theme', 'reply_time']\n",
        "theme_reply_time = theme_reply_time.sort_values(by='reply_time', ascending=True)"
      ]
    },
    {
      "cell_type": "code",
      "execution_count": null,
      "id": "sa-DQGGmRX-7",
      "metadata": {
        "colab": {
          "base_uri": "https://localhost:8080/"
        },
        "id": "sa-DQGGmRX-7",
        "outputId": "f9357d5d-8541-4513-a277-3ad68973bc09"
      },
      "outputs": [
        {
          "output_type": "stream",
          "name": "stdout",
          "text": [
            "Быстрее всего отвечают в тематике каналов: group_orange\n"
          ]
        }
      ],
      "source": [
        "print('Быстрее всего отвечают в тематике каналов:', theme_reply_time['channel_theme'].head(1).values[0])"
      ]
    },
    {
      "cell_type": "code",
      "execution_count": null,
      "id": "vN4BSciYRY6i",
      "metadata": {
        "colab": {
          "base_uri": "https://localhost:8080/"
        },
        "id": "vN4BSciYRY6i",
        "outputId": "62cada3b-75ec-460b-86ba-b295d85656fb"
      },
      "outputs": [
        {
          "output_type": "stream",
          "name": "stdout",
          "text": [
            "Дольше всего отвечают в тематике каналов: apps\n"
          ]
        }
      ],
      "source": [
        "print('Дольше всего отвечают в тематике каналов:', theme_reply_time['channel_theme'].tail(1).values[0])"
      ]
    },
    {
      "cell_type": "code",
      "execution_count": null,
      "id": "vfA_mJYWR0lw",
      "metadata": {
        "id": "vfA_mJYWR0lw"
      },
      "outputs": [],
      "source": [
        "cohort_reply_time = data.pivot_table(index='cohort_name', values='reply_time').reset_index()\n",
        "cohort_reply_time.columns=['cohort_name', 'reply_time']\n",
        "cohort_reply_time = cohort_reply_time.sort_values(by='reply_time', ascending=True).tail(5)"
      ]
    },
    {
      "cell_type": "code",
      "execution_count": null,
      "id": "5OEhZdqDSEfR",
      "metadata": {
        "colab": {
          "base_uri": "https://localhost:8080/"
        },
        "id": "5OEhZdqDSEfR",
        "outputId": "3c1710ec-fe39-45cb-f07c-cf4a4e90144c"
      },
      "outputs": [
        {
          "output_type": "stream",
          "name": "stdout",
          "text": [
            "Быстрее всего отвечают в когорте: 54\n"
          ]
        }
      ],
      "source": [
        "print('Быстрее всего отвечают в когорте:', cohort_reply_time['cohort_name'].head(1).values[0])"
      ]
    },
    {
      "cell_type": "code",
      "execution_count": null,
      "id": "wLWNz1ifSFo5",
      "metadata": {
        "colab": {
          "base_uri": "https://localhost:8080/"
        },
        "id": "wLWNz1ifSFo5",
        "outputId": "827ab9d1-9f81-4d42-f139-35b1e8e9efaa"
      },
      "outputs": [
        {
          "output_type": "stream",
          "name": "stdout",
          "text": [
            "Дольше всего отвечают в когорте: 44\n"
          ]
        }
      ],
      "source": [
        "print('Дольше всего отвечают в когорте:', cohort_reply_time['cohort_name'].tail(1).values[0])"
      ]
    },
    {
      "cell_type": "markdown",
      "id": "Rs7ChAanTbXa",
      "metadata": {
        "id": "Rs7ChAanTbXa"
      },
      "source": [
        "### В какой день недели пользователи отвечают активнее всего?"
      ]
    },
    {
      "cell_type": "code",
      "execution_count": null,
      "id": "tt0x8QyrUNzy",
      "metadata": {
        "id": "tt0x8QyrUNzy"
      },
      "outputs": [],
      "source": [
        "data['thread_dayofweek'] = data['thread_ts'].dt.dayofweek"
      ]
    },
    {
      "cell_type": "code",
      "execution_count": null,
      "id": "vwXna9FbUP6I",
      "metadata": {
        "colab": {
          "base_uri": "https://localhost:8080/",
          "height": 430
        },
        "id": "vwXna9FbUP6I",
        "outputId": "7860c04d-56d7-4657-b51a-c40524021505"
      },
      "outputs": [
        {
          "output_type": "display_data",
          "data": {
            "text/plain": [
              "<Figure size 640x480 with 1 Axes>"
            ],
            "image/png": "[encoded data removed]"
          },
          "metadata": {}
        }
      ],
      "source": [
        "data['thread_dayofweek'].hist(range=(0,6), bins=7);"
      ]
    },
    {
      "cell_type": "code",
      "execution_count": null,
      "id": "cnU7bdQfUvWT",
      "metadata": {
        "colab": {
          "base_uri": "https://localhost:8080/"
        },
        "id": "cnU7bdQfUvWT",
        "outputId": "5390fb92-0bff-48a7-d9a0-d780e015b4d4"
      },
      "outputs": [
        {
          "output_type": "stream",
          "name": "stdout",
          "text": [
            "Чаще всего пользователи отвечают в понедельник, реже всего в субботу\n"
          ]
        }
      ],
      "source": [
        "print('Чаще всего пользователи отвечают в понедельник, реже всего в субботу')"
      ]
    },
    {
      "cell_type": "markdown",
      "id": "E1iHdsVIU38g",
      "metadata": {
        "id": "E1iHdsVIU38g"
      },
      "source": [
        "### Самые активные пользователь"
      ]
    },
    {
      "cell_type": "code",
      "execution_count": null,
      "id": "hkamW-rPVQvO",
      "metadata": {
        "id": "hkamW-rPVQvO"
      },
      "outputs": [],
      "source": [
        "user_mgs = data.pivot_table(index='user', values='client_msg_id', aggfunc=('count')).reset_index()\n",
        "user_mgs.columns=['user', 'count_msg']\n",
        "user_mgs = user_mgs.sort_values(by='count_msg', ascending=False)"
      ]
    },
    {
      "cell_type": "code",
      "execution_count": null,
      "id": "kRtjwPKBWBeY",
      "metadata": {
        "colab": {
          "base_uri": "https://localhost:8080/"
        },
        "id": "kRtjwPKBWBeY",
        "outputId": "9304a300-0b1c-46f5-b35b-50c6f2d3c3ab"
      },
      "outputs": [
        {
          "output_type": "stream",
          "name": "stdout",
          "text": [
            "Самый активный пользователь по количеству сообщений: U03F5HNG351\n"
          ]
        }
      ],
      "source": [
        "print('Самый активный пользователь по количеству сообщений:', user_mgs['user'].head(1).values[0])"
      ]
    },
    {
      "cell_type": "code",
      "execution_count": null,
      "id": "xZxAE_cMiouZ",
      "metadata": {
        "colab": {
          "base_uri": "https://localhost:8080/"
        },
        "id": "xZxAE_cMiouZ",
        "outputId": "be54094b-e8f0-4c79-d8eb-d47d3418cdde"
      },
      "outputs": [
        {
          "output_type": "stream",
          "name": "stdout",
          "text": [
            "Самый активный пользователь по количеству сообщений из следующих когорт: ['59b' '10' '49' '57']\n"
          ]
        }
      ],
      "source": [
        "print('Самый активный пользователь по количеству сообщений из следующих когорт:', data[(data['user'] == 'U02APGPE54P')]['cohort_name'].unique())"
      ]
    },
    {
      "cell_type": "code",
      "execution_count": null,
      "id": "4At0MIelWLVf",
      "metadata": {
        "id": "4At0MIelWLVf"
      },
      "outputs": [],
      "source": [
        "user_react = data.pivot_table(index='user', values='reactions_count', aggfunc=('sum')).reset_index()\n",
        "user_react.columns=['user', 'reactions_sum']\n",
        "user_react = user_react.sort_values(by='reactions_sum', ascending=False)"
      ]
    },
    {
      "cell_type": "code",
      "execution_count": null,
      "id": "9C7n1535WV0u",
      "metadata": {
        "colab": {
          "base_uri": "https://localhost:8080/"
        },
        "id": "9C7n1535WV0u",
        "outputId": "ae1ef6a9-065d-4f79-f05e-5018a7349c96"
      },
      "outputs": [
        {
          "output_type": "stream",
          "name": "stdout",
          "text": [
            "Самый активный пользователь по количеству реакций: U02PLR8QYT0\n"
          ]
        }
      ],
      "source": [
        "print('Самый активный пользователь по количеству реакций:', user_react['user'].head(1).values[0])"
      ]
    },
    {
      "cell_type": "code",
      "execution_count": null,
      "id": "CnpLp7OajVPC",
      "metadata": {
        "colab": {
          "base_uri": "https://localhost:8080/"
        },
        "id": "CnpLp7OajVPC",
        "outputId": "3443a700-f079-41fd-d2de-9c319a5b540f"
      },
      "outputs": [
        {
          "output_type": "stream",
          "name": "stdout",
          "text": [
            "Самый активный пользоателей по количеству реакций из следующих когорт: ['Нет' '59b' '60' '02' '03' '04' '05' '08']\n"
          ]
        }
      ],
      "source": [
        "print('Самый активный пользоателей по количеству реакций из следующих когорт:', data[(data['user'] == 'U02PLR8QYT0')]['cohort_name'].unique())"
      ]
    },
    {
      "cell_type": "markdown",
      "id": "7vsiQ6bUXp6l",
      "metadata": {
        "id": "7vsiQ6bUXp6l"
      },
      "source": [
        "### Медианные и средние значения активности пользователей"
      ]
    },
    {
      "cell_type": "code",
      "execution_count": null,
      "id": "kCPVgTWjY_FE",
      "metadata": {
        "colab": {
          "base_uri": "https://localhost:8080/",
          "height": 447
        },
        "id": "kCPVgTWjY_FE",
        "outputId": "c2b38d89-fff0-4441-9c07-f1de6f42bffb"
      },
      "outputs": [
        {
          "output_type": "execute_result",
          "data": {
            "text/plain": [
              "<Axes: >"
            ]
          },
          "metadata": {},
          "execution_count": 66
        },
        {
          "output_type": "display_data",
          "data": {
            "text/plain": [
              "<Figure size 640x480 with 1 Axes>"
            ],
            "image/png": "[encoded data removed]"
          },
          "metadata": {}
        }
      ],
      "source": [
        "user_mgs['count_msg'].hist(range=(0,40), bins=40)"
      ]
    },
    {
      "cell_type": "code",
      "execution_count": null,
      "id": "DDSW-dVdZcBY",
      "metadata": {
        "colab": {
          "base_uri": "https://localhost:8080/",
          "height": 447
        },
        "id": "DDSW-dVdZcBY",
        "outputId": "4d541e9e-6658-430c-c42b-9f34ce5011e6"
      },
      "outputs": [
        {
          "output_type": "execute_result",
          "data": {
            "text/plain": [
              "<Axes: >"
            ]
          },
          "metadata": {},
          "execution_count": 67
        },
        {
          "output_type": "display_data",
          "data": {
            "text/plain": [
              "<Figure size 640x480 with 1 Axes>"
            ],
            "image/png": "[encoded data removed]"
          },
          "metadata": {}
        }
      ],
      "source": [
        "user_react['reactions_sum'].hist(range=(0,20), bins=20)"
      ]
    },
    {
      "cell_type": "code",
      "execution_count": null,
      "id": "25qH8Io6XvL2",
      "metadata": {
        "colab": {
          "base_uri": "https://localhost:8080/"
        },
        "id": "25qH8Io6XvL2",
        "outputId": "e970ae8e-b58e-40e2-a401-1d88563f9219"
      },
      "outputs": [
        {
          "output_type": "stream",
          "name": "stdout",
          "text": [
            "Медианное количество сообщений на пользователя: 3\n",
            "Среднее количество сообщений на пользователя: 7\n"
          ]
        }
      ],
      "source": [
        "print('Медианное количество сообщений на пользователя:', round(user_mgs['count_msg'].median()))\n",
        "print('Среднее количество сообщений на пользователя:', round(user_mgs['count_msg'].mean()))"
      ]
    },
    {
      "cell_type": "code",
      "execution_count": null,
      "id": "TcVyhGaeYlho",
      "metadata": {
        "colab": {
          "base_uri": "https://localhost:8080/"
        },
        "id": "TcVyhGaeYlho",
        "outputId": "758bef9b-eb06-4442-9735-8a18b7235f26"
      },
      "outputs": [
        {
          "output_type": "stream",
          "name": "stdout",
          "text": [
            "Медианное количество реакций на пользователя: 1\n",
            "Среднее количество реакций на пользователя: 4\n"
          ]
        }
      ],
      "source": [
        "print('Медианное количество реакций на пользователя:', round(user_react['reactions_sum'].median()))\n",
        "print('Среднее количество реакций на пользователя:', round(user_react['reactions_sum'].mean()))"
      ]
    },
    {
      "cell_type": "markdown",
      "id": "kenkU8LXaQvE",
      "metadata": {
        "id": "kenkU8LXaQvE"
      },
      "source": [
        "### Сегментация пользователей"
      ]
    },
    {
      "cell_type": "code",
      "execution_count": null,
      "id": "kCMquPAhc2gJ",
      "metadata": {
        "colab": {
          "base_uri": "https://localhost:8080/"
        },
        "id": "kCMquPAhc2gJ",
        "outputId": "73fe3b27-983a-48d0-ca4f-fba0675aff78"
      },
      "outputs": [
        {
          "output_type": "stream",
          "name": "stdout",
          "text": [
            "<class 'pandas.core.frame.DataFrame'>\n",
            "Int64Index: 2460 entries, 0 to 2459\n",
            "Data columns (total 3 columns):\n",
            " #   Column         Non-Null Count  Dtype \n",
            "---  ------         --------------  ----- \n",
            " 0   user           2460 non-null   object\n",
            " 1   count_msg      2460 non-null   int64 \n",
            " 2   reactions_sum  2460 non-null   int64 \n",
            "dtypes: int64(2), object(1)\n",
            "memory usage: 76.9+ KB\n"
          ]
        }
      ],
      "source": [
        "users_segment = user_mgs.merge(user_react, how='inner', on='user')\n",
        "users_segment.info()"
      ]
    },
    {
      "cell_type": "code",
      "execution_count": null,
      "id": "yl0S3dYzaQXM",
      "metadata": {
        "id": "yl0S3dYzaQXM"
      },
      "outputs": [],
      "source": [
        "#Функция для сегментирования пользователей\n",
        "def segmentation (data):\n",
        "    if data['count_msg'] < 3 and data['reactions_sum'] < 1:\n",
        "        return 'Читатель'\n",
        "    elif data['count_msg'] >= 3 and data['count_msg'] <=7 and data['reactions_sum'] == 0:\n",
        "        return 'Пишет, но не использует реакции'\n",
        "    elif data['reactions_sum'] >= 1 and data['reactions_sum'] <=4 and data['count_msg'] == 0:\n",
        "        return 'Использует реакции, но не пишет'\n",
        "    elif data['count_msg'] >7 and data['reactions_sum'] <4:\n",
        "        return 'Активно пишет'\n",
        "    elif data['count_msg'] >7 and data['reactions_sum'] == 0:\n",
        "        return 'Активно пишет, не использует реакции'\n",
        "    elif data['reactions_sum'] >4 and data['count_msg'] <7:\n",
        "        return 'Активно использует реакции'\n",
        "    elif data['reactions_sum'] >4 and data['count_msg'] == 0:\n",
        "        return 'Активно использует реакции, не пишет'\n",
        "    elif data['reactions_sum'] >4 and data['count_msg'] >7:\n",
        "        return 'Активно использует реакции и активно пишет сообщения'\n",
        "    elif data['count_msg'] >= 3 and data['count_msg'] <=7 and data['reactions_sum'] >= 1 and data['reactions_sum'] <=4:\n",
        "        return 'Пишет и использует реакции'\n",
        "    else:\n",
        "        return 'Не определен'"
      ]
    },
    {
      "cell_type": "code",
      "execution_count": null,
      "id": "XvOPZu26eKQP",
      "metadata": {
        "id": "XvOPZu26eKQP"
      },
      "outputs": [],
      "source": [
        "users_segment['segment'] = users_segment.apply(segmentation, axis=1)"
      ]
    },
    {
      "cell_type": "code",
      "execution_count": null,
      "id": "JUvv4mIWgrOl",
      "metadata": {
        "id": "JUvv4mIWgrOl"
      },
      "outputs": [],
      "source": [
        "data = data.merge(users_segment, how='inner', on='user')"
      ]
    },
    {
      "cell_type": "code",
      "execution_count": null,
      "id": "s5I6E0APh3ZC",
      "metadata": {
        "id": "s5I6E0APh3ZC"
      },
      "outputs": [],
      "source": [
        "data = data.drop(['count_msg', 'reactions_sum'], axis=1)"
      ]
    },
    {
      "cell_type": "code",
      "execution_count": null,
      "id": "rO0LNeFDiJO-",
      "metadata": {
        "colab": {
          "base_uri": "https://localhost:8080/"
        },
        "id": "rO0LNeFDiJO-",
        "outputId": "a67165fe-8735-4de2-b017-2016e6e2e284"
      },
      "outputs": [
        {
          "output_type": "execute_result",
          "data": {
            "text/plain": [
              "1056"
            ]
          },
          "metadata": {},
          "execution_count": 75
        }
      ],
      "source": [
        "data[data['segment'] == 'Читатель']['segment'].count()"
      ]
    },
    {
      "cell_type": "code",
      "execution_count": null,
      "id": "9ntWzoantru1",
      "metadata": {
        "colab": {
          "base_uri": "https://localhost:8080/"
        },
        "id": "9ntWzoantru1",
        "outputId": "7dd437b2-8ec5-482a-8519-d4a03d641e51"
      },
      "outputs": [
        {
          "output_type": "execute_result",
          "data": {
            "text/plain": [
              "1398"
            ]
          },
          "metadata": {},
          "execution_count": 76
        }
      ],
      "source": [
        "data[data['segment'] == 'Пишет, но не использует реакции']['segment'].count()"
      ]
    },
    {
      "cell_type": "code",
      "execution_count": null,
      "id": "IhD-s6WXtvR2",
      "metadata": {
        "colab": {
          "base_uri": "https://localhost:8080/"
        },
        "id": "IhD-s6WXtvR2",
        "outputId": "c101545f-09c1-44b6-96ee-9d275f9e2d96"
      },
      "outputs": [
        {
          "output_type": "execute_result",
          "data": {
            "text/plain": [
              "0"
            ]
          },
          "metadata": {},
          "execution_count": 77
        }
      ],
      "source": [
        "data[data['segment'] == 'Использует реакции, но не пишет']['segment'].count()"
      ]
    },
    {
      "cell_type": "code",
      "execution_count": null,
      "id": "2KSTrQE3tzd7",
      "metadata": {
        "colab": {
          "base_uri": "https://localhost:8080/"
        },
        "id": "2KSTrQE3tzd7",
        "outputId": "4069e26d-9974-412a-c59a-82172d4b707b"
      },
      "outputs": [
        {
          "output_type": "execute_result",
          "data": {
            "text/plain": [
              "3850"
            ]
          },
          "metadata": {},
          "execution_count": 78
        }
      ],
      "source": [
        "data[data['segment'] == 'Активно пишет']['segment'].count()"
      ]
    },
    {
      "cell_type": "code",
      "execution_count": null,
      "id": "gctbp8iXt1AO",
      "metadata": {
        "colab": {
          "base_uri": "https://localhost:8080/"
        },
        "id": "gctbp8iXt1AO",
        "outputId": "4cdd3419-30a9-40b5-803b-bd3bfd580398"
      },
      "outputs": [
        {
          "output_type": "execute_result",
          "data": {
            "text/plain": [
              "0"
            ]
          },
          "metadata": {},
          "execution_count": 79
        }
      ],
      "source": [
        "data[data['segment'] == 'Активно пишет, не использует реакции']['segment'].count()"
      ]
    },
    {
      "cell_type": "code",
      "execution_count": null,
      "id": "MI0Ft6Y_t4aG",
      "metadata": {
        "colab": {
          "base_uri": "https://localhost:8080/"
        },
        "id": "MI0Ft6Y_t4aG",
        "outputId": "1766edb9-0814-4cf7-97f9-86b7947169de"
      },
      "outputs": [
        {
          "output_type": "execute_result",
          "data": {
            "text/plain": [
              "259"
            ]
          },
          "metadata": {},
          "execution_count": 80
        }
      ],
      "source": [
        "data[data['segment'] == 'Активно использует реакции']['segment'].count()"
      ]
    },
    {
      "cell_type": "code",
      "execution_count": null,
      "id": "LGlkgvjKt49k",
      "metadata": {
        "colab": {
          "base_uri": "https://localhost:8080/"
        },
        "id": "LGlkgvjKt49k",
        "outputId": "2d232cd5-a3ff-4fb5-827e-5ef0429a5f6f"
      },
      "outputs": [
        {
          "output_type": "execute_result",
          "data": {
            "text/plain": [
              "0"
            ]
          },
          "metadata": {},
          "execution_count": 81
        }
      ],
      "source": [
        "data[data['segment'] == 'Активно использует реакции, не пишет']['segment'].count()"
      ]
    },
    {
      "cell_type": "code",
      "execution_count": null,
      "id": "PdnmxyEIt5cI",
      "metadata": {
        "colab": {
          "base_uri": "https://localhost:8080/"
        },
        "id": "PdnmxyEIt5cI",
        "outputId": "f6e7b898-9456-44ef-ea89-5182f3c007a3"
      },
      "outputs": [
        {
          "output_type": "execute_result",
          "data": {
            "text/plain": [
              "8402"
            ]
          },
          "metadata": {},
          "execution_count": 82
        }
      ],
      "source": [
        "data[data['segment'] == 'Активно использует реакции и активно пишет сообщения']['segment'].count()"
      ]
    },
    {
      "cell_type": "code",
      "execution_count": null,
      "id": "hrPzRBCuuJl8",
      "metadata": {
        "colab": {
          "base_uri": "https://localhost:8080/"
        },
        "id": "hrPzRBCuuJl8",
        "outputId": "95da6f7b-6007-4601-9876-7af4ae9e4389"
      },
      "outputs": [
        {
          "output_type": "execute_result",
          "data": {
            "text/plain": [
              "1557"
            ]
          },
          "metadata": {},
          "execution_count": 83
        }
      ],
      "source": [
        "data[data['segment'] == 'Пишет и использует реакции']['segment'].count()"
      ]
    },
    {
      "cell_type": "code",
      "execution_count": null,
      "id": "Ci-3zI-NuK25",
      "metadata": {
        "colab": {
          "base_uri": "https://localhost:8080/"
        },
        "id": "Ci-3zI-NuK25",
        "outputId": "6f9fda53-7ed9-42cd-e2f3-a8b003e57950"
      },
      "outputs": [
        {
          "output_type": "execute_result",
          "data": {
            "text/plain": [
              "1348"
            ]
          },
          "metadata": {},
          "execution_count": 84
        }
      ],
      "source": [
        "data[data['segment'] == 'Не определен']['segment'].count()"
      ]
    },
    {
      "cell_type": "markdown",
      "id": "XVJa9dc5iaPh",
      "metadata": {
        "id": "XVJa9dc5iaPh"
      },
      "source": [
        "## Выводы по итогам анализа"
      ]
    },
    {
      "cell_type": "markdown",
      "id": "X1veJeM0idnY",
      "metadata": {
        "id": "X1veJeM0idnY"
      },
      "source": [
        "\n",
        "\n",
        "*   В каналах тематики 'project' наибольшее количество сообщений.\n",
        ">   *Можно предположить, что это связано с тем, что проектные работы у студентов вызывают вопросы, которые они задают предподавателям в каналах этой темы.*\n",
        "*   В каналах тематики 'students-feedback' меньше всего сообщений.\n",
        ">   *Можно предположить, что это связано с тем, что студенты не хотят тратить время на обратную связь*\n",
        "*   В когорте '59' больше всего сообщений, наименьше же количество сообщений в когорте '81'.\n",
        ">   *Можно предположить, что чем старше когорта, тем активнее пользователи, следовательно больше сообщений*\n",
        "*   В каналах тематики 'info' больше всего реакций.\n",
        ">   *Тематика канала, информирование. Следовательно, реакциями студенты отмечают интересные новости и отмечают, что сообщение ими прочитано*\n",
        "*   В каналах тематики 'students-feedback' меньше всего реакций.\n",
        ">   *Канал с обратной связью для студентов, реакции использовать при подаче обратной связи не имеет смысла*\n",
        "*   В когорте '59' больше всего реакций, нет ни одной реакциий на сообщения в когортах '2, 1, 3, 38, 4'.\n",
        ">   *Можно предположить, что в когортах, где нет реакций мессенджеры не поддерживают/не поддерживали эту функцию*\n",
        "*   Заметна явная корреляция между длиной текста и количеством слов (0.96), также высокая прямая корреляция наблюдается между длиной текста/количеством слов и количеством добавляемых файлов (0,25 и 0,68). Корреляция между реакциями и добавляемымии файлами отсутсвует, равно 0. При этом длина текста/количество слов влияют на количество реакций, корелляции равны 0,2 и 0,47.\n",
        "*   Быстрее всего студенты отвечают в каналах тематики 'group_orange'. Дольше всего ответы поступают в каналах тематики 'apps'\n",
        "*   Быстрее всего студенты отвечают в когорте '54'. Дольше всего ответы поступают в когорте '44'\n",
        "*   Активней всего студенты пишут сообщения в тредах в понедельник (более 80%), начало спринтов, реже всего студентам охота писать сообщения в тредах в субботу.\n",
        "*   Самым активным пользователем по количеству сообщений является 'U03F5HNG351' из когорт '59b, 10, 49, 57'.\n",
        "*   Самым активным пользователем по количеству реакий является 'U02PLR8QYT0' из когорт '60, 03, 04, 08'\n",
        "*   Медианное и среднее количество сообщений на пользователя равно 3 и 7 соответственно.\n",
        "*   Медианное и среднее количество реакций на пользователя равно 1 и 4 соответствено.\n",
        "*   Сегментировав пользователей по количеству сообщений и реакций на группы имеем следующий результат: \n",
        "    *   'Читатель' - 1056\n",
        "    *   'Пишет, но не использует реакции' - 1398\n",
        "    *   'Использует реакции, но не пишет' - 0\n",
        "    *   'Активно пишет' - 3850\n",
        "    *   'Активно пишет, не использует реакции' - 0\n",
        "    *   'Активно использует реакции' - 259\n",
        "    *   'Активно использует реакции, не пишет' - 0\n",
        "    *   'Активно использует реакции и активно пишет сообщения' - 8402\n",
        "    *   'Пишет и использует реакции' - 1557\n",
        "    *   'Не определен' - 1348\n"
      ]
    }
  ],
  "metadata": {
    "colab": {
      "provenance": [],
      "name": "EDA_WorkShop.ipynb",
      "include_colab_link": true
    },
    "kernelspec": {
      "display_name": "Python 3",
      "language": "python",
      "name": "python3"
    },
    "language_info": {
      "codemirror_mode": {
        "name": "ipython",
        "version": 3
      },
      "file_extension": ".py",
      "mimetype": "text/x-python",
      "name": "python",
      "nbconvert_exporter": "python",
      "pygments_lexer": "ipython3",
      "version": "3.8.8"
    }
  },
  "nbformat": 4,
  "nbformat_minor": 5
}