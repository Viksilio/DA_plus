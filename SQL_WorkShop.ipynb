{
  "cells": [
    {
      "cell_type": "markdown",
      "metadata": {
        "id": "view-in-github",
        "colab_type": "text"
      },
      "source": [
        "<a href=\"https://colab.research.google.com/github/Viksilio/DA_plus/blob/master/SQL_WorkShop.ipynb\" target=\"_parent\"><img src=\"https://colab.research.google.com/assets/colab-badge.svg\" alt=\"Open In Colab\"/></a>"
      ]
    },
    {
      "cell_type": "markdown",
      "id": "bafad03c",
      "metadata": {
        "id": "bafad03c"
      },
      "source": [
        "### Работу выполнил\n",
        "#### Степанищев Владислав Викторович (DA16_plus)\n",
        "#### https://t.me/viksilio"
      ]
    },
    {
      "cell_type": "markdown",
      "id": "65f92c30",
      "metadata": {
        "id": "65f92c30"
      },
      "source": [
        "### Подключение библиотек"
      ]
    },
    {
      "cell_type": "code",
      "execution_count": null,
      "id": "c8ed5a31",
      "metadata": {
        "id": "c8ed5a31"
      },
      "outputs": [],
      "source": [
        "import pandas as pd\n",
        "from sqlalchemy import create_engine "
      ]
    },
    {
      "cell_type": "markdown",
      "id": "06a17d3a",
      "metadata": {
        "id": "06a17d3a"
      },
      "source": [
        "### Конфигурация для подключения к локальной базе данных PostreSQL"
      ]
    },
    {
      "cell_type": "code",
      "execution_count": null,
      "id": "3716b41f",
      "metadata": {
        "id": "3716b41f"
      },
      "outputs": [],
      "source": [
        "db_config = {\n",
        "    'user': 'postgres', # имя пользователя\n",
        "    'pwd': '1202', # пароль\n",
        "    'host': 'localhost',\n",
        "    'port': 5432, # порт подключения\n",
        "    'db': 'WorkShop' # название базы данных\n",
        "}  \n",
        "\n",
        "connection_string = 'postgresql://{}:{}@{}:{}/{}'.format(\n",
        "    db_config['user'],\n",
        "    db_config['pwd'],\n",
        "    db_config['host'],\n",
        "    db_config['port'],\n",
        "    db_config['db'],\n",
        ")"
      ]
    },
    {
      "cell_type": "markdown",
      "id": "96addffd",
      "metadata": {
        "id": "96addffd"
      },
      "source": [
        "#### Создание подключения"
      ]
    },
    {
      "cell_type": "code",
      "execution_count": null,
      "id": "3a9bb7f1",
      "metadata": {
        "id": "3a9bb7f1"
      },
      "outputs": [],
      "source": [
        "engine = create_engine(connection_string) "
      ]
    },
    {
      "cell_type": "markdown",
      "id": "54fb5de8",
      "metadata": {
        "id": "54fb5de8"
      },
      "source": [
        "### Задача 1"
      ]
    },
    {
      "cell_type": "markdown",
      "id": "9798b319",
      "metadata": {
        "id": "9798b319"
      },
      "source": [
        "В таблице total_sales содержится информация о сделках.  \n",
        "Требуется написать SQL запрос, который к каждой транзакции добавит:\n",
        "* Дату первой сделки покупателя.\n",
        "* Дату предыдущей сделки покупателя.\n",
        "* Покажет общее количество товаров, купленных покупателем.\n",
        "* Присвоить всем сделкам покупателя / продавца порядковый номер."
      ]
    },
    {
      "cell_type": "code",
      "execution_count": null,
      "id": "2d3d7e3c",
      "metadata": {
        "id": "2d3d7e3c",
        "outputId": "1d7057e2-0892-4db0-89fd-3c5475aef045"
      },
      "outputs": [
        {
          "data": {
            "text/html": [
              "<div>\n",
              "<style scoped>\n",
              "    .dataframe tbody tr th:only-of-type {\n",
              "        vertical-align: middle;\n",
              "    }\n",
              "\n",
              "    .dataframe tbody tr th {\n",
              "        vertical-align: top;\n",
              "    }\n",
              "\n",
              "    .dataframe thead th {\n",
              "        text-align: right;\n",
              "    }\n",
              "</style>\n",
              "<table border=\"1\" class=\"dataframe\">\n",
              "  <thead>\n",
              "    <tr style=\"text-align: right;\">\n",
              "      <th></th>\n",
              "      <th>sales_id</th>\n",
              "      <th>date</th>\n",
              "      <th>buyer_id</th>\n",
              "      <th>seller_id</th>\n",
              "      <th>qty</th>\n",
              "      <th>qty_shipped</th>\n",
              "      <th>first_value</th>\n",
              "      <th>lag</th>\n",
              "      <th>sum</th>\n",
              "      <th>dense_rank</th>\n",
              "    </tr>\n",
              "  </thead>\n",
              "  <tbody>\n",
              "    <tr>\n",
              "      <th>0</th>\n",
              "      <td>25651</td>\n",
              "      <td>2022-06-11</td>\n",
              "      <td>4</td>\n",
              "      <td>f</td>\n",
              "      <td>40</td>\n",
              "      <td>NaN</td>\n",
              "      <td>2022-06-11</td>\n",
              "      <td>None</td>\n",
              "      <td>110</td>\n",
              "      <td>5</td>\n",
              "    </tr>\n",
              "    <tr>\n",
              "      <th>1</th>\n",
              "      <td>34489</td>\n",
              "      <td>2022-06-18</td>\n",
              "      <td>1</td>\n",
              "      <td>f</td>\n",
              "      <td>30</td>\n",
              "      <td>NaN</td>\n",
              "      <td>2022-04-12</td>\n",
              "      <td>2022-04-12</td>\n",
              "      <td>40</td>\n",
              "      <td>1</td>\n",
              "    </tr>\n",
              "    <tr>\n",
              "      <th>2</th>\n",
              "      <td>36044</td>\n",
              "      <td>2022-07-07</td>\n",
              "      <td>2</td>\n",
              "      <td>g</td>\n",
              "      <td>10</td>\n",
              "      <td>10.0</td>\n",
              "      <td>2022-07-06</td>\n",
              "      <td>2022-07-06</td>\n",
              "      <td>80</td>\n",
              "      <td>3</td>\n",
              "    </tr>\n",
              "    <tr>\n",
              "      <th>3</th>\n",
              "      <td>40494</td>\n",
              "      <td>2022-04-12</td>\n",
              "      <td>1</td>\n",
              "      <td>m</td>\n",
              "      <td>10</td>\n",
              "      <td>10.0</td>\n",
              "      <td>2022-04-12</td>\n",
              "      <td>None</td>\n",
              "      <td>40</td>\n",
              "      <td>2</td>\n",
              "    </tr>\n",
              "    <tr>\n",
              "      <th>4</th>\n",
              "      <td>83056</td>\n",
              "      <td>2022-07-06</td>\n",
              "      <td>2</td>\n",
              "      <td>m</td>\n",
              "      <td>70</td>\n",
              "      <td>NaN</td>\n",
              "      <td>2022-07-06</td>\n",
              "      <td>None</td>\n",
              "      <td>80</td>\n",
              "      <td>4</td>\n",
              "    </tr>\n",
              "    <tr>\n",
              "      <th>5</th>\n",
              "      <td>96498</td>\n",
              "      <td>2022-07-19</td>\n",
              "      <td>4</td>\n",
              "      <td>e</td>\n",
              "      <td>70</td>\n",
              "      <td>70.0</td>\n",
              "      <td>2022-06-11</td>\n",
              "      <td>2022-06-11</td>\n",
              "      <td>110</td>\n",
              "      <td>6</td>\n",
              "    </tr>\n",
              "  </tbody>\n",
              "</table>\n",
              "</div>"
            ],
            "text/plain": [
              "   sales_id        date  buyer_id seller_id  qty  qty_shipped first_value  \\\n",
              "0     25651  2022-06-11         4         f   40          NaN  2022-06-11   \n",
              "1     34489  2022-06-18         1         f   30          NaN  2022-04-12   \n",
              "2     36044  2022-07-07         2         g   10         10.0  2022-07-06   \n",
              "3     40494  2022-04-12         1         m   10         10.0  2022-04-12   \n",
              "4     83056  2022-07-06         2         m   70          NaN  2022-07-06   \n",
              "5     96498  2022-07-19         4         e   70         70.0  2022-06-11   \n",
              "\n",
              "          lag  sum  dense_rank  \n",
              "0        None  110           5  \n",
              "1  2022-04-12   40           1  \n",
              "2  2022-07-06   80           3  \n",
              "3        None   40           2  \n",
              "4        None   80           4  \n",
              "5  2022-06-11  110           6  "
            ]
          },
          "execution_count": 4,
          "metadata": {},
          "output_type": "execute_result"
        }
      ],
      "source": [
        "## Решение\n",
        "query='''\n",
        "select *,\n",
        "first_value(date) over (partition by buyer_id order by date),\n",
        "LAG(date) over (partition by buyer_id order by date),\n",
        "SUM(qty) over (partition by buyer_id),\n",
        "DENSE_RANK() over (order by buyer_id, sales_id)\n",
        "from total_sales\n",
        "order by sales_id\n",
        "'''\n",
        "\n",
        "# Проверка данных\n",
        "first = pd.read_sql_query(query, con=engine) \n",
        "first"
      ]
    },
    {
      "cell_type": "markdown",
      "id": "cf6a81e6",
      "metadata": {
        "id": "cf6a81e6"
      },
      "source": [
        "### Задача 2"
      ]
    },
    {
      "cell_type": "markdown",
      "id": "727f1c76",
      "metadata": {
        "id": "727f1c76"
      },
      "source": [
        "#### Запрос 1\n"
      ]
    },
    {
      "cell_type": "markdown",
      "id": "ab7ddbe8",
      "metadata": {
        "id": "ab7ddbe8"
      },
      "source": [
        "Схема базы данных\n",
        "![image.png](attachment:image.png)"
      ]
    },
    {
      "cell_type": "markdown",
      "id": "863bb862",
      "metadata": {
        "id": "863bb862"
      },
      "source": [
        "Составьте запросы к базе, отвечающие на вопросы:  \n",
        "* Для каждого покупателя найдите магазин, в котором он совершил\n",
        "наибольшее количество покупок.  \n",
        "* Найдите всех покупателей, которые в каждом полном месяце этого года\n",
        "совершали не менее 3 покупок.  "
      ]
    },
    {
      "cell_type": "code",
      "execution_count": null,
      "id": "73031eb3",
      "metadata": {
        "id": "73031eb3",
        "outputId": "79d542ce-00c0-4c4d-d018-b6b9cd11e0f3"
      },
      "outputs": [
        {
          "data": {
            "text/html": [
              "<div>\n",
              "<style scoped>\n",
              "    .dataframe tbody tr th:only-of-type {\n",
              "        vertical-align: middle;\n",
              "    }\n",
              "\n",
              "    .dataframe tbody tr th {\n",
              "        vertical-align: top;\n",
              "    }\n",
              "\n",
              "    .dataframe thead th {\n",
              "        text-align: right;\n",
              "    }\n",
              "</style>\n",
              "<table border=\"1\" class=\"dataframe\">\n",
              "  <thead>\n",
              "    <tr style=\"text-align: right;\">\n",
              "      <th></th>\n",
              "      <th>store_nm</th>\n",
              "      <th>customer_id</th>\n",
              "    </tr>\n",
              "  </thead>\n",
              "  <tbody>\n",
              "    <tr>\n",
              "      <th>0</th>\n",
              "      <td>store 1</td>\n",
              "      <td>1</td>\n",
              "    </tr>\n",
              "    <tr>\n",
              "      <th>1</th>\n",
              "      <td>store 1</td>\n",
              "      <td>2</td>\n",
              "    </tr>\n",
              "    <tr>\n",
              "      <th>2</th>\n",
              "      <td>store 2</td>\n",
              "      <td>3</td>\n",
              "    </tr>\n",
              "    <tr>\n",
              "      <th>3</th>\n",
              "      <td>store 3</td>\n",
              "      <td>4</td>\n",
              "    </tr>\n",
              "    <tr>\n",
              "      <th>4</th>\n",
              "      <td>store 1</td>\n",
              "      <td>5</td>\n",
              "    </tr>\n",
              "    <tr>\n",
              "      <th>5</th>\n",
              "      <td>store 1</td>\n",
              "      <td>6</td>\n",
              "    </tr>\n",
              "    <tr>\n",
              "      <th>6</th>\n",
              "      <td>store 1</td>\n",
              "      <td>7</td>\n",
              "    </tr>\n",
              "  </tbody>\n",
              "</table>\n",
              "</div>"
            ],
            "text/plain": [
              "  store_nm  customer_id\n",
              "0  store 1            1\n",
              "1  store 1            2\n",
              "2  store 2            3\n",
              "3  store 3            4\n",
              "4  store 1            5\n",
              "5  store 1            6\n",
              "6  store 1            7"
            ]
          },
          "execution_count": 5,
          "metadata": {},
          "output_type": "execute_result"
        }
      ],
      "source": [
        "## Решение\n",
        "query='''\n",
        "with count_sales as (\n",
        "select count(s.sales_id) over(partition by customer_id, s.store_id) as cnt, s.store_id, s.customer_id\n",
        "from sales s\n",
        "order by cnt desc, customer_id desc)\n",
        "select distinct store_nm, customer_id\n",
        "from (select first_value(store_id) over (partition by customer_id order by cnt desc) as store_id, customer_id \n",
        "     from count_sales) ss\n",
        "left join stores st on st.store_id = ss.store_id \n",
        "order by customer_id\n",
        "'''\n",
        "\n",
        "# Проверка данных\n",
        "second_1 = pd.read_sql_query(query, con=engine) \n",
        "second_1"
      ]
    },
    {
      "cell_type": "code",
      "execution_count": null,
      "id": "3a2d21be",
      "metadata": {
        "id": "3a2d21be",
        "outputId": "1989e621-4734-409a-e069-2b43fb152272"
      },
      "outputs": [
        {
          "data": {
            "text/html": [
              "<div>\n",
              "<style scoped>\n",
              "    .dataframe tbody tr th:only-of-type {\n",
              "        vertical-align: middle;\n",
              "    }\n",
              "\n",
              "    .dataframe tbody tr th {\n",
              "        vertical-align: top;\n",
              "    }\n",
              "\n",
              "    .dataframe thead th {\n",
              "        text-align: right;\n",
              "    }\n",
              "</style>\n",
              "<table border=\"1\" class=\"dataframe\">\n",
              "  <thead>\n",
              "    <tr style=\"text-align: right;\">\n",
              "      <th></th>\n",
              "      <th>customer_id</th>\n",
              "    </tr>\n",
              "  </thead>\n",
              "  <tbody>\n",
              "    <tr>\n",
              "      <th>0</th>\n",
              "      <td>1</td>\n",
              "    </tr>\n",
              "    <tr>\n",
              "      <th>1</th>\n",
              "      <td>2</td>\n",
              "    </tr>\n",
              "    <tr>\n",
              "      <th>2</th>\n",
              "      <td>3</td>\n",
              "    </tr>\n",
              "  </tbody>\n",
              "</table>\n",
              "</div>"
            ],
            "text/plain": [
              "   customer_id\n",
              "0            1\n",
              "1            2\n",
              "2            3"
            ]
          },
          "execution_count": 6,
          "metadata": {},
          "output_type": "execute_result"
        }
      ],
      "source": [
        "## Решение\n",
        "query='''\n",
        "select distinct customer_id from (\n",
        "select distinct customer_id, date_trunc('month', dt), count(sales_id)\n",
        "from sales s where dt between '01.01.2023' and '28.02.2023'\n",
        "group by date_trunc('month', dt), customer_id\n",
        "having COUNT (sales_id) >= 3) aa\n",
        "order by customer_id\n",
        "'''\n",
        "\n",
        "# Проверка данных\n",
        "second_2 = pd.read_sql_query(query, con=engine) \n",
        "second_2"
      ]
    },
    {
      "cell_type": "markdown",
      "id": "5b7d2e7c",
      "metadata": {
        "id": "5b7d2e7c"
      },
      "source": [
        "#### Запрос 2"
      ]
    },
    {
      "cell_type": "markdown",
      "id": "86ffe2c7",
      "metadata": {
        "id": "86ffe2c7"
      },
      "source": [
        "Напишите запрос, формирующий ниже представленный отчет\n",
        "![image.png](attachment:image.png)"
      ]
    },
    {
      "cell_type": "code",
      "execution_count": null,
      "id": "eeaf13a3",
      "metadata": {
        "id": "eeaf13a3",
        "outputId": "d0e85c02-5a30-4fe4-dea9-00e6bd40db80"
      },
      "outputs": [
        {
          "data": {
            "text/html": [
              "<div>\n",
              "<style scoped>\n",
              "    .dataframe tbody tr th:only-of-type {\n",
              "        vertical-align: middle;\n",
              "    }\n",
              "\n",
              "    .dataframe tbody tr th {\n",
              "        vertical-align: top;\n",
              "    }\n",
              "\n",
              "    .dataframe thead th {\n",
              "        text-align: right;\n",
              "    }\n",
              "</style>\n",
              "<table border=\"1\" class=\"dataframe\">\n",
              "  <thead>\n",
              "    <tr style=\"text-align: right;\">\n",
              "      <th></th>\n",
              "      <th>month_end_dt</th>\n",
              "      <th>company_sales_amt</th>\n",
              "      <th>store_nm</th>\n",
              "      <th>store_sales_amt</th>\n",
              "      <th>store_sales_share</th>\n",
              "    </tr>\n",
              "  </thead>\n",
              "  <tbody>\n",
              "    <tr>\n",
              "      <th>0</th>\n",
              "      <td>2023-01-31</td>\n",
              "      <td>1400.0</td>\n",
              "      <td>store 1</td>\n",
              "      <td>660.0</td>\n",
              "      <td>0.47</td>\n",
              "    </tr>\n",
              "    <tr>\n",
              "      <th>1</th>\n",
              "      <td>2023-01-31</td>\n",
              "      <td>1400.0</td>\n",
              "      <td>store 1</td>\n",
              "      <td>660.0</td>\n",
              "      <td>0.47</td>\n",
              "    </tr>\n",
              "    <tr>\n",
              "      <th>2</th>\n",
              "      <td>2023-01-31</td>\n",
              "      <td>1400.0</td>\n",
              "      <td>store 1</td>\n",
              "      <td>660.0</td>\n",
              "      <td>0.47</td>\n",
              "    </tr>\n",
              "    <tr>\n",
              "      <th>3</th>\n",
              "      <td>2023-01-31</td>\n",
              "      <td>1400.0</td>\n",
              "      <td>store 1</td>\n",
              "      <td>660.0</td>\n",
              "      <td>0.47</td>\n",
              "    </tr>\n",
              "    <tr>\n",
              "      <th>4</th>\n",
              "      <td>2023-01-31</td>\n",
              "      <td>1400.0</td>\n",
              "      <td>store 1</td>\n",
              "      <td>660.0</td>\n",
              "      <td>0.47</td>\n",
              "    </tr>\n",
              "  </tbody>\n",
              "</table>\n",
              "</div>"
            ],
            "text/plain": [
              "  month_end_dt  company_sales_amt store_nm  store_sales_amt  store_sales_share\n",
              "0   2023-01-31             1400.0  store 1            660.0               0.47\n",
              "1   2023-01-31             1400.0  store 1            660.0               0.47\n",
              "2   2023-01-31             1400.0  store 1            660.0               0.47\n",
              "3   2023-01-31             1400.0  store 1            660.0               0.47\n",
              "4   2023-01-31             1400.0  store 1            660.0               0.47"
            ]
          },
          "execution_count": 7,
          "metadata": {},
          "output_type": "execute_result"
        }
      ],
      "source": [
        "## Решение\n",
        "query='''\n",
        "SELECT (date_trunc('MONTH', s.dt) + INTERVAL '1 MONTH - 1 day')::date as month_end_dt,\n",
        "SUM(s.amt) over (partition by (date_trunc('MONTH', dt) + INTERVAL '1 MONTH - 1 day')::date) as company_sales_amt,\n",
        "st.store_nm,\n",
        "SUM(s.amt) over (partition by (date_trunc('MONTH', dt) + INTERVAL '1 MONTH - 1 day')::date, st.store_nm) as store_sales_amt,\n",
        "round(SUM(s.amt) over (partition by (date_trunc('MONTH', dt) + INTERVAL '1 MONTH - 1 day')::date, st.store_nm)/SUM(s.amt) over (partition by (date_trunc('MONTH', dt) + INTERVAL '1 MONTH - 1 day')::date), 2) as store_sales_share\n",
        "from sales s\n",
        "left join stores st on s.store_id = st.store_id \n",
        "'''\n",
        "\n",
        "# Проверка данных\n",
        "second_3 = pd.read_sql_query(query, con=engine) \n",
        "second_3.head()"
      ]
    },
    {
      "cell_type": "markdown",
      "id": "bb527958",
      "metadata": {
        "id": "bb527958"
      },
      "source": [
        "### Задача 3"
      ]
    },
    {
      "cell_type": "markdown",
      "id": "4fe9c406",
      "metadata": {
        "id": "4fe9c406"
      },
      "source": [
        "#### Запрос 1\n",
        "\n",
        "В таблице calls хранятся данные всех звонков абонентов за отчетный месяц.  \n",
        "В поле roaming указан факт нахождения абонента в роуминге во время звонка:\n",
        "* 1 - абонент был в роуминге;\n",
        "* 0 - абонент не был в роуминге.\n",
        "\n",
        "НапишитеSQL запрос, определяющий уникальные id абонентов, которые хоть раз\n",
        "звонили в роуминге за отчетный месяц."
      ]
    },
    {
      "cell_type": "code",
      "execution_count": null,
      "id": "62463108",
      "metadata": {
        "id": "62463108",
        "outputId": "53e49ee7-78a8-45e8-f92a-22a27d665598"
      },
      "outputs": [
        {
          "data": {
            "text/html": [
              "<div>\n",
              "<style scoped>\n",
              "    .dataframe tbody tr th:only-of-type {\n",
              "        vertical-align: middle;\n",
              "    }\n",
              "\n",
              "    .dataframe tbody tr th {\n",
              "        vertical-align: top;\n",
              "    }\n",
              "\n",
              "    .dataframe thead th {\n",
              "        text-align: right;\n",
              "    }\n",
              "</style>\n",
              "<table border=\"1\" class=\"dataframe\">\n",
              "  <thead>\n",
              "    <tr style=\"text-align: right;\">\n",
              "      <th></th>\n",
              "      <th>id_abon</th>\n",
              "    </tr>\n",
              "  </thead>\n",
              "  <tbody>\n",
              "    <tr>\n",
              "      <th>0</th>\n",
              "      <td>1</td>\n",
              "    </tr>\n",
              "    <tr>\n",
              "      <th>1</th>\n",
              "      <td>4</td>\n",
              "    </tr>\n",
              "    <tr>\n",
              "      <th>2</th>\n",
              "      <td>6</td>\n",
              "    </tr>\n",
              "    <tr>\n",
              "      <th>3</th>\n",
              "      <td>7</td>\n",
              "    </tr>\n",
              "    <tr>\n",
              "      <th>4</th>\n",
              "      <td>8</td>\n",
              "    </tr>\n",
              "  </tbody>\n",
              "</table>\n",
              "</div>"
            ],
            "text/plain": [
              "   id_abon\n",
              "0        1\n",
              "1        4\n",
              "2        6\n",
              "3        7\n",
              "4        8"
            ]
          },
          "execution_count": 8,
          "metadata": {},
          "output_type": "execute_result"
        }
      ],
      "source": [
        "## Решение\n",
        "query='''\n",
        "select distinct id_abon\n",
        "from calls c \n",
        "where roaming = 1\n",
        "order by id_abon \n",
        "'''\n",
        "\n",
        "# Проверка данных\n",
        "third_1 = pd.read_sql_query(query, con=engine) \n",
        "third_1.head()"
      ]
    },
    {
      "cell_type": "markdown",
      "id": "ec57a2b3",
      "metadata": {
        "id": "ec57a2b3"
      },
      "source": [
        "#### Запрос 2\n",
        "\n",
        "В таблице abnt хранятся уникальные id всех абонентов, совершавших звонки за\n",
        "отчетный месяц.  \n",
        "В таблице roam хранятся уникальные id абонентов, которые\n",
        "были в роуминге за отчетный месяц.  \n",
        "Напишите SQL запрос, результатом которого будут все id абонентов, которые не\n",
        "были в роуминге в текущем месяце."
      ]
    },
    {
      "cell_type": "code",
      "execution_count": null,
      "id": "42722218",
      "metadata": {
        "id": "42722218",
        "outputId": "adf11480-7368-4f42-ebaa-dd65cdaa69c3"
      },
      "outputs": [
        {
          "data": {
            "text/html": [
              "<div>\n",
              "<style scoped>\n",
              "    .dataframe tbody tr th:only-of-type {\n",
              "        vertical-align: middle;\n",
              "    }\n",
              "\n",
              "    .dataframe tbody tr th {\n",
              "        vertical-align: top;\n",
              "    }\n",
              "\n",
              "    .dataframe thead th {\n",
              "        text-align: right;\n",
              "    }\n",
              "</style>\n",
              "<table border=\"1\" class=\"dataframe\">\n",
              "  <thead>\n",
              "    <tr style=\"text-align: right;\">\n",
              "      <th></th>\n",
              "      <th>id_abon</th>\n",
              "    </tr>\n",
              "  </thead>\n",
              "  <tbody>\n",
              "    <tr>\n",
              "      <th>0</th>\n",
              "      <td>6</td>\n",
              "    </tr>\n",
              "    <tr>\n",
              "      <th>1</th>\n",
              "      <td>1</td>\n",
              "    </tr>\n",
              "  </tbody>\n",
              "</table>\n",
              "</div>"
            ],
            "text/plain": [
              "   id_abon\n",
              "0        6\n",
              "1        1"
            ]
          },
          "execution_count": 9,
          "metadata": {},
          "output_type": "execute_result"
        }
      ],
      "source": [
        "## Решение\n",
        "query='''\n",
        "select distinct id_abon\n",
        "from abnt a \n",
        "where id_abon not in(\n",
        "select id_abon\n",
        "from roam r)\n",
        "'''\n",
        "\n",
        "# Проверка данных\n",
        "third_2 = pd.read_sql_query(query, con=engine) \n",
        "third_2.head()"
      ]
    },
    {
      "cell_type": "markdown",
      "id": "92716826",
      "metadata": {
        "id": "92716826"
      },
      "source": [
        "#### Запрос 3\n",
        "\n",
        "В таблицах abnt и roam также хранятся данные о тратах абонентов. В таблице\n",
        "abnt есть все начисления абонентов, в таблице roam начисления в роуминге.  \n",
        "Напишите SQL запрос, который выведет всех абонентов с начислениями в\n",
        "домашней сети больше 0.  \n",
        "Начисления в домашней сети= все начисления (abnt.clc)  - начисления в роуминге\n",
        "(roam.clc)."
      ]
    },
    {
      "cell_type": "code",
      "execution_count": null,
      "id": "be3dfeb8",
      "metadata": {
        "id": "be3dfeb8",
        "outputId": "3833be08-fffe-4404-f3e6-4982f43ed1e2"
      },
      "outputs": [
        {
          "data": {
            "text/html": [
              "<div>\n",
              "<style scoped>\n",
              "    .dataframe tbody tr th:only-of-type {\n",
              "        vertical-align: middle;\n",
              "    }\n",
              "\n",
              "    .dataframe tbody tr th {\n",
              "        vertical-align: top;\n",
              "    }\n",
              "\n",
              "    .dataframe thead th {\n",
              "        text-align: right;\n",
              "    }\n",
              "</style>\n",
              "<table border=\"1\" class=\"dataframe\">\n",
              "  <thead>\n",
              "    <tr style=\"text-align: right;\">\n",
              "      <th></th>\n",
              "      <th>id_abon</th>\n",
              "      <th>clc</th>\n",
              "    </tr>\n",
              "  </thead>\n",
              "  <tbody>\n",
              "    <tr>\n",
              "      <th>0</th>\n",
              "      <td>4</td>\n",
              "      <td>300</td>\n",
              "    </tr>\n",
              "    <tr>\n",
              "      <th>1</th>\n",
              "      <td>2</td>\n",
              "      <td>0</td>\n",
              "    </tr>\n",
              "    <tr>\n",
              "      <th>2</th>\n",
              "      <td>3</td>\n",
              "      <td>0</td>\n",
              "    </tr>\n",
              "    <tr>\n",
              "      <th>3</th>\n",
              "      <td>5</td>\n",
              "      <td>0</td>\n",
              "    </tr>\n",
              "    <tr>\n",
              "      <th>4</th>\n",
              "      <td>7</td>\n",
              "      <td>0</td>\n",
              "    </tr>\n",
              "  </tbody>\n",
              "</table>\n",
              "</div>"
            ],
            "text/plain": [
              "   id_abon  clc\n",
              "0        4  300\n",
              "1        2    0\n",
              "2        3    0\n",
              "3        5    0\n",
              "4        7    0"
            ]
          },
          "execution_count": 10,
          "metadata": {},
          "output_type": "execute_result"
        }
      ],
      "source": [
        "## Решение\n",
        "query='''\n",
        "select a.id_abon, a.clc - r.clc as clc\n",
        "from abnt a \n",
        "join roam r on r.id_abon = a.id_abon\n",
        "order by clc desc\n",
        "'''\n",
        "\n",
        "# Проверка данных\n",
        "third_3 = pd.read_sql_query(query, con=engine) \n",
        "third_3.head()"
      ]
    },
    {
      "cell_type": "markdown",
      "id": "ecd5167c",
      "metadata": {
        "id": "ecd5167c"
      },
      "source": [
        "#### Запрос 4\n",
        "\n",
        "Используя данные таблицы calls, выведите id всех абонентов, у которых было\n",
        "больше 5 звонков в роуминге."
      ]
    },
    {
      "cell_type": "code",
      "execution_count": null,
      "id": "56609c11",
      "metadata": {
        "id": "56609c11",
        "outputId": "8da99e2e-3931-435f-90f8-9c034c7ac239"
      },
      "outputs": [
        {
          "data": {
            "text/html": [
              "<div>\n",
              "<style scoped>\n",
              "    .dataframe tbody tr th:only-of-type {\n",
              "        vertical-align: middle;\n",
              "    }\n",
              "\n",
              "    .dataframe tbody tr th {\n",
              "        vertical-align: top;\n",
              "    }\n",
              "\n",
              "    .dataframe thead th {\n",
              "        text-align: right;\n",
              "    }\n",
              "</style>\n",
              "<table border=\"1\" class=\"dataframe\">\n",
              "  <thead>\n",
              "    <tr style=\"text-align: right;\">\n",
              "      <th></th>\n",
              "      <th>id_abon</th>\n",
              "    </tr>\n",
              "  </thead>\n",
              "  <tbody>\n",
              "    <tr>\n",
              "      <th>0</th>\n",
              "      <td>1</td>\n",
              "    </tr>\n",
              "  </tbody>\n",
              "</table>\n",
              "</div>"
            ],
            "text/plain": [
              "   id_abon\n",
              "0        1"
            ]
          },
          "execution_count": 11,
          "metadata": {},
          "output_type": "execute_result"
        }
      ],
      "source": [
        "## Решение\n",
        "query='''\n",
        "select distinct id_abon\n",
        "from calls c \n",
        "where roaming = 1\n",
        "group by id_abon \n",
        "having count(roaming) > 5\n",
        "'''\n",
        "\n",
        "# Проверка данных\n",
        "third_4 = pd.read_sql_query(query, con=engine) \n",
        "third_4.head()"
      ]
    },
    {
      "cell_type": "markdown",
      "id": "538b5f3d",
      "metadata": {
        "id": "538b5f3d"
      },
      "source": [
        "#### Запрос 5\n",
        "\n",
        "Используя данные таблицы calls, выведите периоды нахождения абонентов в\n",
        "роуминге. Время пребывания в роуминге определяется непрерывной последовательностью звонков в роуминге."
      ]
    },
    {
      "cell_type": "code",
      "execution_count": null,
      "id": "18761746",
      "metadata": {
        "id": "18761746",
        "outputId": "64f13716-0668-40b8-fe60-9d28b7497a8b"
      },
      "outputs": [
        {
          "data": {
            "text/html": [
              "<div>\n",
              "<style scoped>\n",
              "    .dataframe tbody tr th:only-of-type {\n",
              "        vertical-align: middle;\n",
              "    }\n",
              "\n",
              "    .dataframe tbody tr th {\n",
              "        vertical-align: top;\n",
              "    }\n",
              "\n",
              "    .dataframe thead th {\n",
              "        text-align: right;\n",
              "    }\n",
              "</style>\n",
              "<table border=\"1\" class=\"dataframe\">\n",
              "  <thead>\n",
              "    <tr style=\"text-align: right;\">\n",
              "      <th></th>\n",
              "      <th>id_abon</th>\n",
              "      <th>period_on_roam</th>\n",
              "    </tr>\n",
              "  </thead>\n",
              "  <tbody>\n",
              "    <tr>\n",
              "      <th>0</th>\n",
              "      <td>1</td>\n",
              "      <td>03.01-04.01</td>\n",
              "    </tr>\n",
              "    <tr>\n",
              "      <th>1</th>\n",
              "      <td>1</td>\n",
              "      <td>04.01-05.01</td>\n",
              "    </tr>\n",
              "    <tr>\n",
              "      <th>2</th>\n",
              "      <td>1</td>\n",
              "      <td>05.01-06.01</td>\n",
              "    </tr>\n",
              "    <tr>\n",
              "      <th>3</th>\n",
              "      <td>1</td>\n",
              "      <td>None</td>\n",
              "    </tr>\n",
              "    <tr>\n",
              "      <th>4</th>\n",
              "      <td>4</td>\n",
              "      <td>None</td>\n",
              "    </tr>\n",
              "  </tbody>\n",
              "</table>\n",
              "</div>"
            ],
            "text/plain": [
              "   id_abon period_on_roam\n",
              "0        1    03.01-04.01\n",
              "1        1    04.01-05.01\n",
              "2        1    05.01-06.01\n",
              "3        1           None\n",
              "4        4           None"
            ]
          },
          "execution_count": 12,
          "metadata": {},
          "output_type": "execute_result"
        }
      ],
      "source": [
        "## Решение\n",
        "query='''\n",
        "with ol as (select id_abon,\n",
        "date as day,\n",
        "lag(date) over (partition by id_abon order by date_trunc('day',date)) as prev_day,\n",
        "lead(date) over (partition by id_abon order by date_trunc('day',date)) as next_day\n",
        "from calls c\n",
        "where roaming = 1\n",
        ")\n",
        "select  distinct id_abon, case\n",
        "when prev_day+1 = day then concat(to_char(prev_day, 'dd.MM'),'-',to_char(day, 'dd.MM'))\n",
        "when next_day-1 = day then concat(to_char(day, 'dd.MM'),'-',to_char(next_day, 'dd.MM'))\n",
        "else NULL\n",
        "end as period_on_roam\n",
        "from ol\n",
        "'''\n",
        "\n",
        "# Проверка данных\n",
        "third_5 = pd.read_sql_query(query, con=engine) \n",
        "third_5.head()"
      ]
    },
    {
      "cell_type": "markdown",
      "id": "4b59cceb",
      "metadata": {
        "id": "4b59cceb"
      },
      "source": [
        "### Задача 4"
      ]
    },
    {
      "cell_type": "markdown",
      "id": "bb927521",
      "metadata": {
        "id": "bb927521"
      },
      "source": [
        "У вас есть две таблицы:\n",
        "* t1 - данные по заявкам на Подбор кредита с сайта Сравни.ру;\n",
        "* t2 - выгрузка банка о решениях по выдаче кредита.\n",
        "Напишите SQL-запрос, содержащий всех пользователей, получивших кредит.\n",
        "![image.png](attachment:image.png)"
      ]
    },
    {
      "cell_type": "code",
      "execution_count": null,
      "id": "abff79e2",
      "metadata": {
        "id": "abff79e2",
        "outputId": "49dd953a-af8f-48cf-b177-54e482b6924b"
      },
      "outputs": [
        {
          "data": {
            "text/html": [
              "<div>\n",
              "<style scoped>\n",
              "    .dataframe tbody tr th:only-of-type {\n",
              "        vertical-align: middle;\n",
              "    }\n",
              "\n",
              "    .dataframe tbody tr th {\n",
              "        vertical-align: top;\n",
              "    }\n",
              "\n",
              "    .dataframe thead th {\n",
              "        text-align: right;\n",
              "    }\n",
              "</style>\n",
              "<table border=\"1\" class=\"dataframe\">\n",
              "  <thead>\n",
              "    <tr style=\"text-align: right;\">\n",
              "      <th></th>\n",
              "      <th>id</th>\n",
              "      <th>surname</th>\n",
              "      <th>birthday</th>\n",
              "      <th>amount</th>\n",
              "      <th>salary</th>\n",
              "      <th>status</th>\n",
              "    </tr>\n",
              "  </thead>\n",
              "  <tbody>\n",
              "    <tr>\n",
              "      <th>0</th>\n",
              "      <td>77664</td>\n",
              "      <td>Мамин-Сибиряк</td>\n",
              "      <td>2003-01-20</td>\n",
              "      <td>6000000</td>\n",
              "      <td>58000</td>\n",
              "      <td>выдан</td>\n",
              "    </tr>\n",
              "    <tr>\n",
              "      <th>1</th>\n",
              "      <td>52183</td>\n",
              "      <td>Васильев</td>\n",
              "      <td>1956-07-05</td>\n",
              "      <td>750000</td>\n",
              "      <td>98000</td>\n",
              "      <td>выдан</td>\n",
              "    </tr>\n",
              "  </tbody>\n",
              "</table>\n",
              "</div>"
            ],
            "text/plain": [
              "      id        surname    birthday   amount  salary status\n",
              "0  77664  Мамин-Сибиряк  2003-01-20  6000000   58000  выдан\n",
              "1  52183       Васильев  1956-07-05   750000   98000  выдан"
            ]
          },
          "execution_count": 15,
          "metadata": {},
          "output_type": "execute_result"
        }
      ],
      "source": [
        "## Решение\n",
        "query='''\n",
        "select t1.*, t2.status \n",
        "from t1\n",
        "left join t2 on t2.id = t1.id\n",
        "where t2.status = 'выдан'\n",
        "'''\n",
        "## лучше вариант с \"where t2.status like '%выд%'\"\n",
        "\n",
        "# Проверка данных\n",
        "fourh = pd.read_sql_query(query, con=engine) \n",
        "fourh.head()"
      ]
    }
  ],
  "metadata": {
    "kernelspec": {
      "display_name": "Python 3 (ipykernel)",
      "language": "python",
      "name": "python3"
    },
    "language_info": {
      "codemirror_mode": {
        "name": "ipython",
        "version": 3
      },
      "file_extension": ".py",
      "mimetype": "text/x-python",
      "name": "python",
      "nbconvert_exporter": "python",
      "pygments_lexer": "ipython3",
      "version": "3.9.12"
    },
    "colab": {
      "provenance": [],
      "include_colab_link": true
    }
  },
  "nbformat": 4,
  "nbformat_minor": 5
}