{
  "cells": [
    {
      "cell_type": "markdown",
      "metadata": {
        "id": "JPmr8DHwJ9eS"
      },
      "source": [
        "# Принятие решений в бизнесе\n",
        "\n",
        "## Описание проекта\n",
        "\n",
        "Вы — aналитик крупного интернет-магазина. Вместе с отделом маркетинга вы подготовили список гипотез для увеличения выручки.\n",
        "Приоритизируйте гипотезы, запустите A/B-тест и проанализируйте результаты. \n",
        "\n",
        "## Цель проекта\n",
        "\n",
        "Приоритезровать гипотезы и проанализировать результаты A/B-теста\n",
        "\n",
        "## Задачи\n",
        "\n",
        "### Часть 1. Приоритезация гипотез\n",
        "\n",
        "- [x] Применить фреймворк ICE для приоритизации гипотез. Отсортировать их по убыванию приоритета.\n",
        "- [x] Применить фреймворк RICE для приоритизации гипотез. Отсортировать их по убыванию приоритета.\n",
        "- [x] Указать, как изменилась приоритизация гипотез при применении RICE вместо ICE. Объяснить результаты.\n",
        "\n",
        "### Часть 2. Анализ A/B-теста\n",
        "\n",
        "- [x] Построить график кумулятивной выручки по группам. Сделать выводы и предположения.\n",
        "- [x] Построить график кумулятивного среднего чека по группам. Сделать выводы и предположения.\n",
        "- [x] Построить график относительного изменения кумулятивного среднего чека группы B к группе A. Сделать выводы и предположения.\n",
        "- [x] Построить график кумулятивного среднего количества заказов на посетителя по группам. Сделать выводы и предположения.\n",
        "- [x] Построить график относительного изменения кумулятивного среднего количества заказов на посетителя группы B к группе A. Сделать выводы и предположения.\n",
        "- [x] Построить точечный график количества заказов по пользователям. Сделать выводы и предположения.\n",
        "- [x] Посчитать 95-й и 99-й перцентили количества заказов на пользователя. Выберать границу для определения аномальных пользователей.\n",
        "- [x] Построить точечный график стоимостей заказов. Сделать выводы и предположения.\n",
        "- [x] Посчитать 95-й и 99-й перцентили стоимости заказов. Выберать границу для определения аномальных заказов.\n",
        "- [x] Посчитать статистическую значимость различий в среднем количестве заказов на посетителя между группами по «сырым» данным. Сделать выводы и предположения.\n",
        "- [x] Посчитать статистическую значимость различий в среднем чеке заказа между группами по «сырым» данным. Сделать выводы и предположения.\n",
        "- [x] Посчитать статистическую значимость различий в среднем количестве заказов на посетителя между группами по «очищенным» данным. Сделать выводы и предположения.\n",
        "- [x] Посчитать статистическую значимость различий в среднем чеке заказа между группами по «очищенным» данным. Сделать выводы и предположения.\n",
        "- [x] Принять решение по результатам теста и объяснить его. Варианты решений:\n",
        "    * Остановить тест, зафиксировать победу одной из групп.\n",
        "    * Остановить тест, зафиксировать отсутствие различий между группами.\n",
        "    * Продолжить тест.\n",
        "    \n",
        "## Описание данных\n",
        "\n",
        "Файл /datasets/hypothesis.csv <a href=\"https://code.s3.yandex.net/datasets/hypothesis.csv\">(скачать датасет)</a></p>:\n",
        "* Hypothesis — краткое описание гипотезы;\n",
        "* Reach — охват пользователей по 10-балльной шкале;\n",
        "* Impact — влияние на пользователей по 10-балльной шкале;\n",
        "* Confidence — уверенность в гипотезе по 10-балльной шкале;\n",
        "* Efforts — затраты ресурсов на проверку гипотезы по 10-балльной шкале. Чем больше значение Efforts, тем дороже проверка гипотезы.\n",
        "\n",
        "Файл /datasets/orders.csv <a href=\"https://code.s3.yandex.net/datasets/orders.csv\">(скачать датасет)</a></p>:\n",
        "* transactionId — идентификатор заказа;\n",
        "* visitorId — идентификатор пользователя, совершившего заказ;\n",
        "* date — дата, когда был совершён заказ;\n",
        "* revenue — выручка заказа;\n",
        "* group — группа A/B-теста, в которую попал заказ.\n",
        "\n",
        "Файл /datasets/visitors.csv <a href=\"https://code.s3.yandex.net/datasets/visitors.csv\">(скачать датасет)</a></p>:\n",
        "* date — дата;\n",
        "* group — группа A/B-теста;\n",
        "* visitors — количество пользователей в указанную дату в указанной группе A/B-теста"
      ]
    },
    {
      "cell_type": "code",
      "execution_count": null,
      "metadata": {
        "id": "vlU7Zqc3J9eW"
      },
      "outputs": [],
      "source": [
        "import pandas as pd\n",
        "import seaborn as sns\n",
        "import matplotlib.pyplot as plt\n",
        "import numpy as np\n",
        "import datetime as dt\n",
        "import re\n",
        "import math\n",
        "import ast\n",
        "import plotly.express as px\n",
        "from datetime import datetime, timedelta, date\n",
        "from pandas.plotting import register_matplotlib_converters\n",
        "import warnings\n",
        "import scipy.stats as stats\n",
        "# конвертеры, которые позволяют использовать типы pandas в matplotlib  \n",
        "register_matplotlib_converters()"
      ]
    },
    {
      "cell_type": "code",
      "execution_count": null,
      "metadata": {
        "id": "1I_KJjXiJ9eX"
      },
      "outputs": [],
      "source": [
        "sns.set_style('darkgrid')\n",
        "pd.set_option('display.max_colwidth', False)"
      ]
    },
    {
      "cell_type": "code",
      "execution_count": null,
      "metadata": {
        "id": "8-1MDx_gJ9eX"
      },
      "outputs": [],
      "source": [
        "try: \n",
        "    hypothesis = pd.read_csv('hypothesis.csv')\n",
        "    orders = pd.read_csv('orders.csv')\n",
        "    visitors = pd.read_csv('visitors.csv')\n",
        "except:\n",
        "    hypothesis = pd.read_csv('https://code.s3.yandex.net/datasets/hypothesis.csv')\n",
        "    orders = pd.read_csv('https://code.s3.yandex.net/datasets/orders.csv')\n",
        "    visitors = pd.read_csv('https://code.s3.yandex.net/datasets/visitors.csv')"
      ]
    },
    {
      "cell_type": "markdown",
      "metadata": {
        "id": "b2PTiFZuJ9eY"
      },
      "source": [
        "## Приоритезация гипотез"
      ]
    },
    {
      "cell_type": "code",
      "execution_count": null,
      "metadata": {
        "scrolled": false,
        "id": "m7rFXYKXJ9eY",
        "outputId": "deff6612-caff-43da-f68a-f1df87ed5462"
      },
      "outputs": [
        {
          "data": {
            "text/html": [
              "<div>\n",
              "<style scoped>\n",
              "    .dataframe tbody tr th:only-of-type {\n",
              "        vertical-align: middle;\n",
              "    }\n",
              "\n",
              "    .dataframe tbody tr th {\n",
              "        vertical-align: top;\n",
              "    }\n",
              "\n",
              "    .dataframe thead th {\n",
              "        text-align: right;\n",
              "    }\n",
              "</style>\n",
              "<table border=\"1\" class=\"dataframe\">\n",
              "  <thead>\n",
              "    <tr style=\"text-align: right;\">\n",
              "      <th></th>\n",
              "      <th>Hypothesis</th>\n",
              "      <th>Reach</th>\n",
              "      <th>Impact</th>\n",
              "      <th>Confidence</th>\n",
              "      <th>Efforts</th>\n",
              "    </tr>\n",
              "  </thead>\n",
              "  <tbody>\n",
              "    <tr>\n",
              "      <th>0</th>\n",
              "      <td>Добавить два новых канала привлечения трафика, что позволит привлекать на 30% больше пользователей</td>\n",
              "      <td>3</td>\n",
              "      <td>10</td>\n",
              "      <td>8</td>\n",
              "      <td>6</td>\n",
              "    </tr>\n",
              "    <tr>\n",
              "      <th>1</th>\n",
              "      <td>Запустить собственную службу доставки, что сократит срок доставки заказов</td>\n",
              "      <td>2</td>\n",
              "      <td>5</td>\n",
              "      <td>4</td>\n",
              "      <td>10</td>\n",
              "    </tr>\n",
              "    <tr>\n",
              "      <th>2</th>\n",
              "      <td>Добавить блоки рекомендаций товаров на сайт интернет магазина, чтобы повысить конверсию и средний чек заказа</td>\n",
              "      <td>8</td>\n",
              "      <td>3</td>\n",
              "      <td>7</td>\n",
              "      <td>3</td>\n",
              "    </tr>\n",
              "    <tr>\n",
              "      <th>3</th>\n",
              "      <td>Изменить структура категорий, что увеличит конверсию, т.к. пользователи быстрее найдут нужный товар</td>\n",
              "      <td>8</td>\n",
              "      <td>3</td>\n",
              "      <td>3</td>\n",
              "      <td>8</td>\n",
              "    </tr>\n",
              "    <tr>\n",
              "      <th>4</th>\n",
              "      <td>Изменить цвет фона главной страницы, чтобы увеличить вовлеченность пользователей</td>\n",
              "      <td>3</td>\n",
              "      <td>1</td>\n",
              "      <td>1</td>\n",
              "      <td>1</td>\n",
              "    </tr>\n",
              "    <tr>\n",
              "      <th>5</th>\n",
              "      <td>Добавить страницу отзывов клиентов о магазине, что позволит увеличить количество заказов</td>\n",
              "      <td>3</td>\n",
              "      <td>2</td>\n",
              "      <td>2</td>\n",
              "      <td>3</td>\n",
              "    </tr>\n",
              "    <tr>\n",
              "      <th>6</th>\n",
              "      <td>Показать на главной странице баннеры с актуальными акциями и распродажами, чтобы увеличить конверсию</td>\n",
              "      <td>5</td>\n",
              "      <td>3</td>\n",
              "      <td>8</td>\n",
              "      <td>3</td>\n",
              "    </tr>\n",
              "    <tr>\n",
              "      <th>7</th>\n",
              "      <td>Добавить форму подписки на все основные страницы, чтобы собрать базу клиентов для email-рассылок</td>\n",
              "      <td>10</td>\n",
              "      <td>7</td>\n",
              "      <td>8</td>\n",
              "      <td>5</td>\n",
              "    </tr>\n",
              "    <tr>\n",
              "      <th>8</th>\n",
              "      <td>Запустить акцию, дающую скидку на товар в день рождения</td>\n",
              "      <td>1</td>\n",
              "      <td>9</td>\n",
              "      <td>9</td>\n",
              "      <td>5</td>\n",
              "    </tr>\n",
              "  </tbody>\n",
              "</table>\n",
              "</div>"
            ],
            "text/plain": [
              "                                                                                                     Hypothesis  \\\n",
              "0  Добавить два новых канала привлечения трафика, что позволит привлекать на 30% больше пользователей             \n",
              "1  Запустить собственную службу доставки, что сократит срок доставки заказов                                      \n",
              "2  Добавить блоки рекомендаций товаров на сайт интернет магазина, чтобы повысить конверсию и средний чек заказа   \n",
              "3  Изменить структура категорий, что увеличит конверсию, т.к. пользователи быстрее найдут нужный товар            \n",
              "4  Изменить цвет фона главной страницы, чтобы увеличить вовлеченность пользователей                               \n",
              "5  Добавить страницу отзывов клиентов о магазине, что позволит увеличить количество заказов                       \n",
              "6  Показать на главной странице баннеры с актуальными акциями и распродажами, чтобы увеличить конверсию           \n",
              "7  Добавить форму подписки на все основные страницы, чтобы собрать базу клиентов для email-рассылок               \n",
              "8  Запустить акцию, дающую скидку на товар в день рождения                                                        \n",
              "\n",
              "   Reach  Impact  Confidence  Efforts  \n",
              "0  3      10      8           6        \n",
              "1  2      5       4           10       \n",
              "2  8      3       7           3        \n",
              "3  8      3       3           8        \n",
              "4  3      1       1           1        \n",
              "5  3      2       2           3        \n",
              "6  5      3       8           3        \n",
              "7  10     7       8           5        \n",
              "8  1      9       9           5        "
            ]
          },
          "execution_count": 4,
          "metadata": {},
          "output_type": "execute_result"
        }
      ],
      "source": [
        "hypothesis"
      ]
    },
    {
      "cell_type": "markdown",
      "metadata": {
        "id": "NF0d0U35J9eZ"
      },
      "source": [
        "### Фреймворк ICE"
      ]
    },
    {
      "cell_type": "code",
      "execution_count": null,
      "metadata": {
        "scrolled": true,
        "id": "X5f5_B0TJ9eZ",
        "outputId": "cfc28441-67fb-4b96-a193-e53739998794"
      },
      "outputs": [
        {
          "data": {
            "text/html": [
              "<div>\n",
              "<style scoped>\n",
              "    .dataframe tbody tr th:only-of-type {\n",
              "        vertical-align: middle;\n",
              "    }\n",
              "\n",
              "    .dataframe tbody tr th {\n",
              "        vertical-align: top;\n",
              "    }\n",
              "\n",
              "    .dataframe thead th {\n",
              "        text-align: right;\n",
              "    }\n",
              "</style>\n",
              "<table border=\"1\" class=\"dataframe\">\n",
              "  <thead>\n",
              "    <tr style=\"text-align: right;\">\n",
              "      <th></th>\n",
              "      <th>Hypothesis</th>\n",
              "      <th>ICE</th>\n",
              "    </tr>\n",
              "  </thead>\n",
              "  <tbody>\n",
              "    <tr>\n",
              "      <th>8</th>\n",
              "      <td>Запустить акцию, дающую скидку на товар в день рождения</td>\n",
              "      <td>16.20</td>\n",
              "    </tr>\n",
              "    <tr>\n",
              "      <th>0</th>\n",
              "      <td>Добавить два новых канала привлечения трафика, что позволит привлекать на 30% больше пользователей</td>\n",
              "      <td>13.33</td>\n",
              "    </tr>\n",
              "    <tr>\n",
              "      <th>7</th>\n",
              "      <td>Добавить форму подписки на все основные страницы, чтобы собрать базу клиентов для email-рассылок</td>\n",
              "      <td>11.20</td>\n",
              "    </tr>\n",
              "    <tr>\n",
              "      <th>6</th>\n",
              "      <td>Показать на главной странице баннеры с актуальными акциями и распродажами, чтобы увеличить конверсию</td>\n",
              "      <td>8.00</td>\n",
              "    </tr>\n",
              "    <tr>\n",
              "      <th>2</th>\n",
              "      <td>Добавить блоки рекомендаций товаров на сайт интернет магазина, чтобы повысить конверсию и средний чек заказа</td>\n",
              "      <td>7.00</td>\n",
              "    </tr>\n",
              "    <tr>\n",
              "      <th>1</th>\n",
              "      <td>Запустить собственную службу доставки, что сократит срок доставки заказов</td>\n",
              "      <td>2.00</td>\n",
              "    </tr>\n",
              "    <tr>\n",
              "      <th>5</th>\n",
              "      <td>Добавить страницу отзывов клиентов о магазине, что позволит увеличить количество заказов</td>\n",
              "      <td>1.33</td>\n",
              "    </tr>\n",
              "    <tr>\n",
              "      <th>3</th>\n",
              "      <td>Изменить структура категорий, что увеличит конверсию, т.к. пользователи быстрее найдут нужный товар</td>\n",
              "      <td>1.12</td>\n",
              "    </tr>\n",
              "    <tr>\n",
              "      <th>4</th>\n",
              "      <td>Изменить цвет фона главной страницы, чтобы увеличить вовлеченность пользователей</td>\n",
              "      <td>1.00</td>\n",
              "    </tr>\n",
              "  </tbody>\n",
              "</table>\n",
              "</div>"
            ],
            "text/plain": [
              "                                                                                                     Hypothesis  \\\n",
              "8  Запустить акцию, дающую скидку на товар в день рождения                                                        \n",
              "0  Добавить два новых канала привлечения трафика, что позволит привлекать на 30% больше пользователей             \n",
              "7  Добавить форму подписки на все основные страницы, чтобы собрать базу клиентов для email-рассылок               \n",
              "6  Показать на главной странице баннеры с актуальными акциями и распродажами, чтобы увеличить конверсию           \n",
              "2  Добавить блоки рекомендаций товаров на сайт интернет магазина, чтобы повысить конверсию и средний чек заказа   \n",
              "1  Запустить собственную службу доставки, что сократит срок доставки заказов                                      \n",
              "5  Добавить страницу отзывов клиентов о магазине, что позволит увеличить количество заказов                       \n",
              "3  Изменить структура категорий, что увеличит конверсию, т.к. пользователи быстрее найдут нужный товар            \n",
              "4  Изменить цвет фона главной страницы, чтобы увеличить вовлеченность пользователей                               \n",
              "\n",
              "     ICE  \n",
              "8  16.20  \n",
              "0  13.33  \n",
              "7  11.20  \n",
              "6  8.00   \n",
              "2  7.00   \n",
              "1  2.00   \n",
              "5  1.33   \n",
              "3  1.12   \n",
              "4  1.00   "
            ]
          },
          "execution_count": 5,
          "metadata": {},
          "output_type": "execute_result"
        }
      ],
      "source": [
        "hypothesis['ICE'] = round(hypothesis['Impact'] * hypothesis['Confidence'] / hypothesis['Efforts'],2)\n",
        "hypothesis[['Hypothesis', 'ICE']].sort_values(by='ICE', ascending=False)"
      ]
    },
    {
      "cell_type": "markdown",
      "metadata": {
        "id": "iN1DWj2lJ9ea"
      },
      "source": [
        "### Фреймворк RICE"
      ]
    },
    {
      "cell_type": "code",
      "execution_count": null,
      "metadata": {
        "id": "jhGHlh7nJ9ea",
        "outputId": "15636c70-bca3-43ca-9d2e-416495d517f9"
      },
      "outputs": [
        {
          "data": {
            "text/html": [
              "<div>\n",
              "<style scoped>\n",
              "    .dataframe tbody tr th:only-of-type {\n",
              "        vertical-align: middle;\n",
              "    }\n",
              "\n",
              "    .dataframe tbody tr th {\n",
              "        vertical-align: top;\n",
              "    }\n",
              "\n",
              "    .dataframe thead th {\n",
              "        text-align: right;\n",
              "    }\n",
              "</style>\n",
              "<table border=\"1\" class=\"dataframe\">\n",
              "  <thead>\n",
              "    <tr style=\"text-align: right;\">\n",
              "      <th></th>\n",
              "      <th>Hypothesis</th>\n",
              "      <th>RICE</th>\n",
              "    </tr>\n",
              "  </thead>\n",
              "  <tbody>\n",
              "    <tr>\n",
              "      <th>7</th>\n",
              "      <td>Добавить форму подписки на все основные страницы, чтобы собрать базу клиентов для email-рассылок</td>\n",
              "      <td>112.0</td>\n",
              "    </tr>\n",
              "    <tr>\n",
              "      <th>2</th>\n",
              "      <td>Добавить блоки рекомендаций товаров на сайт интернет магазина, чтобы повысить конверсию и средний чек заказа</td>\n",
              "      <td>56.0</td>\n",
              "    </tr>\n",
              "    <tr>\n",
              "      <th>0</th>\n",
              "      <td>Добавить два новых канала привлечения трафика, что позволит привлекать на 30% больше пользователей</td>\n",
              "      <td>40.0</td>\n",
              "    </tr>\n",
              "    <tr>\n",
              "      <th>6</th>\n",
              "      <td>Показать на главной странице баннеры с актуальными акциями и распродажами, чтобы увеличить конверсию</td>\n",
              "      <td>40.0</td>\n",
              "    </tr>\n",
              "    <tr>\n",
              "      <th>8</th>\n",
              "      <td>Запустить акцию, дающую скидку на товар в день рождения</td>\n",
              "      <td>16.2</td>\n",
              "    </tr>\n",
              "    <tr>\n",
              "      <th>3</th>\n",
              "      <td>Изменить структура категорий, что увеличит конверсию, т.к. пользователи быстрее найдут нужный товар</td>\n",
              "      <td>9.0</td>\n",
              "    </tr>\n",
              "    <tr>\n",
              "      <th>1</th>\n",
              "      <td>Запустить собственную службу доставки, что сократит срок доставки заказов</td>\n",
              "      <td>4.0</td>\n",
              "    </tr>\n",
              "    <tr>\n",
              "      <th>5</th>\n",
              "      <td>Добавить страницу отзывов клиентов о магазине, что позволит увеличить количество заказов</td>\n",
              "      <td>4.0</td>\n",
              "    </tr>\n",
              "    <tr>\n",
              "      <th>4</th>\n",
              "      <td>Изменить цвет фона главной страницы, чтобы увеличить вовлеченность пользователей</td>\n",
              "      <td>3.0</td>\n",
              "    </tr>\n",
              "  </tbody>\n",
              "</table>\n",
              "</div>"
            ],
            "text/plain": [
              "                                                                                                     Hypothesis  \\\n",
              "7  Добавить форму подписки на все основные страницы, чтобы собрать базу клиентов для email-рассылок               \n",
              "2  Добавить блоки рекомендаций товаров на сайт интернет магазина, чтобы повысить конверсию и средний чек заказа   \n",
              "0  Добавить два новых канала привлечения трафика, что позволит привлекать на 30% больше пользователей             \n",
              "6  Показать на главной странице баннеры с актуальными акциями и распродажами, чтобы увеличить конверсию           \n",
              "8  Запустить акцию, дающую скидку на товар в день рождения                                                        \n",
              "3  Изменить структура категорий, что увеличит конверсию, т.к. пользователи быстрее найдут нужный товар            \n",
              "1  Запустить собственную службу доставки, что сократит срок доставки заказов                                      \n",
              "5  Добавить страницу отзывов клиентов о магазине, что позволит увеличить количество заказов                       \n",
              "4  Изменить цвет фона главной страницы, чтобы увеличить вовлеченность пользователей                               \n",
              "\n",
              "    RICE  \n",
              "7  112.0  \n",
              "2  56.0   \n",
              "0  40.0   \n",
              "6  40.0   \n",
              "8  16.2   \n",
              "3  9.0    \n",
              "1  4.0    \n",
              "5  4.0    \n",
              "4  3.0    "
            ]
          },
          "execution_count": 6,
          "metadata": {},
          "output_type": "execute_result"
        }
      ],
      "source": [
        "hypothesis['RICE'] = hypothesis['Reach'] * hypothesis['Impact'] * hypothesis['Confidence'] / hypothesis['Efforts']\n",
        "hypothesis[['Hypothesis', 'RICE']].sort_values(by='RICE', ascending=False)"
      ]
    },
    {
      "cell_type": "markdown",
      "metadata": {
        "id": "KmvdyHtPJ9eb"
      },
      "source": [
        "### Результаты приоретизации"
      ]
    },
    {
      "cell_type": "markdown",
      "metadata": {
        "id": "9YPHx3ruJ9eb"
      },
      "source": [
        "В приоритезации гипотез фрейморков ICE первые четыре места заняли гипотезы под порядковыми номерами: 8, 0, 7, 6  \n",
        "В приоритезации гипотез фрейморков RICE первые четыре места занили гипотезы под порядковыми номерами: 7, 2, 0, 6\n",
        "\n",
        "* Гипотеза под номерам 7 после применения фреймворка RICE заняла первое место, так как у нее максимальное значение влияние на пользователей (охват), в то время как у гипотезы под номеров 8 Охват равен 1.  \n",
        "* Второе место заняла гипотеза под номером 2, у нее также высокий балл влияние на пользователей.  \n",
        "* Неизменным на четвертой позиции осталась гипотеза под номером 6"
      ]
    },
    {
      "cell_type": "markdown",
      "metadata": {
        "id": "9UOLjP3kJ9eb"
      },
      "source": [
        "## Анализ A/B-теста"
      ]
    },
    {
      "cell_type": "code",
      "execution_count": null,
      "metadata": {
        "id": "W02NDwyPJ9eb",
        "outputId": "9c29e27a-5113-4e7b-f56e-79e2d22b9c48"
      },
      "outputs": [
        {
          "name": "stdout",
          "output_type": "stream",
          "text": [
            "<class 'pandas.core.frame.DataFrame'>\n",
            "RangeIndex: 1197 entries, 0 to 1196\n",
            "Data columns (total 5 columns):\n",
            " #   Column         Non-Null Count  Dtype \n",
            "---  ------         --------------  ----- \n",
            " 0   transactionId  1197 non-null   int64 \n",
            " 1   visitorId      1197 non-null   int64 \n",
            " 2   date           1197 non-null   object\n",
            " 3   revenue        1197 non-null   int64 \n",
            " 4   group          1197 non-null   object\n",
            "dtypes: int64(3), object(2)\n",
            "memory usage: 46.9+ KB\n"
          ]
        }
      ],
      "source": [
        "orders.info()"
      ]
    },
    {
      "cell_type": "code",
      "execution_count": null,
      "metadata": {
        "id": "2FfQZrpYJ9ec",
        "outputId": "77a9467a-a857-40df-cc61-b641e6078db1"
      },
      "outputs": [
        {
          "data": {
            "text/html": [
              "<div>\n",
              "<style scoped>\n",
              "    .dataframe tbody tr th:only-of-type {\n",
              "        vertical-align: middle;\n",
              "    }\n",
              "\n",
              "    .dataframe tbody tr th {\n",
              "        vertical-align: top;\n",
              "    }\n",
              "\n",
              "    .dataframe thead th {\n",
              "        text-align: right;\n",
              "    }\n",
              "</style>\n",
              "<table border=\"1\" class=\"dataframe\">\n",
              "  <thead>\n",
              "    <tr style=\"text-align: right;\">\n",
              "      <th></th>\n",
              "      <th>transactionId</th>\n",
              "      <th>visitorId</th>\n",
              "      <th>date</th>\n",
              "      <th>revenue</th>\n",
              "      <th>group</th>\n",
              "    </tr>\n",
              "  </thead>\n",
              "  <tbody>\n",
              "    <tr>\n",
              "      <th>0</th>\n",
              "      <td>3667963787</td>\n",
              "      <td>3312258926</td>\n",
              "      <td>2019-08-15</td>\n",
              "      <td>1650</td>\n",
              "      <td>B</td>\n",
              "    </tr>\n",
              "    <tr>\n",
              "      <th>1</th>\n",
              "      <td>2804400009</td>\n",
              "      <td>3642806036</td>\n",
              "      <td>2019-08-15</td>\n",
              "      <td>730</td>\n",
              "      <td>B</td>\n",
              "    </tr>\n",
              "    <tr>\n",
              "      <th>2</th>\n",
              "      <td>2961555356</td>\n",
              "      <td>4069496402</td>\n",
              "      <td>2019-08-15</td>\n",
              "      <td>400</td>\n",
              "      <td>A</td>\n",
              "    </tr>\n",
              "    <tr>\n",
              "      <th>3</th>\n",
              "      <td>3797467345</td>\n",
              "      <td>1196621759</td>\n",
              "      <td>2019-08-15</td>\n",
              "      <td>9759</td>\n",
              "      <td>B</td>\n",
              "    </tr>\n",
              "    <tr>\n",
              "      <th>4</th>\n",
              "      <td>2282983706</td>\n",
              "      <td>2322279887</td>\n",
              "      <td>2019-08-15</td>\n",
              "      <td>2308</td>\n",
              "      <td>B</td>\n",
              "    </tr>\n",
              "  </tbody>\n",
              "</table>\n",
              "</div>"
            ],
            "text/plain": [
              "   transactionId   visitorId        date  revenue group\n",
              "0  3667963787     3312258926  2019-08-15  1650     B   \n",
              "1  2804400009     3642806036  2019-08-15  730      B   \n",
              "2  2961555356     4069496402  2019-08-15  400      A   \n",
              "3  3797467345     1196621759  2019-08-15  9759     B   \n",
              "4  2282983706     2322279887  2019-08-15  2308     B   "
            ]
          },
          "execution_count": 8,
          "metadata": {},
          "output_type": "execute_result"
        }
      ],
      "source": [
        "orders.head()"
      ]
    },
    {
      "cell_type": "code",
      "execution_count": null,
      "metadata": {
        "id": "Ru0-_49tJ9ec"
      },
      "outputs": [],
      "source": [
        "# Определим пользователей которые попали и в сегмент А и в сегмент В\n",
        "\n",
        "doubles = set(orders.query('group==\"A\"')['visitorId'].unique()).intersection(orders.query('group==\"B\"')['visitorId'].unique())"
      ]
    },
    {
      "cell_type": "code",
      "execution_count": null,
      "metadata": {
        "id": "QwBKRozNJ9ec"
      },
      "outputs": [],
      "source": [
        "# Исключим пользователей, которые попали и в сегмент А и в сегмент В из теста\n",
        "\n",
        "orders = orders[~orders['visitorId'].isin(doubles)]"
      ]
    },
    {
      "cell_type": "code",
      "execution_count": null,
      "metadata": {
        "id": "iKObu55zJ9ed",
        "outputId": "de13e2b8-656a-4361-9233-d6159e76d437"
      },
      "outputs": [
        {
          "name": "stdout",
          "output_type": "stream",
          "text": [
            "<class 'pandas.core.frame.DataFrame'>\n",
            "Int64Index: 1016 entries, 0 to 1196\n",
            "Data columns (total 5 columns):\n",
            " #   Column    Non-Null Count  Dtype \n",
            "---  ------    --------------  ----- \n",
            " 0   order_id  1016 non-null   int64 \n",
            " 1   user_id   1016 non-null   int64 \n",
            " 2   date      1016 non-null   object\n",
            " 3   revenue   1016 non-null   int64 \n",
            " 4   group     1016 non-null   object\n",
            "dtypes: int64(3), object(2)\n",
            "memory usage: 47.6+ KB\n"
          ]
        }
      ],
      "source": [
        "# корректировка заголовков\n",
        "orders.columns = [\n",
        "    'order_id',\n",
        "    'user_id',\n",
        "    'date',\n",
        "    'revenue',\n",
        "    'group'\n",
        "]\n",
        "orders.info()"
      ]
    },
    {
      "cell_type": "code",
      "execution_count": null,
      "metadata": {
        "id": "UnLTyB40J9ed",
        "outputId": "60364d73-e37e-424e-ca88-0a58472fcf21"
      },
      "outputs": [
        {
          "data": {
            "text/html": [
              "<div>\n",
              "<style scoped>\n",
              "    .dataframe tbody tr th:only-of-type {\n",
              "        vertical-align: middle;\n",
              "    }\n",
              "\n",
              "    .dataframe tbody tr th {\n",
              "        vertical-align: top;\n",
              "    }\n",
              "\n",
              "    .dataframe thead th {\n",
              "        text-align: right;\n",
              "    }\n",
              "</style>\n",
              "<table border=\"1\" class=\"dataframe\">\n",
              "  <thead>\n",
              "    <tr style=\"text-align: right;\">\n",
              "      <th></th>\n",
              "      <th>date</th>\n",
              "      <th>group</th>\n",
              "      <th>visitors</th>\n",
              "    </tr>\n",
              "  </thead>\n",
              "  <tbody>\n",
              "    <tr>\n",
              "      <th>0</th>\n",
              "      <td>2019-08-01</td>\n",
              "      <td>A</td>\n",
              "      <td>719</td>\n",
              "    </tr>\n",
              "    <tr>\n",
              "      <th>1</th>\n",
              "      <td>2019-08-02</td>\n",
              "      <td>A</td>\n",
              "      <td>619</td>\n",
              "    </tr>\n",
              "    <tr>\n",
              "      <th>2</th>\n",
              "      <td>2019-08-03</td>\n",
              "      <td>A</td>\n",
              "      <td>507</td>\n",
              "    </tr>\n",
              "    <tr>\n",
              "      <th>3</th>\n",
              "      <td>2019-08-04</td>\n",
              "      <td>A</td>\n",
              "      <td>717</td>\n",
              "    </tr>\n",
              "    <tr>\n",
              "      <th>4</th>\n",
              "      <td>2019-08-05</td>\n",
              "      <td>A</td>\n",
              "      <td>756</td>\n",
              "    </tr>\n",
              "  </tbody>\n",
              "</table>\n",
              "</div>"
            ],
            "text/plain": [
              "         date group  visitors\n",
              "0  2019-08-01  A     719     \n",
              "1  2019-08-02  A     619     \n",
              "2  2019-08-03  A     507     \n",
              "3  2019-08-04  A     717     \n",
              "4  2019-08-05  A     756     "
            ]
          },
          "execution_count": 12,
          "metadata": {},
          "output_type": "execute_result"
        }
      ],
      "source": [
        "visitors.head()"
      ]
    },
    {
      "cell_type": "code",
      "execution_count": null,
      "metadata": {
        "scrolled": true,
        "id": "FDuzK2CRJ9ee",
        "outputId": "e2ab9c4d-5c7c-4823-ffb5-f65d27e12d79"
      },
      "outputs": [
        {
          "name": "stdout",
          "output_type": "stream",
          "text": [
            "<class 'pandas.core.frame.DataFrame'>\n",
            "RangeIndex: 62 entries, 0 to 61\n",
            "Data columns (total 3 columns):\n",
            " #   Column    Non-Null Count  Dtype \n",
            "---  ------    --------------  ----- \n",
            " 0   date      62 non-null     object\n",
            " 1   group     62 non-null     object\n",
            " 2   visitors  62 non-null     int64 \n",
            "dtypes: int64(1), object(2)\n",
            "memory usage: 1.6+ KB\n"
          ]
        }
      ],
      "source": [
        "visitors.info()"
      ]
    },
    {
      "cell_type": "code",
      "execution_count": null,
      "metadata": {
        "id": "IS0ADzBMJ9ee"
      },
      "outputs": [],
      "source": [
        "# создаем массив уникальных пар значений дат и групп теста\n",
        "datesGroups = orders[['date', 'group']].drop_duplicates()"
      ]
    },
    {
      "cell_type": "code",
      "execution_count": null,
      "metadata": {
        "id": "XlSomEk5J9ee",
        "outputId": "b8cddb5a-4669-4328-fbff-1ae95f484595"
      },
      "outputs": [
        {
          "data": {
            "text/plain": [
              "date     0\n",
              "group    0\n",
              "dtype: int64"
            ]
          },
          "execution_count": 15,
          "metadata": {},
          "output_type": "execute_result"
        }
      ],
      "source": [
        "# проверка на наличие пропусков\n",
        "datesGroups.isna().sum()"
      ]
    },
    {
      "cell_type": "markdown",
      "metadata": {
        "id": "zArKm2ZdJ9en"
      },
      "source": [
        "### График кумулятивной выручки по группам"
      ]
    },
    {
      "cell_type": "code",
      "execution_count": null,
      "metadata": {
        "id": "-SB4b5ylJ9en",
        "outputId": "b858876f-55f8-45b9-a93c-0a8493f66252"
      },
      "outputs": [
        {
          "data": {
            "text/plain": [
              "<matplotlib.legend.Legend at 0x7f6e6c1d98e0>"
            ]
          },
          "execution_count": 16,
          "metadata": {},
          "output_type": "execute_result"
        },
        {
          "data": {
            "image/png": "[encoded data removed]",
            "text/plain": [
              "<Figure size 1440x432 with 1 Axes>"
            ]
          },
          "metadata": {},
          "output_type": "display_data"
        }
      ],
      "source": [
        "ordersAggregated = datesGroups.apply(\n",
        "    lambda x: orders[\n",
        "        np.logical_and(\n",
        "            orders['date'] <= x['date'], orders['group'] == x['group']\n",
        "        )\n",
        "    ].agg(\n",
        "        {\n",
        "            'date': 'max',\n",
        "            'group': 'max',\n",
        "            'order_id': 'nunique',\n",
        "            'user_id': 'nunique',\n",
        "            'revenue': 'sum',\n",
        "        }\n",
        "    ),\n",
        "    axis=1,\n",
        ").sort_values(by=['date', 'group'])\n",
        "\n",
        "visitorsAggregated = datesGroups.apply(\n",
        "    lambda x: visitors[\n",
        "        np.logical_and(\n",
        "            visitors['date'] <= x['date'], visitors['group'] == x['group']\n",
        "        )\n",
        "    ].agg({'date': 'max', 'group': 'max', 'visitors': 'sum'}),\n",
        "    axis=1,\n",
        ").sort_values(by=['date', 'group'])\n",
        "\n",
        "cumulativeData = ordersAggregated.merge(\n",
        "    visitorsAggregated, left_on=['date', 'group'], right_on=['date', 'group']\n",
        ")\n",
        "cumulativeData.columns = [\n",
        "    'date',\n",
        "    'group',\n",
        "    'orders',\n",
        "    'buyers',\n",
        "    'revenue',\n",
        "    'visitors',\n",
        "]\n",
        "\n",
        "# датафрейм с кумулятивным количеством заказов и кумулятивной выручкой по дням в группе А\n",
        "cumulativeRevenueA = cumulativeData[cumulativeData['group']=='A'][['date','revenue', 'orders']]\n",
        "\n",
        "# датафрейм с кумулятивным количеством заказов и кумулятивной выручкой по дням в группе B\n",
        "cumulativeRevenueB = cumulativeData[cumulativeData['group']=='B'][['date','revenue', 'orders']]\n",
        "\n",
        "plt.figure(figsize=(20,6))\n",
        "plt.title(\"График кумулятивной выручки по группам\")\n",
        "plt.xlabel(\"Дата посещения\")\n",
        "plt.ylabel(\"Выручка\")\n",
        "plt.xticks(rotation=45)\n",
        "# Строим график выручки группы А\n",
        "plt.plot(cumulativeRevenueA['date'], cumulativeRevenueA['revenue'], label='A')\n",
        "\n",
        "# Строим график выручки группы B\n",
        "plt.plot(cumulativeRevenueB['date'], cumulativeRevenueB['revenue'], label='B')\n",
        "\n",
        "plt.legend(['Group A', 'Group B']) "
      ]
    },
    {
      "cell_type": "markdown",
      "metadata": {
        "id": "pOuCpV5kJ9eo"
      },
      "source": [
        "<b>Наблюдения:</b>\n",
        "\n",
        "До середины теста значения между группами были относительно равны, но ближе к середине теста сегмент B вырвался вперед. Послее 2019-08-18 в данных видны явные аномалии"
      ]
    },
    {
      "cell_type": "markdown",
      "metadata": {
        "id": "t8V9sOMIJ9ep"
      },
      "source": [
        "### График кумулятивного среднего чека по группам"
      ]
    },
    {
      "cell_type": "code",
      "execution_count": null,
      "metadata": {
        "id": "COjQCU5RJ9ep",
        "outputId": "d0fd52a8-fb5d-4199-aa94-88d75abf65e4"
      },
      "outputs": [
        {
          "data": {
            "text/plain": [
              "<matplotlib.legend.Legend at 0x7f6e63aa4280>"
            ]
          },
          "execution_count": 17,
          "metadata": {},
          "output_type": "execute_result"
        },
        {
          "data": {
            "image/png": "[encoded data removed]",
            "text/plain": [
              "<Figure size 1440x432 with 1 Axes>"
            ]
          },
          "metadata": {},
          "output_type": "display_data"
        }
      ],
      "source": [
        "plt.figure(figsize=(20,6))\n",
        "plt.title(\"График кумулятивного среднего чека по группам\")\n",
        "plt.xlabel(\"Дата посещения\")\n",
        "plt.ylabel(\"Средний чек\")\n",
        "plt.xticks(rotation=45)\n",
        "plt.plot(cumulativeRevenueA['date'], cumulativeRevenueA['revenue']/cumulativeRevenueA['orders'], label='A')\n",
        "plt.plot(cumulativeRevenueB['date'], cumulativeRevenueB['revenue']/cumulativeRevenueB['orders'], label='B')\n",
        "plt.legend() "
      ]
    },
    {
      "cell_type": "markdown",
      "metadata": {
        "id": "knXp5Nw1J9ep"
      },
      "source": [
        "<b>Наблюдения:</b>\n",
        "\n",
        "График среднего чека показывает, что в некоторые момента проведения теста, наблюдались аномальные заказы. В целом динамика среднего чека между сегментами переменчива, в начале проведения теста сегмент А упал, но ближе к середине теста выровнялся с сегментом В. После 2019-08-18 заметен резкий скачек среднего чека в сегменте В, что говорит об аномалии"
      ]
    },
    {
      "cell_type": "markdown",
      "metadata": {
        "id": "goe-rZEyJ9eq"
      },
      "source": [
        "###  График относительного изменения кумулятивного среднего чека группы B к группе A"
      ]
    },
    {
      "cell_type": "code",
      "execution_count": null,
      "metadata": {
        "id": "lha8aWFlJ9eq",
        "outputId": "12b4ce37-82d4-4152-d0cc-666fcfd2927a"
      },
      "outputs": [
        {
          "data": {
            "text/plain": [
              "<matplotlib.lines.Line2D at 0x7f6e640d0c10>"
            ]
          },
          "execution_count": 18,
          "metadata": {},
          "output_type": "execute_result"
        },
        {
          "data": {
            "image/png": "[encoded data removed]",
            "text/plain": [
              "<Figure size 1440x432 with 1 Axes>"
            ]
          },
          "metadata": {},
          "output_type": "display_data"
        }
      ],
      "source": [
        "# собираем данные в одном датафрейме\n",
        "mergedCumulativeRevenue = cumulativeRevenueA.merge(cumulativeRevenueB, left_on='date', right_on='date', how='left', suffixes=['A', 'B'])\n",
        "\n",
        "# cтроим отношение средних чеков\n",
        "plt.figure(figsize=(20,6))\n",
        "plt.title(\"График относительного изменения кумулятивного среднего чека группы B к группе A\")\n",
        "plt.xlabel(\"Дата посещения\")\n",
        "plt.ylabel(\"Относительное значение\")\n",
        "plt.xticks(rotation=45)\n",
        "plt.plot(mergedCumulativeRevenue['date'], (mergedCumulativeRevenue['revenueB']/mergedCumulativeRevenue['ordersB'])/(mergedCumulativeRevenue['revenueA']/mergedCumulativeRevenue['ordersA'])-1)\n",
        "\n",
        "# добавляем ось X\n",
        "plt.axhline(y=0, color='black', linestyle='--')"
      ]
    },
    {
      "cell_type": "markdown",
      "metadata": {
        "id": "YLpwsJeOJ9eq"
      },
      "source": [
        "<b>Наблюдения:</b>\n",
        "\n",
        "На графике относительного изменения кумулятивного среднего чека видно, что начиная с 2019-08-03 по 2019-08-1 в сегменте B был высокий средний чек. После 2019-08-18 заметен явный аномальный заказ, который привел к резкому ростуу среднего чека в сегменте В."
      ]
    },
    {
      "cell_type": "markdown",
      "metadata": {
        "id": "KjiM7K4wJ9er"
      },
      "source": [
        "### График кумулятивного среднего количества заказов на посетителя по группам"
      ]
    },
    {
      "cell_type": "code",
      "execution_count": null,
      "metadata": {
        "id": "hnAHRFduJ9er",
        "outputId": "94252c65-78d8-4c9d-9173-4c718d22463d"
      },
      "outputs": [
        {
          "data": {
            "text/plain": [
              "<matplotlib.legend.Legend at 0x7f6e64058b50>"
            ]
          },
          "execution_count": 19,
          "metadata": {},
          "output_type": "execute_result"
        },
        {
          "data": {
            "image/png": "[encoded data removed]",
            "text/plain": [
              "<Figure size 1440x432 with 1 Axes>"
            ]
          },
          "metadata": {},
          "output_type": "display_data"
        }
      ],
      "source": [
        "cumulativeVisitorsA = cumulativeData[cumulativeData['group']=='A'][['date','visitors', 'orders']]\n",
        "cumulativeVisitorsB = cumulativeData[cumulativeData['group']=='B'][['date','visitors', 'orders']]\n",
        "\n",
        "plt.figure(figsize=(20,6))\n",
        "plt.title(\"График кумулятивного среднего количества заказов на посетителя по группам\")\n",
        "plt.xlabel(\"Дата посещения\")\n",
        "plt.ylabel(\"Среднее количество заказов\")\n",
        "plt.xticks(rotation=45)\n",
        "plt.plot(cumulativeVisitorsA['date'], cumulativeVisitorsA['orders']/cumulativeVisitorsA['visitors'], label='A')\n",
        "plt.plot(cumulativeVisitorsB['date'], cumulativeVisitorsB['orders']/cumulativeVisitorsB['visitors'], label='B')\n",
        "plt.legend() "
      ]
    },
    {
      "cell_type": "markdown",
      "metadata": {
        "id": "ytzXWcVFJ9es"
      },
      "source": [
        "<b>Наблюдения:</b>\n",
        "\n",
        "Из графика кумулятивного среднего количества заказов на посетителя по группам видно, в сегменте В количество заказов больше, начиная с 2019-08-06 и до конца проведениия теста"
      ]
    },
    {
      "cell_type": "markdown",
      "metadata": {
        "id": "A_JlEuxKJ9es"
      },
      "source": [
        "### График относительного изменения кумулятивного среднего количества заказов на посетителя группы B к группе A"
      ]
    },
    {
      "cell_type": "code",
      "execution_count": null,
      "metadata": {
        "scrolled": true,
        "id": "XltQeTY9J9es",
        "outputId": "f53a6749-de32-46f0-f522-107926393021"
      },
      "outputs": [
        {
          "data": {
            "text/plain": [
              "<matplotlib.lines.Line2D at 0x7f6e63fe9bb0>"
            ]
          },
          "execution_count": 20,
          "metadata": {},
          "output_type": "execute_result"
        },
        {
          "data": {
            "image/png": "[encoded data removed]",
            "text/plain": [
              "<Figure size 1440x432 with 1 Axes>"
            ]
          },
          "metadata": {},
          "output_type": "display_data"
        }
      ],
      "source": [
        "# собираем данные в одном датафрейме\n",
        "mergedCumulativeVisitors = cumulativeVisitorsA.merge(cumulativeVisitorsB, left_on='date', right_on='date', how='left', suffixes=['A', 'B'])\n",
        "\n",
        "# cтроим отношение средних чеков\n",
        "plt.figure(figsize=(20,6))\n",
        "plt.title(\" График относительного изменения кумулятивного среднего количества заказов на посетителя группы B к группе A\")\n",
        "plt.xlabel(\"Дата посещения\")\n",
        "plt.ylabel(\"Относительное значение\")\n",
        "plt.xticks(rotation=45)\n",
        "plt.plot(mergedCumulativeVisitors['date'], (mergedCumulativeVisitors['ordersB']/mergedCumulativeVisitors['visitorsB'])/(mergedCumulativeVisitors['ordersA']/mergedCumulativeVisitors['visitorsA'])-1)\n",
        "\n",
        "# добавляем ось X\n",
        "plt.axhline(y=0, color='black', linestyle='-')\n",
        "plt.axhline(y=0.1, color='black', linestyle='--')\n",
        "plt.axhline(y=0.2, color='black', linestyle='-.')"
      ]
    },
    {
      "cell_type": "markdown",
      "metadata": {
        "id": "exqZ_D_sJ9et"
      },
      "source": [
        "<b>Наблюдения:</b>\n",
        "\n",
        "На графике относительно изменения кумулятивного среднего чека видно, подтвердждается прирост средного количества заказов на посетителя в сегменте В. При этом прирост зафиксировался к концу теста на уровне 0.15"
      ]
    },
    {
      "cell_type": "markdown",
      "metadata": {
        "id": "QOKVdsJtJ9et"
      },
      "source": [
        "### Точечный график количества заказов по пользователям"
      ]
    },
    {
      "cell_type": "code",
      "execution_count": null,
      "metadata": {
        "id": "pHaYukAiJ9eu"
      },
      "outputs": [],
      "source": [
        "ordersByUsers = (\n",
        "    orders.groupby('user_id', as_index=False)\n",
        "    .agg({'order_id': 'nunique'})\n",
        ")\n",
        "ordersByUsers.columns = ['user_id', 'orders']"
      ]
    },
    {
      "cell_type": "code",
      "execution_count": null,
      "metadata": {
        "id": "muBOLnZcJ9eu",
        "outputId": "8007033d-03da-43e6-dc4b-d170deb2fe9d"
      },
      "outputs": [
        {
          "data": {
            "text/plain": [
              "<matplotlib.collections.PathCollection at 0x7f6e63c75f70>"
            ]
          },
          "execution_count": 22,
          "metadata": {},
          "output_type": "execute_result"
        },
        {
          "data": {
            "image/png": "[encoded data removed]",
            "text/plain": [
              "<Figure size 432x288 with 1 Axes>"
            ]
          },
          "metadata": {},
          "output_type": "display_data"
        }
      ],
      "source": [
        "x_values = pd.Series(range(0, len(ordersByUsers)))\n",
        "plt.title(\"Точечный график количества заказов по пользователям\")\n",
        "plt.xlabel(\"Количество заказов на пользователя\")\n",
        "plt.ylabel(\"Количество пользователей\")\n",
        "plt.scatter(x_values, ordersByUsers['orders']) "
      ]
    },
    {
      "cell_type": "markdown",
      "metadata": {
        "id": "RWoonhU7J9eu"
      },
      "source": [
        "<b>Наблюдения:</b>\n",
        "\n",
        "Посетителей, сделавших более 2 заказов, очень мало. "
      ]
    },
    {
      "cell_type": "markdown",
      "metadata": {
        "id": "2oatnU9_J9eu"
      },
      "source": [
        "###  95-й и 99-й перцентили количества заказов на пользователя"
      ]
    },
    {
      "cell_type": "code",
      "execution_count": null,
      "metadata": {
        "id": "TqgwBNGQJ9eu",
        "outputId": "2e033747-a6d1-4092-a3d1-b83ace36eef1"
      },
      "outputs": [
        {
          "name": "stdout",
          "output_type": "stream",
          "text": [
            "[1. 1. 2.]\n"
          ]
        }
      ],
      "source": [
        "print(np.percentile(ordersByUsers['orders'], [90, 95, 99])) "
      ]
    },
    {
      "cell_type": "markdown",
      "metadata": {
        "id": "j9KftVt7J9ev"
      },
      "source": [
        "<b>Наблюдения:</b>\n",
        "\n",
        "Не более 1% посетителей делали 2 заказа. Нижняя граница числа заказов равна 2."
      ]
    },
    {
      "cell_type": "markdown",
      "metadata": {
        "id": "tjim3mODJ9ev"
      },
      "source": [
        "###  Точечный график стоимостей заказов"
      ]
    },
    {
      "cell_type": "code",
      "execution_count": null,
      "metadata": {
        "id": "Q0ETTz_FJ9ew"
      },
      "outputs": [],
      "source": [
        "ordersByRevenue = (\n",
        "    orders.groupby('order_id', as_index=False)\n",
        "    .agg({'revenue': 'sum'})\n",
        ")\n",
        "ordersByRevenue.columns = ['order_id', 'revenue']"
      ]
    },
    {
      "cell_type": "code",
      "execution_count": null,
      "metadata": {
        "id": "WV_DbufSJ9ew",
        "outputId": "66ffb74b-76c8-4148-935d-a7043b64cd5d"
      },
      "outputs": [
        {
          "data": {
            "text/plain": [
              "<matplotlib.collections.PathCollection at 0x7f6e63c37b80>"
            ]
          },
          "execution_count": 25,
          "metadata": {},
          "output_type": "execute_result"
        },
        {
          "data": {
            "image/png": "[encoded data removed]",
            "text/plain": [
              "<Figure size 432x288 with 1 Axes>"
            ]
          },
          "metadata": {},
          "output_type": "display_data"
        }
      ],
      "source": [
        "x_values = pd.Series(range(0, len(ordersByRevenue)))\n",
        "plt.title(\"Точечный график стоимостей заказов\")\n",
        "plt.xlabel(\"Стоимость заказа\")\n",
        "plt.ylabel(\"Количество пользователей\")\n",
        "plt.scatter(x_values, ordersByRevenue['revenue']) "
      ]
    },
    {
      "cell_type": "markdown",
      "metadata": {
        "id": "A_8oYWlWJ9ew"
      },
      "source": [
        "<b>Наблюдения:</b>\n",
        "\n",
        "Заказов, чья стомость более 50000 существенно меньше"
      ]
    },
    {
      "cell_type": "markdown",
      "metadata": {
        "id": "8_-EW3RQJ9ew"
      },
      "source": [
        "###  95-й и 99-й перцентили стоимости заказов"
      ]
    },
    {
      "cell_type": "code",
      "execution_count": null,
      "metadata": {
        "id": "G6Bt7dpjJ9ex",
        "outputId": "3f1b24ba-95bf-4df4-b8de-2dd10caac6e2"
      },
      "outputs": [
        {
          "name": "stdout",
          "output_type": "stream",
          "text": [
            "[17990. 26785. 53904.]\n"
          ]
        }
      ],
      "source": [
        "print(np.percentile(ordersByRevenue['revenue'], [90, 95, 99])) "
      ]
    },
    {
      "cell_type": "markdown",
      "metadata": {
        "id": "tIZenDszJ9ex"
      },
      "source": [
        "<b>Наблюдения:</b>\n",
        "\n",
        "Не более 10% заказов имеют стоимость выше 17990, из них 5% заказов стоимостью более 26785 и всего 1% заказов стомостью выше 53904. Нижняя граниа стоимости заказов равна 26785"
      ]
    },
    {
      "cell_type": "markdown",
      "metadata": {
        "id": "KnnipLUUJ9ey"
      },
      "source": [
        "### Статистическая значимость различий в среднем количестве заказов на посетителя между группами по «сырым» данным"
      ]
    },
    {
      "cell_type": "markdown",
      "metadata": {
        "id": "OndTk7uaJ9ez"
      },
      "source": [
        "<b>Гипотезы:</b>\n",
        "\n",
        "* *Нулевая:* различий в среднем количестве заказов между группами нет. \n",
        "* *Альтернативная:* различия в среднем между группами есть."
      ]
    },
    {
      "cell_type": "markdown",
      "metadata": {
        "id": "nHv_KJjPJ9ez"
      },
      "source": [
        "Значение *alpha* будем учитывать равную 5% (0.05). В качество метода проверки гипотез будем применять статистический критерий *Манна-Уитни*"
      ]
    },
    {
      "cell_type": "code",
      "execution_count": null,
      "metadata": {
        "id": "_UQAE82IJ9ez",
        "outputId": "d0805e7e-6a49-4ca5-df93-804b503d8c78"
      },
      "outputs": [
        {
          "name": "stdout",
          "output_type": "stream",
          "text": [
            "P-value: 0.01102\n",
            "Относительное различие: 0.160\n"
          ]
        }
      ],
      "source": [
        "visitorsADaily = visitors[visitors['group'] == 'A'][['date', 'visitors']]\n",
        "visitorsADaily.columns = ['date', 'visitorsPerDateA']\n",
        "\n",
        "visitorsACummulative = visitorsADaily.apply(\n",
        "    lambda x: visitorsADaily[visitorsADaily['date'] <= x['date']].agg(\n",
        "        {'date': 'max', 'visitorsPerDateA': 'sum'}\n",
        "    ),\n",
        "    axis=1,\n",
        ")\n",
        "visitorsACummulative.columns = ['date', 'visitorsCummulativeA']\n",
        "\n",
        "visitorsBDaily = visitors[visitors['group'] == 'B'][['date', 'visitors']]\n",
        "visitorsBDaily.columns = ['date', 'visitorsPerDateB']\n",
        "\n",
        "visitorsBCummulative = visitorsBDaily.apply(\n",
        "    lambda x: visitorsBDaily[visitorsBDaily['date'] <= x['date']].agg(\n",
        "        {'date': 'max', 'visitorsPerDateB': 'sum'}\n",
        "    ),\n",
        "    axis=1,\n",
        ")\n",
        "visitorsBCummulative.columns = ['date', 'visitorsCummulativeB']\n",
        "\n",
        "ordersADaily = (\n",
        "    orders[orders['group'] == 'A'][['date', 'order_id', 'user_id', 'revenue']]\n",
        "    .groupby('date', as_index=False)\n",
        "    .agg({'order_id': pd.Series.nunique, 'revenue': 'sum'})\n",
        ")\n",
        "ordersADaily.columns = ['date', 'ordersPerDateA', 'revenuePerDateA']\n",
        "\n",
        "ordersACummulative = ordersADaily.apply(\n",
        "    lambda x: ordersADaily[ordersADaily['date'] <= x['date']].agg(\n",
        "        {'date': 'max', 'ordersPerDateA': 'sum', 'revenuePerDateA': 'sum'}\n",
        "    ),\n",
        "    axis=1,\n",
        ").sort_values(by=['date'])\n",
        "ordersACummulative.columns = [\n",
        "    'date',\n",
        "    'ordersCummulativeA',\n",
        "    'revenueCummulativeA',\n",
        "]\n",
        "\n",
        "ordersBDaily = (\n",
        "    orders[orders['group'] == 'B'][['date', 'order_id', 'user_id', 'revenue']]\n",
        "    .groupby('date', as_index=False)\n",
        "    .agg({'order_id': pd.Series.nunique, 'revenue': 'sum'})\n",
        ")\n",
        "ordersBDaily.columns = ['date', 'ordersPerDateB', 'revenuePerDateB']\n",
        "\n",
        "ordersBCummulative = ordersBDaily.apply(\n",
        "    lambda x: ordersBDaily[ordersBDaily['date'] <= x['date']].agg(\n",
        "        {'date': 'max', 'ordersPerDateB': 'sum', 'revenuePerDateB': 'sum'}\n",
        "    ),\n",
        "    axis=1,\n",
        ").sort_values(by=['date'])\n",
        "ordersBCummulative.columns = [\n",
        "    'date',\n",
        "    'ordersCummulativeB',\n",
        "    'revenueCummulativeB',\n",
        "]\n",
        "\n",
        "data = (\n",
        "    ordersADaily.merge(\n",
        "        ordersBDaily, left_on='date', right_on='date', how='left'\n",
        "    )\n",
        "    .merge(ordersACummulative, left_on='date', right_on='date', how='left')\n",
        "    .merge(ordersBCummulative, left_on='date', right_on='date', how='left')\n",
        "    .merge(visitorsADaily, left_on='date', right_on='date', how='left')\n",
        "    .merge(visitorsBDaily, left_on='date', right_on='date', how='left')\n",
        "    .merge(visitorsACummulative, left_on='date', right_on='date', how='left')\n",
        "    .merge(visitorsBCummulative, left_on='date', right_on='date', how='left')\n",
        ")\n",
        "\n",
        "ordersByUsersA = (\n",
        "    orders[orders['group'] == 'A']\n",
        "    .groupby('user_id', as_index=False)\n",
        "    .agg({'order_id': pd.Series.nunique})\n",
        ")\n",
        "ordersByUsersA.columns = ['userId', 'orders']\n",
        "\n",
        "ordersByUsersB = (\n",
        "    orders[orders['group'] == 'B']\n",
        "    .groupby('user_id', as_index=False)\n",
        "    .agg({'order_id': pd.Series.nunique})\n",
        ")\n",
        "ordersByUsersB.columns = ['user_id', 'orders']\n",
        "sampleA = pd.concat([ordersByUsersA['orders'],pd.Series(0, index=np.arange(data['visitorsPerDateA'].sum() - len(ordersByUsersA['orders'])), name='orders')],axis=0)\n",
        "\n",
        "sampleB = pd.concat([ordersByUsersB['orders'],pd.Series(0, index=np.arange(data['visitorsPerDateB'].sum() - len(ordersByUsersB['orders'])), name='orders')],axis=0)\n",
        "\n",
        "ordersByUsersA = (\n",
        "    orders[orders['group'] == 'A']\n",
        "    .groupby('user_id', as_index=False)\n",
        "    .agg({'order_id': pd.Series.nunique})\n",
        ")\n",
        "ordersByUsersA.columns = ['user_id', 'orders']\n",
        "\n",
        "ordersByUsersB = (\n",
        "    orders[orders['group'] == 'B']\n",
        "    .groupby('user_id', as_index=False)\n",
        "    .agg({'order_id': pd.Series.nunique})\n",
        ")\n",
        "ordersByUsersB.columns = ['user_id', 'orders']\n",
        "\n",
        "sampleA = pd.concat(\n",
        "    [\n",
        "        ordersByUsersA['orders'],\n",
        "        pd.Series(\n",
        "            0,\n",
        "            index=np.arange(\n",
        "                data['visitorsPerDateA'].sum() - len(ordersByUsersA['orders'])\n",
        "            ),\n",
        "            name='orders',\n",
        "        ),\n",
        "    ],\n",
        "    axis=0,\n",
        ")\n",
        "\n",
        "sampleB = pd.concat(\n",
        "    [\n",
        "        ordersByUsersB['orders'],\n",
        "        pd.Series(\n",
        "            0,\n",
        "            index=np.arange(\n",
        "                data['visitorsPerDateB'].sum() - len(ordersByUsersB['orders'])\n",
        "            ),\n",
        "            name='orders',\n",
        "        ),\n",
        "    ],\n",
        "    axis=0,\n",
        ")\n",
        "\n",
        "print('P-value:', \"{0:.5f}\".format(stats.mannwhitneyu(sampleA, sampleB)[1]))\n",
        "\n",
        "print('Относительное различие:', \"{0:.3f}\".format(sampleB.mean() / sampleA.mean() - 1))"
      ]
    },
    {
      "cell_type": "markdown",
      "metadata": {
        "id": "0YuquVAFJ9e0"
      },
      "source": [
        "<b>Наблюдения:</b>\n",
        "\n",
        "P-value меньше 0.05, потому гипотеза о том, что различий в среднем количестве заказов между группами нет, нулевая гипотеза,  отвергается.  \n",
        "В среднем количестве заказов на посетителя между группами есть статистически значимые различия. Относительный прирост среднего сегмента В составил 16%"
      ]
    },
    {
      "cell_type": "markdown",
      "metadata": {
        "id": "zN5RnKBWJ9e0"
      },
      "source": [
        "### Статистическая значимость различий в среднем чеке заказа между группами по «сырым» данным"
      ]
    },
    {
      "cell_type": "markdown",
      "metadata": {
        "id": "hKq25a8NJ9e0"
      },
      "source": [
        "<b>Гипотезы:</b>\n",
        "\n",
        "* *Нулевая:* различий в среднем чеке заказа между группами нет. \n",
        "* *Альтернативная:* различия в среднем чеке заказа между группами есть."
      ]
    },
    {
      "cell_type": "markdown",
      "metadata": {
        "id": "OzYBPofXJ9e1"
      },
      "source": [
        "Значение *alpha* будем учитывать равную 5% (0.05). В качество метода проверки гипотез будем применять статистический критерий *Манна-Уитни*"
      ]
    },
    {
      "cell_type": "code",
      "execution_count": null,
      "metadata": {
        "id": "2_08MgaJJ9e1",
        "outputId": "5a20001e-7d05-4069-f515-1d42057354ed"
      },
      "outputs": [
        {
          "name": "stdout",
          "output_type": "stream",
          "text": [
            "P-value: 0.829\n",
            "Относительное различие: 0.287\n"
          ]
        }
      ],
      "source": [
        "print('P-value:', '{0:.3f}'.format(stats.mannwhitneyu(orders[orders['group']=='A']['revenue'], orders[orders['group']=='B']['revenue'])[1]))\n",
        "print('Относительное различие:', '{0:.3f}'.format(orders[orders['group']=='B']['revenue'].mean()/orders[orders['group']=='A']['revenue'].mean()-1))"
      ]
    },
    {
      "cell_type": "markdown",
      "metadata": {
        "id": "OWpwD7pCJ9e1"
      },
      "source": [
        "<b>Наблюдения:</b>\n",
        "\n",
        "P-value больше 0.05, потому гипотеза о том, что различий в среднем чеке заказов между группами нет, нулевая гипотеза, отвергается. То есть, средний чек группы B равен среднему чеку группы A (или не отличается).  \n",
        "В среднем количестве заказов на посетителя между группами наблюдаемое различие не значимо, получено случайно из-за единичных выбросов. Относительный прирост среднего чека сегмента В составил 28.7%"
      ]
    },
    {
      "cell_type": "markdown",
      "metadata": {
        "id": "x1zCV-m5J9e1"
      },
      "source": [
        "### Статистическая значимость различий в среднем количестве заказов на посетителя между группами по «очищенным» данным"
      ]
    },
    {
      "cell_type": "code",
      "execution_count": null,
      "metadata": {
        "id": "M-eCFVECJ9e2",
        "outputId": "294ffd28-852c-425e-dd72-55206076a07b"
      },
      "outputs": [
        {
          "name": "stdout",
          "output_type": "stream",
          "text": [
            "P-value: 0.01593\n",
            "Относительное различие: 0.174\n"
          ]
        }
      ],
      "source": [
        "usersWithManyOrders = pd.concat(\n",
        "    [\n",
        "        ordersByUsersA[ordersByUsersA['orders'] > 1]['user_id'],\n",
        "        ordersByUsersB[ordersByUsersB['orders'] > 1]['user_id'],\n",
        "    ],\n",
        "    axis=0,\n",
        ")\n",
        "usersWithExpensiveOrders = orders[orders['revenue'] > int(np.percentile(ordersByRevenue['revenue'], [95]))]['user_id']\n",
        "abnormalUsers = (\n",
        "    pd.concat([usersWithManyOrders, usersWithExpensiveOrders], axis=0)\n",
        "    .drop_duplicates()\n",
        "    .sort_values()\n",
        ")\n",
        "sampleAFiltered = pd.concat(\n",
        "    [\n",
        "        ordersByUsersA[\n",
        "            np.logical_not(ordersByUsersA['user_id'].isin(abnormalUsers))\n",
        "        ]['orders'],\n",
        "        pd.Series(\n",
        "            0,\n",
        "            index=np.arange(\n",
        "                data['visitorsPerDateA'].sum() - len(ordersByUsersA['orders'])\n",
        "            ),\n",
        "            name='orders',\n",
        "        ),\n",
        "    ],\n",
        "    axis=0,\n",
        ")\n",
        "\n",
        "sampleBFiltered = pd.concat(\n",
        "    [\n",
        "        ordersByUsersB[\n",
        "            np.logical_not(ordersByUsersB['user_id'].isin(abnormalUsers))\n",
        "        ]['orders'],\n",
        "        pd.Series(\n",
        "            0,\n",
        "            index=np.arange(\n",
        "                data['visitorsPerDateB'].sum() - len(ordersByUsersB['orders'])\n",
        "            ),\n",
        "            name='orders',\n",
        "        ),\n",
        "    ],\n",
        "    axis=0,\n",
        ")\n",
        "print('P-value:', '{0:.5f}'.format(stats.mannwhitneyu(sampleAFiltered, sampleBFiltered)[1]))\n",
        "print('Относительное различие:', '{0:.3f}'.format(sampleBFiltered.mean()/sampleAFiltered.mean()-1))"
      ]
    },
    {
      "cell_type": "markdown",
      "metadata": {
        "id": "QyZvlHkyJ9e2"
      },
      "source": [
        "<b>Наблюдения:</b>\n",
        "\n",
        "Результаты по итогам \"очистки\" данных не особо отличаются."
      ]
    },
    {
      "cell_type": "markdown",
      "metadata": {
        "id": "i0dv7NhbJ9e3"
      },
      "source": [
        "###  Статистическая значимость различий в среднем чеке заказа между группами по «очищенным» данным"
      ]
    },
    {
      "cell_type": "code",
      "execution_count": null,
      "metadata": {
        "id": "MM7Q10qXJ9e3",
        "outputId": "449e5c3c-b370-404c-e5cb-ff42ee4760d2"
      },
      "outputs": [
        {
          "name": "stdout",
          "output_type": "stream",
          "text": [
            "P-value: 0.727\n",
            "Относительное различие: -0.034\n"
          ]
        }
      ],
      "source": [
        "print('P-value:',\n",
        "    '{0:.3f}'.format(\n",
        "        stats.mannwhitneyu(\n",
        "            orders[\n",
        "                np.logical_and(\n",
        "                    orders['group'] == 'A',\n",
        "                    np.logical_not(orders['user_id'].isin(abnormalUsers)),\n",
        "                )\n",
        "            ]['revenue'],\n",
        "            orders[\n",
        "                np.logical_and(\n",
        "                    orders['group'] == 'B',\n",
        "                    np.logical_not(orders['user_id'].isin(abnormalUsers)),\n",
        "                )\n",
        "            ]['revenue'],\n",
        "        )[1]\n",
        "    )\n",
        ")\n",
        "\n",
        "print('Относительное различие:',\n",
        "    \"{0:.3f}\".format(\n",
        "        orders[\n",
        "            np.logical_and(\n",
        "                orders['group'] == 'B',\n",
        "                np.logical_not(orders['user_id'].isin(abnormalUsers)),\n",
        "            )\n",
        "        ]['revenue'].mean()\n",
        "        / orders[\n",
        "            np.logical_and(\n",
        "                orders['group'] == 'A',\n",
        "                np.logical_not(orders['user_id'].isin(abnormalUsers)),\n",
        "            )\n",
        "        ]['revenue'].mean()\n",
        "        - 1\n",
        "    )\n",
        ")"
      ]
    },
    {
      "cell_type": "markdown",
      "metadata": {
        "id": "UIBSMSEFJ9e3"
      },
      "source": [
        "<b>Наблюдения:</b>\n",
        "\n",
        "По итогам очистки данных, P-value уменьшился, но остался высоким, больше 0.05.  \n",
        "Разница между сегментами сократилась на 20%."
      ]
    },
    {
      "cell_type": "markdown",
      "metadata": {
        "id": "17eAJxj4J9e4"
      },
      "source": [
        "### Решение по результатам теста "
      ]
    },
    {
      "cell_type": "markdown",
      "metadata": {
        "id": "YynvowPxJ9e5"
      },
      "source": [
        "Итоги наблюдений:\n",
        "\n",
        "* Есть статистически значимые различия по среднему количеству заказов между группами по «сырым» и по данным после фильтрации аномалий. Отвергаем нулевую гипотезу;\n",
        "* Нет статистически значимого различия по среднему чеку между группами по «сырым» данным и по данным после фильтрации аномалий. Принимаем нулевую гипотезу;\n",
        "* График различия среднего количества заказов между группами сообщает, что результаты группы B значительно лучше группы A уже после проведеной 1/3 отрезка теста;\n",
        "* График различия среднего чека говорит о том, что результаты группы B сильно улучшились после середины теста из-за влияния аномалий, при очистке данных, данный тренд не наблюдается;\n",
        "\n",
        "<b>Итог:</b>\n",
        "\n",
        "Остановить тест, зафиксировать отсутствие различий между группами.  \n",
        "Не смотря на то, что среднее количество заказов увеличилось на 16%, значимых различий по среднему чеку между группами не наблюдается."
      ]
    }
  ],
  "metadata": {
    "ExecuteTimeLog": [
      {
        "duration": 1448,
        "start_time": "2023-05-21T12:50:56.252Z"
      },
      {
        "duration": 3,
        "start_time": "2023-05-21T12:51:08.604Z"
      },
      {
        "duration": 175,
        "start_time": "2023-05-21T12:53:09.854Z"
      },
      {
        "duration": 12,
        "start_time": "2023-05-21T12:53:23.849Z"
      },
      {
        "duration": 220,
        "start_time": "2023-05-21T12:54:11.793Z"
      },
      {
        "duration": 14,
        "start_time": "2023-05-21T12:54:13.550Z"
      },
      {
        "duration": 12,
        "start_time": "2023-05-21T12:54:31.600Z"
      },
      {
        "duration": 110,
        "start_time": "2023-05-21T12:58:02.884Z"
      },
      {
        "duration": 8,
        "start_time": "2023-05-21T12:58:15.836Z"
      },
      {
        "duration": 12,
        "start_time": "2023-05-21T12:58:31.737Z"
      },
      {
        "duration": 13,
        "start_time": "2023-05-21T12:59:37.583Z"
      },
      {
        "duration": 9,
        "start_time": "2023-05-21T13:14:44.666Z"
      },
      {
        "duration": 11,
        "start_time": "2023-05-21T13:14:48.212Z"
      },
      {
        "duration": 9,
        "start_time": "2023-05-21T13:15:01.365Z"
      },
      {
        "duration": 10,
        "start_time": "2023-05-21T13:15:08.186Z"
      },
      {
        "duration": 7,
        "start_time": "2023-05-21T13:15:15.694Z"
      },
      {
        "duration": 597,
        "start_time": "2023-05-21T13:17:50.659Z"
      },
      {
        "duration": 746,
        "start_time": "2023-05-21T13:19:06.967Z"
      },
      {
        "duration": 659,
        "start_time": "2023-05-21T13:19:22.147Z"
      },
      {
        "duration": 604,
        "start_time": "2023-05-21T13:19:37.198Z"
      },
      {
        "duration": 636,
        "start_time": "2023-05-21T13:19:46.607Z"
      },
      {
        "duration": 764,
        "start_time": "2023-05-21T13:19:55.986Z"
      },
      {
        "duration": 735,
        "start_time": "2023-05-21T13:20:10.986Z"
      },
      {
        "duration": 257,
        "start_time": "2023-05-21T13:22:09.076Z"
      },
      {
        "duration": 18,
        "start_time": "2023-05-21T13:22:54.440Z"
      },
      {
        "duration": 220,
        "start_time": "2023-05-21T13:23:00.114Z"
      },
      {
        "duration": 5,
        "start_time": "2023-05-21T13:23:34.691Z"
      },
      {
        "duration": 205,
        "start_time": "2023-05-21T13:23:39.143Z"
      },
      {
        "duration": 187,
        "start_time": "2023-05-21T13:23:53.809Z"
      },
      {
        "duration": 204,
        "start_time": "2023-05-21T13:24:41.330Z"
      },
      {
        "duration": 226,
        "start_time": "2023-05-21T13:25:03.414Z"
      },
      {
        "duration": 216,
        "start_time": "2023-05-21T13:25:28.789Z"
      },
      {
        "duration": 658,
        "start_time": "2023-05-21T13:25:41.863Z"
      },
      {
        "duration": 61,
        "start_time": "2023-05-23T17:39:00.192Z"
      },
      {
        "duration": 1551,
        "start_time": "2023-05-23T17:39:09.668Z"
      },
      {
        "duration": 6,
        "start_time": "2023-05-23T17:39:11.222Z"
      },
      {
        "duration": 198,
        "start_time": "2023-05-23T17:39:11.229Z"
      },
      {
        "duration": 16,
        "start_time": "2023-05-23T17:39:11.428Z"
      },
      {
        "duration": 15,
        "start_time": "2023-05-23T17:39:11.447Z"
      },
      {
        "duration": 14,
        "start_time": "2023-05-23T17:39:11.464Z"
      },
      {
        "duration": 19,
        "start_time": "2023-05-23T17:39:11.480Z"
      },
      {
        "duration": 10,
        "start_time": "2023-05-23T17:39:11.502Z"
      },
      {
        "duration": 10,
        "start_time": "2023-05-23T17:39:11.514Z"
      },
      {
        "duration": 10,
        "start_time": "2023-05-23T17:39:11.526Z"
      },
      {
        "duration": 735,
        "start_time": "2023-05-23T17:39:11.538Z"
      },
      {
        "duration": 490,
        "start_time": "2023-05-23T17:39:12.275Z"
      },
      {
        "duration": 525,
        "start_time": "2023-05-23T17:41:43.135Z"
      },
      {
        "duration": 463,
        "start_time": "2023-05-23T17:41:52.576Z"
      },
      {
        "duration": 913,
        "start_time": "2023-05-23T17:55:40.858Z"
      },
      {
        "duration": 529,
        "start_time": "2023-05-23T17:56:26.898Z"
      },
      {
        "duration": 491,
        "start_time": "2023-05-23T18:00:07.908Z"
      },
      {
        "duration": 5,
        "start_time": "2023-05-23T18:09:56.292Z"
      },
      {
        "duration": 18,
        "start_time": "2023-05-23T18:10:27.903Z"
      },
      {
        "duration": 10,
        "start_time": "2023-05-23T18:11:07.101Z"
      },
      {
        "duration": 4,
        "start_time": "2023-05-23T18:11:30.393Z"
      },
      {
        "duration": 11,
        "start_time": "2023-05-23T18:11:35.850Z"
      },
      {
        "duration": 10,
        "start_time": "2023-05-23T18:12:30.385Z"
      },
      {
        "duration": 4,
        "start_time": "2023-05-23T18:12:58.002Z"
      },
      {
        "duration": 11,
        "start_time": "2023-05-23T18:13:00.138Z"
      },
      {
        "duration": 536,
        "start_time": "2023-05-23T18:13:41.201Z"
      },
      {
        "duration": 41,
        "start_time": "2023-05-23T18:13:48.407Z"
      },
      {
        "duration": 852,
        "start_time": "2023-05-23T18:13:58.602Z"
      },
      {
        "duration": 567,
        "start_time": "2023-05-23T18:14:04.992Z"
      },
      {
        "duration": 1906,
        "start_time": "2023-05-23T18:14:07.890Z"
      },
      {
        "duration": 382,
        "start_time": "2023-05-23T18:14:12.387Z"
      },
      {
        "duration": 598,
        "start_time": "2023-05-23T18:14:56.490Z"
      },
      {
        "duration": 3171,
        "start_time": "2023-05-23T18:15:41.600Z"
      },
      {
        "duration": 3020,
        "start_time": "2023-05-23T18:15:51.031Z"
      },
      {
        "duration": 2696,
        "start_time": "2023-05-23T18:16:41.435Z"
      },
      {
        "duration": 2587,
        "start_time": "2023-05-23T18:16:51.075Z"
      },
      {
        "duration": 9,
        "start_time": "2023-05-23T18:16:58.661Z"
      },
      {
        "duration": 3,
        "start_time": "2023-05-23T18:17:58.706Z"
      },
      {
        "duration": 1747,
        "start_time": "2023-05-23T18:18:07.354Z"
      },
      {
        "duration": 808,
        "start_time": "2023-05-23T18:18:39.934Z"
      },
      {
        "duration": 48,
        "start_time": "2023-05-23T18:19:13.819Z"
      },
      {
        "duration": 472,
        "start_time": "2023-05-23T18:19:17.463Z"
      },
      {
        "duration": 427,
        "start_time": "2023-05-23T18:19:21.498Z"
      },
      {
        "duration": 409,
        "start_time": "2023-05-23T18:21:07.451Z"
      },
      {
        "duration": 418,
        "start_time": "2023-05-23T18:21:14.682Z"
      },
      {
        "duration": 382,
        "start_time": "2023-05-23T18:21:35.181Z"
      },
      {
        "duration": 440,
        "start_time": "2023-05-23T18:21:41.259Z"
      },
      {
        "duration": 397,
        "start_time": "2023-05-23T18:21:45.282Z"
      },
      {
        "duration": 411,
        "start_time": "2023-05-23T18:21:50.814Z"
      },
      {
        "duration": 387,
        "start_time": "2023-05-23T18:21:53.275Z"
      },
      {
        "duration": 1854,
        "start_time": "2023-05-23T18:21:58.595Z"
      },
      {
        "duration": 528,
        "start_time": "2023-05-23T18:22:05.197Z"
      },
      {
        "duration": 468,
        "start_time": "2023-05-23T18:22:09.335Z"
      },
      {
        "duration": 4,
        "start_time": "2023-05-23T18:23:24.111Z"
      },
      {
        "duration": 11,
        "start_time": "2023-05-23T18:23:29.428Z"
      },
      {
        "duration": 5,
        "start_time": "2023-05-23T18:23:43.118Z"
      },
      {
        "duration": 14,
        "start_time": "2023-05-23T18:23:44.248Z"
      },
      {
        "duration": 7,
        "start_time": "2023-05-23T18:23:48.884Z"
      },
      {
        "duration": 13,
        "start_time": "2023-05-23T18:23:50.304Z"
      },
      {
        "duration": 20,
        "start_time": "2023-05-23T18:23:56.409Z"
      },
      {
        "duration": 13,
        "start_time": "2023-05-23T18:23:57.560Z"
      },
      {
        "duration": 6,
        "start_time": "2023-05-23T18:24:00.703Z"
      },
      {
        "duration": 17,
        "start_time": "2023-05-23T18:24:01.854Z"
      },
      {
        "duration": 0,
        "start_time": "2023-05-23T18:27:18.002Z"
      },
      {
        "duration": 1304,
        "start_time": "2023-05-23T18:27:28.565Z"
      },
      {
        "duration": 8,
        "start_time": "2023-05-23T18:27:29.872Z"
      },
      {
        "duration": 256,
        "start_time": "2023-05-23T18:27:29.886Z"
      },
      {
        "duration": 12,
        "start_time": "2023-05-23T18:27:30.144Z"
      },
      {
        "duration": 37,
        "start_time": "2023-05-23T18:27:30.158Z"
      },
      {
        "duration": 15,
        "start_time": "2023-05-23T18:27:30.197Z"
      },
      {
        "duration": 48,
        "start_time": "2023-05-23T18:27:30.214Z"
      },
      {
        "duration": 44,
        "start_time": "2023-05-23T18:27:30.264Z"
      },
      {
        "duration": 10,
        "start_time": "2023-05-23T18:27:30.310Z"
      },
      {
        "duration": 41,
        "start_time": "2023-05-23T18:27:30.322Z"
      },
      {
        "duration": 56,
        "start_time": "2023-05-23T18:27:30.365Z"
      },
      {
        "duration": 0,
        "start_time": "2023-05-23T18:28:59.293Z"
      },
      {
        "duration": 457,
        "start_time": "2023-05-23T18:29:01.057Z"
      },
      {
        "duration": 419,
        "start_time": "2023-05-23T18:29:07.001Z"
      },
      {
        "duration": 426,
        "start_time": "2023-05-23T18:29:20.585Z"
      },
      {
        "duration": 5,
        "start_time": "2023-05-23T18:29:30.906Z"
      },
      {
        "duration": 11,
        "start_time": "2023-05-23T18:29:32.315Z"
      },
      {
        "duration": 1217,
        "start_time": "2023-05-23T18:29:46.419Z"
      },
      {
        "duration": 4,
        "start_time": "2023-05-23T18:29:47.638Z"
      },
      {
        "duration": 176,
        "start_time": "2023-05-23T18:29:47.644Z"
      },
      {
        "duration": 16,
        "start_time": "2023-05-23T18:29:47.822Z"
      },
      {
        "duration": 14,
        "start_time": "2023-05-23T18:29:47.840Z"
      },
      {
        "duration": 10,
        "start_time": "2023-05-23T18:29:47.856Z"
      },
      {
        "duration": 18,
        "start_time": "2023-05-23T18:29:47.868Z"
      },
      {
        "duration": 12,
        "start_time": "2023-05-23T18:29:47.887Z"
      },
      {
        "duration": 8,
        "start_time": "2023-05-23T18:29:47.900Z"
      },
      {
        "duration": 4,
        "start_time": "2023-05-23T18:29:47.909Z"
      },
      {
        "duration": 10,
        "start_time": "2023-05-23T18:29:47.914Z"
      },
      {
        "duration": 506,
        "start_time": "2023-05-23T18:29:47.926Z"
      },
      {
        "duration": 5,
        "start_time": "2023-05-23T18:29:48.434Z"
      },
      {
        "duration": 11,
        "start_time": "2023-05-23T18:29:51.748Z"
      },
      {
        "duration": 1356,
        "start_time": "2023-05-23T18:30:43.751Z"
      },
      {
        "duration": 5,
        "start_time": "2023-05-23T18:30:45.109Z"
      },
      {
        "duration": 189,
        "start_time": "2023-05-23T18:30:45.116Z"
      },
      {
        "duration": 15,
        "start_time": "2023-05-23T18:30:45.307Z"
      },
      {
        "duration": 11,
        "start_time": "2023-05-23T18:30:45.324Z"
      },
      {
        "duration": 10,
        "start_time": "2023-05-23T18:30:45.336Z"
      },
      {
        "duration": 14,
        "start_time": "2023-05-23T18:30:45.348Z"
      },
      {
        "duration": 25,
        "start_time": "2023-05-23T18:30:45.363Z"
      },
      {
        "duration": 9,
        "start_time": "2023-05-23T18:30:45.389Z"
      },
      {
        "duration": 3,
        "start_time": "2023-05-23T18:30:45.400Z"
      },
      {
        "duration": 15,
        "start_time": "2023-05-23T18:30:45.405Z"
      },
      {
        "duration": 492,
        "start_time": "2023-05-23T18:30:45.422Z"
      },
      {
        "duration": 4,
        "start_time": "2023-05-23T18:30:45.916Z"
      },
      {
        "duration": 15,
        "start_time": "2023-05-23T18:30:50.407Z"
      },
      {
        "duration": 1370,
        "start_time": "2023-05-23T18:31:19.058Z"
      },
      {
        "duration": 6,
        "start_time": "2023-05-23T18:31:20.430Z"
      },
      {
        "duration": 173,
        "start_time": "2023-05-23T18:31:20.438Z"
      },
      {
        "duration": 11,
        "start_time": "2023-05-23T18:31:20.613Z"
      },
      {
        "duration": 11,
        "start_time": "2023-05-23T18:31:20.626Z"
      },
      {
        "duration": 23,
        "start_time": "2023-05-23T18:31:20.639Z"
      },
      {
        "duration": 22,
        "start_time": "2023-05-23T18:31:20.664Z"
      },
      {
        "duration": 12,
        "start_time": "2023-05-23T18:31:20.692Z"
      },
      {
        "duration": 10,
        "start_time": "2023-05-23T18:31:20.706Z"
      },
      {
        "duration": 3,
        "start_time": "2023-05-23T18:31:20.719Z"
      },
      {
        "duration": 11,
        "start_time": "2023-05-23T18:31:20.724Z"
      },
      {
        "duration": 478,
        "start_time": "2023-05-23T18:31:20.737Z"
      },
      {
        "duration": 4,
        "start_time": "2023-05-23T18:31:21.217Z"
      },
      {
        "duration": 15,
        "start_time": "2023-05-23T18:31:26.648Z"
      },
      {
        "duration": 1341,
        "start_time": "2023-05-23T18:31:44.591Z"
      },
      {
        "duration": 5,
        "start_time": "2023-05-23T18:31:45.935Z"
      },
      {
        "duration": 160,
        "start_time": "2023-05-23T18:31:45.941Z"
      },
      {
        "duration": 14,
        "start_time": "2023-05-23T18:31:46.111Z"
      },
      {
        "duration": 12,
        "start_time": "2023-05-23T18:31:46.127Z"
      },
      {
        "duration": 11,
        "start_time": "2023-05-23T18:31:46.141Z"
      },
      {
        "duration": 15,
        "start_time": "2023-05-23T18:31:46.154Z"
      },
      {
        "duration": 12,
        "start_time": "2023-05-23T18:31:46.171Z"
      },
      {
        "duration": 21,
        "start_time": "2023-05-23T18:31:46.186Z"
      },
      {
        "duration": 5,
        "start_time": "2023-05-23T18:31:46.210Z"
      },
      {
        "duration": 17,
        "start_time": "2023-05-23T18:31:46.218Z"
      },
      {
        "duration": 523,
        "start_time": "2023-05-23T18:31:46.237Z"
      },
      {
        "duration": 10,
        "start_time": "2023-05-23T18:31:49.689Z"
      },
      {
        "duration": 1274,
        "start_time": "2023-05-23T18:32:10.948Z"
      },
      {
        "duration": 4,
        "start_time": "2023-05-23T18:32:12.224Z"
      },
      {
        "duration": 174,
        "start_time": "2023-05-23T18:32:12.229Z"
      },
      {
        "duration": 14,
        "start_time": "2023-05-23T18:32:12.405Z"
      },
      {
        "duration": 18,
        "start_time": "2023-05-23T18:32:12.422Z"
      },
      {
        "duration": 12,
        "start_time": "2023-05-23T18:32:12.442Z"
      },
      {
        "duration": 15,
        "start_time": "2023-05-23T18:32:12.456Z"
      },
      {
        "duration": 21,
        "start_time": "2023-05-23T18:32:12.472Z"
      },
      {
        "duration": 8,
        "start_time": "2023-05-23T18:32:12.495Z"
      },
      {
        "duration": 6,
        "start_time": "2023-05-23T18:32:12.504Z"
      },
      {
        "duration": 14,
        "start_time": "2023-05-23T18:32:12.512Z"
      },
      {
        "duration": 488,
        "start_time": "2023-05-23T18:32:12.527Z"
      },
      {
        "duration": 4,
        "start_time": "2023-05-23T18:32:13.017Z"
      },
      {
        "duration": 12,
        "start_time": "2023-05-23T18:32:17.211Z"
      },
      {
        "duration": 1222,
        "start_time": "2023-05-23T18:32:37.831Z"
      },
      {
        "duration": 4,
        "start_time": "2023-05-23T18:32:39.055Z"
      },
      {
        "duration": 195,
        "start_time": "2023-05-23T18:32:39.061Z"
      },
      {
        "duration": 15,
        "start_time": "2023-05-23T18:32:39.258Z"
      },
      {
        "duration": 18,
        "start_time": "2023-05-23T18:32:39.277Z"
      },
      {
        "duration": 13,
        "start_time": "2023-05-23T18:32:39.297Z"
      },
      {
        "duration": 18,
        "start_time": "2023-05-23T18:32:39.312Z"
      },
      {
        "duration": 12,
        "start_time": "2023-05-23T18:32:39.331Z"
      },
      {
        "duration": 36,
        "start_time": "2023-05-23T18:32:39.345Z"
      },
      {
        "duration": 10,
        "start_time": "2023-05-23T18:32:39.383Z"
      },
      {
        "duration": 10,
        "start_time": "2023-05-23T18:32:39.395Z"
      },
      {
        "duration": 466,
        "start_time": "2023-05-23T18:32:39.407Z"
      },
      {
        "duration": 15,
        "start_time": "2023-05-23T18:32:39.875Z"
      },
      {
        "duration": 11,
        "start_time": "2023-05-23T18:32:47.894Z"
      },
      {
        "duration": 1256,
        "start_time": "2023-05-23T18:33:11.499Z"
      },
      {
        "duration": 6,
        "start_time": "2023-05-23T18:33:12.757Z"
      },
      {
        "duration": 195,
        "start_time": "2023-05-23T18:33:12.765Z"
      },
      {
        "duration": 21,
        "start_time": "2023-05-23T18:33:12.963Z"
      },
      {
        "duration": 14,
        "start_time": "2023-05-23T18:33:12.987Z"
      },
      {
        "duration": 11,
        "start_time": "2023-05-23T18:33:13.003Z"
      },
      {
        "duration": 19,
        "start_time": "2023-05-23T18:33:13.016Z"
      },
      {
        "duration": 17,
        "start_time": "2023-05-23T18:33:13.037Z"
      },
      {
        "duration": 38,
        "start_time": "2023-05-23T18:33:13.056Z"
      },
      {
        "duration": 8,
        "start_time": "2023-05-23T18:33:13.098Z"
      },
      {
        "duration": 11,
        "start_time": "2023-05-23T18:33:13.108Z"
      },
      {
        "duration": 551,
        "start_time": "2023-05-23T18:33:13.121Z"
      },
      {
        "duration": 8,
        "start_time": "2023-05-23T18:33:13.674Z"
      },
      {
        "duration": 11,
        "start_time": "2023-05-23T18:33:13.690Z"
      },
      {
        "duration": 21,
        "start_time": "2023-05-23T18:33:16.324Z"
      },
      {
        "duration": 47,
        "start_time": "2023-05-23T18:34:17.693Z"
      },
      {
        "duration": 1411,
        "start_time": "2023-05-23T18:34:26.286Z"
      },
      {
        "duration": 4,
        "start_time": "2023-05-23T18:34:27.699Z"
      },
      {
        "duration": 206,
        "start_time": "2023-05-23T18:34:27.705Z"
      },
      {
        "duration": 12,
        "start_time": "2023-05-23T18:34:27.913Z"
      },
      {
        "duration": 24,
        "start_time": "2023-05-23T18:34:27.927Z"
      },
      {
        "duration": 11,
        "start_time": "2023-05-23T18:34:27.952Z"
      },
      {
        "duration": 33,
        "start_time": "2023-05-23T18:34:27.964Z"
      },
      {
        "duration": 10,
        "start_time": "2023-05-23T18:34:27.998Z"
      },
      {
        "duration": 10,
        "start_time": "2023-05-23T18:34:28.010Z"
      },
      {
        "duration": 16,
        "start_time": "2023-05-23T18:34:28.022Z"
      },
      {
        "duration": 23,
        "start_time": "2023-05-23T18:34:28.040Z"
      },
      {
        "duration": 494,
        "start_time": "2023-05-23T18:34:28.066Z"
      },
      {
        "duration": 6,
        "start_time": "2023-05-23T18:34:28.562Z"
      },
      {
        "duration": 23,
        "start_time": "2023-05-23T18:34:28.576Z"
      },
      {
        "duration": 1299,
        "start_time": "2023-05-23T18:35:11.541Z"
      },
      {
        "duration": 5,
        "start_time": "2023-05-23T18:35:12.841Z"
      },
      {
        "duration": 178,
        "start_time": "2023-05-23T18:35:12.847Z"
      },
      {
        "duration": 12,
        "start_time": "2023-05-23T18:35:13.027Z"
      },
      {
        "duration": 11,
        "start_time": "2023-05-23T18:35:13.042Z"
      },
      {
        "duration": 11,
        "start_time": "2023-05-23T18:35:13.054Z"
      },
      {
        "duration": 26,
        "start_time": "2023-05-23T18:35:13.067Z"
      },
      {
        "duration": 10,
        "start_time": "2023-05-23T18:35:13.096Z"
      },
      {
        "duration": 11,
        "start_time": "2023-05-23T18:35:13.108Z"
      },
      {
        "duration": 5,
        "start_time": "2023-05-23T18:35:13.121Z"
      },
      {
        "duration": 23,
        "start_time": "2023-05-23T18:35:13.128Z"
      },
      {
        "duration": 459,
        "start_time": "2023-05-23T18:35:13.153Z"
      },
      {
        "duration": 4,
        "start_time": "2023-05-23T18:35:13.614Z"
      },
      {
        "duration": 18,
        "start_time": "2023-05-23T18:35:13.620Z"
      },
      {
        "duration": 1456,
        "start_time": "2023-05-23T18:35:23.655Z"
      },
      {
        "duration": 4,
        "start_time": "2023-05-23T18:35:25.113Z"
      },
      {
        "duration": 209,
        "start_time": "2023-05-23T18:35:25.118Z"
      },
      {
        "duration": 12,
        "start_time": "2023-05-23T18:35:25.329Z"
      },
      {
        "duration": 13,
        "start_time": "2023-05-23T18:35:25.343Z"
      },
      {
        "duration": 13,
        "start_time": "2023-05-23T18:35:25.357Z"
      },
      {
        "duration": 31,
        "start_time": "2023-05-23T18:35:25.371Z"
      },
      {
        "duration": 18,
        "start_time": "2023-05-23T18:35:25.405Z"
      },
      {
        "duration": 14,
        "start_time": "2023-05-23T18:35:25.425Z"
      },
      {
        "duration": 16,
        "start_time": "2023-05-23T18:35:25.440Z"
      },
      {
        "duration": 33,
        "start_time": "2023-05-23T18:35:25.457Z"
      },
      {
        "duration": 441,
        "start_time": "2023-05-23T18:35:25.496Z"
      },
      {
        "duration": 4,
        "start_time": "2023-05-23T18:35:25.940Z"
      },
      {
        "duration": 12,
        "start_time": "2023-05-23T18:35:25.947Z"
      },
      {
        "duration": 1345,
        "start_time": "2023-05-23T18:35:34.239Z"
      },
      {
        "duration": 5,
        "start_time": "2023-05-23T18:35:35.592Z"
      },
      {
        "duration": 166,
        "start_time": "2023-05-23T18:35:35.599Z"
      },
      {
        "duration": 12,
        "start_time": "2023-05-23T18:35:35.767Z"
      },
      {
        "duration": 17,
        "start_time": "2023-05-23T18:35:35.781Z"
      },
      {
        "duration": 19,
        "start_time": "2023-05-23T18:35:35.800Z"
      },
      {
        "duration": 48,
        "start_time": "2023-05-23T18:35:35.821Z"
      },
      {
        "duration": 27,
        "start_time": "2023-05-23T18:35:35.872Z"
      },
      {
        "duration": 9,
        "start_time": "2023-05-23T18:35:35.902Z"
      },
      {
        "duration": 6,
        "start_time": "2023-05-23T18:35:35.912Z"
      },
      {
        "duration": 20,
        "start_time": "2023-05-23T18:35:35.920Z"
      },
      {
        "duration": 502,
        "start_time": "2023-05-23T18:35:35.942Z"
      },
      {
        "duration": 5,
        "start_time": "2023-05-23T18:35:36.446Z"
      },
      {
        "duration": 32,
        "start_time": "2023-05-23T18:35:36.455Z"
      },
      {
        "duration": 1261,
        "start_time": "2023-05-23T18:35:45.193Z"
      },
      {
        "duration": 3,
        "start_time": "2023-05-23T18:35:46.456Z"
      },
      {
        "duration": 224,
        "start_time": "2023-05-23T18:35:46.461Z"
      },
      {
        "duration": 15,
        "start_time": "2023-05-23T18:35:46.690Z"
      },
      {
        "duration": 15,
        "start_time": "2023-05-23T18:35:46.708Z"
      },
      {
        "duration": 11,
        "start_time": "2023-05-23T18:35:46.724Z"
      },
      {
        "duration": 23,
        "start_time": "2023-05-23T18:35:46.736Z"
      },
      {
        "duration": 36,
        "start_time": "2023-05-23T18:35:46.761Z"
      },
      {
        "duration": 15,
        "start_time": "2023-05-23T18:35:46.798Z"
      },
      {
        "duration": 11,
        "start_time": "2023-05-23T18:35:46.815Z"
      },
      {
        "duration": 12,
        "start_time": "2023-05-23T18:35:46.828Z"
      },
      {
        "duration": 459,
        "start_time": "2023-05-23T18:35:46.842Z"
      },
      {
        "duration": 5,
        "start_time": "2023-05-23T18:35:47.302Z"
      },
      {
        "duration": 11,
        "start_time": "2023-05-23T18:35:47.309Z"
      },
      {
        "duration": 1418,
        "start_time": "2023-05-23T18:36:16.558Z"
      },
      {
        "duration": 7,
        "start_time": "2023-05-23T18:36:17.982Z"
      },
      {
        "duration": 236,
        "start_time": "2023-05-23T18:36:17.993Z"
      },
      {
        "duration": 18,
        "start_time": "2023-05-23T18:36:18.231Z"
      },
      {
        "duration": 12,
        "start_time": "2023-05-23T18:36:18.251Z"
      },
      {
        "duration": 13,
        "start_time": "2023-05-23T18:36:18.266Z"
      },
      {
        "duration": 25,
        "start_time": "2023-05-23T18:36:18.282Z"
      },
      {
        "duration": 13,
        "start_time": "2023-05-23T18:36:18.309Z"
      },
      {
        "duration": 16,
        "start_time": "2023-05-23T18:36:18.325Z"
      },
      {
        "duration": 4,
        "start_time": "2023-05-23T18:36:18.344Z"
      },
      {
        "duration": 15,
        "start_time": "2023-05-23T18:36:18.350Z"
      },
      {
        "duration": 513,
        "start_time": "2023-05-23T18:36:18.375Z"
      },
      {
        "duration": 7,
        "start_time": "2023-05-23T18:36:18.896Z"
      },
      {
        "duration": 13,
        "start_time": "2023-05-23T18:36:18.907Z"
      },
      {
        "duration": 927,
        "start_time": "2023-05-23T18:39:13.233Z"
      },
      {
        "duration": 451,
        "start_time": "2023-05-23T18:39:20.863Z"
      },
      {
        "duration": 187,
        "start_time": "2023-05-23T18:40:56.606Z"
      },
      {
        "duration": 185,
        "start_time": "2023-05-23T18:41:00.655Z"
      },
      {
        "duration": 20,
        "start_time": "2023-05-23T18:41:27.820Z"
      },
      {
        "duration": 188,
        "start_time": "2023-05-23T18:41:31.791Z"
      },
      {
        "duration": 4,
        "start_time": "2023-05-23T18:41:52.857Z"
      },
      {
        "duration": 179,
        "start_time": "2023-05-23T18:41:55.111Z"
      },
      {
        "duration": 147,
        "start_time": "2023-05-23T18:41:58.853Z"
      },
      {
        "duration": 236,
        "start_time": "2023-05-23T18:42:32.587Z"
      },
      {
        "duration": 4,
        "start_time": "2023-05-23T18:43:00.465Z"
      },
      {
        "duration": 305,
        "start_time": "2023-05-23T18:43:46.590Z"
      },
      {
        "duration": 145,
        "start_time": "2023-05-23T18:43:55.495Z"
      },
      {
        "duration": 4,
        "start_time": "2023-05-23T18:44:10.439Z"
      },
      {
        "duration": 11,
        "start_time": "2023-05-23T18:44:16.493Z"
      },
      {
        "duration": 1391,
        "start_time": "2023-05-23T18:44:52.843Z"
      },
      {
        "duration": 6,
        "start_time": "2023-05-23T18:44:54.240Z"
      },
      {
        "duration": 262,
        "start_time": "2023-05-23T18:44:54.249Z"
      },
      {
        "duration": 12,
        "start_time": "2023-05-23T18:44:54.513Z"
      },
      {
        "duration": 13,
        "start_time": "2023-05-23T18:44:54.527Z"
      },
      {
        "duration": 14,
        "start_time": "2023-05-23T18:44:54.542Z"
      },
      {
        "duration": 16,
        "start_time": "2023-05-23T18:44:54.557Z"
      },
      {
        "duration": 20,
        "start_time": "2023-05-23T18:44:54.580Z"
      },
      {
        "duration": 17,
        "start_time": "2023-05-23T18:44:54.602Z"
      },
      {
        "duration": 10,
        "start_time": "2023-05-23T18:44:54.623Z"
      },
      {
        "duration": 16,
        "start_time": "2023-05-23T18:44:54.635Z"
      },
      {
        "duration": 511,
        "start_time": "2023-05-23T18:44:54.653Z"
      },
      {
        "duration": 19,
        "start_time": "2023-05-23T18:44:55.166Z"
      },
      {
        "duration": 456,
        "start_time": "2023-05-23T18:44:55.188Z"
      },
      {
        "duration": 11,
        "start_time": "2023-05-23T18:44:55.646Z"
      },
      {
        "duration": 36,
        "start_time": "2023-05-23T18:44:55.659Z"
      },
      {
        "duration": 9,
        "start_time": "2023-05-23T18:44:55.697Z"
      },
      {
        "duration": 119,
        "start_time": "2023-05-23T18:44:55.708Z"
      },
      {
        "duration": 4,
        "start_time": "2023-05-23T18:44:55.829Z"
      },
      {
        "duration": 18,
        "start_time": "2023-05-23T18:44:55.835Z"
      },
      {
        "duration": 4,
        "start_time": "2023-05-23T18:45:41.644Z"
      },
      {
        "duration": 14,
        "start_time": "2023-05-23T18:45:42.994Z"
      },
      {
        "duration": 6,
        "start_time": "2023-05-23T18:45:57.715Z"
      },
      {
        "duration": 14,
        "start_time": "2023-05-23T18:45:58.901Z"
      },
      {
        "duration": 681,
        "start_time": "2023-05-23T18:46:20.743Z"
      },
      {
        "duration": 406,
        "start_time": "2023-05-23T18:46:51.145Z"
      },
      {
        "duration": 1334,
        "start_time": "2023-05-23T18:47:14.813Z"
      },
      {
        "duration": 3,
        "start_time": "2023-05-23T18:47:16.149Z"
      },
      {
        "duration": 191,
        "start_time": "2023-05-23T18:47:16.154Z"
      },
      {
        "duration": 13,
        "start_time": "2023-05-23T18:47:16.347Z"
      },
      {
        "duration": 11,
        "start_time": "2023-05-23T18:47:16.361Z"
      },
      {
        "duration": 16,
        "start_time": "2023-05-23T18:47:16.374Z"
      },
      {
        "duration": 14,
        "start_time": "2023-05-23T18:47:16.396Z"
      },
      {
        "duration": 11,
        "start_time": "2023-05-23T18:47:16.411Z"
      },
      {
        "duration": 12,
        "start_time": "2023-05-23T18:47:16.424Z"
      },
      {
        "duration": 4,
        "start_time": "2023-05-23T18:47:16.438Z"
      },
      {
        "duration": 49,
        "start_time": "2023-05-23T18:47:16.444Z"
      },
      {
        "duration": 466,
        "start_time": "2023-05-23T18:47:16.494Z"
      },
      {
        "duration": 5,
        "start_time": "2023-05-23T18:47:16.962Z"
      },
      {
        "duration": 20,
        "start_time": "2023-05-23T18:47:16.974Z"
      },
      {
        "duration": 13,
        "start_time": "2023-05-23T18:47:16.995Z"
      },
      {
        "duration": 9,
        "start_time": "2023-05-23T18:47:17.010Z"
      },
      {
        "duration": 15,
        "start_time": "2023-05-23T18:47:25.058Z"
      },
      {
        "duration": 764,
        "start_time": "2023-05-23T18:47:27.141Z"
      },
      {
        "duration": 390,
        "start_time": "2023-05-23T18:48:19.060Z"
      },
      {
        "duration": 541,
        "start_time": "2023-05-23T18:48:30.170Z"
      },
      {
        "duration": 411,
        "start_time": "2023-05-23T18:54:19.793Z"
      },
      {
        "duration": 522,
        "start_time": "2023-05-23T18:56:04.997Z"
      },
      {
        "duration": 7,
        "start_time": "2023-05-23T19:01:30.096Z"
      },
      {
        "duration": 6,
        "start_time": "2023-05-23T19:01:36.904Z"
      },
      {
        "duration": 259,
        "start_time": "2023-05-23T19:02:07.117Z"
      },
      {
        "duration": 180,
        "start_time": "2023-05-23T19:02:17.186Z"
      },
      {
        "duration": 188,
        "start_time": "2023-05-23T19:02:36.850Z"
      },
      {
        "duration": 171,
        "start_time": "2023-05-23T19:02:51.683Z"
      },
      {
        "duration": 158,
        "start_time": "2023-05-23T19:04:07.099Z"
      },
      {
        "duration": 212,
        "start_time": "2023-05-23T19:04:20.889Z"
      },
      {
        "duration": 180,
        "start_time": "2023-05-23T19:06:13.048Z"
      },
      {
        "duration": 176,
        "start_time": "2023-05-23T19:06:18.935Z"
      },
      {
        "duration": 11,
        "start_time": "2023-05-23T19:07:24.711Z"
      },
      {
        "duration": 7,
        "start_time": "2023-05-23T19:10:09.626Z"
      },
      {
        "duration": 4,
        "start_time": "2023-05-23T19:10:19.299Z"
      },
      {
        "duration": 10,
        "start_time": "2023-05-23T19:10:25.478Z"
      },
      {
        "duration": 4,
        "start_time": "2023-05-23T19:11:14.592Z"
      },
      {
        "duration": 8,
        "start_time": "2023-05-23T19:11:17.726Z"
      },
      {
        "duration": 6,
        "start_time": "2023-05-23T19:11:34.638Z"
      },
      {
        "duration": 8,
        "start_time": "2023-05-23T19:11:40.422Z"
      },
      {
        "duration": 6,
        "start_time": "2023-05-23T19:11:43.714Z"
      },
      {
        "duration": 7,
        "start_time": "2023-05-23T19:13:36.962Z"
      },
      {
        "duration": 18,
        "start_time": "2023-05-23T19:13:39.048Z"
      },
      {
        "duration": 193,
        "start_time": "2023-05-23T19:14:16.969Z"
      },
      {
        "duration": 7,
        "start_time": "2023-05-23T19:14:47.997Z"
      },
      {
        "duration": 5,
        "start_time": "2023-05-23T19:17:28.051Z"
      },
      {
        "duration": 8,
        "start_time": "2023-05-23T19:19:59.735Z"
      },
      {
        "duration": 8,
        "start_time": "2023-05-23T19:20:29.914Z"
      },
      {
        "duration": 22,
        "start_time": "2023-05-23T19:20:31.780Z"
      },
      {
        "duration": 9,
        "start_time": "2023-05-23T19:20:45.167Z"
      },
      {
        "duration": 225,
        "start_time": "2023-05-23T19:20:56.258Z"
      },
      {
        "duration": 7,
        "start_time": "2023-05-23T19:21:24.493Z"
      },
      {
        "duration": 153,
        "start_time": "2023-05-23T19:21:25.738Z"
      },
      {
        "duration": 9,
        "start_time": "2023-05-23T19:21:34.457Z"
      },
      {
        "duration": 194,
        "start_time": "2023-05-23T19:21:36.018Z"
      },
      {
        "duration": 9,
        "start_time": "2023-05-23T19:21:40.320Z"
      },
      {
        "duration": 178,
        "start_time": "2023-05-23T19:21:42.088Z"
      },
      {
        "duration": 6,
        "start_time": "2023-05-23T19:22:58.050Z"
      },
      {
        "duration": 1443,
        "start_time": "2023-05-23T19:37:39.153Z"
      },
      {
        "duration": 6,
        "start_time": "2023-05-23T19:37:40.603Z"
      },
      {
        "duration": 386,
        "start_time": "2023-05-23T19:37:40.611Z"
      },
      {
        "duration": 13,
        "start_time": "2023-05-23T19:37:40.999Z"
      },
      {
        "duration": 15,
        "start_time": "2023-05-23T19:37:41.015Z"
      },
      {
        "duration": 14,
        "start_time": "2023-05-23T19:37:41.031Z"
      },
      {
        "duration": 16,
        "start_time": "2023-05-23T19:37:41.047Z"
      },
      {
        "duration": 19,
        "start_time": "2023-05-23T19:37:41.075Z"
      },
      {
        "duration": 10,
        "start_time": "2023-05-23T19:37:41.095Z"
      },
      {
        "duration": 5,
        "start_time": "2023-05-23T19:37:41.107Z"
      },
      {
        "duration": 15,
        "start_time": "2023-05-23T19:37:41.114Z"
      },
      {
        "duration": 46,
        "start_time": "2023-05-23T19:37:41.131Z"
      },
      {
        "duration": 23,
        "start_time": "2023-05-23T19:37:41.182Z"
      },
      {
        "duration": 699,
        "start_time": "2023-05-23T19:37:41.209Z"
      },
      {
        "duration": 427,
        "start_time": "2023-05-23T19:37:41.911Z"
      },
      {
        "duration": 524,
        "start_time": "2023-05-23T19:37:42.340Z"
      },
      {
        "duration": 404,
        "start_time": "2023-05-23T19:37:42.866Z"
      },
      {
        "duration": 525,
        "start_time": "2023-05-23T19:37:43.275Z"
      },
      {
        "duration": 8,
        "start_time": "2023-05-23T19:37:43.803Z"
      },
      {
        "duration": 238,
        "start_time": "2023-05-23T19:37:43.813Z"
      },
      {
        "duration": 7,
        "start_time": "2023-05-23T19:37:44.053Z"
      },
      {
        "duration": 10,
        "start_time": "2023-05-23T19:37:44.076Z"
      },
      {
        "duration": 206,
        "start_time": "2023-05-23T19:37:44.091Z"
      },
      {
        "duration": 7,
        "start_time": "2023-05-23T19:37:44.300Z"
      },
      {
        "duration": 7,
        "start_time": "2023-05-23T19:41:36.787Z"
      },
      {
        "duration": 232,
        "start_time": "2023-05-23T19:41:39.079Z"
      },
      {
        "duration": 5,
        "start_time": "2023-05-23T19:41:43.444Z"
      },
      {
        "duration": 11,
        "start_time": "2023-05-23T19:41:46.079Z"
      },
      {
        "duration": 4,
        "start_time": "2023-05-23T19:43:53.417Z"
      },
      {
        "duration": 4,
        "start_time": "2023-05-23T19:43:57.809Z"
      },
      {
        "duration": 10,
        "start_time": "2023-05-23T19:44:03.628Z"
      },
      {
        "duration": 4,
        "start_time": "2023-05-23T19:44:13.462Z"
      },
      {
        "duration": 11,
        "start_time": "2023-05-23T19:44:15.693Z"
      },
      {
        "duration": 12,
        "start_time": "2023-05-23T19:47:58.749Z"
      },
      {
        "duration": 4,
        "start_time": "2023-05-23T19:48:44.604Z"
      },
      {
        "duration": 13,
        "start_time": "2023-05-23T19:50:26.905Z"
      },
      {
        "duration": 6,
        "start_time": "2023-05-23T19:51:35.812Z"
      },
      {
        "duration": 12,
        "start_time": "2023-05-23T19:51:39.074Z"
      },
      {
        "duration": 108,
        "start_time": "2023-05-23T19:51:58.610Z"
      },
      {
        "duration": 12,
        "start_time": "2023-05-23T19:52:00.347Z"
      },
      {
        "duration": 13,
        "start_time": "2023-05-23T19:52:05.487Z"
      },
      {
        "duration": 14,
        "start_time": "2023-05-23T19:52:13.156Z"
      },
      {
        "duration": 14,
        "start_time": "2023-05-23T19:52:18.127Z"
      },
      {
        "duration": 21,
        "start_time": "2023-05-23T19:52:41.126Z"
      },
      {
        "duration": 9,
        "start_time": "2023-05-23T19:52:45.226Z"
      },
      {
        "duration": 13,
        "start_time": "2023-05-23T19:52:46.894Z"
      },
      {
        "duration": 4,
        "start_time": "2023-05-23T19:53:42.356Z"
      },
      {
        "duration": 16,
        "start_time": "2023-05-23T19:53:45.518Z"
      },
      {
        "duration": 8,
        "start_time": "2023-05-23T19:54:12.537Z"
      },
      {
        "duration": 18,
        "start_time": "2023-05-23T19:54:17.055Z"
      },
      {
        "duration": 18,
        "start_time": "2023-05-23T19:54:26.012Z"
      },
      {
        "duration": 14,
        "start_time": "2023-05-23T19:54:32.109Z"
      },
      {
        "duration": 17,
        "start_time": "2023-05-23T19:55:00.450Z"
      },
      {
        "duration": 7,
        "start_time": "2023-05-23T19:55:08.257Z"
      },
      {
        "duration": 7,
        "start_time": "2023-05-23T19:55:13.372Z"
      },
      {
        "duration": 18,
        "start_time": "2023-05-23T19:55:16.121Z"
      },
      {
        "duration": 4,
        "start_time": "2023-05-23T19:55:20.464Z"
      },
      {
        "duration": 16,
        "start_time": "2023-05-23T19:58:26.984Z"
      },
      {
        "duration": 4,
        "start_time": "2023-05-23T19:58:46.956Z"
      },
      {
        "duration": 782,
        "start_time": "2023-05-23T19:58:49.745Z"
      },
      {
        "duration": 44,
        "start_time": "2023-05-23T20:05:40.296Z"
      },
      {
        "duration": 30,
        "start_time": "2023-05-23T20:05:55.573Z"
      },
      {
        "duration": 26,
        "start_time": "2023-05-23T20:06:24.474Z"
      },
      {
        "duration": 18,
        "start_time": "2023-05-23T20:06:54.311Z"
      },
      {
        "duration": 27,
        "start_time": "2023-05-23T20:07:56.150Z"
      },
      {
        "duration": 25,
        "start_time": "2023-05-23T20:08:10.246Z"
      },
      {
        "duration": 26,
        "start_time": "2023-05-23T20:08:24.481Z"
      },
      {
        "duration": 21,
        "start_time": "2023-05-23T20:09:32.511Z"
      },
      {
        "duration": 7,
        "start_time": "2023-05-23T20:09:38.986Z"
      },
      {
        "duration": 28,
        "start_time": "2023-05-23T20:09:40.870Z"
      },
      {
        "duration": 3,
        "start_time": "2023-05-23T20:10:00.147Z"
      },
      {
        "duration": 32,
        "start_time": "2023-05-23T20:10:17.540Z"
      },
      {
        "duration": 29,
        "start_time": "2023-05-23T20:11:24.216Z"
      },
      {
        "duration": 22,
        "start_time": "2023-05-23T20:11:31.825Z"
      },
      {
        "duration": 59,
        "start_time": "2023-05-23T20:12:39.338Z"
      },
      {
        "duration": 30,
        "start_time": "2023-05-23T20:12:45.693Z"
      },
      {
        "duration": 26,
        "start_time": "2023-05-23T20:13:03.370Z"
      },
      {
        "duration": 21,
        "start_time": "2023-05-23T20:13:09.478Z"
      },
      {
        "duration": 17,
        "start_time": "2023-05-23T20:13:37.785Z"
      },
      {
        "duration": 19,
        "start_time": "2023-05-23T20:13:41.699Z"
      },
      {
        "duration": 146,
        "start_time": "2023-05-23T20:17:49.235Z"
      },
      {
        "duration": 174,
        "start_time": "2023-05-23T20:18:38.554Z"
      },
      {
        "duration": 622,
        "start_time": "2023-05-23T20:19:33.707Z"
      },
      {
        "duration": 514,
        "start_time": "2023-05-23T20:19:45.338Z"
      },
      {
        "duration": 531,
        "start_time": "2023-05-23T20:22:10.910Z"
      },
      {
        "duration": 536,
        "start_time": "2023-05-23T20:22:31.318Z"
      },
      {
        "duration": 15,
        "start_time": "2023-05-23T20:29:08.897Z"
      },
      {
        "duration": 14,
        "start_time": "2023-05-23T20:30:45.859Z"
      },
      {
        "duration": 1123,
        "start_time": "2023-05-23T20:34:25.935Z"
      },
      {
        "duration": 19,
        "start_time": "2023-05-23T20:34:52.603Z"
      },
      {
        "duration": 490,
        "start_time": "2023-05-23T20:35:08.756Z"
      },
      {
        "duration": 9,
        "start_time": "2023-05-23T20:35:12.140Z"
      },
      {
        "duration": 40,
        "start_time": "2023-05-23T20:36:16.606Z"
      },
      {
        "duration": 53,
        "start_time": "2023-05-23T20:37:11.112Z"
      },
      {
        "duration": 65,
        "start_time": "2023-05-23T20:38:57.198Z"
      },
      {
        "duration": 81,
        "start_time": "2023-05-23T20:39:11.362Z"
      },
      {
        "duration": 34,
        "start_time": "2023-05-23T20:39:22.336Z"
      },
      {
        "duration": 19,
        "start_time": "2023-05-23T20:39:30.719Z"
      },
      {
        "duration": 16,
        "start_time": "2023-05-23T20:39:43.206Z"
      },
      {
        "duration": 1368,
        "start_time": "2023-05-23T21:03:39.857Z"
      },
      {
        "duration": 4,
        "start_time": "2023-05-23T21:03:41.228Z"
      },
      {
        "duration": 399,
        "start_time": "2023-05-23T21:03:41.234Z"
      },
      {
        "duration": 13,
        "start_time": "2023-05-23T21:03:41.636Z"
      },
      {
        "duration": 12,
        "start_time": "2023-05-23T21:03:41.651Z"
      },
      {
        "duration": 13,
        "start_time": "2023-05-23T21:03:41.664Z"
      },
      {
        "duration": 15,
        "start_time": "2023-05-23T21:03:41.678Z"
      },
      {
        "duration": 20,
        "start_time": "2023-05-23T21:03:41.698Z"
      },
      {
        "duration": 10,
        "start_time": "2023-05-23T21:03:41.720Z"
      },
      {
        "duration": 4,
        "start_time": "2023-05-23T21:03:41.734Z"
      },
      {
        "duration": 12,
        "start_time": "2023-05-23T21:03:41.740Z"
      },
      {
        "duration": 30,
        "start_time": "2023-05-23T21:03:41.754Z"
      },
      {
        "duration": 12,
        "start_time": "2023-05-23T21:03:41.789Z"
      },
      {
        "duration": 711,
        "start_time": "2023-05-23T21:03:41.803Z"
      },
      {
        "duration": 421,
        "start_time": "2023-05-23T21:03:42.517Z"
      },
      {
        "duration": 500,
        "start_time": "2023-05-23T21:03:42.940Z"
      },
      {
        "duration": 413,
        "start_time": "2023-05-23T21:03:43.442Z"
      },
      {
        "duration": 590,
        "start_time": "2023-05-23T21:03:43.857Z"
      },
      {
        "duration": 9,
        "start_time": "2023-05-23T21:03:44.450Z"
      },
      {
        "duration": 212,
        "start_time": "2023-05-23T21:03:44.461Z"
      },
      {
        "duration": 6,
        "start_time": "2023-05-23T21:03:44.678Z"
      },
      {
        "duration": 8,
        "start_time": "2023-05-23T21:03:44.686Z"
      },
      {
        "duration": 8,
        "start_time": "2023-05-23T21:03:44.696Z"
      },
      {
        "duration": 191,
        "start_time": "2023-05-23T21:03:44.705Z"
      },
      {
        "duration": 9,
        "start_time": "2023-05-23T21:03:44.897Z"
      },
      {
        "duration": 13,
        "start_time": "2023-05-23T21:03:44.908Z"
      },
      {
        "duration": 593,
        "start_time": "2023-05-23T21:03:44.925Z"
      },
      {
        "duration": 11,
        "start_time": "2023-05-23T21:03:45.521Z"
      },
      {
        "duration": 70,
        "start_time": "2023-05-23T21:03:45.533Z"
      },
      {
        "duration": 20,
        "start_time": "2023-05-23T21:03:45.608Z"
      },
      {
        "duration": 1458,
        "start_time": "2023-05-24T05:53:55.468Z"
      },
      {
        "duration": 3,
        "start_time": "2023-05-24T05:53:56.929Z"
      },
      {
        "duration": 352,
        "start_time": "2023-05-24T05:53:56.934Z"
      },
      {
        "duration": 15,
        "start_time": "2023-05-24T05:53:57.287Z"
      },
      {
        "duration": 14,
        "start_time": "2023-05-24T05:53:57.305Z"
      },
      {
        "duration": 12,
        "start_time": "2023-05-24T05:53:57.321Z"
      },
      {
        "duration": 26,
        "start_time": "2023-05-24T05:53:57.336Z"
      },
      {
        "duration": 13,
        "start_time": "2023-05-24T05:53:57.363Z"
      },
      {
        "duration": 55,
        "start_time": "2023-05-24T05:53:57.377Z"
      },
      {
        "duration": 8,
        "start_time": "2023-05-24T05:53:57.434Z"
      },
      {
        "duration": 16,
        "start_time": "2023-05-24T05:53:57.444Z"
      },
      {
        "duration": 15,
        "start_time": "2023-05-24T05:53:57.462Z"
      },
      {
        "duration": 10,
        "start_time": "2023-05-24T05:53:57.478Z"
      },
      {
        "duration": 645,
        "start_time": "2023-05-24T05:53:57.492Z"
      },
      {
        "duration": 417,
        "start_time": "2023-05-24T05:53:58.138Z"
      },
      {
        "duration": 473,
        "start_time": "2023-05-24T05:53:58.557Z"
      },
      {
        "duration": 447,
        "start_time": "2023-05-24T05:53:59.032Z"
      },
      {
        "duration": 535,
        "start_time": "2023-05-24T05:53:59.481Z"
      },
      {
        "duration": 6,
        "start_time": "2023-05-24T05:54:00.018Z"
      },
      {
        "duration": 216,
        "start_time": "2023-05-24T05:54:00.026Z"
      },
      {
        "duration": 4,
        "start_time": "2023-05-24T05:54:00.243Z"
      },
      {
        "duration": 31,
        "start_time": "2023-05-24T05:54:00.249Z"
      },
      {
        "duration": 52,
        "start_time": "2023-05-24T05:54:00.281Z"
      },
      {
        "duration": 181,
        "start_time": "2023-05-24T05:54:00.335Z"
      },
      {
        "duration": 5,
        "start_time": "2023-05-24T05:54:00.517Z"
      },
      {
        "duration": 43,
        "start_time": "2023-05-24T05:54:00.524Z"
      },
      {
        "duration": 553,
        "start_time": "2023-05-24T05:54:00.569Z"
      },
      {
        "duration": 14,
        "start_time": "2023-05-24T05:54:01.124Z"
      },
      {
        "duration": 78,
        "start_time": "2023-05-24T05:54:01.140Z"
      },
      {
        "duration": 69,
        "start_time": "2023-05-24T05:54:01.220Z"
      },
      {
        "duration": 46,
        "start_time": "2023-05-24T07:43:02.485Z"
      },
      {
        "duration": 1645,
        "start_time": "2023-05-25T04:37:11.063Z"
      },
      {
        "duration": 5,
        "start_time": "2023-05-25T04:37:12.710Z"
      },
      {
        "duration": 444,
        "start_time": "2023-05-25T04:37:14.058Z"
      },
      {
        "duration": 13,
        "start_time": "2023-05-25T04:37:16.347Z"
      },
      {
        "duration": 14,
        "start_time": "2023-05-25T04:37:22.379Z"
      },
      {
        "duration": 108,
        "start_time": "2023-05-25T04:38:33.293Z"
      },
      {
        "duration": 15,
        "start_time": "2023-05-25T04:38:47.369Z"
      },
      {
        "duration": 12,
        "start_time": "2023-05-25T04:38:54.974Z"
      },
      {
        "duration": 12,
        "start_time": "2023-05-25T04:38:59.512Z"
      },
      {
        "duration": 11,
        "start_time": "2023-05-25T04:39:23.619Z"
      },
      {
        "duration": 7,
        "start_time": "2023-05-25T04:44:46.579Z"
      },
      {
        "duration": 6,
        "start_time": "2023-05-25T04:45:30.510Z"
      },
      {
        "duration": 3,
        "start_time": "2023-05-25T04:47:30.656Z"
      },
      {
        "duration": 12,
        "start_time": "2023-05-25T04:47:37.352Z"
      },
      {
        "duration": 12,
        "start_time": "2023-05-25T04:47:49.318Z"
      },
      {
        "duration": 11,
        "start_time": "2023-05-25T04:48:31.454Z"
      },
      {
        "duration": 8,
        "start_time": "2023-05-25T04:48:33.083Z"
      },
      {
        "duration": 54,
        "start_time": "2023-05-25T09:35:20.126Z"
      },
      {
        "duration": 1452,
        "start_time": "2023-05-25T09:35:23.278Z"
      },
      {
        "duration": 3,
        "start_time": "2023-05-25T09:35:24.733Z"
      },
      {
        "duration": 190,
        "start_time": "2023-05-25T09:35:24.737Z"
      },
      {
        "duration": 13,
        "start_time": "2023-05-25T09:35:24.929Z"
      },
      {
        "duration": 14,
        "start_time": "2023-05-25T09:35:24.945Z"
      },
      {
        "duration": 12,
        "start_time": "2023-05-25T09:35:24.961Z"
      },
      {
        "duration": 13,
        "start_time": "2023-05-25T09:35:24.975Z"
      },
      {
        "duration": 9,
        "start_time": "2023-05-25T09:35:24.990Z"
      },
      {
        "duration": 9,
        "start_time": "2023-05-25T09:35:25.001Z"
      },
      {
        "duration": 10,
        "start_time": "2023-05-25T09:35:25.012Z"
      },
      {
        "duration": 42,
        "start_time": "2023-05-25T09:35:25.024Z"
      },
      {
        "duration": 13,
        "start_time": "2023-05-25T09:35:25.069Z"
      },
      {
        "duration": 16,
        "start_time": "2023-05-25T09:35:25.084Z"
      },
      {
        "duration": 13,
        "start_time": "2023-05-25T09:35:25.103Z"
      },
      {
        "duration": 30,
        "start_time": "2023-05-25T09:35:25.118Z"
      },
      {
        "duration": 121,
        "start_time": "2023-05-25T09:35:28.827Z"
      },
      {
        "duration": 658,
        "start_time": "2023-05-25T09:35:51.998Z"
      },
      {
        "duration": 632,
        "start_time": "2023-05-25T09:37:51.669Z"
      },
      {
        "duration": 673,
        "start_time": "2023-05-25T09:37:58.343Z"
      },
      {
        "duration": 666,
        "start_time": "2023-05-25T09:38:10.734Z"
      },
      {
        "duration": 14,
        "start_time": "2023-05-25T09:38:40.983Z"
      },
      {
        "duration": 372,
        "start_time": "2023-05-25T09:38:51.208Z"
      },
      {
        "duration": 601,
        "start_time": "2023-05-25T09:38:54.190Z"
      },
      {
        "duration": 384,
        "start_time": "2023-05-25T09:38:56.744Z"
      },
      {
        "duration": 497,
        "start_time": "2023-05-25T09:38:59.027Z"
      },
      {
        "duration": 460,
        "start_time": "2023-05-25T09:39:05.588Z"
      },
      {
        "duration": 534,
        "start_time": "2023-05-25T09:39:14.527Z"
      },
      {
        "duration": 449,
        "start_time": "2023-05-25T09:39:21.858Z"
      },
      {
        "duration": 1549,
        "start_time": "2023-05-25T20:25:04.438Z"
      },
      {
        "duration": 4,
        "start_time": "2023-05-25T20:25:05.989Z"
      },
      {
        "duration": 344,
        "start_time": "2023-05-25T20:25:05.995Z"
      },
      {
        "duration": 12,
        "start_time": "2023-05-25T20:25:06.342Z"
      },
      {
        "duration": 38,
        "start_time": "2023-05-25T20:25:06.356Z"
      },
      {
        "duration": 25,
        "start_time": "2023-05-25T20:25:06.395Z"
      },
      {
        "duration": 38,
        "start_time": "2023-05-25T20:25:06.422Z"
      },
      {
        "duration": 45,
        "start_time": "2023-05-25T20:25:06.462Z"
      },
      {
        "duration": 23,
        "start_time": "2023-05-25T20:25:06.509Z"
      },
      {
        "duration": 19,
        "start_time": "2023-05-25T20:25:06.536Z"
      },
      {
        "duration": 20,
        "start_time": "2023-05-25T20:25:06.557Z"
      },
      {
        "duration": 42,
        "start_time": "2023-05-25T20:25:06.579Z"
      },
      {
        "duration": 37,
        "start_time": "2023-05-25T20:25:06.623Z"
      },
      {
        "duration": 17,
        "start_time": "2023-05-25T20:25:06.662Z"
      },
      {
        "duration": 41,
        "start_time": "2023-05-25T20:25:06.681Z"
      },
      {
        "duration": 761,
        "start_time": "2023-05-25T20:25:06.724Z"
      },
      {
        "duration": 427,
        "start_time": "2023-05-25T20:25:16.181Z"
      },
      {
        "duration": 481,
        "start_time": "2023-05-25T20:25:31.714Z"
      },
      {
        "duration": 442,
        "start_time": "2023-05-25T20:25:40.879Z"
      },
      {
        "duration": 535,
        "start_time": "2023-05-25T20:26:15.280Z"
      },
      {
        "duration": 412,
        "start_time": "2023-05-25T20:26:19.924Z"
      },
      {
        "duration": 485,
        "start_time": "2023-05-25T20:26:33.842Z"
      },
      {
        "duration": 508,
        "start_time": "2023-05-25T20:26:49.787Z"
      },
      {
        "duration": 538,
        "start_time": "2023-05-25T20:31:14.481Z"
      },
      {
        "duration": 545,
        "start_time": "2023-05-25T20:31:37.041Z"
      },
      {
        "duration": 147,
        "start_time": "2023-05-25T20:33:12.250Z"
      },
      {
        "duration": 20,
        "start_time": "2023-05-25T20:33:19.381Z"
      },
      {
        "duration": 10,
        "start_time": "2023-05-25T20:33:38.344Z"
      },
      {
        "duration": 221,
        "start_time": "2023-05-25T20:33:48.940Z"
      },
      {
        "duration": 248,
        "start_time": "2023-05-25T20:34:22.489Z"
      },
      {
        "duration": 190,
        "start_time": "2023-05-25T20:34:28.446Z"
      },
      {
        "duration": 14,
        "start_time": "2023-05-25T20:35:27.310Z"
      },
      {
        "duration": 8,
        "start_time": "2023-05-25T20:35:40.212Z"
      },
      {
        "duration": 212,
        "start_time": "2023-05-25T20:35:52.641Z"
      },
      {
        "duration": 186,
        "start_time": "2023-05-25T20:36:09.191Z"
      },
      {
        "duration": 168,
        "start_time": "2023-05-25T20:45:39.241Z"
      },
      {
        "duration": 674,
        "start_time": "2023-05-25T20:45:56.231Z"
      },
      {
        "duration": 1707,
        "start_time": "2023-05-25T20:53:18.774Z"
      },
      {
        "duration": 1933,
        "start_time": "2023-05-25T20:53:40.258Z"
      },
      {
        "duration": 32,
        "start_time": "2023-05-25T20:55:34.803Z"
      },
      {
        "duration": 1743,
        "start_time": "2023-05-25T20:56:14.178Z"
      },
      {
        "duration": 73,
        "start_time": "2023-05-25T20:56:31.903Z"
      },
      {
        "duration": 1447,
        "start_time": "2023-05-25T21:05:09.747Z"
      },
      {
        "duration": 4,
        "start_time": "2023-05-25T21:05:11.197Z"
      },
      {
        "duration": 261,
        "start_time": "2023-05-25T21:05:11.203Z"
      },
      {
        "duration": 12,
        "start_time": "2023-05-25T21:05:11.466Z"
      },
      {
        "duration": 46,
        "start_time": "2023-05-25T21:05:11.480Z"
      },
      {
        "duration": 13,
        "start_time": "2023-05-25T21:05:11.528Z"
      },
      {
        "duration": 42,
        "start_time": "2023-05-25T21:05:11.543Z"
      },
      {
        "duration": 46,
        "start_time": "2023-05-25T21:05:11.588Z"
      },
      {
        "duration": 56,
        "start_time": "2023-05-25T21:05:11.635Z"
      },
      {
        "duration": 7,
        "start_time": "2023-05-25T21:05:11.693Z"
      },
      {
        "duration": 33,
        "start_time": "2023-05-25T21:05:11.702Z"
      },
      {
        "duration": 23,
        "start_time": "2023-05-25T21:05:11.737Z"
      },
      {
        "duration": 19,
        "start_time": "2023-05-25T21:05:11.762Z"
      },
      {
        "duration": 21,
        "start_time": "2023-05-25T21:05:11.785Z"
      },
      {
        "duration": 14,
        "start_time": "2023-05-25T21:05:11.808Z"
      },
      {
        "duration": 749,
        "start_time": "2023-05-25T21:05:11.825Z"
      },
      {
        "duration": 467,
        "start_time": "2023-05-25T21:05:12.576Z"
      },
      {
        "duration": 520,
        "start_time": "2023-05-25T21:05:13.046Z"
      },
      {
        "duration": 465,
        "start_time": "2023-05-25T21:05:13.568Z"
      },
      {
        "duration": 535,
        "start_time": "2023-05-25T21:05:14.036Z"
      },
      {
        "duration": 7,
        "start_time": "2023-05-25T21:05:14.573Z"
      },
      {
        "duration": 227,
        "start_time": "2023-05-25T21:05:14.582Z"
      },
      {
        "duration": 4,
        "start_time": "2023-05-25T21:05:14.811Z"
      },
      {
        "duration": 1656,
        "start_time": "2023-05-25T21:05:14.824Z"
      },
      {
        "duration": 0,
        "start_time": "2023-05-25T21:05:16.482Z"
      },
      {
        "duration": 0,
        "start_time": "2023-05-25T21:05:16.483Z"
      },
      {
        "duration": 0,
        "start_time": "2023-05-25T21:05:16.483Z"
      },
      {
        "duration": 0,
        "start_time": "2023-05-25T21:05:16.484Z"
      },
      {
        "duration": 0,
        "start_time": "2023-05-25T21:05:16.486Z"
      },
      {
        "duration": 0,
        "start_time": "2023-05-25T21:05:16.487Z"
      },
      {
        "duration": 0,
        "start_time": "2023-05-25T21:05:16.489Z"
      },
      {
        "duration": 0,
        "start_time": "2023-05-25T21:05:16.491Z"
      },
      {
        "duration": 1376,
        "start_time": "2023-05-25T21:05:55.102Z"
      },
      {
        "duration": 3,
        "start_time": "2023-05-25T21:05:56.480Z"
      },
      {
        "duration": 199,
        "start_time": "2023-05-25T21:05:56.485Z"
      },
      {
        "duration": 11,
        "start_time": "2023-05-25T21:05:56.686Z"
      },
      {
        "duration": 26,
        "start_time": "2023-05-25T21:05:56.700Z"
      },
      {
        "duration": 10,
        "start_time": "2023-05-25T21:05:56.728Z"
      },
      {
        "duration": 31,
        "start_time": "2023-05-25T21:05:56.740Z"
      },
      {
        "duration": 27,
        "start_time": "2023-05-25T21:05:56.772Z"
      },
      {
        "duration": 13,
        "start_time": "2023-05-25T21:05:56.801Z"
      },
      {
        "duration": 37,
        "start_time": "2023-05-25T21:05:56.816Z"
      },
      {
        "duration": 14,
        "start_time": "2023-05-25T21:05:56.854Z"
      },
      {
        "duration": 12,
        "start_time": "2023-05-25T21:05:56.869Z"
      },
      {
        "duration": 16,
        "start_time": "2023-05-25T21:05:56.883Z"
      },
      {
        "duration": 7,
        "start_time": "2023-05-25T21:05:56.901Z"
      },
      {
        "duration": 8,
        "start_time": "2023-05-25T21:05:56.910Z"
      },
      {
        "duration": 749,
        "start_time": "2023-05-25T21:05:56.919Z"
      },
      {
        "duration": 417,
        "start_time": "2023-05-25T21:05:57.671Z"
      },
      {
        "duration": 519,
        "start_time": "2023-05-25T21:05:58.090Z"
      },
      {
        "duration": 531,
        "start_time": "2023-05-25T21:05:58.611Z"
      },
      {
        "duration": 469,
        "start_time": "2023-05-25T21:05:59.144Z"
      },
      {
        "duration": 13,
        "start_time": "2023-05-25T21:05:59.615Z"
      },
      {
        "duration": 213,
        "start_time": "2023-05-25T21:05:59.630Z"
      },
      {
        "duration": 5,
        "start_time": "2023-05-25T21:05:59.845Z"
      },
      {
        "duration": 14,
        "start_time": "2023-05-25T21:05:59.851Z"
      },
      {
        "duration": 224,
        "start_time": "2023-05-25T21:05:59.866Z"
      },
      {
        "duration": 4,
        "start_time": "2023-05-25T21:06:00.092Z"
      },
      {
        "duration": 753,
        "start_time": "2023-05-25T21:06:00.097Z"
      },
      {
        "duration": 12,
        "start_time": "2023-05-25T21:06:00.854Z"
      },
      {
        "duration": 146,
        "start_time": "2023-05-25T21:06:00.868Z"
      },
      {
        "duration": 1495,
        "start_time": "2023-05-25T21:06:01.016Z"
      },
      {
        "duration": 15,
        "start_time": "2023-05-25T21:07:06.347Z"
      },
      {
        "duration": 1234,
        "start_time": "2023-05-26T06:09:42.122Z"
      },
      {
        "duration": 3,
        "start_time": "2023-05-26T06:09:43.358Z"
      },
      {
        "duration": 192,
        "start_time": "2023-05-26T06:09:43.362Z"
      },
      {
        "duration": 11,
        "start_time": "2023-05-26T06:09:43.556Z"
      },
      {
        "duration": 38,
        "start_time": "2023-05-26T06:09:43.569Z"
      },
      {
        "duration": 27,
        "start_time": "2023-05-26T06:09:43.608Z"
      },
      {
        "duration": 44,
        "start_time": "2023-05-26T06:09:43.637Z"
      },
      {
        "duration": 35,
        "start_time": "2023-05-26T06:09:43.683Z"
      },
      {
        "duration": 40,
        "start_time": "2023-05-26T06:09:43.720Z"
      },
      {
        "duration": 15,
        "start_time": "2023-05-26T06:09:43.763Z"
      },
      {
        "duration": 11,
        "start_time": "2023-05-26T06:09:43.779Z"
      },
      {
        "duration": 8,
        "start_time": "2023-05-26T06:09:43.791Z"
      },
      {
        "duration": 11,
        "start_time": "2023-05-26T06:09:43.800Z"
      },
      {
        "duration": 4,
        "start_time": "2023-05-26T06:09:43.813Z"
      },
      {
        "duration": 7,
        "start_time": "2023-05-26T06:09:43.818Z"
      },
      {
        "duration": 648,
        "start_time": "2023-05-26T06:09:43.827Z"
      },
      {
        "duration": 373,
        "start_time": "2023-05-26T06:09:44.477Z"
      },
      {
        "duration": 467,
        "start_time": "2023-05-26T06:09:44.852Z"
      },
      {
        "duration": 392,
        "start_time": "2023-05-26T06:09:45.321Z"
      },
      {
        "duration": 485,
        "start_time": "2023-05-26T06:09:45.714Z"
      },
      {
        "duration": 6,
        "start_time": "2023-05-26T06:09:46.201Z"
      },
      {
        "duration": 201,
        "start_time": "2023-05-26T06:09:46.209Z"
      },
      {
        "duration": 5,
        "start_time": "2023-05-26T06:09:46.412Z"
      },
      {
        "duration": 13,
        "start_time": "2023-05-26T06:09:46.418Z"
      },
      {
        "duration": 181,
        "start_time": "2023-05-26T06:09:46.433Z"
      },
      {
        "duration": 9,
        "start_time": "2023-05-26T06:09:46.616Z"
      },
      {
        "duration": 544,
        "start_time": "2023-05-26T06:09:46.627Z"
      },
      {
        "duration": 10,
        "start_time": "2023-05-26T06:09:47.174Z"
      },
      {
        "duration": 48,
        "start_time": "2023-05-26T06:09:47.185Z"
      },
      {
        "duration": 13,
        "start_time": "2023-05-26T06:09:47.234Z"
      }
    ],
    "kernelspec": {
      "display_name": "Python 3 (ipykernel)",
      "language": "python",
      "name": "python3"
    },
    "language_info": {
      "codemirror_mode": {
        "name": "ipython",
        "version": 3
      },
      "file_extension": ".py",
      "mimetype": "text/x-python",
      "name": "python",
      "nbconvert_exporter": "python",
      "pygments_lexer": "ipython3",
      "version": "3.9.5"
    },
    "toc": {
      "base_numbering": 1,
      "nav_menu": {},
      "number_sections": true,
      "sideBar": true,
      "skip_h1_title": true,
      "title_cell": "Table of Contents",
      "title_sidebar": "Contents",
      "toc_cell": false,
      "toc_position": {},
      "toc_section_display": true,
      "toc_window_display": false
    },
    "colab": {
      "provenance": []
    }
  },
  "nbformat": 4,
  "nbformat_minor": 0
}